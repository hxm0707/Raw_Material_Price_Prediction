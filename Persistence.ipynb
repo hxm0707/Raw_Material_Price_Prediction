{
  "nbformat": 4,
  "nbformat_minor": 0,
  "metadata": {
    "colab": {
      "provenance": [],
      "authorship_tag": "ABX9TyPKaE29rioollzpugvEsnkj",
      "include_colab_link": true
    },
    "kernelspec": {
      "name": "python3",
      "display_name": "Python 3"
    },
    "language_info": {
      "name": "python"
    }
  },
  "cells": [
    {
      "cell_type": "markdown",
      "metadata": {
        "id": "view-in-github",
        "colab_type": "text"
      },
      "source": [
        "<a href=\"https://colab.research.google.com/github/hxm0707/Raw_Material_Price_Prediction/blob/main/Persistence.ipynb\" target=\"_parent\"><img src=\"https://colab.research.google.com/assets/colab-badge.svg\" alt=\"Open In Colab\"/></a>"
      ]
    },
    {
      "cell_type": "code",
      "execution_count": null,
      "metadata": {
        "id": "Hrr6v3TOFN5X"
      },
      "outputs": [],
      "source": [
        "import pandas as pd\n",
        "from sklearn.linear_model import Lasso\n",
        "from sklearn.preprocessing import StandardScaler\n",
        "from sklearn.model_selection import train_test_split, RandomizedSearchCV\n",
        "from sklearn.metrics import mean_absolute_percentage_error\n",
        "import numpy as np"
      ]
    },
    {
      "cell_type": "code",
      "source": [
        "from google.colab import drive\n",
        "drive.mount('/content/drive')"
      ],
      "metadata": {
        "colab": {
          "base_uri": "https://localhost:8080/"
        },
        "id": "-RwR4q52VHCS",
        "outputId": "13a4c202-cd40-4b52-c7e1-caf23839ea0f"
      },
      "execution_count": null,
      "outputs": [
        {
          "output_type": "stream",
          "name": "stdout",
          "text": [
            "Drive already mounted at /content/drive; to attempt to forcibly remount, call drive.mount(\"/content/drive\", force_remount=True).\n"
          ]
        }
      ]
    },
    {
      "cell_type": "code",
      "source": [
        "test_periods = [\n",
        "    ('2019-01-01', '2019-07-01'),\n",
        "    ('2019-07-01', '2020-01-01'),\n",
        "    ('2020-01-01', '2020-07-01'),\n",
        "    ('2020-07-01', '2021-01-01'),\n",
        "    ('2021-01-01', '2021-07-01'),\n",
        "    ('2021-07-01', '2022-01-01'),\n",
        "    ('2022-01-01', '2022-07-01'),\n",
        "    ('2022-07-01', '2023-01-01'),\n",
        "    ('2023-01-01', '2023-07-01'),\n",
        "    ('2023-07-01', '2024-01-01'),\n",
        "]"
      ],
      "metadata": {
        "id": "OcLqU5vbL0Qn"
      },
      "execution_count": null,
      "outputs": []
    },
    {
      "cell_type": "code",
      "source": [
        "def calculate_mape_1(test_start, test_end):\n",
        "  test_df = feature_df[(feature_df['Time'] >= test_start) & (feature_df['Time'] < test_end)]\n",
        "  mape = round(mean_absolute_percentage_error(test_df['Average_price'],test_df['AR_1']), 3)\n",
        "  mape = mape * 100\n",
        "  return (mape)"
      ],
      "metadata": {
        "id": "vwan5RQtF9o-"
      },
      "execution_count": null,
      "outputs": []
    },
    {
      "cell_type": "code",
      "source": [
        "def calculate_mape_3(test_start, test_end):\n",
        "  test_df = feature_df[(feature_df['Time'] >= test_start) & (feature_df['Time'] < test_end)]\n",
        "  mape = round(mean_absolute_percentage_error(test_df['Average_price'],test_df['AR_3']), 3)\n",
        "  mape = mape * 100\n",
        "  return (mape)"
      ],
      "metadata": {
        "id": "ug7kcJQ7CoXd"
      },
      "execution_count": null,
      "outputs": []
    },
    {
      "cell_type": "code",
      "source": [
        "def calculate_mape_6(test_start, test_end):\n",
        "  test_df = feature_df[(feature_df['Time'] >= test_start) & (feature_df['Time'] < test_end)]\n",
        "  mape = round(mean_absolute_percentage_error(test_df['Average_price'],test_df['AR_6']), 3)\n",
        "  mape = mape * 100\n",
        "  return (mape)"
      ],
      "metadata": {
        "id": "bJSN9-mZb6BC"
      },
      "execution_count": null,
      "outputs": []
    },
    {
      "cell_type": "markdown",
      "source": [
        "# Alkalis"
      ],
      "metadata": {
        "id": "TDXEiWNRBv9R"
      }
    },
    {
      "cell_type": "code",
      "source": [
        "feature_df = pd.read_csv('/content/drive/MyDrive/Colab Notebooks/Thesis/dataframe/alkalis_feature.csv',index_col=0)\n",
        "feature_df['Time'] = pd.to_datetime(feature_df['Time'])\n",
        "print(feature_df)"
      ],
      "metadata": {
        "id": "haTO1095FgC8",
        "colab": {
          "base_uri": "https://localhost:8080/"
        },
        "outputId": "dc9d0daf-e3bb-4bd9-ac36-67dd46d5fe75"
      },
      "execution_count": null,
      "outputs": [
        {
          "output_type": "stream",
          "name": "stdout",
          "text": [
            "     RM02/0001  RM02/0002  Year  Month       Time Group Description  \\\n",
            "24       False       True  2016      1 2016-01-31           alkalis   \n",
            "25        True      False  2016      1 2016-01-31           alkalis   \n",
            "26       False       True  2016      2 2016-02-29           alkalis   \n",
            "27        True      False  2016      2 2016-02-29           alkalis   \n",
            "28       False       True  2016      3 2016-03-31           alkalis   \n",
            "..         ...        ...   ...    ...        ...               ...   \n",
            "211       True      False  2023     10 2023-10-31           alkalis   \n",
            "212      False       True  2023     11 2023-11-30           alkalis   \n",
            "213       True      False  2023     11 2023-11-30           alkalis   \n",
            "214      False       True  2023     12 2023-12-20           alkalis   \n",
            "215       True      False  2023     12 2023-12-31           alkalis   \n",
            "\n",
            "     Average_price  PNGASEUUSDM_1  Electricity_1  PNGASEUUSDM_2  ...  \\\n",
            "24        0.409500       5.810000          48.38       5.870000  ...   \n",
            "25        0.178381       5.810000          48.38       5.870000  ...   \n",
            "26        0.382000       5.090000          41.42       5.810000  ...   \n",
            "27        0.172634       5.090000          41.42       5.810000  ...   \n",
            "28        0.385000       4.790000          38.14       5.090000  ...   \n",
            "..             ...            ...            ...            ...  ...   \n",
            "211       0.334423      11.427930          89.17      10.717421  ...   \n",
            "212       0.591923      13.388843         101.92      11.427930  ...   \n",
            "213       0.330826      13.388843         101.92      11.427930  ...   \n",
            "214       0.575871      13.714316         115.07      13.388843  ...   \n",
            "215       0.334498      13.714316         115.07      13.388843  ...   \n",
            "\n",
            "         AR_3      AR_4      AR_5      AR_6      AR_7      AR_8      AR_9  \\\n",
            "24   0.463000  0.468750  0.460000  0.466667  0.441667  0.446667  0.446667   \n",
            "25   0.179496  0.180640  0.182136  0.180389  0.183176  0.184364  0.171045   \n",
            "26   0.455333  0.463000  0.468750  0.460000  0.466667  0.441667  0.446667   \n",
            "27   0.178768  0.179496  0.180640  0.182136  0.180389  0.183176  0.184364   \n",
            "28   0.408000  0.455333  0.463000  0.468750  0.460000  0.466667  0.441667   \n",
            "..        ...       ...       ...       ...       ...       ...       ...   \n",
            "211  0.353267  0.357807  0.380117  0.536686  0.627905  0.652717  0.817147   \n",
            "212  0.754010  0.873935  0.903387  0.998419  1.322798  1.478300  1.648967   \n",
            "213  0.353902  0.353267  0.357807  0.380117  0.536686  0.627905  0.652717   \n",
            "214  0.713726  0.754010  0.873935  0.903387  0.998419  1.322798  1.478300   \n",
            "215  0.329119  0.353902  0.353267  0.357807  0.380117  0.536686  0.627905   \n",
            "\n",
            "        AR_10     AR_11     AR_12  \n",
            "24   0.443750  0.446667  0.446667  \n",
            "25   0.169300  0.169500  0.168273  \n",
            "26   0.446667  0.443750  0.446667  \n",
            "27   0.171045  0.169300  0.169500  \n",
            "28   0.446667  0.446667  0.443750  \n",
            "..        ...       ...       ...  \n",
            "211  0.954066  1.127491  1.058680  \n",
            "212  1.664912  1.807359  1.810897  \n",
            "213  0.817147  0.954066  1.127491  \n",
            "214  1.648967  1.664912  1.807359  \n",
            "215  0.652717  0.817147  0.954066  \n",
            "\n",
            "[192 rows x 43 columns]\n"
          ]
        }
      ]
    },
    {
      "cell_type": "code",
      "source": [
        "df_0001 = feature_df[feature_df['RM02/0001'] == 1]\n",
        "print(df_0001.info())"
      ],
      "metadata": {
        "id": "yxUjcQdLKJ_U",
        "colab": {
          "base_uri": "https://localhost:8080/"
        },
        "outputId": "847263a2-c3f5-40f8-936e-ca31d1958863"
      },
      "execution_count": null,
      "outputs": [
        {
          "output_type": "stream",
          "name": "stdout",
          "text": [
            "<class 'pandas.core.frame.DataFrame'>\n",
            "Index: 96 entries, 25 to 215\n",
            "Data columns (total 43 columns):\n",
            " #   Column             Non-Null Count  Dtype         \n",
            "---  ------             --------------  -----         \n",
            " 0   RM02/0001          96 non-null     bool          \n",
            " 1   RM02/0002          96 non-null     bool          \n",
            " 2   Year               96 non-null     int64         \n",
            " 3   Month              96 non-null     int64         \n",
            " 4   Time               96 non-null     datetime64[ns]\n",
            " 5   Group Description  96 non-null     object        \n",
            " 6   Average_price      96 non-null     float64       \n",
            " 7   PNGASEUUSDM_1      96 non-null     float64       \n",
            " 8   Electricity_1      96 non-null     float64       \n",
            " 9   PNGASEUUSDM_2      96 non-null     float64       \n",
            " 10  Electricity_2      96 non-null     float64       \n",
            " 11  PNGASEUUSDM_3      96 non-null     float64       \n",
            " 12  Electricity_3      96 non-null     float64       \n",
            " 13  PNGASEUUSDM_4      96 non-null     float64       \n",
            " 14  Electricity_4      96 non-null     float64       \n",
            " 15  PNGASEUUSDM_5      96 non-null     float64       \n",
            " 16  Electricity_5      96 non-null     float64       \n",
            " 17  PNGASEUUSDM_6      96 non-null     float64       \n",
            " 18  Electricity_6      96 non-null     float64       \n",
            " 19  PNGASEUUSDM_7      96 non-null     float64       \n",
            " 20  Electricity_7      96 non-null     float64       \n",
            " 21  PNGASEUUSDM_8      96 non-null     float64       \n",
            " 22  Electricity_8      96 non-null     float64       \n",
            " 23  PNGASEUUSDM_9      96 non-null     float64       \n",
            " 24  Electricity_9      96 non-null     float64       \n",
            " 25  PNGASEUUSDM_10     96 non-null     float64       \n",
            " 26  Electricity_10     96 non-null     float64       \n",
            " 27  PNGASEUUSDM_11     96 non-null     float64       \n",
            " 28  Electricity_11     96 non-null     float64       \n",
            " 29  PNGASEUUSDM_12     96 non-null     float64       \n",
            " 30  Electricity_12     96 non-null     float64       \n",
            " 31  AR_1               96 non-null     float64       \n",
            " 32  AR_2               96 non-null     float64       \n",
            " 33  AR_3               96 non-null     float64       \n",
            " 34  AR_4               96 non-null     float64       \n",
            " 35  AR_5               96 non-null     float64       \n",
            " 36  AR_6               96 non-null     float64       \n",
            " 37  AR_7               96 non-null     float64       \n",
            " 38  AR_8               96 non-null     float64       \n",
            " 39  AR_9               96 non-null     float64       \n",
            " 40  AR_10              96 non-null     float64       \n",
            " 41  AR_11              96 non-null     float64       \n",
            " 42  AR_12              96 non-null     float64       \n",
            "dtypes: bool(2), datetime64[ns](1), float64(37), int64(2), object(1)\n",
            "memory usage: 31.7+ KB\n",
            "None\n"
          ]
        }
      ]
    },
    {
      "cell_type": "code",
      "source": [
        "df_0002 = feature_df[feature_df['RM02/0002'] == 1]\n",
        "print(df_0002.info())"
      ],
      "metadata": {
        "id": "AW2knezKMSQo",
        "colab": {
          "base_uri": "https://localhost:8080/"
        },
        "outputId": "05fcabd0-06b1-410e-83ed-ea2b0e5ae6f6"
      },
      "execution_count": null,
      "outputs": [
        {
          "output_type": "stream",
          "name": "stdout",
          "text": [
            "<class 'pandas.core.frame.DataFrame'>\n",
            "Index: 96 entries, 24 to 214\n",
            "Data columns (total 43 columns):\n",
            " #   Column             Non-Null Count  Dtype         \n",
            "---  ------             --------------  -----         \n",
            " 0   RM02/0001          96 non-null     bool          \n",
            " 1   RM02/0002          96 non-null     bool          \n",
            " 2   Year               96 non-null     int64         \n",
            " 3   Month              96 non-null     int64         \n",
            " 4   Time               96 non-null     datetime64[ns]\n",
            " 5   Group Description  96 non-null     object        \n",
            " 6   Average_price      96 non-null     float64       \n",
            " 7   PNGASEUUSDM_1      96 non-null     float64       \n",
            " 8   Electricity_1      96 non-null     float64       \n",
            " 9   PNGASEUUSDM_2      96 non-null     float64       \n",
            " 10  Electricity_2      96 non-null     float64       \n",
            " 11  PNGASEUUSDM_3      96 non-null     float64       \n",
            " 12  Electricity_3      96 non-null     float64       \n",
            " 13  PNGASEUUSDM_4      96 non-null     float64       \n",
            " 14  Electricity_4      96 non-null     float64       \n",
            " 15  PNGASEUUSDM_5      96 non-null     float64       \n",
            " 16  Electricity_5      96 non-null     float64       \n",
            " 17  PNGASEUUSDM_6      96 non-null     float64       \n",
            " 18  Electricity_6      96 non-null     float64       \n",
            " 19  PNGASEUUSDM_7      96 non-null     float64       \n",
            " 20  Electricity_7      96 non-null     float64       \n",
            " 21  PNGASEUUSDM_8      96 non-null     float64       \n",
            " 22  Electricity_8      96 non-null     float64       \n",
            " 23  PNGASEUUSDM_9      96 non-null     float64       \n",
            " 24  Electricity_9      96 non-null     float64       \n",
            " 25  PNGASEUUSDM_10     96 non-null     float64       \n",
            " 26  Electricity_10     96 non-null     float64       \n",
            " 27  PNGASEUUSDM_11     96 non-null     float64       \n",
            " 28  Electricity_11     96 non-null     float64       \n",
            " 29  PNGASEUUSDM_12     96 non-null     float64       \n",
            " 30  Electricity_12     96 non-null     float64       \n",
            " 31  AR_1               96 non-null     float64       \n",
            " 32  AR_2               96 non-null     float64       \n",
            " 33  AR_3               96 non-null     float64       \n",
            " 34  AR_4               96 non-null     float64       \n",
            " 35  AR_5               96 non-null     float64       \n",
            " 36  AR_6               96 non-null     float64       \n",
            " 37  AR_7               96 non-null     float64       \n",
            " 38  AR_8               96 non-null     float64       \n",
            " 39  AR_9               96 non-null     float64       \n",
            " 40  AR_10              96 non-null     float64       \n",
            " 41  AR_11              96 non-null     float64       \n",
            " 42  AR_12              96 non-null     float64       \n",
            "dtypes: bool(2), datetime64[ns](1), float64(37), int64(2), object(1)\n",
            "memory usage: 31.7+ KB\n",
            "None\n"
          ]
        }
      ]
    },
    {
      "cell_type": "markdown",
      "source": [
        "## 0001"
      ],
      "metadata": {
        "id": "VKpXeZyRKqvN"
      }
    },
    {
      "cell_type": "code",
      "source": [
        "feature_df = df_0001"
      ],
      "metadata": {
        "id": "qDLPmHmLKtDo"
      },
      "execution_count": null,
      "outputs": []
    },
    {
      "cell_type": "markdown",
      "source": [
        "### 1-month prediction"
      ],
      "metadata": {
        "id": "hpbYMFy0Ky6_"
      }
    },
    {
      "cell_type": "code",
      "source": [
        "mape_values = []\n",
        "for start, end in test_periods:\n",
        "    mape = calculate_mape_1(start, end)\n",
        "    mape_values.append(mape)\n",
        "    print(f\"MAPE from {start} to {end}: {mape:.1f}\")"
      ],
      "metadata": {
        "id": "-W84CREvMPCL",
        "colab": {
          "base_uri": "https://localhost:8080/"
        },
        "outputId": "67062382-455e-4e29-991d-524743861160"
      },
      "execution_count": null,
      "outputs": [
        {
          "output_type": "stream",
          "name": "stdout",
          "text": [
            "MAPE from 2019-01-01 to 2019-07-01: 2.6\n",
            "MAPE from 2019-07-01 to 2020-01-01: 3.4\n",
            "MAPE from 2020-01-01 to 2020-07-01: 6.0\n",
            "MAPE from 2020-07-01 to 2021-01-01: 5.5\n",
            "MAPE from 2021-01-01 to 2021-07-01: 4.1\n",
            "MAPE from 2021-07-01 to 2022-01-01: 7.8\n",
            "MAPE from 2022-01-01 to 2022-07-01: 9.6\n",
            "MAPE from 2022-07-01 to 2023-01-01: 14.1\n",
            "MAPE from 2023-01-01 to 2023-07-01: 18.4\n",
            "MAPE from 2023-07-01 to 2024-01-01: 2.1\n"
          ]
        }
      ]
    },
    {
      "cell_type": "code",
      "source": [
        "average_mape = np.mean(mape_values)\n",
        "print(f\"Average MAPE: {average_mape:.1f}\")"
      ],
      "metadata": {
        "id": "GDKlZEd_MZO2",
        "colab": {
          "base_uri": "https://localhost:8080/"
        },
        "outputId": "ab550864-8b7c-498f-b9cf-c3ee430fb0d0"
      },
      "execution_count": null,
      "outputs": [
        {
          "output_type": "stream",
          "name": "stdout",
          "text": [
            "Average MAPE: 7.4\n"
          ]
        }
      ]
    },
    {
      "cell_type": "markdown",
      "source": [
        "### 3-month prediction\n"
      ],
      "metadata": {
        "id": "XVVNycP3VlkM"
      }
    },
    {
      "cell_type": "code",
      "source": [
        "mape_values = []\n",
        "for start, end in test_periods:\n",
        "    mape = calculate_mape_3(start, end)\n",
        "    mape_values.append(mape)\n",
        "    print(f\"MAPE from {start} to {end}: {mape:.1f}\")"
      ],
      "metadata": {
        "id": "Ivd5vIFmaG09",
        "colab": {
          "base_uri": "https://localhost:8080/"
        },
        "outputId": "cc2884aa-0045-4e3a-f25c-c8350ef04f6a"
      },
      "execution_count": null,
      "outputs": [
        {
          "output_type": "stream",
          "name": "stdout",
          "text": [
            "MAPE from 2019-01-01 to 2019-07-01: 6.5\n",
            "MAPE from 2019-07-01 to 2020-01-01: 9.8\n",
            "MAPE from 2020-01-01 to 2020-07-01: 12.9\n",
            "MAPE from 2020-07-01 to 2021-01-01: 13.0\n",
            "MAPE from 2021-01-01 to 2021-07-01: 5.1\n",
            "MAPE from 2021-07-01 to 2022-01-01: 18.4\n",
            "MAPE from 2022-01-01 to 2022-07-01: 27.4\n",
            "MAPE from 2022-07-01 to 2023-01-01: 30.1\n",
            "MAPE from 2023-01-01 to 2023-07-01: 58.9\n",
            "MAPE from 2023-07-01 to 2024-01-01: 13.7\n"
          ]
        }
      ]
    },
    {
      "cell_type": "code",
      "source": [
        "average_mape = np.mean(mape_values)\n",
        "print(f\"Average MAPE: {average_mape:.1f}\")"
      ],
      "metadata": {
        "colab": {
          "base_uri": "https://localhost:8080/"
        },
        "id": "mItqOB7EaJaT",
        "outputId": "00a80198-d32f-42a9-e107-f09f6d4d557b"
      },
      "execution_count": null,
      "outputs": [
        {
          "output_type": "stream",
          "name": "stdout",
          "text": [
            "Average MAPE: 19.6\n"
          ]
        }
      ]
    },
    {
      "cell_type": "markdown",
      "source": [
        "### 6-month prediction"
      ],
      "metadata": {
        "id": "UCybluNnb4C9"
      }
    },
    {
      "cell_type": "code",
      "source": [
        "mape_values = []\n",
        "for start, end in test_periods:\n",
        "    mape = calculate_mape_6(start, end)\n",
        "    mape_values.append(mape)\n",
        "    print(f\"MAPE from {start} to {end}: {mape:.1f}\")"
      ],
      "metadata": {
        "id": "uo3_8_Z4cBUN",
        "colab": {
          "base_uri": "https://localhost:8080/"
        },
        "outputId": "e91f7e7c-9711-4d56-db88-722325f3fb33"
      },
      "execution_count": null,
      "outputs": [
        {
          "output_type": "stream",
          "name": "stdout",
          "text": [
            "MAPE from 2019-01-01 to 2019-07-01: 8.1\n",
            "MAPE from 2019-07-01 to 2020-01-01: 22.2\n",
            "MAPE from 2020-01-01 to 2020-07-01: 11.1\n",
            "MAPE from 2020-07-01 to 2021-01-01: 11.7\n",
            "MAPE from 2021-01-01 to 2021-07-01: 13.3\n",
            "MAPE from 2021-07-01 to 2022-01-01: 23.7\n",
            "MAPE from 2022-01-01 to 2022-07-01: 45.7\n",
            "MAPE from 2022-07-01 to 2023-01-01: 47.5\n",
            "MAPE from 2023-01-01 to 2023-07-01: 86.5\n",
            "MAPE from 2023-07-01 to 2024-01-01: 64.8\n"
          ]
        }
      ]
    },
    {
      "cell_type": "code",
      "source": [
        "average_mape = np.mean(mape_values)\n",
        "print(f\"Average MAPE: {average_mape:.1f}\")"
      ],
      "metadata": {
        "colab": {
          "base_uri": "https://localhost:8080/"
        },
        "id": "EPztBxN1cBzA",
        "outputId": "73492497-1690-4eac-eab9-489a77105c74"
      },
      "execution_count": null,
      "outputs": [
        {
          "output_type": "stream",
          "name": "stdout",
          "text": [
            "Average MAPE: 33.5\n"
          ]
        }
      ]
    },
    {
      "cell_type": "markdown",
      "source": [
        "## 0002"
      ],
      "metadata": {
        "id": "NeslsGCiEOuG"
      }
    },
    {
      "cell_type": "code",
      "source": [
        "feature_df = df_0002"
      ],
      "metadata": {
        "id": "RWx16ZDYEOuU"
      },
      "execution_count": null,
      "outputs": []
    },
    {
      "cell_type": "markdown",
      "source": [
        "### 1-month prediction"
      ],
      "metadata": {
        "id": "AlWVC4BCEOuV"
      }
    },
    {
      "cell_type": "code",
      "source": [
        "mape_values = []\n",
        "for start, end in test_periods:\n",
        "    mape = calculate_mape_1(start, end)\n",
        "    mape_values.append(mape)\n",
        "    print(f\"MAPE from {start} to {end}: {mape:.1f}\")"
      ],
      "metadata": {
        "colab": {
          "base_uri": "https://localhost:8080/"
        },
        "outputId": "d07b0393-d9a7-4267-cb2f-0765b36be780",
        "id": "0hyNlHVpEOuV"
      },
      "execution_count": null,
      "outputs": [
        {
          "output_type": "stream",
          "name": "stdout",
          "text": [
            "MAPE from 2019-01-01 to 2019-07-01: 8.1\n",
            "MAPE from 2019-07-01 to 2020-01-01: 5.6\n",
            "MAPE from 2020-01-01 to 2020-07-01: 7.8\n",
            "MAPE from 2020-07-01 to 2021-01-01: 4.8\n",
            "MAPE from 2021-01-01 to 2021-07-01: 6.8\n",
            "MAPE from 2021-07-01 to 2022-01-01: 7.0\n",
            "MAPE from 2022-01-01 to 2022-07-01: 11.4\n",
            "MAPE from 2022-07-01 to 2023-01-01: 6.0\n",
            "MAPE from 2023-01-01 to 2023-07-01: 12.6\n",
            "MAPE from 2023-07-01 to 2024-01-01: 8.0\n"
          ]
        }
      ]
    },
    {
      "cell_type": "code",
      "source": [
        "average_mape = np.mean(mape_values)\n",
        "print(f\"Average MAPE: {average_mape:.1f}\")"
      ],
      "metadata": {
        "colab": {
          "base_uri": "https://localhost:8080/"
        },
        "outputId": "c6cf6806-ddb1-445b-f828-8eeac29c8b5a",
        "id": "wS-U4ofiEOuV"
      },
      "execution_count": null,
      "outputs": [
        {
          "output_type": "stream",
          "name": "stdout",
          "text": [
            "Average MAPE: 7.8\n"
          ]
        }
      ]
    },
    {
      "cell_type": "markdown",
      "source": [
        "### 3-month prediction\n"
      ],
      "metadata": {
        "id": "mIwJNiUdEOuV"
      }
    },
    {
      "cell_type": "code",
      "source": [
        "mape_values = []\n",
        "for start, end in test_periods:\n",
        "    mape = calculate_mape_3(start, end)\n",
        "    mape_values.append(mape)\n",
        "    print(f\"MAPE from {start} to {end}: {mape:.1f}\")"
      ],
      "metadata": {
        "colab": {
          "base_uri": "https://localhost:8080/"
        },
        "outputId": "3efd1395-ebd9-4787-d942-3d1dbd06d768",
        "id": "hTt-69nMEOuV"
      },
      "execution_count": null,
      "outputs": [
        {
          "output_type": "stream",
          "name": "stdout",
          "text": [
            "MAPE from 2019-01-01 to 2019-07-01: 9.2\n",
            "MAPE from 2019-07-01 to 2020-01-01: 7.3\n",
            "MAPE from 2020-01-01 to 2020-07-01: 7.7\n",
            "MAPE from 2020-07-01 to 2021-01-01: 5.2\n",
            "MAPE from 2021-01-01 to 2021-07-01: 8.1\n",
            "MAPE from 2021-07-01 to 2022-01-01: 13.5\n",
            "MAPE from 2022-01-01 to 2022-07-01: 32.9\n",
            "MAPE from 2022-07-01 to 2023-01-01: 14.6\n",
            "MAPE from 2023-01-01 to 2023-07-01: 31.9\n",
            "MAPE from 2023-07-01 to 2024-01-01: 34.1\n"
          ]
        }
      ]
    },
    {
      "cell_type": "code",
      "source": [
        "average_mape = np.mean(mape_values)\n",
        "print(f\"Average MAPE: {average_mape:.1f}\")"
      ],
      "metadata": {
        "colab": {
          "base_uri": "https://localhost:8080/"
        },
        "outputId": "fd80f6f5-e3b1-4b63-fad2-3ad40f6218af",
        "id": "tMkLLTL1EOuV"
      },
      "execution_count": null,
      "outputs": [
        {
          "output_type": "stream",
          "name": "stdout",
          "text": [
            "Average MAPE: 16.4\n"
          ]
        }
      ]
    },
    {
      "cell_type": "markdown",
      "source": [
        "### 6-month prediction"
      ],
      "metadata": {
        "id": "pCbHR0V5EOuV"
      }
    },
    {
      "cell_type": "code",
      "source": [
        "mape_values = []\n",
        "for start, end in test_periods:\n",
        "    mape = calculate_mape_6(start, end)\n",
        "    mape_values.append(mape)\n",
        "    print(f\"MAPE from {start} to {end}: {mape:.1f}\")"
      ],
      "metadata": {
        "colab": {
          "base_uri": "https://localhost:8080/"
        },
        "outputId": "55e4db0d-f25f-48c8-f43e-d6e9775be576",
        "id": "NVN10qG1EOuV"
      },
      "execution_count": null,
      "outputs": [
        {
          "output_type": "stream",
          "name": "stdout",
          "text": [
            "MAPE from 2019-01-01 to 2019-07-01: 8.0\n",
            "MAPE from 2019-07-01 to 2020-01-01: 10.4\n",
            "MAPE from 2020-01-01 to 2020-07-01: 8.2\n",
            "MAPE from 2020-07-01 to 2021-01-01: 5.3\n",
            "MAPE from 2021-01-01 to 2021-07-01: 8.9\n",
            "MAPE from 2021-07-01 to 2022-01-01: 17.6\n",
            "MAPE from 2022-01-01 to 2022-07-01: 51.5\n",
            "MAPE from 2022-07-01 to 2023-01-01: 36.9\n",
            "MAPE from 2023-01-01 to 2023-07-01: 40.7\n",
            "MAPE from 2023-07-01 to 2024-01-01: 93.0\n"
          ]
        }
      ]
    },
    {
      "cell_type": "code",
      "source": [
        "average_mape = np.mean(mape_values)\n",
        "print(f\"Average MAPE: {average_mape:.1f}\")"
      ],
      "metadata": {
        "colab": {
          "base_uri": "https://localhost:8080/"
        },
        "outputId": "72b9b974-570b-4e8c-82cb-32d2bdab3f3b",
        "id": "IZEoT2Y2EOuV"
      },
      "execution_count": null,
      "outputs": [
        {
          "output_type": "stream",
          "name": "stdout",
          "text": [
            "Average MAPE: 28.1\n"
          ]
        }
      ]
    },
    {
      "cell_type": "markdown",
      "source": [
        "# Bleaching Agent"
      ],
      "metadata": {
        "id": "P00Y4ydeFOfs"
      }
    },
    {
      "cell_type": "code",
      "source": [
        "feature_df = pd.read_csv('/content/drive/MyDrive/Colab Notebooks/Thesis/dataframe/bleaching agent_feature.csv',index_col=0)\n",
        "feature_df['Time'] = pd.to_datetime(feature_df['Time'])\n",
        "print(feature_df)"
      ],
      "metadata": {
        "colab": {
          "base_uri": "https://localhost:8080/"
        },
        "outputId": "23969247-1464-4884-847c-3db33d4b8dd7",
        "id": "E6qWtgBmFOft"
      },
      "execution_count": null,
      "outputs": [
        {
          "output_type": "stream",
          "name": "stdout",
          "text": [
            "     RM04/0001  RM04/0006  Year  Month       Time Group Description  \\\n",
            "12       False       True  2016      1 2016-01-31   bleaching agent   \n",
            "13       False       True  2016      2 2016-02-29   bleaching agent   \n",
            "14       False       True  2016      3 2016-03-31   bleaching agent   \n",
            "15       False       True  2016      4 2016-04-30   bleaching agent   \n",
            "16       False       True  2016      5 2016-05-31   bleaching agent   \n",
            "..         ...        ...   ...    ...        ...               ...   \n",
            "213       True      False  2023      8 2023-08-31   bleaching agent   \n",
            "214       True      False  2023      9 2023-09-30   bleaching agent   \n",
            "215       True      False  2023     10 2023-10-31   bleaching agent   \n",
            "216       True      False  2023     11 2023-11-30   bleaching agent   \n",
            "217       True      False  2023     12 2023-12-31   bleaching agent   \n",
            "\n",
            "     Average_price  PNGASEUUSDM_1  Electricity_1  PNGASEUUSDM_2  ...  \\\n",
            "12        0.130089       5.810000          48.38       5.870000  ...   \n",
            "13        0.110000       5.090000          41.42       5.810000  ...   \n",
            "14        0.122500       4.790000          38.14       5.090000  ...   \n",
            "15        0.123833       4.090000          28.95       4.790000  ...   \n",
            "16        0.127286       4.020000          25.25       4.090000  ...   \n",
            "..             ...            ...            ...            ...  ...   \n",
            "213       0.387688       9.611719          87.58      10.293732  ...   \n",
            "214       0.372093      10.717421          96.46       9.611719  ...   \n",
            "215       0.386432      11.427930          89.17      10.717421  ...   \n",
            "216       0.377390      13.388843         101.92      11.427930  ...   \n",
            "217       0.388208      13.714316         115.07      13.388843  ...   \n",
            "\n",
            "         AR_3      AR_4      AR_5      AR_6      AR_7      AR_8      AR_9  \\\n",
            "12   0.132500  0.146000  0.122857  0.110000  0.128000  0.132500  0.132500   \n",
            "13   0.122857  0.132500  0.146000  0.122857  0.110000  0.128000  0.132500   \n",
            "14   0.110000  0.122857  0.132500  0.146000  0.122857  0.110000  0.128000   \n",
            "15   0.130089  0.110000  0.122857  0.132500  0.146000  0.122857  0.110000   \n",
            "16   0.110000  0.130089  0.110000  0.122857  0.132500  0.146000  0.122857   \n",
            "..        ...       ...       ...       ...       ...       ...       ...   \n",
            "213  0.423318  0.425217  0.472389  0.503297  0.565345  0.583380  0.503474   \n",
            "214  0.421539  0.423318  0.425217  0.472389  0.503297  0.565345  0.583380   \n",
            "215  0.394300  0.421539  0.423318  0.425217  0.472389  0.503297  0.565345   \n",
            "216  0.387688  0.394300  0.421539  0.423318  0.425217  0.472389  0.503297   \n",
            "217  0.372093  0.387688  0.394300  0.421539  0.423318  0.425217  0.472389   \n",
            "\n",
            "        AR_10     AR_11     AR_12  \n",
            "12   0.132500  0.128000  0.132500  \n",
            "13   0.132500  0.132500  0.128000  \n",
            "14   0.132500  0.132500  0.132500  \n",
            "15   0.128000  0.132500  0.132500  \n",
            "16   0.110000  0.128000  0.132500  \n",
            "..        ...       ...       ...  \n",
            "213  0.725724  0.755028  0.607936  \n",
            "214  0.503474  0.725724  0.755028  \n",
            "215  0.583380  0.503474  0.725724  \n",
            "216  0.565345  0.583380  0.503474  \n",
            "217  0.503297  0.565345  0.583380  \n",
            "\n",
            "[189 rows x 43 columns]\n"
          ]
        }
      ]
    },
    {
      "cell_type": "code",
      "source": [
        "df_0001 = feature_df[feature_df['RM04/0001'] == 1]\n",
        "print(df_0001.info())"
      ],
      "metadata": {
        "colab": {
          "base_uri": "https://localhost:8080/"
        },
        "outputId": "649b722b-2ff8-4a83-b6a8-ecbf28f54a94",
        "id": "ifHKajO7FOft"
      },
      "execution_count": null,
      "outputs": [
        {
          "output_type": "stream",
          "name": "stdout",
          "text": [
            "<class 'pandas.core.frame.DataFrame'>\n",
            "Index: 93 entries, 123 to 217\n",
            "Data columns (total 43 columns):\n",
            " #   Column             Non-Null Count  Dtype         \n",
            "---  ------             --------------  -----         \n",
            " 0   RM04/0001          93 non-null     bool          \n",
            " 1   RM04/0006          93 non-null     bool          \n",
            " 2   Year               93 non-null     int64         \n",
            " 3   Month              93 non-null     int64         \n",
            " 4   Time               93 non-null     datetime64[ns]\n",
            " 5   Group Description  93 non-null     object        \n",
            " 6   Average_price      93 non-null     float64       \n",
            " 7   PNGASEUUSDM_1      93 non-null     float64       \n",
            " 8   Electricity_1      93 non-null     float64       \n",
            " 9   PNGASEUUSDM_2      93 non-null     float64       \n",
            " 10  Electricity_2      93 non-null     float64       \n",
            " 11  PNGASEUUSDM_3      93 non-null     float64       \n",
            " 12  Electricity_3      93 non-null     float64       \n",
            " 13  PNGASEUUSDM_4      93 non-null     float64       \n",
            " 14  Electricity_4      93 non-null     float64       \n",
            " 15  PNGASEUUSDM_5      93 non-null     float64       \n",
            " 16  Electricity_5      93 non-null     float64       \n",
            " 17  PNGASEUUSDM_6      93 non-null     float64       \n",
            " 18  Electricity_6      93 non-null     float64       \n",
            " 19  PNGASEUUSDM_7      93 non-null     float64       \n",
            " 20  Electricity_7      93 non-null     float64       \n",
            " 21  PNGASEUUSDM_8      93 non-null     float64       \n",
            " 22  Electricity_8      93 non-null     float64       \n",
            " 23  PNGASEUUSDM_9      93 non-null     float64       \n",
            " 24  Electricity_9      93 non-null     float64       \n",
            " 25  PNGASEUUSDM_10     93 non-null     float64       \n",
            " 26  Electricity_10     93 non-null     float64       \n",
            " 27  PNGASEUUSDM_11     93 non-null     float64       \n",
            " 28  Electricity_11     93 non-null     float64       \n",
            " 29  PNGASEUUSDM_12     93 non-null     float64       \n",
            " 30  Electricity_12     93 non-null     float64       \n",
            " 31  AR_1               93 non-null     float64       \n",
            " 32  AR_2               93 non-null     float64       \n",
            " 33  AR_3               93 non-null     float64       \n",
            " 34  AR_4               93 non-null     float64       \n",
            " 35  AR_5               93 non-null     float64       \n",
            " 36  AR_6               93 non-null     float64       \n",
            " 37  AR_7               93 non-null     float64       \n",
            " 38  AR_8               93 non-null     float64       \n",
            " 39  AR_9               93 non-null     float64       \n",
            " 40  AR_10              93 non-null     float64       \n",
            " 41  AR_11              93 non-null     float64       \n",
            " 42  AR_12              93 non-null     float64       \n",
            "dtypes: bool(2), datetime64[ns](1), float64(37), int64(2), object(1)\n",
            "memory usage: 30.7+ KB\n",
            "None\n"
          ]
        }
      ]
    },
    {
      "cell_type": "code",
      "source": [
        "df_0006 = feature_df[feature_df['RM04/0006'] == 1]\n",
        "print(df_0006.info())"
      ],
      "metadata": {
        "colab": {
          "base_uri": "https://localhost:8080/"
        },
        "outputId": "1be71e6e-051f-4ef0-ad96-a55de3f949e1",
        "id": "zOXkrvN-FOft"
      },
      "execution_count": null,
      "outputs": [
        {
          "output_type": "stream",
          "name": "stdout",
          "text": [
            "<class 'pandas.core.frame.DataFrame'>\n",
            "Index: 96 entries, 12 to 107\n",
            "Data columns (total 43 columns):\n",
            " #   Column             Non-Null Count  Dtype         \n",
            "---  ------             --------------  -----         \n",
            " 0   RM04/0001          96 non-null     bool          \n",
            " 1   RM04/0006          96 non-null     bool          \n",
            " 2   Year               96 non-null     int64         \n",
            " 3   Month              96 non-null     int64         \n",
            " 4   Time               96 non-null     datetime64[ns]\n",
            " 5   Group Description  96 non-null     object        \n",
            " 6   Average_price      96 non-null     float64       \n",
            " 7   PNGASEUUSDM_1      96 non-null     float64       \n",
            " 8   Electricity_1      96 non-null     float64       \n",
            " 9   PNGASEUUSDM_2      96 non-null     float64       \n",
            " 10  Electricity_2      96 non-null     float64       \n",
            " 11  PNGASEUUSDM_3      96 non-null     float64       \n",
            " 12  Electricity_3      96 non-null     float64       \n",
            " 13  PNGASEUUSDM_4      96 non-null     float64       \n",
            " 14  Electricity_4      96 non-null     float64       \n",
            " 15  PNGASEUUSDM_5      96 non-null     float64       \n",
            " 16  Electricity_5      96 non-null     float64       \n",
            " 17  PNGASEUUSDM_6      96 non-null     float64       \n",
            " 18  Electricity_6      96 non-null     float64       \n",
            " 19  PNGASEUUSDM_7      96 non-null     float64       \n",
            " 20  Electricity_7      96 non-null     float64       \n",
            " 21  PNGASEUUSDM_8      96 non-null     float64       \n",
            " 22  Electricity_8      96 non-null     float64       \n",
            " 23  PNGASEUUSDM_9      96 non-null     float64       \n",
            " 24  Electricity_9      96 non-null     float64       \n",
            " 25  PNGASEUUSDM_10     96 non-null     float64       \n",
            " 26  Electricity_10     96 non-null     float64       \n",
            " 27  PNGASEUUSDM_11     96 non-null     float64       \n",
            " 28  Electricity_11     96 non-null     float64       \n",
            " 29  PNGASEUUSDM_12     96 non-null     float64       \n",
            " 30  Electricity_12     96 non-null     float64       \n",
            " 31  AR_1               96 non-null     float64       \n",
            " 32  AR_2               96 non-null     float64       \n",
            " 33  AR_3               96 non-null     float64       \n",
            " 34  AR_4               96 non-null     float64       \n",
            " 35  AR_5               96 non-null     float64       \n",
            " 36  AR_6               96 non-null     float64       \n",
            " 37  AR_7               96 non-null     float64       \n",
            " 38  AR_8               96 non-null     float64       \n",
            " 39  AR_9               96 non-null     float64       \n",
            " 40  AR_10              96 non-null     float64       \n",
            " 41  AR_11              96 non-null     float64       \n",
            " 42  AR_12              96 non-null     float64       \n",
            "dtypes: bool(2), datetime64[ns](1), float64(37), int64(2), object(1)\n",
            "memory usage: 31.7+ KB\n",
            "None\n"
          ]
        }
      ]
    },
    {
      "cell_type": "markdown",
      "source": [
        "## 0001"
      ],
      "metadata": {
        "id": "W-aphYa9FOft"
      }
    },
    {
      "cell_type": "code",
      "source": [
        "feature_df = df_0001"
      ],
      "metadata": {
        "id": "cGauyfGyFOfu"
      },
      "execution_count": null,
      "outputs": []
    },
    {
      "cell_type": "markdown",
      "source": [
        "### 1-month prediction"
      ],
      "metadata": {
        "id": "9A-OD4GbFOfu"
      }
    },
    {
      "cell_type": "code",
      "source": [
        "mape_values = []\n",
        "for start, end in test_periods:\n",
        "    mape = calculate_mape_1(start, end)\n",
        "    mape_values.append(mape)\n",
        "    print(f\"MAPE from {start} to {end}: {mape:.1f}\")"
      ],
      "metadata": {
        "colab": {
          "base_uri": "https://localhost:8080/"
        },
        "outputId": "46a9fc6e-e3ea-49da-8a16-11a5c605fea2",
        "id": "6KxBDwWZFOfu"
      },
      "execution_count": null,
      "outputs": [
        {
          "output_type": "stream",
          "name": "stdout",
          "text": [
            "MAPE from 2019-01-01 to 2019-07-01: 3.0\n",
            "MAPE from 2019-07-01 to 2020-01-01: 2.6\n",
            "MAPE from 2020-01-01 to 2020-07-01: 2.7\n",
            "MAPE from 2020-07-01 to 2021-01-01: 2.2\n",
            "MAPE from 2021-01-01 to 2021-07-01: 7.5\n",
            "MAPE from 2021-07-01 to 2022-01-01: 8.6\n",
            "MAPE from 2022-01-01 to 2022-07-01: 26.9\n",
            "MAPE from 2022-07-01 to 2023-01-01: 18.9\n",
            "MAPE from 2023-01-01 to 2023-07-01: 5.7\n",
            "MAPE from 2023-07-01 to 2024-01-01: 3.6\n"
          ]
        }
      ]
    },
    {
      "cell_type": "code",
      "source": [
        "average_mape = np.mean(mape_values)\n",
        "print(f\"Average MAPE: {average_mape:.1f}\")"
      ],
      "metadata": {
        "colab": {
          "base_uri": "https://localhost:8080/"
        },
        "outputId": "e662a50f-1d81-402d-9631-e2e59452fe59",
        "id": "QxD5F3GJFOfu"
      },
      "execution_count": null,
      "outputs": [
        {
          "output_type": "stream",
          "name": "stdout",
          "text": [
            "Average MAPE: 8.2\n"
          ]
        }
      ]
    },
    {
      "cell_type": "markdown",
      "source": [
        "### 3-month prediction\n"
      ],
      "metadata": {
        "id": "DKHbV29JFOfu"
      }
    },
    {
      "cell_type": "code",
      "source": [
        "mape_values = []\n",
        "for start, end in test_periods:\n",
        "    mape = calculate_mape_3(start, end)\n",
        "    mape_values.append(mape)\n",
        "    print(f\"MAPE from {start} to {end}: {mape:.1f}\")"
      ],
      "metadata": {
        "colab": {
          "base_uri": "https://localhost:8080/"
        },
        "outputId": "f20b006f-c283-44bd-cdf8-f1e88cbcd909",
        "id": "yQokObfaFOfu"
      },
      "execution_count": null,
      "outputs": [
        {
          "output_type": "stream",
          "name": "stdout",
          "text": [
            "MAPE from 2019-01-01 to 2019-07-01: 4.3\n",
            "MAPE from 2019-07-01 to 2020-01-01: 3.3\n",
            "MAPE from 2020-01-01 to 2020-07-01: 1.9\n",
            "MAPE from 2020-07-01 to 2021-01-01: 1.2\n",
            "MAPE from 2021-01-01 to 2021-07-01: 7.6\n",
            "MAPE from 2021-07-01 to 2022-01-01: 8.8\n",
            "MAPE from 2022-01-01 to 2022-07-01: 15.5\n",
            "MAPE from 2022-07-01 to 2023-01-01: 33.6\n",
            "MAPE from 2023-01-01 to 2023-07-01: 19.3\n",
            "MAPE from 2023-07-01 to 2024-01-01: 6.5\n"
          ]
        }
      ]
    },
    {
      "cell_type": "code",
      "source": [
        "average_mape = np.mean(mape_values)\n",
        "print(f\"Average MAPE: {average_mape:.1f}\")"
      ],
      "metadata": {
        "colab": {
          "base_uri": "https://localhost:8080/"
        },
        "outputId": "bc766f4a-caee-415b-ffb5-75cedcf4df5d",
        "id": "1VF6EuUvFOfu"
      },
      "execution_count": null,
      "outputs": [
        {
          "output_type": "stream",
          "name": "stdout",
          "text": [
            "Average MAPE: 10.2\n"
          ]
        }
      ]
    },
    {
      "cell_type": "markdown",
      "source": [
        "### 6-month prediction"
      ],
      "metadata": {
        "id": "Rj-GYr7mFOfv"
      }
    },
    {
      "cell_type": "code",
      "source": [
        "mape_values = []\n",
        "for start, end in test_periods:\n",
        "    mape = calculate_mape_6(start, end)\n",
        "    mape_values.append(mape)\n",
        "    print(f\"MAPE from {start} to {end}: {mape:.1f}\")"
      ],
      "metadata": {
        "colab": {
          "base_uri": "https://localhost:8080/"
        },
        "outputId": "88a17f64-a374-4dbf-abd7-56ec39f4a5f9",
        "id": "iFueIUo6FOfv"
      },
      "execution_count": null,
      "outputs": [
        {
          "output_type": "stream",
          "name": "stdout",
          "text": [
            "MAPE from 2019-01-01 to 2019-07-01: 7.0\n",
            "MAPE from 2019-07-01 to 2020-01-01: 1.6\n",
            "MAPE from 2020-01-01 to 2020-07-01: 4.1\n",
            "MAPE from 2020-07-01 to 2021-01-01: 1.4\n",
            "MAPE from 2021-01-01 to 2021-07-01: 5.2\n",
            "MAPE from 2021-07-01 to 2022-01-01: 11.8\n",
            "MAPE from 2022-01-01 to 2022-07-01: 29.6\n",
            "MAPE from 2022-07-01 to 2023-01-01: 25.7\n",
            "MAPE from 2023-01-01 to 2023-07-01: 37.9\n",
            "MAPE from 2023-07-01 to 2024-01-01: 21.8\n"
          ]
        }
      ]
    },
    {
      "cell_type": "code",
      "source": [
        "average_mape = np.mean(mape_values)\n",
        "print(f\"Average MAPE: {average_mape:.1f}\")"
      ],
      "metadata": {
        "colab": {
          "base_uri": "https://localhost:8080/"
        },
        "outputId": "0302ca3e-fbcf-4d28-87f9-d0c405847f8e",
        "id": "n85FHcAHFOfv"
      },
      "execution_count": null,
      "outputs": [
        {
          "output_type": "stream",
          "name": "stdout",
          "text": [
            "Average MAPE: 14.6\n"
          ]
        }
      ]
    },
    {
      "cell_type": "markdown",
      "source": [
        "## 0006"
      ],
      "metadata": {
        "id": "a2mUNK27FOfv"
      }
    },
    {
      "cell_type": "code",
      "source": [
        "feature_df = df_0006"
      ],
      "metadata": {
        "id": "51CwOfjWFOfv"
      },
      "execution_count": null,
      "outputs": []
    },
    {
      "cell_type": "markdown",
      "source": [
        "### 1-month prediction"
      ],
      "metadata": {
        "id": "qy5itQQsFOfv"
      }
    },
    {
      "cell_type": "code",
      "source": [
        "mape_values = []\n",
        "for start, end in test_periods:\n",
        "    mape = calculate_mape_1(start, end)\n",
        "    mape_values.append(mape)\n",
        "    print(f\"MAPE from {start} to {end}: {mape:.1f}\")"
      ],
      "metadata": {
        "colab": {
          "base_uri": "https://localhost:8080/"
        },
        "outputId": "839a29ae-7f4b-44f3-eb07-bb2af2abdbaa",
        "id": "xKQOirU2FOfv"
      },
      "execution_count": null,
      "outputs": [
        {
          "output_type": "stream",
          "name": "stdout",
          "text": [
            "MAPE from 2019-01-01 to 2019-07-01: 7.5\n",
            "MAPE from 2019-07-01 to 2020-01-01: 6.9\n",
            "MAPE from 2020-01-01 to 2020-07-01: 18.7\n",
            "MAPE from 2020-07-01 to 2021-01-01: 1.5\n",
            "MAPE from 2021-01-01 to 2021-07-01: 3.3\n",
            "MAPE from 2021-07-01 to 2022-01-01: 7.1\n",
            "MAPE from 2022-01-01 to 2022-07-01: 8.2\n",
            "MAPE from 2022-07-01 to 2023-01-01: 9.7\n",
            "MAPE from 2023-01-01 to 2023-07-01: 6.6\n",
            "MAPE from 2023-07-01 to 2024-01-01: 4.0\n"
          ]
        }
      ]
    },
    {
      "cell_type": "code",
      "source": [
        "average_mape = np.mean(mape_values)\n",
        "print(f\"Average MAPE: {average_mape:.1f}\")"
      ],
      "metadata": {
        "colab": {
          "base_uri": "https://localhost:8080/"
        },
        "outputId": "b421a19f-f9f9-42c6-fec6-5016b70c93af",
        "id": "SP0hKNRFFOfw"
      },
      "execution_count": null,
      "outputs": [
        {
          "output_type": "stream",
          "name": "stdout",
          "text": [
            "Average MAPE: 7.3\n"
          ]
        }
      ]
    },
    {
      "cell_type": "markdown",
      "source": [
        "### 3-month prediction\n"
      ],
      "metadata": {
        "id": "yl4ylTheFOfw"
      }
    },
    {
      "cell_type": "code",
      "source": [
        "mape_values = []\n",
        "for start, end in test_periods:\n",
        "    mape = calculate_mape_3(start, end)\n",
        "    mape_values.append(mape)\n",
        "    print(f\"MAPE from {start} to {end}: {mape:.1f}\")"
      ],
      "metadata": {
        "colab": {
          "base_uri": "https://localhost:8080/"
        },
        "outputId": "98908a43-b3ae-4009-b791-c78ac4855621",
        "id": "uPQHoultFOfw"
      },
      "execution_count": null,
      "outputs": [
        {
          "output_type": "stream",
          "name": "stdout",
          "text": [
            "MAPE from 2019-01-01 to 2019-07-01: 7.7\n",
            "MAPE from 2019-07-01 to 2020-01-01: 10.5\n",
            "MAPE from 2020-01-01 to 2020-07-01: 25.5\n",
            "MAPE from 2020-07-01 to 2021-01-01: 7.2\n",
            "MAPE from 2021-01-01 to 2021-07-01: 2.1\n",
            "MAPE from 2021-07-01 to 2022-01-01: 5.9\n",
            "MAPE from 2022-01-01 to 2022-07-01: 13.4\n",
            "MAPE from 2022-07-01 to 2023-01-01: 16.8\n",
            "MAPE from 2023-01-01 to 2023-07-01: 13.6\n",
            "MAPE from 2023-07-01 to 2024-01-01: 3.5\n"
          ]
        }
      ]
    },
    {
      "cell_type": "code",
      "source": [
        "average_mape = np.mean(mape_values)\n",
        "print(f\"Average MAPE: {average_mape:.1f}\")"
      ],
      "metadata": {
        "colab": {
          "base_uri": "https://localhost:8080/"
        },
        "outputId": "845225a1-9bb5-418a-b450-b0250da5de79",
        "id": "LB6corsUFOfw"
      },
      "execution_count": null,
      "outputs": [
        {
          "output_type": "stream",
          "name": "stdout",
          "text": [
            "Average MAPE: 10.6\n"
          ]
        }
      ]
    },
    {
      "cell_type": "markdown",
      "source": [
        "### 6-month prediction"
      ],
      "metadata": {
        "id": "nVCPlsHmFOfw"
      }
    },
    {
      "cell_type": "code",
      "source": [
        "mape_values = []\n",
        "for start, end in test_periods:\n",
        "    mape = calculate_mape_6(start, end)\n",
        "    mape_values.append(mape)\n",
        "    print(f\"MAPE from {start} to {end}: {mape:.1f}\")"
      ],
      "metadata": {
        "colab": {
          "base_uri": "https://localhost:8080/"
        },
        "outputId": "b681cb4f-994f-420d-f3ec-81a42499b776",
        "id": "2_15SjngFOfw"
      },
      "execution_count": null,
      "outputs": [
        {
          "output_type": "stream",
          "name": "stdout",
          "text": [
            "MAPE from 2019-01-01 to 2019-07-01: 7.4\n",
            "MAPE from 2019-07-01 to 2020-01-01: 7.8\n",
            "MAPE from 2020-01-01 to 2020-07-01: 21.4\n",
            "MAPE from 2020-07-01 to 2021-01-01: 9.9\n",
            "MAPE from 2021-01-01 to 2021-07-01: 2.7\n",
            "MAPE from 2021-07-01 to 2022-01-01: 6.6\n",
            "MAPE from 2022-01-01 to 2022-07-01: 20.1\n",
            "MAPE from 2022-07-01 to 2023-01-01: 21.8\n",
            "MAPE from 2023-01-01 to 2023-07-01: 24.9\n",
            "MAPE from 2023-07-01 to 2024-01-01: 7.2\n"
          ]
        }
      ]
    },
    {
      "cell_type": "code",
      "source": [
        "average_mape = np.mean(mape_values)\n",
        "print(f\"Average MAPE: {average_mape:.1f}\")"
      ],
      "metadata": {
        "colab": {
          "base_uri": "https://localhost:8080/"
        },
        "outputId": "52d82485-e465-4235-9880-17a9a138303b",
        "id": "llbsD9BNFOfw"
      },
      "execution_count": null,
      "outputs": [
        {
          "output_type": "stream",
          "name": "stdout",
          "text": [
            "Average MAPE: 13.0\n"
          ]
        }
      ]
    },
    {
      "cell_type": "markdown",
      "source": [
        "# Acid"
      ],
      "metadata": {
        "id": "VZtEkUzIEGAC"
      }
    },
    {
      "cell_type": "code",
      "source": [
        "feature_df = pd.read_csv('/content/drive/MyDrive/Colab Notebooks/Thesis/dataframe/acid_feature.csv',index_col=0)\n",
        "feature_df['Time'] = pd.to_datetime(feature_df['Time'])\n",
        "print(feature_df)"
      ],
      "metadata": {
        "colab": {
          "base_uri": "https://localhost:8080/"
        },
        "outputId": "1d4fdbdb-2707-4873-8d74-33595c881e4c",
        "id": "rfvIcBX6EGAD"
      },
      "execution_count": null,
      "outputs": [
        {
          "output_type": "stream",
          "name": "stdout",
          "text": [
            "     RM01/0001  RM01/0004  RM01/0006  RM01/0007  Year  Month       Time  \\\n",
            "2        False       True      False      False  2016      1 2016-01-31   \n",
            "3         True      False      False      False  2016      1 2016-01-31   \n",
            "4        False       True      False      False  2016      2 2016-02-29   \n",
            "5         True      False      False      False  2016      2 2016-02-29   \n",
            "6        False       True      False      False  2016      3 2016-03-31   \n",
            "..         ...        ...        ...        ...   ...    ...        ...   \n",
            "400      False      False       True      False  2023      8 2023-08-31   \n",
            "401      False      False       True      False  2023      9 2023-09-28   \n",
            "402      False      False       True      False  2023     10 2023-10-30   \n",
            "403      False      False       True      False  2023     11 2023-11-30   \n",
            "404      False      False       True      False  2023     12 2023-12-22   \n",
            "\n",
            "    Group Description  Average_price  PNGASEUUSDM_1  ...      AR_3      AR_4  \\\n",
            "2                acid       0.404800       5.810000  ...  0.359400  0.475714   \n",
            "3                acid       0.528015       5.810000  ...  0.549394  0.558730   \n",
            "4                acid       0.404800       5.090000  ...  0.358000  0.359400   \n",
            "5                acid       0.532218       5.090000  ...  0.550917  0.549394   \n",
            "6                acid       0.356000       4.790000  ...  0.358000  0.358000   \n",
            "..                ...            ...            ...  ...       ...       ...   \n",
            "400              acid       1.258544       9.611719  ...  1.669344  1.874301   \n",
            "401              acid       1.432129      10.717421  ...  1.641858  1.669344   \n",
            "402              acid       1.327096      11.427930  ...  1.456344  1.641858   \n",
            "403              acid       1.080000      13.388843  ...  1.258544  1.456344   \n",
            "404              acid       1.447941      13.714316  ...  1.432129  1.258544   \n",
            "\n",
            "         AR_5      AR_6      AR_7      AR_8      AR_9     AR_10     AR_11  \\\n",
            "2    0.426000  0.462500  0.451000  0.486000  0.446333  0.477200  0.445000   \n",
            "3    0.559098  0.558889  0.546843  0.550665  0.546185  0.556000  0.558667   \n",
            "4    0.475714  0.426000  0.462500  0.451000  0.486000  0.446333  0.477200   \n",
            "5    0.558730  0.559098  0.558889  0.546843  0.550665  0.546185  0.556000   \n",
            "6    0.359400  0.475714  0.426000  0.462500  0.451000  0.486000  0.446333   \n",
            "..        ...       ...       ...       ...       ...       ...       ...   \n",
            "400  2.073844  2.767510  2.161415  2.386413  2.550000  2.682106  2.588566   \n",
            "401  1.874301  2.073844  2.767510  2.161415  2.386413  2.550000  2.682106   \n",
            "402  1.669344  1.874301  2.073844  2.767510  2.161415  2.386413  2.550000   \n",
            "403  1.641858  1.669344  1.874301  2.073844  2.767510  2.161415  2.386413   \n",
            "404  1.456344  1.641858  1.669344  1.874301  2.073844  2.767510  2.161415   \n",
            "\n",
            "        AR_12  \n",
            "2    0.475333  \n",
            "3    0.560278  \n",
            "4    0.445000  \n",
            "5    0.558667  \n",
            "6    0.477200  \n",
            "..        ...  \n",
            "400  2.544955  \n",
            "401  2.588566  \n",
            "402  2.682106  \n",
            "403  2.550000  \n",
            "404  2.386413  \n",
            "\n",
            "[362 rows x 69 columns]\n"
          ]
        }
      ]
    },
    {
      "cell_type": "code",
      "source": [
        "df_0001 = feature_df[feature_df['RM01/0001'] == 1]\n",
        "print(df_0001.info())"
      ],
      "metadata": {
        "colab": {
          "base_uri": "https://localhost:8080/"
        },
        "outputId": "05d0a8f4-d217-4e28-dbc5-8c5f0236d32b",
        "id": "u-FIZ7LPEGAD"
      },
      "execution_count": null,
      "outputs": [
        {
          "output_type": "stream",
          "name": "stdout",
          "text": [
            "<class 'pandas.core.frame.DataFrame'>\n",
            "Index: 96 entries, 3 to 193\n",
            "Data columns (total 69 columns):\n",
            " #   Column             Non-Null Count  Dtype         \n",
            "---  ------             --------------  -----         \n",
            " 0   RM01/0001          96 non-null     bool          \n",
            " 1   RM01/0004          96 non-null     bool          \n",
            " 2   RM01/0006          96 non-null     bool          \n",
            " 3   RM01/0007          96 non-null     bool          \n",
            " 4   Year               96 non-null     int64         \n",
            " 5   Month              96 non-null     int64         \n",
            " 6   Time               96 non-null     datetime64[ns]\n",
            " 7   Group Description  96 non-null     object        \n",
            " 8   Average_price      96 non-null     float64       \n",
            " 9   PNGASEUUSDM_1      96 non-null     float64       \n",
            " 10  PWHEAMTUSDM_1      96 non-null     float64       \n",
            " 11  WPU0652013A_1      96 non-null     float64       \n",
            " 12  Electricity_1      96 non-null     float64       \n",
            " 13  PNGASEUUSDM_2      96 non-null     float64       \n",
            " 14  PWHEAMTUSDM_2      96 non-null     float64       \n",
            " 15  WPU0652013A_2      96 non-null     float64       \n",
            " 16  Electricity_2      96 non-null     float64       \n",
            " 17  PNGASEUUSDM_3      96 non-null     float64       \n",
            " 18  PWHEAMTUSDM_3      96 non-null     float64       \n",
            " 19  WPU0652013A_3      96 non-null     float64       \n",
            " 20  Electricity_3      96 non-null     float64       \n",
            " 21  PNGASEUUSDM_4      96 non-null     float64       \n",
            " 22  PWHEAMTUSDM_4      96 non-null     float64       \n",
            " 23  WPU0652013A_4      96 non-null     float64       \n",
            " 24  Electricity_4      96 non-null     float64       \n",
            " 25  PNGASEUUSDM_5      96 non-null     float64       \n",
            " 26  PWHEAMTUSDM_5      96 non-null     float64       \n",
            " 27  WPU0652013A_5      96 non-null     float64       \n",
            " 28  Electricity_5      96 non-null     float64       \n",
            " 29  PNGASEUUSDM_6      96 non-null     float64       \n",
            " 30  PWHEAMTUSDM_6      96 non-null     float64       \n",
            " 31  WPU0652013A_6      96 non-null     float64       \n",
            " 32  Electricity_6      96 non-null     float64       \n",
            " 33  PNGASEUUSDM_7      96 non-null     float64       \n",
            " 34  PWHEAMTUSDM_7      96 non-null     float64       \n",
            " 35  WPU0652013A_7      96 non-null     float64       \n",
            " 36  Electricity_7      96 non-null     float64       \n",
            " 37  PNGASEUUSDM_8      96 non-null     float64       \n",
            " 38  PWHEAMTUSDM_8      96 non-null     float64       \n",
            " 39  WPU0652013A_8      96 non-null     float64       \n",
            " 40  Electricity_8      96 non-null     float64       \n",
            " 41  PNGASEUUSDM_9      96 non-null     float64       \n",
            " 42  PWHEAMTUSDM_9      96 non-null     float64       \n",
            " 43  WPU0652013A_9      96 non-null     float64       \n",
            " 44  Electricity_9      96 non-null     float64       \n",
            " 45  PNGASEUUSDM_10     96 non-null     float64       \n",
            " 46  PWHEAMTUSDM_10     96 non-null     float64       \n",
            " 47  WPU0652013A_10     96 non-null     float64       \n",
            " 48  Electricity_10     96 non-null     float64       \n",
            " 49  PNGASEUUSDM_11     96 non-null     float64       \n",
            " 50  PWHEAMTUSDM_11     96 non-null     float64       \n",
            " 51  WPU0652013A_11     96 non-null     float64       \n",
            " 52  Electricity_11     96 non-null     float64       \n",
            " 53  PNGASEUUSDM_12     96 non-null     float64       \n",
            " 54  PWHEAMTUSDM_12     96 non-null     float64       \n",
            " 55  WPU0652013A_12     96 non-null     float64       \n",
            " 56  Electricity_12     96 non-null     float64       \n",
            " 57  AR_1               96 non-null     float64       \n",
            " 58  AR_2               96 non-null     float64       \n",
            " 59  AR_3               96 non-null     float64       \n",
            " 60  AR_4               96 non-null     float64       \n",
            " 61  AR_5               96 non-null     float64       \n",
            " 62  AR_6               96 non-null     float64       \n",
            " 63  AR_7               96 non-null     float64       \n",
            " 64  AR_8               96 non-null     float64       \n",
            " 65  AR_9               96 non-null     float64       \n",
            " 66  AR_10              96 non-null     float64       \n",
            " 67  AR_11              96 non-null     float64       \n",
            " 68  AR_12              96 non-null     float64       \n",
            "dtypes: bool(4), datetime64[ns](1), float64(61), int64(2), object(1)\n",
            "memory usage: 49.9+ KB\n",
            "None\n"
          ]
        }
      ]
    },
    {
      "cell_type": "code",
      "source": [
        "df_0004 = feature_df[feature_df['RM01/0004'] == 1]\n",
        "print(df_0004.info())"
      ],
      "metadata": {
        "colab": {
          "base_uri": "https://localhost:8080/"
        },
        "outputId": "b85cb8d9-230f-4c1e-94a2-f75b3f805400",
        "id": "SVxwwLmNEGAD"
      },
      "execution_count": null,
      "outputs": [
        {
          "output_type": "stream",
          "name": "stdout",
          "text": [
            "<class 'pandas.core.frame.DataFrame'>\n",
            "Index: 96 entries, 2 to 192\n",
            "Data columns (total 69 columns):\n",
            " #   Column             Non-Null Count  Dtype         \n",
            "---  ------             --------------  -----         \n",
            " 0   RM01/0001          96 non-null     bool          \n",
            " 1   RM01/0004          96 non-null     bool          \n",
            " 2   RM01/0006          96 non-null     bool          \n",
            " 3   RM01/0007          96 non-null     bool          \n",
            " 4   Year               96 non-null     int64         \n",
            " 5   Month              96 non-null     int64         \n",
            " 6   Time               96 non-null     datetime64[ns]\n",
            " 7   Group Description  96 non-null     object        \n",
            " 8   Average_price      96 non-null     float64       \n",
            " 9   PNGASEUUSDM_1      96 non-null     float64       \n",
            " 10  PWHEAMTUSDM_1      96 non-null     float64       \n",
            " 11  WPU0652013A_1      96 non-null     float64       \n",
            " 12  Electricity_1      96 non-null     float64       \n",
            " 13  PNGASEUUSDM_2      96 non-null     float64       \n",
            " 14  PWHEAMTUSDM_2      96 non-null     float64       \n",
            " 15  WPU0652013A_2      96 non-null     float64       \n",
            " 16  Electricity_2      96 non-null     float64       \n",
            " 17  PNGASEUUSDM_3      96 non-null     float64       \n",
            " 18  PWHEAMTUSDM_3      96 non-null     float64       \n",
            " 19  WPU0652013A_3      96 non-null     float64       \n",
            " 20  Electricity_3      96 non-null     float64       \n",
            " 21  PNGASEUUSDM_4      96 non-null     float64       \n",
            " 22  PWHEAMTUSDM_4      96 non-null     float64       \n",
            " 23  WPU0652013A_4      96 non-null     float64       \n",
            " 24  Electricity_4      96 non-null     float64       \n",
            " 25  PNGASEUUSDM_5      96 non-null     float64       \n",
            " 26  PWHEAMTUSDM_5      96 non-null     float64       \n",
            " 27  WPU0652013A_5      96 non-null     float64       \n",
            " 28  Electricity_5      96 non-null     float64       \n",
            " 29  PNGASEUUSDM_6      96 non-null     float64       \n",
            " 30  PWHEAMTUSDM_6      96 non-null     float64       \n",
            " 31  WPU0652013A_6      96 non-null     float64       \n",
            " 32  Electricity_6      96 non-null     float64       \n",
            " 33  PNGASEUUSDM_7      96 non-null     float64       \n",
            " 34  PWHEAMTUSDM_7      96 non-null     float64       \n",
            " 35  WPU0652013A_7      96 non-null     float64       \n",
            " 36  Electricity_7      96 non-null     float64       \n",
            " 37  PNGASEUUSDM_8      96 non-null     float64       \n",
            " 38  PWHEAMTUSDM_8      96 non-null     float64       \n",
            " 39  WPU0652013A_8      96 non-null     float64       \n",
            " 40  Electricity_8      96 non-null     float64       \n",
            " 41  PNGASEUUSDM_9      96 non-null     float64       \n",
            " 42  PWHEAMTUSDM_9      96 non-null     float64       \n",
            " 43  WPU0652013A_9      96 non-null     float64       \n",
            " 44  Electricity_9      96 non-null     float64       \n",
            " 45  PNGASEUUSDM_10     96 non-null     float64       \n",
            " 46  PWHEAMTUSDM_10     96 non-null     float64       \n",
            " 47  WPU0652013A_10     96 non-null     float64       \n",
            " 48  Electricity_10     96 non-null     float64       \n",
            " 49  PNGASEUUSDM_11     96 non-null     float64       \n",
            " 50  PWHEAMTUSDM_11     96 non-null     float64       \n",
            " 51  WPU0652013A_11     96 non-null     float64       \n",
            " 52  Electricity_11     96 non-null     float64       \n",
            " 53  PNGASEUUSDM_12     96 non-null     float64       \n",
            " 54  PWHEAMTUSDM_12     96 non-null     float64       \n",
            " 55  WPU0652013A_12     96 non-null     float64       \n",
            " 56  Electricity_12     96 non-null     float64       \n",
            " 57  AR_1               96 non-null     float64       \n",
            " 58  AR_2               96 non-null     float64       \n",
            " 59  AR_3               96 non-null     float64       \n",
            " 60  AR_4               96 non-null     float64       \n",
            " 61  AR_5               96 non-null     float64       \n",
            " 62  AR_6               96 non-null     float64       \n",
            " 63  AR_7               96 non-null     float64       \n",
            " 64  AR_8               96 non-null     float64       \n",
            " 65  AR_9               96 non-null     float64       \n",
            " 66  AR_10              96 non-null     float64       \n",
            " 67  AR_11              96 non-null     float64       \n",
            " 68  AR_12              96 non-null     float64       \n",
            "dtypes: bool(4), datetime64[ns](1), float64(61), int64(2), object(1)\n",
            "memory usage: 49.9+ KB\n",
            "None\n"
          ]
        }
      ]
    },
    {
      "cell_type": "code",
      "source": [
        "df_0006 = feature_df[feature_df['RM01/0006'] == 1]\n",
        "print(df_0006.info())"
      ],
      "metadata": {
        "colab": {
          "base_uri": "https://localhost:8080/"
        },
        "id": "u7D0LDRlGcj9",
        "outputId": "c73c2060-1fff-4bac-9703-99ee094a1215"
      },
      "execution_count": null,
      "outputs": [
        {
          "output_type": "stream",
          "name": "stdout",
          "text": [
            "<class 'pandas.core.frame.DataFrame'>\n",
            "Index: 95 entries, 309 to 404\n",
            "Data columns (total 69 columns):\n",
            " #   Column             Non-Null Count  Dtype         \n",
            "---  ------             --------------  -----         \n",
            " 0   RM01/0001          95 non-null     bool          \n",
            " 1   RM01/0004          95 non-null     bool          \n",
            " 2   RM01/0006          95 non-null     bool          \n",
            " 3   RM01/0007          95 non-null     bool          \n",
            " 4   Year               95 non-null     int64         \n",
            " 5   Month              95 non-null     int64         \n",
            " 6   Time               95 non-null     datetime64[ns]\n",
            " 7   Group Description  95 non-null     object        \n",
            " 8   Average_price      95 non-null     float64       \n",
            " 9   PNGASEUUSDM_1      95 non-null     float64       \n",
            " 10  PWHEAMTUSDM_1      95 non-null     float64       \n",
            " 11  WPU0652013A_1      95 non-null     float64       \n",
            " 12  Electricity_1      95 non-null     float64       \n",
            " 13  PNGASEUUSDM_2      95 non-null     float64       \n",
            " 14  PWHEAMTUSDM_2      95 non-null     float64       \n",
            " 15  WPU0652013A_2      95 non-null     float64       \n",
            " 16  Electricity_2      95 non-null     float64       \n",
            " 17  PNGASEUUSDM_3      95 non-null     float64       \n",
            " 18  PWHEAMTUSDM_3      95 non-null     float64       \n",
            " 19  WPU0652013A_3      95 non-null     float64       \n",
            " 20  Electricity_3      95 non-null     float64       \n",
            " 21  PNGASEUUSDM_4      95 non-null     float64       \n",
            " 22  PWHEAMTUSDM_4      95 non-null     float64       \n",
            " 23  WPU0652013A_4      95 non-null     float64       \n",
            " 24  Electricity_4      95 non-null     float64       \n",
            " 25  PNGASEUUSDM_5      95 non-null     float64       \n",
            " 26  PWHEAMTUSDM_5      95 non-null     float64       \n",
            " 27  WPU0652013A_5      95 non-null     float64       \n",
            " 28  Electricity_5      95 non-null     float64       \n",
            " 29  PNGASEUUSDM_6      95 non-null     float64       \n",
            " 30  PWHEAMTUSDM_6      95 non-null     float64       \n",
            " 31  WPU0652013A_6      95 non-null     float64       \n",
            " 32  Electricity_6      95 non-null     float64       \n",
            " 33  PNGASEUUSDM_7      95 non-null     float64       \n",
            " 34  PWHEAMTUSDM_7      95 non-null     float64       \n",
            " 35  WPU0652013A_7      95 non-null     float64       \n",
            " 36  Electricity_7      95 non-null     float64       \n",
            " 37  PNGASEUUSDM_8      95 non-null     float64       \n",
            " 38  PWHEAMTUSDM_8      95 non-null     float64       \n",
            " 39  WPU0652013A_8      95 non-null     float64       \n",
            " 40  Electricity_8      95 non-null     float64       \n",
            " 41  PNGASEUUSDM_9      95 non-null     float64       \n",
            " 42  PWHEAMTUSDM_9      95 non-null     float64       \n",
            " 43  WPU0652013A_9      95 non-null     float64       \n",
            " 44  Electricity_9      95 non-null     float64       \n",
            " 45  PNGASEUUSDM_10     95 non-null     float64       \n",
            " 46  PWHEAMTUSDM_10     95 non-null     float64       \n",
            " 47  WPU0652013A_10     95 non-null     float64       \n",
            " 48  Electricity_10     95 non-null     float64       \n",
            " 49  PNGASEUUSDM_11     95 non-null     float64       \n",
            " 50  PWHEAMTUSDM_11     95 non-null     float64       \n",
            " 51  WPU0652013A_11     95 non-null     float64       \n",
            " 52  Electricity_11     95 non-null     float64       \n",
            " 53  PNGASEUUSDM_12     95 non-null     float64       \n",
            " 54  PWHEAMTUSDM_12     95 non-null     float64       \n",
            " 55  WPU0652013A_12     95 non-null     float64       \n",
            " 56  Electricity_12     95 non-null     float64       \n",
            " 57  AR_1               95 non-null     float64       \n",
            " 58  AR_2               95 non-null     float64       \n",
            " 59  AR_3               95 non-null     float64       \n",
            " 60  AR_4               95 non-null     float64       \n",
            " 61  AR_5               95 non-null     float64       \n",
            " 62  AR_6               95 non-null     float64       \n",
            " 63  AR_7               95 non-null     float64       \n",
            " 64  AR_8               95 non-null     float64       \n",
            " 65  AR_9               95 non-null     float64       \n",
            " 66  AR_10              95 non-null     float64       \n",
            " 67  AR_11              95 non-null     float64       \n",
            " 68  AR_12              95 non-null     float64       \n",
            "dtypes: bool(4), datetime64[ns](1), float64(61), int64(2), object(1)\n",
            "memory usage: 49.4+ KB\n",
            "None\n"
          ]
        }
      ]
    },
    {
      "cell_type": "code",
      "source": [
        "df_0007 = feature_df[feature_df['RM01/0007'] == 1]\n",
        "print(df_0007.info())"
      ],
      "metadata": {
        "colab": {
          "base_uri": "https://localhost:8080/"
        },
        "id": "dQw-RcA3Ge1R",
        "outputId": "bddea139-4a4f-469f-ff9f-ea39b819d8a4"
      },
      "execution_count": null,
      "outputs": [
        {
          "output_type": "stream",
          "name": "stdout",
          "text": [
            "<class 'pandas.core.frame.DataFrame'>\n",
            "Index: 75 entries, 213 to 307\n",
            "Data columns (total 69 columns):\n",
            " #   Column             Non-Null Count  Dtype         \n",
            "---  ------             --------------  -----         \n",
            " 0   RM01/0001          75 non-null     bool          \n",
            " 1   RM01/0004          75 non-null     bool          \n",
            " 2   RM01/0006          75 non-null     bool          \n",
            " 3   RM01/0007          75 non-null     bool          \n",
            " 4   Year               75 non-null     int64         \n",
            " 5   Month              75 non-null     int64         \n",
            " 6   Time               75 non-null     datetime64[ns]\n",
            " 7   Group Description  75 non-null     object        \n",
            " 8   Average_price      75 non-null     float64       \n",
            " 9   PNGASEUUSDM_1      75 non-null     float64       \n",
            " 10  PWHEAMTUSDM_1      75 non-null     float64       \n",
            " 11  WPU0652013A_1      75 non-null     float64       \n",
            " 12  Electricity_1      75 non-null     float64       \n",
            " 13  PNGASEUUSDM_2      75 non-null     float64       \n",
            " 14  PWHEAMTUSDM_2      75 non-null     float64       \n",
            " 15  WPU0652013A_2      75 non-null     float64       \n",
            " 16  Electricity_2      75 non-null     float64       \n",
            " 17  PNGASEUUSDM_3      75 non-null     float64       \n",
            " 18  PWHEAMTUSDM_3      75 non-null     float64       \n",
            " 19  WPU0652013A_3      75 non-null     float64       \n",
            " 20  Electricity_3      75 non-null     float64       \n",
            " 21  PNGASEUUSDM_4      75 non-null     float64       \n",
            " 22  PWHEAMTUSDM_4      75 non-null     float64       \n",
            " 23  WPU0652013A_4      75 non-null     float64       \n",
            " 24  Electricity_4      75 non-null     float64       \n",
            " 25  PNGASEUUSDM_5      75 non-null     float64       \n",
            " 26  PWHEAMTUSDM_5      75 non-null     float64       \n",
            " 27  WPU0652013A_5      75 non-null     float64       \n",
            " 28  Electricity_5      75 non-null     float64       \n",
            " 29  PNGASEUUSDM_6      75 non-null     float64       \n",
            " 30  PWHEAMTUSDM_6      75 non-null     float64       \n",
            " 31  WPU0652013A_6      75 non-null     float64       \n",
            " 32  Electricity_6      75 non-null     float64       \n",
            " 33  PNGASEUUSDM_7      75 non-null     float64       \n",
            " 34  PWHEAMTUSDM_7      75 non-null     float64       \n",
            " 35  WPU0652013A_7      75 non-null     float64       \n",
            " 36  Electricity_7      75 non-null     float64       \n",
            " 37  PNGASEUUSDM_8      75 non-null     float64       \n",
            " 38  PWHEAMTUSDM_8      75 non-null     float64       \n",
            " 39  WPU0652013A_8      75 non-null     float64       \n",
            " 40  Electricity_8      75 non-null     float64       \n",
            " 41  PNGASEUUSDM_9      75 non-null     float64       \n",
            " 42  PWHEAMTUSDM_9      75 non-null     float64       \n",
            " 43  WPU0652013A_9      75 non-null     float64       \n",
            " 44  Electricity_9      75 non-null     float64       \n",
            " 45  PNGASEUUSDM_10     75 non-null     float64       \n",
            " 46  PWHEAMTUSDM_10     75 non-null     float64       \n",
            " 47  WPU0652013A_10     75 non-null     float64       \n",
            " 48  Electricity_10     75 non-null     float64       \n",
            " 49  PNGASEUUSDM_11     75 non-null     float64       \n",
            " 50  PWHEAMTUSDM_11     75 non-null     float64       \n",
            " 51  WPU0652013A_11     75 non-null     float64       \n",
            " 52  Electricity_11     75 non-null     float64       \n",
            " 53  PNGASEUUSDM_12     75 non-null     float64       \n",
            " 54  PWHEAMTUSDM_12     75 non-null     float64       \n",
            " 55  WPU0652013A_12     75 non-null     float64       \n",
            " 56  Electricity_12     75 non-null     float64       \n",
            " 57  AR_1               75 non-null     float64       \n",
            " 58  AR_2               75 non-null     float64       \n",
            " 59  AR_3               75 non-null     float64       \n",
            " 60  AR_4               75 non-null     float64       \n",
            " 61  AR_5               75 non-null     float64       \n",
            " 62  AR_6               75 non-null     float64       \n",
            " 63  AR_7               75 non-null     float64       \n",
            " 64  AR_8               75 non-null     float64       \n",
            " 65  AR_9               75 non-null     float64       \n",
            " 66  AR_10              75 non-null     float64       \n",
            " 67  AR_11              75 non-null     float64       \n",
            " 68  AR_12              75 non-null     float64       \n",
            "dtypes: bool(4), datetime64[ns](1), float64(61), int64(2), object(1)\n",
            "memory usage: 39.0+ KB\n",
            "None\n"
          ]
        }
      ]
    },
    {
      "cell_type": "markdown",
      "source": [
        "## 0001"
      ],
      "metadata": {
        "id": "14QRO2VXEGAE"
      }
    },
    {
      "cell_type": "code",
      "source": [
        "feature_df = df_0001"
      ],
      "metadata": {
        "id": "T4eQMklxEGAE"
      },
      "execution_count": null,
      "outputs": []
    },
    {
      "cell_type": "markdown",
      "source": [
        "### 1-month prediction"
      ],
      "metadata": {
        "id": "WthrrtBLEGAE"
      }
    },
    {
      "cell_type": "code",
      "source": [
        "mape_values = []\n",
        "for start, end in test_periods:\n",
        "    mape = calculate_mape_1(start, end)\n",
        "    mape_values.append(mape)\n",
        "    print(f\"MAPE from {start} to {end}: {mape:.1f}\")"
      ],
      "metadata": {
        "colab": {
          "base_uri": "https://localhost:8080/"
        },
        "outputId": "a292424b-bf44-4316-c2b6-d95114723d5a",
        "id": "kHRtxyIdEGAE"
      },
      "execution_count": null,
      "outputs": [
        {
          "output_type": "stream",
          "name": "stdout",
          "text": [
            "MAPE from 2019-01-01 to 2019-07-01: 5.1\n",
            "MAPE from 2019-07-01 to 2020-01-01: 1.9\n",
            "MAPE from 2020-01-01 to 2020-07-01: 1.2\n",
            "MAPE from 2020-07-01 to 2021-01-01: 1.7\n",
            "MAPE from 2021-01-01 to 2021-07-01: 10.9\n",
            "MAPE from 2021-07-01 to 2022-01-01: 3.7\n",
            "MAPE from 2022-01-01 to 2022-07-01: 3.4\n",
            "MAPE from 2022-07-01 to 2023-01-01: 3.5\n",
            "MAPE from 2023-01-01 to 2023-07-01: 6.0\n",
            "MAPE from 2023-07-01 to 2024-01-01: 5.7\n"
          ]
        }
      ]
    },
    {
      "cell_type": "code",
      "source": [
        "average_mape = np.mean(mape_values)\n",
        "print(f\"Average MAPE: {average_mape:.1f}\")"
      ],
      "metadata": {
        "colab": {
          "base_uri": "https://localhost:8080/"
        },
        "outputId": "bd6f6579-0065-4bd4-f82c-7deb322d10cd",
        "id": "d5wrIvLQEGAE"
      },
      "execution_count": null,
      "outputs": [
        {
          "output_type": "stream",
          "name": "stdout",
          "text": [
            "Average MAPE: 4.3\n"
          ]
        }
      ]
    },
    {
      "cell_type": "markdown",
      "source": [
        "### 3-month prediction\n"
      ],
      "metadata": {
        "id": "59eUvQ5_EGAE"
      }
    },
    {
      "cell_type": "code",
      "source": [
        "mape_values = []\n",
        "for start, end in test_periods:\n",
        "    mape = calculate_mape_3(start, end)\n",
        "    mape_values.append(mape)\n",
        "    print(f\"MAPE from {start} to {end}: {mape:.1f}\")"
      ],
      "metadata": {
        "colab": {
          "base_uri": "https://localhost:8080/"
        },
        "outputId": "0713cebc-b84f-40a5-a52c-0a5f180b4ed5",
        "id": "2UfiZGCXEGAE"
      },
      "execution_count": null,
      "outputs": [
        {
          "output_type": "stream",
          "name": "stdout",
          "text": [
            "MAPE from 2019-01-01 to 2019-07-01: 13.8\n",
            "MAPE from 2019-07-01 to 2020-01-01: 5.3\n",
            "MAPE from 2020-01-01 to 2020-07-01: 3.1\n",
            "MAPE from 2020-07-01 to 2021-01-01: 4.7\n",
            "MAPE from 2021-01-01 to 2021-07-01: 31.7\n",
            "MAPE from 2021-07-01 to 2022-01-01: 4.4\n",
            "MAPE from 2022-01-01 to 2022-07-01: 7.1\n",
            "MAPE from 2022-07-01 to 2023-01-01: 8.5\n",
            "MAPE from 2023-01-01 to 2023-07-01: 16.9\n",
            "MAPE from 2023-07-01 to 2024-01-01: 18.2\n"
          ]
        }
      ]
    },
    {
      "cell_type": "code",
      "source": [
        "average_mape = np.mean(mape_values)\n",
        "print(f\"Average MAPE: {average_mape:.1f}\")"
      ],
      "metadata": {
        "colab": {
          "base_uri": "https://localhost:8080/"
        },
        "outputId": "9fcaa1f4-a819-48c4-ee0f-d183a9a8a46e",
        "id": "vUPd9unTEGAE"
      },
      "execution_count": null,
      "outputs": [
        {
          "output_type": "stream",
          "name": "stdout",
          "text": [
            "Average MAPE: 11.4\n"
          ]
        }
      ]
    },
    {
      "cell_type": "markdown",
      "source": [
        "### 6-month prediction"
      ],
      "metadata": {
        "id": "npsKGzMEEGAF"
      }
    },
    {
      "cell_type": "code",
      "source": [
        "mape_values = []\n",
        "for start, end in test_periods:\n",
        "    mape = calculate_mape_6(start, end)\n",
        "    mape_values.append(mape)\n",
        "    print(f\"MAPE from {start} to {end}: {mape:.1f}\")"
      ],
      "metadata": {
        "colab": {
          "base_uri": "https://localhost:8080/"
        },
        "outputId": "c50071f1-738c-491e-d2be-1ad16635dd5f",
        "id": "GYMqMCR1EGAF"
      },
      "execution_count": null,
      "outputs": [
        {
          "output_type": "stream",
          "name": "stdout",
          "text": [
            "MAPE from 2019-01-01 to 2019-07-01: 26.2\n",
            "MAPE from 2019-07-01 to 2020-01-01: 13.0\n",
            "MAPE from 2020-01-01 to 2020-07-01: 6.4\n",
            "MAPE from 2020-07-01 to 2021-01-01: 6.2\n",
            "MAPE from 2021-01-01 to 2021-07-01: 37.4\n",
            "MAPE from 2021-07-01 to 2022-01-01: 28.7\n",
            "MAPE from 2022-01-01 to 2022-07-01: 9.0\n",
            "MAPE from 2022-07-01 to 2023-01-01: 10.6\n",
            "MAPE from 2023-01-01 to 2023-07-01: 36.2\n",
            "MAPE from 2023-07-01 to 2024-01-01: 40.8\n"
          ]
        }
      ]
    },
    {
      "cell_type": "code",
      "source": [
        "average_mape = np.mean(mape_values)\n",
        "print(f\"Average MAPE: {average_mape:.1f}\")"
      ],
      "metadata": {
        "colab": {
          "base_uri": "https://localhost:8080/"
        },
        "outputId": "e89d3b19-3cb4-4444-d557-b13810b21fa2",
        "id": "RsqpeussEGAF"
      },
      "execution_count": null,
      "outputs": [
        {
          "output_type": "stream",
          "name": "stdout",
          "text": [
            "Average MAPE: 21.4\n"
          ]
        }
      ]
    },
    {
      "cell_type": "markdown",
      "source": [
        "## 0004"
      ],
      "metadata": {
        "id": "h4ao2Z2SGlaq"
      }
    },
    {
      "cell_type": "code",
      "source": [
        "feature_df = df_0004"
      ],
      "metadata": {
        "id": "nnyKBORGGlar"
      },
      "execution_count": null,
      "outputs": []
    },
    {
      "cell_type": "markdown",
      "source": [
        "### 1-month prediction"
      ],
      "metadata": {
        "id": "D_R_54meGlar"
      }
    },
    {
      "cell_type": "code",
      "source": [
        "mape_values = []\n",
        "for start, end in test_periods:\n",
        "    mape = calculate_mape_1(start, end)\n",
        "    mape_values.append(mape)\n",
        "    print(f\"MAPE from {start} to {end}: {mape:.1f}\")"
      ],
      "metadata": {
        "colab": {
          "base_uri": "https://localhost:8080/"
        },
        "outputId": "ee162582-943f-4188-964f-1bb0a7b9cd78",
        "id": "QiZEINWxGlar"
      },
      "execution_count": null,
      "outputs": [
        {
          "output_type": "stream",
          "name": "stdout",
          "text": [
            "MAPE from 2019-01-01 to 2019-07-01: 5.8\n",
            "MAPE from 2019-07-01 to 2020-01-01: 12.3\n",
            "MAPE from 2020-01-01 to 2020-07-01: 8.6\n",
            "MAPE from 2020-07-01 to 2021-01-01: 21.6\n",
            "MAPE from 2021-01-01 to 2021-07-01: 14.3\n",
            "MAPE from 2021-07-01 to 2022-01-01: 7.6\n",
            "MAPE from 2022-01-01 to 2022-07-01: 7.6\n",
            "MAPE from 2022-07-01 to 2023-01-01: 4.7\n",
            "MAPE from 2023-01-01 to 2023-07-01: 8.6\n",
            "MAPE from 2023-07-01 to 2024-01-01: 3.3\n"
          ]
        }
      ]
    },
    {
      "cell_type": "code",
      "source": [
        "average_mape = np.mean(mape_values)\n",
        "print(f\"Average MAPE: {average_mape:.1f}\")"
      ],
      "metadata": {
        "colab": {
          "base_uri": "https://localhost:8080/"
        },
        "outputId": "e9d09a5e-e4dc-47c9-88ae-271209808cfb",
        "id": "CmeUMXRUGlar"
      },
      "execution_count": null,
      "outputs": [
        {
          "output_type": "stream",
          "name": "stdout",
          "text": [
            "Average MAPE: 9.4\n"
          ]
        }
      ]
    },
    {
      "cell_type": "markdown",
      "source": [
        "### 3-month prediction\n"
      ],
      "metadata": {
        "id": "nqXJ3gb5Glas"
      }
    },
    {
      "cell_type": "code",
      "source": [
        "mape_values = []\n",
        "for start, end in test_periods:\n",
        "    mape = calculate_mape_3(start, end)\n",
        "    mape_values.append(mape)\n",
        "    print(f\"MAPE from {start} to {end}: {mape:.1f}\")"
      ],
      "metadata": {
        "colab": {
          "base_uri": "https://localhost:8080/"
        },
        "outputId": "1b638437-9c93-47ab-ae78-0a33bdbd1c69",
        "id": "hfbvYPScGlas"
      },
      "execution_count": null,
      "outputs": [
        {
          "output_type": "stream",
          "name": "stdout",
          "text": [
            "MAPE from 2019-01-01 to 2019-07-01: 9.9\n",
            "MAPE from 2019-07-01 to 2020-01-01: 16.6\n",
            "MAPE from 2020-01-01 to 2020-07-01: 14.1\n",
            "MAPE from 2020-07-01 to 2021-01-01: 17.7\n",
            "MAPE from 2021-01-01 to 2021-07-01: 17.6\n",
            "MAPE from 2021-07-01 to 2022-01-01: 19.4\n",
            "MAPE from 2022-01-01 to 2022-07-01: 17.9\n",
            "MAPE from 2022-07-01 to 2023-01-01: 8.4\n",
            "MAPE from 2023-01-01 to 2023-07-01: 19.2\n",
            "MAPE from 2023-07-01 to 2024-01-01: 7.9\n"
          ]
        }
      ]
    },
    {
      "cell_type": "code",
      "source": [
        "average_mape = np.mean(mape_values)\n",
        "print(f\"Average MAPE: {average_mape:.1f}\")"
      ],
      "metadata": {
        "colab": {
          "base_uri": "https://localhost:8080/"
        },
        "outputId": "25361cbc-bdaa-4b45-cfbf-68770fd126a6",
        "id": "I46oq81sGlas"
      },
      "execution_count": null,
      "outputs": [
        {
          "output_type": "stream",
          "name": "stdout",
          "text": [
            "Average MAPE: 14.9\n"
          ]
        }
      ]
    },
    {
      "cell_type": "markdown",
      "source": [
        "### 6-month prediction"
      ],
      "metadata": {
        "id": "4xP8BltnGlas"
      }
    },
    {
      "cell_type": "code",
      "source": [
        "mape_values = []\n",
        "for start, end in test_periods:\n",
        "    mape = calculate_mape_6(start, end)\n",
        "    mape_values.append(mape)\n",
        "    print(f\"MAPE from {start} to {end}: {mape:.1f}\")"
      ],
      "metadata": {
        "colab": {
          "base_uri": "https://localhost:8080/"
        },
        "outputId": "7d834df5-ea64-452d-8b90-cdc4530a3578",
        "id": "lIQAwNr3Glas"
      },
      "execution_count": null,
      "outputs": [
        {
          "output_type": "stream",
          "name": "stdout",
          "text": [
            "MAPE from 2019-01-01 to 2019-07-01: 22.4\n",
            "MAPE from 2019-07-01 to 2020-01-01: 30.6\n",
            "MAPE from 2020-01-01 to 2020-07-01: 17.2\n",
            "MAPE from 2020-07-01 to 2021-01-01: 12.2\n",
            "MAPE from 2021-01-01 to 2021-07-01: 25.8\n",
            "MAPE from 2021-07-01 to 2022-01-01: 42.4\n",
            "MAPE from 2022-01-01 to 2022-07-01: 32.7\n",
            "MAPE from 2022-07-01 to 2023-01-01: 12.5\n",
            "MAPE from 2023-01-01 to 2023-07-01: 45.7\n",
            "MAPE from 2023-07-01 to 2024-01-01: 9.2\n"
          ]
        }
      ]
    },
    {
      "cell_type": "code",
      "source": [
        "average_mape = np.mean(mape_values)\n",
        "print(f\"Average MAPE: {average_mape:.1f}\")"
      ],
      "metadata": {
        "colab": {
          "base_uri": "https://localhost:8080/"
        },
        "outputId": "3872ecf3-662a-4eaa-e96d-c660bb9078bc",
        "id": "b617sBQeGlas"
      },
      "execution_count": null,
      "outputs": [
        {
          "output_type": "stream",
          "name": "stdout",
          "text": [
            "Average MAPE: 25.1\n"
          ]
        }
      ]
    },
    {
      "cell_type": "markdown",
      "source": [
        "## 0006"
      ],
      "metadata": {
        "id": "4D3qqO67Gl4t"
      }
    },
    {
      "cell_type": "code",
      "source": [
        "feature_df = df_0006"
      ],
      "metadata": {
        "id": "BugpFJ6lGl4u"
      },
      "execution_count": null,
      "outputs": []
    },
    {
      "cell_type": "markdown",
      "source": [
        "### 1-month prediction"
      ],
      "metadata": {
        "id": "IOtYm-4PGl4u"
      }
    },
    {
      "cell_type": "code",
      "source": [
        "mape_values = []\n",
        "for start, end in test_periods:\n",
        "    mape = calculate_mape_1(start, end)\n",
        "    mape_values.append(mape)\n",
        "    print(f\"MAPE from {start} to {end}: {mape:.1f}\")"
      ],
      "metadata": {
        "colab": {
          "base_uri": "https://localhost:8080/"
        },
        "outputId": "30099609-a100-4dbc-8545-bdc0c46dc5a6",
        "id": "kyTE2D1LGl4u"
      },
      "execution_count": null,
      "outputs": [
        {
          "output_type": "stream",
          "name": "stdout",
          "text": [
            "MAPE from 2019-01-01 to 2019-07-01: 4.5\n",
            "MAPE from 2019-07-01 to 2020-01-01: 5.2\n",
            "MAPE from 2020-01-01 to 2020-07-01: 4.4\n",
            "MAPE from 2020-07-01 to 2021-01-01: 5.9\n",
            "MAPE from 2021-01-01 to 2021-07-01: 10.1\n",
            "MAPE from 2021-07-01 to 2022-01-01: 7.4\n",
            "MAPE from 2022-01-01 to 2022-07-01: 19.9\n",
            "MAPE from 2022-07-01 to 2023-01-01: 9.4\n",
            "MAPE from 2023-01-01 to 2023-07-01: 15.1\n",
            "MAPE from 2023-07-01 to 2024-01-01: 16.1\n"
          ]
        }
      ]
    },
    {
      "cell_type": "code",
      "source": [
        "average_mape = np.mean(mape_values)\n",
        "print(f\"Average MAPE: {average_mape:.1f}\")"
      ],
      "metadata": {
        "colab": {
          "base_uri": "https://localhost:8080/"
        },
        "outputId": "7343530b-3ea6-43e9-f082-b15ce9c34039",
        "id": "f6IWeCEqGl4u"
      },
      "execution_count": null,
      "outputs": [
        {
          "output_type": "stream",
          "name": "stdout",
          "text": [
            "Average MAPE: 9.8\n"
          ]
        }
      ]
    },
    {
      "cell_type": "markdown",
      "source": [
        "### 3-month prediction\n"
      ],
      "metadata": {
        "id": "Rd1dYc6xGl4u"
      }
    },
    {
      "cell_type": "code",
      "source": [
        "mape_values = []\n",
        "for start, end in test_periods:\n",
        "    mape = calculate_mape_3(start, end)\n",
        "    mape_values.append(mape)\n",
        "    print(f\"MAPE from {start} to {end}: {mape:.1f}\")"
      ],
      "metadata": {
        "colab": {
          "base_uri": "https://localhost:8080/"
        },
        "outputId": "974442d8-62d7-47d4-9160-3020ba128287",
        "id": "v_657DWxGl4u"
      },
      "execution_count": null,
      "outputs": [
        {
          "output_type": "stream",
          "name": "stdout",
          "text": [
            "MAPE from 2019-01-01 to 2019-07-01: 5.6\n",
            "MAPE from 2019-07-01 to 2020-01-01: 4.4\n",
            "MAPE from 2020-01-01 to 2020-07-01: 4.4\n",
            "MAPE from 2020-07-01 to 2021-01-01: 3.7\n",
            "MAPE from 2021-01-01 to 2021-07-01: 8.2\n",
            "MAPE from 2021-07-01 to 2022-01-01: 14.6\n",
            "MAPE from 2022-01-01 to 2022-07-01: 39.0\n",
            "MAPE from 2022-07-01 to 2023-01-01: 8.5\n",
            "MAPE from 2023-01-01 to 2023-07-01: 25.7\n",
            "MAPE from 2023-07-01 to 2024-01-01: 17.2\n"
          ]
        }
      ]
    },
    {
      "cell_type": "code",
      "source": [
        "average_mape = np.mean(mape_values)\n",
        "print(f\"Average MAPE: {average_mape:.1f}\")"
      ],
      "metadata": {
        "colab": {
          "base_uri": "https://localhost:8080/"
        },
        "outputId": "553d7025-4e8d-4f82-c6fc-313f252a1d97",
        "id": "KcSv06QqGl4v"
      },
      "execution_count": null,
      "outputs": [
        {
          "output_type": "stream",
          "name": "stdout",
          "text": [
            "Average MAPE: 13.1\n"
          ]
        }
      ]
    },
    {
      "cell_type": "markdown",
      "source": [
        "### 6-month prediction"
      ],
      "metadata": {
        "id": "IO3R_eilGl4v"
      }
    },
    {
      "cell_type": "code",
      "source": [
        "mape_values = []\n",
        "for start, end in test_periods:\n",
        "    mape = calculate_mape_6(start, end)\n",
        "    mape_values.append(mape)\n",
        "    print(f\"MAPE from {start} to {end}: {mape:.1f}\")"
      ],
      "metadata": {
        "colab": {
          "base_uri": "https://localhost:8080/"
        },
        "outputId": "75186d7c-46cb-4b6c-80f5-6fe36d01ff13",
        "id": "BV6NyV59Gl4v"
      },
      "execution_count": null,
      "outputs": [
        {
          "output_type": "stream",
          "name": "stdout",
          "text": [
            "MAPE from 2019-01-01 to 2019-07-01: 6.2\n",
            "MAPE from 2019-07-01 to 2020-01-01: 5.9\n",
            "MAPE from 2020-01-01 to 2020-07-01: 3.9\n",
            "MAPE from 2020-07-01 to 2021-01-01: 5.3\n",
            "MAPE from 2021-01-01 to 2021-07-01: 7.6\n",
            "MAPE from 2021-07-01 to 2022-01-01: 20.0\n",
            "MAPE from 2022-01-01 to 2022-07-01: 52.0\n",
            "MAPE from 2022-07-01 to 2023-01-01: 20.3\n",
            "MAPE from 2023-01-01 to 2023-07-01: 35.7\n",
            "MAPE from 2023-07-01 to 2024-01-01: 53.7\n"
          ]
        }
      ]
    },
    {
      "cell_type": "code",
      "source": [
        "average_mape = np.mean(mape_values)\n",
        "print(f\"Average MAPE: {average_mape:.1f}\")"
      ],
      "metadata": {
        "colab": {
          "base_uri": "https://localhost:8080/"
        },
        "outputId": "28ac36f6-36f5-44de-eabc-69bdab00fd6d",
        "id": "gnG9ud4CGl4v"
      },
      "execution_count": null,
      "outputs": [
        {
          "output_type": "stream",
          "name": "stdout",
          "text": [
            "Average MAPE: 21.1\n"
          ]
        }
      ]
    },
    {
      "cell_type": "markdown",
      "source": [
        "## 0007"
      ],
      "metadata": {
        "id": "EkX7WaeeGmW6"
      }
    },
    {
      "cell_type": "code",
      "source": [
        "feature_df = df_0007"
      ],
      "metadata": {
        "id": "LF2RXHPwGmW6"
      },
      "execution_count": null,
      "outputs": []
    },
    {
      "cell_type": "markdown",
      "source": [
        "### 1-month prediction"
      ],
      "metadata": {
        "id": "uW_pzmpBGmW6"
      }
    },
    {
      "cell_type": "code",
      "source": [
        "mape_values = []\n",
        "for start, end in test_periods:\n",
        "    mape = calculate_mape_1(start, end)\n",
        "    mape_values.append(mape)\n",
        "    print(f\"MAPE from {start} to {end}: {mape:.1f}\")"
      ],
      "metadata": {
        "colab": {
          "base_uri": "https://localhost:8080/"
        },
        "outputId": "7ac44b53-697e-4eed-8018-2aeb9838bdd9",
        "id": "zsJc1yVNGmW7"
      },
      "execution_count": null,
      "outputs": [
        {
          "output_type": "stream",
          "name": "stdout",
          "text": [
            "MAPE from 2019-01-01 to 2019-07-01: 28.0\n",
            "MAPE from 2019-07-01 to 2020-01-01: 8.6\n",
            "MAPE from 2020-01-01 to 2020-07-01: 24.9\n",
            "MAPE from 2020-07-01 to 2021-01-01: 14.6\n",
            "MAPE from 2021-01-01 to 2021-07-01: 9.5\n",
            "MAPE from 2021-07-01 to 2022-01-01: 14.6\n",
            "MAPE from 2022-01-01 to 2022-07-01: 4.7\n",
            "MAPE from 2022-07-01 to 2023-01-01: 5.2\n",
            "MAPE from 2023-01-01 to 2023-07-01: 9.4\n",
            "MAPE from 2023-07-01 to 2024-01-01: 4.9\n"
          ]
        }
      ]
    },
    {
      "cell_type": "code",
      "source": [
        "average_mape = np.mean(mape_values)\n",
        "print(f\"Average MAPE: {average_mape:.1f}\")"
      ],
      "metadata": {
        "colab": {
          "base_uri": "https://localhost:8080/"
        },
        "outputId": "47e16ee6-49db-470a-99fe-8e4c89c387a9",
        "id": "7VxdjJPrGmW7"
      },
      "execution_count": null,
      "outputs": [
        {
          "output_type": "stream",
          "name": "stdout",
          "text": [
            "Average MAPE: 12.4\n"
          ]
        }
      ]
    },
    {
      "cell_type": "markdown",
      "source": [
        "### 3-month prediction\n"
      ],
      "metadata": {
        "id": "DMKWbxbnGmW7"
      }
    },
    {
      "cell_type": "code",
      "source": [
        "mape_values = []\n",
        "for start, end in test_periods:\n",
        "    mape = calculate_mape_3(start, end)\n",
        "    mape_values.append(mape)\n",
        "    print(f\"MAPE from {start} to {end}: {mape:.1f}\")"
      ],
      "metadata": {
        "colab": {
          "base_uri": "https://localhost:8080/"
        },
        "outputId": "764b7c70-e11d-489b-ea5e-ebff4109a12a",
        "id": "p8Y6ha15GmW7"
      },
      "execution_count": null,
      "outputs": [
        {
          "output_type": "stream",
          "name": "stdout",
          "text": [
            "MAPE from 2019-01-01 to 2019-07-01: 11.3\n",
            "MAPE from 2019-07-01 to 2020-01-01: 24.4\n",
            "MAPE from 2020-01-01 to 2020-07-01: 24.6\n",
            "MAPE from 2020-07-01 to 2021-01-01: 14.5\n",
            "MAPE from 2021-01-01 to 2021-07-01: 13.4\n",
            "MAPE from 2021-07-01 to 2022-01-01: 19.9\n",
            "MAPE from 2022-01-01 to 2022-07-01: 13.2\n",
            "MAPE from 2022-07-01 to 2023-01-01: 11.8\n",
            "MAPE from 2023-01-01 to 2023-07-01: 17.3\n",
            "MAPE from 2023-07-01 to 2024-01-01: 13.3\n"
          ]
        }
      ]
    },
    {
      "cell_type": "code",
      "source": [
        "average_mape = np.mean(mape_values)\n",
        "print(f\"Average MAPE: {average_mape:.1f}\")"
      ],
      "metadata": {
        "colab": {
          "base_uri": "https://localhost:8080/"
        },
        "outputId": "9041e542-6270-43b5-9ca9-44e1fefcbc47",
        "id": "S7zblMXbGmW7"
      },
      "execution_count": null,
      "outputs": [
        {
          "output_type": "stream",
          "name": "stdout",
          "text": [
            "Average MAPE: 16.4\n"
          ]
        }
      ]
    },
    {
      "cell_type": "markdown",
      "source": [
        "### 6-month prediction"
      ],
      "metadata": {
        "id": "N6t_iHJLGmW7"
      }
    },
    {
      "cell_type": "code",
      "source": [
        "mape_values = []\n",
        "for start, end in test_periods:\n",
        "    mape = calculate_mape_6(start, end)\n",
        "    mape_values.append(mape)\n",
        "    print(f\"MAPE from {start} to {end}: {mape:.1f}\")"
      ],
      "metadata": {
        "colab": {
          "base_uri": "https://localhost:8080/"
        },
        "outputId": "9aff05af-60d9-47d4-8879-356d070ba297",
        "id": "7eVZYJtqGmW7"
      },
      "execution_count": null,
      "outputs": [
        {
          "output_type": "stream",
          "name": "stdout",
          "text": [
            "MAPE from 2019-01-01 to 2019-07-01: 39.1\n",
            "MAPE from 2019-07-01 to 2020-01-01: 16.2\n",
            "MAPE from 2020-01-01 to 2020-07-01: 15.9\n",
            "MAPE from 2020-07-01 to 2021-01-01: 10.7\n",
            "MAPE from 2021-01-01 to 2021-07-01: 16.0\n",
            "MAPE from 2021-07-01 to 2022-01-01: 24.5\n",
            "MAPE from 2022-01-01 to 2022-07-01: 34.3\n",
            "MAPE from 2022-07-01 to 2023-01-01: 21.3\n",
            "MAPE from 2023-01-01 to 2023-07-01: 23.2\n",
            "MAPE from 2023-07-01 to 2024-01-01: 32.1\n"
          ]
        }
      ]
    },
    {
      "cell_type": "code",
      "source": [
        "average_mape = np.mean(mape_values)\n",
        "print(f\"Average MAPE: {average_mape:.1f}\")"
      ],
      "metadata": {
        "colab": {
          "base_uri": "https://localhost:8080/"
        },
        "outputId": "5b385f0e-7884-4dbb-c350-d070b0b9fb71",
        "id": "RV-DEUNUGmW8"
      },
      "execution_count": null,
      "outputs": [
        {
          "output_type": "stream",
          "name": "stdout",
          "text": [
            "Average MAPE: 23.3\n"
          ]
        }
      ]
    },
    {
      "cell_type": "markdown",
      "source": [
        "# Non-ionic Surfactant"
      ],
      "metadata": {
        "id": "Xgzwr5WkEGVa"
      }
    },
    {
      "cell_type": "code",
      "source": [
        "feature_df = pd.read_csv('/content/drive/MyDrive/Colab Notebooks/Thesis/dataframe/non-ionic surfactant_feature.csv',index_col=0)\n",
        "feature_df['Time'] = pd.to_datetime(feature_df['Time'])\n",
        "print(feature_df)"
      ],
      "metadata": {
        "colab": {
          "base_uri": "https://localhost:8080/"
        },
        "outputId": "fd2f0e14-2a64-450b-d2c5-4cb61e9d5692",
        "id": "HNw_9OgSEGVb"
      },
      "execution_count": null,
      "outputs": [
        {
          "output_type": "stream",
          "name": "stdout",
          "text": [
            "     RM12/0002  RM12/0003  RM12/0005  RM12/0008  RM12/0012  Year  Month  \\\n",
            "2        False      False       True      False      False  2016      1   \n",
            "3        False       True      False      False      False  2016      1   \n",
            "4        False      False       True      False      False  2016      2   \n",
            "5        False       True      False      False      False  2016      2   \n",
            "6        False      False       True      False      False  2016      3   \n",
            "..         ...        ...        ...        ...        ...   ...    ...   \n",
            "488       True      False      False      False      False  2023      8   \n",
            "489       True      False      False      False      False  2023      9   \n",
            "490       True      False      False      False      False  2023     10   \n",
            "491       True      False      False      False      False  2023     11   \n",
            "492       True      False      False      False      False  2023     12   \n",
            "\n",
            "          Time     Group Description  Average_price  ...      AR_3      AR_4  \\\n",
            "2   2016-01-29  non-ionic surfactant       1.630000  ...  1.650000  1.650000   \n",
            "3   2016-01-31  non-ionic surfactant       1.142000  ...  1.200000  1.272222   \n",
            "4   2016-02-29  non-ionic surfactant       1.630000  ...  1.650000  1.650000   \n",
            "5   2016-02-29  non-ionic surfactant       1.038909  ...  1.085750  1.200000   \n",
            "6   2016-03-31  non-ionic surfactant       1.630000  ...  1.650000  1.650000   \n",
            "..         ...                   ...            ...  ...       ...       ...   \n",
            "488 2023-08-31  non-ionic surfactant       1.750397  ...  2.256034  1.783333   \n",
            "489 2023-09-30  non-ionic surfactant       1.883857  ...  1.955800  2.256034   \n",
            "490 2023-10-30  non-ionic surfactant       1.833500  ...  2.132308  1.955800   \n",
            "491 2023-11-30  non-ionic surfactant       2.385135  ...  1.750397  2.132308   \n",
            "492 2023-12-31  non-ionic surfactant       1.813101  ...  1.883857  1.750397   \n",
            "\n",
            "         AR_5      AR_6      AR_7      AR_8      AR_9     AR_10     AR_11  \\\n",
            "2    1.650000  1.550000  1.450000  1.450000  1.380000  1.420000  1.420000   \n",
            "3    1.200000  1.350000  1.243333  1.275000  1.400000  1.154286  1.224286   \n",
            "4    1.650000  1.650000  1.550000  1.450000  1.450000  1.380000  1.420000   \n",
            "5    1.272222  1.200000  1.350000  1.243333  1.275000  1.400000  1.154286   \n",
            "6    1.650000  1.650000  1.650000  1.550000  1.450000  1.450000  1.380000   \n",
            "..        ...       ...       ...       ...       ...       ...       ...   \n",
            "488  2.411359  1.721000  1.681333  2.178481  2.500268  2.395888  2.316082   \n",
            "489  1.783333  2.411359  1.721000  1.681333  2.178481  2.500268  2.395888   \n",
            "490  2.256034  1.783333  2.411359  1.721000  1.681333  2.178481  2.500268   \n",
            "491  1.955800  2.256034  1.783333  2.411359  1.721000  1.681333  2.178481   \n",
            "492  2.132308  1.955800  2.256034  1.783333  2.411359  1.721000  1.681333   \n",
            "\n",
            "        AR_12  \n",
            "2    1.406667  \n",
            "3    1.151429  \n",
            "4    1.420000  \n",
            "5    1.224286  \n",
            "6    1.420000  \n",
            "..        ...  \n",
            "488  2.227134  \n",
            "489  2.316082  \n",
            "490  2.395888  \n",
            "491  2.500268  \n",
            "492  2.178481  \n",
            "\n",
            "[469 rows x 82 columns]\n"
          ]
        }
      ]
    },
    {
      "cell_type": "code",
      "source": [
        "df_0002 = feature_df[feature_df['RM12/0002'] == 1]\n",
        "print(df_0002.info())"
      ],
      "metadata": {
        "colab": {
          "base_uri": "https://localhost:8080/"
        },
        "outputId": "64c62385-7a99-40c7-a112-0d8604a63235",
        "id": "OQQ9xFh5EGVb"
      },
      "execution_count": null,
      "outputs": [
        {
          "output_type": "stream",
          "name": "stdout",
          "text": [
            "<class 'pandas.core.frame.DataFrame'>\n",
            "Index: 96 entries, 397 to 492\n",
            "Data columns (total 82 columns):\n",
            " #   Column             Non-Null Count  Dtype         \n",
            "---  ------             --------------  -----         \n",
            " 0   RM12/0002          96 non-null     bool          \n",
            " 1   RM12/0003          96 non-null     bool          \n",
            " 2   RM12/0005          96 non-null     bool          \n",
            " 3   RM12/0008          96 non-null     bool          \n",
            " 4   RM12/0012          96 non-null     bool          \n",
            " 5   Year               96 non-null     int64         \n",
            " 6   Month              96 non-null     int64         \n",
            " 7   Time               96 non-null     datetime64[ns]\n",
            " 8   Group Description  96 non-null     object        \n",
            " 9   Average_price      96 non-null     float64       \n",
            " 10  PNGASEUUSDM_1      96 non-null     float64       \n",
            " 11  POILBREUSDM_1      96 non-null     float64       \n",
            " 12  PPOILUSDM_1        96 non-null     float64       \n",
            " 13  WPU0652013A_1      96 non-null     float64       \n",
            " 14  Electricity_1      96 non-null     float64       \n",
            " 15  PNGASEUUSDM_2      96 non-null     float64       \n",
            " 16  POILBREUSDM_2      96 non-null     float64       \n",
            " 17  PPOILUSDM_2        96 non-null     float64       \n",
            " 18  WPU0652013A_2      96 non-null     float64       \n",
            " 19  Electricity_2      96 non-null     float64       \n",
            " 20  PNGASEUUSDM_3      96 non-null     float64       \n",
            " 21  POILBREUSDM_3      96 non-null     float64       \n",
            " 22  PPOILUSDM_3        96 non-null     float64       \n",
            " 23  WPU0652013A_3      96 non-null     float64       \n",
            " 24  Electricity_3      96 non-null     float64       \n",
            " 25  PNGASEUUSDM_4      96 non-null     float64       \n",
            " 26  POILBREUSDM_4      96 non-null     float64       \n",
            " 27  PPOILUSDM_4        96 non-null     float64       \n",
            " 28  WPU0652013A_4      96 non-null     float64       \n",
            " 29  Electricity_4      96 non-null     float64       \n",
            " 30  PNGASEUUSDM_5      96 non-null     float64       \n",
            " 31  POILBREUSDM_5      96 non-null     float64       \n",
            " 32  PPOILUSDM_5        96 non-null     float64       \n",
            " 33  WPU0652013A_5      96 non-null     float64       \n",
            " 34  Electricity_5      96 non-null     float64       \n",
            " 35  PNGASEUUSDM_6      96 non-null     float64       \n",
            " 36  POILBREUSDM_6      96 non-null     float64       \n",
            " 37  PPOILUSDM_6        96 non-null     float64       \n",
            " 38  WPU0652013A_6      96 non-null     float64       \n",
            " 39  Electricity_6      96 non-null     float64       \n",
            " 40  PNGASEUUSDM_7      96 non-null     float64       \n",
            " 41  POILBREUSDM_7      96 non-null     float64       \n",
            " 42  PPOILUSDM_7        96 non-null     float64       \n",
            " 43  WPU0652013A_7      96 non-null     float64       \n",
            " 44  Electricity_7      96 non-null     float64       \n",
            " 45  PNGASEUUSDM_8      96 non-null     float64       \n",
            " 46  POILBREUSDM_8      96 non-null     float64       \n",
            " 47  PPOILUSDM_8        96 non-null     float64       \n",
            " 48  WPU0652013A_8      96 non-null     float64       \n",
            " 49  Electricity_8      96 non-null     float64       \n",
            " 50  PNGASEUUSDM_9      96 non-null     float64       \n",
            " 51  POILBREUSDM_9      96 non-null     float64       \n",
            " 52  PPOILUSDM_9        96 non-null     float64       \n",
            " 53  WPU0652013A_9      96 non-null     float64       \n",
            " 54  Electricity_9      96 non-null     float64       \n",
            " 55  PNGASEUUSDM_10     96 non-null     float64       \n",
            " 56  POILBREUSDM_10     96 non-null     float64       \n",
            " 57  PPOILUSDM_10       96 non-null     float64       \n",
            " 58  WPU0652013A_10     96 non-null     float64       \n",
            " 59  Electricity_10     96 non-null     float64       \n",
            " 60  PNGASEUUSDM_11     96 non-null     float64       \n",
            " 61  POILBREUSDM_11     96 non-null     float64       \n",
            " 62  PPOILUSDM_11       96 non-null     float64       \n",
            " 63  WPU0652013A_11     96 non-null     float64       \n",
            " 64  Electricity_11     96 non-null     float64       \n",
            " 65  PNGASEUUSDM_12     96 non-null     float64       \n",
            " 66  POILBREUSDM_12     96 non-null     float64       \n",
            " 67  PPOILUSDM_12       96 non-null     float64       \n",
            " 68  WPU0652013A_12     96 non-null     float64       \n",
            " 69  Electricity_12     96 non-null     float64       \n",
            " 70  AR_1               96 non-null     float64       \n",
            " 71  AR_2               96 non-null     float64       \n",
            " 72  AR_3               96 non-null     float64       \n",
            " 73  AR_4               96 non-null     float64       \n",
            " 74  AR_5               96 non-null     float64       \n",
            " 75  AR_6               96 non-null     float64       \n",
            " 76  AR_7               96 non-null     float64       \n",
            " 77  AR_8               96 non-null     float64       \n",
            " 78  AR_9               96 non-null     float64       \n",
            " 79  AR_10              96 non-null     float64       \n",
            " 80  AR_11              96 non-null     float64       \n",
            " 81  AR_12              96 non-null     float64       \n",
            "dtypes: bool(5), datetime64[ns](1), float64(73), int64(2), object(1)\n",
            "memory usage: 59.0+ KB\n",
            "None\n"
          ]
        }
      ]
    },
    {
      "cell_type": "code",
      "source": [
        "df_0003 = feature_df[feature_df['RM12/0003'] == 1]\n",
        "print(df_0003.info())"
      ],
      "metadata": {
        "colab": {
          "base_uri": "https://localhost:8080/"
        },
        "outputId": "0ce51802-d717-4636-9f73-726cc6639520",
        "id": "88LhfjdKEGVb"
      },
      "execution_count": null,
      "outputs": [
        {
          "output_type": "stream",
          "name": "stdout",
          "text": [
            "<class 'pandas.core.frame.DataFrame'>\n",
            "Index: 96 entries, 3 to 193\n",
            "Data columns (total 82 columns):\n",
            " #   Column             Non-Null Count  Dtype         \n",
            "---  ------             --------------  -----         \n",
            " 0   RM12/0002          96 non-null     bool          \n",
            " 1   RM12/0003          96 non-null     bool          \n",
            " 2   RM12/0005          96 non-null     bool          \n",
            " 3   RM12/0008          96 non-null     bool          \n",
            " 4   RM12/0012          96 non-null     bool          \n",
            " 5   Year               96 non-null     int64         \n",
            " 6   Month              96 non-null     int64         \n",
            " 7   Time               96 non-null     datetime64[ns]\n",
            " 8   Group Description  96 non-null     object        \n",
            " 9   Average_price      96 non-null     float64       \n",
            " 10  PNGASEUUSDM_1      96 non-null     float64       \n",
            " 11  POILBREUSDM_1      96 non-null     float64       \n",
            " 12  PPOILUSDM_1        96 non-null     float64       \n",
            " 13  WPU0652013A_1      96 non-null     float64       \n",
            " 14  Electricity_1      96 non-null     float64       \n",
            " 15  PNGASEUUSDM_2      96 non-null     float64       \n",
            " 16  POILBREUSDM_2      96 non-null     float64       \n",
            " 17  PPOILUSDM_2        96 non-null     float64       \n",
            " 18  WPU0652013A_2      96 non-null     float64       \n",
            " 19  Electricity_2      96 non-null     float64       \n",
            " 20  PNGASEUUSDM_3      96 non-null     float64       \n",
            " 21  POILBREUSDM_3      96 non-null     float64       \n",
            " 22  PPOILUSDM_3        96 non-null     float64       \n",
            " 23  WPU0652013A_3      96 non-null     float64       \n",
            " 24  Electricity_3      96 non-null     float64       \n",
            " 25  PNGASEUUSDM_4      96 non-null     float64       \n",
            " 26  POILBREUSDM_4      96 non-null     float64       \n",
            " 27  PPOILUSDM_4        96 non-null     float64       \n",
            " 28  WPU0652013A_4      96 non-null     float64       \n",
            " 29  Electricity_4      96 non-null     float64       \n",
            " 30  PNGASEUUSDM_5      96 non-null     float64       \n",
            " 31  POILBREUSDM_5      96 non-null     float64       \n",
            " 32  PPOILUSDM_5        96 non-null     float64       \n",
            " 33  WPU0652013A_5      96 non-null     float64       \n",
            " 34  Electricity_5      96 non-null     float64       \n",
            " 35  PNGASEUUSDM_6      96 non-null     float64       \n",
            " 36  POILBREUSDM_6      96 non-null     float64       \n",
            " 37  PPOILUSDM_6        96 non-null     float64       \n",
            " 38  WPU0652013A_6      96 non-null     float64       \n",
            " 39  Electricity_6      96 non-null     float64       \n",
            " 40  PNGASEUUSDM_7      96 non-null     float64       \n",
            " 41  POILBREUSDM_7      96 non-null     float64       \n",
            " 42  PPOILUSDM_7        96 non-null     float64       \n",
            " 43  WPU0652013A_7      96 non-null     float64       \n",
            " 44  Electricity_7      96 non-null     float64       \n",
            " 45  PNGASEUUSDM_8      96 non-null     float64       \n",
            " 46  POILBREUSDM_8      96 non-null     float64       \n",
            " 47  PPOILUSDM_8        96 non-null     float64       \n",
            " 48  WPU0652013A_8      96 non-null     float64       \n",
            " 49  Electricity_8      96 non-null     float64       \n",
            " 50  PNGASEUUSDM_9      96 non-null     float64       \n",
            " 51  POILBREUSDM_9      96 non-null     float64       \n",
            " 52  PPOILUSDM_9        96 non-null     float64       \n",
            " 53  WPU0652013A_9      96 non-null     float64       \n",
            " 54  Electricity_9      96 non-null     float64       \n",
            " 55  PNGASEUUSDM_10     96 non-null     float64       \n",
            " 56  POILBREUSDM_10     96 non-null     float64       \n",
            " 57  PPOILUSDM_10       96 non-null     float64       \n",
            " 58  WPU0652013A_10     96 non-null     float64       \n",
            " 59  Electricity_10     96 non-null     float64       \n",
            " 60  PNGASEUUSDM_11     96 non-null     float64       \n",
            " 61  POILBREUSDM_11     96 non-null     float64       \n",
            " 62  PPOILUSDM_11       96 non-null     float64       \n",
            " 63  WPU0652013A_11     96 non-null     float64       \n",
            " 64  Electricity_11     96 non-null     float64       \n",
            " 65  PNGASEUUSDM_12     96 non-null     float64       \n",
            " 66  POILBREUSDM_12     96 non-null     float64       \n",
            " 67  PPOILUSDM_12       96 non-null     float64       \n",
            " 68  WPU0652013A_12     96 non-null     float64       \n",
            " 69  Electricity_12     96 non-null     float64       \n",
            " 70  AR_1               96 non-null     float64       \n",
            " 71  AR_2               96 non-null     float64       \n",
            " 72  AR_3               96 non-null     float64       \n",
            " 73  AR_4               96 non-null     float64       \n",
            " 74  AR_5               96 non-null     float64       \n",
            " 75  AR_6               96 non-null     float64       \n",
            " 76  AR_7               96 non-null     float64       \n",
            " 77  AR_8               96 non-null     float64       \n",
            " 78  AR_9               96 non-null     float64       \n",
            " 79  AR_10              96 non-null     float64       \n",
            " 80  AR_11              96 non-null     float64       \n",
            " 81  AR_12              96 non-null     float64       \n",
            "dtypes: bool(5), datetime64[ns](1), float64(73), int64(2), object(1)\n",
            "memory usage: 59.0+ KB\n",
            "None\n"
          ]
        }
      ]
    },
    {
      "cell_type": "code",
      "source": [
        "df_0005 = feature_df[feature_df['RM12/0005'] == 1]\n",
        "print(df_0005.info())"
      ],
      "metadata": {
        "colab": {
          "base_uri": "https://localhost:8080/"
        },
        "id": "bbuEbyz6HmpR",
        "outputId": "d02a5559-ede0-4871-c1ff-fbb2df00e1c6"
      },
      "execution_count": null,
      "outputs": [
        {
          "output_type": "stream",
          "name": "stdout",
          "text": [
            "<class 'pandas.core.frame.DataFrame'>\n",
            "Index: 96 entries, 2 to 192\n",
            "Data columns (total 82 columns):\n",
            " #   Column             Non-Null Count  Dtype         \n",
            "---  ------             --------------  -----         \n",
            " 0   RM12/0002          96 non-null     bool          \n",
            " 1   RM12/0003          96 non-null     bool          \n",
            " 2   RM12/0005          96 non-null     bool          \n",
            " 3   RM12/0008          96 non-null     bool          \n",
            " 4   RM12/0012          96 non-null     bool          \n",
            " 5   Year               96 non-null     int64         \n",
            " 6   Month              96 non-null     int64         \n",
            " 7   Time               96 non-null     datetime64[ns]\n",
            " 8   Group Description  96 non-null     object        \n",
            " 9   Average_price      96 non-null     float64       \n",
            " 10  PNGASEUUSDM_1      96 non-null     float64       \n",
            " 11  POILBREUSDM_1      96 non-null     float64       \n",
            " 12  PPOILUSDM_1        96 non-null     float64       \n",
            " 13  WPU0652013A_1      96 non-null     float64       \n",
            " 14  Electricity_1      96 non-null     float64       \n",
            " 15  PNGASEUUSDM_2      96 non-null     float64       \n",
            " 16  POILBREUSDM_2      96 non-null     float64       \n",
            " 17  PPOILUSDM_2        96 non-null     float64       \n",
            " 18  WPU0652013A_2      96 non-null     float64       \n",
            " 19  Electricity_2      96 non-null     float64       \n",
            " 20  PNGASEUUSDM_3      96 non-null     float64       \n",
            " 21  POILBREUSDM_3      96 non-null     float64       \n",
            " 22  PPOILUSDM_3        96 non-null     float64       \n",
            " 23  WPU0652013A_3      96 non-null     float64       \n",
            " 24  Electricity_3      96 non-null     float64       \n",
            " 25  PNGASEUUSDM_4      96 non-null     float64       \n",
            " 26  POILBREUSDM_4      96 non-null     float64       \n",
            " 27  PPOILUSDM_4        96 non-null     float64       \n",
            " 28  WPU0652013A_4      96 non-null     float64       \n",
            " 29  Electricity_4      96 non-null     float64       \n",
            " 30  PNGASEUUSDM_5      96 non-null     float64       \n",
            " 31  POILBREUSDM_5      96 non-null     float64       \n",
            " 32  PPOILUSDM_5        96 non-null     float64       \n",
            " 33  WPU0652013A_5      96 non-null     float64       \n",
            " 34  Electricity_5      96 non-null     float64       \n",
            " 35  PNGASEUUSDM_6      96 non-null     float64       \n",
            " 36  POILBREUSDM_6      96 non-null     float64       \n",
            " 37  PPOILUSDM_6        96 non-null     float64       \n",
            " 38  WPU0652013A_6      96 non-null     float64       \n",
            " 39  Electricity_6      96 non-null     float64       \n",
            " 40  PNGASEUUSDM_7      96 non-null     float64       \n",
            " 41  POILBREUSDM_7      96 non-null     float64       \n",
            " 42  PPOILUSDM_7        96 non-null     float64       \n",
            " 43  WPU0652013A_7      96 non-null     float64       \n",
            " 44  Electricity_7      96 non-null     float64       \n",
            " 45  PNGASEUUSDM_8      96 non-null     float64       \n",
            " 46  POILBREUSDM_8      96 non-null     float64       \n",
            " 47  PPOILUSDM_8        96 non-null     float64       \n",
            " 48  WPU0652013A_8      96 non-null     float64       \n",
            " 49  Electricity_8      96 non-null     float64       \n",
            " 50  PNGASEUUSDM_9      96 non-null     float64       \n",
            " 51  POILBREUSDM_9      96 non-null     float64       \n",
            " 52  PPOILUSDM_9        96 non-null     float64       \n",
            " 53  WPU0652013A_9      96 non-null     float64       \n",
            " 54  Electricity_9      96 non-null     float64       \n",
            " 55  PNGASEUUSDM_10     96 non-null     float64       \n",
            " 56  POILBREUSDM_10     96 non-null     float64       \n",
            " 57  PPOILUSDM_10       96 non-null     float64       \n",
            " 58  WPU0652013A_10     96 non-null     float64       \n",
            " 59  Electricity_10     96 non-null     float64       \n",
            " 60  PNGASEUUSDM_11     96 non-null     float64       \n",
            " 61  POILBREUSDM_11     96 non-null     float64       \n",
            " 62  PPOILUSDM_11       96 non-null     float64       \n",
            " 63  WPU0652013A_11     96 non-null     float64       \n",
            " 64  Electricity_11     96 non-null     float64       \n",
            " 65  PNGASEUUSDM_12     96 non-null     float64       \n",
            " 66  POILBREUSDM_12     96 non-null     float64       \n",
            " 67  PPOILUSDM_12       96 non-null     float64       \n",
            " 68  WPU0652013A_12     96 non-null     float64       \n",
            " 69  Electricity_12     96 non-null     float64       \n",
            " 70  AR_1               96 non-null     float64       \n",
            " 71  AR_2               96 non-null     float64       \n",
            " 72  AR_3               96 non-null     float64       \n",
            " 73  AR_4               96 non-null     float64       \n",
            " 74  AR_5               96 non-null     float64       \n",
            " 75  AR_6               96 non-null     float64       \n",
            " 76  AR_7               96 non-null     float64       \n",
            " 77  AR_8               96 non-null     float64       \n",
            " 78  AR_9               96 non-null     float64       \n",
            " 79  AR_10              96 non-null     float64       \n",
            " 80  AR_11              96 non-null     float64       \n",
            " 81  AR_12              96 non-null     float64       \n",
            "dtypes: bool(5), datetime64[ns](1), float64(73), int64(2), object(1)\n",
            "memory usage: 59.0+ KB\n",
            "None\n"
          ]
        }
      ]
    },
    {
      "cell_type": "code",
      "source": [
        "df_0008 = feature_df[feature_df['RM12/0008'] == 1]\n",
        "print(df_0008.info())"
      ],
      "metadata": {
        "colab": {
          "base_uri": "https://localhost:8080/"
        },
        "id": "xGf-9Jw_Hocl",
        "outputId": "1e07425f-b99f-436a-e14c-fd617602c0a1"
      },
      "execution_count": null,
      "outputs": [
        {
          "output_type": "stream",
          "name": "stdout",
          "text": [
            "<class 'pandas.core.frame.DataFrame'>\n",
            "Index: 94 entries, 299 to 394\n",
            "Data columns (total 82 columns):\n",
            " #   Column             Non-Null Count  Dtype         \n",
            "---  ------             --------------  -----         \n",
            " 0   RM12/0002          94 non-null     bool          \n",
            " 1   RM12/0003          94 non-null     bool          \n",
            " 2   RM12/0005          94 non-null     bool          \n",
            " 3   RM12/0008          94 non-null     bool          \n",
            " 4   RM12/0012          94 non-null     bool          \n",
            " 5   Year               94 non-null     int64         \n",
            " 6   Month              94 non-null     int64         \n",
            " 7   Time               94 non-null     datetime64[ns]\n",
            " 8   Group Description  94 non-null     object        \n",
            " 9   Average_price      94 non-null     float64       \n",
            " 10  PNGASEUUSDM_1      94 non-null     float64       \n",
            " 11  POILBREUSDM_1      94 non-null     float64       \n",
            " 12  PPOILUSDM_1        94 non-null     float64       \n",
            " 13  WPU0652013A_1      94 non-null     float64       \n",
            " 14  Electricity_1      94 non-null     float64       \n",
            " 15  PNGASEUUSDM_2      94 non-null     float64       \n",
            " 16  POILBREUSDM_2      94 non-null     float64       \n",
            " 17  PPOILUSDM_2        94 non-null     float64       \n",
            " 18  WPU0652013A_2      94 non-null     float64       \n",
            " 19  Electricity_2      94 non-null     float64       \n",
            " 20  PNGASEUUSDM_3      94 non-null     float64       \n",
            " 21  POILBREUSDM_3      94 non-null     float64       \n",
            " 22  PPOILUSDM_3        94 non-null     float64       \n",
            " 23  WPU0652013A_3      94 non-null     float64       \n",
            " 24  Electricity_3      94 non-null     float64       \n",
            " 25  PNGASEUUSDM_4      94 non-null     float64       \n",
            " 26  POILBREUSDM_4      94 non-null     float64       \n",
            " 27  PPOILUSDM_4        94 non-null     float64       \n",
            " 28  WPU0652013A_4      94 non-null     float64       \n",
            " 29  Electricity_4      94 non-null     float64       \n",
            " 30  PNGASEUUSDM_5      94 non-null     float64       \n",
            " 31  POILBREUSDM_5      94 non-null     float64       \n",
            " 32  PPOILUSDM_5        94 non-null     float64       \n",
            " 33  WPU0652013A_5      94 non-null     float64       \n",
            " 34  Electricity_5      94 non-null     float64       \n",
            " 35  PNGASEUUSDM_6      94 non-null     float64       \n",
            " 36  POILBREUSDM_6      94 non-null     float64       \n",
            " 37  PPOILUSDM_6        94 non-null     float64       \n",
            " 38  WPU0652013A_6      94 non-null     float64       \n",
            " 39  Electricity_6      94 non-null     float64       \n",
            " 40  PNGASEUUSDM_7      94 non-null     float64       \n",
            " 41  POILBREUSDM_7      94 non-null     float64       \n",
            " 42  PPOILUSDM_7        94 non-null     float64       \n",
            " 43  WPU0652013A_7      94 non-null     float64       \n",
            " 44  Electricity_7      94 non-null     float64       \n",
            " 45  PNGASEUUSDM_8      94 non-null     float64       \n",
            " 46  POILBREUSDM_8      94 non-null     float64       \n",
            " 47  PPOILUSDM_8        94 non-null     float64       \n",
            " 48  WPU0652013A_8      94 non-null     float64       \n",
            " 49  Electricity_8      94 non-null     float64       \n",
            " 50  PNGASEUUSDM_9      94 non-null     float64       \n",
            " 51  POILBREUSDM_9      94 non-null     float64       \n",
            " 52  PPOILUSDM_9        94 non-null     float64       \n",
            " 53  WPU0652013A_9      94 non-null     float64       \n",
            " 54  Electricity_9      94 non-null     float64       \n",
            " 55  PNGASEUUSDM_10     94 non-null     float64       \n",
            " 56  POILBREUSDM_10     94 non-null     float64       \n",
            " 57  PPOILUSDM_10       94 non-null     float64       \n",
            " 58  WPU0652013A_10     94 non-null     float64       \n",
            " 59  Electricity_10     94 non-null     float64       \n",
            " 60  PNGASEUUSDM_11     94 non-null     float64       \n",
            " 61  POILBREUSDM_11     94 non-null     float64       \n",
            " 62  PPOILUSDM_11       94 non-null     float64       \n",
            " 63  WPU0652013A_11     94 non-null     float64       \n",
            " 64  Electricity_11     94 non-null     float64       \n",
            " 65  PNGASEUUSDM_12     94 non-null     float64       \n",
            " 66  POILBREUSDM_12     94 non-null     float64       \n",
            " 67  PPOILUSDM_12       94 non-null     float64       \n",
            " 68  WPU0652013A_12     94 non-null     float64       \n",
            " 69  Electricity_12     94 non-null     float64       \n",
            " 70  AR_1               94 non-null     float64       \n",
            " 71  AR_2               94 non-null     float64       \n",
            " 72  AR_3               94 non-null     float64       \n",
            " 73  AR_4               94 non-null     float64       \n",
            " 74  AR_5               94 non-null     float64       \n",
            " 75  AR_6               94 non-null     float64       \n",
            " 76  AR_7               94 non-null     float64       \n",
            " 77  AR_8               94 non-null     float64       \n",
            " 78  AR_9               94 non-null     float64       \n",
            " 79  AR_10              94 non-null     float64       \n",
            " 80  AR_11              94 non-null     float64       \n",
            " 81  AR_12              94 non-null     float64       \n",
            "dtypes: bool(5), datetime64[ns](1), float64(73), int64(2), object(1)\n",
            "memory usage: 57.7+ KB\n",
            "None\n"
          ]
        }
      ]
    },
    {
      "cell_type": "code",
      "source": [
        "df_0012 = feature_df[feature_df['RM12/0012'] == 1]\n",
        "print(df_0012.info())"
      ],
      "metadata": {
        "colab": {
          "base_uri": "https://localhost:8080/"
        },
        "id": "vHK0oE5UHoNx",
        "outputId": "1eede45a-e015-44ce-9616-a5e833f72f71"
      },
      "execution_count": null,
      "outputs": [
        {
          "output_type": "stream",
          "name": "stdout",
          "text": [
            "<class 'pandas.core.frame.DataFrame'>\n",
            "Index: 87 entries, 202 to 297\n",
            "Data columns (total 82 columns):\n",
            " #   Column             Non-Null Count  Dtype         \n",
            "---  ------             --------------  -----         \n",
            " 0   RM12/0002          87 non-null     bool          \n",
            " 1   RM12/0003          87 non-null     bool          \n",
            " 2   RM12/0005          87 non-null     bool          \n",
            " 3   RM12/0008          87 non-null     bool          \n",
            " 4   RM12/0012          87 non-null     bool          \n",
            " 5   Year               87 non-null     int64         \n",
            " 6   Month              87 non-null     int64         \n",
            " 7   Time               87 non-null     datetime64[ns]\n",
            " 8   Group Description  87 non-null     object        \n",
            " 9   Average_price      87 non-null     float64       \n",
            " 10  PNGASEUUSDM_1      87 non-null     float64       \n",
            " 11  POILBREUSDM_1      87 non-null     float64       \n",
            " 12  PPOILUSDM_1        87 non-null     float64       \n",
            " 13  WPU0652013A_1      87 non-null     float64       \n",
            " 14  Electricity_1      87 non-null     float64       \n",
            " 15  PNGASEUUSDM_2      87 non-null     float64       \n",
            " 16  POILBREUSDM_2      87 non-null     float64       \n",
            " 17  PPOILUSDM_2        87 non-null     float64       \n",
            " 18  WPU0652013A_2      87 non-null     float64       \n",
            " 19  Electricity_2      87 non-null     float64       \n",
            " 20  PNGASEUUSDM_3      87 non-null     float64       \n",
            " 21  POILBREUSDM_3      87 non-null     float64       \n",
            " 22  PPOILUSDM_3        87 non-null     float64       \n",
            " 23  WPU0652013A_3      87 non-null     float64       \n",
            " 24  Electricity_3      87 non-null     float64       \n",
            " 25  PNGASEUUSDM_4      87 non-null     float64       \n",
            " 26  POILBREUSDM_4      87 non-null     float64       \n",
            " 27  PPOILUSDM_4        87 non-null     float64       \n",
            " 28  WPU0652013A_4      87 non-null     float64       \n",
            " 29  Electricity_4      87 non-null     float64       \n",
            " 30  PNGASEUUSDM_5      87 non-null     float64       \n",
            " 31  POILBREUSDM_5      87 non-null     float64       \n",
            " 32  PPOILUSDM_5        87 non-null     float64       \n",
            " 33  WPU0652013A_5      87 non-null     float64       \n",
            " 34  Electricity_5      87 non-null     float64       \n",
            " 35  PNGASEUUSDM_6      87 non-null     float64       \n",
            " 36  POILBREUSDM_6      87 non-null     float64       \n",
            " 37  PPOILUSDM_6        87 non-null     float64       \n",
            " 38  WPU0652013A_6      87 non-null     float64       \n",
            " 39  Electricity_6      87 non-null     float64       \n",
            " 40  PNGASEUUSDM_7      87 non-null     float64       \n",
            " 41  POILBREUSDM_7      87 non-null     float64       \n",
            " 42  PPOILUSDM_7        87 non-null     float64       \n",
            " 43  WPU0652013A_7      87 non-null     float64       \n",
            " 44  Electricity_7      87 non-null     float64       \n",
            " 45  PNGASEUUSDM_8      87 non-null     float64       \n",
            " 46  POILBREUSDM_8      87 non-null     float64       \n",
            " 47  PPOILUSDM_8        87 non-null     float64       \n",
            " 48  WPU0652013A_8      87 non-null     float64       \n",
            " 49  Electricity_8      87 non-null     float64       \n",
            " 50  PNGASEUUSDM_9      87 non-null     float64       \n",
            " 51  POILBREUSDM_9      87 non-null     float64       \n",
            " 52  PPOILUSDM_9        87 non-null     float64       \n",
            " 53  WPU0652013A_9      87 non-null     float64       \n",
            " 54  Electricity_9      87 non-null     float64       \n",
            " 55  PNGASEUUSDM_10     87 non-null     float64       \n",
            " 56  POILBREUSDM_10     87 non-null     float64       \n",
            " 57  PPOILUSDM_10       87 non-null     float64       \n",
            " 58  WPU0652013A_10     87 non-null     float64       \n",
            " 59  Electricity_10     87 non-null     float64       \n",
            " 60  PNGASEUUSDM_11     87 non-null     float64       \n",
            " 61  POILBREUSDM_11     87 non-null     float64       \n",
            " 62  PPOILUSDM_11       87 non-null     float64       \n",
            " 63  WPU0652013A_11     87 non-null     float64       \n",
            " 64  Electricity_11     87 non-null     float64       \n",
            " 65  PNGASEUUSDM_12     87 non-null     float64       \n",
            " 66  POILBREUSDM_12     87 non-null     float64       \n",
            " 67  PPOILUSDM_12       87 non-null     float64       \n",
            " 68  WPU0652013A_12     87 non-null     float64       \n",
            " 69  Electricity_12     87 non-null     float64       \n",
            " 70  AR_1               87 non-null     float64       \n",
            " 71  AR_2               87 non-null     float64       \n",
            " 72  AR_3               87 non-null     float64       \n",
            " 73  AR_4               87 non-null     float64       \n",
            " 74  AR_5               87 non-null     float64       \n",
            " 75  AR_6               87 non-null     float64       \n",
            " 76  AR_7               87 non-null     float64       \n",
            " 77  AR_8               87 non-null     float64       \n",
            " 78  AR_9               87 non-null     float64       \n",
            " 79  AR_10              87 non-null     float64       \n",
            " 80  AR_11              87 non-null     float64       \n",
            " 81  AR_12              87 non-null     float64       \n",
            "dtypes: bool(5), datetime64[ns](1), float64(73), int64(2), object(1)\n",
            "memory usage: 53.4+ KB\n",
            "None\n"
          ]
        }
      ]
    },
    {
      "cell_type": "markdown",
      "source": [
        "## 0002"
      ],
      "metadata": {
        "id": "BLChrejBEGVc"
      }
    },
    {
      "cell_type": "code",
      "source": [
        "feature_df = df_0002"
      ],
      "metadata": {
        "id": "TP20LbHMEGVc"
      },
      "execution_count": null,
      "outputs": []
    },
    {
      "cell_type": "markdown",
      "source": [
        "### 1-month prediction"
      ],
      "metadata": {
        "id": "1YEGYQ1-EGVc"
      }
    },
    {
      "cell_type": "code",
      "source": [
        "mape_values = []\n",
        "for start, end in test_periods:\n",
        "    mape = calculate_mape_1(start, end)\n",
        "    mape_values.append(mape)\n",
        "    print(f\"MAPE from {start} to {end}: {mape:.1f}\")"
      ],
      "metadata": {
        "colab": {
          "base_uri": "https://localhost:8080/"
        },
        "outputId": "6772d166-c4de-4e52-ca79-5e76f54c88ee",
        "id": "gQ09-wNCEGVc"
      },
      "execution_count": null,
      "outputs": [
        {
          "output_type": "stream",
          "name": "stdout",
          "text": [
            "MAPE from 2019-01-01 to 2019-07-01: 12.3\n",
            "MAPE from 2019-07-01 to 2020-01-01: 8.9\n",
            "MAPE from 2020-01-01 to 2020-07-01: 13.0\n",
            "MAPE from 2020-07-01 to 2021-01-01: 9.7\n",
            "MAPE from 2021-01-01 to 2021-07-01: 40.0\n",
            "MAPE from 2021-07-01 to 2022-01-01: 15.1\n",
            "MAPE from 2022-01-01 to 2022-07-01: 10.6\n",
            "MAPE from 2022-07-01 to 2023-01-01: 8.0\n",
            "MAPE from 2023-01-01 to 2023-07-01: 22.0\n",
            "MAPE from 2023-07-01 to 2024-01-01: 15.8\n"
          ]
        }
      ]
    },
    {
      "cell_type": "code",
      "source": [
        "average_mape = np.mean(mape_values)\n",
        "print(f\"Average MAPE: {average_mape:.1f}\")"
      ],
      "metadata": {
        "colab": {
          "base_uri": "https://localhost:8080/"
        },
        "outputId": "1ac0c372-5122-44aa-983b-51b5ae194ef5",
        "id": "tbhEkvmmEGVc"
      },
      "execution_count": null,
      "outputs": [
        {
          "output_type": "stream",
          "name": "stdout",
          "text": [
            "Average MAPE: 15.5\n"
          ]
        }
      ]
    },
    {
      "cell_type": "markdown",
      "source": [
        "### 3-month prediction\n"
      ],
      "metadata": {
        "id": "phAkocKAEGVc"
      }
    },
    {
      "cell_type": "code",
      "source": [
        "mape_values = []\n",
        "for start, end in test_periods:\n",
        "    mape = calculate_mape_3(start, end)\n",
        "    mape_values.append(mape)\n",
        "    print(f\"MAPE from {start} to {end}: {mape:.1f}\")"
      ],
      "metadata": {
        "colab": {
          "base_uri": "https://localhost:8080/"
        },
        "outputId": "3fecacb7-1a1d-47e8-a568-5902c1446b10",
        "id": "LPYC2FlKEGVc"
      },
      "execution_count": null,
      "outputs": [
        {
          "output_type": "stream",
          "name": "stdout",
          "text": [
            "MAPE from 2019-01-01 to 2019-07-01: 11.0\n",
            "MAPE from 2019-07-01 to 2020-01-01: 11.3\n",
            "MAPE from 2020-01-01 to 2020-07-01: 6.0\n",
            "MAPE from 2020-07-01 to 2021-01-01: 11.0\n",
            "MAPE from 2021-01-01 to 2021-07-01: 41.5\n",
            "MAPE from 2021-07-01 to 2022-01-01: 23.7\n",
            "MAPE from 2022-01-01 to 2022-07-01: 17.3\n",
            "MAPE from 2022-07-01 to 2023-01-01: 10.1\n",
            "MAPE from 2023-01-01 to 2023-07-01: 25.0\n",
            "MAPE from 2023-07-01 to 2024-01-01: 16.0\n"
          ]
        }
      ]
    },
    {
      "cell_type": "code",
      "source": [
        "average_mape = np.mean(mape_values)\n",
        "print(f\"Average MAPE: {average_mape:.1f}\")"
      ],
      "metadata": {
        "colab": {
          "base_uri": "https://localhost:8080/"
        },
        "outputId": "1037101b-c091-417e-e823-593420e51327",
        "id": "Tf8ZY69REGVd"
      },
      "execution_count": null,
      "outputs": [
        {
          "output_type": "stream",
          "name": "stdout",
          "text": [
            "Average MAPE: 17.3\n"
          ]
        }
      ]
    },
    {
      "cell_type": "markdown",
      "source": [
        "### 6-month prediction"
      ],
      "metadata": {
        "id": "mvqpwWJ7EGVd"
      }
    },
    {
      "cell_type": "code",
      "source": [
        "mape_values = []\n",
        "for start, end in test_periods:\n",
        "    mape = calculate_mape_6(start, end)\n",
        "    mape_values.append(mape)\n",
        "    print(f\"MAPE from {start} to {end}: {mape:.1f}\")"
      ],
      "metadata": {
        "colab": {
          "base_uri": "https://localhost:8080/"
        },
        "outputId": "53b646f9-da40-47d0-dab4-8d55384e5215",
        "id": "JqbEUa2kEGVd"
      },
      "execution_count": null,
      "outputs": [
        {
          "output_type": "stream",
          "name": "stdout",
          "text": [
            "MAPE from 2019-01-01 to 2019-07-01: 5.7\n",
            "MAPE from 2019-07-01 to 2020-01-01: 16.0\n",
            "MAPE from 2020-01-01 to 2020-07-01: 9.6\n",
            "MAPE from 2020-07-01 to 2021-01-01: 6.1\n",
            "MAPE from 2021-01-01 to 2021-07-01: 25.4\n",
            "MAPE from 2021-07-01 to 2022-01-01: 22.7\n",
            "MAPE from 2022-01-01 to 2022-07-01: 24.0\n",
            "MAPE from 2022-07-01 to 2023-01-01: 9.0\n",
            "MAPE from 2023-01-01 to 2023-07-01: 20.4\n",
            "MAPE from 2023-07-01 to 2024-01-01: 11.1\n"
          ]
        }
      ]
    },
    {
      "cell_type": "code",
      "source": [
        "average_mape = np.mean(mape_values)\n",
        "print(f\"Average MAPE: {average_mape:.1f}\")"
      ],
      "metadata": {
        "colab": {
          "base_uri": "https://localhost:8080/"
        },
        "outputId": "e9ebc6e1-5318-4c04-c4c5-a227f9857776",
        "id": "BxmsdqW_EGVd"
      },
      "execution_count": null,
      "outputs": [
        {
          "output_type": "stream",
          "name": "stdout",
          "text": [
            "Average MAPE: 15.0\n"
          ]
        }
      ]
    },
    {
      "cell_type": "markdown",
      "source": [
        "## 0003"
      ],
      "metadata": {
        "id": "JuYy_DmfH2GO"
      }
    },
    {
      "cell_type": "code",
      "source": [
        "feature_df = df_0003"
      ],
      "metadata": {
        "id": "gGalWX2tH2GP"
      },
      "execution_count": null,
      "outputs": []
    },
    {
      "cell_type": "markdown",
      "source": [
        "### 1-month prediction"
      ],
      "metadata": {
        "id": "rzC6I3IUH2GP"
      }
    },
    {
      "cell_type": "code",
      "source": [
        "mape_values = []\n",
        "for start, end in test_periods:\n",
        "    mape = calculate_mape_1(start, end)\n",
        "    mape_values.append(mape)\n",
        "    print(f\"MAPE from {start} to {end}: {mape:.1f}\")"
      ],
      "metadata": {
        "colab": {
          "base_uri": "https://localhost:8080/"
        },
        "outputId": "1fe6b30f-7463-41e1-f9a1-4fd6b6dfdca7",
        "id": "YnFApr4yH2GP"
      },
      "execution_count": null,
      "outputs": [
        {
          "output_type": "stream",
          "name": "stdout",
          "text": [
            "MAPE from 2019-01-01 to 2019-07-01: 4.3\n",
            "MAPE from 2019-07-01 to 2020-01-01: 9.6\n",
            "MAPE from 2020-01-01 to 2020-07-01: 7.1\n",
            "MAPE from 2020-07-01 to 2021-01-01: 17.8\n",
            "MAPE from 2021-01-01 to 2021-07-01: 10.8\n",
            "MAPE from 2021-07-01 to 2022-01-01: 4.6\n",
            "MAPE from 2022-01-01 to 2022-07-01: 8.5\n",
            "MAPE from 2022-07-01 to 2023-01-01: 5.9\n",
            "MAPE from 2023-01-01 to 2023-07-01: 7.3\n",
            "MAPE from 2023-07-01 to 2024-01-01: 3.2\n"
          ]
        }
      ]
    },
    {
      "cell_type": "code",
      "source": [
        "average_mape = np.mean(mape_values)\n",
        "print(f\"Average MAPE: {average_mape:.1f}\")"
      ],
      "metadata": {
        "colab": {
          "base_uri": "https://localhost:8080/"
        },
        "outputId": "c7b53653-6492-4563-da8e-5f2a95d7107e",
        "id": "AIj1xoWBH2GP"
      },
      "execution_count": null,
      "outputs": [
        {
          "output_type": "stream",
          "name": "stdout",
          "text": [
            "Average MAPE: 7.9\n"
          ]
        }
      ]
    },
    {
      "cell_type": "markdown",
      "source": [
        "### 3-month prediction\n"
      ],
      "metadata": {
        "id": "8v-4_etqH2GP"
      }
    },
    {
      "cell_type": "code",
      "source": [
        "mape_values = []\n",
        "for start, end in test_periods:\n",
        "    mape = calculate_mape_3(start, end)\n",
        "    mape_values.append(mape)\n",
        "    print(f\"MAPE from {start} to {end}: {mape:.1f}\")"
      ],
      "metadata": {
        "colab": {
          "base_uri": "https://localhost:8080/"
        },
        "outputId": "e92f16fd-6feb-4c4e-ff25-57dc580eb39f",
        "id": "yLz4P8DSH2GP"
      },
      "execution_count": null,
      "outputs": [
        {
          "output_type": "stream",
          "name": "stdout",
          "text": [
            "MAPE from 2019-01-01 to 2019-07-01: 4.7\n",
            "MAPE from 2019-07-01 to 2020-01-01: 7.0\n",
            "MAPE from 2020-01-01 to 2020-07-01: 10.0\n",
            "MAPE from 2020-07-01 to 2021-01-01: 8.8\n",
            "MAPE from 2021-01-01 to 2021-07-01: 11.7\n",
            "MAPE from 2021-07-01 to 2022-01-01: 8.2\n",
            "MAPE from 2022-01-01 to 2022-07-01: 15.9\n",
            "MAPE from 2022-07-01 to 2023-01-01: 5.5\n",
            "MAPE from 2023-01-01 to 2023-07-01: 12.7\n",
            "MAPE from 2023-07-01 to 2024-01-01: 5.7\n"
          ]
        }
      ]
    },
    {
      "cell_type": "code",
      "source": [
        "average_mape = np.mean(mape_values)\n",
        "print(f\"Average MAPE: {average_mape:.1f}\")"
      ],
      "metadata": {
        "colab": {
          "base_uri": "https://localhost:8080/"
        },
        "outputId": "db9903ff-79b5-4c2d-f003-15edc4518366",
        "id": "6alvYnFtH2GP"
      },
      "execution_count": null,
      "outputs": [
        {
          "output_type": "stream",
          "name": "stdout",
          "text": [
            "Average MAPE: 9.0\n"
          ]
        }
      ]
    },
    {
      "cell_type": "markdown",
      "source": [
        "### 6-month prediction"
      ],
      "metadata": {
        "id": "fr7CWNw7H2GQ"
      }
    },
    {
      "cell_type": "code",
      "source": [
        "mape_values = []\n",
        "for start, end in test_periods:\n",
        "    mape = calculate_mape_6(start, end)\n",
        "    mape_values.append(mape)\n",
        "    print(f\"MAPE from {start} to {end}: {mape:.1f}\")"
      ],
      "metadata": {
        "colab": {
          "base_uri": "https://localhost:8080/"
        },
        "outputId": "2532324c-85f2-4023-bde1-dd40f8e27617",
        "id": "QzQDNEHaH2GQ"
      },
      "execution_count": null,
      "outputs": [
        {
          "output_type": "stream",
          "name": "stdout",
          "text": [
            "MAPE from 2019-01-01 to 2019-07-01: 3.1\n",
            "MAPE from 2019-07-01 to 2020-01-01: 9.1\n",
            "MAPE from 2020-01-01 to 2020-07-01: 18.0\n",
            "MAPE from 2020-07-01 to 2021-01-01: 10.1\n",
            "MAPE from 2021-01-01 to 2021-07-01: 15.6\n",
            "MAPE from 2021-07-01 to 2022-01-01: 10.2\n",
            "MAPE from 2022-01-01 to 2022-07-01: 23.0\n",
            "MAPE from 2022-07-01 to 2023-01-01: 8.7\n",
            "MAPE from 2023-01-01 to 2023-07-01: 17.5\n",
            "MAPE from 2023-07-01 to 2024-01-01: 6.2\n"
          ]
        }
      ]
    },
    {
      "cell_type": "code",
      "source": [
        "average_mape = np.mean(mape_values)\n",
        "print(f\"Average MAPE: {average_mape:.1f}\")"
      ],
      "metadata": {
        "colab": {
          "base_uri": "https://localhost:8080/"
        },
        "outputId": "a145ccfb-08a2-4f4c-99cf-64adce92f6ca",
        "id": "jcyzWwQVH2GQ"
      },
      "execution_count": null,
      "outputs": [
        {
          "output_type": "stream",
          "name": "stdout",
          "text": [
            "Average MAPE: 12.2\n"
          ]
        }
      ]
    },
    {
      "cell_type": "markdown",
      "source": [
        "## 0005"
      ],
      "metadata": {
        "id": "MMMugzIyH2qf"
      }
    },
    {
      "cell_type": "code",
      "source": [
        "feature_df = df_0005"
      ],
      "metadata": {
        "id": "eybqxFJ9H2qf"
      },
      "execution_count": null,
      "outputs": []
    },
    {
      "cell_type": "markdown",
      "source": [
        "### 1-month prediction"
      ],
      "metadata": {
        "id": "7NRxxwELH2qf"
      }
    },
    {
      "cell_type": "code",
      "source": [
        "mape_values = []\n",
        "for start, end in test_periods:\n",
        "    mape = calculate_mape_1(start, end)\n",
        "    mape_values.append(mape)\n",
        "    print(f\"MAPE from {start} to {end}: {mape:.1f}\")"
      ],
      "metadata": {
        "colab": {
          "base_uri": "https://localhost:8080/"
        },
        "outputId": "86173be9-ccc5-4384-ffa7-fc4c09e87a79",
        "id": "RstSfFzlH2qg"
      },
      "execution_count": null,
      "outputs": [
        {
          "output_type": "stream",
          "name": "stdout",
          "text": [
            "MAPE from 2019-01-01 to 2019-07-01: 4.1\n",
            "MAPE from 2019-07-01 to 2020-01-01: 16.3\n",
            "MAPE from 2020-01-01 to 2020-07-01: 8.1\n",
            "MAPE from 2020-07-01 to 2021-01-01: 9.5\n",
            "MAPE from 2021-01-01 to 2021-07-01: 11.4\n",
            "MAPE from 2021-07-01 to 2022-01-01: 8.3\n",
            "MAPE from 2022-01-01 to 2022-07-01: 5.4\n",
            "MAPE from 2022-07-01 to 2023-01-01: 5.4\n",
            "MAPE from 2023-01-01 to 2023-07-01: 5.4\n",
            "MAPE from 2023-07-01 to 2024-01-01: 3.8\n"
          ]
        }
      ]
    },
    {
      "cell_type": "code",
      "source": [
        "average_mape = np.mean(mape_values)\n",
        "print(f\"Average MAPE: {average_mape:.1f}\")"
      ],
      "metadata": {
        "colab": {
          "base_uri": "https://localhost:8080/"
        },
        "outputId": "f777fb36-34aa-4cb1-b467-ada53fb38e75",
        "id": "7XCvlBlKH2qg"
      },
      "execution_count": null,
      "outputs": [
        {
          "output_type": "stream",
          "name": "stdout",
          "text": [
            "Average MAPE: 7.8\n"
          ]
        }
      ]
    },
    {
      "cell_type": "markdown",
      "source": [
        "### 3-month prediction\n"
      ],
      "metadata": {
        "id": "HS0Q6FmyH2qg"
      }
    },
    {
      "cell_type": "code",
      "source": [
        "mape_values = []\n",
        "for start, end in test_periods:\n",
        "    mape = calculate_mape_3(start, end)\n",
        "    mape_values.append(mape)\n",
        "    print(f\"MAPE from {start} to {end}: {mape:.1f}\")"
      ],
      "metadata": {
        "colab": {
          "base_uri": "https://localhost:8080/"
        },
        "outputId": "86765ae6-2a4f-4cc9-eb00-f0342cc555f1",
        "id": "-213HPnUH2qg"
      },
      "execution_count": null,
      "outputs": [
        {
          "output_type": "stream",
          "name": "stdout",
          "text": [
            "MAPE from 2019-01-01 to 2019-07-01: 6.1\n",
            "MAPE from 2019-07-01 to 2020-01-01: 17.8\n",
            "MAPE from 2020-01-01 to 2020-07-01: 5.6\n",
            "MAPE from 2020-07-01 to 2021-01-01: 7.6\n",
            "MAPE from 2021-01-01 to 2021-07-01: 11.4\n",
            "MAPE from 2021-07-01 to 2022-01-01: 8.3\n",
            "MAPE from 2022-01-01 to 2022-07-01: 10.1\n",
            "MAPE from 2022-07-01 to 2023-01-01: 5.7\n",
            "MAPE from 2023-01-01 to 2023-07-01: 10.5\n",
            "MAPE from 2023-07-01 to 2024-01-01: 6.8\n"
          ]
        }
      ]
    },
    {
      "cell_type": "code",
      "source": [
        "average_mape = np.mean(mape_values)\n",
        "print(f\"Average MAPE: {average_mape:.1f}\")"
      ],
      "metadata": {
        "colab": {
          "base_uri": "https://localhost:8080/"
        },
        "outputId": "5c541caa-49d2-49db-e4fa-2775e802819c",
        "id": "gkpzKa5sH2qg"
      },
      "execution_count": null,
      "outputs": [
        {
          "output_type": "stream",
          "name": "stdout",
          "text": [
            "Average MAPE: 9.0\n"
          ]
        }
      ]
    },
    {
      "cell_type": "markdown",
      "source": [
        "### 6-month prediction"
      ],
      "metadata": {
        "id": "nfqxJkeRH2qg"
      }
    },
    {
      "cell_type": "code",
      "source": [
        "mape_values = []\n",
        "for start, end in test_periods:\n",
        "    mape = calculate_mape_6(start, end)\n",
        "    mape_values.append(mape)\n",
        "    print(f\"MAPE from {start} to {end}: {mape:.1f}\")"
      ],
      "metadata": {
        "colab": {
          "base_uri": "https://localhost:8080/"
        },
        "outputId": "17fd7019-61ac-4647-b625-d91f304e9ef1",
        "id": "uj4ioYACH2qg"
      },
      "execution_count": null,
      "outputs": [
        {
          "output_type": "stream",
          "name": "stdout",
          "text": [
            "MAPE from 2019-01-01 to 2019-07-01: 5.8\n",
            "MAPE from 2019-07-01 to 2020-01-01: 16.6\n",
            "MAPE from 2020-01-01 to 2020-07-01: 11.3\n",
            "MAPE from 2020-07-01 to 2021-01-01: 10.9\n",
            "MAPE from 2021-01-01 to 2021-07-01: 12.5\n",
            "MAPE from 2021-07-01 to 2022-01-01: 15.4\n",
            "MAPE from 2022-01-01 to 2022-07-01: 15.3\n",
            "MAPE from 2022-07-01 to 2023-01-01: 9.3\n",
            "MAPE from 2023-01-01 to 2023-07-01: 19.2\n",
            "MAPE from 2023-07-01 to 2024-01-01: 5.7\n"
          ]
        }
      ]
    },
    {
      "cell_type": "code",
      "source": [
        "average_mape = np.mean(mape_values)\n",
        "print(f\"Average MAPE: {average_mape:.1f}\")"
      ],
      "metadata": {
        "colab": {
          "base_uri": "https://localhost:8080/"
        },
        "outputId": "f15cbbca-41b1-4e8b-e3f6-8277e1aa229b",
        "id": "9XEmXQHxH2qg"
      },
      "execution_count": null,
      "outputs": [
        {
          "output_type": "stream",
          "name": "stdout",
          "text": [
            "Average MAPE: 12.2\n"
          ]
        }
      ]
    },
    {
      "cell_type": "markdown",
      "source": [
        "## 0008"
      ],
      "metadata": {
        "id": "FAsUcnyZH3qq"
      }
    },
    {
      "cell_type": "code",
      "source": [
        "feature_df = df_0008"
      ],
      "metadata": {
        "id": "8JdDvlPpH3qq"
      },
      "execution_count": null,
      "outputs": []
    },
    {
      "cell_type": "markdown",
      "source": [
        "### 1-month prediction"
      ],
      "metadata": {
        "id": "RDpOE6AyH3qr"
      }
    },
    {
      "cell_type": "code",
      "source": [
        "mape_values = []\n",
        "for start, end in test_periods:\n",
        "    mape = calculate_mape_1(start, end)\n",
        "    mape_values.append(mape)\n",
        "    print(f\"MAPE from {start} to {end}: {mape:.1f}\")"
      ],
      "metadata": {
        "colab": {
          "base_uri": "https://localhost:8080/"
        },
        "outputId": "27b87806-46b2-433a-a622-6ff02b037f02",
        "id": "x_RR8EEcH3qr"
      },
      "execution_count": null,
      "outputs": [
        {
          "output_type": "stream",
          "name": "stdout",
          "text": [
            "MAPE from 2019-01-01 to 2019-07-01: 24.7\n",
            "MAPE from 2019-07-01 to 2020-01-01: 16.2\n",
            "MAPE from 2020-01-01 to 2020-07-01: 20.2\n",
            "MAPE from 2020-07-01 to 2021-01-01: 21.7\n",
            "MAPE from 2021-01-01 to 2021-07-01: 12.3\n",
            "MAPE from 2021-07-01 to 2022-01-01: 20.9\n",
            "MAPE from 2022-01-01 to 2022-07-01: 8.9\n",
            "MAPE from 2022-07-01 to 2023-01-01: 2.0\n",
            "MAPE from 2023-01-01 to 2023-07-01: 4.5\n",
            "MAPE from 2023-07-01 to 2024-01-01: 7.9\n"
          ]
        }
      ]
    },
    {
      "cell_type": "code",
      "source": [
        "average_mape = np.mean(mape_values)\n",
        "print(f\"Average MAPE: {average_mape:.1f}\")"
      ],
      "metadata": {
        "colab": {
          "base_uri": "https://localhost:8080/"
        },
        "outputId": "0f6b007d-8940-4be9-e11f-d84d98949243",
        "id": "egIOYWs2H3qr"
      },
      "execution_count": null,
      "outputs": [
        {
          "output_type": "stream",
          "name": "stdout",
          "text": [
            "Average MAPE: 13.9\n"
          ]
        }
      ]
    },
    {
      "cell_type": "markdown",
      "source": [
        "### 3-month prediction\n"
      ],
      "metadata": {
        "id": "9x-Z2xo3H3qr"
      }
    },
    {
      "cell_type": "code",
      "source": [
        "mape_values = []\n",
        "for start, end in test_periods:\n",
        "    mape = calculate_mape_3(start, end)\n",
        "    mape_values.append(mape)\n",
        "    print(f\"MAPE from {start} to {end}: {mape:.1f}\")"
      ],
      "metadata": {
        "colab": {
          "base_uri": "https://localhost:8080/"
        },
        "outputId": "5c7514c5-93f6-42d1-d622-f40a420ed3ff",
        "id": "wk-y7XjNH3qr"
      },
      "execution_count": null,
      "outputs": [
        {
          "output_type": "stream",
          "name": "stdout",
          "text": [
            "MAPE from 2019-01-01 to 2019-07-01: 16.1\n",
            "MAPE from 2019-07-01 to 2020-01-01: 20.1\n",
            "MAPE from 2020-01-01 to 2020-07-01: 10.9\n",
            "MAPE from 2020-07-01 to 2021-01-01: 10.6\n",
            "MAPE from 2021-01-01 to 2021-07-01: 29.5\n",
            "MAPE from 2021-07-01 to 2022-01-01: 13.9\n",
            "MAPE from 2022-01-01 to 2022-07-01: 13.9\n",
            "MAPE from 2022-07-01 to 2023-01-01: 4.9\n",
            "MAPE from 2023-01-01 to 2023-07-01: 8.3\n",
            "MAPE from 2023-07-01 to 2024-01-01: 8.4\n"
          ]
        }
      ]
    },
    {
      "cell_type": "code",
      "source": [
        "average_mape = np.mean(mape_values)\n",
        "print(f\"Average MAPE: {average_mape:.1f}\")"
      ],
      "metadata": {
        "colab": {
          "base_uri": "https://localhost:8080/"
        },
        "outputId": "91e6ad4e-839f-492d-a280-f7d3918b4c41",
        "id": "sNv6dWCMH3qs"
      },
      "execution_count": null,
      "outputs": [
        {
          "output_type": "stream",
          "name": "stdout",
          "text": [
            "Average MAPE: 13.7\n"
          ]
        }
      ]
    },
    {
      "cell_type": "markdown",
      "source": [
        "### 6-month prediction"
      ],
      "metadata": {
        "id": "ELoDh_qFH3qs"
      }
    },
    {
      "cell_type": "code",
      "source": [
        "mape_values = []\n",
        "for start, end in test_periods:\n",
        "    mape = calculate_mape_6(start, end)\n",
        "    mape_values.append(mape)\n",
        "    print(f\"MAPE from {start} to {end}: {mape:.1f}\")"
      ],
      "metadata": {
        "colab": {
          "base_uri": "https://localhost:8080/"
        },
        "outputId": "f693d63e-56ee-452d-bd5b-a1d84c6e6cb2",
        "id": "819ayIY8H3qs"
      },
      "execution_count": null,
      "outputs": [
        {
          "output_type": "stream",
          "name": "stdout",
          "text": [
            "MAPE from 2019-01-01 to 2019-07-01: 13.4\n",
            "MAPE from 2019-07-01 to 2020-01-01: 20.0\n",
            "MAPE from 2020-01-01 to 2020-07-01: 22.6\n",
            "MAPE from 2020-07-01 to 2021-01-01: 12.8\n",
            "MAPE from 2021-01-01 to 2021-07-01: 19.0\n",
            "MAPE from 2021-07-01 to 2022-01-01: 21.3\n",
            "MAPE from 2022-01-01 to 2022-07-01: 16.5\n",
            "MAPE from 2022-07-01 to 2023-01-01: 7.4\n",
            "MAPE from 2023-01-01 to 2023-07-01: 13.8\n",
            "MAPE from 2023-07-01 to 2024-01-01: 9.0\n"
          ]
        }
      ]
    },
    {
      "cell_type": "code",
      "source": [
        "average_mape = np.mean(mape_values)\n",
        "print(f\"Average MAPE: {average_mape:.1f}\")"
      ],
      "metadata": {
        "colab": {
          "base_uri": "https://localhost:8080/"
        },
        "outputId": "f3b92c0b-8bec-4a89-9c87-e54b2b33899f",
        "id": "HoIo3aOxH3qs"
      },
      "execution_count": null,
      "outputs": [
        {
          "output_type": "stream",
          "name": "stdout",
          "text": [
            "Average MAPE: 15.6\n"
          ]
        }
      ]
    },
    {
      "cell_type": "markdown",
      "source": [
        "## 0012"
      ],
      "metadata": {
        "id": "4m7diUL9H4ED"
      }
    },
    {
      "cell_type": "code",
      "source": [
        "feature_df = df_0012"
      ],
      "metadata": {
        "id": "jo3Ont6GH4ED"
      },
      "execution_count": null,
      "outputs": []
    },
    {
      "cell_type": "markdown",
      "source": [
        "### 1-month prediction"
      ],
      "metadata": {
        "id": "F81FcWhWH4EE"
      }
    },
    {
      "cell_type": "code",
      "source": [
        "mape_values = []\n",
        "for start, end in test_periods:\n",
        "    mape = calculate_mape_1(start, end)\n",
        "    mape_values.append(mape)\n",
        "    print(f\"MAPE from {start} to {end}: {mape:.1f}\")"
      ],
      "metadata": {
        "colab": {
          "base_uri": "https://localhost:8080/"
        },
        "outputId": "888bff77-9882-4d60-9f41-76b4cdecd3b5",
        "id": "KMlhahT9H4EE"
      },
      "execution_count": null,
      "outputs": [
        {
          "output_type": "stream",
          "name": "stdout",
          "text": [
            "MAPE from 2019-01-01 to 2019-07-01: 6.8\n",
            "MAPE from 2019-07-01 to 2020-01-01: 5.5\n",
            "MAPE from 2020-01-01 to 2020-07-01: 6.5\n",
            "MAPE from 2020-07-01 to 2021-01-01: 12.1\n",
            "MAPE from 2021-01-01 to 2021-07-01: 5.1\n",
            "MAPE from 2021-07-01 to 2022-01-01: 3.6\n",
            "MAPE from 2022-01-01 to 2022-07-01: 18.3\n",
            "MAPE from 2022-07-01 to 2023-01-01: 15.2\n",
            "MAPE from 2023-01-01 to 2023-07-01: 8.4\n",
            "MAPE from 2023-07-01 to 2024-01-01: 14.4\n"
          ]
        }
      ]
    },
    {
      "cell_type": "code",
      "source": [
        "average_mape = np.mean(mape_values)\n",
        "print(f\"Average MAPE: {average_mape:.1f}\")"
      ],
      "metadata": {
        "colab": {
          "base_uri": "https://localhost:8080/"
        },
        "outputId": "ce1f5f35-0539-4256-af37-7e885e2bc50b",
        "id": "EZ2vKe6DH4EE"
      },
      "execution_count": null,
      "outputs": [
        {
          "output_type": "stream",
          "name": "stdout",
          "text": [
            "Average MAPE: 9.6\n"
          ]
        }
      ]
    },
    {
      "cell_type": "markdown",
      "source": [
        "### 3-month prediction\n"
      ],
      "metadata": {
        "id": "RwXvYGCOH4EE"
      }
    },
    {
      "cell_type": "code",
      "source": [
        "mape_values = []\n",
        "for start, end in test_periods:\n",
        "    mape = calculate_mape_3(start, end)\n",
        "    mape_values.append(mape)\n",
        "    print(f\"MAPE from {start} to {end}: {mape:.1f}\")"
      ],
      "metadata": {
        "colab": {
          "base_uri": "https://localhost:8080/"
        },
        "outputId": "77eefc51-e628-4e03-c99b-bf1fd4d152c4",
        "id": "BFZTHZbuH4EE"
      },
      "execution_count": null,
      "outputs": [
        {
          "output_type": "stream",
          "name": "stdout",
          "text": [
            "MAPE from 2019-01-01 to 2019-07-01: 7.2\n",
            "MAPE from 2019-07-01 to 2020-01-01: 10.5\n",
            "MAPE from 2020-01-01 to 2020-07-01: 7.4\n",
            "MAPE from 2020-07-01 to 2021-01-01: 9.6\n",
            "MAPE from 2021-01-01 to 2021-07-01: 9.2\n",
            "MAPE from 2021-07-01 to 2022-01-01: 4.6\n",
            "MAPE from 2022-01-01 to 2022-07-01: 24.1\n",
            "MAPE from 2022-07-01 to 2023-01-01: 17.8\n",
            "MAPE from 2023-01-01 to 2023-07-01: 16.3\n",
            "MAPE from 2023-07-01 to 2024-01-01: 11.7\n"
          ]
        }
      ]
    },
    {
      "cell_type": "code",
      "source": [
        "average_mape = np.mean(mape_values)\n",
        "print(f\"Average MAPE: {average_mape:.1f}\")"
      ],
      "metadata": {
        "colab": {
          "base_uri": "https://localhost:8080/"
        },
        "outputId": "fc3fa6ed-258f-41a9-8ef8-108f1e231635",
        "id": "DDGnOl9ZH4EF"
      },
      "execution_count": null,
      "outputs": [
        {
          "output_type": "stream",
          "name": "stdout",
          "text": [
            "Average MAPE: 11.8\n"
          ]
        }
      ]
    },
    {
      "cell_type": "markdown",
      "source": [
        "### 6-month prediction"
      ],
      "metadata": {
        "id": "jVUvhWKHH4EF"
      }
    },
    {
      "cell_type": "code",
      "source": [
        "mape_values = []\n",
        "for start, end in test_periods:\n",
        "    mape = calculate_mape_6(start, end)\n",
        "    mape_values.append(mape)\n",
        "    print(f\"MAPE from {start} to {end}: {mape:.1f}\")"
      ],
      "metadata": {
        "colab": {
          "base_uri": "https://localhost:8080/"
        },
        "outputId": "aa96dd81-0ad9-4cea-c1fe-61e4b8e42f7d",
        "id": "UJ7mOB2iH4EF"
      },
      "execution_count": null,
      "outputs": [
        {
          "output_type": "stream",
          "name": "stdout",
          "text": [
            "MAPE from 2019-01-01 to 2019-07-01: 10.8\n",
            "MAPE from 2019-07-01 to 2020-01-01: 8.0\n",
            "MAPE from 2020-01-01 to 2020-07-01: 9.0\n",
            "MAPE from 2020-07-01 to 2021-01-01: 13.4\n",
            "MAPE from 2021-01-01 to 2021-07-01: 15.7\n",
            "MAPE from 2021-07-01 to 2022-01-01: 5.0\n",
            "MAPE from 2022-01-01 to 2022-07-01: 34.3\n",
            "MAPE from 2022-07-01 to 2023-01-01: 29.4\n",
            "MAPE from 2023-01-01 to 2023-07-01: 21.7\n",
            "MAPE from 2023-07-01 to 2024-01-01: 19.2\n"
          ]
        }
      ]
    },
    {
      "cell_type": "code",
      "source": [
        "average_mape = np.mean(mape_values)\n",
        "print(f\"Average MAPE: {average_mape:.1f}\")"
      ],
      "metadata": {
        "colab": {
          "base_uri": "https://localhost:8080/"
        },
        "outputId": "e9fecb2d-6591-40d7-8024-7afb7c0388cb",
        "id": "kjqzz-i9H4EF"
      },
      "execution_count": null,
      "outputs": [
        {
          "output_type": "stream",
          "name": "stdout",
          "text": [
            "Average MAPE: 16.6\n"
          ]
        }
      ]
    },
    {
      "cell_type": "markdown",
      "source": [
        "# Builder"
      ],
      "metadata": {
        "id": "QRBEty--EGpW"
      }
    },
    {
      "cell_type": "code",
      "source": [
        "feature_df = pd.read_csv('/content/drive/MyDrive/Colab Notebooks/Thesis/dataframe/builder_feature.csv',index_col=0)\n",
        "feature_df['Time'] = pd.to_datetime(feature_df['Time'])\n",
        "print(feature_df)"
      ],
      "metadata": {
        "colab": {
          "base_uri": "https://localhost:8080/"
        },
        "outputId": "d424be54-7dab-4edf-e266-f9be63455a7b",
        "id": "YdSTU91fEGpX"
      },
      "execution_count": null,
      "outputs": [
        {
          "output_type": "stream",
          "name": "stdout",
          "text": [
            "     RM20/0001  RM20/0015  RM20/0020  Year  Month       Time  \\\n",
            "14       False      False       True  2016      1 2016-01-31   \n",
            "15       False      False       True  2016      2 2016-02-29   \n",
            "16       False      False       True  2016      3 2016-03-31   \n",
            "17       False      False       True  2016      4 2016-04-30   \n",
            "18       False      False       True  2016      5 2016-05-31   \n",
            "..         ...        ...        ...   ...    ...        ...   \n",
            "323       True      False      False  2023      8 2023-08-25   \n",
            "324       True      False      False  2023      9 2023-09-30   \n",
            "325       True      False      False  2023     10 2023-10-31   \n",
            "326       True      False      False  2023     11 2023-11-30   \n",
            "327       True      False      False  2023     12 2023-12-29   \n",
            "\n",
            "    Group Description  Average_price  WPU01130232_1  PMAIZMTUSDM_1  ...  \\\n",
            "14            builder       0.725000        142.400     164.004402  ...   \n",
            "15            builder       0.806851        150.600     161.098877  ...   \n",
            "16            builder       0.761667        150.600     159.716845  ...   \n",
            "17            builder       0.663333        150.600     159.226532  ...   \n",
            "18            builder       0.640000        150.600     164.465402  ...   \n",
            "..                ...            ...            ...            ...  ...   \n",
            "323           builder       1.844731        122.242     235.271947  ...   \n",
            "324           builder       1.668692        116.042     207.675889  ...   \n",
            "325           builder       1.707587        116.484     223.847666  ...   \n",
            "326           builder       1.789516        128.222     221.902519  ...   \n",
            "327           builder       1.527896        131.765     209.040297  ...   \n",
            "\n",
            "         AR_3      AR_4      AR_5      AR_6      AR_7      AR_8      AR_9  \\\n",
            "14   0.815000  0.767500  0.777500  0.803750  0.735000  0.760000  0.790000   \n",
            "15   0.750000  0.815000  0.767500  0.777500  0.803750  0.735000  0.760000   \n",
            "16   0.880000  0.750000  0.815000  0.767500  0.777500  0.803750  0.735000   \n",
            "17   0.725000  0.880000  0.750000  0.815000  0.767500  0.777500  0.803750   \n",
            "18   0.806851  0.725000  0.880000  0.750000  0.815000  0.767500  0.777500   \n",
            "..        ...       ...       ...       ...       ...       ...       ...   \n",
            "323  1.894310  1.989148  2.567967  2.110606  2.076072  2.865824  2.174664   \n",
            "324  1.827170  1.894310  1.989148  2.567967  2.110606  2.076072  2.865824   \n",
            "325  1.754934  1.827170  1.894310  1.989148  2.567967  2.110606  2.076072   \n",
            "326  1.844731  1.754934  1.827170  1.894310  1.989148  2.567967  2.110606   \n",
            "327  1.668692  1.844731  1.754934  1.827170  1.894310  1.989148  2.567967   \n",
            "\n",
            "        AR_10     AR_11     AR_12  \n",
            "14   0.865000  0.800000  0.830000  \n",
            "15   0.790000  0.865000  0.800000  \n",
            "16   0.760000  0.790000  0.865000  \n",
            "17   0.735000  0.760000  0.790000  \n",
            "18   0.803750  0.735000  0.760000  \n",
            "..        ...       ...       ...  \n",
            "323  2.512190  2.332090  2.747803  \n",
            "324  2.174664  2.512190  2.332090  \n",
            "325  2.865824  2.174664  2.512190  \n",
            "326  2.076072  2.865824  2.174664  \n",
            "327  2.110606  2.076072  2.865824  \n",
            "\n",
            "[282 rows x 68 columns]\n"
          ]
        }
      ]
    },
    {
      "cell_type": "code",
      "source": [
        "df_0001 = feature_df[feature_df['RM20/0001'] == 1]\n",
        "print(df_0001.info())"
      ],
      "metadata": {
        "colab": {
          "base_uri": "https://localhost:8080/"
        },
        "outputId": "a87aec49-0a78-4049-d5cc-26b77c73e785",
        "id": "5lpYLm3bEGpX"
      },
      "execution_count": null,
      "outputs": [
        {
          "output_type": "stream",
          "name": "stdout",
          "text": [
            "<class 'pandas.core.frame.DataFrame'>\n",
            "Index: 94 entries, 232 to 327\n",
            "Data columns (total 68 columns):\n",
            " #   Column             Non-Null Count  Dtype         \n",
            "---  ------             --------------  -----         \n",
            " 0   RM20/0001          94 non-null     bool          \n",
            " 1   RM20/0015          94 non-null     bool          \n",
            " 2   RM20/0020          94 non-null     bool          \n",
            " 3   Year               94 non-null     int64         \n",
            " 4   Month              94 non-null     int64         \n",
            " 5   Time               94 non-null     datetime64[ns]\n",
            " 6   Group Description  94 non-null     object        \n",
            " 7   Average_price      94 non-null     float64       \n",
            " 8   WPU01130232_1      94 non-null     float64       \n",
            " 9   PMAIZMTUSDM_1      94 non-null     float64       \n",
            " 10  WPU07110224_1      94 non-null     float64       \n",
            " 11  WPU065202_1        94 non-null     float64       \n",
            " 12  WPU01130232_2      94 non-null     float64       \n",
            " 13  PMAIZMTUSDM_2      94 non-null     float64       \n",
            " 14  WPU07110224_2      94 non-null     float64       \n",
            " 15  WPU065202_2        94 non-null     float64       \n",
            " 16  WPU01130232_3      94 non-null     float64       \n",
            " 17  PMAIZMTUSDM_3      94 non-null     float64       \n",
            " 18  WPU07110224_3      94 non-null     float64       \n",
            " 19  WPU065202_3        94 non-null     float64       \n",
            " 20  WPU01130232_4      94 non-null     float64       \n",
            " 21  PMAIZMTUSDM_4      94 non-null     float64       \n",
            " 22  WPU07110224_4      94 non-null     float64       \n",
            " 23  WPU065202_4        94 non-null     float64       \n",
            " 24  WPU01130232_5      94 non-null     float64       \n",
            " 25  PMAIZMTUSDM_5      94 non-null     float64       \n",
            " 26  WPU07110224_5      94 non-null     float64       \n",
            " 27  WPU065202_5        94 non-null     float64       \n",
            " 28  WPU01130232_6      94 non-null     float64       \n",
            " 29  PMAIZMTUSDM_6      94 non-null     float64       \n",
            " 30  WPU07110224_6      94 non-null     float64       \n",
            " 31  WPU065202_6        94 non-null     float64       \n",
            " 32  WPU01130232_7      94 non-null     float64       \n",
            " 33  PMAIZMTUSDM_7      94 non-null     float64       \n",
            " 34  WPU07110224_7      94 non-null     float64       \n",
            " 35  WPU065202_7        94 non-null     float64       \n",
            " 36  WPU01130232_8      94 non-null     float64       \n",
            " 37  PMAIZMTUSDM_8      94 non-null     float64       \n",
            " 38  WPU07110224_8      94 non-null     float64       \n",
            " 39  WPU065202_8        94 non-null     float64       \n",
            " 40  WPU01130232_9      94 non-null     float64       \n",
            " 41  PMAIZMTUSDM_9      94 non-null     float64       \n",
            " 42  WPU07110224_9      94 non-null     float64       \n",
            " 43  WPU065202_9        94 non-null     float64       \n",
            " 44  WPU01130232_10     94 non-null     float64       \n",
            " 45  PMAIZMTUSDM_10     94 non-null     float64       \n",
            " 46  WPU07110224_10     94 non-null     float64       \n",
            " 47  WPU065202_10       94 non-null     float64       \n",
            " 48  WPU01130232_11     94 non-null     float64       \n",
            " 49  PMAIZMTUSDM_11     94 non-null     float64       \n",
            " 50  WPU07110224_11     94 non-null     float64       \n",
            " 51  WPU065202_11       94 non-null     float64       \n",
            " 52  WPU01130232_12     94 non-null     float64       \n",
            " 53  PMAIZMTUSDM_12     94 non-null     float64       \n",
            " 54  WPU07110224_12     94 non-null     float64       \n",
            " 55  WPU065202_12       94 non-null     float64       \n",
            " 56  AR_1               94 non-null     float64       \n",
            " 57  AR_2               94 non-null     float64       \n",
            " 58  AR_3               94 non-null     float64       \n",
            " 59  AR_4               94 non-null     float64       \n",
            " 60  AR_5               94 non-null     float64       \n",
            " 61  AR_6               94 non-null     float64       \n",
            " 62  AR_7               94 non-null     float64       \n",
            " 63  AR_8               94 non-null     float64       \n",
            " 64  AR_9               94 non-null     float64       \n",
            " 65  AR_10              94 non-null     float64       \n",
            " 66  AR_11              94 non-null     float64       \n",
            " 67  AR_12              94 non-null     float64       \n",
            "dtypes: bool(3), datetime64[ns](1), float64(61), int64(2), object(1)\n",
            "memory usage: 48.7+ KB\n",
            "None\n"
          ]
        }
      ]
    },
    {
      "cell_type": "code",
      "source": [
        "df_0015 = feature_df[feature_df['RM20/0015'] == 1]\n",
        "print(df_0015.info())"
      ],
      "metadata": {
        "colab": {
          "base_uri": "https://localhost:8080/"
        },
        "outputId": "b0a9cd98-0a53-4e52-ded1-f8343c886837",
        "id": "gbYCq9xGEGpX"
      },
      "execution_count": null,
      "outputs": [
        {
          "output_type": "stream",
          "name": "stdout",
          "text": [
            "<class 'pandas.core.frame.DataFrame'>\n",
            "Index: 93 entries, 122 to 217\n",
            "Data columns (total 68 columns):\n",
            " #   Column             Non-Null Count  Dtype         \n",
            "---  ------             --------------  -----         \n",
            " 0   RM20/0001          93 non-null     bool          \n",
            " 1   RM20/0015          93 non-null     bool          \n",
            " 2   RM20/0020          93 non-null     bool          \n",
            " 3   Year               93 non-null     int64         \n",
            " 4   Month              93 non-null     int64         \n",
            " 5   Time               93 non-null     datetime64[ns]\n",
            " 6   Group Description  93 non-null     object        \n",
            " 7   Average_price      93 non-null     float64       \n",
            " 8   WPU01130232_1      93 non-null     float64       \n",
            " 9   PMAIZMTUSDM_1      93 non-null     float64       \n",
            " 10  WPU07110224_1      93 non-null     float64       \n",
            " 11  WPU065202_1        93 non-null     float64       \n",
            " 12  WPU01130232_2      93 non-null     float64       \n",
            " 13  PMAIZMTUSDM_2      93 non-null     float64       \n",
            " 14  WPU07110224_2      93 non-null     float64       \n",
            " 15  WPU065202_2        93 non-null     float64       \n",
            " 16  WPU01130232_3      93 non-null     float64       \n",
            " 17  PMAIZMTUSDM_3      93 non-null     float64       \n",
            " 18  WPU07110224_3      93 non-null     float64       \n",
            " 19  WPU065202_3        93 non-null     float64       \n",
            " 20  WPU01130232_4      93 non-null     float64       \n",
            " 21  PMAIZMTUSDM_4      93 non-null     float64       \n",
            " 22  WPU07110224_4      93 non-null     float64       \n",
            " 23  WPU065202_4        93 non-null     float64       \n",
            " 24  WPU01130232_5      93 non-null     float64       \n",
            " 25  PMAIZMTUSDM_5      93 non-null     float64       \n",
            " 26  WPU07110224_5      93 non-null     float64       \n",
            " 27  WPU065202_5        93 non-null     float64       \n",
            " 28  WPU01130232_6      93 non-null     float64       \n",
            " 29  PMAIZMTUSDM_6      93 non-null     float64       \n",
            " 30  WPU07110224_6      93 non-null     float64       \n",
            " 31  WPU065202_6        93 non-null     float64       \n",
            " 32  WPU01130232_7      93 non-null     float64       \n",
            " 33  PMAIZMTUSDM_7      93 non-null     float64       \n",
            " 34  WPU07110224_7      93 non-null     float64       \n",
            " 35  WPU065202_7        93 non-null     float64       \n",
            " 36  WPU01130232_8      93 non-null     float64       \n",
            " 37  PMAIZMTUSDM_8      93 non-null     float64       \n",
            " 38  WPU07110224_8      93 non-null     float64       \n",
            " 39  WPU065202_8        93 non-null     float64       \n",
            " 40  WPU01130232_9      93 non-null     float64       \n",
            " 41  PMAIZMTUSDM_9      93 non-null     float64       \n",
            " 42  WPU07110224_9      93 non-null     float64       \n",
            " 43  WPU065202_9        93 non-null     float64       \n",
            " 44  WPU01130232_10     93 non-null     float64       \n",
            " 45  PMAIZMTUSDM_10     93 non-null     float64       \n",
            " 46  WPU07110224_10     93 non-null     float64       \n",
            " 47  WPU065202_10       93 non-null     float64       \n",
            " 48  WPU01130232_11     93 non-null     float64       \n",
            " 49  PMAIZMTUSDM_11     93 non-null     float64       \n",
            " 50  WPU07110224_11     93 non-null     float64       \n",
            " 51  WPU065202_11       93 non-null     float64       \n",
            " 52  WPU01130232_12     93 non-null     float64       \n",
            " 53  PMAIZMTUSDM_12     93 non-null     float64       \n",
            " 54  WPU07110224_12     93 non-null     float64       \n",
            " 55  WPU065202_12       93 non-null     float64       \n",
            " 56  AR_1               93 non-null     float64       \n",
            " 57  AR_2               93 non-null     float64       \n",
            " 58  AR_3               93 non-null     float64       \n",
            " 59  AR_4               93 non-null     float64       \n",
            " 60  AR_5               93 non-null     float64       \n",
            " 61  AR_6               93 non-null     float64       \n",
            " 62  AR_7               93 non-null     float64       \n",
            " 63  AR_8               93 non-null     float64       \n",
            " 64  AR_9               93 non-null     float64       \n",
            " 65  AR_10              93 non-null     float64       \n",
            " 66  AR_11              93 non-null     float64       \n",
            " 67  AR_12              93 non-null     float64       \n",
            "dtypes: bool(3), datetime64[ns](1), float64(61), int64(2), object(1)\n",
            "memory usage: 48.2+ KB\n",
            "None\n"
          ]
        }
      ]
    },
    {
      "cell_type": "code",
      "source": [
        "df_0020 = feature_df[feature_df['RM20/0020'] == 1]\n",
        "print(df_0020.info())"
      ],
      "metadata": {
        "colab": {
          "base_uri": "https://localhost:8080/"
        },
        "id": "xT3scmQsKGIA",
        "outputId": "b1565d1c-7938-4d70-c326-f3e22e232ca8"
      },
      "execution_count": null,
      "outputs": [
        {
          "output_type": "stream",
          "name": "stdout",
          "text": [
            "<class 'pandas.core.frame.DataFrame'>\n",
            "Index: 95 entries, 14 to 109\n",
            "Data columns (total 68 columns):\n",
            " #   Column             Non-Null Count  Dtype         \n",
            "---  ------             --------------  -----         \n",
            " 0   RM20/0001          95 non-null     bool          \n",
            " 1   RM20/0015          95 non-null     bool          \n",
            " 2   RM20/0020          95 non-null     bool          \n",
            " 3   Year               95 non-null     int64         \n",
            " 4   Month              95 non-null     int64         \n",
            " 5   Time               95 non-null     datetime64[ns]\n",
            " 6   Group Description  95 non-null     object        \n",
            " 7   Average_price      95 non-null     float64       \n",
            " 8   WPU01130232_1      95 non-null     float64       \n",
            " 9   PMAIZMTUSDM_1      95 non-null     float64       \n",
            " 10  WPU07110224_1      95 non-null     float64       \n",
            " 11  WPU065202_1        95 non-null     float64       \n",
            " 12  WPU01130232_2      95 non-null     float64       \n",
            " 13  PMAIZMTUSDM_2      95 non-null     float64       \n",
            " 14  WPU07110224_2      95 non-null     float64       \n",
            " 15  WPU065202_2        95 non-null     float64       \n",
            " 16  WPU01130232_3      95 non-null     float64       \n",
            " 17  PMAIZMTUSDM_3      95 non-null     float64       \n",
            " 18  WPU07110224_3      95 non-null     float64       \n",
            " 19  WPU065202_3        95 non-null     float64       \n",
            " 20  WPU01130232_4      95 non-null     float64       \n",
            " 21  PMAIZMTUSDM_4      95 non-null     float64       \n",
            " 22  WPU07110224_4      95 non-null     float64       \n",
            " 23  WPU065202_4        95 non-null     float64       \n",
            " 24  WPU01130232_5      95 non-null     float64       \n",
            " 25  PMAIZMTUSDM_5      95 non-null     float64       \n",
            " 26  WPU07110224_5      95 non-null     float64       \n",
            " 27  WPU065202_5        95 non-null     float64       \n",
            " 28  WPU01130232_6      95 non-null     float64       \n",
            " 29  PMAIZMTUSDM_6      95 non-null     float64       \n",
            " 30  WPU07110224_6      95 non-null     float64       \n",
            " 31  WPU065202_6        95 non-null     float64       \n",
            " 32  WPU01130232_7      95 non-null     float64       \n",
            " 33  PMAIZMTUSDM_7      95 non-null     float64       \n",
            " 34  WPU07110224_7      95 non-null     float64       \n",
            " 35  WPU065202_7        95 non-null     float64       \n",
            " 36  WPU01130232_8      95 non-null     float64       \n",
            " 37  PMAIZMTUSDM_8      95 non-null     float64       \n",
            " 38  WPU07110224_8      95 non-null     float64       \n",
            " 39  WPU065202_8        95 non-null     float64       \n",
            " 40  WPU01130232_9      95 non-null     float64       \n",
            " 41  PMAIZMTUSDM_9      95 non-null     float64       \n",
            " 42  WPU07110224_9      95 non-null     float64       \n",
            " 43  WPU065202_9        95 non-null     float64       \n",
            " 44  WPU01130232_10     95 non-null     float64       \n",
            " 45  PMAIZMTUSDM_10     95 non-null     float64       \n",
            " 46  WPU07110224_10     95 non-null     float64       \n",
            " 47  WPU065202_10       95 non-null     float64       \n",
            " 48  WPU01130232_11     95 non-null     float64       \n",
            " 49  PMAIZMTUSDM_11     95 non-null     float64       \n",
            " 50  WPU07110224_11     95 non-null     float64       \n",
            " 51  WPU065202_11       95 non-null     float64       \n",
            " 52  WPU01130232_12     95 non-null     float64       \n",
            " 53  PMAIZMTUSDM_12     95 non-null     float64       \n",
            " 54  WPU07110224_12     95 non-null     float64       \n",
            " 55  WPU065202_12       95 non-null     float64       \n",
            " 56  AR_1               95 non-null     float64       \n",
            " 57  AR_2               95 non-null     float64       \n",
            " 58  AR_3               95 non-null     float64       \n",
            " 59  AR_4               95 non-null     float64       \n",
            " 60  AR_5               95 non-null     float64       \n",
            " 61  AR_6               95 non-null     float64       \n",
            " 62  AR_7               95 non-null     float64       \n",
            " 63  AR_8               95 non-null     float64       \n",
            " 64  AR_9               95 non-null     float64       \n",
            " 65  AR_10              95 non-null     float64       \n",
            " 66  AR_11              95 non-null     float64       \n",
            " 67  AR_12              95 non-null     float64       \n",
            "dtypes: bool(3), datetime64[ns](1), float64(61), int64(2), object(1)\n",
            "memory usage: 49.3+ KB\n",
            "None\n"
          ]
        }
      ]
    },
    {
      "cell_type": "markdown",
      "source": [
        "## 0001"
      ],
      "metadata": {
        "id": "ZnHzKVUeEGpY"
      }
    },
    {
      "cell_type": "code",
      "source": [
        "feature_df = df_0001"
      ],
      "metadata": {
        "id": "DjxbgQV3EGpY"
      },
      "execution_count": null,
      "outputs": []
    },
    {
      "cell_type": "markdown",
      "source": [
        "### 1-month prediction"
      ],
      "metadata": {
        "id": "97vtSBcHEGpY"
      }
    },
    {
      "cell_type": "code",
      "source": [
        "mape_values = []\n",
        "for start, end in test_periods:\n",
        "    mape = calculate_mape_1(start, end)\n",
        "    mape_values.append(mape)\n",
        "    print(f\"MAPE from {start} to {end}: {mape:.1f}\")"
      ],
      "metadata": {
        "colab": {
          "base_uri": "https://localhost:8080/"
        },
        "outputId": "47210ea1-fe47-4627-9672-d8f4ef4661e4",
        "id": "xrlQmT7-EGpY"
      },
      "execution_count": null,
      "outputs": [
        {
          "output_type": "stream",
          "name": "stdout",
          "text": [
            "MAPE from 2019-01-01 to 2019-07-01: 7.0\n",
            "MAPE from 2019-07-01 to 2020-01-01: 5.1\n",
            "MAPE from 2020-01-01 to 2020-07-01: 7.9\n",
            "MAPE from 2020-07-01 to 2021-01-01: 7.6\n",
            "MAPE from 2021-01-01 to 2021-07-01: 10.1\n",
            "MAPE from 2021-07-01 to 2022-01-01: 13.9\n",
            "MAPE from 2022-01-01 to 2022-07-01: 18.3\n",
            "MAPE from 2022-07-01 to 2023-01-01: 13.7\n",
            "MAPE from 2023-01-01 to 2023-07-01: 15.9\n",
            "MAPE from 2023-07-01 to 2024-01-01: 7.3\n"
          ]
        }
      ]
    },
    {
      "cell_type": "code",
      "source": [
        "average_mape = np.mean(mape_values)\n",
        "print(f\"Average MAPE: {average_mape:.1f}\")"
      ],
      "metadata": {
        "colab": {
          "base_uri": "https://localhost:8080/"
        },
        "outputId": "b8b7f00a-9127-4336-c742-06d8087091ef",
        "id": "L4N17GrOEGpY"
      },
      "execution_count": null,
      "outputs": [
        {
          "output_type": "stream",
          "name": "stdout",
          "text": [
            "Average MAPE: 10.7\n"
          ]
        }
      ]
    },
    {
      "cell_type": "markdown",
      "source": [
        "### 3-month prediction\n"
      ],
      "metadata": {
        "id": "wLfuQWemEGpY"
      }
    },
    {
      "cell_type": "code",
      "source": [
        "mape_values = []\n",
        "for start, end in test_periods:\n",
        "    mape = calculate_mape_3(start, end)\n",
        "    mape_values.append(mape)\n",
        "    print(f\"MAPE from {start} to {end}: {mape:.1f}\")"
      ],
      "metadata": {
        "colab": {
          "base_uri": "https://localhost:8080/"
        },
        "outputId": "5f5ae9c1-0300-44ed-a600-9885d2a771f4",
        "id": "aDviQjixEGpY"
      },
      "execution_count": null,
      "outputs": [
        {
          "output_type": "stream",
          "name": "stdout",
          "text": [
            "MAPE from 2019-01-01 to 2019-07-01: 2.4\n",
            "MAPE from 2019-07-01 to 2020-01-01: 4.7\n",
            "MAPE from 2020-01-01 to 2020-07-01: 6.1\n",
            "MAPE from 2020-07-01 to 2021-01-01: 9.1\n",
            "MAPE from 2021-01-01 to 2021-07-01: 6.4\n",
            "MAPE from 2021-07-01 to 2022-01-01: 21.0\n",
            "MAPE from 2022-01-01 to 2022-07-01: 31.2\n",
            "MAPE from 2022-07-01 to 2023-01-01: 21.4\n",
            "MAPE from 2023-01-01 to 2023-07-01: 15.3\n",
            "MAPE from 2023-07-01 to 2024-01-01: 6.8\n"
          ]
        }
      ]
    },
    {
      "cell_type": "code",
      "source": [
        "average_mape = np.mean(mape_values)\n",
        "print(f\"Average MAPE: {average_mape:.1f}\")"
      ],
      "metadata": {
        "colab": {
          "base_uri": "https://localhost:8080/"
        },
        "outputId": "46e60d02-3004-452c-c64e-ae444ed848b6",
        "id": "fxJGGgXQEGpY"
      },
      "execution_count": null,
      "outputs": [
        {
          "output_type": "stream",
          "name": "stdout",
          "text": [
            "Average MAPE: 12.4\n"
          ]
        }
      ]
    },
    {
      "cell_type": "markdown",
      "source": [
        "### 6-month prediction"
      ],
      "metadata": {
        "id": "F2zMQr8vEGpZ"
      }
    },
    {
      "cell_type": "code",
      "source": [
        "mape_values = []\n",
        "for start, end in test_periods:\n",
        "    mape = calculate_mape_6(start, end)\n",
        "    mape_values.append(mape)\n",
        "    print(f\"MAPE from {start} to {end}: {mape:.1f}\")"
      ],
      "metadata": {
        "colab": {
          "base_uri": "https://localhost:8080/"
        },
        "outputId": "ec13e7e2-5053-4cea-8f72-98e85484fe81",
        "id": "j7VZr8xrEGpZ"
      },
      "execution_count": null,
      "outputs": [
        {
          "output_type": "stream",
          "name": "stdout",
          "text": [
            "MAPE from 2019-01-01 to 2019-07-01: 4.7\n",
            "MAPE from 2019-07-01 to 2020-01-01: 6.8\n",
            "MAPE from 2020-01-01 to 2020-07-01: 8.2\n",
            "MAPE from 2020-07-01 to 2021-01-01: 4.7\n",
            "MAPE from 2021-01-01 to 2021-07-01: 8.1\n",
            "MAPE from 2021-07-01 to 2022-01-01: 24.8\n",
            "MAPE from 2022-01-01 to 2022-07-01: 52.6\n",
            "MAPE from 2022-07-01 to 2023-01-01: 32.0\n",
            "MAPE from 2023-01-01 to 2023-07-01: 31.9\n",
            "MAPE from 2023-07-01 to 2024-01-01: 21.4\n"
          ]
        }
      ]
    },
    {
      "cell_type": "code",
      "source": [
        "average_mape = np.mean(mape_values)\n",
        "print(f\"Average MAPE: {average_mape:.1f}\")"
      ],
      "metadata": {
        "colab": {
          "base_uri": "https://localhost:8080/"
        },
        "outputId": "16a411f4-ca16-4fc8-9500-0b072b51f848",
        "id": "7AJFCBYkEGpZ"
      },
      "execution_count": null,
      "outputs": [
        {
          "output_type": "stream",
          "name": "stdout",
          "text": [
            "Average MAPE: 19.5\n"
          ]
        }
      ]
    },
    {
      "cell_type": "markdown",
      "source": [
        "## 0015"
      ],
      "metadata": {
        "id": "3LArTY0cKNQ9"
      }
    },
    {
      "cell_type": "code",
      "source": [
        "feature_df = df_0015"
      ],
      "metadata": {
        "id": "cpS6BkwnKNQ9"
      },
      "execution_count": null,
      "outputs": []
    },
    {
      "cell_type": "markdown",
      "source": [
        "### 1-month prediction"
      ],
      "metadata": {
        "id": "htgs34KJKNQ9"
      }
    },
    {
      "cell_type": "code",
      "source": [
        "mape_values = []\n",
        "for start, end in test_periods:\n",
        "    mape = calculate_mape_1(start, end)\n",
        "    mape_values.append(mape)\n",
        "    print(f\"MAPE from {start} to {end}: {mape:.1f}\")"
      ],
      "metadata": {
        "colab": {
          "base_uri": "https://localhost:8080/"
        },
        "outputId": "3e40e900-478c-4cbf-d0ce-8ae7a87a633b",
        "id": "3viWLfSTKNQ9"
      },
      "execution_count": null,
      "outputs": [
        {
          "output_type": "stream",
          "name": "stdout",
          "text": [
            "MAPE from 2019-01-01 to 2019-07-01: 5.5\n",
            "MAPE from 2019-07-01 to 2020-01-01: 7.1\n",
            "MAPE from 2020-01-01 to 2020-07-01: 22.7\n",
            "MAPE from 2020-07-01 to 2021-01-01: 7.6\n",
            "MAPE from 2021-01-01 to 2021-07-01: 11.1\n",
            "MAPE from 2021-07-01 to 2022-01-01: 16.0\n",
            "MAPE from 2022-01-01 to 2022-07-01: 7.0\n",
            "MAPE from 2022-07-01 to 2023-01-01: 6.6\n",
            "MAPE from 2023-01-01 to 2023-07-01: 23.3\n",
            "MAPE from 2023-07-01 to 2024-01-01: 9.6\n"
          ]
        }
      ]
    },
    {
      "cell_type": "code",
      "source": [
        "average_mape = np.mean(mape_values)\n",
        "print(f\"Average MAPE: {average_mape:.1f}\")"
      ],
      "metadata": {
        "colab": {
          "base_uri": "https://localhost:8080/"
        },
        "outputId": "160d471e-798e-4cbd-c11b-4077cd6b9a8c",
        "id": "0Iub4LnmKNQ-"
      },
      "execution_count": null,
      "outputs": [
        {
          "output_type": "stream",
          "name": "stdout",
          "text": [
            "Average MAPE: 11.6\n"
          ]
        }
      ]
    },
    {
      "cell_type": "markdown",
      "source": [
        "### 3-month prediction\n"
      ],
      "metadata": {
        "id": "sSusZDzWKNQ-"
      }
    },
    {
      "cell_type": "code",
      "source": [
        "mape_values = []\n",
        "for start, end in test_periods:\n",
        "    mape = calculate_mape_3(start, end)\n",
        "    mape_values.append(mape)\n",
        "    print(f\"MAPE from {start} to {end}: {mape:.1f}\")"
      ],
      "metadata": {
        "colab": {
          "base_uri": "https://localhost:8080/"
        },
        "outputId": "0d1eea1c-f694-4cbf-e4e0-51c33e6f7d3d",
        "id": "1beG57rlKNQ-"
      },
      "execution_count": null,
      "outputs": [
        {
          "output_type": "stream",
          "name": "stdout",
          "text": [
            "MAPE from 2019-01-01 to 2019-07-01: 6.7\n",
            "MAPE from 2019-07-01 to 2020-01-01: 7.3\n",
            "MAPE from 2020-01-01 to 2020-07-01: 19.0\n",
            "MAPE from 2020-07-01 to 2021-01-01: 10.2\n",
            "MAPE from 2021-01-01 to 2021-07-01: 13.2\n",
            "MAPE from 2021-07-01 to 2022-01-01: 13.9\n",
            "MAPE from 2022-01-01 to 2022-07-01: 14.0\n",
            "MAPE from 2022-07-01 to 2023-01-01: 12.4\n",
            "MAPE from 2023-01-01 to 2023-07-01: 14.1\n",
            "MAPE from 2023-07-01 to 2024-01-01: 16.1\n"
          ]
        }
      ]
    },
    {
      "cell_type": "code",
      "source": [
        "average_mape = np.mean(mape_values)\n",
        "print(f\"Average MAPE: {average_mape:.1f}\")"
      ],
      "metadata": {
        "colab": {
          "base_uri": "https://localhost:8080/"
        },
        "outputId": "2f8852cf-5e0d-41a5-b3e5-51f886785bbf",
        "id": "PqQYDHRVKNQ-"
      },
      "execution_count": null,
      "outputs": [
        {
          "output_type": "stream",
          "name": "stdout",
          "text": [
            "Average MAPE: 12.7\n"
          ]
        }
      ]
    },
    {
      "cell_type": "markdown",
      "source": [
        "### 6-month prediction"
      ],
      "metadata": {
        "id": "wAldZYRtKNQ-"
      }
    },
    {
      "cell_type": "code",
      "source": [
        "mape_values = []\n",
        "for start, end in test_periods:\n",
        "    mape = calculate_mape_6(start, end)\n",
        "    mape_values.append(mape)\n",
        "    print(f\"MAPE from {start} to {end}: {mape:.1f}\")"
      ],
      "metadata": {
        "colab": {
          "base_uri": "https://localhost:8080/"
        },
        "outputId": "e42433e0-a2f6-479c-9a4f-df536042e050",
        "id": "ysrzjTF7KNQ-"
      },
      "execution_count": null,
      "outputs": [
        {
          "output_type": "stream",
          "name": "stdout",
          "text": [
            "MAPE from 2019-01-01 to 2019-07-01: 3.9\n",
            "MAPE from 2019-07-01 to 2020-01-01: 10.0\n",
            "MAPE from 2020-01-01 to 2020-07-01: 16.6\n",
            "MAPE from 2020-07-01 to 2021-01-01: 13.9\n",
            "MAPE from 2021-01-01 to 2021-07-01: 6.9\n",
            "MAPE from 2021-07-01 to 2022-01-01: 15.8\n",
            "MAPE from 2022-01-01 to 2022-07-01: 18.8\n",
            "MAPE from 2022-07-01 to 2023-01-01: 20.3\n",
            "MAPE from 2023-01-01 to 2023-07-01: 20.3\n",
            "MAPE from 2023-07-01 to 2024-01-01: 28.6\n"
          ]
        }
      ]
    },
    {
      "cell_type": "code",
      "source": [
        "average_mape = np.mean(mape_values)\n",
        "print(f\"Average MAPE: {average_mape:.1f}\")"
      ],
      "metadata": {
        "colab": {
          "base_uri": "https://localhost:8080/"
        },
        "outputId": "04c8ec28-645f-4c76-ea04-9d5d6b1e6eed",
        "id": "oJpgg-VoKNQ-"
      },
      "execution_count": null,
      "outputs": [
        {
          "output_type": "stream",
          "name": "stdout",
          "text": [
            "Average MAPE: 15.5\n"
          ]
        }
      ]
    },
    {
      "cell_type": "markdown",
      "source": [
        "## 0020"
      ],
      "metadata": {
        "id": "ZLyiGPK0KNwx"
      }
    },
    {
      "cell_type": "code",
      "source": [
        "feature_df = df_0020"
      ],
      "metadata": {
        "id": "KaCUUqLfKNwy"
      },
      "execution_count": null,
      "outputs": []
    },
    {
      "cell_type": "markdown",
      "source": [
        "### 1-month prediction"
      ],
      "metadata": {
        "id": "PBkoTq0wKNwy"
      }
    },
    {
      "cell_type": "code",
      "source": [
        "mape_values = []\n",
        "for start, end in test_periods:\n",
        "    mape = calculate_mape_1(start, end)\n",
        "    mape_values.append(mape)\n",
        "    print(f\"MAPE from {start} to {end}: {mape:.1f}\")"
      ],
      "metadata": {
        "colab": {
          "base_uri": "https://localhost:8080/"
        },
        "outputId": "f3805c02-14e9-41f5-cef9-08c52f2acdaf",
        "id": "LNfT9c0ZKNwy"
      },
      "execution_count": null,
      "outputs": [
        {
          "output_type": "stream",
          "name": "stdout",
          "text": [
            "MAPE from 2019-01-01 to 2019-07-01: 6.5\n",
            "MAPE from 2019-07-01 to 2020-01-01: 2.6\n",
            "MAPE from 2020-01-01 to 2020-07-01: 8.9\n",
            "MAPE from 2020-07-01 to 2021-01-01: 4.5\n",
            "MAPE from 2021-01-01 to 2021-07-01: 7.9\n",
            "MAPE from 2021-07-01 to 2022-01-01: 8.6\n",
            "MAPE from 2022-01-01 to 2022-07-01: 8.7\n",
            "MAPE from 2022-07-01 to 2023-01-01: 5.3\n",
            "MAPE from 2023-01-01 to 2023-07-01: 10.1\n",
            "MAPE from 2023-07-01 to 2024-01-01: 10.7\n"
          ]
        }
      ]
    },
    {
      "cell_type": "code",
      "source": [
        "average_mape = np.mean(mape_values)\n",
        "print(f\"Average MAPE: {average_mape:.1f}\")"
      ],
      "metadata": {
        "colab": {
          "base_uri": "https://localhost:8080/"
        },
        "outputId": "ea21f2ff-08b1-42a6-bef8-34855503711a",
        "id": "9gk7A505KNwy"
      },
      "execution_count": null,
      "outputs": [
        {
          "output_type": "stream",
          "name": "stdout",
          "text": [
            "Average MAPE: 7.4\n"
          ]
        }
      ]
    },
    {
      "cell_type": "markdown",
      "source": [
        "### 3-month prediction\n"
      ],
      "metadata": {
        "id": "e0-vXbH9KNwz"
      }
    },
    {
      "cell_type": "code",
      "source": [
        "mape_values = []\n",
        "for start, end in test_periods:\n",
        "    mape = calculate_mape_3(start, end)\n",
        "    mape_values.append(mape)\n",
        "    print(f\"MAPE from {start} to {end}: {mape:.1f}\")"
      ],
      "metadata": {
        "colab": {
          "base_uri": "https://localhost:8080/"
        },
        "outputId": "461e7943-0d19-4a21-f1de-d4b90e2deba8",
        "id": "s1roIeFnKNwz"
      },
      "execution_count": null,
      "outputs": [
        {
          "output_type": "stream",
          "name": "stdout",
          "text": [
            "MAPE from 2019-01-01 to 2019-07-01: 7.9\n",
            "MAPE from 2019-07-01 to 2020-01-01: 3.5\n",
            "MAPE from 2020-01-01 to 2020-07-01: 8.1\n",
            "MAPE from 2020-07-01 to 2021-01-01: 4.3\n",
            "MAPE from 2021-01-01 to 2021-07-01: 7.2\n",
            "MAPE from 2021-07-01 to 2022-01-01: 12.7\n",
            "MAPE from 2022-01-01 to 2022-07-01: 17.9\n",
            "MAPE from 2022-07-01 to 2023-01-01: 6.8\n",
            "MAPE from 2023-01-01 to 2023-07-01: 12.9\n",
            "MAPE from 2023-07-01 to 2024-01-01: 26.9\n"
          ]
        }
      ]
    },
    {
      "cell_type": "code",
      "source": [
        "average_mape = np.mean(mape_values)\n",
        "print(f\"Average MAPE: {average_mape:.1f}\")"
      ],
      "metadata": {
        "colab": {
          "base_uri": "https://localhost:8080/"
        },
        "outputId": "cdf1e050-343a-4fdf-8a06-0533e09f962b",
        "id": "8D6zEwvIKNwz"
      },
      "execution_count": null,
      "outputs": [
        {
          "output_type": "stream",
          "name": "stdout",
          "text": [
            "Average MAPE: 10.8\n"
          ]
        }
      ]
    },
    {
      "cell_type": "markdown",
      "source": [
        "### 6-month prediction"
      ],
      "metadata": {
        "id": "a-JKv-H0KNwz"
      }
    },
    {
      "cell_type": "code",
      "source": [
        "mape_values = []\n",
        "for start, end in test_periods:\n",
        "    mape = calculate_mape_6(start, end)\n",
        "    mape_values.append(mape)\n",
        "    print(f\"MAPE from {start} to {end}: {mape:.1f}\")"
      ],
      "metadata": {
        "colab": {
          "base_uri": "https://localhost:8080/"
        },
        "outputId": "8503b566-5b1a-48f9-8c5c-0db681ab53a2",
        "id": "RuqQdowOKNwz"
      },
      "execution_count": null,
      "outputs": [
        {
          "output_type": "stream",
          "name": "stdout",
          "text": [
            "MAPE from 2019-01-01 to 2019-07-01: 18.5\n",
            "MAPE from 2019-07-01 to 2020-01-01: 4.8\n",
            "MAPE from 2020-01-01 to 2020-07-01: 5.4\n",
            "MAPE from 2020-07-01 to 2021-01-01: 5.9\n",
            "MAPE from 2021-01-01 to 2021-07-01: 5.9\n",
            "MAPE from 2021-07-01 to 2022-01-01: 16.4\n",
            "MAPE from 2022-01-01 to 2022-07-01: 21.6\n",
            "MAPE from 2022-07-01 to 2023-01-01: 20.1\n",
            "MAPE from 2023-01-01 to 2023-07-01: 12.6\n",
            "MAPE from 2023-07-01 to 2024-01-01: 50.1\n"
          ]
        }
      ]
    },
    {
      "cell_type": "code",
      "source": [
        "average_mape = np.mean(mape_values)\n",
        "print(f\"Average MAPE: {average_mape:.1f}\")"
      ],
      "metadata": {
        "colab": {
          "base_uri": "https://localhost:8080/"
        },
        "outputId": "4b640f3c-004d-4d96-ea5c-033118d5c953",
        "id": "7p5Ev0GoKNwz"
      },
      "execution_count": null,
      "outputs": [
        {
          "output_type": "stream",
          "name": "stdout",
          "text": [
            "Average MAPE: 16.1\n"
          ]
        }
      ]
    },
    {
      "cell_type": "markdown",
      "source": [
        "# Anionic Surfactant"
      ],
      "metadata": {
        "id": "zsJiMFMPEG8H"
      }
    },
    {
      "cell_type": "code",
      "source": [
        "feature_df = pd.read_csv('/content/drive/MyDrive/Colab Notebooks/Thesis/dataframe/anionic surfactant_feature.csv',index_col=0)\n",
        "feature_df['Time'] = pd.to_datetime(feature_df['Time'])\n",
        "print(feature_df)"
      ],
      "metadata": {
        "colab": {
          "base_uri": "https://localhost:8080/"
        },
        "outputId": "d5fdf532-e928-4796-c6e1-82ce9452ff84",
        "id": "uAPZOHTiEG8I"
      },
      "execution_count": null,
      "outputs": [
        {
          "output_type": "stream",
          "name": "stdout",
          "text": [
            "     RM10/0001  RM10/0002  Year  Month       Time   Group Description  \\\n",
            "12       False       True  2016      1 2016-01-31  anionic surfactant   \n",
            "13       False       True  2016      2 2016-02-29  anionic surfactant   \n",
            "14       False       True  2016      3 2016-03-31  anionic surfactant   \n",
            "15       False       True  2016      4 2016-04-30  anionic surfactant   \n",
            "16       False       True  2016      5 2016-05-31  anionic surfactant   \n",
            "..         ...        ...   ...    ...        ...                 ...   \n",
            "216       True      False  2023      8 2023-08-31  anionic surfactant   \n",
            "217       True      False  2023      9 2023-09-30  anionic surfactant   \n",
            "218       True      False  2023     10 2023-10-31  anionic surfactant   \n",
            "219       True      False  2023     11 2023-11-30  anionic surfactant   \n",
            "220       True      False  2023     12 2023-12-31  anionic surfactant   \n",
            "\n",
            "     Average_price  PNGASEUUSDM_1  PPOILUSDM_1  Electricity_1  ...      AR_3  \\\n",
            "12        1.235000       5.810000   520.602568          48.38  ...  1.323333   \n",
            "13        1.090000       5.090000   531.619443          41.42  ...  1.090000   \n",
            "14        1.226667       4.790000   595.900683          38.14  ...  1.090000   \n",
            "15        1.306667       4.090000   633.067783          28.95  ...  1.235000   \n",
            "16        1.082150       4.020000   680.375487          25.25  ...  1.090000   \n",
            "..             ...            ...          ...            ...  ...       ...   \n",
            "216       0.579967       9.611719   844.977017          87.58  ...  0.654619   \n",
            "217       0.589850      10.717421   823.608175          96.46  ...  0.674996   \n",
            "218       0.610671      11.427930   790.712156          89.17  ...  0.519568   \n",
            "219       0.582814      13.388843   767.481335         101.92  ...  0.579967   \n",
            "220       0.720601      13.714316   795.987931         115.07  ...  0.589850   \n",
            "\n",
            "         AR_4      AR_5      AR_6      AR_7      AR_8      AR_9     AR_10  \\\n",
            "12   1.395000  1.383333  1.150000  1.500000  1.310000  1.373333  1.340000   \n",
            "13   1.323333  1.395000  1.383333  1.150000  1.500000  1.310000  1.373333   \n",
            "14   1.090000  1.323333  1.395000  1.383333  1.150000  1.500000  1.310000   \n",
            "15   1.090000  1.090000  1.323333  1.395000  1.383333  1.150000  1.500000   \n",
            "16   1.235000  1.090000  1.090000  1.323333  1.395000  1.383333  1.150000   \n",
            "..        ...       ...       ...       ...       ...       ...       ...   \n",
            "216  0.696542  0.710311  0.887833  0.832846  0.863918  0.819181  0.830000   \n",
            "217  0.654619  0.696542  0.710311  0.887833  0.832846  0.863918  0.819181   \n",
            "218  0.674996  0.654619  0.696542  0.710311  0.887833  0.832846  0.863918   \n",
            "219  0.519568  0.674996  0.654619  0.696542  0.710311  0.887833  0.832846   \n",
            "220  0.579967  0.519568  0.674996  0.654619  0.696542  0.710311  0.887833   \n",
            "\n",
            "        AR_11     AR_12  \n",
            "12   1.500000  1.393333  \n",
            "13   1.340000  1.500000  \n",
            "14   1.373333  1.340000  \n",
            "15   1.310000  1.373333  \n",
            "16   1.500000  1.310000  \n",
            "..        ...       ...  \n",
            "216  0.767987  0.868158  \n",
            "217  0.830000  0.767987  \n",
            "218  0.819181  0.830000  \n",
            "219  0.863918  0.819181  \n",
            "220  0.832846  0.863918  \n",
            "\n",
            "[189 rows x 55 columns]\n"
          ]
        }
      ]
    },
    {
      "cell_type": "code",
      "source": [
        "df_0001 = feature_df[feature_df['RM10/0001'] == 1]\n",
        "print(df_0001.info())"
      ],
      "metadata": {
        "colab": {
          "base_uri": "https://localhost:8080/"
        },
        "outputId": "93e13869-ddb8-4e49-c984-961fa0811e6f",
        "id": "oAO50_D_EG8I"
      },
      "execution_count": null,
      "outputs": [
        {
          "output_type": "stream",
          "name": "stdout",
          "text": [
            "<class 'pandas.core.frame.DataFrame'>\n",
            "Index: 93 entries, 125 to 220\n",
            "Data columns (total 55 columns):\n",
            " #   Column             Non-Null Count  Dtype         \n",
            "---  ------             --------------  -----         \n",
            " 0   RM10/0001          93 non-null     bool          \n",
            " 1   RM10/0002          93 non-null     bool          \n",
            " 2   Year               93 non-null     int64         \n",
            " 3   Month              93 non-null     int64         \n",
            " 4   Time               93 non-null     datetime64[ns]\n",
            " 5   Group Description  93 non-null     object        \n",
            " 6   Average_price      93 non-null     float64       \n",
            " 7   PNGASEUUSDM_1      93 non-null     float64       \n",
            " 8   PPOILUSDM_1        93 non-null     float64       \n",
            " 9   Electricity_1      93 non-null     float64       \n",
            " 10  PNGASEUUSDM_2      93 non-null     float64       \n",
            " 11  PPOILUSDM_2        93 non-null     float64       \n",
            " 12  Electricity_2      93 non-null     float64       \n",
            " 13  PNGASEUUSDM_3      93 non-null     float64       \n",
            " 14  PPOILUSDM_3        93 non-null     float64       \n",
            " 15  Electricity_3      93 non-null     float64       \n",
            " 16  PNGASEUUSDM_4      93 non-null     float64       \n",
            " 17  PPOILUSDM_4        93 non-null     float64       \n",
            " 18  Electricity_4      93 non-null     float64       \n",
            " 19  PNGASEUUSDM_5      93 non-null     float64       \n",
            " 20  PPOILUSDM_5        93 non-null     float64       \n",
            " 21  Electricity_5      93 non-null     float64       \n",
            " 22  PNGASEUUSDM_6      93 non-null     float64       \n",
            " 23  PPOILUSDM_6        93 non-null     float64       \n",
            " 24  Electricity_6      93 non-null     float64       \n",
            " 25  PNGASEUUSDM_7      93 non-null     float64       \n",
            " 26  PPOILUSDM_7        93 non-null     float64       \n",
            " 27  Electricity_7      93 non-null     float64       \n",
            " 28  PNGASEUUSDM_8      93 non-null     float64       \n",
            " 29  PPOILUSDM_8        93 non-null     float64       \n",
            " 30  Electricity_8      93 non-null     float64       \n",
            " 31  PNGASEUUSDM_9      93 non-null     float64       \n",
            " 32  PPOILUSDM_9        93 non-null     float64       \n",
            " 33  Electricity_9      93 non-null     float64       \n",
            " 34  PNGASEUUSDM_10     93 non-null     float64       \n",
            " 35  PPOILUSDM_10       93 non-null     float64       \n",
            " 36  Electricity_10     93 non-null     float64       \n",
            " 37  PNGASEUUSDM_11     93 non-null     float64       \n",
            " 38  PPOILUSDM_11       93 non-null     float64       \n",
            " 39  Electricity_11     93 non-null     float64       \n",
            " 40  PNGASEUUSDM_12     93 non-null     float64       \n",
            " 41  PPOILUSDM_12       93 non-null     float64       \n",
            " 42  Electricity_12     93 non-null     float64       \n",
            " 43  AR_1               93 non-null     float64       \n",
            " 44  AR_2               93 non-null     float64       \n",
            " 45  AR_3               93 non-null     float64       \n",
            " 46  AR_4               93 non-null     float64       \n",
            " 47  AR_5               93 non-null     float64       \n",
            " 48  AR_6               93 non-null     float64       \n",
            " 49  AR_7               93 non-null     float64       \n",
            " 50  AR_8               93 non-null     float64       \n",
            " 51  AR_9               93 non-null     float64       \n",
            " 52  AR_10              93 non-null     float64       \n",
            " 53  AR_11              93 non-null     float64       \n",
            " 54  AR_12              93 non-null     float64       \n",
            "dtypes: bool(2), datetime64[ns](1), float64(49), int64(2), object(1)\n",
            "memory usage: 39.4+ KB\n",
            "None\n"
          ]
        }
      ]
    },
    {
      "cell_type": "code",
      "source": [
        "df_0002 = feature_df[feature_df['RM10/0002'] == 1]\n",
        "print(df_0002.info())"
      ],
      "metadata": {
        "colab": {
          "base_uri": "https://localhost:8080/"
        },
        "outputId": "355bc27d-8796-46d8-8c6f-608a74d4704d",
        "id": "ChYwQzi4EG8I"
      },
      "execution_count": null,
      "outputs": [
        {
          "output_type": "stream",
          "name": "stdout",
          "text": [
            "<class 'pandas.core.frame.DataFrame'>\n",
            "Index: 96 entries, 12 to 107\n",
            "Data columns (total 55 columns):\n",
            " #   Column             Non-Null Count  Dtype         \n",
            "---  ------             --------------  -----         \n",
            " 0   RM10/0001          96 non-null     bool          \n",
            " 1   RM10/0002          96 non-null     bool          \n",
            " 2   Year               96 non-null     int64         \n",
            " 3   Month              96 non-null     int64         \n",
            " 4   Time               96 non-null     datetime64[ns]\n",
            " 5   Group Description  96 non-null     object        \n",
            " 6   Average_price      96 non-null     float64       \n",
            " 7   PNGASEUUSDM_1      96 non-null     float64       \n",
            " 8   PPOILUSDM_1        96 non-null     float64       \n",
            " 9   Electricity_1      96 non-null     float64       \n",
            " 10  PNGASEUUSDM_2      96 non-null     float64       \n",
            " 11  PPOILUSDM_2        96 non-null     float64       \n",
            " 12  Electricity_2      96 non-null     float64       \n",
            " 13  PNGASEUUSDM_3      96 non-null     float64       \n",
            " 14  PPOILUSDM_3        96 non-null     float64       \n",
            " 15  Electricity_3      96 non-null     float64       \n",
            " 16  PNGASEUUSDM_4      96 non-null     float64       \n",
            " 17  PPOILUSDM_4        96 non-null     float64       \n",
            " 18  Electricity_4      96 non-null     float64       \n",
            " 19  PNGASEUUSDM_5      96 non-null     float64       \n",
            " 20  PPOILUSDM_5        96 non-null     float64       \n",
            " 21  Electricity_5      96 non-null     float64       \n",
            " 22  PNGASEUUSDM_6      96 non-null     float64       \n",
            " 23  PPOILUSDM_6        96 non-null     float64       \n",
            " 24  Electricity_6      96 non-null     float64       \n",
            " 25  PNGASEUUSDM_7      96 non-null     float64       \n",
            " 26  PPOILUSDM_7        96 non-null     float64       \n",
            " 27  Electricity_7      96 non-null     float64       \n",
            " 28  PNGASEUUSDM_8      96 non-null     float64       \n",
            " 29  PPOILUSDM_8        96 non-null     float64       \n",
            " 30  Electricity_8      96 non-null     float64       \n",
            " 31  PNGASEUUSDM_9      96 non-null     float64       \n",
            " 32  PPOILUSDM_9        96 non-null     float64       \n",
            " 33  Electricity_9      96 non-null     float64       \n",
            " 34  PNGASEUUSDM_10     96 non-null     float64       \n",
            " 35  PPOILUSDM_10       96 non-null     float64       \n",
            " 36  Electricity_10     96 non-null     float64       \n",
            " 37  PNGASEUUSDM_11     96 non-null     float64       \n",
            " 38  PPOILUSDM_11       96 non-null     float64       \n",
            " 39  Electricity_11     96 non-null     float64       \n",
            " 40  PNGASEUUSDM_12     96 non-null     float64       \n",
            " 41  PPOILUSDM_12       96 non-null     float64       \n",
            " 42  Electricity_12     96 non-null     float64       \n",
            " 43  AR_1               96 non-null     float64       \n",
            " 44  AR_2               96 non-null     float64       \n",
            " 45  AR_3               96 non-null     float64       \n",
            " 46  AR_4               96 non-null     float64       \n",
            " 47  AR_5               96 non-null     float64       \n",
            " 48  AR_6               96 non-null     float64       \n",
            " 49  AR_7               96 non-null     float64       \n",
            " 50  AR_8               96 non-null     float64       \n",
            " 51  AR_9               96 non-null     float64       \n",
            " 52  AR_10              96 non-null     float64       \n",
            " 53  AR_11              96 non-null     float64       \n",
            " 54  AR_12              96 non-null     float64       \n",
            "dtypes: bool(2), datetime64[ns](1), float64(49), int64(2), object(1)\n",
            "memory usage: 40.7+ KB\n",
            "None\n"
          ]
        }
      ]
    },
    {
      "cell_type": "markdown",
      "source": [
        "## 0001"
      ],
      "metadata": {
        "id": "9CP8YvSzEG8J"
      }
    },
    {
      "cell_type": "code",
      "source": [
        "feature_df = df_0001"
      ],
      "metadata": {
        "id": "Louke-WTEG8J"
      },
      "execution_count": null,
      "outputs": []
    },
    {
      "cell_type": "markdown",
      "source": [
        "### 1-month prediction"
      ],
      "metadata": {
        "id": "mbrCLWViEG8J"
      }
    },
    {
      "cell_type": "code",
      "source": [
        "mape_values = []\n",
        "for start, end in test_periods:\n",
        "    mape = calculate_mape_1(start, end)\n",
        "    mape_values.append(mape)\n",
        "    print(f\"MAPE from {start} to {end}: {mape:.1f}\")"
      ],
      "metadata": {
        "colab": {
          "base_uri": "https://localhost:8080/"
        },
        "outputId": "d655b831-66a1-475a-8f64-7b8bc44ce75a",
        "id": "-Q7WrpcWEG8J"
      },
      "execution_count": null,
      "outputs": [
        {
          "output_type": "stream",
          "name": "stdout",
          "text": [
            "MAPE from 2019-01-01 to 2019-07-01: 9.2\n",
            "MAPE from 2019-07-01 to 2020-01-01: 5.3\n",
            "MAPE from 2020-01-01 to 2020-07-01: 7.7\n",
            "MAPE from 2020-07-01 to 2021-01-01: 6.0\n",
            "MAPE from 2021-01-01 to 2021-07-01: 9.2\n",
            "MAPE from 2021-07-01 to 2022-01-01: 6.2\n",
            "MAPE from 2022-01-01 to 2022-07-01: 9.4\n",
            "MAPE from 2022-07-01 to 2023-01-01: 6.8\n",
            "MAPE from 2023-01-01 to 2023-07-01: 7.7\n",
            "MAPE from 2023-07-01 to 2024-01-01: 11.6\n"
          ]
        }
      ]
    },
    {
      "cell_type": "code",
      "source": [
        "average_mape = np.mean(mape_values)\n",
        "print(f\"Average MAPE: {average_mape:.1f}\")"
      ],
      "metadata": {
        "colab": {
          "base_uri": "https://localhost:8080/"
        },
        "outputId": "e33c2e9d-7978-4b4a-9a3f-841d6236929b",
        "id": "JZ0223gpEG8J"
      },
      "execution_count": null,
      "outputs": [
        {
          "output_type": "stream",
          "name": "stdout",
          "text": [
            "Average MAPE: 7.9\n"
          ]
        }
      ]
    },
    {
      "cell_type": "markdown",
      "source": [
        "### 3-month prediction\n"
      ],
      "metadata": {
        "id": "sptaDtsiEG8J"
      }
    },
    {
      "cell_type": "code",
      "source": [
        "mape_values = []\n",
        "for start, end in test_periods:\n",
        "    mape = calculate_mape_3(start, end)\n",
        "    mape_values.append(mape)\n",
        "    print(f\"MAPE from {start} to {end}: {mape:.1f}\")"
      ],
      "metadata": {
        "colab": {
          "base_uri": "https://localhost:8080/"
        },
        "outputId": "cb4d6524-9175-40dc-b92b-f80b744c921b",
        "id": "ocGmSaasEG8J"
      },
      "execution_count": null,
      "outputs": [
        {
          "output_type": "stream",
          "name": "stdout",
          "text": [
            "MAPE from 2019-01-01 to 2019-07-01: 9.1\n",
            "MAPE from 2019-07-01 to 2020-01-01: 4.6\n",
            "MAPE from 2020-01-01 to 2020-07-01: 7.3\n",
            "MAPE from 2020-07-01 to 2021-01-01: 6.1\n",
            "MAPE from 2021-01-01 to 2021-07-01: 12.2\n",
            "MAPE from 2021-07-01 to 2022-01-01: 9.7\n",
            "MAPE from 2022-01-01 to 2022-07-01: 14.4\n",
            "MAPE from 2022-07-01 to 2023-01-01: 7.7\n",
            "MAPE from 2023-01-01 to 2023-07-01: 15.0\n",
            "MAPE from 2023-07-01 to 2024-01-01: 15.8\n"
          ]
        }
      ]
    },
    {
      "cell_type": "code",
      "source": [
        "average_mape = np.mean(mape_values)\n",
        "print(f\"Average MAPE: {average_mape:.1f}\")"
      ],
      "metadata": {
        "colab": {
          "base_uri": "https://localhost:8080/"
        },
        "outputId": "f62f995b-30c0-491b-9c85-f3c455e6cdcd",
        "id": "xQXjE-WPEG8K"
      },
      "execution_count": null,
      "outputs": [
        {
          "output_type": "stream",
          "name": "stdout",
          "text": [
            "Average MAPE: 10.2\n"
          ]
        }
      ]
    },
    {
      "cell_type": "markdown",
      "source": [
        "### 6-month prediction"
      ],
      "metadata": {
        "id": "5_NMPIK_EG8K"
      }
    },
    {
      "cell_type": "code",
      "source": [
        "mape_values = []\n",
        "for start, end in test_periods:\n",
        "    mape = calculate_mape_6(start, end)\n",
        "    mape_values.append(mape)\n",
        "    print(f\"MAPE from {start} to {end}: {mape:.1f}\")"
      ],
      "metadata": {
        "colab": {
          "base_uri": "https://localhost:8080/"
        },
        "outputId": "1949fe3d-dedb-483f-d3bd-1e58abd1d004",
        "id": "8WGa6MmtEG8K"
      },
      "execution_count": null,
      "outputs": [
        {
          "output_type": "stream",
          "name": "stdout",
          "text": [
            "MAPE from 2019-01-01 to 2019-07-01: 17.1\n",
            "MAPE from 2019-07-01 to 2020-01-01: 7.8\n",
            "MAPE from 2020-01-01 to 2020-07-01: 7.2\n",
            "MAPE from 2020-07-01 to 2021-01-01: 8.0\n",
            "MAPE from 2021-01-01 to 2021-07-01: 13.4\n",
            "MAPE from 2021-07-01 to 2022-01-01: 14.0\n",
            "MAPE from 2022-01-01 to 2022-07-01: 24.3\n",
            "MAPE from 2022-07-01 to 2023-01-01: 5.9\n",
            "MAPE from 2023-01-01 to 2023-07-01: 13.8\n",
            "MAPE from 2023-07-01 to 2024-01-01: 27.8\n"
          ]
        }
      ]
    },
    {
      "cell_type": "code",
      "source": [
        "average_mape = np.mean(mape_values)\n",
        "print(f\"Average MAPE: {average_mape:.1f}\")"
      ],
      "metadata": {
        "colab": {
          "base_uri": "https://localhost:8080/"
        },
        "outputId": "d6f5cd40-2557-4766-917c-8abbc6129061",
        "id": "BZdJ1MuzEG8K"
      },
      "execution_count": null,
      "outputs": [
        {
          "output_type": "stream",
          "name": "stdout",
          "text": [
            "Average MAPE: 13.9\n"
          ]
        }
      ]
    },
    {
      "cell_type": "markdown",
      "source": [
        "## 0002"
      ],
      "metadata": {
        "id": "b2h9uQg4PAg6"
      }
    },
    {
      "cell_type": "code",
      "source": [
        "feature_df = df_0002"
      ],
      "metadata": {
        "id": "4Kho1ZDPPAg6"
      },
      "execution_count": null,
      "outputs": []
    },
    {
      "cell_type": "markdown",
      "source": [
        "### 1-month prediction"
      ],
      "metadata": {
        "id": "HTCVlDgJPAg7"
      }
    },
    {
      "cell_type": "code",
      "source": [
        "mape_values = []\n",
        "for start, end in test_periods:\n",
        "    mape = calculate_mape_1(start, end)\n",
        "    mape_values.append(mape)\n",
        "    print(f\"MAPE from {start} to {end}: {mape:.1f}\")"
      ],
      "metadata": {
        "colab": {
          "base_uri": "https://localhost:8080/"
        },
        "outputId": "44bc4f54-f673-4ae2-9772-e5cbe1f6b880",
        "id": "ZSpuqfzQPAg7"
      },
      "execution_count": null,
      "outputs": [
        {
          "output_type": "stream",
          "name": "stdout",
          "text": [
            "MAPE from 2019-01-01 to 2019-07-01: 4.7\n",
            "MAPE from 2019-07-01 to 2020-01-01: 3.8\n",
            "MAPE from 2020-01-01 to 2020-07-01: 6.9\n",
            "MAPE from 2020-07-01 to 2021-01-01: 10.6\n",
            "MAPE from 2021-01-01 to 2021-07-01: 6.2\n",
            "MAPE from 2021-07-01 to 2022-01-01: 5.7\n",
            "MAPE from 2022-01-01 to 2022-07-01: 6.7\n",
            "MAPE from 2022-07-01 to 2023-01-01: 8.5\n",
            "MAPE from 2023-01-01 to 2023-07-01: 9.2\n",
            "MAPE from 2023-07-01 to 2024-01-01: 8.3\n"
          ]
        }
      ]
    },
    {
      "cell_type": "code",
      "source": [
        "average_mape = np.mean(mape_values)\n",
        "print(f\"Average MAPE: {average_mape:.1f}\")"
      ],
      "metadata": {
        "colab": {
          "base_uri": "https://localhost:8080/"
        },
        "outputId": "bf9b831c-5ee4-4c3e-b2f8-62c42c83278a",
        "id": "v3jXSgqtPAg7"
      },
      "execution_count": null,
      "outputs": [
        {
          "output_type": "stream",
          "name": "stdout",
          "text": [
            "Average MAPE: 7.1\n"
          ]
        }
      ]
    },
    {
      "cell_type": "markdown",
      "source": [
        "### 3-month prediction\n"
      ],
      "metadata": {
        "id": "RESYMjhCPAg7"
      }
    },
    {
      "cell_type": "code",
      "source": [
        "mape_values = []\n",
        "for start, end in test_periods:\n",
        "    mape = calculate_mape_3(start, end)\n",
        "    mape_values.append(mape)\n",
        "    print(f\"MAPE from {start} to {end}: {mape:.1f}\")"
      ],
      "metadata": {
        "colab": {
          "base_uri": "https://localhost:8080/"
        },
        "outputId": "ec32fe37-2f17-40bb-f9ac-6b3ab7a298a1",
        "id": "eRpu2WkJPAg7"
      },
      "execution_count": null,
      "outputs": [
        {
          "output_type": "stream",
          "name": "stdout",
          "text": [
            "MAPE from 2019-01-01 to 2019-07-01: 3.2\n",
            "MAPE from 2019-07-01 to 2020-01-01: 3.9\n",
            "MAPE from 2020-01-01 to 2020-07-01: 7.6\n",
            "MAPE from 2020-07-01 to 2021-01-01: 7.2\n",
            "MAPE from 2021-01-01 to 2021-07-01: 4.2\n",
            "MAPE from 2021-07-01 to 2022-01-01: 5.1\n",
            "MAPE from 2022-01-01 to 2022-07-01: 11.0\n",
            "MAPE from 2022-07-01 to 2023-01-01: 7.4\n",
            "MAPE from 2023-01-01 to 2023-07-01: 11.3\n",
            "MAPE from 2023-07-01 to 2024-01-01: 11.0\n"
          ]
        }
      ]
    },
    {
      "cell_type": "code",
      "source": [
        "average_mape = np.mean(mape_values)\n",
        "print(f\"Average MAPE: {average_mape:.1f}\")"
      ],
      "metadata": {
        "colab": {
          "base_uri": "https://localhost:8080/"
        },
        "outputId": "6ade5228-501d-44b6-e273-341bcc7b86f4",
        "id": "Q21lRnaYPAg7"
      },
      "execution_count": null,
      "outputs": [
        {
          "output_type": "stream",
          "name": "stdout",
          "text": [
            "Average MAPE: 7.2\n"
          ]
        }
      ]
    },
    {
      "cell_type": "markdown",
      "source": [
        "### 6-month prediction"
      ],
      "metadata": {
        "id": "TNeKeDuXPAg7"
      }
    },
    {
      "cell_type": "code",
      "source": [
        "mape_values = []\n",
        "for start, end in test_periods:\n",
        "    mape = calculate_mape_6(start, end)\n",
        "    mape_values.append(mape)\n",
        "    print(f\"MAPE from {start} to {end}: {mape:.1f}\")"
      ],
      "metadata": {
        "colab": {
          "base_uri": "https://localhost:8080/"
        },
        "outputId": "4e2adedd-58f7-4ba4-8a5d-7a87a71dbd79",
        "id": "0BnJgVSFPAg7"
      },
      "execution_count": null,
      "outputs": [
        {
          "output_type": "stream",
          "name": "stdout",
          "text": [
            "MAPE from 2019-01-01 to 2019-07-01: 2.9\n",
            "MAPE from 2019-07-01 to 2020-01-01: 3.0\n",
            "MAPE from 2020-01-01 to 2020-07-01: 5.9\n",
            "MAPE from 2020-07-01 to 2021-01-01: 8.8\n",
            "MAPE from 2021-01-01 to 2021-07-01: 7.9\n",
            "MAPE from 2021-07-01 to 2022-01-01: 6.5\n",
            "MAPE from 2022-01-01 to 2022-07-01: 17.8\n",
            "MAPE from 2022-07-01 to 2023-01-01: 16.6\n",
            "MAPE from 2023-01-01 to 2023-07-01: 14.8\n",
            "MAPE from 2023-07-01 to 2024-01-01: 19.4\n"
          ]
        }
      ]
    },
    {
      "cell_type": "code",
      "source": [
        "average_mape = np.mean(mape_values)\n",
        "print(f\"Average MAPE: {average_mape:.1f}\")"
      ],
      "metadata": {
        "colab": {
          "base_uri": "https://localhost:8080/"
        },
        "outputId": "bcf6202e-a31f-4da7-861c-dc2535d3e99f",
        "id": "WK415OXsPAg7"
      },
      "execution_count": null,
      "outputs": [
        {
          "output_type": "stream",
          "name": "stdout",
          "text": [
            "Average MAPE: 10.4\n"
          ]
        }
      ]
    },
    {
      "cell_type": "markdown",
      "source": [
        "# Solvents"
      ],
      "metadata": {
        "id": "SyliWCoyEHUN"
      }
    },
    {
      "cell_type": "code",
      "source": [
        "feature_df = pd.read_csv('/content/drive/MyDrive/Colab Notebooks/Thesis/dataframe/solvent_feature.csv',index_col=0)\n",
        "feature_df['Time'] = pd.to_datetime(feature_df['Time'])\n",
        "print(feature_df)"
      ],
      "metadata": {
        "colab": {
          "base_uri": "https://localhost:8080/"
        },
        "outputId": "45686a7c-622f-45ed-b475-e651b1e8268c",
        "id": "OTXXMtCDEHUN"
      },
      "execution_count": null,
      "outputs": [
        {
          "output_type": "stream",
          "name": "stdout",
          "text": [
            "     RM08/0010  RM08/0017  Year  Month       Time Group Description  \\\n",
            "13       False       True  2016      1 2016-01-31           solvent   \n",
            "14       False       True  2016      2 2016-02-29           solvent   \n",
            "15       False       True  2016      3 2016-03-31           solvent   \n",
            "16       False       True  2016      4 2016-04-30           solvent   \n",
            "17       False       True  2016      5 2016-05-31           solvent   \n",
            "..         ...        ...   ...    ...        ...               ...   \n",
            "215       True      False  2023      8 2023-08-31           solvent   \n",
            "216       True      False  2023      9 2023-09-30           solvent   \n",
            "217       True      False  2023     10 2023-10-24           solvent   \n",
            "218       True      False  2023     11 2023-11-30           solvent   \n",
            "219       True      False  2023     12 2023-12-20           solvent   \n",
            "\n",
            "     Average_price  PPOILUSDM_1  PPOILUSDM_2  PPOILUSDM_3  ...      AR_3  \\\n",
            "13        1.031000   520.602568   503.163620   530.246640  ...  1.070000   \n",
            "14        1.031000   531.619443   520.602568   503.163620  ...  1.057500   \n",
            "15        1.017000   595.900683   531.619443   520.602568  ...  1.053333   \n",
            "16        1.016500   633.067783   595.900683   531.619443  ...  1.031000   \n",
            "17        1.016000   680.375487   633.067783   595.900683  ...  1.031000   \n",
            "..             ...          ...          ...          ...  ...       ...   \n",
            "215       0.707192   844.977017   769.098477   834.628551  ...  1.111484   \n",
            "216       1.307470   823.608175   844.977017   769.098477  ...  0.801200   \n",
            "217       0.565000   790.712156   823.608175   844.977017  ...  0.807500   \n",
            "218       0.660000   767.481335   790.712156   823.608175  ...  0.707192   \n",
            "219       1.836248   795.987931   767.481335   790.712156  ...  1.307470   \n",
            "\n",
            "         AR_4      AR_5      AR_6      AR_7      AR_8      AR_9     AR_10  \\\n",
            "13   1.035000  1.035000  1.152000  1.030000  1.250000  1.220000  1.190000   \n",
            "14   1.070000  1.035000  1.035000  1.152000  1.030000  1.250000  1.220000   \n",
            "15   1.057500  1.070000  1.035000  1.035000  1.152000  1.030000  1.250000   \n",
            "16   1.053333  1.057500  1.070000  1.035000  1.035000  1.152000  1.030000   \n",
            "17   1.031000  1.053333  1.057500  1.070000  1.035000  1.035000  1.152000   \n",
            "..        ...       ...       ...       ...       ...       ...       ...   \n",
            "215  2.141228  1.015000  1.442252  1.223333  1.821984  1.430000  2.979343   \n",
            "216  1.111484  2.141228  1.015000  1.442252  1.223333  1.821984  1.430000   \n",
            "217  0.801200  1.111484  2.141228  1.015000  1.442252  1.223333  1.821984   \n",
            "218  0.807500  0.801200  1.111484  2.141228  1.015000  1.442252  1.223333   \n",
            "219  0.707192  0.807500  0.801200  1.111484  2.141228  1.015000  1.442252   \n",
            "\n",
            "        AR_11     AR_12  \n",
            "13   1.190000  1.250000  \n",
            "14   1.190000  1.190000  \n",
            "15   1.220000  1.190000  \n",
            "16   1.250000  1.220000  \n",
            "17   1.030000  1.250000  \n",
            "..        ...       ...  \n",
            "215  2.665000  2.997037  \n",
            "216  2.979343  2.665000  \n",
            "217  1.430000  2.979343  \n",
            "218  1.821984  1.430000  \n",
            "219  1.223333  1.821984  \n",
            "\n",
            "[186 rows x 31 columns]\n"
          ]
        }
      ]
    },
    {
      "cell_type": "code",
      "source": [
        "df_0010 = feature_df[feature_df['RM08/0010'] == 1]\n",
        "print(df_0010.info())"
      ],
      "metadata": {
        "colab": {
          "base_uri": "https://localhost:8080/"
        },
        "outputId": "caa5b9d8-8a54-47d7-c540-6d65702bfaea",
        "id": "dP0sJEyuEHUO"
      },
      "execution_count": null,
      "outputs": [
        {
          "output_type": "stream",
          "name": "stdout",
          "text": [
            "<class 'pandas.core.frame.DataFrame'>\n",
            "Index: 91 entries, 124 to 219\n",
            "Data columns (total 31 columns):\n",
            " #   Column             Non-Null Count  Dtype         \n",
            "---  ------             --------------  -----         \n",
            " 0   RM08/0010          91 non-null     bool          \n",
            " 1   RM08/0017          91 non-null     bool          \n",
            " 2   Year               91 non-null     int64         \n",
            " 3   Month              91 non-null     int64         \n",
            " 4   Time               91 non-null     datetime64[ns]\n",
            " 5   Group Description  91 non-null     object        \n",
            " 6   Average_price      91 non-null     float64       \n",
            " 7   PPOILUSDM_1        91 non-null     float64       \n",
            " 8   PPOILUSDM_2        91 non-null     float64       \n",
            " 9   PPOILUSDM_3        91 non-null     float64       \n",
            " 10  PPOILUSDM_4        91 non-null     float64       \n",
            " 11  PPOILUSDM_5        91 non-null     float64       \n",
            " 12  PPOILUSDM_6        91 non-null     float64       \n",
            " 13  PPOILUSDM_7        91 non-null     float64       \n",
            " 14  PPOILUSDM_8        91 non-null     float64       \n",
            " 15  PPOILUSDM_9        91 non-null     float64       \n",
            " 16  PPOILUSDM_10       91 non-null     float64       \n",
            " 17  PPOILUSDM_11       91 non-null     float64       \n",
            " 18  PPOILUSDM_12       91 non-null     float64       \n",
            " 19  AR_1               91 non-null     float64       \n",
            " 20  AR_2               91 non-null     float64       \n",
            " 21  AR_3               91 non-null     float64       \n",
            " 22  AR_4               91 non-null     float64       \n",
            " 23  AR_5               91 non-null     float64       \n",
            " 24  AR_6               91 non-null     float64       \n",
            " 25  AR_7               91 non-null     float64       \n",
            " 26  AR_8               91 non-null     float64       \n",
            " 27  AR_9               91 non-null     float64       \n",
            " 28  AR_10              91 non-null     float64       \n",
            " 29  AR_11              91 non-null     float64       \n",
            " 30  AR_12              91 non-null     float64       \n",
            "dtypes: bool(2), datetime64[ns](1), float64(25), int64(2), object(1)\n",
            "memory usage: 21.5+ KB\n",
            "None\n"
          ]
        }
      ]
    },
    {
      "cell_type": "code",
      "source": [
        "df_0017 = feature_df[feature_df['RM08/0017'] == 1]\n",
        "print(df_0017.info())"
      ],
      "metadata": {
        "colab": {
          "base_uri": "https://localhost:8080/"
        },
        "outputId": "664f5888-81dd-471a-bb43-ce24ae6a7c95",
        "id": "9BsymCYxEHUO"
      },
      "execution_count": null,
      "outputs": [
        {
          "output_type": "stream",
          "name": "stdout",
          "text": [
            "<class 'pandas.core.frame.DataFrame'>\n",
            "Index: 95 entries, 13 to 108\n",
            "Data columns (total 31 columns):\n",
            " #   Column             Non-Null Count  Dtype         \n",
            "---  ------             --------------  -----         \n",
            " 0   RM08/0010          95 non-null     bool          \n",
            " 1   RM08/0017          95 non-null     bool          \n",
            " 2   Year               95 non-null     int64         \n",
            " 3   Month              95 non-null     int64         \n",
            " 4   Time               95 non-null     datetime64[ns]\n",
            " 5   Group Description  95 non-null     object        \n",
            " 6   Average_price      95 non-null     float64       \n",
            " 7   PPOILUSDM_1        95 non-null     float64       \n",
            " 8   PPOILUSDM_2        95 non-null     float64       \n",
            " 9   PPOILUSDM_3        95 non-null     float64       \n",
            " 10  PPOILUSDM_4        95 non-null     float64       \n",
            " 11  PPOILUSDM_5        95 non-null     float64       \n",
            " 12  PPOILUSDM_6        95 non-null     float64       \n",
            " 13  PPOILUSDM_7        95 non-null     float64       \n",
            " 14  PPOILUSDM_8        95 non-null     float64       \n",
            " 15  PPOILUSDM_9        95 non-null     float64       \n",
            " 16  PPOILUSDM_10       95 non-null     float64       \n",
            " 17  PPOILUSDM_11       95 non-null     float64       \n",
            " 18  PPOILUSDM_12       95 non-null     float64       \n",
            " 19  AR_1               95 non-null     float64       \n",
            " 20  AR_2               95 non-null     float64       \n",
            " 21  AR_3               95 non-null     float64       \n",
            " 22  AR_4               95 non-null     float64       \n",
            " 23  AR_5               95 non-null     float64       \n",
            " 24  AR_6               95 non-null     float64       \n",
            " 25  AR_7               95 non-null     float64       \n",
            " 26  AR_8               95 non-null     float64       \n",
            " 27  AR_9               95 non-null     float64       \n",
            " 28  AR_10              95 non-null     float64       \n",
            " 29  AR_11              95 non-null     float64       \n",
            " 30  AR_12              95 non-null     float64       \n",
            "dtypes: bool(2), datetime64[ns](1), float64(25), int64(2), object(1)\n",
            "memory usage: 22.5+ KB\n",
            "None\n"
          ]
        }
      ]
    },
    {
      "cell_type": "markdown",
      "source": [
        "## 0010"
      ],
      "metadata": {
        "id": "EfJfY_P4EHUO"
      }
    },
    {
      "cell_type": "code",
      "source": [
        "feature_df = df_0010"
      ],
      "metadata": {
        "id": "ajxXMtDlEHUO"
      },
      "execution_count": null,
      "outputs": []
    },
    {
      "cell_type": "markdown",
      "source": [
        "### 1-month prediction"
      ],
      "metadata": {
        "id": "gkrV_FHkEHUO"
      }
    },
    {
      "cell_type": "code",
      "source": [
        "mape_values = []\n",
        "for start, end in test_periods:\n",
        "    mape = calculate_mape_1(start, end)\n",
        "    mape_values.append(mape)\n",
        "    print(f\"MAPE from {start} to {end}: {mape:.1f}\")"
      ],
      "metadata": {
        "colab": {
          "base_uri": "https://localhost:8080/"
        },
        "outputId": "e68f0029-0748-44c3-8d34-df50cf0c9e40",
        "id": "GMvx-5KbEHUO"
      },
      "execution_count": null,
      "outputs": [
        {
          "output_type": "stream",
          "name": "stdout",
          "text": [
            "MAPE from 2019-01-01 to 2019-07-01: 24.4\n",
            "MAPE from 2019-07-01 to 2020-01-01: 27.0\n",
            "MAPE from 2020-01-01 to 2020-07-01: 18.9\n",
            "MAPE from 2020-07-01 to 2021-01-01: 18.6\n",
            "MAPE from 2021-01-01 to 2021-07-01: 13.6\n",
            "MAPE from 2021-07-01 to 2022-01-01: 21.2\n",
            "MAPE from 2022-01-01 to 2022-07-01: 21.2\n",
            "MAPE from 2022-07-01 to 2023-01-01: 29.7\n",
            "MAPE from 2023-01-01 to 2023-07-01: 48.4\n",
            "MAPE from 2023-07-01 to 2024-01-01: 45.1\n"
          ]
        }
      ]
    },
    {
      "cell_type": "code",
      "source": [
        "average_mape = np.mean(mape_values)\n",
        "print(f\"Average MAPE: {average_mape:.1f}\")"
      ],
      "metadata": {
        "colab": {
          "base_uri": "https://localhost:8080/"
        },
        "outputId": "ec7b4db5-c0d2-47f5-e849-9385b68f9514",
        "id": "Yk5EIb-REHUO"
      },
      "execution_count": null,
      "outputs": [
        {
          "output_type": "stream",
          "name": "stdout",
          "text": [
            "Average MAPE: 26.8\n"
          ]
        }
      ]
    },
    {
      "cell_type": "markdown",
      "source": [
        "### 3-month prediction\n"
      ],
      "metadata": {
        "id": "lZyMZNGsEHUP"
      }
    },
    {
      "cell_type": "code",
      "source": [
        "mape_values = []\n",
        "for start, end in test_periods:\n",
        "    mape = calculate_mape_3(start, end)\n",
        "    mape_values.append(mape)\n",
        "    print(f\"MAPE from {start} to {end}: {mape:.1f}\")"
      ],
      "metadata": {
        "colab": {
          "base_uri": "https://localhost:8080/"
        },
        "outputId": "a2289c09-4fe8-424c-eede-d5093e3ac7b7",
        "id": "IxYpZ3i6EHUP"
      },
      "execution_count": null,
      "outputs": [
        {
          "output_type": "stream",
          "name": "stdout",
          "text": [
            "MAPE from 2019-01-01 to 2019-07-01: 27.2\n",
            "MAPE from 2019-07-01 to 2020-01-01: 17.4\n",
            "MAPE from 2020-01-01 to 2020-07-01: 30.9\n",
            "MAPE from 2020-07-01 to 2021-01-01: 20.1\n",
            "MAPE from 2021-01-01 to 2021-07-01: 14.2\n",
            "MAPE from 2021-07-01 to 2022-01-01: 20.4\n",
            "MAPE from 2022-01-01 to 2022-07-01: 36.6\n",
            "MAPE from 2022-07-01 to 2023-01-01: 41.7\n",
            "MAPE from 2023-01-01 to 2023-07-01: 53.9\n",
            "MAPE from 2023-07-01 to 2024-01-01: 56.7\n"
          ]
        }
      ]
    },
    {
      "cell_type": "code",
      "source": [
        "average_mape = np.mean(mape_values)\n",
        "print(f\"Average MAPE: {average_mape:.1f}\")"
      ],
      "metadata": {
        "colab": {
          "base_uri": "https://localhost:8080/"
        },
        "outputId": "61ee9f7e-b09f-4fda-ab5a-a9ae3054a76b",
        "id": "oJHNl9EPEHUP"
      },
      "execution_count": null,
      "outputs": [
        {
          "output_type": "stream",
          "name": "stdout",
          "text": [
            "Average MAPE: 31.9\n"
          ]
        }
      ]
    },
    {
      "cell_type": "markdown",
      "source": [
        "### 6-month prediction"
      ],
      "metadata": {
        "id": "E6jjjGbiEHUP"
      }
    },
    {
      "cell_type": "code",
      "source": [
        "mape_values = []\n",
        "for start, end in test_periods:\n",
        "    mape = calculate_mape_6(start, end)\n",
        "    mape_values.append(mape)\n",
        "    print(f\"MAPE from {start} to {end}: {mape:.1f}\")"
      ],
      "metadata": {
        "colab": {
          "base_uri": "https://localhost:8080/"
        },
        "outputId": "a9f88a5f-66f4-4312-d238-a101492c55a1",
        "id": "XsO9CaxTEHUP"
      },
      "execution_count": null,
      "outputs": [
        {
          "output_type": "stream",
          "name": "stdout",
          "text": [
            "MAPE from 2019-01-01 to 2019-07-01: 18.0\n",
            "MAPE from 2019-07-01 to 2020-01-01: 17.0\n",
            "MAPE from 2020-01-01 to 2020-07-01: 30.4\n",
            "MAPE from 2020-07-01 to 2021-01-01: 24.7\n",
            "MAPE from 2021-01-01 to 2021-07-01: 15.4\n",
            "MAPE from 2021-07-01 to 2022-01-01: 27.4\n",
            "MAPE from 2022-01-01 to 2022-07-01: 32.5\n",
            "MAPE from 2022-07-01 to 2023-01-01: 37.5\n",
            "MAPE from 2023-01-01 to 2023-07-01: 98.3\n",
            "MAPE from 2023-07-01 to 2024-01-01: 96.9\n"
          ]
        }
      ]
    },
    {
      "cell_type": "code",
      "source": [
        "average_mape = np.mean(mape_values)\n",
        "print(f\"Average MAPE: {average_mape:.1f}\")"
      ],
      "metadata": {
        "colab": {
          "base_uri": "https://localhost:8080/"
        },
        "outputId": "8680f22c-ae7c-433c-d1fd-0342216b5943",
        "id": "JbnOrQ79EHUP"
      },
      "execution_count": null,
      "outputs": [
        {
          "output_type": "stream",
          "name": "stdout",
          "text": [
            "Average MAPE: 39.8\n"
          ]
        }
      ]
    },
    {
      "cell_type": "markdown",
      "source": [
        "## 0017"
      ],
      "metadata": {
        "id": "jKYrqHofQNyq"
      }
    },
    {
      "cell_type": "code",
      "source": [
        "feature_df = df_0017"
      ],
      "metadata": {
        "id": "mOLb8N0jQNyq"
      },
      "execution_count": null,
      "outputs": []
    },
    {
      "cell_type": "markdown",
      "source": [
        "### 1-month prediction"
      ],
      "metadata": {
        "id": "LVjWt9bwQNyq"
      }
    },
    {
      "cell_type": "code",
      "source": [
        "mape_values = []\n",
        "for start, end in test_periods:\n",
        "    mape = calculate_mape_1(start, end)\n",
        "    mape_values.append(mape)\n",
        "    print(f\"MAPE from {start} to {end}: {mape:.1f}\")"
      ],
      "metadata": {
        "colab": {
          "base_uri": "https://localhost:8080/"
        },
        "outputId": "97f0d2d6-2472-46dc-a848-f6baedebe59e",
        "id": "37chElUqQNyq"
      },
      "execution_count": null,
      "outputs": [
        {
          "output_type": "stream",
          "name": "stdout",
          "text": [
            "MAPE from 2019-01-01 to 2019-07-01: 3.6\n",
            "MAPE from 2019-07-01 to 2020-01-01: 1.4\n",
            "MAPE from 2020-01-01 to 2020-07-01: 0.6\n",
            "MAPE from 2020-07-01 to 2021-01-01: 1.7\n",
            "MAPE from 2021-01-01 to 2021-07-01: 4.6\n",
            "MAPE from 2021-07-01 to 2022-01-01: 8.6\n",
            "MAPE from 2022-01-01 to 2022-07-01: 9.0\n",
            "MAPE from 2022-07-01 to 2023-01-01: 5.2\n",
            "MAPE from 2023-01-01 to 2023-07-01: 12.7\n",
            "MAPE from 2023-07-01 to 2024-01-01: 3.8\n"
          ]
        }
      ]
    },
    {
      "cell_type": "code",
      "source": [
        "average_mape = np.mean(mape_values)\n",
        "print(f\"Average MAPE: {average_mape:.1f}\")"
      ],
      "metadata": {
        "colab": {
          "base_uri": "https://localhost:8080/"
        },
        "outputId": "12a6de77-8c0f-48ee-997d-63c8576c98a0",
        "id": "fBC-FLe8QNyq"
      },
      "execution_count": null,
      "outputs": [
        {
          "output_type": "stream",
          "name": "stdout",
          "text": [
            "Average MAPE: 5.1\n"
          ]
        }
      ]
    },
    {
      "cell_type": "markdown",
      "source": [
        "### 3-month prediction\n"
      ],
      "metadata": {
        "id": "C_BofCJDQNyr"
      }
    },
    {
      "cell_type": "code",
      "source": [
        "mape_values = []\n",
        "for start, end in test_periods:\n",
        "    mape = calculate_mape_3(start, end)\n",
        "    mape_values.append(mape)\n",
        "    print(f\"MAPE from {start} to {end}: {mape:.1f}\")"
      ],
      "metadata": {
        "colab": {
          "base_uri": "https://localhost:8080/"
        },
        "outputId": "9e4af0e8-1b10-438d-b3f1-8784e4633bf6",
        "id": "1eOtxaxnQNyr"
      },
      "execution_count": null,
      "outputs": [
        {
          "output_type": "stream",
          "name": "stdout",
          "text": [
            "MAPE from 2019-01-01 to 2019-07-01: 8.5\n",
            "MAPE from 2019-07-01 to 2020-01-01: 4.3\n",
            "MAPE from 2020-01-01 to 2020-07-01: 1.6\n",
            "MAPE from 2020-07-01 to 2021-01-01: 3.1\n",
            "MAPE from 2021-01-01 to 2021-07-01: 7.3\n",
            "MAPE from 2021-07-01 to 2022-01-01: 26.9\n",
            "MAPE from 2022-01-01 to 2022-07-01: 14.3\n",
            "MAPE from 2022-07-01 to 2023-01-01: 10.2\n",
            "MAPE from 2023-01-01 to 2023-07-01: 39.3\n",
            "MAPE from 2023-07-01 to 2024-01-01: 13.9\n"
          ]
        }
      ]
    },
    {
      "cell_type": "code",
      "source": [
        "average_mape = np.mean(mape_values)\n",
        "print(f\"Average MAPE: {average_mape:.1f}\")"
      ],
      "metadata": {
        "colab": {
          "base_uri": "https://localhost:8080/"
        },
        "outputId": "9a6d40ed-4967-4f1f-88bd-bd3e1dba656f",
        "id": "fvZrZkxkQNyr"
      },
      "execution_count": null,
      "outputs": [
        {
          "output_type": "stream",
          "name": "stdout",
          "text": [
            "Average MAPE: 12.9\n"
          ]
        }
      ]
    },
    {
      "cell_type": "markdown",
      "source": [
        "### 6-month prediction"
      ],
      "metadata": {
        "id": "YRCby4p8QNyr"
      }
    },
    {
      "cell_type": "code",
      "source": [
        "mape_values = []\n",
        "for start, end in test_periods:\n",
        "    mape = calculate_mape_6(start, end)\n",
        "    mape_values.append(mape)\n",
        "    print(f\"MAPE from {start} to {end}: {mape:.1f}\")"
      ],
      "metadata": {
        "colab": {
          "base_uri": "https://localhost:8080/"
        },
        "outputId": "707012d4-58a1-48c4-cab9-6fdd09233a2d",
        "id": "uKkgwYDiQNyr"
      },
      "execution_count": null,
      "outputs": [
        {
          "output_type": "stream",
          "name": "stdout",
          "text": [
            "MAPE from 2019-01-01 to 2019-07-01: 12.2\n",
            "MAPE from 2019-07-01 to 2020-01-01: 9.7\n",
            "MAPE from 2020-01-01 to 2020-07-01: 4.7\n",
            "MAPE from 2020-07-01 to 2021-01-01: 2.0\n",
            "MAPE from 2021-01-01 to 2021-07-01: 8.5\n",
            "MAPE from 2021-07-01 to 2022-01-01: 40.6\n",
            "MAPE from 2022-01-01 to 2022-07-01: 34.8\n",
            "MAPE from 2022-07-01 to 2023-01-01: 13.8\n",
            "MAPE from 2023-01-01 to 2023-07-01: 74.6\n",
            "MAPE from 2023-07-01 to 2024-01-01: 44.8\n"
          ]
        }
      ]
    },
    {
      "cell_type": "code",
      "source": [
        "average_mape = np.mean(mape_values)\n",
        "print(f\"Average MAPE: {average_mape:.1f}\")"
      ],
      "metadata": {
        "colab": {
          "base_uri": "https://localhost:8080/"
        },
        "outputId": "c1e892d0-2bb8-402d-c6e5-6450c5daa620",
        "id": "QEihtQNEQNyr"
      },
      "execution_count": null,
      "outputs": [
        {
          "output_type": "stream",
          "name": "stdout",
          "text": [
            "Average MAPE: 24.6\n"
          ]
        }
      ]
    },
    {
      "cell_type": "markdown",
      "source": [
        "# Fatty acid"
      ],
      "metadata": {
        "id": "12b27c9tEHl6"
      }
    },
    {
      "cell_type": "code",
      "source": [
        "feature_df = pd.read_csv('/content/drive/MyDrive/Colab Notebooks/Thesis/dataframe/fatty acid_feature.csv',index_col=0)\n",
        "feature_df['Time'] = pd.to_datetime(feature_df['Time'])\n",
        "print(feature_df)"
      ],
      "metadata": {
        "colab": {
          "base_uri": "https://localhost:8080/"
        },
        "outputId": "b8fb5bfa-5f15-4792-af31-1f321bf83442",
        "id": "Ky-uZLrkEHl6"
      },
      "execution_count": null,
      "outputs": [
        {
          "output_type": "stream",
          "name": "stdout",
          "text": [
            "     RM14/0001  Year  Month       Time Group Description  Average_price  \\\n",
            "14        True  2016      1 2016-01-29        fatty acid       0.650000   \n",
            "15        True  2016      2 2016-02-29        fatty acid       0.749500   \n",
            "16        True  2016      3 2016-03-31        fatty acid       0.904000   \n",
            "17        True  2016      4 2016-04-30        fatty acid       0.980333   \n",
            "18        True  2016      5 2016-05-31        fatty acid       0.939663   \n",
            "..         ...   ...    ...        ...               ...            ...   \n",
            "105       True  2023      8 2023-08-31        fatty acid       1.617296   \n",
            "106       True  2023      9 2023-09-30        fatty acid       1.371400   \n",
            "107       True  2023     10 2023-10-31        fatty acid       1.534868   \n",
            "108       True  2023     11 2023-11-30        fatty acid       1.386338   \n",
            "109       True  2023     12 2023-12-29        fatty acid       1.502477   \n",
            "\n",
            "     PPOILUSDM_1  PPOILUSDM_2  PPOILUSDM_3  PPOILUSDM_4  ...      AR_3  \\\n",
            "14    520.602568   503.163620   530.246640   483.487308  ...  0.846667   \n",
            "15    531.619443   520.602568   503.163620   530.246640  ...  0.650000   \n",
            "16    595.900683   531.619443   520.602568   503.163620  ...  0.650000   \n",
            "17    633.067783   595.900683   531.619443   520.602568  ...  0.650000   \n",
            "18    680.375487   633.067783   595.900683   531.619443  ...  0.749500   \n",
            "..           ...          ...          ...          ...  ...       ...   \n",
            "105   844.977017   769.098477   834.628551   934.809682  ...  1.695752   \n",
            "106   823.608175   844.977017   769.098477   834.628551  ...  1.514747   \n",
            "107   790.712156   823.608175   844.977017   769.098477  ...  1.402889   \n",
            "108   767.481335   790.712156   823.608175   844.977017  ...  1.617296   \n",
            "109   795.987931   767.481335   790.712156   823.608175  ...  1.371400   \n",
            "\n",
            "         AR_4      AR_5      AR_6      AR_7      AR_8      AR_9     AR_10  \\\n",
            "14   0.943333  1.090000  1.140000  1.127500  0.975000  0.910333  0.910333   \n",
            "15   0.846667  0.943333  1.090000  1.140000  1.127500  0.975000  0.910333   \n",
            "16   0.650000  0.846667  0.943333  1.090000  1.140000  1.127500  0.975000   \n",
            "17   0.650000  0.650000  0.846667  0.943333  1.090000  1.140000  1.127500   \n",
            "18   0.650000  0.650000  0.650000  0.846667  0.943333  1.090000  1.140000   \n",
            "..        ...       ...       ...       ...       ...       ...       ...   \n",
            "105  1.738096  1.672948  1.760050  1.922347  2.083766  2.476585  2.387459   \n",
            "106  1.695752  1.738096  1.672948  1.760050  1.922347  2.083766  2.476585   \n",
            "107  1.514747  1.695752  1.738096  1.672948  1.760050  1.922347  2.083766   \n",
            "108  1.402889  1.514747  1.695752  1.738096  1.672948  1.760050  1.922347   \n",
            "109  1.617296  1.402889  1.514747  1.695752  1.738096  1.672948  1.760050   \n",
            "\n",
            "        AR_11     AR_12  \n",
            "14   0.860000  0.917333  \n",
            "15   0.910333  0.860000  \n",
            "16   0.910333  0.910333  \n",
            "17   0.975000  0.910333  \n",
            "18   1.127500  0.975000  \n",
            "..        ...       ...  \n",
            "105  2.363700  2.459529  \n",
            "106  2.387459  2.363700  \n",
            "107  2.476585  2.387459  \n",
            "108  2.083766  2.476585  \n",
            "109  1.922347  2.083766  \n",
            "\n",
            "[96 rows x 30 columns]\n"
          ]
        }
      ]
    },
    {
      "cell_type": "markdown",
      "source": [
        "### 1-month prediction"
      ],
      "metadata": {
        "id": "qDFFInUdEHl7"
      }
    },
    {
      "cell_type": "code",
      "source": [
        "mape_values = []\n",
        "for start, end in test_periods:\n",
        "    mape = calculate_mape_1(start, end)\n",
        "    mape_values.append(mape)\n",
        "    print(f\"MAPE from {start} to {end}: {mape:.1f}\")"
      ],
      "metadata": {
        "colab": {
          "base_uri": "https://localhost:8080/"
        },
        "outputId": "a587df43-6a20-409e-cdd9-8aa32882209a",
        "id": "_RYM-UNvEHl7"
      },
      "execution_count": null,
      "outputs": [
        {
          "output_type": "stream",
          "name": "stdout",
          "text": [
            "MAPE from 2019-01-01 to 2019-07-01: 18.7\n",
            "MAPE from 2019-07-01 to 2020-01-01: 15.3\n",
            "MAPE from 2020-01-01 to 2020-07-01: 8.8\n",
            "MAPE from 2020-07-01 to 2021-01-01: 16.0\n",
            "MAPE from 2021-01-01 to 2021-07-01: 8.2\n",
            "MAPE from 2021-07-01 to 2022-01-01: 10.6\n",
            "MAPE from 2022-01-01 to 2022-07-01: 11.7\n",
            "MAPE from 2022-07-01 to 2023-01-01: 6.8\n",
            "MAPE from 2023-01-01 to 2023-07-01: 6.8\n",
            "MAPE from 2023-07-01 to 2024-01-01: 11.4\n"
          ]
        }
      ]
    },
    {
      "cell_type": "code",
      "source": [
        "average_mape = np.mean(mape_values)\n",
        "print(f\"Average MAPE: {average_mape:.1f}\")"
      ],
      "metadata": {
        "colab": {
          "base_uri": "https://localhost:8080/"
        },
        "outputId": "18d1ff76-32b0-46f6-c952-9bc5dcbdab6c",
        "id": "Ku2ilRunEHl7"
      },
      "execution_count": null,
      "outputs": [
        {
          "output_type": "stream",
          "name": "stdout",
          "text": [
            "Average MAPE: 11.4\n"
          ]
        }
      ]
    },
    {
      "cell_type": "markdown",
      "source": [
        "### 3-month prediction\n"
      ],
      "metadata": {
        "id": "GI_nLYqhEHl7"
      }
    },
    {
      "cell_type": "code",
      "source": [
        "mape_values = []\n",
        "for start, end in test_periods:\n",
        "    mape = calculate_mape_3(start, end)\n",
        "    mape_values.append(mape)\n",
        "    print(f\"MAPE from {start} to {end}: {mape:.1f}\")"
      ],
      "metadata": {
        "colab": {
          "base_uri": "https://localhost:8080/"
        },
        "outputId": "54935185-cea5-49eb-8ef5-261da59f86a0",
        "id": "7iKgA80SEHl8"
      },
      "execution_count": null,
      "outputs": [
        {
          "output_type": "stream",
          "name": "stdout",
          "text": [
            "MAPE from 2019-01-01 to 2019-07-01: 19.6\n",
            "MAPE from 2019-07-01 to 2020-01-01: 9.8\n",
            "MAPE from 2020-01-01 to 2020-07-01: 14.5\n",
            "MAPE from 2020-07-01 to 2021-01-01: 12.9\n",
            "MAPE from 2021-01-01 to 2021-07-01: 26.1\n",
            "MAPE from 2021-07-01 to 2022-01-01: 11.0\n",
            "MAPE from 2022-01-01 to 2022-07-01: 18.4\n",
            "MAPE from 2022-07-01 to 2023-01-01: 6.1\n",
            "MAPE from 2023-01-01 to 2023-07-01: 19.0\n",
            "MAPE from 2023-07-01 to 2024-01-01: 12.2\n"
          ]
        }
      ]
    },
    {
      "cell_type": "code",
      "source": [
        "average_mape = np.mean(mape_values)\n",
        "print(f\"Average MAPE: {average_mape:.1f}\")"
      ],
      "metadata": {
        "colab": {
          "base_uri": "https://localhost:8080/"
        },
        "outputId": "2a127144-0d37-4690-a87f-e064cfff4cc2",
        "id": "8hTIN74zEHl8"
      },
      "execution_count": null,
      "outputs": [
        {
          "output_type": "stream",
          "name": "stdout",
          "text": [
            "Average MAPE: 15.0\n"
          ]
        }
      ]
    },
    {
      "cell_type": "markdown",
      "source": [
        "### 6-month prediction"
      ],
      "metadata": {
        "id": "tl1d2CJeEHl8"
      }
    },
    {
      "cell_type": "code",
      "source": [
        "mape_values = []\n",
        "for start, end in test_periods:\n",
        "    mape = calculate_mape_6(start, end)\n",
        "    mape_values.append(mape)\n",
        "    print(f\"MAPE from {start} to {end}: {mape:.1f}\")"
      ],
      "metadata": {
        "colab": {
          "base_uri": "https://localhost:8080/"
        },
        "outputId": "a49b0740-6994-4234-fd7f-81a3af95db2b",
        "id": "b0Ubb4TjEHl8"
      },
      "execution_count": null,
      "outputs": [
        {
          "output_type": "stream",
          "name": "stdout",
          "text": [
            "MAPE from 2019-01-01 to 2019-07-01: 20.0\n",
            "MAPE from 2019-07-01 to 2020-01-01: 16.9\n",
            "MAPE from 2020-01-01 to 2020-07-01: 10.1\n",
            "MAPE from 2020-07-01 to 2021-01-01: 14.6\n",
            "MAPE from 2021-01-01 to 2021-07-01: 22.7\n",
            "MAPE from 2021-07-01 to 2022-01-01: 20.2\n",
            "MAPE from 2022-01-01 to 2022-07-01: 21.3\n",
            "MAPE from 2022-07-01 to 2023-01-01: 15.2\n",
            "MAPE from 2023-01-01 to 2023-07-01: 38.0\n",
            "MAPE from 2023-07-01 to 2024-01-01: 17.4\n"
          ]
        }
      ]
    },
    {
      "cell_type": "code",
      "source": [
        "average_mape = np.mean(mape_values)\n",
        "print(f\"Average MAPE: {average_mape:.1f}\")"
      ],
      "metadata": {
        "colab": {
          "base_uri": "https://localhost:8080/"
        },
        "outputId": "dad2aa15-f8e0-40fe-b85f-31f9926922c9",
        "id": "JVjv267BEHl8"
      },
      "execution_count": null,
      "outputs": [
        {
          "output_type": "stream",
          "name": "stdout",
          "text": [
            "Average MAPE: 19.6\n"
          ]
        }
      ]
    }
  ]
}