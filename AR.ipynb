{
  "nbformat": 4,
  "nbformat_minor": 0,
  "metadata": {
    "colab": {
      "provenance": [],
      "toc_visible": true,
      "authorship_tag": "ABX9TyOYd2bXK4QjEVMOXY65AzUw",
      "include_colab_link": true
    },
    "kernelspec": {
      "name": "python3",
      "display_name": "Python 3"
    },
    "language_info": {
      "name": "python"
    }
  },
  "cells": [
    {
      "cell_type": "markdown",
      "metadata": {
        "id": "view-in-github",
        "colab_type": "text"
      },
      "source": [
        "<a href=\"https://colab.research.google.com/github/hxm0707/Raw_Material_Price_Prediction/blob/main/AR.ipynb\" target=\"_parent\"><img src=\"https://colab.research.google.com/assets/colab-badge.svg\" alt=\"Open In Colab\"/></a>"
      ]
    },
    {
      "cell_type": "code",
      "execution_count": null,
      "metadata": {
        "id": "Hrr6v3TOFN5X"
      },
      "outputs": [],
      "source": [
        "import pandas as pd\n",
        "from sklearn.linear_model import Lasso\n",
        "from sklearn.preprocessing import StandardScaler\n",
        "from sklearn.model_selection import train_test_split, RandomizedSearchCV\n",
        "from sklearn.metrics import mean_absolute_percentage_error\n",
        "import numpy as np"
      ]
    },
    {
      "cell_type": "code",
      "source": [
        "from google.colab import drive\n",
        "drive.mount('/content/drive')"
      ],
      "metadata": {
        "colab": {
          "base_uri": "https://localhost:8080/"
        },
        "id": "-RwR4q52VHCS",
        "outputId": "1dec3f5c-9d26-4c97-b285-c8c30e183d10"
      },
      "execution_count": null,
      "outputs": [
        {
          "output_type": "stream",
          "name": "stdout",
          "text": [
            "Drive already mounted at /content/drive; to attempt to forcibly remount, call drive.mount(\"/content/drive\", force_remount=True).\n"
          ]
        }
      ]
    },
    {
      "cell_type": "code",
      "source": [
        "test_periods = [\n",
        "    ('2019-01-01', '2019-07-01'),\n",
        "    ('2019-07-01', '2020-01-01'),\n",
        "    ('2020-01-01', '2020-07-01'),\n",
        "    ('2020-07-01', '2021-01-01'),\n",
        "    ('2021-01-01', '2021-07-01'),\n",
        "    ('2021-07-01', '2022-01-01'),\n",
        "    ('2022-01-01', '2022-07-01'),\n",
        "    ('2022-07-01', '2023-01-01'),\n",
        "    ('2023-01-01', '2023-07-01'),\n",
        "    ('2023-07-01', '2024-01-01'),\n",
        "]"
      ],
      "metadata": {
        "id": "OcLqU5vbL0Qn"
      },
      "execution_count": null,
      "outputs": []
    },
    {
      "cell_type": "code",
      "source": [
        "def calculate_mape_1(test_start, test_end,alpha_low):\n",
        "  # Split data into train and test sets\n",
        "  train_df = feature_df[(feature_df['Time'] > '2015-12-31') & (feature_df['Time'] < test_start)]\n",
        "  test_df = feature_df[(feature_df['Time'] >= test_start) & (feature_df['Time'] < test_end)]\n",
        "\n",
        "  ## ------ This part needs to be changed for each forecasting horizon\n",
        "  # Create X, y\n",
        "  X_train = train_df.filter(regex='^AR')\n",
        "  X_test = test_df.filter(regex='^AR')\n",
        "\n",
        "  y_train = train_df['Average_price'].values\n",
        "  y_test = test_df['Average_price'].values\n",
        "  ## ------ This part needs to be changed for each forecasting horizon\n",
        "\n",
        "  # Standardlisation\n",
        "  scaler_x = StandardScaler()\n",
        "  X_train_scaled = scaler_x.fit_transform(X_train)\n",
        "  X_test_scaled = scaler_x.transform(X_test)\n",
        "  scaler_y = StandardScaler()\n",
        "  y_train_scaled = scaler_y.fit_transform(y_train.reshape(-1,1))\n",
        "  y_test_scaled = scaler_y.transform(y_test.reshape(-1,1))\n",
        "  # Define the parameter grid\n",
        "  param_grid = {'alpha': np.linspace(alpha_low, 1, 3000)}\n",
        "  # Create a Lasso regression model\n",
        "  lasso = Lasso()\n",
        "  # Create RandomizedSearchCV object\n",
        "  random_search = RandomizedSearchCV(estimator=lasso,\n",
        "                                   param_distributions=param_grid,\n",
        "                                   n_iter=300,\n",
        "                                   cv=5,\n",
        "                                   random_state=42)\n",
        "  # Fit the data to perform a grid search\n",
        "  random_search.fit(X_train_scaled, y_train_scaled)\n",
        "  assert random_search.n_features_in_ == len(X_train.columns)\n",
        "  # Get the best Lasso model from RandomizedSearchCV\n",
        "  best_lasso_model = random_search.best_estimator_\n",
        "  # Predict on the test data\n",
        "  y_pred_test = best_lasso_model.predict(X_test_scaled)\n",
        "  y_pred_test_inverse = scaler_y.inverse_transform(y_pred_test.reshape(-1,1)) # the model was trained with log-transformed and standardlised y\n",
        "  mape = round(mean_absolute_percentage_error(y_test,y_pred_test_inverse), 3)\n",
        "  mape = mape * 100\n",
        "  return (mape)"
      ],
      "metadata": {
        "id": "vwan5RQtF9o-"
      },
      "execution_count": null,
      "outputs": []
    },
    {
      "cell_type": "code",
      "source": [
        "def calculate_mape_3(test_start, test_end, alpha_low):\n",
        "  # Split data into train and test sets\n",
        "  train_df = feature_df[(feature_df['Time'] > '2015-12-31') & (feature_df['Time'] < test_start)]\n",
        "  test_df = feature_df[(feature_df['Time'] >= test_start) & (feature_df['Time'] < test_end)]\n",
        "\n",
        "  ## ------ This part needs to be changed for each forecasting horizon\n",
        "  # Create X, y\n",
        "  X_train = train_df.filter(regex='^AR')\n",
        "  X_train = X_train[X_train.columns.drop(list(X_train.filter(regex='_1$|_2$')))]\n",
        "  X_test = test_df.filter(regex='^AR')\n",
        "  X_test = X_test[X_test.columns.drop(list(X_test.filter(regex='_1$|_2$')))]\n",
        "\n",
        "  y_train = train_df['Average_price'].values\n",
        "  y_test = test_df['Average_price'].values\n",
        "  ## ------ This part needs to be changed for each forecasting horizon\n",
        "\n",
        "  # Standardlisation\n",
        "  scaler_x = StandardScaler()\n",
        "  X_train_scaled = scaler_x.fit_transform(X_train)\n",
        "  X_test_scaled = scaler_x.transform(X_test)\n",
        "  scaler_y = StandardScaler()\n",
        "  y_train_scaled = scaler_y.fit_transform(y_train.reshape(-1,1))\n",
        "  y_test_scaled = scaler_y.transform(y_test.reshape(-1,1))\n",
        "  # Define the parameter grid\n",
        "  param_grid = {'alpha': np.linspace(alpha_low, 1, 3000)}\n",
        "  # Create a Lasso regression model\n",
        "  lasso = Lasso()\n",
        "  # Create RandomizedSearchCV object\n",
        "  random_search = RandomizedSearchCV(estimator=lasso,\n",
        "                                   param_distributions=param_grid,\n",
        "                                   n_iter=300,\n",
        "                                   cv=5,\n",
        "                                   random_state=42)\n",
        "  # Fit the data to perform a grid search\n",
        "  random_search.fit(X_train_scaled, y_train_scaled)\n",
        "  assert random_search.n_features_in_ == len(X_train.columns)\n",
        "  # Get the best Lasso model from RandomizedSearchCV\n",
        "  best_lasso_model = random_search.best_estimator_\n",
        "  # Predict on the test data\n",
        "  y_pred_test = best_lasso_model.predict(X_test_scaled)\n",
        "  y_pred_test_inverse = scaler_y.inverse_transform(y_pred_test.reshape(-1,1)) # the model was trained with log-transformed and standardlised y\n",
        "  mape = round(mean_absolute_percentage_error(y_test,y_pred_test_inverse), 3)\n",
        "  mape = mape * 100\n",
        "  return (mape)"
      ],
      "metadata": {
        "id": "ug7kcJQ7CoXd"
      },
      "execution_count": null,
      "outputs": []
    },
    {
      "cell_type": "code",
      "source": [
        "def calculate_mape_6(test_start, test_end, alpha_low):\n",
        "  # Split data into train and test sets\n",
        "  train_df = feature_df[(feature_df['Time'] > '2015-12-31') & (feature_df['Time'] < test_start)]\n",
        "  test_df = feature_df[(feature_df['Time'] >= test_start) & (feature_df['Time'] < test_end)]\n",
        "\n",
        "  ## ------ This part needs to be changed for each forecasting horizon\n",
        "  # Create X, y\n",
        "  X_train = train_df.filter(regex='^AR')\n",
        "  X_train = X_train[X_train.columns.drop(list(X_train.filter(regex='_1$|_2$|_3$|_4$|_5$')))]\n",
        "  X_test = test_df.filter(regex='^AR')\n",
        "  X_test = X_test[X_test.columns.drop(list(X_test.filter(regex='_1$|_2$|_3$|_4$|_5$')))]\n",
        "\n",
        "  y_train = train_df['Average_price'].values\n",
        "  y_test = test_df['Average_price'].values\n",
        "  ## ------ This part needs to be changed for each forecasting horizon\n",
        "\n",
        "  # Standardlisation\n",
        "  scaler_x = StandardScaler()\n",
        "  X_train_scaled = scaler_x.fit_transform(X_train)\n",
        "  X_test_scaled = scaler_x.transform(X_test)\n",
        "  scaler_y = StandardScaler()\n",
        "  y_train_scaled = scaler_y.fit_transform(y_train.reshape(-1,1))\n",
        "  y_test_scaled = scaler_y.transform(y_test.reshape(-1,1))\n",
        "  # Define the parameter grid\n",
        "  param_grid = {'alpha': np.linspace(alpha_low, 1, 3000)}\n",
        "  # Create a Lasso regression model\n",
        "  lasso = Lasso()\n",
        "  # Create RandomizedSearchCV object\n",
        "  random_search = RandomizedSearchCV(estimator=lasso,\n",
        "                                   param_distributions=param_grid,\n",
        "                                   n_iter=300,\n",
        "                                   cv=5,\n",
        "                                   random_state=42)\n",
        "  # Fit the data to perform a grid search\n",
        "  random_search.fit(X_train_scaled, y_train_scaled)\n",
        "  assert random_search.n_features_in_ == len(X_train.columns)\n",
        "  # Get the best Lasso model from RandomizedSearchCV\n",
        "  best_lasso_model = random_search.best_estimator_\n",
        "  # Predict on the test data\n",
        "  y_pred_test = best_lasso_model.predict(X_test_scaled)\n",
        "  y_pred_test_inverse = scaler_y.inverse_transform(y_pred_test.reshape(-1,1)) # the model was trained with log-transformed and standardlised y\n",
        "  mape = round(mean_absolute_percentage_error(y_test,y_pred_test_inverse), 3)\n",
        "  mape = mape * 100\n",
        "  return (mape)"
      ],
      "metadata": {
        "id": "bJSN9-mZb6BC"
      },
      "execution_count": null,
      "outputs": []
    },
    {
      "cell_type": "markdown",
      "source": [
        "# Alkalis"
      ],
      "metadata": {
        "id": "TDXEiWNRBv9R"
      }
    },
    {
      "cell_type": "code",
      "source": [
        "feature_df = pd.read_csv('/content/drive/MyDrive/Colab Notebooks/Thesis/dataframe/alkalis_feature.csv',index_col=0)\n",
        "feature_df['Time'] = pd.to_datetime(feature_df['Time'])\n",
        "print(feature_df)"
      ],
      "metadata": {
        "id": "haTO1095FgC8",
        "colab": {
          "base_uri": "https://localhost:8080/"
        },
        "outputId": "74a98849-b1ff-4350-d76a-345862cfc06b"
      },
      "execution_count": null,
      "outputs": [
        {
          "output_type": "stream",
          "name": "stdout",
          "text": [
            "     RM02/0001  RM02/0002  Year  Month       Time Group Description  \\\n",
            "24       False       True  2016      1 2016-01-31           alkalis   \n",
            "25        True      False  2016      1 2016-01-31           alkalis   \n",
            "26       False       True  2016      2 2016-02-29           alkalis   \n",
            "27        True      False  2016      2 2016-02-29           alkalis   \n",
            "28       False       True  2016      3 2016-03-31           alkalis   \n",
            "..         ...        ...   ...    ...        ...               ...   \n",
            "211       True      False  2023     10 2023-10-31           alkalis   \n",
            "212      False       True  2023     11 2023-11-30           alkalis   \n",
            "213       True      False  2023     11 2023-11-30           alkalis   \n",
            "214      False       True  2023     12 2023-12-20           alkalis   \n",
            "215       True      False  2023     12 2023-12-31           alkalis   \n",
            "\n",
            "     Average_price  PNGASEUUSDM_1  Electricity_1  PNGASEUUSDM_2  ...  \\\n",
            "24        0.409500       5.810000          48.38       5.870000  ...   \n",
            "25        0.178381       5.810000          48.38       5.870000  ...   \n",
            "26        0.382000       5.090000          41.42       5.810000  ...   \n",
            "27        0.172634       5.090000          41.42       5.810000  ...   \n",
            "28        0.385000       4.790000          38.14       5.090000  ...   \n",
            "..             ...            ...            ...            ...  ...   \n",
            "211       0.334423      11.427930          89.17      10.717421  ...   \n",
            "212       0.591923      13.388843         101.92      11.427930  ...   \n",
            "213       0.330826      13.388843         101.92      11.427930  ...   \n",
            "214       0.575871      13.714316         115.07      13.388843  ...   \n",
            "215       0.334498      13.714316         115.07      13.388843  ...   \n",
            "\n",
            "         AR_3      AR_4      AR_5      AR_6      AR_7      AR_8      AR_9  \\\n",
            "24   0.463000  0.468750  0.460000  0.466667  0.441667  0.446667  0.446667   \n",
            "25   0.179496  0.180640  0.182136  0.180389  0.183176  0.184364  0.171045   \n",
            "26   0.455333  0.463000  0.468750  0.460000  0.466667  0.441667  0.446667   \n",
            "27   0.178768  0.179496  0.180640  0.182136  0.180389  0.183176  0.184364   \n",
            "28   0.408000  0.455333  0.463000  0.468750  0.460000  0.466667  0.441667   \n",
            "..        ...       ...       ...       ...       ...       ...       ...   \n",
            "211  0.353267  0.357807  0.380117  0.536686  0.627905  0.652717  0.817147   \n",
            "212  0.754010  0.873935  0.903387  0.998419  1.322798  1.478300  1.648967   \n",
            "213  0.353902  0.353267  0.357807  0.380117  0.536686  0.627905  0.652717   \n",
            "214  0.713726  0.754010  0.873935  0.903387  0.998419  1.322798  1.478300   \n",
            "215  0.329119  0.353902  0.353267  0.357807  0.380117  0.536686  0.627905   \n",
            "\n",
            "        AR_10     AR_11     AR_12  \n",
            "24   0.443750  0.446667  0.446667  \n",
            "25   0.169300  0.169500  0.168273  \n",
            "26   0.446667  0.443750  0.446667  \n",
            "27   0.171045  0.169300  0.169500  \n",
            "28   0.446667  0.446667  0.443750  \n",
            "..        ...       ...       ...  \n",
            "211  0.954066  1.127491  1.058680  \n",
            "212  1.664912  1.807359  1.810897  \n",
            "213  0.817147  0.954066  1.127491  \n",
            "214  1.648967  1.664912  1.807359  \n",
            "215  0.652717  0.817147  0.954066  \n",
            "\n",
            "[192 rows x 43 columns]\n"
          ]
        }
      ]
    },
    {
      "cell_type": "code",
      "source": [
        "df_0001 = feature_df[feature_df['RM02/0001'] == 1]\n",
        "print(df_0001.info())"
      ],
      "metadata": {
        "id": "yxUjcQdLKJ_U",
        "colab": {
          "base_uri": "https://localhost:8080/"
        },
        "outputId": "470233ee-d385-4c50-bf4a-b29247a4d95b"
      },
      "execution_count": null,
      "outputs": [
        {
          "output_type": "stream",
          "name": "stdout",
          "text": [
            "<class 'pandas.core.frame.DataFrame'>\n",
            "Index: 96 entries, 25 to 215\n",
            "Data columns (total 43 columns):\n",
            " #   Column             Non-Null Count  Dtype         \n",
            "---  ------             --------------  -----         \n",
            " 0   RM02/0001          96 non-null     bool          \n",
            " 1   RM02/0002          96 non-null     bool          \n",
            " 2   Year               96 non-null     int64         \n",
            " 3   Month              96 non-null     int64         \n",
            " 4   Time               96 non-null     datetime64[ns]\n",
            " 5   Group Description  96 non-null     object        \n",
            " 6   Average_price      96 non-null     float64       \n",
            " 7   PNGASEUUSDM_1      96 non-null     float64       \n",
            " 8   Electricity_1      96 non-null     float64       \n",
            " 9   PNGASEUUSDM_2      96 non-null     float64       \n",
            " 10  Electricity_2      96 non-null     float64       \n",
            " 11  PNGASEUUSDM_3      96 non-null     float64       \n",
            " 12  Electricity_3      96 non-null     float64       \n",
            " 13  PNGASEUUSDM_4      96 non-null     float64       \n",
            " 14  Electricity_4      96 non-null     float64       \n",
            " 15  PNGASEUUSDM_5      96 non-null     float64       \n",
            " 16  Electricity_5      96 non-null     float64       \n",
            " 17  PNGASEUUSDM_6      96 non-null     float64       \n",
            " 18  Electricity_6      96 non-null     float64       \n",
            " 19  PNGASEUUSDM_7      96 non-null     float64       \n",
            " 20  Electricity_7      96 non-null     float64       \n",
            " 21  PNGASEUUSDM_8      96 non-null     float64       \n",
            " 22  Electricity_8      96 non-null     float64       \n",
            " 23  PNGASEUUSDM_9      96 non-null     float64       \n",
            " 24  Electricity_9      96 non-null     float64       \n",
            " 25  PNGASEUUSDM_10     96 non-null     float64       \n",
            " 26  Electricity_10     96 non-null     float64       \n",
            " 27  PNGASEUUSDM_11     96 non-null     float64       \n",
            " 28  Electricity_11     96 non-null     float64       \n",
            " 29  PNGASEUUSDM_12     96 non-null     float64       \n",
            " 30  Electricity_12     96 non-null     float64       \n",
            " 31  AR_1               96 non-null     float64       \n",
            " 32  AR_2               96 non-null     float64       \n",
            " 33  AR_3               96 non-null     float64       \n",
            " 34  AR_4               96 non-null     float64       \n",
            " 35  AR_5               96 non-null     float64       \n",
            " 36  AR_6               96 non-null     float64       \n",
            " 37  AR_7               96 non-null     float64       \n",
            " 38  AR_8               96 non-null     float64       \n",
            " 39  AR_9               96 non-null     float64       \n",
            " 40  AR_10              96 non-null     float64       \n",
            " 41  AR_11              96 non-null     float64       \n",
            " 42  AR_12              96 non-null     float64       \n",
            "dtypes: bool(2), datetime64[ns](1), float64(37), int64(2), object(1)\n",
            "memory usage: 31.7+ KB\n",
            "None\n"
          ]
        }
      ]
    },
    {
      "cell_type": "code",
      "source": [
        "df_0002 = feature_df[feature_df['RM02/0002'] == 1]\n",
        "print(df_0002.info())"
      ],
      "metadata": {
        "id": "AW2knezKMSQo",
        "colab": {
          "base_uri": "https://localhost:8080/"
        },
        "outputId": "d36777f3-dae8-4b45-998f-911b47fb7dd0"
      },
      "execution_count": null,
      "outputs": [
        {
          "output_type": "stream",
          "name": "stdout",
          "text": [
            "<class 'pandas.core.frame.DataFrame'>\n",
            "Index: 96 entries, 24 to 214\n",
            "Data columns (total 43 columns):\n",
            " #   Column             Non-Null Count  Dtype         \n",
            "---  ------             --------------  -----         \n",
            " 0   RM02/0001          96 non-null     bool          \n",
            " 1   RM02/0002          96 non-null     bool          \n",
            " 2   Year               96 non-null     int64         \n",
            " 3   Month              96 non-null     int64         \n",
            " 4   Time               96 non-null     datetime64[ns]\n",
            " 5   Group Description  96 non-null     object        \n",
            " 6   Average_price      96 non-null     float64       \n",
            " 7   PNGASEUUSDM_1      96 non-null     float64       \n",
            " 8   Electricity_1      96 non-null     float64       \n",
            " 9   PNGASEUUSDM_2      96 non-null     float64       \n",
            " 10  Electricity_2      96 non-null     float64       \n",
            " 11  PNGASEUUSDM_3      96 non-null     float64       \n",
            " 12  Electricity_3      96 non-null     float64       \n",
            " 13  PNGASEUUSDM_4      96 non-null     float64       \n",
            " 14  Electricity_4      96 non-null     float64       \n",
            " 15  PNGASEUUSDM_5      96 non-null     float64       \n",
            " 16  Electricity_5      96 non-null     float64       \n",
            " 17  PNGASEUUSDM_6      96 non-null     float64       \n",
            " 18  Electricity_6      96 non-null     float64       \n",
            " 19  PNGASEUUSDM_7      96 non-null     float64       \n",
            " 20  Electricity_7      96 non-null     float64       \n",
            " 21  PNGASEUUSDM_8      96 non-null     float64       \n",
            " 22  Electricity_8      96 non-null     float64       \n",
            " 23  PNGASEUUSDM_9      96 non-null     float64       \n",
            " 24  Electricity_9      96 non-null     float64       \n",
            " 25  PNGASEUUSDM_10     96 non-null     float64       \n",
            " 26  Electricity_10     96 non-null     float64       \n",
            " 27  PNGASEUUSDM_11     96 non-null     float64       \n",
            " 28  Electricity_11     96 non-null     float64       \n",
            " 29  PNGASEUUSDM_12     96 non-null     float64       \n",
            " 30  Electricity_12     96 non-null     float64       \n",
            " 31  AR_1               96 non-null     float64       \n",
            " 32  AR_2               96 non-null     float64       \n",
            " 33  AR_3               96 non-null     float64       \n",
            " 34  AR_4               96 non-null     float64       \n",
            " 35  AR_5               96 non-null     float64       \n",
            " 36  AR_6               96 non-null     float64       \n",
            " 37  AR_7               96 non-null     float64       \n",
            " 38  AR_8               96 non-null     float64       \n",
            " 39  AR_9               96 non-null     float64       \n",
            " 40  AR_10              96 non-null     float64       \n",
            " 41  AR_11              96 non-null     float64       \n",
            " 42  AR_12              96 non-null     float64       \n",
            "dtypes: bool(2), datetime64[ns](1), float64(37), int64(2), object(1)\n",
            "memory usage: 31.7+ KB\n",
            "None\n"
          ]
        }
      ]
    },
    {
      "cell_type": "markdown",
      "source": [
        "## 0001"
      ],
      "metadata": {
        "id": "VKpXeZyRKqvN"
      }
    },
    {
      "cell_type": "code",
      "source": [
        "feature_df = df_0001"
      ],
      "metadata": {
        "id": "qDLPmHmLKtDo"
      },
      "execution_count": null,
      "outputs": []
    },
    {
      "cell_type": "markdown",
      "source": [
        "### 1-month prediction"
      ],
      "metadata": {
        "id": "hpbYMFy0Ky6_"
      }
    },
    {
      "cell_type": "code",
      "source": [
        "mape_values = []\n",
        "for start, end in test_periods:\n",
        "    mape = calculate_mape_1(start, end, 0.2)\n",
        "    mape_values.append(mape)\n",
        "    print(f\"MAPE from {start} to {end}: {mape:.1f}\")"
      ],
      "metadata": {
        "id": "-W84CREvMPCL",
        "colab": {
          "base_uri": "https://localhost:8080/"
        },
        "outputId": "9d1fa231-9058-4e7a-f65d-cd028c0a3589"
      },
      "execution_count": null,
      "outputs": [
        {
          "output_type": "stream",
          "name": "stdout",
          "text": [
            "MAPE from 2019-01-01 to 2019-07-01: 2.7\n",
            "MAPE from 2019-07-01 to 2020-01-01: 4.3\n",
            "MAPE from 2020-01-01 to 2020-07-01: 6.3\n",
            "MAPE from 2020-07-01 to 2021-01-01: 9.9\n",
            "MAPE from 2021-01-01 to 2021-07-01: 9.1\n",
            "MAPE from 2021-07-01 to 2022-01-01: 8.0\n",
            "MAPE from 2022-01-01 to 2022-07-01: 17.2\n",
            "MAPE from 2022-07-01 to 2023-01-01: 18.0\n",
            "MAPE from 2023-01-01 to 2023-07-01: 21.3\n",
            "MAPE from 2023-07-01 to 2024-01-01: 2.7\n"
          ]
        }
      ]
    },
    {
      "cell_type": "code",
      "source": [
        "average_mape = np.mean(mape_values)\n",
        "print(f\"Average MAPE: {average_mape:.1f}\")"
      ],
      "metadata": {
        "id": "GDKlZEd_MZO2",
        "colab": {
          "base_uri": "https://localhost:8080/"
        },
        "outputId": "6f8addc0-6f70-4941-9cf8-3f70c9d99b45"
      },
      "execution_count": null,
      "outputs": [
        {
          "output_type": "stream",
          "name": "stdout",
          "text": [
            "Average MAPE: 9.9\n"
          ]
        }
      ]
    },
    {
      "cell_type": "markdown",
      "source": [
        "### 3-month prediction\n"
      ],
      "metadata": {
        "id": "XVVNycP3VlkM"
      }
    },
    {
      "cell_type": "code",
      "source": [
        "mape_values = []\n",
        "for start, end in test_periods:\n",
        "    mape = calculate_mape_3(start, end, 0.6)\n",
        "    mape_values.append(mape)\n",
        "    print(f\"MAPE from {start} to {end}: {mape:.1f}\")"
      ],
      "metadata": {
        "id": "Ivd5vIFmaG09",
        "colab": {
          "base_uri": "https://localhost:8080/"
        },
        "outputId": "baec60ab-0940-401f-fbb3-291697fa7e62"
      },
      "execution_count": null,
      "outputs": [
        {
          "output_type": "stream",
          "name": "stdout",
          "text": [
            "MAPE from 2019-01-01 to 2019-07-01: 6.9\n",
            "MAPE from 2019-07-01 to 2020-01-01: 9.1\n",
            "MAPE from 2020-01-01 to 2020-07-01: 13.8\n",
            "MAPE from 2020-07-01 to 2021-01-01: 21.8\n",
            "MAPE from 2021-01-01 to 2021-07-01: 28.9\n",
            "MAPE from 2021-07-01 to 2022-01-01: 12.3\n",
            "MAPE from 2022-01-01 to 2022-07-01: 38.8\n",
            "MAPE from 2022-07-01 to 2023-01-01: 55.1\n",
            "MAPE from 2023-01-01 to 2023-07-01: 20.7\n",
            "MAPE from 2023-07-01 to 2024-01-01: 6.4\n"
          ]
        }
      ]
    },
    {
      "cell_type": "code",
      "source": [
        "average_mape = np.mean(mape_values)\n",
        "print(f\"Average MAPE: {average_mape:.1f}\")"
      ],
      "metadata": {
        "colab": {
          "base_uri": "https://localhost:8080/"
        },
        "id": "mItqOB7EaJaT",
        "outputId": "34a66080-a833-4b1b-eac8-794067ea577f"
      },
      "execution_count": null,
      "outputs": [
        {
          "output_type": "stream",
          "name": "stdout",
          "text": [
            "Average MAPE: 21.4\n"
          ]
        }
      ]
    },
    {
      "cell_type": "markdown",
      "source": [
        "### 6-month prediction"
      ],
      "metadata": {
        "id": "UCybluNnb4C9"
      }
    },
    {
      "cell_type": "code",
      "source": [
        "mape_values = []\n",
        "for start, end in test_periods:\n",
        "    mape = calculate_mape_6(start, end, 0.01)\n",
        "    mape_values.append(mape)\n",
        "    print(f\"MAPE from {start} to {end}: {mape:.1f}\")"
      ],
      "metadata": {
        "id": "uo3_8_Z4cBUN",
        "colab": {
          "base_uri": "https://localhost:8080/"
        },
        "outputId": "34d9d186-9657-4320-d956-c52690d233ab"
      },
      "execution_count": null,
      "outputs": [
        {
          "output_type": "stream",
          "name": "stdout",
          "text": [
            "MAPE from 2019-01-01 to 2019-07-01: 5.5\n",
            "MAPE from 2019-07-01 to 2020-01-01: 20.2\n",
            "MAPE from 2020-01-01 to 2020-07-01: 9.4\n",
            "MAPE from 2020-07-01 to 2021-01-01: 17.4\n",
            "MAPE from 2021-01-01 to 2021-07-01: 18.5\n",
            "MAPE from 2021-07-01 to 2022-01-01: 18.8\n",
            "MAPE from 2022-01-01 to 2022-07-01: 43.9\n",
            "MAPE from 2022-07-01 to 2023-01-01: 32.8\n",
            "MAPE from 2023-01-01 to 2023-07-01: 113.8\n",
            "MAPE from 2023-07-01 to 2024-01-01: 22.9\n"
          ]
        }
      ]
    },
    {
      "cell_type": "code",
      "source": [
        "average_mape = np.mean(mape_values)\n",
        "print(f\"Average MAPE: {average_mape:.1f}\")"
      ],
      "metadata": {
        "colab": {
          "base_uri": "https://localhost:8080/"
        },
        "id": "EPztBxN1cBzA",
        "outputId": "04e71352-f8e1-49a2-b6c0-087f2ceaa18c"
      },
      "execution_count": null,
      "outputs": [
        {
          "output_type": "stream",
          "name": "stdout",
          "text": [
            "Average MAPE: 30.3\n"
          ]
        }
      ]
    },
    {
      "cell_type": "markdown",
      "source": [
        "## 0002"
      ],
      "metadata": {
        "id": "NeslsGCiEOuG"
      }
    },
    {
      "cell_type": "code",
      "source": [
        "feature_df = df_0002"
      ],
      "metadata": {
        "id": "RWx16ZDYEOuU"
      },
      "execution_count": null,
      "outputs": []
    },
    {
      "cell_type": "markdown",
      "source": [
        "### 1-month prediction"
      ],
      "metadata": {
        "id": "AlWVC4BCEOuV"
      }
    },
    {
      "cell_type": "code",
      "source": [
        "mape_values = []\n",
        "for start, end in test_periods:\n",
        "    mape = calculate_mape_1(start, end, 0.1)\n",
        "    mape_values.append(mape)\n",
        "    print(f\"MAPE from {start} to {end}: {mape:.1f}\")"
      ],
      "metadata": {
        "colab": {
          "base_uri": "https://localhost:8080/"
        },
        "outputId": "dd8939ff-eae2-4321-888d-30df9828e127",
        "id": "0hyNlHVpEOuV"
      },
      "execution_count": null,
      "outputs": [
        {
          "output_type": "stream",
          "name": "stdout",
          "text": [
            "MAPE from 2019-01-01 to 2019-07-01: 6.8\n",
            "MAPE from 2019-07-01 to 2020-01-01: 6.7\n",
            "MAPE from 2020-01-01 to 2020-07-01: 8.3\n",
            "MAPE from 2020-07-01 to 2021-01-01: 3.4\n",
            "MAPE from 2021-01-01 to 2021-07-01: 4.5\n",
            "MAPE from 2021-07-01 to 2022-01-01: 11.4\n",
            "MAPE from 2022-01-01 to 2022-07-01: 21.9\n",
            "MAPE from 2022-07-01 to 2023-01-01: 6.0\n",
            "MAPE from 2023-01-01 to 2023-07-01: 13.4\n",
            "MAPE from 2023-07-01 to 2024-01-01: 7.0\n"
          ]
        }
      ]
    },
    {
      "cell_type": "code",
      "source": [
        "average_mape = np.mean(mape_values)\n",
        "print(f\"Average MAPE: {average_mape:.1f}\")"
      ],
      "metadata": {
        "colab": {
          "base_uri": "https://localhost:8080/"
        },
        "outputId": "497bbefa-2025-4db3-8588-e10b8c4e79dc",
        "id": "wS-U4ofiEOuV"
      },
      "execution_count": null,
      "outputs": [
        {
          "output_type": "stream",
          "name": "stdout",
          "text": [
            "Average MAPE: 8.9\n"
          ]
        }
      ]
    },
    {
      "cell_type": "markdown",
      "source": [
        "### 3-month prediction\n"
      ],
      "metadata": {
        "id": "mIwJNiUdEOuV"
      }
    },
    {
      "cell_type": "code",
      "source": [
        "mape_values = []\n",
        "for start, end in test_periods:\n",
        "    mape = calculate_mape_3(start, end, 0.4)\n",
        "    mape_values.append(mape)\n",
        "    print(f\"MAPE from {start} to {end}: {mape:.1f}\")"
      ],
      "metadata": {
        "colab": {
          "base_uri": "https://localhost:8080/"
        },
        "outputId": "095cd00e-2a56-44f5-8d76-dbf33501af19",
        "id": "hTt-69nMEOuV"
      },
      "execution_count": null,
      "outputs": [
        {
          "output_type": "stream",
          "name": "stdout",
          "text": [
            "MAPE from 2019-01-01 to 2019-07-01: 16.5\n",
            "MAPE from 2019-07-01 to 2020-01-01: 6.5\n",
            "MAPE from 2020-01-01 to 2020-07-01: 9.5\n",
            "MAPE from 2020-07-01 to 2021-01-01: 4.8\n",
            "MAPE from 2021-01-01 to 2021-07-01: 4.4\n",
            "MAPE from 2021-07-01 to 2022-01-01: 15.0\n",
            "MAPE from 2022-01-01 to 2022-07-01: 51.2\n",
            "MAPE from 2022-07-01 to 2023-01-01: 18.1\n",
            "MAPE from 2023-01-01 to 2023-07-01: 17.8\n",
            "MAPE from 2023-07-01 to 2024-01-01: 16.8\n"
          ]
        }
      ]
    },
    {
      "cell_type": "code",
      "source": [
        "average_mape = np.mean(mape_values)\n",
        "print(f\"Average MAPE: {average_mape:.1f}\")"
      ],
      "metadata": {
        "colab": {
          "base_uri": "https://localhost:8080/"
        },
        "outputId": "24a5660c-e404-47e9-d490-eb93affd24ad",
        "id": "tMkLLTL1EOuV"
      },
      "execution_count": null,
      "outputs": [
        {
          "output_type": "stream",
          "name": "stdout",
          "text": [
            "Average MAPE: 16.1\n"
          ]
        }
      ]
    },
    {
      "cell_type": "markdown",
      "source": [
        "### 6-month prediction"
      ],
      "metadata": {
        "id": "pCbHR0V5EOuV"
      }
    },
    {
      "cell_type": "code",
      "source": [
        "mape_values = []\n",
        "for start, end in test_periods:\n",
        "    mape = calculate_mape_6(start, end, 0.4)\n",
        "    mape_values.append(mape)\n",
        "    print(f\"MAPE from {start} to {end}: {mape:.1f}\")"
      ],
      "metadata": {
        "colab": {
          "base_uri": "https://localhost:8080/"
        },
        "outputId": "d3c4982e-f321-4c61-c80d-6b0174cf9c8f",
        "id": "NVN10qG1EOuV"
      },
      "execution_count": null,
      "outputs": [
        {
          "output_type": "stream",
          "name": "stdout",
          "text": [
            "MAPE from 2019-01-01 to 2019-07-01: 16.5\n",
            "MAPE from 2019-07-01 to 2020-01-01: 8.3\n",
            "MAPE from 2020-01-01 to 2020-07-01: 10.9\n",
            "MAPE from 2020-07-01 to 2021-01-01: 7.0\n",
            "MAPE from 2021-01-01 to 2021-07-01: 3.9\n",
            "MAPE from 2021-07-01 to 2022-01-01: 15.5\n",
            "MAPE from 2022-01-01 to 2022-07-01: 58.3\n",
            "MAPE from 2022-07-01 to 2023-01-01: 71.5\n",
            "MAPE from 2023-01-01 to 2023-07-01: 42.3\n",
            "MAPE from 2023-07-01 to 2024-01-01: 39.4\n"
          ]
        }
      ]
    },
    {
      "cell_type": "code",
      "source": [
        "average_mape = np.mean(mape_values)\n",
        "print(f\"Average MAPE: {average_mape:.1f}\")"
      ],
      "metadata": {
        "colab": {
          "base_uri": "https://localhost:8080/"
        },
        "outputId": "4fea9815-4453-4ace-c701-bea11278ce07",
        "id": "IZEoT2Y2EOuV"
      },
      "execution_count": null,
      "outputs": [
        {
          "output_type": "stream",
          "name": "stdout",
          "text": [
            "Average MAPE: 27.4\n"
          ]
        }
      ]
    },
    {
      "cell_type": "markdown",
      "source": [
        "# Bleaching Agent"
      ],
      "metadata": {
        "id": "P00Y4ydeFOfs"
      }
    },
    {
      "cell_type": "code",
      "source": [
        "feature_df = pd.read_csv('/content/drive/MyDrive/Colab Notebooks/Thesis/dataframe/bleaching agent_feature.csv',index_col=0)\n",
        "feature_df['Time'] = pd.to_datetime(feature_df['Time'])\n",
        "print(feature_df)"
      ],
      "metadata": {
        "colab": {
          "base_uri": "https://localhost:8080/"
        },
        "outputId": "52692074-ec3f-4759-e97d-73bea8a26e15",
        "id": "E6qWtgBmFOft"
      },
      "execution_count": null,
      "outputs": [
        {
          "output_type": "stream",
          "name": "stdout",
          "text": [
            "     RM04/0001  RM04/0006  Year  Month       Time Group Description  \\\n",
            "12       False       True  2016      1 2016-01-31   bleaching agent   \n",
            "13       False       True  2016      2 2016-02-29   bleaching agent   \n",
            "14       False       True  2016      3 2016-03-31   bleaching agent   \n",
            "15       False       True  2016      4 2016-04-30   bleaching agent   \n",
            "16       False       True  2016      5 2016-05-31   bleaching agent   \n",
            "..         ...        ...   ...    ...        ...               ...   \n",
            "213       True      False  2023      8 2023-08-31   bleaching agent   \n",
            "214       True      False  2023      9 2023-09-30   bleaching agent   \n",
            "215       True      False  2023     10 2023-10-31   bleaching agent   \n",
            "216       True      False  2023     11 2023-11-30   bleaching agent   \n",
            "217       True      False  2023     12 2023-12-31   bleaching agent   \n",
            "\n",
            "     Average_price  PNGASEUUSDM_1  Electricity_1  PNGASEUUSDM_2  ...  \\\n",
            "12        0.130089       5.810000          48.38       5.870000  ...   \n",
            "13        0.110000       5.090000          41.42       5.810000  ...   \n",
            "14        0.122500       4.790000          38.14       5.090000  ...   \n",
            "15        0.123833       4.090000          28.95       4.790000  ...   \n",
            "16        0.127286       4.020000          25.25       4.090000  ...   \n",
            "..             ...            ...            ...            ...  ...   \n",
            "213       0.387688       9.611719          87.58      10.293732  ...   \n",
            "214       0.372093      10.717421          96.46       9.611719  ...   \n",
            "215       0.386432      11.427930          89.17      10.717421  ...   \n",
            "216       0.377390      13.388843         101.92      11.427930  ...   \n",
            "217       0.388208      13.714316         115.07      13.388843  ...   \n",
            "\n",
            "         AR_3      AR_4      AR_5      AR_6      AR_7      AR_8      AR_9  \\\n",
            "12   0.132500  0.146000  0.122857  0.110000  0.128000  0.132500  0.132500   \n",
            "13   0.122857  0.132500  0.146000  0.122857  0.110000  0.128000  0.132500   \n",
            "14   0.110000  0.122857  0.132500  0.146000  0.122857  0.110000  0.128000   \n",
            "15   0.130089  0.110000  0.122857  0.132500  0.146000  0.122857  0.110000   \n",
            "16   0.110000  0.130089  0.110000  0.122857  0.132500  0.146000  0.122857   \n",
            "..        ...       ...       ...       ...       ...       ...       ...   \n",
            "213  0.423318  0.425217  0.472389  0.503297  0.565345  0.583380  0.503474   \n",
            "214  0.421539  0.423318  0.425217  0.472389  0.503297  0.565345  0.583380   \n",
            "215  0.394300  0.421539  0.423318  0.425217  0.472389  0.503297  0.565345   \n",
            "216  0.387688  0.394300  0.421539  0.423318  0.425217  0.472389  0.503297   \n",
            "217  0.372093  0.387688  0.394300  0.421539  0.423318  0.425217  0.472389   \n",
            "\n",
            "        AR_10     AR_11     AR_12  \n",
            "12   0.132500  0.128000  0.132500  \n",
            "13   0.132500  0.132500  0.128000  \n",
            "14   0.132500  0.132500  0.132500  \n",
            "15   0.128000  0.132500  0.132500  \n",
            "16   0.110000  0.128000  0.132500  \n",
            "..        ...       ...       ...  \n",
            "213  0.725724  0.755028  0.607936  \n",
            "214  0.503474  0.725724  0.755028  \n",
            "215  0.583380  0.503474  0.725724  \n",
            "216  0.565345  0.583380  0.503474  \n",
            "217  0.503297  0.565345  0.583380  \n",
            "\n",
            "[189 rows x 43 columns]\n"
          ]
        }
      ]
    },
    {
      "cell_type": "code",
      "source": [
        "df_0001 = feature_df[feature_df['RM04/0001'] == 1]\n",
        "print(df_0001.info())"
      ],
      "metadata": {
        "colab": {
          "base_uri": "https://localhost:8080/"
        },
        "outputId": "62b86651-5288-4085-87b0-18b6f921690f",
        "id": "ifHKajO7FOft"
      },
      "execution_count": null,
      "outputs": [
        {
          "output_type": "stream",
          "name": "stdout",
          "text": [
            "<class 'pandas.core.frame.DataFrame'>\n",
            "Index: 93 entries, 123 to 217\n",
            "Data columns (total 43 columns):\n",
            " #   Column             Non-Null Count  Dtype         \n",
            "---  ------             --------------  -----         \n",
            " 0   RM04/0001          93 non-null     bool          \n",
            " 1   RM04/0006          93 non-null     bool          \n",
            " 2   Year               93 non-null     int64         \n",
            " 3   Month              93 non-null     int64         \n",
            " 4   Time               93 non-null     datetime64[ns]\n",
            " 5   Group Description  93 non-null     object        \n",
            " 6   Average_price      93 non-null     float64       \n",
            " 7   PNGASEUUSDM_1      93 non-null     float64       \n",
            " 8   Electricity_1      93 non-null     float64       \n",
            " 9   PNGASEUUSDM_2      93 non-null     float64       \n",
            " 10  Electricity_2      93 non-null     float64       \n",
            " 11  PNGASEUUSDM_3      93 non-null     float64       \n",
            " 12  Electricity_3      93 non-null     float64       \n",
            " 13  PNGASEUUSDM_4      93 non-null     float64       \n",
            " 14  Electricity_4      93 non-null     float64       \n",
            " 15  PNGASEUUSDM_5      93 non-null     float64       \n",
            " 16  Electricity_5      93 non-null     float64       \n",
            " 17  PNGASEUUSDM_6      93 non-null     float64       \n",
            " 18  Electricity_6      93 non-null     float64       \n",
            " 19  PNGASEUUSDM_7      93 non-null     float64       \n",
            " 20  Electricity_7      93 non-null     float64       \n",
            " 21  PNGASEUUSDM_8      93 non-null     float64       \n",
            " 22  Electricity_8      93 non-null     float64       \n",
            " 23  PNGASEUUSDM_9      93 non-null     float64       \n",
            " 24  Electricity_9      93 non-null     float64       \n",
            " 25  PNGASEUUSDM_10     93 non-null     float64       \n",
            " 26  Electricity_10     93 non-null     float64       \n",
            " 27  PNGASEUUSDM_11     93 non-null     float64       \n",
            " 28  Electricity_11     93 non-null     float64       \n",
            " 29  PNGASEUUSDM_12     93 non-null     float64       \n",
            " 30  Electricity_12     93 non-null     float64       \n",
            " 31  AR_1               93 non-null     float64       \n",
            " 32  AR_2               93 non-null     float64       \n",
            " 33  AR_3               93 non-null     float64       \n",
            " 34  AR_4               93 non-null     float64       \n",
            " 35  AR_5               93 non-null     float64       \n",
            " 36  AR_6               93 non-null     float64       \n",
            " 37  AR_7               93 non-null     float64       \n",
            " 38  AR_8               93 non-null     float64       \n",
            " 39  AR_9               93 non-null     float64       \n",
            " 40  AR_10              93 non-null     float64       \n",
            " 41  AR_11              93 non-null     float64       \n",
            " 42  AR_12              93 non-null     float64       \n",
            "dtypes: bool(2), datetime64[ns](1), float64(37), int64(2), object(1)\n",
            "memory usage: 30.7+ KB\n",
            "None\n"
          ]
        }
      ]
    },
    {
      "cell_type": "code",
      "source": [
        "df_0006 = feature_df[feature_df['RM04/0006'] == 1]\n",
        "print(df_0006.info())"
      ],
      "metadata": {
        "colab": {
          "base_uri": "https://localhost:8080/"
        },
        "outputId": "65add9ba-cf50-4b24-a899-02d8fef4b495",
        "id": "zOXkrvN-FOft"
      },
      "execution_count": null,
      "outputs": [
        {
          "output_type": "stream",
          "name": "stdout",
          "text": [
            "<class 'pandas.core.frame.DataFrame'>\n",
            "Index: 96 entries, 12 to 107\n",
            "Data columns (total 43 columns):\n",
            " #   Column             Non-Null Count  Dtype         \n",
            "---  ------             --------------  -----         \n",
            " 0   RM04/0001          96 non-null     bool          \n",
            " 1   RM04/0006          96 non-null     bool          \n",
            " 2   Year               96 non-null     int64         \n",
            " 3   Month              96 non-null     int64         \n",
            " 4   Time               96 non-null     datetime64[ns]\n",
            " 5   Group Description  96 non-null     object        \n",
            " 6   Average_price      96 non-null     float64       \n",
            " 7   PNGASEUUSDM_1      96 non-null     float64       \n",
            " 8   Electricity_1      96 non-null     float64       \n",
            " 9   PNGASEUUSDM_2      96 non-null     float64       \n",
            " 10  Electricity_2      96 non-null     float64       \n",
            " 11  PNGASEUUSDM_3      96 non-null     float64       \n",
            " 12  Electricity_3      96 non-null     float64       \n",
            " 13  PNGASEUUSDM_4      96 non-null     float64       \n",
            " 14  Electricity_4      96 non-null     float64       \n",
            " 15  PNGASEUUSDM_5      96 non-null     float64       \n",
            " 16  Electricity_5      96 non-null     float64       \n",
            " 17  PNGASEUUSDM_6      96 non-null     float64       \n",
            " 18  Electricity_6      96 non-null     float64       \n",
            " 19  PNGASEUUSDM_7      96 non-null     float64       \n",
            " 20  Electricity_7      96 non-null     float64       \n",
            " 21  PNGASEUUSDM_8      96 non-null     float64       \n",
            " 22  Electricity_8      96 non-null     float64       \n",
            " 23  PNGASEUUSDM_9      96 non-null     float64       \n",
            " 24  Electricity_9      96 non-null     float64       \n",
            " 25  PNGASEUUSDM_10     96 non-null     float64       \n",
            " 26  Electricity_10     96 non-null     float64       \n",
            " 27  PNGASEUUSDM_11     96 non-null     float64       \n",
            " 28  Electricity_11     96 non-null     float64       \n",
            " 29  PNGASEUUSDM_12     96 non-null     float64       \n",
            " 30  Electricity_12     96 non-null     float64       \n",
            " 31  AR_1               96 non-null     float64       \n",
            " 32  AR_2               96 non-null     float64       \n",
            " 33  AR_3               96 non-null     float64       \n",
            " 34  AR_4               96 non-null     float64       \n",
            " 35  AR_5               96 non-null     float64       \n",
            " 36  AR_6               96 non-null     float64       \n",
            " 37  AR_7               96 non-null     float64       \n",
            " 38  AR_8               96 non-null     float64       \n",
            " 39  AR_9               96 non-null     float64       \n",
            " 40  AR_10              96 non-null     float64       \n",
            " 41  AR_11              96 non-null     float64       \n",
            " 42  AR_12              96 non-null     float64       \n",
            "dtypes: bool(2), datetime64[ns](1), float64(37), int64(2), object(1)\n",
            "memory usage: 31.7+ KB\n",
            "None\n"
          ]
        }
      ]
    },
    {
      "cell_type": "markdown",
      "source": [
        "## 0001"
      ],
      "metadata": {
        "id": "W-aphYa9FOft"
      }
    },
    {
      "cell_type": "code",
      "source": [
        "feature_df = df_0001"
      ],
      "metadata": {
        "id": "cGauyfGyFOfu"
      },
      "execution_count": null,
      "outputs": []
    },
    {
      "cell_type": "markdown",
      "source": [
        "### 1-month prediction"
      ],
      "metadata": {
        "id": "9A-OD4GbFOfu"
      }
    },
    {
      "cell_type": "code",
      "source": [
        "mape_values = []\n",
        "for start, end in test_periods:\n",
        "    mape = calculate_mape_1(start, end, 0.4)\n",
        "    mape_values.append(mape)\n",
        "    print(f\"MAPE from {start} to {end}: {mape:.1f}\")"
      ],
      "metadata": {
        "colab": {
          "base_uri": "https://localhost:8080/"
        },
        "outputId": "e1e6c2f9-2c17-4473-b93f-f71865a20418",
        "id": "6KxBDwWZFOfu"
      },
      "execution_count": null,
      "outputs": [
        {
          "output_type": "stream",
          "name": "stdout",
          "text": [
            "MAPE from 2019-01-01 to 2019-07-01: 6.7\n",
            "MAPE from 2019-07-01 to 2020-01-01: 5.9\n",
            "MAPE from 2020-01-01 to 2020-07-01: 6.8\n",
            "MAPE from 2020-07-01 to 2021-01-01: 4.6\n",
            "MAPE from 2021-01-01 to 2021-07-01: 6.7\n",
            "MAPE from 2021-07-01 to 2022-01-01: 10.6\n",
            "MAPE from 2022-01-01 to 2022-07-01: 30.4\n",
            "MAPE from 2022-07-01 to 2023-01-01: 24.2\n",
            "MAPE from 2023-01-01 to 2023-07-01: 22.1\n",
            "MAPE from 2023-07-01 to 2024-01-01: 7.6\n"
          ]
        }
      ]
    },
    {
      "cell_type": "code",
      "source": [
        "average_mape = np.mean(mape_values)\n",
        "print(f\"Average MAPE: {average_mape:.1f}\")"
      ],
      "metadata": {
        "colab": {
          "base_uri": "https://localhost:8080/"
        },
        "outputId": "750b136f-b399-4052-85c7-8c23dea3d13c",
        "id": "QxD5F3GJFOfu"
      },
      "execution_count": null,
      "outputs": [
        {
          "output_type": "stream",
          "name": "stdout",
          "text": [
            "Average MAPE: 12.6\n"
          ]
        }
      ]
    },
    {
      "cell_type": "markdown",
      "source": [
        "### 3-month prediction\n"
      ],
      "metadata": {
        "id": "DKHbV29JFOfu"
      }
    },
    {
      "cell_type": "code",
      "source": [
        "mape_values = []\n",
        "for start, end in test_periods:\n",
        "    mape = calculate_mape_3(start, end, 0.4)\n",
        "    mape_values.append(mape)\n",
        "    print(f\"MAPE from {start} to {end}: {mape:.1f}\")"
      ],
      "metadata": {
        "colab": {
          "base_uri": "https://localhost:8080/"
        },
        "outputId": "be554e30-8cee-4609-c138-fb58f0983e9c",
        "id": "yQokObfaFOfu"
      },
      "execution_count": null,
      "outputs": [
        {
          "output_type": "stream",
          "name": "stdout",
          "text": [
            "MAPE from 2019-01-01 to 2019-07-01: 6.7\n",
            "MAPE from 2019-07-01 to 2020-01-01: 7.2\n",
            "MAPE from 2020-01-01 to 2020-07-01: 7.8\n",
            "MAPE from 2020-07-01 to 2021-01-01: 4.6\n",
            "MAPE from 2021-01-01 to 2021-07-01: 7.7\n",
            "MAPE from 2021-07-01 to 2022-01-01: 10.8\n",
            "MAPE from 2022-01-01 to 2022-07-01: 33.4\n",
            "MAPE from 2022-07-01 to 2023-01-01: 24.2\n",
            "MAPE from 2023-01-01 to 2023-07-01: 35.5\n",
            "MAPE from 2023-07-01 to 2024-01-01: 6.1\n"
          ]
        }
      ]
    },
    {
      "cell_type": "code",
      "source": [
        "average_mape = np.mean(mape_values)\n",
        "print(f\"Average MAPE: {average_mape:.1f}\")"
      ],
      "metadata": {
        "colab": {
          "base_uri": "https://localhost:8080/"
        },
        "outputId": "1ec34d26-916f-422c-917b-2467614d1fb0",
        "id": "1VF6EuUvFOfu"
      },
      "execution_count": null,
      "outputs": [
        {
          "output_type": "stream",
          "name": "stdout",
          "text": [
            "Average MAPE: 14.4\n"
          ]
        }
      ]
    },
    {
      "cell_type": "markdown",
      "source": [
        "### 6-month prediction"
      ],
      "metadata": {
        "id": "Rj-GYr7mFOfv"
      }
    },
    {
      "cell_type": "code",
      "source": [
        "mape_values = []\n",
        "for start, end in test_periods:\n",
        "    mape = calculate_mape_6(start, end, 0.5)\n",
        "    mape_values.append(mape)\n",
        "    print(f\"MAPE from {start} to {end}: {mape:.1f}\")"
      ],
      "metadata": {
        "colab": {
          "base_uri": "https://localhost:8080/"
        },
        "outputId": "662a9c3a-a845-4aaa-d4da-9a432a189caf",
        "id": "iFueIUo6FOfv"
      },
      "execution_count": null,
      "outputs": [
        {
          "output_type": "stream",
          "name": "stdout",
          "text": [
            "MAPE from 2019-01-01 to 2019-07-01: 6.7\n",
            "MAPE from 2019-07-01 to 2020-01-01: 7.2\n",
            "MAPE from 2020-01-01 to 2020-07-01: 10.0\n",
            "MAPE from 2020-07-01 to 2021-01-01: 6.3\n",
            "MAPE from 2021-01-01 to 2021-07-01: 9.8\n",
            "MAPE from 2021-07-01 to 2022-01-01: 11.7\n",
            "MAPE from 2022-01-01 to 2022-07-01: 34.5\n",
            "MAPE from 2022-07-01 to 2023-01-01: 43.3\n",
            "MAPE from 2023-01-01 to 2023-07-01: 21.6\n",
            "MAPE from 2023-07-01 to 2024-01-01: 3.5\n"
          ]
        }
      ]
    },
    {
      "cell_type": "code",
      "source": [
        "average_mape = np.mean(mape_values)\n",
        "print(f\"Average MAPE: {average_mape:.1f}\")"
      ],
      "metadata": {
        "colab": {
          "base_uri": "https://localhost:8080/"
        },
        "outputId": "a8ca73a3-1078-4123-b561-2053372cbe1c",
        "id": "n85FHcAHFOfv"
      },
      "execution_count": null,
      "outputs": [
        {
          "output_type": "stream",
          "name": "stdout",
          "text": [
            "Average MAPE: 15.5\n"
          ]
        }
      ]
    },
    {
      "cell_type": "markdown",
      "source": [
        "## 0006"
      ],
      "metadata": {
        "id": "a2mUNK27FOfv"
      }
    },
    {
      "cell_type": "code",
      "source": [
        "feature_df = df_0006"
      ],
      "metadata": {
        "id": "51CwOfjWFOfv"
      },
      "execution_count": null,
      "outputs": []
    },
    {
      "cell_type": "markdown",
      "source": [
        "### 1-month prediction"
      ],
      "metadata": {
        "id": "qy5itQQsFOfv"
      }
    },
    {
      "cell_type": "code",
      "source": [
        "mape_values = []\n",
        "for start, end in test_periods:\n",
        "    mape = calculate_mape_1(start, end, 0.1)\n",
        "    mape_values.append(mape)\n",
        "    print(f\"MAPE from {start} to {end}: {mape:.1f}\")"
      ],
      "metadata": {
        "colab": {
          "base_uri": "https://localhost:8080/"
        },
        "outputId": "379df0bb-7a82-4024-e4b2-2261f32a5230",
        "id": "xKQOirU2FOfv"
      },
      "execution_count": null,
      "outputs": [
        {
          "output_type": "stream",
          "name": "stdout",
          "text": [
            "MAPE from 2019-01-01 to 2019-07-01: 6.9\n",
            "MAPE from 2019-07-01 to 2020-01-01: 8.3\n",
            "MAPE from 2020-01-01 to 2020-07-01: 18.3\n",
            "MAPE from 2020-07-01 to 2021-01-01: 10.0\n",
            "MAPE from 2021-01-01 to 2021-07-01: 9.0\n",
            "MAPE from 2021-07-01 to 2022-01-01: 6.3\n",
            "MAPE from 2022-01-01 to 2022-07-01: 14.6\n",
            "MAPE from 2022-07-01 to 2023-01-01: 11.8\n",
            "MAPE from 2023-01-01 to 2023-07-01: 12.0\n",
            "MAPE from 2023-07-01 to 2024-01-01: 5.6\n"
          ]
        }
      ]
    },
    {
      "cell_type": "code",
      "source": [
        "average_mape = np.mean(mape_values)\n",
        "print(f\"Average MAPE: {average_mape:.1f}\")"
      ],
      "metadata": {
        "colab": {
          "base_uri": "https://localhost:8080/"
        },
        "outputId": "2e981fa0-eac2-4b41-9d05-68c42a69f195",
        "id": "SP0hKNRFFOfw"
      },
      "execution_count": null,
      "outputs": [
        {
          "output_type": "stream",
          "name": "stdout",
          "text": [
            "Average MAPE: 10.3\n"
          ]
        }
      ]
    },
    {
      "cell_type": "markdown",
      "source": [
        "### 3-month prediction\n"
      ],
      "metadata": {
        "id": "yl4ylTheFOfw"
      }
    },
    {
      "cell_type": "code",
      "source": [
        "mape_values = []\n",
        "for start, end in test_periods:\n",
        "    mape = calculate_mape_3(start, end, 0.2)\n",
        "    mape_values.append(mape)\n",
        "    print(f\"MAPE from {start} to {end}: {mape:.1f}\")"
      ],
      "metadata": {
        "colab": {
          "base_uri": "https://localhost:8080/"
        },
        "outputId": "8df7b4c8-59c9-4a27-d232-b3a226d7f5b2",
        "id": "uPQHoultFOfw"
      },
      "execution_count": null,
      "outputs": [
        {
          "output_type": "stream",
          "name": "stdout",
          "text": [
            "MAPE from 2019-01-01 to 2019-07-01: 11.7\n",
            "MAPE from 2019-07-01 to 2020-01-01: 6.9\n",
            "MAPE from 2020-01-01 to 2020-07-01: 20.3\n",
            "MAPE from 2020-07-01 to 2021-01-01: 11.8\n",
            "MAPE from 2021-01-01 to 2021-07-01: 5.3\n",
            "MAPE from 2021-07-01 to 2022-01-01: 7.5\n",
            "MAPE from 2022-01-01 to 2022-07-01: 20.2\n",
            "MAPE from 2022-07-01 to 2023-01-01: 15.7\n",
            "MAPE from 2023-01-01 to 2023-07-01: 20.7\n",
            "MAPE from 2023-07-01 to 2024-01-01: 9.6\n"
          ]
        }
      ]
    },
    {
      "cell_type": "code",
      "source": [
        "average_mape = np.mean(mape_values)\n",
        "print(f\"Average MAPE: {average_mape:.1f}\")"
      ],
      "metadata": {
        "colab": {
          "base_uri": "https://localhost:8080/"
        },
        "outputId": "c631773b-fbe8-407a-93d6-871b16fcc51b",
        "id": "LB6corsUFOfw"
      },
      "execution_count": null,
      "outputs": [
        {
          "output_type": "stream",
          "name": "stdout",
          "text": [
            "Average MAPE: 13.0\n"
          ]
        }
      ]
    },
    {
      "cell_type": "markdown",
      "source": [
        "### 6-month prediction"
      ],
      "metadata": {
        "id": "nVCPlsHmFOfw"
      }
    },
    {
      "cell_type": "code",
      "source": [
        "mape_values = []\n",
        "for start, end in test_periods:\n",
        "    mape = calculate_mape_6(start, end, 0.2)\n",
        "    mape_values.append(mape)\n",
        "    print(f\"MAPE from {start} to {end}: {mape:.1f}\")"
      ],
      "metadata": {
        "colab": {
          "base_uri": "https://localhost:8080/"
        },
        "outputId": "166de3a6-bf38-40ea-bd5f-c403043cd2ce",
        "id": "2_15SjngFOfw"
      },
      "execution_count": null,
      "outputs": [
        {
          "output_type": "stream",
          "name": "stdout",
          "text": [
            "MAPE from 2019-01-01 to 2019-07-01: 9.8\n",
            "MAPE from 2019-07-01 to 2020-01-01: 7.3\n",
            "MAPE from 2020-01-01 to 2020-07-01: 22.6\n",
            "MAPE from 2020-07-01 to 2021-01-01: 13.4\n",
            "MAPE from 2021-01-01 to 2021-07-01: 10.5\n",
            "MAPE from 2021-07-01 to 2022-01-01: 6.1\n",
            "MAPE from 2022-01-01 to 2022-07-01: 22.5\n",
            "MAPE from 2022-07-01 to 2023-01-01: 25.0\n",
            "MAPE from 2023-01-01 to 2023-07-01: 35.7\n",
            "MAPE from 2023-07-01 to 2024-01-01: 5.8\n"
          ]
        }
      ]
    },
    {
      "cell_type": "code",
      "source": [
        "average_mape = np.mean(mape_values)\n",
        "print(f\"Average MAPE: {average_mape:.1f}\")"
      ],
      "metadata": {
        "colab": {
          "base_uri": "https://localhost:8080/"
        },
        "outputId": "528627ec-9ed8-467f-ca79-b9a0c9ba0e04",
        "id": "llbsD9BNFOfw"
      },
      "execution_count": null,
      "outputs": [
        {
          "output_type": "stream",
          "name": "stdout",
          "text": [
            "Average MAPE: 15.9\n"
          ]
        }
      ]
    },
    {
      "cell_type": "markdown",
      "source": [
        "# Acid"
      ],
      "metadata": {
        "id": "VZtEkUzIEGAC"
      }
    },
    {
      "cell_type": "code",
      "source": [
        "feature_df = pd.read_csv('/content/drive/MyDrive/Colab Notebooks/Thesis/dataframe/acid_feature.csv',index_col=0)\n",
        "feature_df['Time'] = pd.to_datetime(feature_df['Time'])\n",
        "print(feature_df)"
      ],
      "metadata": {
        "colab": {
          "base_uri": "https://localhost:8080/"
        },
        "outputId": "9d1104d4-3410-4285-d6fe-0c4fcb280938",
        "id": "rfvIcBX6EGAD"
      },
      "execution_count": null,
      "outputs": [
        {
          "output_type": "stream",
          "name": "stdout",
          "text": [
            "     RM01/0001  RM01/0004  RM01/0006  RM01/0007  Year  Month       Time  \\\n",
            "2        False       True      False      False  2016      1 2016-01-31   \n",
            "3         True      False      False      False  2016      1 2016-01-31   \n",
            "4        False       True      False      False  2016      2 2016-02-29   \n",
            "5         True      False      False      False  2016      2 2016-02-29   \n",
            "6        False       True      False      False  2016      3 2016-03-31   \n",
            "..         ...        ...        ...        ...   ...    ...        ...   \n",
            "400      False      False       True      False  2023      8 2023-08-31   \n",
            "401      False      False       True      False  2023      9 2023-09-28   \n",
            "402      False      False       True      False  2023     10 2023-10-30   \n",
            "403      False      False       True      False  2023     11 2023-11-30   \n",
            "404      False      False       True      False  2023     12 2023-12-22   \n",
            "\n",
            "    Group Description  Average_price  PNGASEUUSDM_1  ...      AR_3      AR_4  \\\n",
            "2                acid       0.404800       5.810000  ...  0.359400  0.475714   \n",
            "3                acid       0.528015       5.810000  ...  0.549394  0.558730   \n",
            "4                acid       0.404800       5.090000  ...  0.358000  0.359400   \n",
            "5                acid       0.532218       5.090000  ...  0.550917  0.549394   \n",
            "6                acid       0.356000       4.790000  ...  0.358000  0.358000   \n",
            "..                ...            ...            ...  ...       ...       ...   \n",
            "400              acid       1.258544       9.611719  ...  1.669344  1.874301   \n",
            "401              acid       1.432129      10.717421  ...  1.641858  1.669344   \n",
            "402              acid       1.327096      11.427930  ...  1.456344  1.641858   \n",
            "403              acid       1.080000      13.388843  ...  1.258544  1.456344   \n",
            "404              acid       1.447941      13.714316  ...  1.432129  1.258544   \n",
            "\n",
            "         AR_5      AR_6      AR_7      AR_8      AR_9     AR_10     AR_11  \\\n",
            "2    0.426000  0.462500  0.451000  0.486000  0.446333  0.477200  0.445000   \n",
            "3    0.559098  0.558889  0.546843  0.550665  0.546185  0.556000  0.558667   \n",
            "4    0.475714  0.426000  0.462500  0.451000  0.486000  0.446333  0.477200   \n",
            "5    0.558730  0.559098  0.558889  0.546843  0.550665  0.546185  0.556000   \n",
            "6    0.359400  0.475714  0.426000  0.462500  0.451000  0.486000  0.446333   \n",
            "..        ...       ...       ...       ...       ...       ...       ...   \n",
            "400  2.073844  2.767510  2.161415  2.386413  2.550000  2.682106  2.588566   \n",
            "401  1.874301  2.073844  2.767510  2.161415  2.386413  2.550000  2.682106   \n",
            "402  1.669344  1.874301  2.073844  2.767510  2.161415  2.386413  2.550000   \n",
            "403  1.641858  1.669344  1.874301  2.073844  2.767510  2.161415  2.386413   \n",
            "404  1.456344  1.641858  1.669344  1.874301  2.073844  2.767510  2.161415   \n",
            "\n",
            "        AR_12  \n",
            "2    0.475333  \n",
            "3    0.560278  \n",
            "4    0.445000  \n",
            "5    0.558667  \n",
            "6    0.477200  \n",
            "..        ...  \n",
            "400  2.544955  \n",
            "401  2.588566  \n",
            "402  2.682106  \n",
            "403  2.550000  \n",
            "404  2.386413  \n",
            "\n",
            "[362 rows x 69 columns]\n"
          ]
        }
      ]
    },
    {
      "cell_type": "code",
      "source": [
        "df_0001 = feature_df[feature_df['RM01/0001'] == 1]\n",
        "print(df_0001.info())"
      ],
      "metadata": {
        "colab": {
          "base_uri": "https://localhost:8080/"
        },
        "outputId": "a71a0fd6-7f38-4b02-f0be-20c68c19491a",
        "id": "u-FIZ7LPEGAD"
      },
      "execution_count": null,
      "outputs": [
        {
          "output_type": "stream",
          "name": "stdout",
          "text": [
            "<class 'pandas.core.frame.DataFrame'>\n",
            "Index: 96 entries, 3 to 193\n",
            "Data columns (total 69 columns):\n",
            " #   Column             Non-Null Count  Dtype         \n",
            "---  ------             --------------  -----         \n",
            " 0   RM01/0001          96 non-null     bool          \n",
            " 1   RM01/0004          96 non-null     bool          \n",
            " 2   RM01/0006          96 non-null     bool          \n",
            " 3   RM01/0007          96 non-null     bool          \n",
            " 4   Year               96 non-null     int64         \n",
            " 5   Month              96 non-null     int64         \n",
            " 6   Time               96 non-null     datetime64[ns]\n",
            " 7   Group Description  96 non-null     object        \n",
            " 8   Average_price      96 non-null     float64       \n",
            " 9   PNGASEUUSDM_1      96 non-null     float64       \n",
            " 10  PWHEAMTUSDM_1      96 non-null     float64       \n",
            " 11  WPU0652013A_1      96 non-null     float64       \n",
            " 12  Electricity_1      96 non-null     float64       \n",
            " 13  PNGASEUUSDM_2      96 non-null     float64       \n",
            " 14  PWHEAMTUSDM_2      96 non-null     float64       \n",
            " 15  WPU0652013A_2      96 non-null     float64       \n",
            " 16  Electricity_2      96 non-null     float64       \n",
            " 17  PNGASEUUSDM_3      96 non-null     float64       \n",
            " 18  PWHEAMTUSDM_3      96 non-null     float64       \n",
            " 19  WPU0652013A_3      96 non-null     float64       \n",
            " 20  Electricity_3      96 non-null     float64       \n",
            " 21  PNGASEUUSDM_4      96 non-null     float64       \n",
            " 22  PWHEAMTUSDM_4      96 non-null     float64       \n",
            " 23  WPU0652013A_4      96 non-null     float64       \n",
            " 24  Electricity_4      96 non-null     float64       \n",
            " 25  PNGASEUUSDM_5      96 non-null     float64       \n",
            " 26  PWHEAMTUSDM_5      96 non-null     float64       \n",
            " 27  WPU0652013A_5      96 non-null     float64       \n",
            " 28  Electricity_5      96 non-null     float64       \n",
            " 29  PNGASEUUSDM_6      96 non-null     float64       \n",
            " 30  PWHEAMTUSDM_6      96 non-null     float64       \n",
            " 31  WPU0652013A_6      96 non-null     float64       \n",
            " 32  Electricity_6      96 non-null     float64       \n",
            " 33  PNGASEUUSDM_7      96 non-null     float64       \n",
            " 34  PWHEAMTUSDM_7      96 non-null     float64       \n",
            " 35  WPU0652013A_7      96 non-null     float64       \n",
            " 36  Electricity_7      96 non-null     float64       \n",
            " 37  PNGASEUUSDM_8      96 non-null     float64       \n",
            " 38  PWHEAMTUSDM_8      96 non-null     float64       \n",
            " 39  WPU0652013A_8      96 non-null     float64       \n",
            " 40  Electricity_8      96 non-null     float64       \n",
            " 41  PNGASEUUSDM_9      96 non-null     float64       \n",
            " 42  PWHEAMTUSDM_9      96 non-null     float64       \n",
            " 43  WPU0652013A_9      96 non-null     float64       \n",
            " 44  Electricity_9      96 non-null     float64       \n",
            " 45  PNGASEUUSDM_10     96 non-null     float64       \n",
            " 46  PWHEAMTUSDM_10     96 non-null     float64       \n",
            " 47  WPU0652013A_10     96 non-null     float64       \n",
            " 48  Electricity_10     96 non-null     float64       \n",
            " 49  PNGASEUUSDM_11     96 non-null     float64       \n",
            " 50  PWHEAMTUSDM_11     96 non-null     float64       \n",
            " 51  WPU0652013A_11     96 non-null     float64       \n",
            " 52  Electricity_11     96 non-null     float64       \n",
            " 53  PNGASEUUSDM_12     96 non-null     float64       \n",
            " 54  PWHEAMTUSDM_12     96 non-null     float64       \n",
            " 55  WPU0652013A_12     96 non-null     float64       \n",
            " 56  Electricity_12     96 non-null     float64       \n",
            " 57  AR_1               96 non-null     float64       \n",
            " 58  AR_2               96 non-null     float64       \n",
            " 59  AR_3               96 non-null     float64       \n",
            " 60  AR_4               96 non-null     float64       \n",
            " 61  AR_5               96 non-null     float64       \n",
            " 62  AR_6               96 non-null     float64       \n",
            " 63  AR_7               96 non-null     float64       \n",
            " 64  AR_8               96 non-null     float64       \n",
            " 65  AR_9               96 non-null     float64       \n",
            " 66  AR_10              96 non-null     float64       \n",
            " 67  AR_11              96 non-null     float64       \n",
            " 68  AR_12              96 non-null     float64       \n",
            "dtypes: bool(4), datetime64[ns](1), float64(61), int64(2), object(1)\n",
            "memory usage: 49.9+ KB\n",
            "None\n"
          ]
        }
      ]
    },
    {
      "cell_type": "code",
      "source": [
        "df_0004 = feature_df[feature_df['RM01/0004'] == 1]\n",
        "print(df_0004.info())"
      ],
      "metadata": {
        "colab": {
          "base_uri": "https://localhost:8080/"
        },
        "outputId": "d859c4f2-4832-4b99-f211-2db642a81658",
        "id": "SVxwwLmNEGAD"
      },
      "execution_count": null,
      "outputs": [
        {
          "output_type": "stream",
          "name": "stdout",
          "text": [
            "<class 'pandas.core.frame.DataFrame'>\n",
            "Index: 96 entries, 2 to 192\n",
            "Data columns (total 69 columns):\n",
            " #   Column             Non-Null Count  Dtype         \n",
            "---  ------             --------------  -----         \n",
            " 0   RM01/0001          96 non-null     bool          \n",
            " 1   RM01/0004          96 non-null     bool          \n",
            " 2   RM01/0006          96 non-null     bool          \n",
            " 3   RM01/0007          96 non-null     bool          \n",
            " 4   Year               96 non-null     int64         \n",
            " 5   Month              96 non-null     int64         \n",
            " 6   Time               96 non-null     datetime64[ns]\n",
            " 7   Group Description  96 non-null     object        \n",
            " 8   Average_price      96 non-null     float64       \n",
            " 9   PNGASEUUSDM_1      96 non-null     float64       \n",
            " 10  PWHEAMTUSDM_1      96 non-null     float64       \n",
            " 11  WPU0652013A_1      96 non-null     float64       \n",
            " 12  Electricity_1      96 non-null     float64       \n",
            " 13  PNGASEUUSDM_2      96 non-null     float64       \n",
            " 14  PWHEAMTUSDM_2      96 non-null     float64       \n",
            " 15  WPU0652013A_2      96 non-null     float64       \n",
            " 16  Electricity_2      96 non-null     float64       \n",
            " 17  PNGASEUUSDM_3      96 non-null     float64       \n",
            " 18  PWHEAMTUSDM_3      96 non-null     float64       \n",
            " 19  WPU0652013A_3      96 non-null     float64       \n",
            " 20  Electricity_3      96 non-null     float64       \n",
            " 21  PNGASEUUSDM_4      96 non-null     float64       \n",
            " 22  PWHEAMTUSDM_4      96 non-null     float64       \n",
            " 23  WPU0652013A_4      96 non-null     float64       \n",
            " 24  Electricity_4      96 non-null     float64       \n",
            " 25  PNGASEUUSDM_5      96 non-null     float64       \n",
            " 26  PWHEAMTUSDM_5      96 non-null     float64       \n",
            " 27  WPU0652013A_5      96 non-null     float64       \n",
            " 28  Electricity_5      96 non-null     float64       \n",
            " 29  PNGASEUUSDM_6      96 non-null     float64       \n",
            " 30  PWHEAMTUSDM_6      96 non-null     float64       \n",
            " 31  WPU0652013A_6      96 non-null     float64       \n",
            " 32  Electricity_6      96 non-null     float64       \n",
            " 33  PNGASEUUSDM_7      96 non-null     float64       \n",
            " 34  PWHEAMTUSDM_7      96 non-null     float64       \n",
            " 35  WPU0652013A_7      96 non-null     float64       \n",
            " 36  Electricity_7      96 non-null     float64       \n",
            " 37  PNGASEUUSDM_8      96 non-null     float64       \n",
            " 38  PWHEAMTUSDM_8      96 non-null     float64       \n",
            " 39  WPU0652013A_8      96 non-null     float64       \n",
            " 40  Electricity_8      96 non-null     float64       \n",
            " 41  PNGASEUUSDM_9      96 non-null     float64       \n",
            " 42  PWHEAMTUSDM_9      96 non-null     float64       \n",
            " 43  WPU0652013A_9      96 non-null     float64       \n",
            " 44  Electricity_9      96 non-null     float64       \n",
            " 45  PNGASEUUSDM_10     96 non-null     float64       \n",
            " 46  PWHEAMTUSDM_10     96 non-null     float64       \n",
            " 47  WPU0652013A_10     96 non-null     float64       \n",
            " 48  Electricity_10     96 non-null     float64       \n",
            " 49  PNGASEUUSDM_11     96 non-null     float64       \n",
            " 50  PWHEAMTUSDM_11     96 non-null     float64       \n",
            " 51  WPU0652013A_11     96 non-null     float64       \n",
            " 52  Electricity_11     96 non-null     float64       \n",
            " 53  PNGASEUUSDM_12     96 non-null     float64       \n",
            " 54  PWHEAMTUSDM_12     96 non-null     float64       \n",
            " 55  WPU0652013A_12     96 non-null     float64       \n",
            " 56  Electricity_12     96 non-null     float64       \n",
            " 57  AR_1               96 non-null     float64       \n",
            " 58  AR_2               96 non-null     float64       \n",
            " 59  AR_3               96 non-null     float64       \n",
            " 60  AR_4               96 non-null     float64       \n",
            " 61  AR_5               96 non-null     float64       \n",
            " 62  AR_6               96 non-null     float64       \n",
            " 63  AR_7               96 non-null     float64       \n",
            " 64  AR_8               96 non-null     float64       \n",
            " 65  AR_9               96 non-null     float64       \n",
            " 66  AR_10              96 non-null     float64       \n",
            " 67  AR_11              96 non-null     float64       \n",
            " 68  AR_12              96 non-null     float64       \n",
            "dtypes: bool(4), datetime64[ns](1), float64(61), int64(2), object(1)\n",
            "memory usage: 49.9+ KB\n",
            "None\n"
          ]
        }
      ]
    },
    {
      "cell_type": "code",
      "source": [
        "df_0006 = feature_df[feature_df['RM01/0006'] == 1]\n",
        "print(df_0006.info())"
      ],
      "metadata": {
        "colab": {
          "base_uri": "https://localhost:8080/"
        },
        "id": "u7D0LDRlGcj9",
        "outputId": "4974ad83-4385-4176-99c5-1daba281f74a"
      },
      "execution_count": null,
      "outputs": [
        {
          "output_type": "stream",
          "name": "stdout",
          "text": [
            "<class 'pandas.core.frame.DataFrame'>\n",
            "Index: 95 entries, 309 to 404\n",
            "Data columns (total 69 columns):\n",
            " #   Column             Non-Null Count  Dtype         \n",
            "---  ------             --------------  -----         \n",
            " 0   RM01/0001          95 non-null     bool          \n",
            " 1   RM01/0004          95 non-null     bool          \n",
            " 2   RM01/0006          95 non-null     bool          \n",
            " 3   RM01/0007          95 non-null     bool          \n",
            " 4   Year               95 non-null     int64         \n",
            " 5   Month              95 non-null     int64         \n",
            " 6   Time               95 non-null     datetime64[ns]\n",
            " 7   Group Description  95 non-null     object        \n",
            " 8   Average_price      95 non-null     float64       \n",
            " 9   PNGASEUUSDM_1      95 non-null     float64       \n",
            " 10  PWHEAMTUSDM_1      95 non-null     float64       \n",
            " 11  WPU0652013A_1      95 non-null     float64       \n",
            " 12  Electricity_1      95 non-null     float64       \n",
            " 13  PNGASEUUSDM_2      95 non-null     float64       \n",
            " 14  PWHEAMTUSDM_2      95 non-null     float64       \n",
            " 15  WPU0652013A_2      95 non-null     float64       \n",
            " 16  Electricity_2      95 non-null     float64       \n",
            " 17  PNGASEUUSDM_3      95 non-null     float64       \n",
            " 18  PWHEAMTUSDM_3      95 non-null     float64       \n",
            " 19  WPU0652013A_3      95 non-null     float64       \n",
            " 20  Electricity_3      95 non-null     float64       \n",
            " 21  PNGASEUUSDM_4      95 non-null     float64       \n",
            " 22  PWHEAMTUSDM_4      95 non-null     float64       \n",
            " 23  WPU0652013A_4      95 non-null     float64       \n",
            " 24  Electricity_4      95 non-null     float64       \n",
            " 25  PNGASEUUSDM_5      95 non-null     float64       \n",
            " 26  PWHEAMTUSDM_5      95 non-null     float64       \n",
            " 27  WPU0652013A_5      95 non-null     float64       \n",
            " 28  Electricity_5      95 non-null     float64       \n",
            " 29  PNGASEUUSDM_6      95 non-null     float64       \n",
            " 30  PWHEAMTUSDM_6      95 non-null     float64       \n",
            " 31  WPU0652013A_6      95 non-null     float64       \n",
            " 32  Electricity_6      95 non-null     float64       \n",
            " 33  PNGASEUUSDM_7      95 non-null     float64       \n",
            " 34  PWHEAMTUSDM_7      95 non-null     float64       \n",
            " 35  WPU0652013A_7      95 non-null     float64       \n",
            " 36  Electricity_7      95 non-null     float64       \n",
            " 37  PNGASEUUSDM_8      95 non-null     float64       \n",
            " 38  PWHEAMTUSDM_8      95 non-null     float64       \n",
            " 39  WPU0652013A_8      95 non-null     float64       \n",
            " 40  Electricity_8      95 non-null     float64       \n",
            " 41  PNGASEUUSDM_9      95 non-null     float64       \n",
            " 42  PWHEAMTUSDM_9      95 non-null     float64       \n",
            " 43  WPU0652013A_9      95 non-null     float64       \n",
            " 44  Electricity_9      95 non-null     float64       \n",
            " 45  PNGASEUUSDM_10     95 non-null     float64       \n",
            " 46  PWHEAMTUSDM_10     95 non-null     float64       \n",
            " 47  WPU0652013A_10     95 non-null     float64       \n",
            " 48  Electricity_10     95 non-null     float64       \n",
            " 49  PNGASEUUSDM_11     95 non-null     float64       \n",
            " 50  PWHEAMTUSDM_11     95 non-null     float64       \n",
            " 51  WPU0652013A_11     95 non-null     float64       \n",
            " 52  Electricity_11     95 non-null     float64       \n",
            " 53  PNGASEUUSDM_12     95 non-null     float64       \n",
            " 54  PWHEAMTUSDM_12     95 non-null     float64       \n",
            " 55  WPU0652013A_12     95 non-null     float64       \n",
            " 56  Electricity_12     95 non-null     float64       \n",
            " 57  AR_1               95 non-null     float64       \n",
            " 58  AR_2               95 non-null     float64       \n",
            " 59  AR_3               95 non-null     float64       \n",
            " 60  AR_4               95 non-null     float64       \n",
            " 61  AR_5               95 non-null     float64       \n",
            " 62  AR_6               95 non-null     float64       \n",
            " 63  AR_7               95 non-null     float64       \n",
            " 64  AR_8               95 non-null     float64       \n",
            " 65  AR_9               95 non-null     float64       \n",
            " 66  AR_10              95 non-null     float64       \n",
            " 67  AR_11              95 non-null     float64       \n",
            " 68  AR_12              95 non-null     float64       \n",
            "dtypes: bool(4), datetime64[ns](1), float64(61), int64(2), object(1)\n",
            "memory usage: 49.4+ KB\n",
            "None\n"
          ]
        }
      ]
    },
    {
      "cell_type": "code",
      "source": [
        "df_0007 = feature_df[feature_df['RM01/0007'] == 1]\n",
        "print(df_0007.info())"
      ],
      "metadata": {
        "colab": {
          "base_uri": "https://localhost:8080/"
        },
        "id": "dQw-RcA3Ge1R",
        "outputId": "f28a70d9-b76d-4cdd-fb77-0491379faf6b"
      },
      "execution_count": null,
      "outputs": [
        {
          "output_type": "stream",
          "name": "stdout",
          "text": [
            "<class 'pandas.core.frame.DataFrame'>\n",
            "Index: 75 entries, 213 to 307\n",
            "Data columns (total 69 columns):\n",
            " #   Column             Non-Null Count  Dtype         \n",
            "---  ------             --------------  -----         \n",
            " 0   RM01/0001          75 non-null     bool          \n",
            " 1   RM01/0004          75 non-null     bool          \n",
            " 2   RM01/0006          75 non-null     bool          \n",
            " 3   RM01/0007          75 non-null     bool          \n",
            " 4   Year               75 non-null     int64         \n",
            " 5   Month              75 non-null     int64         \n",
            " 6   Time               75 non-null     datetime64[ns]\n",
            " 7   Group Description  75 non-null     object        \n",
            " 8   Average_price      75 non-null     float64       \n",
            " 9   PNGASEUUSDM_1      75 non-null     float64       \n",
            " 10  PWHEAMTUSDM_1      75 non-null     float64       \n",
            " 11  WPU0652013A_1      75 non-null     float64       \n",
            " 12  Electricity_1      75 non-null     float64       \n",
            " 13  PNGASEUUSDM_2      75 non-null     float64       \n",
            " 14  PWHEAMTUSDM_2      75 non-null     float64       \n",
            " 15  WPU0652013A_2      75 non-null     float64       \n",
            " 16  Electricity_2      75 non-null     float64       \n",
            " 17  PNGASEUUSDM_3      75 non-null     float64       \n",
            " 18  PWHEAMTUSDM_3      75 non-null     float64       \n",
            " 19  WPU0652013A_3      75 non-null     float64       \n",
            " 20  Electricity_3      75 non-null     float64       \n",
            " 21  PNGASEUUSDM_4      75 non-null     float64       \n",
            " 22  PWHEAMTUSDM_4      75 non-null     float64       \n",
            " 23  WPU0652013A_4      75 non-null     float64       \n",
            " 24  Electricity_4      75 non-null     float64       \n",
            " 25  PNGASEUUSDM_5      75 non-null     float64       \n",
            " 26  PWHEAMTUSDM_5      75 non-null     float64       \n",
            " 27  WPU0652013A_5      75 non-null     float64       \n",
            " 28  Electricity_5      75 non-null     float64       \n",
            " 29  PNGASEUUSDM_6      75 non-null     float64       \n",
            " 30  PWHEAMTUSDM_6      75 non-null     float64       \n",
            " 31  WPU0652013A_6      75 non-null     float64       \n",
            " 32  Electricity_6      75 non-null     float64       \n",
            " 33  PNGASEUUSDM_7      75 non-null     float64       \n",
            " 34  PWHEAMTUSDM_7      75 non-null     float64       \n",
            " 35  WPU0652013A_7      75 non-null     float64       \n",
            " 36  Electricity_7      75 non-null     float64       \n",
            " 37  PNGASEUUSDM_8      75 non-null     float64       \n",
            " 38  PWHEAMTUSDM_8      75 non-null     float64       \n",
            " 39  WPU0652013A_8      75 non-null     float64       \n",
            " 40  Electricity_8      75 non-null     float64       \n",
            " 41  PNGASEUUSDM_9      75 non-null     float64       \n",
            " 42  PWHEAMTUSDM_9      75 non-null     float64       \n",
            " 43  WPU0652013A_9      75 non-null     float64       \n",
            " 44  Electricity_9      75 non-null     float64       \n",
            " 45  PNGASEUUSDM_10     75 non-null     float64       \n",
            " 46  PWHEAMTUSDM_10     75 non-null     float64       \n",
            " 47  WPU0652013A_10     75 non-null     float64       \n",
            " 48  Electricity_10     75 non-null     float64       \n",
            " 49  PNGASEUUSDM_11     75 non-null     float64       \n",
            " 50  PWHEAMTUSDM_11     75 non-null     float64       \n",
            " 51  WPU0652013A_11     75 non-null     float64       \n",
            " 52  Electricity_11     75 non-null     float64       \n",
            " 53  PNGASEUUSDM_12     75 non-null     float64       \n",
            " 54  PWHEAMTUSDM_12     75 non-null     float64       \n",
            " 55  WPU0652013A_12     75 non-null     float64       \n",
            " 56  Electricity_12     75 non-null     float64       \n",
            " 57  AR_1               75 non-null     float64       \n",
            " 58  AR_2               75 non-null     float64       \n",
            " 59  AR_3               75 non-null     float64       \n",
            " 60  AR_4               75 non-null     float64       \n",
            " 61  AR_5               75 non-null     float64       \n",
            " 62  AR_6               75 non-null     float64       \n",
            " 63  AR_7               75 non-null     float64       \n",
            " 64  AR_8               75 non-null     float64       \n",
            " 65  AR_9               75 non-null     float64       \n",
            " 66  AR_10              75 non-null     float64       \n",
            " 67  AR_11              75 non-null     float64       \n",
            " 68  AR_12              75 non-null     float64       \n",
            "dtypes: bool(4), datetime64[ns](1), float64(61), int64(2), object(1)\n",
            "memory usage: 39.0+ KB\n",
            "None\n"
          ]
        }
      ]
    },
    {
      "cell_type": "markdown",
      "source": [
        "## 0001"
      ],
      "metadata": {
        "id": "14QRO2VXEGAE"
      }
    },
    {
      "cell_type": "code",
      "source": [
        "feature_df = df_0001"
      ],
      "metadata": {
        "id": "T4eQMklxEGAE"
      },
      "execution_count": null,
      "outputs": []
    },
    {
      "cell_type": "markdown",
      "source": [
        "### 1-month prediction"
      ],
      "metadata": {
        "id": "WthrrtBLEGAE"
      }
    },
    {
      "cell_type": "code",
      "source": [
        "mape_values = []\n",
        "for start, end in test_periods:\n",
        "    mape = calculate_mape_1(start, end, 0.05)\n",
        "    mape_values.append(mape)\n",
        "    print(f\"MAPE from {start} to {end}: {mape:.1f}\")"
      ],
      "metadata": {
        "colab": {
          "base_uri": "https://localhost:8080/"
        },
        "outputId": "702f16aa-d97d-43df-d059-658c22221475",
        "id": "kHRtxyIdEGAE"
      },
      "execution_count": null,
      "outputs": [
        {
          "output_type": "stream",
          "name": "stdout",
          "text": [
            "MAPE from 2019-01-01 to 2019-07-01: 5.6\n",
            "MAPE from 2019-07-01 to 2020-01-01: 2.8\n",
            "MAPE from 2020-01-01 to 2020-07-01: 1.9\n",
            "MAPE from 2020-07-01 to 2021-01-01: 2.0\n",
            "MAPE from 2021-01-01 to 2021-07-01: 11.8\n",
            "MAPE from 2021-07-01 to 2022-01-01: 5.0\n",
            "MAPE from 2022-01-01 to 2022-07-01: 8.3\n",
            "MAPE from 2022-07-01 to 2023-01-01: 3.0\n",
            "MAPE from 2023-01-01 to 2023-07-01: 5.2\n",
            "MAPE from 2023-07-01 to 2024-01-01: 6.1\n"
          ]
        }
      ]
    },
    {
      "cell_type": "code",
      "source": [
        "average_mape = np.mean(mape_values)\n",
        "print(f\"Average MAPE: {average_mape:.1f}\")"
      ],
      "metadata": {
        "colab": {
          "base_uri": "https://localhost:8080/"
        },
        "outputId": "8803b8bb-c523-4960-912d-4c5fc22b6191",
        "id": "d5wrIvLQEGAE"
      },
      "execution_count": null,
      "outputs": [
        {
          "output_type": "stream",
          "name": "stdout",
          "text": [
            "Average MAPE: 5.2\n"
          ]
        }
      ]
    },
    {
      "cell_type": "markdown",
      "source": [
        "### 3-month prediction\n"
      ],
      "metadata": {
        "id": "59eUvQ5_EGAE"
      }
    },
    {
      "cell_type": "code",
      "source": [
        "mape_values = []\n",
        "for start, end in test_periods:\n",
        "    mape = calculate_mape_3(start, end, 0.2)\n",
        "    mape_values.append(mape)\n",
        "    print(f\"MAPE from {start} to {end}: {mape:.1f}\")"
      ],
      "metadata": {
        "colab": {
          "base_uri": "https://localhost:8080/"
        },
        "outputId": "684c7383-e649-4652-b7fd-38decdc660b9",
        "id": "2UfiZGCXEGAE"
      },
      "execution_count": null,
      "outputs": [
        {
          "output_type": "stream",
          "name": "stdout",
          "text": [
            "MAPE from 2019-01-01 to 2019-07-01: 8.3\n",
            "MAPE from 2019-07-01 to 2020-01-01: 2.0\n",
            "MAPE from 2020-01-01 to 2020-07-01: 5.4\n",
            "MAPE from 2020-07-01 to 2021-01-01: 6.8\n",
            "MAPE from 2021-01-01 to 2021-07-01: 30.4\n",
            "MAPE from 2021-07-01 to 2022-01-01: 19.7\n",
            "MAPE from 2022-01-01 to 2022-07-01: 17.7\n",
            "MAPE from 2022-07-01 to 2023-01-01: 7.5\n",
            "MAPE from 2023-01-01 to 2023-07-01: 8.9\n",
            "MAPE from 2023-07-01 to 2024-01-01: 16.4\n"
          ]
        }
      ]
    },
    {
      "cell_type": "code",
      "source": [
        "average_mape = np.mean(mape_values)\n",
        "print(f\"Average MAPE: {average_mape:.1f}\")"
      ],
      "metadata": {
        "colab": {
          "base_uri": "https://localhost:8080/"
        },
        "outputId": "95f3e828-bc46-4674-e708-6d68acc9ee19",
        "id": "vUPd9unTEGAE"
      },
      "execution_count": null,
      "outputs": [
        {
          "output_type": "stream",
          "name": "stdout",
          "text": [
            "Average MAPE: 12.3\n"
          ]
        }
      ]
    },
    {
      "cell_type": "markdown",
      "source": [
        "### 6-month prediction"
      ],
      "metadata": {
        "id": "npsKGzMEEGAF"
      }
    },
    {
      "cell_type": "code",
      "source": [
        "mape_values = []\n",
        "for start, end in test_periods:\n",
        "    mape = calculate_mape_6(start, end, 0.4)\n",
        "    mape_values.append(mape)\n",
        "    print(f\"MAPE from {start} to {end}: {mape:.1f}\")"
      ],
      "metadata": {
        "colab": {
          "base_uri": "https://localhost:8080/"
        },
        "outputId": "23c05710-ee1c-4251-f30b-ccd79cf5e192",
        "id": "GYMqMCR1EGAF"
      },
      "execution_count": null,
      "outputs": [
        {
          "output_type": "stream",
          "name": "stdout",
          "text": [
            "MAPE from 2019-01-01 to 2019-07-01: 2.9\n",
            "MAPE from 2019-07-01 to 2020-01-01: 4.6\n",
            "MAPE from 2020-01-01 to 2020-07-01: 10.7\n",
            "MAPE from 2020-07-01 to 2021-01-01: 16.2\n",
            "MAPE from 2021-01-01 to 2021-07-01: 28.5\n",
            "MAPE from 2021-07-01 to 2022-01-01: 51.2\n",
            "MAPE from 2022-01-01 to 2022-07-01: 44.2\n",
            "MAPE from 2022-07-01 to 2023-01-01: 25.4\n",
            "MAPE from 2023-01-01 to 2023-07-01: 7.6\n",
            "MAPE from 2023-07-01 to 2024-01-01: 21.9\n"
          ]
        }
      ]
    },
    {
      "cell_type": "code",
      "source": [
        "average_mape = np.mean(mape_values)\n",
        "print(f\"Average MAPE: {average_mape:.1f}\")"
      ],
      "metadata": {
        "colab": {
          "base_uri": "https://localhost:8080/"
        },
        "outputId": "37ba48f1-af76-4af9-a98c-4907566b72b0",
        "id": "RsqpeussEGAF"
      },
      "execution_count": null,
      "outputs": [
        {
          "output_type": "stream",
          "name": "stdout",
          "text": [
            "Average MAPE: 21.3\n"
          ]
        }
      ]
    },
    {
      "cell_type": "markdown",
      "source": [
        "## 0004"
      ],
      "metadata": {
        "id": "h4ao2Z2SGlaq"
      }
    },
    {
      "cell_type": "code",
      "source": [
        "feature_df = df_0004"
      ],
      "metadata": {
        "id": "nnyKBORGGlar"
      },
      "execution_count": null,
      "outputs": []
    },
    {
      "cell_type": "markdown",
      "source": [
        "### 1-month prediction"
      ],
      "metadata": {
        "id": "D_R_54meGlar"
      }
    },
    {
      "cell_type": "code",
      "source": [
        "mape_values = []\n",
        "for start, end in test_periods:\n",
        "    mape = calculate_mape_1(start, end, 0.01)\n",
        "    mape_values.append(mape)\n",
        "    print(f\"MAPE from {start} to {end}: {mape:.1f}\")"
      ],
      "metadata": {
        "colab": {
          "base_uri": "https://localhost:8080/"
        },
        "outputId": "86af6baf-bdcf-4bb9-b4da-87f9844c9d04",
        "id": "QiZEINWxGlar"
      },
      "execution_count": null,
      "outputs": [
        {
          "output_type": "stream",
          "name": "stdout",
          "text": [
            "MAPE from 2019-01-01 to 2019-07-01: 3.8\n",
            "MAPE from 2019-07-01 to 2020-01-01: 11.5\n",
            "MAPE from 2020-01-01 to 2020-07-01: 9.3\n",
            "MAPE from 2020-07-01 to 2021-01-01: 19.2\n",
            "MAPE from 2021-01-01 to 2021-07-01: 14.5\n",
            "MAPE from 2021-07-01 to 2022-01-01: 7.4\n",
            "MAPE from 2022-01-01 to 2022-07-01: 9.5\n",
            "MAPE from 2022-07-01 to 2023-01-01: 3.8\n",
            "MAPE from 2023-01-01 to 2023-07-01: 12.5\n",
            "MAPE from 2023-07-01 to 2024-01-01: 4.3\n"
          ]
        }
      ]
    },
    {
      "cell_type": "code",
      "source": [
        "average_mape = np.mean(mape_values)\n",
        "print(f\"Average MAPE: {average_mape:.1f}\")"
      ],
      "metadata": {
        "colab": {
          "base_uri": "https://localhost:8080/"
        },
        "outputId": "7d104bda-6a03-4658-87f2-f4a016e98b42",
        "id": "CmeUMXRUGlar"
      },
      "execution_count": null,
      "outputs": [
        {
          "output_type": "stream",
          "name": "stdout",
          "text": [
            "Average MAPE: 9.6\n"
          ]
        }
      ]
    },
    {
      "cell_type": "markdown",
      "source": [
        "### 3-month prediction\n"
      ],
      "metadata": {
        "id": "nqXJ3gb5Glas"
      }
    },
    {
      "cell_type": "code",
      "source": [
        "mape_values = []\n",
        "for start, end in test_periods:\n",
        "    mape = calculate_mape_3(start, end, 0.05)\n",
        "    mape_values.append(mape)\n",
        "    print(f\"MAPE from {start} to {end}: {mape:.1f}\")"
      ],
      "metadata": {
        "colab": {
          "base_uri": "https://localhost:8080/"
        },
        "outputId": "cec9b233-6a1c-4b3b-ce85-46781ff3ae90",
        "id": "hfbvYPScGlas"
      },
      "execution_count": null,
      "outputs": [
        {
          "output_type": "stream",
          "name": "stdout",
          "text": [
            "MAPE from 2019-01-01 to 2019-07-01: 8.3\n",
            "MAPE from 2019-07-01 to 2020-01-01: 12.2\n",
            "MAPE from 2020-01-01 to 2020-07-01: 17.0\n",
            "MAPE from 2020-07-01 to 2021-01-01: 15.3\n",
            "MAPE from 2021-01-01 to 2021-07-01: 14.0\n",
            "MAPE from 2021-07-01 to 2022-01-01: 20.1\n",
            "MAPE from 2022-01-01 to 2022-07-01: 19.6\n",
            "MAPE from 2022-07-01 to 2023-01-01: 7.0\n",
            "MAPE from 2023-01-01 to 2023-07-01: 19.1\n",
            "MAPE from 2023-07-01 to 2024-01-01: 9.5\n"
          ]
        }
      ]
    },
    {
      "cell_type": "code",
      "source": [
        "average_mape = np.mean(mape_values)\n",
        "print(f\"Average MAPE: {average_mape:.1f}\")"
      ],
      "metadata": {
        "colab": {
          "base_uri": "https://localhost:8080/"
        },
        "outputId": "de11ffd6-f92b-46d1-fe83-9d0300195a03",
        "id": "I46oq81sGlas"
      },
      "execution_count": null,
      "outputs": [
        {
          "output_type": "stream",
          "name": "stdout",
          "text": [
            "Average MAPE: 14.2\n"
          ]
        }
      ]
    },
    {
      "cell_type": "markdown",
      "source": [
        "### 6-month prediction"
      ],
      "metadata": {
        "id": "4xP8BltnGlas"
      }
    },
    {
      "cell_type": "code",
      "source": [
        "mape_values = []\n",
        "for start, end in test_periods:\n",
        "    mape = calculate_mape_6(start, end, 0.01)\n",
        "    mape_values.append(mape)\n",
        "    print(f\"MAPE from {start} to {end}: {mape:.1f}\")"
      ],
      "metadata": {
        "colab": {
          "base_uri": "https://localhost:8080/"
        },
        "outputId": "5fb33fa1-ca03-4cc2-e0da-09a98d6f5061",
        "id": "lIQAwNr3Glas"
      },
      "execution_count": null,
      "outputs": [
        {
          "output_type": "stream",
          "name": "stdout",
          "text": [
            "MAPE from 2019-01-01 to 2019-07-01: 15.1\n",
            "MAPE from 2019-07-01 to 2020-01-01: 16.5\n",
            "MAPE from 2020-01-01 to 2020-07-01: 15.4\n",
            "MAPE from 2020-07-01 to 2021-01-01: 16.5\n",
            "MAPE from 2021-01-01 to 2021-07-01: 17.7\n",
            "MAPE from 2021-07-01 to 2022-01-01: 36.7\n",
            "MAPE from 2022-01-01 to 2022-07-01: 28.2\n",
            "MAPE from 2022-07-01 to 2023-01-01: 16.7\n",
            "MAPE from 2023-01-01 to 2023-07-01: 19.7\n",
            "MAPE from 2023-07-01 to 2024-01-01: 47.2\n"
          ]
        }
      ]
    },
    {
      "cell_type": "code",
      "source": [
        "average_mape = np.mean(mape_values)\n",
        "print(f\"Average MAPE: {average_mape:.1f}\")"
      ],
      "metadata": {
        "colab": {
          "base_uri": "https://localhost:8080/"
        },
        "outputId": "dab59035-d577-4cda-8380-a2b3301cbb73",
        "id": "b617sBQeGlas"
      },
      "execution_count": null,
      "outputs": [
        {
          "output_type": "stream",
          "name": "stdout",
          "text": [
            "Average MAPE: 23.0\n"
          ]
        }
      ]
    },
    {
      "cell_type": "markdown",
      "source": [
        "## 0006"
      ],
      "metadata": {
        "id": "4D3qqO67Gl4t"
      }
    },
    {
      "cell_type": "code",
      "source": [
        "feature_df = df_0006"
      ],
      "metadata": {
        "id": "BugpFJ6lGl4u"
      },
      "execution_count": null,
      "outputs": []
    },
    {
      "cell_type": "markdown",
      "source": [
        "### 1-month prediction"
      ],
      "metadata": {
        "id": "IOtYm-4PGl4u"
      }
    },
    {
      "cell_type": "code",
      "source": [
        "mape_values = []\n",
        "for start, end in test_periods:\n",
        "    mape = calculate_mape_1(start, end, 0.2)\n",
        "    mape_values.append(mape)\n",
        "    print(f\"MAPE from {start} to {end}: {mape:.1f}\")"
      ],
      "metadata": {
        "colab": {
          "base_uri": "https://localhost:8080/"
        },
        "outputId": "3b2c1271-4075-4344-dc5d-7c34f2ebe4af",
        "id": "kyTE2D1LGl4u"
      },
      "execution_count": null,
      "outputs": [
        {
          "output_type": "stream",
          "name": "stdout",
          "text": [
            "MAPE from 2019-01-01 to 2019-07-01: 5.0\n",
            "MAPE from 2019-07-01 to 2020-01-01: 3.6\n",
            "MAPE from 2020-01-01 to 2020-07-01: 3.7\n",
            "MAPE from 2020-07-01 to 2021-01-01: 4.6\n",
            "MAPE from 2021-01-01 to 2021-07-01: 6.2\n",
            "MAPE from 2021-07-01 to 2022-01-01: 18.1\n",
            "MAPE from 2022-01-01 to 2022-07-01: 19.8\n",
            "MAPE from 2022-07-01 to 2023-01-01: 9.4\n",
            "MAPE from 2023-01-01 to 2023-07-01: 9.0\n",
            "MAPE from 2023-07-01 to 2024-01-01: 11.7\n"
          ]
        }
      ]
    },
    {
      "cell_type": "code",
      "source": [
        "average_mape = np.mean(mape_values)\n",
        "print(f\"Average MAPE: {average_mape:.1f}\")"
      ],
      "metadata": {
        "colab": {
          "base_uri": "https://localhost:8080/"
        },
        "outputId": "65a09944-8c59-4160-f77e-e465d655a6b7",
        "id": "f6IWeCEqGl4u"
      },
      "execution_count": null,
      "outputs": [
        {
          "output_type": "stream",
          "name": "stdout",
          "text": [
            "Average MAPE: 9.1\n"
          ]
        }
      ]
    },
    {
      "cell_type": "markdown",
      "source": [
        "### 3-month prediction\n"
      ],
      "metadata": {
        "id": "Rd1dYc6xGl4u"
      }
    },
    {
      "cell_type": "code",
      "source": [
        "mape_values = []\n",
        "for start, end in test_periods:\n",
        "    mape = calculate_mape_3(start, end, 0.4)\n",
        "    mape_values.append(mape)\n",
        "    print(f\"MAPE from {start} to {end}: {mape:.1f}\")"
      ],
      "metadata": {
        "colab": {
          "base_uri": "https://localhost:8080/"
        },
        "outputId": "455b6421-c5d5-40e4-f178-b8e20bfba4c2",
        "id": "v_657DWxGl4u"
      },
      "execution_count": null,
      "outputs": [
        {
          "output_type": "stream",
          "name": "stdout",
          "text": [
            "MAPE from 2019-01-01 to 2019-07-01: 5.2\n",
            "MAPE from 2019-07-01 to 2020-01-01: 3.5\n",
            "MAPE from 2020-01-01 to 2020-07-01: 4.2\n",
            "MAPE from 2020-07-01 to 2021-01-01: 4.5\n",
            "MAPE from 2021-01-01 to 2021-07-01: 6.4\n",
            "MAPE from 2021-07-01 to 2022-01-01: 22.1\n",
            "MAPE from 2022-01-01 to 2022-07-01: 47.6\n",
            "MAPE from 2022-07-01 to 2023-01-01: 14.7\n",
            "MAPE from 2023-01-01 to 2023-07-01: 13.3\n",
            "MAPE from 2023-07-01 to 2024-01-01: 7.7\n"
          ]
        }
      ]
    },
    {
      "cell_type": "code",
      "source": [
        "average_mape = np.mean(mape_values)\n",
        "print(f\"Average MAPE: {average_mape:.1f}\")"
      ],
      "metadata": {
        "colab": {
          "base_uri": "https://localhost:8080/"
        },
        "outputId": "5e354409-44e0-4211-8b0b-d352aec70fc7",
        "id": "KcSv06QqGl4v"
      },
      "execution_count": null,
      "outputs": [
        {
          "output_type": "stream",
          "name": "stdout",
          "text": [
            "Average MAPE: 12.9\n"
          ]
        }
      ]
    },
    {
      "cell_type": "markdown",
      "source": [
        "### 6-month prediction"
      ],
      "metadata": {
        "id": "IO3R_eilGl4v"
      }
    },
    {
      "cell_type": "code",
      "source": [
        "mape_values = []\n",
        "for start, end in test_periods:\n",
        "    mape = calculate_mape_6(start, end, 0.4)\n",
        "    mape_values.append(mape)\n",
        "    print(f\"MAPE from {start} to {end}: {mape:.1f}\")"
      ],
      "metadata": {
        "colab": {
          "base_uri": "https://localhost:8080/"
        },
        "outputId": "7f8721b6-bfc5-443a-f3d8-d357049c1bb7",
        "id": "BV6NyV59Gl4v"
      },
      "execution_count": null,
      "outputs": [
        {
          "output_type": "stream",
          "name": "stdout",
          "text": [
            "MAPE from 2019-01-01 to 2019-07-01: 7.2\n",
            "MAPE from 2019-07-01 to 2020-01-01: 3.6\n",
            "MAPE from 2020-01-01 to 2020-07-01: 4.2\n",
            "MAPE from 2020-07-01 to 2021-01-01: 4.8\n",
            "MAPE from 2021-01-01 to 2021-07-01: 6.2\n",
            "MAPE from 2021-07-01 to 2022-01-01: 24.1\n",
            "MAPE from 2022-01-01 to 2022-07-01: 62.8\n",
            "MAPE from 2022-07-01 to 2023-01-01: 37.0\n",
            "MAPE from 2023-01-01 to 2023-07-01: 11.3\n",
            "MAPE from 2023-07-01 to 2024-01-01: 15.3\n"
          ]
        }
      ]
    },
    {
      "cell_type": "code",
      "source": [
        "average_mape = np.mean(mape_values)\n",
        "print(f\"Average MAPE: {average_mape:.1f}\")"
      ],
      "metadata": {
        "colab": {
          "base_uri": "https://localhost:8080/"
        },
        "outputId": "42ce0c20-1715-4cad-dfb4-bf0d38bfb1a8",
        "id": "gnG9ud4CGl4v"
      },
      "execution_count": null,
      "outputs": [
        {
          "output_type": "stream",
          "name": "stdout",
          "text": [
            "Average MAPE: 17.6\n"
          ]
        }
      ]
    },
    {
      "cell_type": "markdown",
      "source": [
        "## 0007"
      ],
      "metadata": {
        "id": "EkX7WaeeGmW6"
      }
    },
    {
      "cell_type": "code",
      "source": [
        "feature_df = df_0007"
      ],
      "metadata": {
        "id": "LF2RXHPwGmW6"
      },
      "execution_count": null,
      "outputs": []
    },
    {
      "cell_type": "markdown",
      "source": [
        "### 1-month prediction"
      ],
      "metadata": {
        "id": "uW_pzmpBGmW6"
      }
    },
    {
      "cell_type": "code",
      "source": [
        "mape_values = []\n",
        "for start, end in test_periods:\n",
        "    mape = calculate_mape_1(start, end, 0.05)\n",
        "    mape_values.append(mape)\n",
        "    print(f\"MAPE from {start} to {end}: {mape:.1f}\")"
      ],
      "metadata": {
        "colab": {
          "base_uri": "https://localhost:8080/"
        },
        "outputId": "ede9db22-6e8f-4b99-a13e-6cdb93dfcfe0",
        "id": "zsJc1yVNGmW7"
      },
      "execution_count": null,
      "outputs": [
        {
          "output_type": "stream",
          "name": "stdout",
          "text": [
            "MAPE from 2019-01-01 to 2019-07-01: 40.4\n",
            "MAPE from 2019-07-01 to 2020-01-01: 13.2\n",
            "MAPE from 2020-01-01 to 2020-07-01: 21.6\n",
            "MAPE from 2020-07-01 to 2021-01-01: 10.6\n",
            "MAPE from 2021-01-01 to 2021-07-01: 9.3\n",
            "MAPE from 2021-07-01 to 2022-01-01: 21.3\n",
            "MAPE from 2022-01-01 to 2022-07-01: 25.2\n",
            "MAPE from 2022-07-01 to 2023-01-01: 7.1\n",
            "MAPE from 2023-01-01 to 2023-07-01: 8.8\n",
            "MAPE from 2023-07-01 to 2024-01-01: 5.1\n"
          ]
        }
      ]
    },
    {
      "cell_type": "code",
      "source": [
        "average_mape = np.mean(mape_values)\n",
        "print(f\"Average MAPE: {average_mape:.1f}\")"
      ],
      "metadata": {
        "colab": {
          "base_uri": "https://localhost:8080/"
        },
        "outputId": "f7a832d9-31fb-4f88-a3ef-3bf70df985af",
        "id": "7VxdjJPrGmW7"
      },
      "execution_count": null,
      "outputs": [
        {
          "output_type": "stream",
          "name": "stdout",
          "text": [
            "Average MAPE: 16.3\n"
          ]
        }
      ]
    },
    {
      "cell_type": "markdown",
      "source": [
        "### 3-month prediction\n"
      ],
      "metadata": {
        "id": "DMKWbxbnGmW7"
      }
    },
    {
      "cell_type": "code",
      "source": [
        "mape_values = []\n",
        "for start, end in test_periods:\n",
        "    mape = calculate_mape_3(start, end, 0.1)\n",
        "    mape_values.append(mape)\n",
        "    print(f\"MAPE from {start} to {end}: {mape:.1f}\")"
      ],
      "metadata": {
        "colab": {
          "base_uri": "https://localhost:8080/"
        },
        "outputId": "f6e91172-940e-447e-8539-faeccac83d6b",
        "id": "p8Y6ha15GmW7"
      },
      "execution_count": null,
      "outputs": [
        {
          "output_type": "stream",
          "name": "stdout",
          "text": [
            "MAPE from 2019-01-01 to 2019-07-01: 40.4\n",
            "MAPE from 2019-07-01 to 2020-01-01: 15.5\n",
            "MAPE from 2020-01-01 to 2020-07-01: 19.8\n",
            "MAPE from 2020-07-01 to 2021-01-01: 10.4\n",
            "MAPE from 2021-01-01 to 2021-07-01: 11.3\n",
            "MAPE from 2021-07-01 to 2022-01-01: 24.6\n",
            "MAPE from 2022-01-01 to 2022-07-01: 36.3\n",
            "MAPE from 2022-07-01 to 2023-01-01: 43.4\n",
            "MAPE from 2023-01-01 to 2023-07-01: 8.7\n",
            "MAPE from 2023-07-01 to 2024-01-01: 9.5\n"
          ]
        }
      ]
    },
    {
      "cell_type": "code",
      "source": [
        "average_mape = np.mean(mape_values)\n",
        "print(f\"Average MAPE: {average_mape:.1f}\")"
      ],
      "metadata": {
        "colab": {
          "base_uri": "https://localhost:8080/"
        },
        "outputId": "81af18ac-a855-44d7-fbdc-1c9523889e73",
        "id": "S7zblMXbGmW7"
      },
      "execution_count": null,
      "outputs": [
        {
          "output_type": "stream",
          "name": "stdout",
          "text": [
            "Average MAPE: 22.0\n"
          ]
        }
      ]
    },
    {
      "cell_type": "markdown",
      "source": [
        "### 6-month prediction"
      ],
      "metadata": {
        "id": "N6t_iHJLGmW7"
      }
    },
    {
      "cell_type": "code",
      "source": [
        "mape_values = []\n",
        "for start, end in test_periods:\n",
        "    mape = calculate_mape_6(start, end, 0.05)\n",
        "    mape_values.append(mape)\n",
        "    print(f\"MAPE from {start} to {end}: {mape:.1f}\")"
      ],
      "metadata": {
        "colab": {
          "base_uri": "https://localhost:8080/"
        },
        "outputId": "33ce89c7-c621-42a3-b339-e5706798f48e",
        "id": "7eVZYJtqGmW7"
      },
      "execution_count": null,
      "outputs": [
        {
          "output_type": "stream",
          "name": "stdout",
          "text": [
            "MAPE from 2019-01-01 to 2019-07-01: 40.4\n",
            "MAPE from 2019-07-01 to 2020-01-01: 21.1\n",
            "MAPE from 2020-01-01 to 2020-07-01: 17.9\n",
            "MAPE from 2020-07-01 to 2021-01-01: 9.4\n",
            "MAPE from 2021-01-01 to 2021-07-01: 11.1\n",
            "MAPE from 2021-07-01 to 2022-01-01: 26.8\n",
            "MAPE from 2022-01-01 to 2022-07-01: 44.7\n",
            "MAPE from 2022-07-01 to 2023-01-01: 57.3\n",
            "MAPE from 2023-01-01 to 2023-07-01: 18.1\n",
            "MAPE from 2023-07-01 to 2024-01-01: 12.3\n"
          ]
        }
      ]
    },
    {
      "cell_type": "code",
      "source": [
        "average_mape = np.mean(mape_values)\n",
        "print(f\"Average MAPE: {average_mape:.1f}\")"
      ],
      "metadata": {
        "colab": {
          "base_uri": "https://localhost:8080/"
        },
        "outputId": "209c4295-c2e9-468c-8113-7e76aa6bbad2",
        "id": "RV-DEUNUGmW8"
      },
      "execution_count": null,
      "outputs": [
        {
          "output_type": "stream",
          "name": "stdout",
          "text": [
            "Average MAPE: 25.9\n"
          ]
        }
      ]
    },
    {
      "cell_type": "markdown",
      "source": [
        "# Non-ionic Surfactant"
      ],
      "metadata": {
        "id": "Xgzwr5WkEGVa"
      }
    },
    {
      "cell_type": "code",
      "source": [
        "feature_df = pd.read_csv('/content/drive/MyDrive/Colab Notebooks/Thesis/dataframe/non-ionic surfactant_feature.csv',index_col=0)\n",
        "feature_df['Time'] = pd.to_datetime(feature_df['Time'])\n",
        "print(feature_df)"
      ],
      "metadata": {
        "colab": {
          "base_uri": "https://localhost:8080/"
        },
        "outputId": "9940eba1-a967-492f-a7b3-b3bb99b8f0fd",
        "id": "HNw_9OgSEGVb"
      },
      "execution_count": null,
      "outputs": [
        {
          "output_type": "stream",
          "name": "stdout",
          "text": [
            "     RM12/0002  RM12/0003  RM12/0005  RM12/0008  RM12/0012  Year  Month  \\\n",
            "2        False      False       True      False      False  2016      1   \n",
            "3        False       True      False      False      False  2016      1   \n",
            "4        False      False       True      False      False  2016      2   \n",
            "5        False       True      False      False      False  2016      2   \n",
            "6        False      False       True      False      False  2016      3   \n",
            "..         ...        ...        ...        ...        ...   ...    ...   \n",
            "488       True      False      False      False      False  2023      8   \n",
            "489       True      False      False      False      False  2023      9   \n",
            "490       True      False      False      False      False  2023     10   \n",
            "491       True      False      False      False      False  2023     11   \n",
            "492       True      False      False      False      False  2023     12   \n",
            "\n",
            "          Time     Group Description  Average_price  ...      AR_3      AR_4  \\\n",
            "2   2016-01-29  non-ionic surfactant       1.630000  ...  1.650000  1.650000   \n",
            "3   2016-01-31  non-ionic surfactant       1.142000  ...  1.200000  1.272222   \n",
            "4   2016-02-29  non-ionic surfactant       1.630000  ...  1.650000  1.650000   \n",
            "5   2016-02-29  non-ionic surfactant       1.038909  ...  1.085750  1.200000   \n",
            "6   2016-03-31  non-ionic surfactant       1.630000  ...  1.650000  1.650000   \n",
            "..         ...                   ...            ...  ...       ...       ...   \n",
            "488 2023-08-31  non-ionic surfactant       1.750397  ...  2.256034  1.783333   \n",
            "489 2023-09-30  non-ionic surfactant       1.883857  ...  1.955800  2.256034   \n",
            "490 2023-10-30  non-ionic surfactant       1.833500  ...  2.132308  1.955800   \n",
            "491 2023-11-30  non-ionic surfactant       2.385135  ...  1.750397  2.132308   \n",
            "492 2023-12-31  non-ionic surfactant       1.813101  ...  1.883857  1.750397   \n",
            "\n",
            "         AR_5      AR_6      AR_7      AR_8      AR_9     AR_10     AR_11  \\\n",
            "2    1.650000  1.550000  1.450000  1.450000  1.380000  1.420000  1.420000   \n",
            "3    1.200000  1.350000  1.243333  1.275000  1.400000  1.154286  1.224286   \n",
            "4    1.650000  1.650000  1.550000  1.450000  1.450000  1.380000  1.420000   \n",
            "5    1.272222  1.200000  1.350000  1.243333  1.275000  1.400000  1.154286   \n",
            "6    1.650000  1.650000  1.650000  1.550000  1.450000  1.450000  1.380000   \n",
            "..        ...       ...       ...       ...       ...       ...       ...   \n",
            "488  2.411359  1.721000  1.681333  2.178481  2.500268  2.395888  2.316082   \n",
            "489  1.783333  2.411359  1.721000  1.681333  2.178481  2.500268  2.395888   \n",
            "490  2.256034  1.783333  2.411359  1.721000  1.681333  2.178481  2.500268   \n",
            "491  1.955800  2.256034  1.783333  2.411359  1.721000  1.681333  2.178481   \n",
            "492  2.132308  1.955800  2.256034  1.783333  2.411359  1.721000  1.681333   \n",
            "\n",
            "        AR_12  \n",
            "2    1.406667  \n",
            "3    1.151429  \n",
            "4    1.420000  \n",
            "5    1.224286  \n",
            "6    1.420000  \n",
            "..        ...  \n",
            "488  2.227134  \n",
            "489  2.316082  \n",
            "490  2.395888  \n",
            "491  2.500268  \n",
            "492  2.178481  \n",
            "\n",
            "[469 rows x 82 columns]\n"
          ]
        }
      ]
    },
    {
      "cell_type": "code",
      "source": [
        "df_0002 = feature_df[feature_df['RM12/0002'] == 1]\n",
        "print(df_0002.info())"
      ],
      "metadata": {
        "colab": {
          "base_uri": "https://localhost:8080/"
        },
        "outputId": "9fbf8e74-2693-4df6-af4b-1284ffbd0337",
        "id": "OQQ9xFh5EGVb"
      },
      "execution_count": null,
      "outputs": [
        {
          "output_type": "stream",
          "name": "stdout",
          "text": [
            "<class 'pandas.core.frame.DataFrame'>\n",
            "Index: 96 entries, 397 to 492\n",
            "Data columns (total 82 columns):\n",
            " #   Column             Non-Null Count  Dtype         \n",
            "---  ------             --------------  -----         \n",
            " 0   RM12/0002          96 non-null     bool          \n",
            " 1   RM12/0003          96 non-null     bool          \n",
            " 2   RM12/0005          96 non-null     bool          \n",
            " 3   RM12/0008          96 non-null     bool          \n",
            " 4   RM12/0012          96 non-null     bool          \n",
            " 5   Year               96 non-null     int64         \n",
            " 6   Month              96 non-null     int64         \n",
            " 7   Time               96 non-null     datetime64[ns]\n",
            " 8   Group Description  96 non-null     object        \n",
            " 9   Average_price      96 non-null     float64       \n",
            " 10  PNGASEUUSDM_1      96 non-null     float64       \n",
            " 11  POILBREUSDM_1      96 non-null     float64       \n",
            " 12  PPOILUSDM_1        96 non-null     float64       \n",
            " 13  WPU0652013A_1      96 non-null     float64       \n",
            " 14  Electricity_1      96 non-null     float64       \n",
            " 15  PNGASEUUSDM_2      96 non-null     float64       \n",
            " 16  POILBREUSDM_2      96 non-null     float64       \n",
            " 17  PPOILUSDM_2        96 non-null     float64       \n",
            " 18  WPU0652013A_2      96 non-null     float64       \n",
            " 19  Electricity_2      96 non-null     float64       \n",
            " 20  PNGASEUUSDM_3      96 non-null     float64       \n",
            " 21  POILBREUSDM_3      96 non-null     float64       \n",
            " 22  PPOILUSDM_3        96 non-null     float64       \n",
            " 23  WPU0652013A_3      96 non-null     float64       \n",
            " 24  Electricity_3      96 non-null     float64       \n",
            " 25  PNGASEUUSDM_4      96 non-null     float64       \n",
            " 26  POILBREUSDM_4      96 non-null     float64       \n",
            " 27  PPOILUSDM_4        96 non-null     float64       \n",
            " 28  WPU0652013A_4      96 non-null     float64       \n",
            " 29  Electricity_4      96 non-null     float64       \n",
            " 30  PNGASEUUSDM_5      96 non-null     float64       \n",
            " 31  POILBREUSDM_5      96 non-null     float64       \n",
            " 32  PPOILUSDM_5        96 non-null     float64       \n",
            " 33  WPU0652013A_5      96 non-null     float64       \n",
            " 34  Electricity_5      96 non-null     float64       \n",
            " 35  PNGASEUUSDM_6      96 non-null     float64       \n",
            " 36  POILBREUSDM_6      96 non-null     float64       \n",
            " 37  PPOILUSDM_6        96 non-null     float64       \n",
            " 38  WPU0652013A_6      96 non-null     float64       \n",
            " 39  Electricity_6      96 non-null     float64       \n",
            " 40  PNGASEUUSDM_7      96 non-null     float64       \n",
            " 41  POILBREUSDM_7      96 non-null     float64       \n",
            " 42  PPOILUSDM_7        96 non-null     float64       \n",
            " 43  WPU0652013A_7      96 non-null     float64       \n",
            " 44  Electricity_7      96 non-null     float64       \n",
            " 45  PNGASEUUSDM_8      96 non-null     float64       \n",
            " 46  POILBREUSDM_8      96 non-null     float64       \n",
            " 47  PPOILUSDM_8        96 non-null     float64       \n",
            " 48  WPU0652013A_8      96 non-null     float64       \n",
            " 49  Electricity_8      96 non-null     float64       \n",
            " 50  PNGASEUUSDM_9      96 non-null     float64       \n",
            " 51  POILBREUSDM_9      96 non-null     float64       \n",
            " 52  PPOILUSDM_9        96 non-null     float64       \n",
            " 53  WPU0652013A_9      96 non-null     float64       \n",
            " 54  Electricity_9      96 non-null     float64       \n",
            " 55  PNGASEUUSDM_10     96 non-null     float64       \n",
            " 56  POILBREUSDM_10     96 non-null     float64       \n",
            " 57  PPOILUSDM_10       96 non-null     float64       \n",
            " 58  WPU0652013A_10     96 non-null     float64       \n",
            " 59  Electricity_10     96 non-null     float64       \n",
            " 60  PNGASEUUSDM_11     96 non-null     float64       \n",
            " 61  POILBREUSDM_11     96 non-null     float64       \n",
            " 62  PPOILUSDM_11       96 non-null     float64       \n",
            " 63  WPU0652013A_11     96 non-null     float64       \n",
            " 64  Electricity_11     96 non-null     float64       \n",
            " 65  PNGASEUUSDM_12     96 non-null     float64       \n",
            " 66  POILBREUSDM_12     96 non-null     float64       \n",
            " 67  PPOILUSDM_12       96 non-null     float64       \n",
            " 68  WPU0652013A_12     96 non-null     float64       \n",
            " 69  Electricity_12     96 non-null     float64       \n",
            " 70  AR_1               96 non-null     float64       \n",
            " 71  AR_2               96 non-null     float64       \n",
            " 72  AR_3               96 non-null     float64       \n",
            " 73  AR_4               96 non-null     float64       \n",
            " 74  AR_5               96 non-null     float64       \n",
            " 75  AR_6               96 non-null     float64       \n",
            " 76  AR_7               96 non-null     float64       \n",
            " 77  AR_8               96 non-null     float64       \n",
            " 78  AR_9               96 non-null     float64       \n",
            " 79  AR_10              96 non-null     float64       \n",
            " 80  AR_11              96 non-null     float64       \n",
            " 81  AR_12              96 non-null     float64       \n",
            "dtypes: bool(5), datetime64[ns](1), float64(73), int64(2), object(1)\n",
            "memory usage: 59.0+ KB\n",
            "None\n"
          ]
        }
      ]
    },
    {
      "cell_type": "code",
      "source": [
        "df_0003 = feature_df[feature_df['RM12/0003'] == 1]\n",
        "print(df_0003.info())"
      ],
      "metadata": {
        "colab": {
          "base_uri": "https://localhost:8080/"
        },
        "outputId": "7c50cd8b-72bf-425d-f647-a7973f43e57d",
        "id": "88LhfjdKEGVb"
      },
      "execution_count": null,
      "outputs": [
        {
          "output_type": "stream",
          "name": "stdout",
          "text": [
            "<class 'pandas.core.frame.DataFrame'>\n",
            "Index: 96 entries, 3 to 193\n",
            "Data columns (total 82 columns):\n",
            " #   Column             Non-Null Count  Dtype         \n",
            "---  ------             --------------  -----         \n",
            " 0   RM12/0002          96 non-null     bool          \n",
            " 1   RM12/0003          96 non-null     bool          \n",
            " 2   RM12/0005          96 non-null     bool          \n",
            " 3   RM12/0008          96 non-null     bool          \n",
            " 4   RM12/0012          96 non-null     bool          \n",
            " 5   Year               96 non-null     int64         \n",
            " 6   Month              96 non-null     int64         \n",
            " 7   Time               96 non-null     datetime64[ns]\n",
            " 8   Group Description  96 non-null     object        \n",
            " 9   Average_price      96 non-null     float64       \n",
            " 10  PNGASEUUSDM_1      96 non-null     float64       \n",
            " 11  POILBREUSDM_1      96 non-null     float64       \n",
            " 12  PPOILUSDM_1        96 non-null     float64       \n",
            " 13  WPU0652013A_1      96 non-null     float64       \n",
            " 14  Electricity_1      96 non-null     float64       \n",
            " 15  PNGASEUUSDM_2      96 non-null     float64       \n",
            " 16  POILBREUSDM_2      96 non-null     float64       \n",
            " 17  PPOILUSDM_2        96 non-null     float64       \n",
            " 18  WPU0652013A_2      96 non-null     float64       \n",
            " 19  Electricity_2      96 non-null     float64       \n",
            " 20  PNGASEUUSDM_3      96 non-null     float64       \n",
            " 21  POILBREUSDM_3      96 non-null     float64       \n",
            " 22  PPOILUSDM_3        96 non-null     float64       \n",
            " 23  WPU0652013A_3      96 non-null     float64       \n",
            " 24  Electricity_3      96 non-null     float64       \n",
            " 25  PNGASEUUSDM_4      96 non-null     float64       \n",
            " 26  POILBREUSDM_4      96 non-null     float64       \n",
            " 27  PPOILUSDM_4        96 non-null     float64       \n",
            " 28  WPU0652013A_4      96 non-null     float64       \n",
            " 29  Electricity_4      96 non-null     float64       \n",
            " 30  PNGASEUUSDM_5      96 non-null     float64       \n",
            " 31  POILBREUSDM_5      96 non-null     float64       \n",
            " 32  PPOILUSDM_5        96 non-null     float64       \n",
            " 33  WPU0652013A_5      96 non-null     float64       \n",
            " 34  Electricity_5      96 non-null     float64       \n",
            " 35  PNGASEUUSDM_6      96 non-null     float64       \n",
            " 36  POILBREUSDM_6      96 non-null     float64       \n",
            " 37  PPOILUSDM_6        96 non-null     float64       \n",
            " 38  WPU0652013A_6      96 non-null     float64       \n",
            " 39  Electricity_6      96 non-null     float64       \n",
            " 40  PNGASEUUSDM_7      96 non-null     float64       \n",
            " 41  POILBREUSDM_7      96 non-null     float64       \n",
            " 42  PPOILUSDM_7        96 non-null     float64       \n",
            " 43  WPU0652013A_7      96 non-null     float64       \n",
            " 44  Electricity_7      96 non-null     float64       \n",
            " 45  PNGASEUUSDM_8      96 non-null     float64       \n",
            " 46  POILBREUSDM_8      96 non-null     float64       \n",
            " 47  PPOILUSDM_8        96 non-null     float64       \n",
            " 48  WPU0652013A_8      96 non-null     float64       \n",
            " 49  Electricity_8      96 non-null     float64       \n",
            " 50  PNGASEUUSDM_9      96 non-null     float64       \n",
            " 51  POILBREUSDM_9      96 non-null     float64       \n",
            " 52  PPOILUSDM_9        96 non-null     float64       \n",
            " 53  WPU0652013A_9      96 non-null     float64       \n",
            " 54  Electricity_9      96 non-null     float64       \n",
            " 55  PNGASEUUSDM_10     96 non-null     float64       \n",
            " 56  POILBREUSDM_10     96 non-null     float64       \n",
            " 57  PPOILUSDM_10       96 non-null     float64       \n",
            " 58  WPU0652013A_10     96 non-null     float64       \n",
            " 59  Electricity_10     96 non-null     float64       \n",
            " 60  PNGASEUUSDM_11     96 non-null     float64       \n",
            " 61  POILBREUSDM_11     96 non-null     float64       \n",
            " 62  PPOILUSDM_11       96 non-null     float64       \n",
            " 63  WPU0652013A_11     96 non-null     float64       \n",
            " 64  Electricity_11     96 non-null     float64       \n",
            " 65  PNGASEUUSDM_12     96 non-null     float64       \n",
            " 66  POILBREUSDM_12     96 non-null     float64       \n",
            " 67  PPOILUSDM_12       96 non-null     float64       \n",
            " 68  WPU0652013A_12     96 non-null     float64       \n",
            " 69  Electricity_12     96 non-null     float64       \n",
            " 70  AR_1               96 non-null     float64       \n",
            " 71  AR_2               96 non-null     float64       \n",
            " 72  AR_3               96 non-null     float64       \n",
            " 73  AR_4               96 non-null     float64       \n",
            " 74  AR_5               96 non-null     float64       \n",
            " 75  AR_6               96 non-null     float64       \n",
            " 76  AR_7               96 non-null     float64       \n",
            " 77  AR_8               96 non-null     float64       \n",
            " 78  AR_9               96 non-null     float64       \n",
            " 79  AR_10              96 non-null     float64       \n",
            " 80  AR_11              96 non-null     float64       \n",
            " 81  AR_12              96 non-null     float64       \n",
            "dtypes: bool(5), datetime64[ns](1), float64(73), int64(2), object(1)\n",
            "memory usage: 59.0+ KB\n",
            "None\n"
          ]
        }
      ]
    },
    {
      "cell_type": "code",
      "source": [
        "df_0005 = feature_df[feature_df['RM12/0005'] == 1]\n",
        "print(df_0005.info())"
      ],
      "metadata": {
        "colab": {
          "base_uri": "https://localhost:8080/"
        },
        "id": "bbuEbyz6HmpR",
        "outputId": "3ea913e2-05c8-49ec-f3f6-a00de1d8d408"
      },
      "execution_count": null,
      "outputs": [
        {
          "output_type": "stream",
          "name": "stdout",
          "text": [
            "<class 'pandas.core.frame.DataFrame'>\n",
            "Index: 96 entries, 2 to 192\n",
            "Data columns (total 82 columns):\n",
            " #   Column             Non-Null Count  Dtype         \n",
            "---  ------             --------------  -----         \n",
            " 0   RM12/0002          96 non-null     bool          \n",
            " 1   RM12/0003          96 non-null     bool          \n",
            " 2   RM12/0005          96 non-null     bool          \n",
            " 3   RM12/0008          96 non-null     bool          \n",
            " 4   RM12/0012          96 non-null     bool          \n",
            " 5   Year               96 non-null     int64         \n",
            " 6   Month              96 non-null     int64         \n",
            " 7   Time               96 non-null     datetime64[ns]\n",
            " 8   Group Description  96 non-null     object        \n",
            " 9   Average_price      96 non-null     float64       \n",
            " 10  PNGASEUUSDM_1      96 non-null     float64       \n",
            " 11  POILBREUSDM_1      96 non-null     float64       \n",
            " 12  PPOILUSDM_1        96 non-null     float64       \n",
            " 13  WPU0652013A_1      96 non-null     float64       \n",
            " 14  Electricity_1      96 non-null     float64       \n",
            " 15  PNGASEUUSDM_2      96 non-null     float64       \n",
            " 16  POILBREUSDM_2      96 non-null     float64       \n",
            " 17  PPOILUSDM_2        96 non-null     float64       \n",
            " 18  WPU0652013A_2      96 non-null     float64       \n",
            " 19  Electricity_2      96 non-null     float64       \n",
            " 20  PNGASEUUSDM_3      96 non-null     float64       \n",
            " 21  POILBREUSDM_3      96 non-null     float64       \n",
            " 22  PPOILUSDM_3        96 non-null     float64       \n",
            " 23  WPU0652013A_3      96 non-null     float64       \n",
            " 24  Electricity_3      96 non-null     float64       \n",
            " 25  PNGASEUUSDM_4      96 non-null     float64       \n",
            " 26  POILBREUSDM_4      96 non-null     float64       \n",
            " 27  PPOILUSDM_4        96 non-null     float64       \n",
            " 28  WPU0652013A_4      96 non-null     float64       \n",
            " 29  Electricity_4      96 non-null     float64       \n",
            " 30  PNGASEUUSDM_5      96 non-null     float64       \n",
            " 31  POILBREUSDM_5      96 non-null     float64       \n",
            " 32  PPOILUSDM_5        96 non-null     float64       \n",
            " 33  WPU0652013A_5      96 non-null     float64       \n",
            " 34  Electricity_5      96 non-null     float64       \n",
            " 35  PNGASEUUSDM_6      96 non-null     float64       \n",
            " 36  POILBREUSDM_6      96 non-null     float64       \n",
            " 37  PPOILUSDM_6        96 non-null     float64       \n",
            " 38  WPU0652013A_6      96 non-null     float64       \n",
            " 39  Electricity_6      96 non-null     float64       \n",
            " 40  PNGASEUUSDM_7      96 non-null     float64       \n",
            " 41  POILBREUSDM_7      96 non-null     float64       \n",
            " 42  PPOILUSDM_7        96 non-null     float64       \n",
            " 43  WPU0652013A_7      96 non-null     float64       \n",
            " 44  Electricity_7      96 non-null     float64       \n",
            " 45  PNGASEUUSDM_8      96 non-null     float64       \n",
            " 46  POILBREUSDM_8      96 non-null     float64       \n",
            " 47  PPOILUSDM_8        96 non-null     float64       \n",
            " 48  WPU0652013A_8      96 non-null     float64       \n",
            " 49  Electricity_8      96 non-null     float64       \n",
            " 50  PNGASEUUSDM_9      96 non-null     float64       \n",
            " 51  POILBREUSDM_9      96 non-null     float64       \n",
            " 52  PPOILUSDM_9        96 non-null     float64       \n",
            " 53  WPU0652013A_9      96 non-null     float64       \n",
            " 54  Electricity_9      96 non-null     float64       \n",
            " 55  PNGASEUUSDM_10     96 non-null     float64       \n",
            " 56  POILBREUSDM_10     96 non-null     float64       \n",
            " 57  PPOILUSDM_10       96 non-null     float64       \n",
            " 58  WPU0652013A_10     96 non-null     float64       \n",
            " 59  Electricity_10     96 non-null     float64       \n",
            " 60  PNGASEUUSDM_11     96 non-null     float64       \n",
            " 61  POILBREUSDM_11     96 non-null     float64       \n",
            " 62  PPOILUSDM_11       96 non-null     float64       \n",
            " 63  WPU0652013A_11     96 non-null     float64       \n",
            " 64  Electricity_11     96 non-null     float64       \n",
            " 65  PNGASEUUSDM_12     96 non-null     float64       \n",
            " 66  POILBREUSDM_12     96 non-null     float64       \n",
            " 67  PPOILUSDM_12       96 non-null     float64       \n",
            " 68  WPU0652013A_12     96 non-null     float64       \n",
            " 69  Electricity_12     96 non-null     float64       \n",
            " 70  AR_1               96 non-null     float64       \n",
            " 71  AR_2               96 non-null     float64       \n",
            " 72  AR_3               96 non-null     float64       \n",
            " 73  AR_4               96 non-null     float64       \n",
            " 74  AR_5               96 non-null     float64       \n",
            " 75  AR_6               96 non-null     float64       \n",
            " 76  AR_7               96 non-null     float64       \n",
            " 77  AR_8               96 non-null     float64       \n",
            " 78  AR_9               96 non-null     float64       \n",
            " 79  AR_10              96 non-null     float64       \n",
            " 80  AR_11              96 non-null     float64       \n",
            " 81  AR_12              96 non-null     float64       \n",
            "dtypes: bool(5), datetime64[ns](1), float64(73), int64(2), object(1)\n",
            "memory usage: 59.0+ KB\n",
            "None\n"
          ]
        }
      ]
    },
    {
      "cell_type": "code",
      "source": [
        "df_0008 = feature_df[feature_df['RM12/0008'] == 1]\n",
        "print(df_0008.info())"
      ],
      "metadata": {
        "colab": {
          "base_uri": "https://localhost:8080/"
        },
        "id": "xGf-9Jw_Hocl",
        "outputId": "e4143564-1623-43b3-a3b4-4da1f9d27371"
      },
      "execution_count": null,
      "outputs": [
        {
          "output_type": "stream",
          "name": "stdout",
          "text": [
            "<class 'pandas.core.frame.DataFrame'>\n",
            "Index: 94 entries, 299 to 394\n",
            "Data columns (total 82 columns):\n",
            " #   Column             Non-Null Count  Dtype         \n",
            "---  ------             --------------  -----         \n",
            " 0   RM12/0002          94 non-null     bool          \n",
            " 1   RM12/0003          94 non-null     bool          \n",
            " 2   RM12/0005          94 non-null     bool          \n",
            " 3   RM12/0008          94 non-null     bool          \n",
            " 4   RM12/0012          94 non-null     bool          \n",
            " 5   Year               94 non-null     int64         \n",
            " 6   Month              94 non-null     int64         \n",
            " 7   Time               94 non-null     datetime64[ns]\n",
            " 8   Group Description  94 non-null     object        \n",
            " 9   Average_price      94 non-null     float64       \n",
            " 10  PNGASEUUSDM_1      94 non-null     float64       \n",
            " 11  POILBREUSDM_1      94 non-null     float64       \n",
            " 12  PPOILUSDM_1        94 non-null     float64       \n",
            " 13  WPU0652013A_1      94 non-null     float64       \n",
            " 14  Electricity_1      94 non-null     float64       \n",
            " 15  PNGASEUUSDM_2      94 non-null     float64       \n",
            " 16  POILBREUSDM_2      94 non-null     float64       \n",
            " 17  PPOILUSDM_2        94 non-null     float64       \n",
            " 18  WPU0652013A_2      94 non-null     float64       \n",
            " 19  Electricity_2      94 non-null     float64       \n",
            " 20  PNGASEUUSDM_3      94 non-null     float64       \n",
            " 21  POILBREUSDM_3      94 non-null     float64       \n",
            " 22  PPOILUSDM_3        94 non-null     float64       \n",
            " 23  WPU0652013A_3      94 non-null     float64       \n",
            " 24  Electricity_3      94 non-null     float64       \n",
            " 25  PNGASEUUSDM_4      94 non-null     float64       \n",
            " 26  POILBREUSDM_4      94 non-null     float64       \n",
            " 27  PPOILUSDM_4        94 non-null     float64       \n",
            " 28  WPU0652013A_4      94 non-null     float64       \n",
            " 29  Electricity_4      94 non-null     float64       \n",
            " 30  PNGASEUUSDM_5      94 non-null     float64       \n",
            " 31  POILBREUSDM_5      94 non-null     float64       \n",
            " 32  PPOILUSDM_5        94 non-null     float64       \n",
            " 33  WPU0652013A_5      94 non-null     float64       \n",
            " 34  Electricity_5      94 non-null     float64       \n",
            " 35  PNGASEUUSDM_6      94 non-null     float64       \n",
            " 36  POILBREUSDM_6      94 non-null     float64       \n",
            " 37  PPOILUSDM_6        94 non-null     float64       \n",
            " 38  WPU0652013A_6      94 non-null     float64       \n",
            " 39  Electricity_6      94 non-null     float64       \n",
            " 40  PNGASEUUSDM_7      94 non-null     float64       \n",
            " 41  POILBREUSDM_7      94 non-null     float64       \n",
            " 42  PPOILUSDM_7        94 non-null     float64       \n",
            " 43  WPU0652013A_7      94 non-null     float64       \n",
            " 44  Electricity_7      94 non-null     float64       \n",
            " 45  PNGASEUUSDM_8      94 non-null     float64       \n",
            " 46  POILBREUSDM_8      94 non-null     float64       \n",
            " 47  PPOILUSDM_8        94 non-null     float64       \n",
            " 48  WPU0652013A_8      94 non-null     float64       \n",
            " 49  Electricity_8      94 non-null     float64       \n",
            " 50  PNGASEUUSDM_9      94 non-null     float64       \n",
            " 51  POILBREUSDM_9      94 non-null     float64       \n",
            " 52  PPOILUSDM_9        94 non-null     float64       \n",
            " 53  WPU0652013A_9      94 non-null     float64       \n",
            " 54  Electricity_9      94 non-null     float64       \n",
            " 55  PNGASEUUSDM_10     94 non-null     float64       \n",
            " 56  POILBREUSDM_10     94 non-null     float64       \n",
            " 57  PPOILUSDM_10       94 non-null     float64       \n",
            " 58  WPU0652013A_10     94 non-null     float64       \n",
            " 59  Electricity_10     94 non-null     float64       \n",
            " 60  PNGASEUUSDM_11     94 non-null     float64       \n",
            " 61  POILBREUSDM_11     94 non-null     float64       \n",
            " 62  PPOILUSDM_11       94 non-null     float64       \n",
            " 63  WPU0652013A_11     94 non-null     float64       \n",
            " 64  Electricity_11     94 non-null     float64       \n",
            " 65  PNGASEUUSDM_12     94 non-null     float64       \n",
            " 66  POILBREUSDM_12     94 non-null     float64       \n",
            " 67  PPOILUSDM_12       94 non-null     float64       \n",
            " 68  WPU0652013A_12     94 non-null     float64       \n",
            " 69  Electricity_12     94 non-null     float64       \n",
            " 70  AR_1               94 non-null     float64       \n",
            " 71  AR_2               94 non-null     float64       \n",
            " 72  AR_3               94 non-null     float64       \n",
            " 73  AR_4               94 non-null     float64       \n",
            " 74  AR_5               94 non-null     float64       \n",
            " 75  AR_6               94 non-null     float64       \n",
            " 76  AR_7               94 non-null     float64       \n",
            " 77  AR_8               94 non-null     float64       \n",
            " 78  AR_9               94 non-null     float64       \n",
            " 79  AR_10              94 non-null     float64       \n",
            " 80  AR_11              94 non-null     float64       \n",
            " 81  AR_12              94 non-null     float64       \n",
            "dtypes: bool(5), datetime64[ns](1), float64(73), int64(2), object(1)\n",
            "memory usage: 57.7+ KB\n",
            "None\n"
          ]
        }
      ]
    },
    {
      "cell_type": "code",
      "source": [
        "df_0012 = feature_df[feature_df['RM12/0012'] == 1]\n",
        "print(df_0012.info())"
      ],
      "metadata": {
        "colab": {
          "base_uri": "https://localhost:8080/"
        },
        "id": "vHK0oE5UHoNx",
        "outputId": "428f16df-5fba-4a60-eee2-f7c468545fb9"
      },
      "execution_count": null,
      "outputs": [
        {
          "output_type": "stream",
          "name": "stdout",
          "text": [
            "<class 'pandas.core.frame.DataFrame'>\n",
            "Index: 87 entries, 202 to 297\n",
            "Data columns (total 82 columns):\n",
            " #   Column             Non-Null Count  Dtype         \n",
            "---  ------             --------------  -----         \n",
            " 0   RM12/0002          87 non-null     bool          \n",
            " 1   RM12/0003          87 non-null     bool          \n",
            " 2   RM12/0005          87 non-null     bool          \n",
            " 3   RM12/0008          87 non-null     bool          \n",
            " 4   RM12/0012          87 non-null     bool          \n",
            " 5   Year               87 non-null     int64         \n",
            " 6   Month              87 non-null     int64         \n",
            " 7   Time               87 non-null     datetime64[ns]\n",
            " 8   Group Description  87 non-null     object        \n",
            " 9   Average_price      87 non-null     float64       \n",
            " 10  PNGASEUUSDM_1      87 non-null     float64       \n",
            " 11  POILBREUSDM_1      87 non-null     float64       \n",
            " 12  PPOILUSDM_1        87 non-null     float64       \n",
            " 13  WPU0652013A_1      87 non-null     float64       \n",
            " 14  Electricity_1      87 non-null     float64       \n",
            " 15  PNGASEUUSDM_2      87 non-null     float64       \n",
            " 16  POILBREUSDM_2      87 non-null     float64       \n",
            " 17  PPOILUSDM_2        87 non-null     float64       \n",
            " 18  WPU0652013A_2      87 non-null     float64       \n",
            " 19  Electricity_2      87 non-null     float64       \n",
            " 20  PNGASEUUSDM_3      87 non-null     float64       \n",
            " 21  POILBREUSDM_3      87 non-null     float64       \n",
            " 22  PPOILUSDM_3        87 non-null     float64       \n",
            " 23  WPU0652013A_3      87 non-null     float64       \n",
            " 24  Electricity_3      87 non-null     float64       \n",
            " 25  PNGASEUUSDM_4      87 non-null     float64       \n",
            " 26  POILBREUSDM_4      87 non-null     float64       \n",
            " 27  PPOILUSDM_4        87 non-null     float64       \n",
            " 28  WPU0652013A_4      87 non-null     float64       \n",
            " 29  Electricity_4      87 non-null     float64       \n",
            " 30  PNGASEUUSDM_5      87 non-null     float64       \n",
            " 31  POILBREUSDM_5      87 non-null     float64       \n",
            " 32  PPOILUSDM_5        87 non-null     float64       \n",
            " 33  WPU0652013A_5      87 non-null     float64       \n",
            " 34  Electricity_5      87 non-null     float64       \n",
            " 35  PNGASEUUSDM_6      87 non-null     float64       \n",
            " 36  POILBREUSDM_6      87 non-null     float64       \n",
            " 37  PPOILUSDM_6        87 non-null     float64       \n",
            " 38  WPU0652013A_6      87 non-null     float64       \n",
            " 39  Electricity_6      87 non-null     float64       \n",
            " 40  PNGASEUUSDM_7      87 non-null     float64       \n",
            " 41  POILBREUSDM_7      87 non-null     float64       \n",
            " 42  PPOILUSDM_7        87 non-null     float64       \n",
            " 43  WPU0652013A_7      87 non-null     float64       \n",
            " 44  Electricity_7      87 non-null     float64       \n",
            " 45  PNGASEUUSDM_8      87 non-null     float64       \n",
            " 46  POILBREUSDM_8      87 non-null     float64       \n",
            " 47  PPOILUSDM_8        87 non-null     float64       \n",
            " 48  WPU0652013A_8      87 non-null     float64       \n",
            " 49  Electricity_8      87 non-null     float64       \n",
            " 50  PNGASEUUSDM_9      87 non-null     float64       \n",
            " 51  POILBREUSDM_9      87 non-null     float64       \n",
            " 52  PPOILUSDM_9        87 non-null     float64       \n",
            " 53  WPU0652013A_9      87 non-null     float64       \n",
            " 54  Electricity_9      87 non-null     float64       \n",
            " 55  PNGASEUUSDM_10     87 non-null     float64       \n",
            " 56  POILBREUSDM_10     87 non-null     float64       \n",
            " 57  PPOILUSDM_10       87 non-null     float64       \n",
            " 58  WPU0652013A_10     87 non-null     float64       \n",
            " 59  Electricity_10     87 non-null     float64       \n",
            " 60  PNGASEUUSDM_11     87 non-null     float64       \n",
            " 61  POILBREUSDM_11     87 non-null     float64       \n",
            " 62  PPOILUSDM_11       87 non-null     float64       \n",
            " 63  WPU0652013A_11     87 non-null     float64       \n",
            " 64  Electricity_11     87 non-null     float64       \n",
            " 65  PNGASEUUSDM_12     87 non-null     float64       \n",
            " 66  POILBREUSDM_12     87 non-null     float64       \n",
            " 67  PPOILUSDM_12       87 non-null     float64       \n",
            " 68  WPU0652013A_12     87 non-null     float64       \n",
            " 69  Electricity_12     87 non-null     float64       \n",
            " 70  AR_1               87 non-null     float64       \n",
            " 71  AR_2               87 non-null     float64       \n",
            " 72  AR_3               87 non-null     float64       \n",
            " 73  AR_4               87 non-null     float64       \n",
            " 74  AR_5               87 non-null     float64       \n",
            " 75  AR_6               87 non-null     float64       \n",
            " 76  AR_7               87 non-null     float64       \n",
            " 77  AR_8               87 non-null     float64       \n",
            " 78  AR_9               87 non-null     float64       \n",
            " 79  AR_10              87 non-null     float64       \n",
            " 80  AR_11              87 non-null     float64       \n",
            " 81  AR_12              87 non-null     float64       \n",
            "dtypes: bool(5), datetime64[ns](1), float64(73), int64(2), object(1)\n",
            "memory usage: 53.4+ KB\n",
            "None\n"
          ]
        }
      ]
    },
    {
      "cell_type": "markdown",
      "source": [
        "## 0002"
      ],
      "metadata": {
        "id": "BLChrejBEGVc"
      }
    },
    {
      "cell_type": "code",
      "source": [
        "feature_df = df_0002"
      ],
      "metadata": {
        "id": "TP20LbHMEGVc"
      },
      "execution_count": null,
      "outputs": []
    },
    {
      "cell_type": "markdown",
      "source": [
        "### 1-month prediction"
      ],
      "metadata": {
        "id": "1YEGYQ1-EGVc"
      }
    },
    {
      "cell_type": "code",
      "source": [
        "mape_values = []\n",
        "for start, end in test_periods:\n",
        "    mape = calculate_mape_1(start, end, 0.1)\n",
        "    mape_values.append(mape)\n",
        "    print(f\"MAPE from {start} to {end}: {mape:.1f}\")"
      ],
      "metadata": {
        "colab": {
          "base_uri": "https://localhost:8080/"
        },
        "outputId": "e0b09e18-183e-4e23-cc65-66afb4a0122f",
        "id": "gQ09-wNCEGVc"
      },
      "execution_count": null,
      "outputs": [
        {
          "output_type": "stream",
          "name": "stdout",
          "text": [
            "MAPE from 2019-01-01 to 2019-07-01: 5.3\n",
            "MAPE from 2019-07-01 to 2020-01-01: 12.7\n",
            "MAPE from 2020-01-01 to 2020-07-01: 10.6\n",
            "MAPE from 2020-07-01 to 2021-01-01: 9.5\n",
            "MAPE from 2021-01-01 to 2021-07-01: 31.3\n",
            "MAPE from 2021-07-01 to 2022-01-01: 23.3\n",
            "MAPE from 2022-01-01 to 2022-07-01: 23.3\n",
            "MAPE from 2022-07-01 to 2023-01-01: 4.4\n",
            "MAPE from 2023-01-01 to 2023-07-01: 17.9\n",
            "MAPE from 2023-07-01 to 2024-01-01: 11.6\n"
          ]
        }
      ]
    },
    {
      "cell_type": "code",
      "source": [
        "average_mape = np.mean(mape_values)\n",
        "print(f\"Average MAPE: {average_mape:.1f}\")"
      ],
      "metadata": {
        "colab": {
          "base_uri": "https://localhost:8080/"
        },
        "outputId": "3935bf1a-1c61-450a-a7c8-0e1cd5b7b966",
        "id": "tbhEkvmmEGVc"
      },
      "execution_count": null,
      "outputs": [
        {
          "output_type": "stream",
          "name": "stdout",
          "text": [
            "Average MAPE: 15.0\n"
          ]
        }
      ]
    },
    {
      "cell_type": "markdown",
      "source": [
        "### 3-month prediction\n"
      ],
      "metadata": {
        "id": "phAkocKAEGVc"
      }
    },
    {
      "cell_type": "code",
      "source": [
        "mape_values = []\n",
        "for start, end in test_periods:\n",
        "    mape = calculate_mape_3(start, end, 0.1)\n",
        "    mape_values.append(mape)\n",
        "    print(f\"MAPE from {start} to {end}: {mape:.1f}\")"
      ],
      "metadata": {
        "colab": {
          "base_uri": "https://localhost:8080/"
        },
        "outputId": "5129899f-927f-4ea5-9b7f-fd5cc0bcf6bd",
        "id": "LPYC2FlKEGVc"
      },
      "execution_count": null,
      "outputs": [
        {
          "output_type": "stream",
          "name": "stdout",
          "text": [
            "MAPE from 2019-01-01 to 2019-07-01: 6.0\n",
            "MAPE from 2019-07-01 to 2020-01-01: 13.2\n",
            "MAPE from 2020-01-01 to 2020-07-01: 10.7\n",
            "MAPE from 2020-07-01 to 2021-01-01: 11.0\n",
            "MAPE from 2021-01-01 to 2021-07-01: 23.4\n",
            "MAPE from 2021-07-01 to 2022-01-01: 26.0\n",
            "MAPE from 2022-01-01 to 2022-07-01: 27.0\n",
            "MAPE from 2022-07-01 to 2023-01-01: 4.6\n",
            "MAPE from 2023-01-01 to 2023-07-01: 19.2\n",
            "MAPE from 2023-07-01 to 2024-01-01: 11.3\n"
          ]
        }
      ]
    },
    {
      "cell_type": "code",
      "source": [
        "average_mape = np.mean(mape_values)\n",
        "print(f\"Average MAPE: {average_mape:.1f}\")"
      ],
      "metadata": {
        "colab": {
          "base_uri": "https://localhost:8080/"
        },
        "outputId": "1c777b08-0075-4dd2-fd33-fbd0b5b1ced4",
        "id": "Tf8ZY69REGVd"
      },
      "execution_count": null,
      "outputs": [
        {
          "output_type": "stream",
          "name": "stdout",
          "text": [
            "Average MAPE: 15.2\n"
          ]
        }
      ]
    },
    {
      "cell_type": "markdown",
      "source": [
        "### 6-month prediction"
      ],
      "metadata": {
        "id": "mvqpwWJ7EGVd"
      }
    },
    {
      "cell_type": "code",
      "source": [
        "mape_values = []\n",
        "for start, end in test_periods:\n",
        "    mape = calculate_mape_6(start, end, 0.2)\n",
        "    mape_values.append(mape)\n",
        "    print(f\"MAPE from {start} to {end}: {mape:.1f}\")"
      ],
      "metadata": {
        "colab": {
          "base_uri": "https://localhost:8080/"
        },
        "outputId": "55b423a1-6e90-4f7b-aaa2-6310f1fe6eda",
        "id": "JqbEUa2kEGVd"
      },
      "execution_count": null,
      "outputs": [
        {
          "output_type": "stream",
          "name": "stdout",
          "text": [
            "MAPE from 2019-01-01 to 2019-07-01: 5.9\n",
            "MAPE from 2019-07-01 to 2020-01-01: 12.3\n",
            "MAPE from 2020-01-01 to 2020-07-01: 13.2\n",
            "MAPE from 2020-07-01 to 2021-01-01: 11.7\n",
            "MAPE from 2021-01-01 to 2021-07-01: 23.7\n",
            "MAPE from 2021-07-01 to 2022-01-01: 30.2\n",
            "MAPE from 2022-01-01 to 2022-07-01: 26.8\n",
            "MAPE from 2022-07-01 to 2023-01-01: 12.5\n",
            "MAPE from 2023-01-01 to 2023-07-01: 16.1\n",
            "MAPE from 2023-07-01 to 2024-01-01: 7.6\n"
          ]
        }
      ]
    },
    {
      "cell_type": "code",
      "source": [
        "average_mape = np.mean(mape_values)\n",
        "print(f\"Average MAPE: {average_mape:.1f}\")"
      ],
      "metadata": {
        "colab": {
          "base_uri": "https://localhost:8080/"
        },
        "outputId": "e9648007-b968-4811-da12-af9f562574f2",
        "id": "BxmsdqW_EGVd"
      },
      "execution_count": null,
      "outputs": [
        {
          "output_type": "stream",
          "name": "stdout",
          "text": [
            "Average MAPE: 16.0\n"
          ]
        }
      ]
    },
    {
      "cell_type": "markdown",
      "source": [
        "## 0003"
      ],
      "metadata": {
        "id": "JuYy_DmfH2GO"
      }
    },
    {
      "cell_type": "code",
      "source": [
        "feature_df = df_0003"
      ],
      "metadata": {
        "id": "gGalWX2tH2GP"
      },
      "execution_count": null,
      "outputs": []
    },
    {
      "cell_type": "markdown",
      "source": [
        "### 1-month prediction"
      ],
      "metadata": {
        "id": "rzC6I3IUH2GP"
      }
    },
    {
      "cell_type": "code",
      "source": [
        "mape_values = []\n",
        "for start, end in test_periods:\n",
        "    mape = calculate_mape_1(start, end, 0.01)\n",
        "    mape_values.append(mape)\n",
        "    print(f\"MAPE from {start} to {end}: {mape:.1f}\")"
      ],
      "metadata": {
        "colab": {
          "base_uri": "https://localhost:8080/"
        },
        "outputId": "4749078e-d1c4-4fcf-8a63-0346f80dfadd",
        "id": "YnFApr4yH2GP"
      },
      "execution_count": null,
      "outputs": [
        {
          "output_type": "stream",
          "name": "stdout",
          "text": [
            "MAPE from 2019-01-01 to 2019-07-01: 3.2\n",
            "MAPE from 2019-07-01 to 2020-01-01: 7.0\n",
            "MAPE from 2020-01-01 to 2020-07-01: 8.3\n",
            "MAPE from 2020-07-01 to 2021-01-01: 10.5\n",
            "MAPE from 2021-01-01 to 2021-07-01: 6.8\n",
            "MAPE from 2021-07-01 to 2022-01-01: 7.8\n",
            "MAPE from 2022-01-01 to 2022-07-01: 15.9\n",
            "MAPE from 2022-07-01 to 2023-01-01: 5.9\n",
            "MAPE from 2023-01-01 to 2023-07-01: 8.1\n",
            "MAPE from 2023-07-01 to 2024-01-01: 3.9\n"
          ]
        }
      ]
    },
    {
      "cell_type": "code",
      "source": [
        "average_mape = np.mean(mape_values)\n",
        "print(f\"Average MAPE: {average_mape:.1f}\")"
      ],
      "metadata": {
        "colab": {
          "base_uri": "https://localhost:8080/"
        },
        "outputId": "e8d69e1f-5c93-4c78-f60e-5a99fd41b9e5",
        "id": "AIj1xoWBH2GP"
      },
      "execution_count": null,
      "outputs": [
        {
          "output_type": "stream",
          "name": "stdout",
          "text": [
            "Average MAPE: 7.7\n"
          ]
        }
      ]
    },
    {
      "cell_type": "markdown",
      "source": [
        "### 3-month prediction\n"
      ],
      "metadata": {
        "id": "8v-4_etqH2GP"
      }
    },
    {
      "cell_type": "code",
      "source": [
        "mape_values = []\n",
        "for start, end in test_periods:\n",
        "    mape = calculate_mape_3(start, end, 0.05)\n",
        "    mape_values.append(mape)\n",
        "    print(f\"MAPE from {start} to {end}: {mape:.1f}\")"
      ],
      "metadata": {
        "colab": {
          "base_uri": "https://localhost:8080/"
        },
        "outputId": "91b80e03-6f19-4948-bd31-daa242631a9c",
        "id": "yLz4P8DSH2GP"
      },
      "execution_count": null,
      "outputs": [
        {
          "output_type": "stream",
          "name": "stdout",
          "text": [
            "MAPE from 2019-01-01 to 2019-07-01: 3.0\n",
            "MAPE from 2019-07-01 to 2020-01-01: 7.0\n",
            "MAPE from 2020-01-01 to 2020-07-01: 9.7\n",
            "MAPE from 2020-07-01 to 2021-01-01: 6.3\n",
            "MAPE from 2021-01-01 to 2021-07-01: 6.6\n",
            "MAPE from 2021-07-01 to 2022-01-01: 8.8\n",
            "MAPE from 2022-01-01 to 2022-07-01: 20.7\n",
            "MAPE from 2022-07-01 to 2023-01-01: 4.9\n",
            "MAPE from 2023-01-01 to 2023-07-01: 10.8\n",
            "MAPE from 2023-07-01 to 2024-01-01: 4.5\n"
          ]
        }
      ]
    },
    {
      "cell_type": "code",
      "source": [
        "average_mape = np.mean(mape_values)\n",
        "print(f\"Average MAPE: {average_mape:.1f}\")"
      ],
      "metadata": {
        "colab": {
          "base_uri": "https://localhost:8080/"
        },
        "outputId": "818f0c4a-d604-4f4a-aed4-28664acd9ee3",
        "id": "6alvYnFtH2GP"
      },
      "execution_count": null,
      "outputs": [
        {
          "output_type": "stream",
          "name": "stdout",
          "text": [
            "Average MAPE: 8.2\n"
          ]
        }
      ]
    },
    {
      "cell_type": "markdown",
      "source": [
        "### 6-month prediction"
      ],
      "metadata": {
        "id": "fr7CWNw7H2GQ"
      }
    },
    {
      "cell_type": "code",
      "source": [
        "mape_values = []\n",
        "for start, end in test_periods:\n",
        "    mape = calculate_mape_6(start, end, 0.01)\n",
        "    mape_values.append(mape)\n",
        "    print(f\"MAPE from {start} to {end}: {mape:.1f}\")"
      ],
      "metadata": {
        "colab": {
          "base_uri": "https://localhost:8080/"
        },
        "outputId": "6eb90406-4597-42e4-9875-17a822dbf367",
        "id": "QzQDNEHaH2GQ"
      },
      "execution_count": null,
      "outputs": [
        {
          "output_type": "stream",
          "name": "stdout",
          "text": [
            "MAPE from 2019-01-01 to 2019-07-01: 4.3\n",
            "MAPE from 2019-07-01 to 2020-01-01: 7.5\n",
            "MAPE from 2020-01-01 to 2020-07-01: 14.8\n",
            "MAPE from 2020-07-01 to 2021-01-01: 9.6\n",
            "MAPE from 2021-01-01 to 2021-07-01: 7.1\n",
            "MAPE from 2021-07-01 to 2022-01-01: 10.6\n",
            "MAPE from 2022-01-01 to 2022-07-01: 25.8\n",
            "MAPE from 2022-07-01 to 2023-01-01: 13.8\n",
            "MAPE from 2023-01-01 to 2023-07-01: 16.9\n",
            "MAPE from 2023-07-01 to 2024-01-01: 8.1\n"
          ]
        }
      ]
    },
    {
      "cell_type": "code",
      "source": [
        "average_mape = np.mean(mape_values)\n",
        "print(f\"Average MAPE: {average_mape:.1f}\")"
      ],
      "metadata": {
        "colab": {
          "base_uri": "https://localhost:8080/"
        },
        "outputId": "030366c2-38d3-48a3-907c-9c9b6cd723dc",
        "id": "jcyzWwQVH2GQ"
      },
      "execution_count": null,
      "outputs": [
        {
          "output_type": "stream",
          "name": "stdout",
          "text": [
            "Average MAPE: 11.8\n"
          ]
        }
      ]
    },
    {
      "cell_type": "markdown",
      "source": [
        "## 0005"
      ],
      "metadata": {
        "id": "MMMugzIyH2qf"
      }
    },
    {
      "cell_type": "code",
      "source": [
        "feature_df = df_0005"
      ],
      "metadata": {
        "id": "eybqxFJ9H2qf"
      },
      "execution_count": null,
      "outputs": []
    },
    {
      "cell_type": "markdown",
      "source": [
        "### 1-month prediction"
      ],
      "metadata": {
        "id": "7NRxxwELH2qf"
      }
    },
    {
      "cell_type": "code",
      "source": [
        "mape_values = []\n",
        "for start, end in test_periods:\n",
        "    mape = calculate_mape_1(start, end, 0.1)\n",
        "    mape_values.append(mape)\n",
        "    print(f\"MAPE from {start} to {end}: {mape:.1f}\")"
      ],
      "metadata": {
        "colab": {
          "base_uri": "https://localhost:8080/"
        },
        "outputId": "f1723968-9a81-4f41-ad3d-1582d511586f",
        "id": "RstSfFzlH2qg"
      },
      "execution_count": null,
      "outputs": [
        {
          "output_type": "stream",
          "name": "stdout",
          "text": [
            "MAPE from 2019-01-01 to 2019-07-01: 5.7\n",
            "MAPE from 2019-07-01 to 2020-01-01: 10.4\n",
            "MAPE from 2020-01-01 to 2020-07-01: 6.7\n",
            "MAPE from 2020-07-01 to 2021-01-01: 11.7\n",
            "MAPE from 2021-01-01 to 2021-07-01: 8.4\n",
            "MAPE from 2021-07-01 to 2022-01-01: 7.1\n",
            "MAPE from 2022-01-01 to 2022-07-01: 14.9\n",
            "MAPE from 2022-07-01 to 2023-01-01: 7.8\n",
            "MAPE from 2023-01-01 to 2023-07-01: 7.1\n",
            "MAPE from 2023-07-01 to 2024-01-01: 4.4\n"
          ]
        }
      ]
    },
    {
      "cell_type": "code",
      "source": [
        "average_mape = np.mean(mape_values)\n",
        "print(f\"Average MAPE: {average_mape:.1f}\")"
      ],
      "metadata": {
        "colab": {
          "base_uri": "https://localhost:8080/"
        },
        "outputId": "ea0e248c-0620-44a8-a81a-0393442ac75e",
        "id": "7XCvlBlKH2qg"
      },
      "execution_count": null,
      "outputs": [
        {
          "output_type": "stream",
          "name": "stdout",
          "text": [
            "Average MAPE: 8.4\n"
          ]
        }
      ]
    },
    {
      "cell_type": "markdown",
      "source": [
        "### 3-month prediction\n"
      ],
      "metadata": {
        "id": "HS0Q6FmyH2qg"
      }
    },
    {
      "cell_type": "code",
      "source": [
        "mape_values = []\n",
        "for start, end in test_periods:\n",
        "    mape = calculate_mape_3(start, end, 0.2)\n",
        "    mape_values.append(mape)\n",
        "    print(f\"MAPE from {start} to {end}: {mape:.1f}\")"
      ],
      "metadata": {
        "colab": {
          "base_uri": "https://localhost:8080/"
        },
        "outputId": "8a1459b7-3259-48d3-f4f8-cd31d1f9ff6f",
        "id": "-213HPnUH2qg"
      },
      "execution_count": null,
      "outputs": [
        {
          "output_type": "stream",
          "name": "stdout",
          "text": [
            "MAPE from 2019-01-01 to 2019-07-01: 6.6\n",
            "MAPE from 2019-07-01 to 2020-01-01: 11.7\n",
            "MAPE from 2020-01-01 to 2020-07-01: 8.6\n",
            "MAPE from 2020-07-01 to 2021-01-01: 12.2\n",
            "MAPE from 2021-01-01 to 2021-07-01: 8.0\n",
            "MAPE from 2021-07-01 to 2022-01-01: 8.1\n",
            "MAPE from 2022-01-01 to 2022-07-01: 19.3\n",
            "MAPE from 2022-07-01 to 2023-01-01: 11.9\n",
            "MAPE from 2023-01-01 to 2023-07-01: 8.7\n",
            "MAPE from 2023-07-01 to 2024-01-01: 5.7\n"
          ]
        }
      ]
    },
    {
      "cell_type": "code",
      "source": [
        "average_mape = np.mean(mape_values)\n",
        "print(f\"Average MAPE: {average_mape:.1f}\")"
      ],
      "metadata": {
        "colab": {
          "base_uri": "https://localhost:8080/"
        },
        "outputId": "e2b79632-0f2b-4653-ab6d-b48e8ba07e07",
        "id": "gkpzKa5sH2qg"
      },
      "execution_count": null,
      "outputs": [
        {
          "output_type": "stream",
          "name": "stdout",
          "text": [
            "Average MAPE: 10.1\n"
          ]
        }
      ]
    },
    {
      "cell_type": "markdown",
      "source": [
        "### 6-month prediction"
      ],
      "metadata": {
        "id": "nfqxJkeRH2qg"
      }
    },
    {
      "cell_type": "code",
      "source": [
        "mape_values = []\n",
        "for start, end in test_periods:\n",
        "    mape = calculate_mape_6(start, end, 0.3)\n",
        "    mape_values.append(mape)\n",
        "    print(f\"MAPE from {start} to {end}: {mape:.1f}\")"
      ],
      "metadata": {
        "colab": {
          "base_uri": "https://localhost:8080/"
        },
        "outputId": "47543867-d016-40f7-a0c1-e1212050d351",
        "id": "uj4ioYACH2qg"
      },
      "execution_count": null,
      "outputs": [
        {
          "output_type": "stream",
          "name": "stdout",
          "text": [
            "MAPE from 2019-01-01 to 2019-07-01: 8.2\n",
            "MAPE from 2019-07-01 to 2020-01-01: 11.7\n",
            "MAPE from 2020-01-01 to 2020-07-01: 8.7\n",
            "MAPE from 2020-07-01 to 2021-01-01: 13.3\n",
            "MAPE from 2021-01-01 to 2021-07-01: 8.6\n",
            "MAPE from 2021-07-01 to 2022-01-01: 8.2\n",
            "MAPE from 2022-01-01 to 2022-07-01: 21.9\n",
            "MAPE from 2022-07-01 to 2023-01-01: 24.1\n",
            "MAPE from 2023-01-01 to 2023-07-01: 4.8\n",
            "MAPE from 2023-07-01 to 2024-01-01: 5.4\n"
          ]
        }
      ]
    },
    {
      "cell_type": "code",
      "source": [
        "average_mape = np.mean(mape_values)\n",
        "print(f\"Average MAPE: {average_mape:.1f}\")"
      ],
      "metadata": {
        "colab": {
          "base_uri": "https://localhost:8080/"
        },
        "outputId": "8395686b-92bc-4456-f3cc-0efd55d06685",
        "id": "9XEmXQHxH2qg"
      },
      "execution_count": null,
      "outputs": [
        {
          "output_type": "stream",
          "name": "stdout",
          "text": [
            "Average MAPE: 11.5\n"
          ]
        }
      ]
    },
    {
      "cell_type": "markdown",
      "source": [
        "## 0008"
      ],
      "metadata": {
        "id": "FAsUcnyZH3qq"
      }
    },
    {
      "cell_type": "code",
      "source": [
        "feature_df = df_0008"
      ],
      "metadata": {
        "id": "8JdDvlPpH3qq"
      },
      "execution_count": null,
      "outputs": []
    },
    {
      "cell_type": "markdown",
      "source": [
        "### 1-month prediction"
      ],
      "metadata": {
        "id": "RDpOE6AyH3qr"
      }
    },
    {
      "cell_type": "code",
      "source": [
        "mape_values = []\n",
        "for start, end in test_periods:\n",
        "    mape = calculate_mape_1(start, end, 0.2)\n",
        "    mape_values.append(mape)\n",
        "    print(f\"MAPE from {start} to {end}: {mape:.1f}\")"
      ],
      "metadata": {
        "colab": {
          "base_uri": "https://localhost:8080/"
        },
        "outputId": "69723204-8b2b-48ab-949f-319d1fa24b26",
        "id": "x_RR8EEcH3qr"
      },
      "execution_count": null,
      "outputs": [
        {
          "output_type": "stream",
          "name": "stdout",
          "text": [
            "MAPE from 2019-01-01 to 2019-07-01: 15.7\n",
            "MAPE from 2019-07-01 to 2020-01-01: 15.4\n",
            "MAPE from 2020-01-01 to 2020-07-01: 15.5\n",
            "MAPE from 2020-07-01 to 2021-01-01: 20.4\n",
            "MAPE from 2021-01-01 to 2021-07-01: 16.5\n",
            "MAPE from 2021-07-01 to 2022-01-01: 11.2\n",
            "MAPE from 2022-01-01 to 2022-07-01: 13.7\n",
            "MAPE from 2022-07-01 to 2023-01-01: 12.8\n",
            "MAPE from 2023-01-01 to 2023-07-01: 2.5\n",
            "MAPE from 2023-07-01 to 2024-01-01: 6.2\n"
          ]
        }
      ]
    },
    {
      "cell_type": "code",
      "source": [
        "average_mape = np.mean(mape_values)\n",
        "print(f\"Average MAPE: {average_mape:.1f}\")"
      ],
      "metadata": {
        "colab": {
          "base_uri": "https://localhost:8080/"
        },
        "outputId": "4d004905-5a8c-4627-c22d-480bc47e0f62",
        "id": "egIOYWs2H3qr"
      },
      "execution_count": null,
      "outputs": [
        {
          "output_type": "stream",
          "name": "stdout",
          "text": [
            "Average MAPE: 13.0\n"
          ]
        }
      ]
    },
    {
      "cell_type": "markdown",
      "source": [
        "### 3-month prediction\n"
      ],
      "metadata": {
        "id": "9x-Z2xo3H3qr"
      }
    },
    {
      "cell_type": "code",
      "source": [
        "mape_values = []\n",
        "for start, end in test_periods:\n",
        "    mape = calculate_mape_3(start, end, 0.2)\n",
        "    mape_values.append(mape)\n",
        "    print(f\"MAPE from {start} to {end}: {mape:.1f}\")"
      ],
      "metadata": {
        "colab": {
          "base_uri": "https://localhost:8080/"
        },
        "outputId": "e7d03848-3922-4a97-d08c-9814ecf86e6a",
        "id": "wk-y7XjNH3qr"
      },
      "execution_count": null,
      "outputs": [
        {
          "output_type": "stream",
          "name": "stdout",
          "text": [
            "MAPE from 2019-01-01 to 2019-07-01: 15.4\n",
            "MAPE from 2019-07-01 to 2020-01-01: 14.5\n",
            "MAPE from 2020-01-01 to 2020-07-01: 15.5\n",
            "MAPE from 2020-07-01 to 2021-01-01: 20.4\n",
            "MAPE from 2021-01-01 to 2021-07-01: 16.5\n",
            "MAPE from 2021-07-01 to 2022-01-01: 11.2\n",
            "MAPE from 2022-01-01 to 2022-07-01: 13.7\n",
            "MAPE from 2022-07-01 to 2023-01-01: 12.8\n",
            "MAPE from 2023-01-01 to 2023-07-01: 2.5\n",
            "MAPE from 2023-07-01 to 2024-01-01: 6.2\n"
          ]
        }
      ]
    },
    {
      "cell_type": "code",
      "source": [
        "average_mape = np.mean(mape_values)\n",
        "print(f\"Average MAPE: {average_mape:.1f}\")"
      ],
      "metadata": {
        "colab": {
          "base_uri": "https://localhost:8080/"
        },
        "outputId": "142957f1-9a03-4adb-eff0-9a6785d9f31f",
        "id": "sNv6dWCMH3qs"
      },
      "execution_count": null,
      "outputs": [
        {
          "output_type": "stream",
          "name": "stdout",
          "text": [
            "Average MAPE: 12.9\n"
          ]
        }
      ]
    },
    {
      "cell_type": "markdown",
      "source": [
        "### 6-month prediction"
      ],
      "metadata": {
        "id": "ELoDh_qFH3qs"
      }
    },
    {
      "cell_type": "code",
      "source": [
        "mape_values = []\n",
        "for start, end in test_periods:\n",
        "    mape = calculate_mape_6(start, end, 0.2)\n",
        "    mape_values.append(mape)\n",
        "    print(f\"MAPE from {start} to {end}: {mape:.1f}\")"
      ],
      "metadata": {
        "colab": {
          "base_uri": "https://localhost:8080/"
        },
        "outputId": "0405d77d-2503-4060-8fc3-4d9f2fda100e",
        "id": "819ayIY8H3qs"
      },
      "execution_count": null,
      "outputs": [
        {
          "output_type": "stream",
          "name": "stdout",
          "text": [
            "MAPE from 2019-01-01 to 2019-07-01: 15.4\n",
            "MAPE from 2019-07-01 to 2020-01-01: 15.2\n",
            "MAPE from 2020-01-01 to 2020-07-01: 17.0\n",
            "MAPE from 2020-07-01 to 2021-01-01: 19.4\n",
            "MAPE from 2021-01-01 to 2021-07-01: 14.9\n",
            "MAPE from 2021-07-01 to 2022-01-01: 12.1\n",
            "MAPE from 2022-01-01 to 2022-07-01: 14.3\n",
            "MAPE from 2022-07-01 to 2023-01-01: 16.7\n",
            "MAPE from 2023-01-01 to 2023-07-01: 3.9\n",
            "MAPE from 2023-07-01 to 2024-01-01: 5.9\n"
          ]
        }
      ]
    },
    {
      "cell_type": "code",
      "source": [
        "average_mape = np.mean(mape_values)\n",
        "print(f\"Average MAPE: {average_mape:.1f}\")"
      ],
      "metadata": {
        "colab": {
          "base_uri": "https://localhost:8080/"
        },
        "outputId": "47c4f071-6dae-4c73-9f09-259b4ff67a66",
        "id": "HoIo3aOxH3qs"
      },
      "execution_count": null,
      "outputs": [
        {
          "output_type": "stream",
          "name": "stdout",
          "text": [
            "Average MAPE: 13.5\n"
          ]
        }
      ]
    },
    {
      "cell_type": "markdown",
      "source": [
        "## 0012"
      ],
      "metadata": {
        "id": "4m7diUL9H4ED"
      }
    },
    {
      "cell_type": "code",
      "source": [
        "feature_df = df_0012"
      ],
      "metadata": {
        "id": "jo3Ont6GH4ED"
      },
      "execution_count": null,
      "outputs": []
    },
    {
      "cell_type": "markdown",
      "source": [
        "### 1-month prediction"
      ],
      "metadata": {
        "id": "F81FcWhWH4EE"
      }
    },
    {
      "cell_type": "code",
      "source": [
        "mape_values = []\n",
        "for start, end in test_periods:\n",
        "    mape = calculate_mape_1(start, end, 0.2)\n",
        "    mape_values.append(mape)\n",
        "    print(f\"MAPE from {start} to {end}: {mape:.1f}\")"
      ],
      "metadata": {
        "colab": {
          "base_uri": "https://localhost:8080/"
        },
        "outputId": "e28326b5-990d-4659-c612-5af5ea61bfa4",
        "id": "KMlhahT9H4EE"
      },
      "execution_count": null,
      "outputs": [
        {
          "output_type": "stream",
          "name": "stdout",
          "text": [
            "MAPE from 2019-01-01 to 2019-07-01: 4.4\n",
            "MAPE from 2019-07-01 to 2020-01-01: 7.9\n",
            "MAPE from 2020-01-01 to 2020-07-01: 4.5\n",
            "MAPE from 2020-07-01 to 2021-01-01: 9.6\n",
            "MAPE from 2021-01-01 to 2021-07-01: 6.6\n",
            "MAPE from 2021-07-01 to 2022-01-01: 2.5\n",
            "MAPE from 2022-01-01 to 2022-07-01: 30.3\n",
            "MAPE from 2022-07-01 to 2023-01-01: 30.0\n",
            "MAPE from 2023-01-01 to 2023-07-01: 8.8\n",
            "MAPE from 2023-07-01 to 2024-01-01: 12.9\n"
          ]
        }
      ]
    },
    {
      "cell_type": "code",
      "source": [
        "average_mape = np.mean(mape_values)\n",
        "print(f\"Average MAPE: {average_mape:.1f}\")"
      ],
      "metadata": {
        "colab": {
          "base_uri": "https://localhost:8080/"
        },
        "outputId": "62a6c6a2-4569-4059-cb1e-447887453f9a",
        "id": "EZ2vKe6DH4EE"
      },
      "execution_count": null,
      "outputs": [
        {
          "output_type": "stream",
          "name": "stdout",
          "text": [
            "Average MAPE: 11.8\n"
          ]
        }
      ]
    },
    {
      "cell_type": "markdown",
      "source": [
        "### 3-month prediction\n"
      ],
      "metadata": {
        "id": "RwXvYGCOH4EE"
      }
    },
    {
      "cell_type": "code",
      "source": [
        "mape_values = []\n",
        "for start, end in test_periods:\n",
        "    mape = calculate_mape_3(start, end, 0.2)\n",
        "    mape_values.append(mape)\n",
        "    print(f\"MAPE from {start} to {end}: {mape:.1f}\")"
      ],
      "metadata": {
        "colab": {
          "base_uri": "https://localhost:8080/"
        },
        "outputId": "f9645256-192e-4a87-85c2-31ea7d1bf8f8",
        "id": "BFZTHZbuH4EE"
      },
      "execution_count": null,
      "outputs": [
        {
          "output_type": "stream",
          "name": "stdout",
          "text": [
            "MAPE from 2019-01-01 to 2019-07-01: 5.1\n",
            "MAPE from 2019-07-01 to 2020-01-01: 6.6\n",
            "MAPE from 2020-01-01 to 2020-07-01: 4.8\n",
            "MAPE from 2020-07-01 to 2021-01-01: 11.8\n",
            "MAPE from 2021-01-01 to 2021-07-01: 7.0\n",
            "MAPE from 2021-07-01 to 2022-01-01: 2.8\n",
            "MAPE from 2022-01-01 to 2022-07-01: 35.4\n",
            "MAPE from 2022-07-01 to 2023-01-01: 48.5\n",
            "MAPE from 2023-01-01 to 2023-07-01: 8.1\n",
            "MAPE from 2023-07-01 to 2024-01-01: 8.7\n"
          ]
        }
      ]
    },
    {
      "cell_type": "code",
      "source": [
        "average_mape = np.mean(mape_values)\n",
        "print(f\"Average MAPE: {average_mape:.1f}\")"
      ],
      "metadata": {
        "colab": {
          "base_uri": "https://localhost:8080/"
        },
        "outputId": "4ba2c8f6-4faa-420b-af66-556f4cf7acee",
        "id": "DDGnOl9ZH4EF"
      },
      "execution_count": null,
      "outputs": [
        {
          "output_type": "stream",
          "name": "stdout",
          "text": [
            "Average MAPE: 13.9\n"
          ]
        }
      ]
    },
    {
      "cell_type": "markdown",
      "source": [
        "### 6-month prediction"
      ],
      "metadata": {
        "id": "jVUvhWKHH4EF"
      }
    },
    {
      "cell_type": "code",
      "source": [
        "mape_values = []\n",
        "for start, end in test_periods:\n",
        "    mape = calculate_mape_6(start, end, 0.2)\n",
        "    mape_values.append(mape)\n",
        "    print(f\"MAPE from {start} to {end}: {mape:.1f}\")"
      ],
      "metadata": {
        "colab": {
          "base_uri": "https://localhost:8080/"
        },
        "outputId": "5ced08ab-1e8d-4886-d17f-d987368a2e0d",
        "id": "UJ7mOB2iH4EF"
      },
      "execution_count": null,
      "outputs": [
        {
          "output_type": "stream",
          "name": "stdout",
          "text": [
            "MAPE from 2019-01-01 to 2019-07-01: 5.1\n",
            "MAPE from 2019-07-01 to 2020-01-01: 6.6\n",
            "MAPE from 2020-01-01 to 2020-07-01: 4.8\n",
            "MAPE from 2020-07-01 to 2021-01-01: 11.8\n",
            "MAPE from 2021-01-01 to 2021-07-01: 7.0\n",
            "MAPE from 2021-07-01 to 2022-01-01: 2.8\n",
            "MAPE from 2022-01-01 to 2022-07-01: 35.4\n",
            "MAPE from 2022-07-01 to 2023-01-01: 48.5\n",
            "MAPE from 2023-01-01 to 2023-07-01: 8.6\n",
            "MAPE from 2023-07-01 to 2024-01-01: 9.0\n"
          ]
        }
      ]
    },
    {
      "cell_type": "code",
      "source": [
        "average_mape = np.mean(mape_values)\n",
        "print(f\"Average MAPE: {average_mape:.1f}\")"
      ],
      "metadata": {
        "colab": {
          "base_uri": "https://localhost:8080/"
        },
        "outputId": "f471556a-0d97-4c05-f339-ab960bc0ce1c",
        "id": "kjqzz-i9H4EF"
      },
      "execution_count": null,
      "outputs": [
        {
          "output_type": "stream",
          "name": "stdout",
          "text": [
            "Average MAPE: 14.0\n"
          ]
        }
      ]
    },
    {
      "cell_type": "markdown",
      "source": [
        "# Builder"
      ],
      "metadata": {
        "id": "QRBEty--EGpW"
      }
    },
    {
      "cell_type": "code",
      "source": [
        "feature_df = pd.read_csv('/content/drive/MyDrive/Colab Notebooks/Thesis/dataframe/builder_feature.csv',index_col=0)\n",
        "feature_df['Time'] = pd.to_datetime(feature_df['Time'])\n",
        "print(feature_df)"
      ],
      "metadata": {
        "colab": {
          "base_uri": "https://localhost:8080/"
        },
        "outputId": "394d3bee-523f-4e68-8756-6734456741d0",
        "id": "YdSTU91fEGpX"
      },
      "execution_count": null,
      "outputs": [
        {
          "output_type": "stream",
          "name": "stdout",
          "text": [
            "     RM20/0001  RM20/0015  RM20/0020  Year  Month       Time  \\\n",
            "14       False      False       True  2016      1 2016-01-31   \n",
            "15       False      False       True  2016      2 2016-02-29   \n",
            "16       False      False       True  2016      3 2016-03-31   \n",
            "17       False      False       True  2016      4 2016-04-30   \n",
            "18       False      False       True  2016      5 2016-05-31   \n",
            "..         ...        ...        ...   ...    ...        ...   \n",
            "323       True      False      False  2023      8 2023-08-25   \n",
            "324       True      False      False  2023      9 2023-09-30   \n",
            "325       True      False      False  2023     10 2023-10-31   \n",
            "326       True      False      False  2023     11 2023-11-30   \n",
            "327       True      False      False  2023     12 2023-12-29   \n",
            "\n",
            "    Group Description  Average_price  WPU01130232_1  PMAIZMTUSDM_1  ...  \\\n",
            "14            builder       0.725000        142.400     164.004402  ...   \n",
            "15            builder       0.806851        150.600     161.098877  ...   \n",
            "16            builder       0.761667        150.600     159.716845  ...   \n",
            "17            builder       0.663333        150.600     159.226532  ...   \n",
            "18            builder       0.640000        150.600     164.465402  ...   \n",
            "..                ...            ...            ...            ...  ...   \n",
            "323           builder       1.844731        122.242     235.271947  ...   \n",
            "324           builder       1.668692        116.042     207.675889  ...   \n",
            "325           builder       1.707587        116.484     223.847666  ...   \n",
            "326           builder       1.789516        128.222     221.902519  ...   \n",
            "327           builder       1.527896        131.765     209.040297  ...   \n",
            "\n",
            "         AR_3      AR_4      AR_5      AR_6      AR_7      AR_8      AR_9  \\\n",
            "14   0.815000  0.767500  0.777500  0.803750  0.735000  0.760000  0.790000   \n",
            "15   0.750000  0.815000  0.767500  0.777500  0.803750  0.735000  0.760000   \n",
            "16   0.880000  0.750000  0.815000  0.767500  0.777500  0.803750  0.735000   \n",
            "17   0.725000  0.880000  0.750000  0.815000  0.767500  0.777500  0.803750   \n",
            "18   0.806851  0.725000  0.880000  0.750000  0.815000  0.767500  0.777500   \n",
            "..        ...       ...       ...       ...       ...       ...       ...   \n",
            "323  1.894310  1.989148  2.567967  2.110606  2.076072  2.865824  2.174664   \n",
            "324  1.827170  1.894310  1.989148  2.567967  2.110606  2.076072  2.865824   \n",
            "325  1.754934  1.827170  1.894310  1.989148  2.567967  2.110606  2.076072   \n",
            "326  1.844731  1.754934  1.827170  1.894310  1.989148  2.567967  2.110606   \n",
            "327  1.668692  1.844731  1.754934  1.827170  1.894310  1.989148  2.567967   \n",
            "\n",
            "        AR_10     AR_11     AR_12  \n",
            "14   0.865000  0.800000  0.830000  \n",
            "15   0.790000  0.865000  0.800000  \n",
            "16   0.760000  0.790000  0.865000  \n",
            "17   0.735000  0.760000  0.790000  \n",
            "18   0.803750  0.735000  0.760000  \n",
            "..        ...       ...       ...  \n",
            "323  2.512190  2.332090  2.747803  \n",
            "324  2.174664  2.512190  2.332090  \n",
            "325  2.865824  2.174664  2.512190  \n",
            "326  2.076072  2.865824  2.174664  \n",
            "327  2.110606  2.076072  2.865824  \n",
            "\n",
            "[282 rows x 68 columns]\n"
          ]
        }
      ]
    },
    {
      "cell_type": "code",
      "source": [
        "df_0001 = feature_df[feature_df['RM20/0001'] == 1]\n",
        "print(df_0001.info())"
      ],
      "metadata": {
        "colab": {
          "base_uri": "https://localhost:8080/"
        },
        "outputId": "153e75bd-5a17-4d05-9a6e-3ff745660a48",
        "id": "5lpYLm3bEGpX"
      },
      "execution_count": null,
      "outputs": [
        {
          "output_type": "stream",
          "name": "stdout",
          "text": [
            "<class 'pandas.core.frame.DataFrame'>\n",
            "Index: 94 entries, 232 to 327\n",
            "Data columns (total 68 columns):\n",
            " #   Column             Non-Null Count  Dtype         \n",
            "---  ------             --------------  -----         \n",
            " 0   RM20/0001          94 non-null     bool          \n",
            " 1   RM20/0015          94 non-null     bool          \n",
            " 2   RM20/0020          94 non-null     bool          \n",
            " 3   Year               94 non-null     int64         \n",
            " 4   Month              94 non-null     int64         \n",
            " 5   Time               94 non-null     datetime64[ns]\n",
            " 6   Group Description  94 non-null     object        \n",
            " 7   Average_price      94 non-null     float64       \n",
            " 8   WPU01130232_1      94 non-null     float64       \n",
            " 9   PMAIZMTUSDM_1      94 non-null     float64       \n",
            " 10  WPU07110224_1      94 non-null     float64       \n",
            " 11  WPU065202_1        94 non-null     float64       \n",
            " 12  WPU01130232_2      94 non-null     float64       \n",
            " 13  PMAIZMTUSDM_2      94 non-null     float64       \n",
            " 14  WPU07110224_2      94 non-null     float64       \n",
            " 15  WPU065202_2        94 non-null     float64       \n",
            " 16  WPU01130232_3      94 non-null     float64       \n",
            " 17  PMAIZMTUSDM_3      94 non-null     float64       \n",
            " 18  WPU07110224_3      94 non-null     float64       \n",
            " 19  WPU065202_3        94 non-null     float64       \n",
            " 20  WPU01130232_4      94 non-null     float64       \n",
            " 21  PMAIZMTUSDM_4      94 non-null     float64       \n",
            " 22  WPU07110224_4      94 non-null     float64       \n",
            " 23  WPU065202_4        94 non-null     float64       \n",
            " 24  WPU01130232_5      94 non-null     float64       \n",
            " 25  PMAIZMTUSDM_5      94 non-null     float64       \n",
            " 26  WPU07110224_5      94 non-null     float64       \n",
            " 27  WPU065202_5        94 non-null     float64       \n",
            " 28  WPU01130232_6      94 non-null     float64       \n",
            " 29  PMAIZMTUSDM_6      94 non-null     float64       \n",
            " 30  WPU07110224_6      94 non-null     float64       \n",
            " 31  WPU065202_6        94 non-null     float64       \n",
            " 32  WPU01130232_7      94 non-null     float64       \n",
            " 33  PMAIZMTUSDM_7      94 non-null     float64       \n",
            " 34  WPU07110224_7      94 non-null     float64       \n",
            " 35  WPU065202_7        94 non-null     float64       \n",
            " 36  WPU01130232_8      94 non-null     float64       \n",
            " 37  PMAIZMTUSDM_8      94 non-null     float64       \n",
            " 38  WPU07110224_8      94 non-null     float64       \n",
            " 39  WPU065202_8        94 non-null     float64       \n",
            " 40  WPU01130232_9      94 non-null     float64       \n",
            " 41  PMAIZMTUSDM_9      94 non-null     float64       \n",
            " 42  WPU07110224_9      94 non-null     float64       \n",
            " 43  WPU065202_9        94 non-null     float64       \n",
            " 44  WPU01130232_10     94 non-null     float64       \n",
            " 45  PMAIZMTUSDM_10     94 non-null     float64       \n",
            " 46  WPU07110224_10     94 non-null     float64       \n",
            " 47  WPU065202_10       94 non-null     float64       \n",
            " 48  WPU01130232_11     94 non-null     float64       \n",
            " 49  PMAIZMTUSDM_11     94 non-null     float64       \n",
            " 50  WPU07110224_11     94 non-null     float64       \n",
            " 51  WPU065202_11       94 non-null     float64       \n",
            " 52  WPU01130232_12     94 non-null     float64       \n",
            " 53  PMAIZMTUSDM_12     94 non-null     float64       \n",
            " 54  WPU07110224_12     94 non-null     float64       \n",
            " 55  WPU065202_12       94 non-null     float64       \n",
            " 56  AR_1               94 non-null     float64       \n",
            " 57  AR_2               94 non-null     float64       \n",
            " 58  AR_3               94 non-null     float64       \n",
            " 59  AR_4               94 non-null     float64       \n",
            " 60  AR_5               94 non-null     float64       \n",
            " 61  AR_6               94 non-null     float64       \n",
            " 62  AR_7               94 non-null     float64       \n",
            " 63  AR_8               94 non-null     float64       \n",
            " 64  AR_9               94 non-null     float64       \n",
            " 65  AR_10              94 non-null     float64       \n",
            " 66  AR_11              94 non-null     float64       \n",
            " 67  AR_12              94 non-null     float64       \n",
            "dtypes: bool(3), datetime64[ns](1), float64(61), int64(2), object(1)\n",
            "memory usage: 48.7+ KB\n",
            "None\n"
          ]
        }
      ]
    },
    {
      "cell_type": "code",
      "source": [
        "df_0015 = feature_df[feature_df['RM20/0015'] == 1]\n",
        "print(df_0015.info())"
      ],
      "metadata": {
        "colab": {
          "base_uri": "https://localhost:8080/"
        },
        "outputId": "2c743546-6d84-4ec0-8bea-2f174e9f7257",
        "id": "gbYCq9xGEGpX"
      },
      "execution_count": null,
      "outputs": [
        {
          "output_type": "stream",
          "name": "stdout",
          "text": [
            "<class 'pandas.core.frame.DataFrame'>\n",
            "Index: 93 entries, 122 to 217\n",
            "Data columns (total 68 columns):\n",
            " #   Column             Non-Null Count  Dtype         \n",
            "---  ------             --------------  -----         \n",
            " 0   RM20/0001          93 non-null     bool          \n",
            " 1   RM20/0015          93 non-null     bool          \n",
            " 2   RM20/0020          93 non-null     bool          \n",
            " 3   Year               93 non-null     int64         \n",
            " 4   Month              93 non-null     int64         \n",
            " 5   Time               93 non-null     datetime64[ns]\n",
            " 6   Group Description  93 non-null     object        \n",
            " 7   Average_price      93 non-null     float64       \n",
            " 8   WPU01130232_1      93 non-null     float64       \n",
            " 9   PMAIZMTUSDM_1      93 non-null     float64       \n",
            " 10  WPU07110224_1      93 non-null     float64       \n",
            " 11  WPU065202_1        93 non-null     float64       \n",
            " 12  WPU01130232_2      93 non-null     float64       \n",
            " 13  PMAIZMTUSDM_2      93 non-null     float64       \n",
            " 14  WPU07110224_2      93 non-null     float64       \n",
            " 15  WPU065202_2        93 non-null     float64       \n",
            " 16  WPU01130232_3      93 non-null     float64       \n",
            " 17  PMAIZMTUSDM_3      93 non-null     float64       \n",
            " 18  WPU07110224_3      93 non-null     float64       \n",
            " 19  WPU065202_3        93 non-null     float64       \n",
            " 20  WPU01130232_4      93 non-null     float64       \n",
            " 21  PMAIZMTUSDM_4      93 non-null     float64       \n",
            " 22  WPU07110224_4      93 non-null     float64       \n",
            " 23  WPU065202_4        93 non-null     float64       \n",
            " 24  WPU01130232_5      93 non-null     float64       \n",
            " 25  PMAIZMTUSDM_5      93 non-null     float64       \n",
            " 26  WPU07110224_5      93 non-null     float64       \n",
            " 27  WPU065202_5        93 non-null     float64       \n",
            " 28  WPU01130232_6      93 non-null     float64       \n",
            " 29  PMAIZMTUSDM_6      93 non-null     float64       \n",
            " 30  WPU07110224_6      93 non-null     float64       \n",
            " 31  WPU065202_6        93 non-null     float64       \n",
            " 32  WPU01130232_7      93 non-null     float64       \n",
            " 33  PMAIZMTUSDM_7      93 non-null     float64       \n",
            " 34  WPU07110224_7      93 non-null     float64       \n",
            " 35  WPU065202_7        93 non-null     float64       \n",
            " 36  WPU01130232_8      93 non-null     float64       \n",
            " 37  PMAIZMTUSDM_8      93 non-null     float64       \n",
            " 38  WPU07110224_8      93 non-null     float64       \n",
            " 39  WPU065202_8        93 non-null     float64       \n",
            " 40  WPU01130232_9      93 non-null     float64       \n",
            " 41  PMAIZMTUSDM_9      93 non-null     float64       \n",
            " 42  WPU07110224_9      93 non-null     float64       \n",
            " 43  WPU065202_9        93 non-null     float64       \n",
            " 44  WPU01130232_10     93 non-null     float64       \n",
            " 45  PMAIZMTUSDM_10     93 non-null     float64       \n",
            " 46  WPU07110224_10     93 non-null     float64       \n",
            " 47  WPU065202_10       93 non-null     float64       \n",
            " 48  WPU01130232_11     93 non-null     float64       \n",
            " 49  PMAIZMTUSDM_11     93 non-null     float64       \n",
            " 50  WPU07110224_11     93 non-null     float64       \n",
            " 51  WPU065202_11       93 non-null     float64       \n",
            " 52  WPU01130232_12     93 non-null     float64       \n",
            " 53  PMAIZMTUSDM_12     93 non-null     float64       \n",
            " 54  WPU07110224_12     93 non-null     float64       \n",
            " 55  WPU065202_12       93 non-null     float64       \n",
            " 56  AR_1               93 non-null     float64       \n",
            " 57  AR_2               93 non-null     float64       \n",
            " 58  AR_3               93 non-null     float64       \n",
            " 59  AR_4               93 non-null     float64       \n",
            " 60  AR_5               93 non-null     float64       \n",
            " 61  AR_6               93 non-null     float64       \n",
            " 62  AR_7               93 non-null     float64       \n",
            " 63  AR_8               93 non-null     float64       \n",
            " 64  AR_9               93 non-null     float64       \n",
            " 65  AR_10              93 non-null     float64       \n",
            " 66  AR_11              93 non-null     float64       \n",
            " 67  AR_12              93 non-null     float64       \n",
            "dtypes: bool(3), datetime64[ns](1), float64(61), int64(2), object(1)\n",
            "memory usage: 48.2+ KB\n",
            "None\n"
          ]
        }
      ]
    },
    {
      "cell_type": "code",
      "source": [
        "df_0020 = feature_df[feature_df['RM20/0020'] == 1]\n",
        "print(df_0020.info())"
      ],
      "metadata": {
        "colab": {
          "base_uri": "https://localhost:8080/"
        },
        "id": "xT3scmQsKGIA",
        "outputId": "f4ebfa91-0651-4583-c23a-0bc3bfb89591"
      },
      "execution_count": null,
      "outputs": [
        {
          "output_type": "stream",
          "name": "stdout",
          "text": [
            "<class 'pandas.core.frame.DataFrame'>\n",
            "Index: 95 entries, 14 to 109\n",
            "Data columns (total 68 columns):\n",
            " #   Column             Non-Null Count  Dtype         \n",
            "---  ------             --------------  -----         \n",
            " 0   RM20/0001          95 non-null     bool          \n",
            " 1   RM20/0015          95 non-null     bool          \n",
            " 2   RM20/0020          95 non-null     bool          \n",
            " 3   Year               95 non-null     int64         \n",
            " 4   Month              95 non-null     int64         \n",
            " 5   Time               95 non-null     datetime64[ns]\n",
            " 6   Group Description  95 non-null     object        \n",
            " 7   Average_price      95 non-null     float64       \n",
            " 8   WPU01130232_1      95 non-null     float64       \n",
            " 9   PMAIZMTUSDM_1      95 non-null     float64       \n",
            " 10  WPU07110224_1      95 non-null     float64       \n",
            " 11  WPU065202_1        95 non-null     float64       \n",
            " 12  WPU01130232_2      95 non-null     float64       \n",
            " 13  PMAIZMTUSDM_2      95 non-null     float64       \n",
            " 14  WPU07110224_2      95 non-null     float64       \n",
            " 15  WPU065202_2        95 non-null     float64       \n",
            " 16  WPU01130232_3      95 non-null     float64       \n",
            " 17  PMAIZMTUSDM_3      95 non-null     float64       \n",
            " 18  WPU07110224_3      95 non-null     float64       \n",
            " 19  WPU065202_3        95 non-null     float64       \n",
            " 20  WPU01130232_4      95 non-null     float64       \n",
            " 21  PMAIZMTUSDM_4      95 non-null     float64       \n",
            " 22  WPU07110224_4      95 non-null     float64       \n",
            " 23  WPU065202_4        95 non-null     float64       \n",
            " 24  WPU01130232_5      95 non-null     float64       \n",
            " 25  PMAIZMTUSDM_5      95 non-null     float64       \n",
            " 26  WPU07110224_5      95 non-null     float64       \n",
            " 27  WPU065202_5        95 non-null     float64       \n",
            " 28  WPU01130232_6      95 non-null     float64       \n",
            " 29  PMAIZMTUSDM_6      95 non-null     float64       \n",
            " 30  WPU07110224_6      95 non-null     float64       \n",
            " 31  WPU065202_6        95 non-null     float64       \n",
            " 32  WPU01130232_7      95 non-null     float64       \n",
            " 33  PMAIZMTUSDM_7      95 non-null     float64       \n",
            " 34  WPU07110224_7      95 non-null     float64       \n",
            " 35  WPU065202_7        95 non-null     float64       \n",
            " 36  WPU01130232_8      95 non-null     float64       \n",
            " 37  PMAIZMTUSDM_8      95 non-null     float64       \n",
            " 38  WPU07110224_8      95 non-null     float64       \n",
            " 39  WPU065202_8        95 non-null     float64       \n",
            " 40  WPU01130232_9      95 non-null     float64       \n",
            " 41  PMAIZMTUSDM_9      95 non-null     float64       \n",
            " 42  WPU07110224_9      95 non-null     float64       \n",
            " 43  WPU065202_9        95 non-null     float64       \n",
            " 44  WPU01130232_10     95 non-null     float64       \n",
            " 45  PMAIZMTUSDM_10     95 non-null     float64       \n",
            " 46  WPU07110224_10     95 non-null     float64       \n",
            " 47  WPU065202_10       95 non-null     float64       \n",
            " 48  WPU01130232_11     95 non-null     float64       \n",
            " 49  PMAIZMTUSDM_11     95 non-null     float64       \n",
            " 50  WPU07110224_11     95 non-null     float64       \n",
            " 51  WPU065202_11       95 non-null     float64       \n",
            " 52  WPU01130232_12     95 non-null     float64       \n",
            " 53  PMAIZMTUSDM_12     95 non-null     float64       \n",
            " 54  WPU07110224_12     95 non-null     float64       \n",
            " 55  WPU065202_12       95 non-null     float64       \n",
            " 56  AR_1               95 non-null     float64       \n",
            " 57  AR_2               95 non-null     float64       \n",
            " 58  AR_3               95 non-null     float64       \n",
            " 59  AR_4               95 non-null     float64       \n",
            " 60  AR_5               95 non-null     float64       \n",
            " 61  AR_6               95 non-null     float64       \n",
            " 62  AR_7               95 non-null     float64       \n",
            " 63  AR_8               95 non-null     float64       \n",
            " 64  AR_9               95 non-null     float64       \n",
            " 65  AR_10              95 non-null     float64       \n",
            " 66  AR_11              95 non-null     float64       \n",
            " 67  AR_12              95 non-null     float64       \n",
            "dtypes: bool(3), datetime64[ns](1), float64(61), int64(2), object(1)\n",
            "memory usage: 49.3+ KB\n",
            "None\n"
          ]
        }
      ]
    },
    {
      "cell_type": "markdown",
      "source": [
        "## 0001"
      ],
      "metadata": {
        "id": "ZnHzKVUeEGpY"
      }
    },
    {
      "cell_type": "code",
      "source": [
        "feature_df = df_0001"
      ],
      "metadata": {
        "id": "DjxbgQV3EGpY"
      },
      "execution_count": null,
      "outputs": []
    },
    {
      "cell_type": "markdown",
      "source": [
        "### 1-month prediction"
      ],
      "metadata": {
        "id": "97vtSBcHEGpY"
      }
    },
    {
      "cell_type": "code",
      "source": [
        "mape_values = []\n",
        "for start, end in test_periods:\n",
        "    mape = calculate_mape_1(start, end, 0.1)\n",
        "    mape_values.append(mape)\n",
        "    print(f\"MAPE from {start} to {end}: {mape:.1f}\")"
      ],
      "metadata": {
        "colab": {
          "base_uri": "https://localhost:8080/"
        },
        "outputId": "11468ce0-f972-455e-87f2-2f6734ffb5be",
        "id": "xrlQmT7-EGpY"
      },
      "execution_count": null,
      "outputs": [
        {
          "output_type": "stream",
          "name": "stdout",
          "text": [
            "MAPE from 2019-01-01 to 2019-07-01: 6.9\n",
            "MAPE from 2019-07-01 to 2020-01-01: 4.3\n",
            "MAPE from 2020-01-01 to 2020-07-01: 6.1\n",
            "MAPE from 2020-07-01 to 2021-01-01: 6.6\n",
            "MAPE from 2021-01-01 to 2021-07-01: 6.6\n",
            "MAPE from 2021-07-01 to 2022-01-01: 17.2\n",
            "MAPE from 2022-01-01 to 2022-07-01: 16.0\n",
            "MAPE from 2022-07-01 to 2023-01-01: 12.7\n",
            "MAPE from 2023-01-01 to 2023-07-01: 15.5\n",
            "MAPE from 2023-07-01 to 2024-01-01: 6.3\n"
          ]
        }
      ]
    },
    {
      "cell_type": "code",
      "source": [
        "average_mape = np.mean(mape_values)\n",
        "print(f\"Average MAPE: {average_mape:.1f}\")"
      ],
      "metadata": {
        "colab": {
          "base_uri": "https://localhost:8080/"
        },
        "outputId": "c9d943c1-4e55-47a9-ff34-924c0fbc2a56",
        "id": "L4N17GrOEGpY"
      },
      "execution_count": null,
      "outputs": [
        {
          "output_type": "stream",
          "name": "stdout",
          "text": [
            "Average MAPE: 9.8\n"
          ]
        }
      ]
    },
    {
      "cell_type": "markdown",
      "source": [
        "### 3-month prediction\n"
      ],
      "metadata": {
        "id": "wLfuQWemEGpY"
      }
    },
    {
      "cell_type": "code",
      "source": [
        "mape_values = []\n",
        "for start, end in test_periods:\n",
        "    mape = calculate_mape_3(start, end, 0.2)\n",
        "    mape_values.append(mape)\n",
        "    print(f\"MAPE from {start} to {end}: {mape:.1f}\")"
      ],
      "metadata": {
        "colab": {
          "base_uri": "https://localhost:8080/"
        },
        "outputId": "0e0a90fe-a694-4030-ac60-99c59773b2ea",
        "id": "aDviQjixEGpY"
      },
      "execution_count": null,
      "outputs": [
        {
          "output_type": "stream",
          "name": "stdout",
          "text": [
            "MAPE from 2019-01-01 to 2019-07-01: 13.6\n",
            "MAPE from 2019-07-01 to 2020-01-01: 6.9\n",
            "MAPE from 2020-01-01 to 2020-07-01: 5.4\n",
            "MAPE from 2020-07-01 to 2021-01-01: 6.7\n",
            "MAPE from 2021-01-01 to 2021-07-01: 4.9\n",
            "MAPE from 2021-07-01 to 2022-01-01: 24.0\n",
            "MAPE from 2022-01-01 to 2022-07-01: 31.8\n",
            "MAPE from 2022-07-01 to 2023-01-01: 14.2\n",
            "MAPE from 2023-01-01 to 2023-07-01: 7.6\n",
            "MAPE from 2023-07-01 to 2024-01-01: 3.7\n"
          ]
        }
      ]
    },
    {
      "cell_type": "code",
      "source": [
        "average_mape = np.mean(mape_values)\n",
        "print(f\"Average MAPE: {average_mape:.1f}\")"
      ],
      "metadata": {
        "colab": {
          "base_uri": "https://localhost:8080/"
        },
        "outputId": "256f0a23-1eb5-4cae-be67-ad9f88905a0e",
        "id": "fxJGGgXQEGpY"
      },
      "execution_count": null,
      "outputs": [
        {
          "output_type": "stream",
          "name": "stdout",
          "text": [
            "Average MAPE: 11.9\n"
          ]
        }
      ]
    },
    {
      "cell_type": "markdown",
      "source": [
        "### 6-month prediction"
      ],
      "metadata": {
        "id": "F2zMQr8vEGpZ"
      }
    },
    {
      "cell_type": "code",
      "source": [
        "mape_values = []\n",
        "for start, end in test_periods:\n",
        "    mape = calculate_mape_6(start, end, 0.2)\n",
        "    mape_values.append(mape)\n",
        "    print(f\"MAPE from {start} to {end}: {mape:.1f}\")"
      ],
      "metadata": {
        "colab": {
          "base_uri": "https://localhost:8080/"
        },
        "outputId": "746573d6-20c8-491c-8f4f-fb73ebb84dc3",
        "id": "j7VZr8xrEGpZ"
      },
      "execution_count": null,
      "outputs": [
        {
          "output_type": "stream",
          "name": "stdout",
          "text": [
            "MAPE from 2019-01-01 to 2019-07-01: 14.3\n",
            "MAPE from 2019-07-01 to 2020-01-01: 12.1\n",
            "MAPE from 2020-01-01 to 2020-07-01: 7.0\n",
            "MAPE from 2020-07-01 to 2021-01-01: 6.3\n",
            "MAPE from 2021-01-01 to 2021-07-01: 6.3\n",
            "MAPE from 2021-07-01 to 2022-01-01: 26.4\n",
            "MAPE from 2022-01-01 to 2022-07-01: 65.8\n",
            "MAPE from 2022-07-01 to 2023-01-01: 31.8\n",
            "MAPE from 2023-01-01 to 2023-07-01: 10.0\n",
            "MAPE from 2023-07-01 to 2024-01-01: 6.1\n"
          ]
        }
      ]
    },
    {
      "cell_type": "code",
      "source": [
        "average_mape = np.mean(mape_values)\n",
        "print(f\"Average MAPE: {average_mape:.1f}\")"
      ],
      "metadata": {
        "colab": {
          "base_uri": "https://localhost:8080/"
        },
        "outputId": "ec319837-9333-462b-c47c-6c34518da8a8",
        "id": "7AJFCBYkEGpZ"
      },
      "execution_count": null,
      "outputs": [
        {
          "output_type": "stream",
          "name": "stdout",
          "text": [
            "Average MAPE: 18.6\n"
          ]
        }
      ]
    },
    {
      "cell_type": "markdown",
      "source": [
        "## 0015"
      ],
      "metadata": {
        "id": "3LArTY0cKNQ9"
      }
    },
    {
      "cell_type": "code",
      "source": [
        "feature_df = df_0015"
      ],
      "metadata": {
        "id": "cpS6BkwnKNQ9"
      },
      "execution_count": null,
      "outputs": []
    },
    {
      "cell_type": "markdown",
      "source": [
        "### 1-month prediction"
      ],
      "metadata": {
        "id": "htgs34KJKNQ9"
      }
    },
    {
      "cell_type": "code",
      "source": [
        "mape_values = []\n",
        "for start, end in test_periods:\n",
        "    mape = calculate_mape_1(start, end, 0.2)\n",
        "    mape_values.append(mape)\n",
        "    print(f\"MAPE from {start} to {end}: {mape:.1f}\")"
      ],
      "metadata": {
        "colab": {
          "base_uri": "https://localhost:8080/"
        },
        "outputId": "b7573cdb-02c6-4e5a-e326-2dfe30155b1a",
        "id": "3viWLfSTKNQ9"
      },
      "execution_count": null,
      "outputs": [
        {
          "output_type": "stream",
          "name": "stdout",
          "text": [
            "MAPE from 2019-01-01 to 2019-07-01: 5.1\n",
            "MAPE from 2019-07-01 to 2020-01-01: 6.0\n",
            "MAPE from 2020-01-01 to 2020-07-01: 15.7\n",
            "MAPE from 2020-07-01 to 2021-01-01: 3.5\n",
            "MAPE from 2021-01-01 to 2021-07-01: 9.1\n",
            "MAPE from 2021-07-01 to 2022-01-01: 10.7\n",
            "MAPE from 2022-01-01 to 2022-07-01: 26.3\n",
            "MAPE from 2022-07-01 to 2023-01-01: 15.7\n",
            "MAPE from 2023-01-01 to 2023-07-01: 19.5\n",
            "MAPE from 2023-07-01 to 2024-01-01: 4.4\n"
          ]
        }
      ]
    },
    {
      "cell_type": "code",
      "source": [
        "average_mape = np.mean(mape_values)\n",
        "print(f\"Average MAPE: {average_mape:.1f}\")"
      ],
      "metadata": {
        "colab": {
          "base_uri": "https://localhost:8080/"
        },
        "outputId": "1c7d33c3-9b00-4b1f-d5f6-c5fff7b48e4f",
        "id": "0Iub4LnmKNQ-"
      },
      "execution_count": null,
      "outputs": [
        {
          "output_type": "stream",
          "name": "stdout",
          "text": [
            "Average MAPE: 11.6\n"
          ]
        }
      ]
    },
    {
      "cell_type": "markdown",
      "source": [
        "### 3-month prediction\n"
      ],
      "metadata": {
        "id": "sSusZDzWKNQ-"
      }
    },
    {
      "cell_type": "code",
      "source": [
        "mape_values = []\n",
        "for start, end in test_periods:\n",
        "    mape = calculate_mape_3(start, end, 0.3)\n",
        "    mape_values.append(mape)\n",
        "    print(f\"MAPE from {start} to {end}: {mape:.1f}\")"
      ],
      "metadata": {
        "colab": {
          "base_uri": "https://localhost:8080/"
        },
        "outputId": "c7a271f7-c39a-4461-c3e9-c30efaac836a",
        "id": "1beG57rlKNQ-"
      },
      "execution_count": null,
      "outputs": [
        {
          "output_type": "stream",
          "name": "stdout",
          "text": [
            "MAPE from 2019-01-01 to 2019-07-01: 5.1\n",
            "MAPE from 2019-07-01 to 2020-01-01: 6.0\n",
            "MAPE from 2020-01-01 to 2020-07-01: 15.7\n",
            "MAPE from 2020-07-01 to 2021-01-01: 3.5\n",
            "MAPE from 2021-01-01 to 2021-07-01: 9.1\n",
            "MAPE from 2021-07-01 to 2022-01-01: 10.7\n",
            "MAPE from 2022-01-01 to 2022-07-01: 26.3\n",
            "MAPE from 2022-07-01 to 2023-01-01: 27.8\n",
            "MAPE from 2023-01-01 to 2023-07-01: 16.6\n",
            "MAPE from 2023-07-01 to 2024-01-01: 5.5\n"
          ]
        }
      ]
    },
    {
      "cell_type": "code",
      "source": [
        "average_mape = np.mean(mape_values)\n",
        "print(f\"Average MAPE: {average_mape:.1f}\")"
      ],
      "metadata": {
        "colab": {
          "base_uri": "https://localhost:8080/"
        },
        "outputId": "1ad0a98c-81c7-4f83-b9c7-4193537eecd4",
        "id": "PqQYDHRVKNQ-"
      },
      "execution_count": null,
      "outputs": [
        {
          "output_type": "stream",
          "name": "stdout",
          "text": [
            "Average MAPE: 12.6\n"
          ]
        }
      ]
    },
    {
      "cell_type": "markdown",
      "source": [
        "### 6-month prediction"
      ],
      "metadata": {
        "id": "wAldZYRtKNQ-"
      }
    },
    {
      "cell_type": "code",
      "source": [
        "mape_values = []\n",
        "for start, end in test_periods:\n",
        "    mape = calculate_mape_6(start, end, 0.4)\n",
        "    mape_values.append(mape)\n",
        "    print(f\"MAPE from {start} to {end}: {mape:.1f}\")"
      ],
      "metadata": {
        "colab": {
          "base_uri": "https://localhost:8080/"
        },
        "outputId": "020dc5c5-2d1f-4be0-ce4f-9d8107ed71ac",
        "id": "ysrzjTF7KNQ-"
      },
      "execution_count": null,
      "outputs": [
        {
          "output_type": "stream",
          "name": "stdout",
          "text": [
            "MAPE from 2019-01-01 to 2019-07-01: 5.1\n",
            "MAPE from 2019-07-01 to 2020-01-01: 6.0\n",
            "MAPE from 2020-01-01 to 2020-07-01: 15.7\n",
            "MAPE from 2020-07-01 to 2021-01-01: 3.5\n",
            "MAPE from 2021-01-01 to 2021-07-01: 9.1\n",
            "MAPE from 2021-07-01 to 2022-01-01: 10.7\n",
            "MAPE from 2022-01-01 to 2022-07-01: 26.3\n",
            "MAPE from 2022-07-01 to 2023-01-01: 39.7\n",
            "MAPE from 2023-01-01 to 2023-07-01: 12.6\n",
            "MAPE from 2023-07-01 to 2024-01-01: 3.7\n"
          ]
        }
      ]
    },
    {
      "cell_type": "code",
      "source": [
        "average_mape = np.mean(mape_values)\n",
        "print(f\"Average MAPE: {average_mape:.1f}\")"
      ],
      "metadata": {
        "colab": {
          "base_uri": "https://localhost:8080/"
        },
        "outputId": "c94b47d4-1769-42a0-f628-65e6b35346b5",
        "id": "oJpgg-VoKNQ-"
      },
      "execution_count": null,
      "outputs": [
        {
          "output_type": "stream",
          "name": "stdout",
          "text": [
            "Average MAPE: 13.2\n"
          ]
        }
      ]
    },
    {
      "cell_type": "markdown",
      "source": [
        "## 0020"
      ],
      "metadata": {
        "id": "ZLyiGPK0KNwx"
      }
    },
    {
      "cell_type": "code",
      "source": [
        "feature_df = df_0020"
      ],
      "metadata": {
        "id": "KaCUUqLfKNwy"
      },
      "execution_count": null,
      "outputs": []
    },
    {
      "cell_type": "markdown",
      "source": [
        "### 1-month prediction"
      ],
      "metadata": {
        "id": "PBkoTq0wKNwy"
      }
    },
    {
      "cell_type": "code",
      "source": [
        "mape_values = []\n",
        "for start, end in test_periods:\n",
        "    mape = calculate_mape_1(start, end, 0.01)\n",
        "    mape_values.append(mape)\n",
        "    print(f\"MAPE from {start} to {end}: {mape:.1f}\")"
      ],
      "metadata": {
        "colab": {
          "base_uri": "https://localhost:8080/"
        },
        "outputId": "05c28778-070f-4375-e768-65db6013bb17",
        "id": "LNfT9c0ZKNwy"
      },
      "execution_count": null,
      "outputs": [
        {
          "output_type": "stream",
          "name": "stdout",
          "text": [
            "MAPE from 2019-01-01 to 2019-07-01: 13.0\n",
            "MAPE from 2019-07-01 to 2020-01-01: 6.9\n",
            "MAPE from 2020-01-01 to 2020-07-01: 7.8\n",
            "MAPE from 2020-07-01 to 2021-01-01: 2.6\n",
            "MAPE from 2021-01-01 to 2021-07-01: 8.4\n",
            "MAPE from 2021-07-01 to 2022-01-01: 9.8\n",
            "MAPE from 2022-01-01 to 2022-07-01: 12.4\n",
            "MAPE from 2022-07-01 to 2023-01-01: 4.0\n",
            "MAPE from 2023-01-01 to 2023-07-01: 16.7\n",
            "MAPE from 2023-07-01 to 2024-01-01: 9.5\n"
          ]
        }
      ]
    },
    {
      "cell_type": "code",
      "source": [
        "average_mape = np.mean(mape_values)\n",
        "print(f\"Average MAPE: {average_mape:.1f}\")"
      ],
      "metadata": {
        "colab": {
          "base_uri": "https://localhost:8080/"
        },
        "outputId": "7ea7af0a-6dc2-4f39-8006-46bdf5b263d3",
        "id": "9gk7A505KNwy"
      },
      "execution_count": null,
      "outputs": [
        {
          "output_type": "stream",
          "name": "stdout",
          "text": [
            "Average MAPE: 9.1\n"
          ]
        }
      ]
    },
    {
      "cell_type": "markdown",
      "source": [
        "### 3-month prediction\n"
      ],
      "metadata": {
        "id": "e0-vXbH9KNwz"
      }
    },
    {
      "cell_type": "code",
      "source": [
        "mape_values = []\n",
        "for start, end in test_periods:\n",
        "    mape = calculate_mape_3(start, end, 0.1)\n",
        "    mape_values.append(mape)\n",
        "    print(f\"MAPE from {start} to {end}: {mape:.1f}\")"
      ],
      "metadata": {
        "colab": {
          "base_uri": "https://localhost:8080/"
        },
        "outputId": "2c8c800d-e3ae-42ae-e693-5fe96ca74374",
        "id": "s1roIeFnKNwz"
      },
      "execution_count": null,
      "outputs": [
        {
          "output_type": "stream",
          "name": "stdout",
          "text": [
            "MAPE from 2019-01-01 to 2019-07-01: 17.7\n",
            "MAPE from 2019-07-01 to 2020-01-01: 10.7\n",
            "MAPE from 2020-01-01 to 2020-07-01: 7.7\n",
            "MAPE from 2020-07-01 to 2021-01-01: 5.1\n",
            "MAPE from 2021-01-01 to 2021-07-01: 7.7\n",
            "MAPE from 2021-07-01 to 2022-01-01: 14.3\n",
            "MAPE from 2022-01-01 to 2022-07-01: 20.0\n",
            "MAPE from 2022-07-01 to 2023-01-01: 6.8\n",
            "MAPE from 2023-01-01 to 2023-07-01: 20.5\n",
            "MAPE from 2023-07-01 to 2024-01-01: 26.0\n"
          ]
        }
      ]
    },
    {
      "cell_type": "code",
      "source": [
        "average_mape = np.mean(mape_values)\n",
        "print(f\"Average MAPE: {average_mape:.1f}\")"
      ],
      "metadata": {
        "colab": {
          "base_uri": "https://localhost:8080/"
        },
        "outputId": "b729b8af-84ab-4c00-d32f-728048752aae",
        "id": "8D6zEwvIKNwz"
      },
      "execution_count": null,
      "outputs": [
        {
          "output_type": "stream",
          "name": "stdout",
          "text": [
            "Average MAPE: 13.7\n"
          ]
        }
      ]
    },
    {
      "cell_type": "markdown",
      "source": [
        "### 6-month prediction"
      ],
      "metadata": {
        "id": "a-JKv-H0KNwz"
      }
    },
    {
      "cell_type": "code",
      "source": [
        "mape_values = []\n",
        "for start, end in test_periods:\n",
        "    mape = calculate_mape_6(start, end, 0.4)\n",
        "    mape_values.append(mape)\n",
        "    print(f\"MAPE from {start} to {end}: {mape:.1f}\")"
      ],
      "metadata": {
        "colab": {
          "base_uri": "https://localhost:8080/"
        },
        "outputId": "15505392-1dc5-4266-8023-bc00ddbc722c",
        "id": "RuqQdowOKNwz"
      },
      "execution_count": null,
      "outputs": [
        {
          "output_type": "stream",
          "name": "stdout",
          "text": [
            "MAPE from 2019-01-01 to 2019-07-01: 20.4\n",
            "MAPE from 2019-07-01 to 2020-01-01: 18.1\n",
            "MAPE from 2020-01-01 to 2020-07-01: 14.1\n",
            "MAPE from 2020-07-01 to 2021-01-01: 14.1\n",
            "MAPE from 2021-01-01 to 2021-07-01: 13.7\n",
            "MAPE from 2021-07-01 to 2022-01-01: 24.8\n",
            "MAPE from 2022-01-01 to 2022-07-01: 35.3\n",
            "MAPE from 2022-07-01 to 2023-01-01: 34.8\n",
            "MAPE from 2023-01-01 to 2023-07-01: 9.8\n",
            "MAPE from 2023-07-01 to 2024-01-01: 25.8\n"
          ]
        }
      ]
    },
    {
      "cell_type": "code",
      "source": [
        "average_mape = np.mean(mape_values)\n",
        "print(f\"Average MAPE: {average_mape:.1f}\")"
      ],
      "metadata": {
        "colab": {
          "base_uri": "https://localhost:8080/"
        },
        "outputId": "79631ad0-2964-460e-e187-13aeaa3dcd2f",
        "id": "7p5Ev0GoKNwz"
      },
      "execution_count": null,
      "outputs": [
        {
          "output_type": "stream",
          "name": "stdout",
          "text": [
            "Average MAPE: 21.1\n"
          ]
        }
      ]
    },
    {
      "cell_type": "markdown",
      "source": [
        "# Anionic Surfactant"
      ],
      "metadata": {
        "id": "zsJiMFMPEG8H"
      }
    },
    {
      "cell_type": "code",
      "source": [
        "feature_df = pd.read_csv('/content/drive/MyDrive/Colab Notebooks/Thesis/dataframe/anionic surfactant_feature.csv',index_col=0)\n",
        "feature_df['Time'] = pd.to_datetime(feature_df['Time'])\n",
        "print(feature_df)"
      ],
      "metadata": {
        "colab": {
          "base_uri": "https://localhost:8080/"
        },
        "outputId": "f571a159-d584-449b-e3de-1da0085027de",
        "id": "uAPZOHTiEG8I"
      },
      "execution_count": null,
      "outputs": [
        {
          "output_type": "stream",
          "name": "stdout",
          "text": [
            "     RM10/0001  RM10/0002  Year  Month       Time   Group Description  \\\n",
            "12       False       True  2016      1 2016-01-31  anionic surfactant   \n",
            "13       False       True  2016      2 2016-02-29  anionic surfactant   \n",
            "14       False       True  2016      3 2016-03-31  anionic surfactant   \n",
            "15       False       True  2016      4 2016-04-30  anionic surfactant   \n",
            "16       False       True  2016      5 2016-05-31  anionic surfactant   \n",
            "..         ...        ...   ...    ...        ...                 ...   \n",
            "216       True      False  2023      8 2023-08-31  anionic surfactant   \n",
            "217       True      False  2023      9 2023-09-30  anionic surfactant   \n",
            "218       True      False  2023     10 2023-10-31  anionic surfactant   \n",
            "219       True      False  2023     11 2023-11-30  anionic surfactant   \n",
            "220       True      False  2023     12 2023-12-31  anionic surfactant   \n",
            "\n",
            "     Average_price  PNGASEUUSDM_1  PPOILUSDM_1  Electricity_1  ...      AR_3  \\\n",
            "12        1.235000       5.810000   520.602568          48.38  ...  1.323333   \n",
            "13        1.090000       5.090000   531.619443          41.42  ...  1.090000   \n",
            "14        1.226667       4.790000   595.900683          38.14  ...  1.090000   \n",
            "15        1.306667       4.090000   633.067783          28.95  ...  1.235000   \n",
            "16        1.082150       4.020000   680.375487          25.25  ...  1.090000   \n",
            "..             ...            ...          ...            ...  ...       ...   \n",
            "216       0.579967       9.611719   844.977017          87.58  ...  0.654619   \n",
            "217       0.589850      10.717421   823.608175          96.46  ...  0.674996   \n",
            "218       0.610671      11.427930   790.712156          89.17  ...  0.519568   \n",
            "219       0.582814      13.388843   767.481335         101.92  ...  0.579967   \n",
            "220       0.720601      13.714316   795.987931         115.07  ...  0.589850   \n",
            "\n",
            "         AR_4      AR_5      AR_6      AR_7      AR_8      AR_9     AR_10  \\\n",
            "12   1.395000  1.383333  1.150000  1.500000  1.310000  1.373333  1.340000   \n",
            "13   1.323333  1.395000  1.383333  1.150000  1.500000  1.310000  1.373333   \n",
            "14   1.090000  1.323333  1.395000  1.383333  1.150000  1.500000  1.310000   \n",
            "15   1.090000  1.090000  1.323333  1.395000  1.383333  1.150000  1.500000   \n",
            "16   1.235000  1.090000  1.090000  1.323333  1.395000  1.383333  1.150000   \n",
            "..        ...       ...       ...       ...       ...       ...       ...   \n",
            "216  0.696542  0.710311  0.887833  0.832846  0.863918  0.819181  0.830000   \n",
            "217  0.654619  0.696542  0.710311  0.887833  0.832846  0.863918  0.819181   \n",
            "218  0.674996  0.654619  0.696542  0.710311  0.887833  0.832846  0.863918   \n",
            "219  0.519568  0.674996  0.654619  0.696542  0.710311  0.887833  0.832846   \n",
            "220  0.579967  0.519568  0.674996  0.654619  0.696542  0.710311  0.887833   \n",
            "\n",
            "        AR_11     AR_12  \n",
            "12   1.500000  1.393333  \n",
            "13   1.340000  1.500000  \n",
            "14   1.373333  1.340000  \n",
            "15   1.310000  1.373333  \n",
            "16   1.500000  1.310000  \n",
            "..        ...       ...  \n",
            "216  0.767987  0.868158  \n",
            "217  0.830000  0.767987  \n",
            "218  0.819181  0.830000  \n",
            "219  0.863918  0.819181  \n",
            "220  0.832846  0.863918  \n",
            "\n",
            "[189 rows x 55 columns]\n"
          ]
        }
      ]
    },
    {
      "cell_type": "code",
      "source": [
        "df_0001 = feature_df[feature_df['RM10/0001'] == 1]\n",
        "print(df_0001.info())"
      ],
      "metadata": {
        "colab": {
          "base_uri": "https://localhost:8080/"
        },
        "outputId": "43cdb5da-d813-422f-e9e6-b5617bf48646",
        "id": "oAO50_D_EG8I"
      },
      "execution_count": null,
      "outputs": [
        {
          "output_type": "stream",
          "name": "stdout",
          "text": [
            "<class 'pandas.core.frame.DataFrame'>\n",
            "Index: 93 entries, 125 to 220\n",
            "Data columns (total 55 columns):\n",
            " #   Column             Non-Null Count  Dtype         \n",
            "---  ------             --------------  -----         \n",
            " 0   RM10/0001          93 non-null     bool          \n",
            " 1   RM10/0002          93 non-null     bool          \n",
            " 2   Year               93 non-null     int64         \n",
            " 3   Month              93 non-null     int64         \n",
            " 4   Time               93 non-null     datetime64[ns]\n",
            " 5   Group Description  93 non-null     object        \n",
            " 6   Average_price      93 non-null     float64       \n",
            " 7   PNGASEUUSDM_1      93 non-null     float64       \n",
            " 8   PPOILUSDM_1        93 non-null     float64       \n",
            " 9   Electricity_1      93 non-null     float64       \n",
            " 10  PNGASEUUSDM_2      93 non-null     float64       \n",
            " 11  PPOILUSDM_2        93 non-null     float64       \n",
            " 12  Electricity_2      93 non-null     float64       \n",
            " 13  PNGASEUUSDM_3      93 non-null     float64       \n",
            " 14  PPOILUSDM_3        93 non-null     float64       \n",
            " 15  Electricity_3      93 non-null     float64       \n",
            " 16  PNGASEUUSDM_4      93 non-null     float64       \n",
            " 17  PPOILUSDM_4        93 non-null     float64       \n",
            " 18  Electricity_4      93 non-null     float64       \n",
            " 19  PNGASEUUSDM_5      93 non-null     float64       \n",
            " 20  PPOILUSDM_5        93 non-null     float64       \n",
            " 21  Electricity_5      93 non-null     float64       \n",
            " 22  PNGASEUUSDM_6      93 non-null     float64       \n",
            " 23  PPOILUSDM_6        93 non-null     float64       \n",
            " 24  Electricity_6      93 non-null     float64       \n",
            " 25  PNGASEUUSDM_7      93 non-null     float64       \n",
            " 26  PPOILUSDM_7        93 non-null     float64       \n",
            " 27  Electricity_7      93 non-null     float64       \n",
            " 28  PNGASEUUSDM_8      93 non-null     float64       \n",
            " 29  PPOILUSDM_8        93 non-null     float64       \n",
            " 30  Electricity_8      93 non-null     float64       \n",
            " 31  PNGASEUUSDM_9      93 non-null     float64       \n",
            " 32  PPOILUSDM_9        93 non-null     float64       \n",
            " 33  Electricity_9      93 non-null     float64       \n",
            " 34  PNGASEUUSDM_10     93 non-null     float64       \n",
            " 35  PPOILUSDM_10       93 non-null     float64       \n",
            " 36  Electricity_10     93 non-null     float64       \n",
            " 37  PNGASEUUSDM_11     93 non-null     float64       \n",
            " 38  PPOILUSDM_11       93 non-null     float64       \n",
            " 39  Electricity_11     93 non-null     float64       \n",
            " 40  PNGASEUUSDM_12     93 non-null     float64       \n",
            " 41  PPOILUSDM_12       93 non-null     float64       \n",
            " 42  Electricity_12     93 non-null     float64       \n",
            " 43  AR_1               93 non-null     float64       \n",
            " 44  AR_2               93 non-null     float64       \n",
            " 45  AR_3               93 non-null     float64       \n",
            " 46  AR_4               93 non-null     float64       \n",
            " 47  AR_5               93 non-null     float64       \n",
            " 48  AR_6               93 non-null     float64       \n",
            " 49  AR_7               93 non-null     float64       \n",
            " 50  AR_8               93 non-null     float64       \n",
            " 51  AR_9               93 non-null     float64       \n",
            " 52  AR_10              93 non-null     float64       \n",
            " 53  AR_11              93 non-null     float64       \n",
            " 54  AR_12              93 non-null     float64       \n",
            "dtypes: bool(2), datetime64[ns](1), float64(49), int64(2), object(1)\n",
            "memory usage: 39.4+ KB\n",
            "None\n"
          ]
        }
      ]
    },
    {
      "cell_type": "code",
      "source": [
        "df_0002 = feature_df[feature_df['RM10/0002'] == 1]\n",
        "print(df_0002.info())"
      ],
      "metadata": {
        "colab": {
          "base_uri": "https://localhost:8080/"
        },
        "outputId": "6e01587b-6fb2-4cc3-c93a-e3bc7ca0759c",
        "id": "ChYwQzi4EG8I"
      },
      "execution_count": null,
      "outputs": [
        {
          "output_type": "stream",
          "name": "stdout",
          "text": [
            "<class 'pandas.core.frame.DataFrame'>\n",
            "Index: 96 entries, 12 to 107\n",
            "Data columns (total 55 columns):\n",
            " #   Column             Non-Null Count  Dtype         \n",
            "---  ------             --------------  -----         \n",
            " 0   RM10/0001          96 non-null     bool          \n",
            " 1   RM10/0002          96 non-null     bool          \n",
            " 2   Year               96 non-null     int64         \n",
            " 3   Month              96 non-null     int64         \n",
            " 4   Time               96 non-null     datetime64[ns]\n",
            " 5   Group Description  96 non-null     object        \n",
            " 6   Average_price      96 non-null     float64       \n",
            " 7   PNGASEUUSDM_1      96 non-null     float64       \n",
            " 8   PPOILUSDM_1        96 non-null     float64       \n",
            " 9   Electricity_1      96 non-null     float64       \n",
            " 10  PNGASEUUSDM_2      96 non-null     float64       \n",
            " 11  PPOILUSDM_2        96 non-null     float64       \n",
            " 12  Electricity_2      96 non-null     float64       \n",
            " 13  PNGASEUUSDM_3      96 non-null     float64       \n",
            " 14  PPOILUSDM_3        96 non-null     float64       \n",
            " 15  Electricity_3      96 non-null     float64       \n",
            " 16  PNGASEUUSDM_4      96 non-null     float64       \n",
            " 17  PPOILUSDM_4        96 non-null     float64       \n",
            " 18  Electricity_4      96 non-null     float64       \n",
            " 19  PNGASEUUSDM_5      96 non-null     float64       \n",
            " 20  PPOILUSDM_5        96 non-null     float64       \n",
            " 21  Electricity_5      96 non-null     float64       \n",
            " 22  PNGASEUUSDM_6      96 non-null     float64       \n",
            " 23  PPOILUSDM_6        96 non-null     float64       \n",
            " 24  Electricity_6      96 non-null     float64       \n",
            " 25  PNGASEUUSDM_7      96 non-null     float64       \n",
            " 26  PPOILUSDM_7        96 non-null     float64       \n",
            " 27  Electricity_7      96 non-null     float64       \n",
            " 28  PNGASEUUSDM_8      96 non-null     float64       \n",
            " 29  PPOILUSDM_8        96 non-null     float64       \n",
            " 30  Electricity_8      96 non-null     float64       \n",
            " 31  PNGASEUUSDM_9      96 non-null     float64       \n",
            " 32  PPOILUSDM_9        96 non-null     float64       \n",
            " 33  Electricity_9      96 non-null     float64       \n",
            " 34  PNGASEUUSDM_10     96 non-null     float64       \n",
            " 35  PPOILUSDM_10       96 non-null     float64       \n",
            " 36  Electricity_10     96 non-null     float64       \n",
            " 37  PNGASEUUSDM_11     96 non-null     float64       \n",
            " 38  PPOILUSDM_11       96 non-null     float64       \n",
            " 39  Electricity_11     96 non-null     float64       \n",
            " 40  PNGASEUUSDM_12     96 non-null     float64       \n",
            " 41  PPOILUSDM_12       96 non-null     float64       \n",
            " 42  Electricity_12     96 non-null     float64       \n",
            " 43  AR_1               96 non-null     float64       \n",
            " 44  AR_2               96 non-null     float64       \n",
            " 45  AR_3               96 non-null     float64       \n",
            " 46  AR_4               96 non-null     float64       \n",
            " 47  AR_5               96 non-null     float64       \n",
            " 48  AR_6               96 non-null     float64       \n",
            " 49  AR_7               96 non-null     float64       \n",
            " 50  AR_8               96 non-null     float64       \n",
            " 51  AR_9               96 non-null     float64       \n",
            " 52  AR_10              96 non-null     float64       \n",
            " 53  AR_11              96 non-null     float64       \n",
            " 54  AR_12              96 non-null     float64       \n",
            "dtypes: bool(2), datetime64[ns](1), float64(49), int64(2), object(1)\n",
            "memory usage: 40.7+ KB\n",
            "None\n"
          ]
        }
      ]
    },
    {
      "cell_type": "markdown",
      "source": [
        "## 0001"
      ],
      "metadata": {
        "id": "9CP8YvSzEG8J"
      }
    },
    {
      "cell_type": "code",
      "source": [
        "feature_df = df_0001"
      ],
      "metadata": {
        "id": "Louke-WTEG8J"
      },
      "execution_count": null,
      "outputs": []
    },
    {
      "cell_type": "markdown",
      "source": [
        "### 1-month prediction"
      ],
      "metadata": {
        "id": "mbrCLWViEG8J"
      }
    },
    {
      "cell_type": "code",
      "source": [
        "mape_values = []\n",
        "for start, end in test_periods:\n",
        "    mape = calculate_mape_1(start, end, 0.1)\n",
        "    mape_values.append(mape)\n",
        "    print(f\"MAPE from {start} to {end}: {mape:.1f}\")"
      ],
      "metadata": {
        "colab": {
          "base_uri": "https://localhost:8080/"
        },
        "outputId": "07a97ab6-3fa4-4a3f-c1e0-a5f5dd006133",
        "id": "-Q7WrpcWEG8J"
      },
      "execution_count": null,
      "outputs": [
        {
          "output_type": "stream",
          "name": "stdout",
          "text": [
            "MAPE from 2019-01-01 to 2019-07-01: 15.2\n",
            "MAPE from 2019-07-01 to 2020-01-01: 21.3\n",
            "MAPE from 2020-01-01 to 2020-07-01: 6.4\n",
            "MAPE from 2020-07-01 to 2021-01-01: 7.4\n",
            "MAPE from 2021-01-01 to 2021-07-01: 6.6\n",
            "MAPE from 2021-07-01 to 2022-01-01: 9.2\n",
            "MAPE from 2022-01-01 to 2022-07-01: 17.0\n",
            "MAPE from 2022-07-01 to 2023-01-01: 4.8\n",
            "MAPE from 2023-01-01 to 2023-07-01: 8.2\n",
            "MAPE from 2023-07-01 to 2024-01-01: 9.2\n"
          ]
        }
      ]
    },
    {
      "cell_type": "code",
      "source": [
        "average_mape = np.mean(mape_values)\n",
        "print(f\"Average MAPE: {average_mape:.1f}\")"
      ],
      "metadata": {
        "colab": {
          "base_uri": "https://localhost:8080/"
        },
        "outputId": "d7eba5d6-418a-4b5a-a119-299cce5c913e",
        "id": "JZ0223gpEG8J"
      },
      "execution_count": null,
      "outputs": [
        {
          "output_type": "stream",
          "name": "stdout",
          "text": [
            "Average MAPE: 10.5\n"
          ]
        }
      ]
    },
    {
      "cell_type": "markdown",
      "source": [
        "### 3-month prediction\n"
      ],
      "metadata": {
        "id": "sptaDtsiEG8J"
      }
    },
    {
      "cell_type": "code",
      "source": [
        "mape_values = []\n",
        "for start, end in test_periods:\n",
        "    mape = calculate_mape_3(start, end, 0.1)\n",
        "    mape_values.append(mape)\n",
        "    print(f\"MAPE from {start} to {end}: {mape:.1f}\")"
      ],
      "metadata": {
        "colab": {
          "base_uri": "https://localhost:8080/"
        },
        "outputId": "e93ca901-e316-417a-c59e-1b612dfe5d82",
        "id": "ocGmSaasEG8J"
      },
      "execution_count": null,
      "outputs": [
        {
          "output_type": "stream",
          "name": "stdout",
          "text": [
            "MAPE from 2019-01-01 to 2019-07-01: 15.2\n",
            "MAPE from 2019-07-01 to 2020-01-01: 21.3\n",
            "MAPE from 2020-01-01 to 2020-07-01: 7.2\n",
            "MAPE from 2020-07-01 to 2021-01-01: 10.2\n",
            "MAPE from 2021-01-01 to 2021-07-01: 5.9\n",
            "MAPE from 2021-07-01 to 2022-01-01: 12.0\n",
            "MAPE from 2022-01-01 to 2022-07-01: 25.2\n",
            "MAPE from 2022-07-01 to 2023-01-01: 6.6\n",
            "MAPE from 2023-01-01 to 2023-07-01: 14.6\n",
            "MAPE from 2023-07-01 to 2024-01-01: 12.9\n"
          ]
        }
      ]
    },
    {
      "cell_type": "code",
      "source": [
        "average_mape = np.mean(mape_values)\n",
        "print(f\"Average MAPE: {average_mape:.1f}\")"
      ],
      "metadata": {
        "colab": {
          "base_uri": "https://localhost:8080/"
        },
        "outputId": "c0da998d-fcb2-49e4-cbf7-c0b3117778f8",
        "id": "xQXjE-WPEG8K"
      },
      "execution_count": null,
      "outputs": [
        {
          "output_type": "stream",
          "name": "stdout",
          "text": [
            "Average MAPE: 13.1\n"
          ]
        }
      ]
    },
    {
      "cell_type": "markdown",
      "source": [
        "### 6-month prediction"
      ],
      "metadata": {
        "id": "5_NMPIK_EG8K"
      }
    },
    {
      "cell_type": "code",
      "source": [
        "mape_values = []\n",
        "for start, end in test_periods:\n",
        "    mape = calculate_mape_6(start, end, 0.3)\n",
        "    mape_values.append(mape)\n",
        "    print(f\"MAPE from {start} to {end}: {mape:.1f}\")"
      ],
      "metadata": {
        "colab": {
          "base_uri": "https://localhost:8080/"
        },
        "outputId": "a98da430-ec87-43bb-d685-a97e3d2d1486",
        "id": "8WGa6MmtEG8K"
      },
      "execution_count": null,
      "outputs": [
        {
          "output_type": "stream",
          "name": "stdout",
          "text": [
            "MAPE from 2019-01-01 to 2019-07-01: 15.2\n",
            "MAPE from 2019-07-01 to 2020-01-01: 21.3\n",
            "MAPE from 2020-01-01 to 2020-07-01: 11.4\n",
            "MAPE from 2020-07-01 to 2021-01-01: 16.3\n",
            "MAPE from 2021-01-01 to 2021-07-01: 4.3\n",
            "MAPE from 2021-07-01 to 2022-01-01: 13.3\n",
            "MAPE from 2022-01-01 to 2022-07-01: 33.4\n",
            "MAPE from 2022-07-01 to 2023-01-01: 25.8\n",
            "MAPE from 2023-01-01 to 2023-07-01: 8.9\n",
            "MAPE from 2023-07-01 to 2024-01-01: 15.6\n"
          ]
        }
      ]
    },
    {
      "cell_type": "code",
      "source": [
        "average_mape = np.mean(mape_values)\n",
        "print(f\"Average MAPE: {average_mape:.1f}\")"
      ],
      "metadata": {
        "colab": {
          "base_uri": "https://localhost:8080/"
        },
        "outputId": "d4b1a148-909e-4cbf-a3cf-2eebb1e8e54d",
        "id": "BZdJ1MuzEG8K"
      },
      "execution_count": null,
      "outputs": [
        {
          "output_type": "stream",
          "name": "stdout",
          "text": [
            "Average MAPE: 16.6\n"
          ]
        }
      ]
    },
    {
      "cell_type": "markdown",
      "source": [
        "## 0002"
      ],
      "metadata": {
        "id": "b2h9uQg4PAg6"
      }
    },
    {
      "cell_type": "code",
      "source": [
        "feature_df = df_0002"
      ],
      "metadata": {
        "id": "4Kho1ZDPPAg6"
      },
      "execution_count": null,
      "outputs": []
    },
    {
      "cell_type": "markdown",
      "source": [
        "### 1-month prediction"
      ],
      "metadata": {
        "id": "HTCVlDgJPAg7"
      }
    },
    {
      "cell_type": "code",
      "source": [
        "mape_values = []\n",
        "for start, end in test_periods:\n",
        "    mape = calculate_mape_1(start, end, 0.2)\n",
        "    mape_values.append(mape)\n",
        "    print(f\"MAPE from {start} to {end}: {mape:.1f}\")"
      ],
      "metadata": {
        "colab": {
          "base_uri": "https://localhost:8080/"
        },
        "outputId": "8f448bd2-c9d6-45ad-e5a9-33cff934a7e4",
        "id": "ZSpuqfzQPAg7"
      },
      "execution_count": null,
      "outputs": [
        {
          "output_type": "stream",
          "name": "stdout",
          "text": [
            "MAPE from 2019-01-01 to 2019-07-01: 3.6\n",
            "MAPE from 2019-07-01 to 2020-01-01: 3.9\n",
            "MAPE from 2020-01-01 to 2020-07-01: 6.3\n",
            "MAPE from 2020-07-01 to 2021-01-01: 7.0\n",
            "MAPE from 2021-01-01 to 2021-07-01: 9.5\n",
            "MAPE from 2021-07-01 to 2022-01-01: 6.8\n",
            "MAPE from 2022-01-01 to 2022-07-01: 15.3\n",
            "MAPE from 2022-07-01 to 2023-01-01: 8.6\n",
            "MAPE from 2023-01-01 to 2023-07-01: 8.9\n",
            "MAPE from 2023-07-01 to 2024-01-01: 6.9\n"
          ]
        }
      ]
    },
    {
      "cell_type": "code",
      "source": [
        "average_mape = np.mean(mape_values)\n",
        "print(f\"Average MAPE: {average_mape:.1f}\")"
      ],
      "metadata": {
        "colab": {
          "base_uri": "https://localhost:8080/"
        },
        "outputId": "a451d68a-cb79-4adf-a64a-99dda1c7af1a",
        "id": "v3jXSgqtPAg7"
      },
      "execution_count": null,
      "outputs": [
        {
          "output_type": "stream",
          "name": "stdout",
          "text": [
            "Average MAPE: 7.7\n"
          ]
        }
      ]
    },
    {
      "cell_type": "markdown",
      "source": [
        "### 3-month prediction\n"
      ],
      "metadata": {
        "id": "RESYMjhCPAg7"
      }
    },
    {
      "cell_type": "code",
      "source": [
        "mape_values = []\n",
        "for start, end in test_periods:\n",
        "    mape = calculate_mape_3(start, end, 0.2)\n",
        "    mape_values.append(mape)\n",
        "    print(f\"MAPE from {start} to {end}: {mape:.1f}\")"
      ],
      "metadata": {
        "colab": {
          "base_uri": "https://localhost:8080/"
        },
        "outputId": "a109b839-9b90-48d5-af56-a7af26a26718",
        "id": "eRpu2WkJPAg7"
      },
      "execution_count": null,
      "outputs": [
        {
          "output_type": "stream",
          "name": "stdout",
          "text": [
            "MAPE from 2019-01-01 to 2019-07-01: 3.6\n",
            "MAPE from 2019-07-01 to 2020-01-01: 3.9\n",
            "MAPE from 2020-01-01 to 2020-07-01: 6.2\n",
            "MAPE from 2020-07-01 to 2021-01-01: 7.9\n",
            "MAPE from 2021-01-01 to 2021-07-01: 10.4\n",
            "MAPE from 2021-07-01 to 2022-01-01: 7.5\n",
            "MAPE from 2022-01-01 to 2022-07-01: 16.4\n",
            "MAPE from 2022-07-01 to 2023-01-01: 9.4\n",
            "MAPE from 2023-01-01 to 2023-07-01: 14.1\n",
            "MAPE from 2023-07-01 to 2024-01-01: 8.4\n"
          ]
        }
      ]
    },
    {
      "cell_type": "code",
      "source": [
        "average_mape = np.mean(mape_values)\n",
        "print(f\"Average MAPE: {average_mape:.1f}\")"
      ],
      "metadata": {
        "colab": {
          "base_uri": "https://localhost:8080/"
        },
        "outputId": "379b7ccf-78f7-4a11-bd6b-b93bd94ba85e",
        "id": "Q21lRnaYPAg7"
      },
      "execution_count": null,
      "outputs": [
        {
          "output_type": "stream",
          "name": "stdout",
          "text": [
            "Average MAPE: 8.8\n"
          ]
        }
      ]
    },
    {
      "cell_type": "markdown",
      "source": [
        "### 6-month prediction"
      ],
      "metadata": {
        "id": "TNeKeDuXPAg7"
      }
    },
    {
      "cell_type": "code",
      "source": [
        "mape_values = []\n",
        "for start, end in test_periods:\n",
        "    mape = calculate_mape_6(start, end, 0.2)\n",
        "    mape_values.append(mape)\n",
        "    print(f\"MAPE from {start} to {end}: {mape:.1f}\")"
      ],
      "metadata": {
        "colab": {
          "base_uri": "https://localhost:8080/"
        },
        "outputId": "da4d17d8-7806-4ca0-fd90-f145ff6cc1d2",
        "id": "0BnJgVSFPAg7"
      },
      "execution_count": null,
      "outputs": [
        {
          "output_type": "stream",
          "name": "stdout",
          "text": [
            "MAPE from 2019-01-01 to 2019-07-01: 4.6\n",
            "MAPE from 2019-07-01 to 2020-01-01: 4.6\n",
            "MAPE from 2020-01-01 to 2020-07-01: 6.4\n",
            "MAPE from 2020-07-01 to 2021-01-01: 8.4\n",
            "MAPE from 2021-01-01 to 2021-07-01: 13.0\n",
            "MAPE from 2021-07-01 to 2022-01-01: 10.5\n",
            "MAPE from 2022-01-01 to 2022-07-01: 19.7\n",
            "MAPE from 2022-07-01 to 2023-01-01: 14.4\n",
            "MAPE from 2023-01-01 to 2023-07-01: 30.0\n",
            "MAPE from 2023-07-01 to 2024-01-01: 14.4\n"
          ]
        }
      ]
    },
    {
      "cell_type": "code",
      "source": [
        "average_mape = np.mean(mape_values)\n",
        "print(f\"Average MAPE: {average_mape:.1f}\")"
      ],
      "metadata": {
        "colab": {
          "base_uri": "https://localhost:8080/"
        },
        "outputId": "97d2f2c2-9660-462f-b6af-efb40d5ec35f",
        "id": "WK415OXsPAg7"
      },
      "execution_count": null,
      "outputs": [
        {
          "output_type": "stream",
          "name": "stdout",
          "text": [
            "Average MAPE: 12.6\n"
          ]
        }
      ]
    },
    {
      "cell_type": "markdown",
      "source": [
        "# Solvents"
      ],
      "metadata": {
        "id": "SyliWCoyEHUN"
      }
    },
    {
      "cell_type": "code",
      "source": [
        "feature_df = pd.read_csv('/content/drive/MyDrive/Colab Notebooks/Thesis/dataframe/solvent_feature.csv',index_col=0)\n",
        "feature_df['Time'] = pd.to_datetime(feature_df['Time'])\n",
        "print(feature_df)"
      ],
      "metadata": {
        "colab": {
          "base_uri": "https://localhost:8080/"
        },
        "outputId": "c641f240-db1f-4acf-e449-3820c9597311",
        "id": "OTXXMtCDEHUN"
      },
      "execution_count": null,
      "outputs": [
        {
          "output_type": "stream",
          "name": "stdout",
          "text": [
            "     RM08/0010  RM08/0017  Year  Month       Time Group Description  \\\n",
            "13       False       True  2016      1 2016-01-31           solvent   \n",
            "14       False       True  2016      2 2016-02-29           solvent   \n",
            "15       False       True  2016      3 2016-03-31           solvent   \n",
            "16       False       True  2016      4 2016-04-30           solvent   \n",
            "17       False       True  2016      5 2016-05-31           solvent   \n",
            "..         ...        ...   ...    ...        ...               ...   \n",
            "215       True      False  2023      8 2023-08-31           solvent   \n",
            "216       True      False  2023      9 2023-09-30           solvent   \n",
            "217       True      False  2023     10 2023-10-24           solvent   \n",
            "218       True      False  2023     11 2023-11-30           solvent   \n",
            "219       True      False  2023     12 2023-12-20           solvent   \n",
            "\n",
            "     Average_price  PPOILUSDM_1  PPOILUSDM_2  PPOILUSDM_3  ...      AR_3  \\\n",
            "13        1.031000   520.602568   503.163620   530.246640  ...  1.070000   \n",
            "14        1.031000   531.619443   520.602568   503.163620  ...  1.057500   \n",
            "15        1.017000   595.900683   531.619443   520.602568  ...  1.053333   \n",
            "16        1.016500   633.067783   595.900683   531.619443  ...  1.031000   \n",
            "17        1.016000   680.375487   633.067783   595.900683  ...  1.031000   \n",
            "..             ...          ...          ...          ...  ...       ...   \n",
            "215       0.707192   844.977017   769.098477   834.628551  ...  1.111484   \n",
            "216       1.307470   823.608175   844.977017   769.098477  ...  0.801200   \n",
            "217       0.565000   790.712156   823.608175   844.977017  ...  0.807500   \n",
            "218       0.660000   767.481335   790.712156   823.608175  ...  0.707192   \n",
            "219       1.836248   795.987931   767.481335   790.712156  ...  1.307470   \n",
            "\n",
            "         AR_4      AR_5      AR_6      AR_7      AR_8      AR_9     AR_10  \\\n",
            "13   1.035000  1.035000  1.152000  1.030000  1.250000  1.220000  1.190000   \n",
            "14   1.070000  1.035000  1.035000  1.152000  1.030000  1.250000  1.220000   \n",
            "15   1.057500  1.070000  1.035000  1.035000  1.152000  1.030000  1.250000   \n",
            "16   1.053333  1.057500  1.070000  1.035000  1.035000  1.152000  1.030000   \n",
            "17   1.031000  1.053333  1.057500  1.070000  1.035000  1.035000  1.152000   \n",
            "..        ...       ...       ...       ...       ...       ...       ...   \n",
            "215  2.141228  1.015000  1.442252  1.223333  1.821984  1.430000  2.979343   \n",
            "216  1.111484  2.141228  1.015000  1.442252  1.223333  1.821984  1.430000   \n",
            "217  0.801200  1.111484  2.141228  1.015000  1.442252  1.223333  1.821984   \n",
            "218  0.807500  0.801200  1.111484  2.141228  1.015000  1.442252  1.223333   \n",
            "219  0.707192  0.807500  0.801200  1.111484  2.141228  1.015000  1.442252   \n",
            "\n",
            "        AR_11     AR_12  \n",
            "13   1.190000  1.250000  \n",
            "14   1.190000  1.190000  \n",
            "15   1.220000  1.190000  \n",
            "16   1.250000  1.220000  \n",
            "17   1.030000  1.250000  \n",
            "..        ...       ...  \n",
            "215  2.665000  2.997037  \n",
            "216  2.979343  2.665000  \n",
            "217  1.430000  2.979343  \n",
            "218  1.821984  1.430000  \n",
            "219  1.223333  1.821984  \n",
            "\n",
            "[186 rows x 31 columns]\n"
          ]
        }
      ]
    },
    {
      "cell_type": "code",
      "source": [
        "df_0010 = feature_df[feature_df['RM08/0010'] == 1]\n",
        "print(df_0010.info())"
      ],
      "metadata": {
        "colab": {
          "base_uri": "https://localhost:8080/"
        },
        "outputId": "f9833c9a-0763-4863-c977-b18d9447aa34",
        "id": "dP0sJEyuEHUO"
      },
      "execution_count": null,
      "outputs": [
        {
          "output_type": "stream",
          "name": "stdout",
          "text": [
            "<class 'pandas.core.frame.DataFrame'>\n",
            "Index: 91 entries, 124 to 219\n",
            "Data columns (total 31 columns):\n",
            " #   Column             Non-Null Count  Dtype         \n",
            "---  ------             --------------  -----         \n",
            " 0   RM08/0010          91 non-null     bool          \n",
            " 1   RM08/0017          91 non-null     bool          \n",
            " 2   Year               91 non-null     int64         \n",
            " 3   Month              91 non-null     int64         \n",
            " 4   Time               91 non-null     datetime64[ns]\n",
            " 5   Group Description  91 non-null     object        \n",
            " 6   Average_price      91 non-null     float64       \n",
            " 7   PPOILUSDM_1        91 non-null     float64       \n",
            " 8   PPOILUSDM_2        91 non-null     float64       \n",
            " 9   PPOILUSDM_3        91 non-null     float64       \n",
            " 10  PPOILUSDM_4        91 non-null     float64       \n",
            " 11  PPOILUSDM_5        91 non-null     float64       \n",
            " 12  PPOILUSDM_6        91 non-null     float64       \n",
            " 13  PPOILUSDM_7        91 non-null     float64       \n",
            " 14  PPOILUSDM_8        91 non-null     float64       \n",
            " 15  PPOILUSDM_9        91 non-null     float64       \n",
            " 16  PPOILUSDM_10       91 non-null     float64       \n",
            " 17  PPOILUSDM_11       91 non-null     float64       \n",
            " 18  PPOILUSDM_12       91 non-null     float64       \n",
            " 19  AR_1               91 non-null     float64       \n",
            " 20  AR_2               91 non-null     float64       \n",
            " 21  AR_3               91 non-null     float64       \n",
            " 22  AR_4               91 non-null     float64       \n",
            " 23  AR_5               91 non-null     float64       \n",
            " 24  AR_6               91 non-null     float64       \n",
            " 25  AR_7               91 non-null     float64       \n",
            " 26  AR_8               91 non-null     float64       \n",
            " 27  AR_9               91 non-null     float64       \n",
            " 28  AR_10              91 non-null     float64       \n",
            " 29  AR_11              91 non-null     float64       \n",
            " 30  AR_12              91 non-null     float64       \n",
            "dtypes: bool(2), datetime64[ns](1), float64(25), int64(2), object(1)\n",
            "memory usage: 21.5+ KB\n",
            "None\n"
          ]
        }
      ]
    },
    {
      "cell_type": "code",
      "source": [
        "df_0017 = feature_df[feature_df['RM08/0017'] == 1]\n",
        "print(df_0017.info())"
      ],
      "metadata": {
        "colab": {
          "base_uri": "https://localhost:8080/"
        },
        "outputId": "4ee79bb4-2e01-4da7-cc76-f54941d5db51",
        "id": "9BsymCYxEHUO"
      },
      "execution_count": null,
      "outputs": [
        {
          "output_type": "stream",
          "name": "stdout",
          "text": [
            "<class 'pandas.core.frame.DataFrame'>\n",
            "Index: 95 entries, 13 to 108\n",
            "Data columns (total 31 columns):\n",
            " #   Column             Non-Null Count  Dtype         \n",
            "---  ------             --------------  -----         \n",
            " 0   RM08/0010          95 non-null     bool          \n",
            " 1   RM08/0017          95 non-null     bool          \n",
            " 2   Year               95 non-null     int64         \n",
            " 3   Month              95 non-null     int64         \n",
            " 4   Time               95 non-null     datetime64[ns]\n",
            " 5   Group Description  95 non-null     object        \n",
            " 6   Average_price      95 non-null     float64       \n",
            " 7   PPOILUSDM_1        95 non-null     float64       \n",
            " 8   PPOILUSDM_2        95 non-null     float64       \n",
            " 9   PPOILUSDM_3        95 non-null     float64       \n",
            " 10  PPOILUSDM_4        95 non-null     float64       \n",
            " 11  PPOILUSDM_5        95 non-null     float64       \n",
            " 12  PPOILUSDM_6        95 non-null     float64       \n",
            " 13  PPOILUSDM_7        95 non-null     float64       \n",
            " 14  PPOILUSDM_8        95 non-null     float64       \n",
            " 15  PPOILUSDM_9        95 non-null     float64       \n",
            " 16  PPOILUSDM_10       95 non-null     float64       \n",
            " 17  PPOILUSDM_11       95 non-null     float64       \n",
            " 18  PPOILUSDM_12       95 non-null     float64       \n",
            " 19  AR_1               95 non-null     float64       \n",
            " 20  AR_2               95 non-null     float64       \n",
            " 21  AR_3               95 non-null     float64       \n",
            " 22  AR_4               95 non-null     float64       \n",
            " 23  AR_5               95 non-null     float64       \n",
            " 24  AR_6               95 non-null     float64       \n",
            " 25  AR_7               95 non-null     float64       \n",
            " 26  AR_8               95 non-null     float64       \n",
            " 27  AR_9               95 non-null     float64       \n",
            " 28  AR_10              95 non-null     float64       \n",
            " 29  AR_11              95 non-null     float64       \n",
            " 30  AR_12              95 non-null     float64       \n",
            "dtypes: bool(2), datetime64[ns](1), float64(25), int64(2), object(1)\n",
            "memory usage: 22.5+ KB\n",
            "None\n"
          ]
        }
      ]
    },
    {
      "cell_type": "markdown",
      "source": [
        "## 0010"
      ],
      "metadata": {
        "id": "EfJfY_P4EHUO"
      }
    },
    {
      "cell_type": "code",
      "source": [
        "feature_df = df_0010"
      ],
      "metadata": {
        "id": "ajxXMtDlEHUO"
      },
      "execution_count": null,
      "outputs": []
    },
    {
      "cell_type": "markdown",
      "source": [
        "### 1-month prediction"
      ],
      "metadata": {
        "id": "gkrV_FHkEHUO"
      }
    },
    {
      "cell_type": "code",
      "source": [
        "mape_values = []\n",
        "for start, end in test_periods:\n",
        "    mape = calculate_mape_1(start, end, 0.3)\n",
        "    mape_values.append(mape)\n",
        "    print(f\"MAPE from {start} to {end}: {mape:.1f}\")"
      ],
      "metadata": {
        "colab": {
          "base_uri": "https://localhost:8080/"
        },
        "outputId": "e1475629-59da-48dc-fc8f-d1917306421e",
        "id": "GMvx-5KbEHUO"
      },
      "execution_count": null,
      "outputs": [
        {
          "output_type": "stream",
          "name": "stdout",
          "text": [
            "MAPE from 2019-01-01 to 2019-07-01: 17.5\n",
            "MAPE from 2019-07-01 to 2020-01-01: 20.4\n",
            "MAPE from 2020-01-01 to 2020-07-01: 17.7\n",
            "MAPE from 2020-07-01 to 2021-01-01: 13.2\n",
            "MAPE from 2021-01-01 to 2021-07-01: 13.9\n",
            "MAPE from 2021-07-01 to 2022-01-01: 28.8\n",
            "MAPE from 2022-01-01 to 2022-07-01: 33.5\n",
            "MAPE from 2022-07-01 to 2023-01-01: 30.6\n",
            "MAPE from 2023-01-01 to 2023-07-01: 34.1\n",
            "MAPE from 2023-07-01 to 2024-01-01: 48.9\n"
          ]
        }
      ]
    },
    {
      "cell_type": "code",
      "source": [
        "average_mape = np.mean(mape_values)\n",
        "print(f\"Average MAPE: {average_mape:.1f}\")"
      ],
      "metadata": {
        "colab": {
          "base_uri": "https://localhost:8080/"
        },
        "outputId": "de1fa8af-e137-4a64-8dea-6c3e9a6ba2b9",
        "id": "Yk5EIb-REHUO"
      },
      "execution_count": null,
      "outputs": [
        {
          "output_type": "stream",
          "name": "stdout",
          "text": [
            "Average MAPE: 25.9\n"
          ]
        }
      ]
    },
    {
      "cell_type": "markdown",
      "source": [
        "### 3-month prediction\n"
      ],
      "metadata": {
        "id": "lZyMZNGsEHUP"
      }
    },
    {
      "cell_type": "code",
      "source": [
        "mape_values = []\n",
        "for start, end in test_periods:\n",
        "    mape = calculate_mape_3(start, end, 0.4)\n",
        "    mape_values.append(mape)\n",
        "    print(f\"MAPE from {start} to {end}: {mape:.1f}\")"
      ],
      "metadata": {
        "colab": {
          "base_uri": "https://localhost:8080/"
        },
        "outputId": "ad63b8c7-3d10-403c-aa4c-d3678d76633c",
        "id": "IxYpZ3i6EHUP"
      },
      "execution_count": null,
      "outputs": [
        {
          "output_type": "stream",
          "name": "stdout",
          "text": [
            "MAPE from 2019-01-01 to 2019-07-01: 15.0\n",
            "MAPE from 2019-07-01 to 2020-01-01: 20.3\n",
            "MAPE from 2020-01-01 to 2020-07-01: 18.7\n",
            "MAPE from 2020-07-01 to 2021-01-01: 13.3\n",
            "MAPE from 2021-01-01 to 2021-07-01: 15.8\n",
            "MAPE from 2021-07-01 to 2022-01-01: 34.1\n",
            "MAPE from 2022-01-01 to 2022-07-01: 50.6\n",
            "MAPE from 2022-07-01 to 2023-01-01: 37.9\n",
            "MAPE from 2023-01-01 to 2023-07-01: 48.6\n",
            "MAPE from 2023-07-01 to 2024-01-01: 57.1\n"
          ]
        }
      ]
    },
    {
      "cell_type": "code",
      "source": [
        "average_mape = np.mean(mape_values)\n",
        "print(f\"Average MAPE: {average_mape:.1f}\")"
      ],
      "metadata": {
        "colab": {
          "base_uri": "https://localhost:8080/"
        },
        "outputId": "3103621f-4cc0-4913-9432-4a63dc72368d",
        "id": "oJHNl9EPEHUP"
      },
      "execution_count": null,
      "outputs": [
        {
          "output_type": "stream",
          "name": "stdout",
          "text": [
            "Average MAPE: 31.1\n"
          ]
        }
      ]
    },
    {
      "cell_type": "markdown",
      "source": [
        "### 6-month prediction"
      ],
      "metadata": {
        "id": "E6jjjGbiEHUP"
      }
    },
    {
      "cell_type": "code",
      "source": [
        "mape_values = []\n",
        "for start, end in test_periods:\n",
        "    mape = calculate_mape_6(start, end, 0.4)\n",
        "    mape_values.append(mape)\n",
        "    print(f\"MAPE from {start} to {end}: {mape:.1f}\")"
      ],
      "metadata": {
        "colab": {
          "base_uri": "https://localhost:8080/"
        },
        "outputId": "bb98506c-8d26-4c74-d054-5af94891a3c7",
        "id": "XsO9CaxTEHUP"
      },
      "execution_count": null,
      "outputs": [
        {
          "output_type": "stream",
          "name": "stdout",
          "text": [
            "MAPE from 2019-01-01 to 2019-07-01: 12.7\n",
            "MAPE from 2019-07-01 to 2020-01-01: 20.4\n",
            "MAPE from 2020-01-01 to 2020-07-01: 19.6\n",
            "MAPE from 2020-07-01 to 2021-01-01: 13.5\n",
            "MAPE from 2021-01-01 to 2021-07-01: 16.2\n",
            "MAPE from 2021-07-01 to 2022-01-01: 35.3\n",
            "MAPE from 2022-01-01 to 2022-07-01: 54.9\n",
            "MAPE from 2022-07-01 to 2023-01-01: 33.8\n",
            "MAPE from 2023-01-01 to 2023-07-01: 69.4\n",
            "MAPE from 2023-07-01 to 2024-01-01: 64.0\n"
          ]
        }
      ]
    },
    {
      "cell_type": "code",
      "source": [
        "average_mape = np.mean(mape_values)\n",
        "print(f\"Average MAPE: {average_mape:.1f}\")"
      ],
      "metadata": {
        "colab": {
          "base_uri": "https://localhost:8080/"
        },
        "outputId": "b2b0afbd-c37f-4544-c228-e3e7f9ce3a50",
        "id": "JbnOrQ79EHUP"
      },
      "execution_count": null,
      "outputs": [
        {
          "output_type": "stream",
          "name": "stdout",
          "text": [
            "Average MAPE: 34.0\n"
          ]
        }
      ]
    },
    {
      "cell_type": "markdown",
      "source": [
        "## 0017"
      ],
      "metadata": {
        "id": "jKYrqHofQNyq"
      }
    },
    {
      "cell_type": "code",
      "source": [
        "feature_df = df_0017"
      ],
      "metadata": {
        "id": "mOLb8N0jQNyq"
      },
      "execution_count": null,
      "outputs": []
    },
    {
      "cell_type": "markdown",
      "source": [
        "### 1-month prediction"
      ],
      "metadata": {
        "id": "LVjWt9bwQNyq"
      }
    },
    {
      "cell_type": "code",
      "source": [
        "mape_values = []\n",
        "for start, end in test_periods:\n",
        "    mape = calculate_mape_1(start, end, 0.05)\n",
        "    mape_values.append(mape)\n",
        "    print(f\"MAPE from {start} to {end}: {mape:.1f}\")"
      ],
      "metadata": {
        "colab": {
          "base_uri": "https://localhost:8080/"
        },
        "outputId": "1a9c1738-1397-4d7d-bd32-61ddce0aae3b",
        "id": "37chElUqQNyq"
      },
      "execution_count": null,
      "outputs": [
        {
          "output_type": "stream",
          "name": "stdout",
          "text": [
            "MAPE from 2019-01-01 to 2019-07-01: 2.8\n",
            "MAPE from 2019-07-01 to 2020-01-01: 1.4\n",
            "MAPE from 2020-01-01 to 2020-07-01: 0.7\n",
            "MAPE from 2020-07-01 to 2021-01-01: 2.2\n",
            "MAPE from 2021-01-01 to 2021-07-01: 4.9\n",
            "MAPE from 2021-07-01 to 2022-01-01: 11.4\n",
            "MAPE from 2022-01-01 to 2022-07-01: 8.4\n",
            "MAPE from 2022-07-01 to 2023-01-01: 7.4\n",
            "MAPE from 2023-01-01 to 2023-07-01: 13.3\n",
            "MAPE from 2023-07-01 to 2024-01-01: 2.3\n"
          ]
        }
      ]
    },
    {
      "cell_type": "code",
      "source": [
        "average_mape = np.mean(mape_values)\n",
        "print(f\"Average MAPE: {average_mape:.1f}\")"
      ],
      "metadata": {
        "colab": {
          "base_uri": "https://localhost:8080/"
        },
        "outputId": "ebc186c5-149b-4d5a-81fa-329d3fdfbabb",
        "id": "fBC-FLe8QNyq"
      },
      "execution_count": null,
      "outputs": [
        {
          "output_type": "stream",
          "name": "stdout",
          "text": [
            "Average MAPE: 5.5\n"
          ]
        }
      ]
    },
    {
      "cell_type": "markdown",
      "source": [
        "### 3-month prediction\n"
      ],
      "metadata": {
        "id": "C_BofCJDQNyr"
      }
    },
    {
      "cell_type": "code",
      "source": [
        "mape_values = []\n",
        "for start, end in test_periods:\n",
        "    mape = calculate_mape_3(start, end, 0.05)\n",
        "    mape_values.append(mape)\n",
        "    print(f\"MAPE from {start} to {end}: {mape:.1f}\")"
      ],
      "metadata": {
        "colab": {
          "base_uri": "https://localhost:8080/"
        },
        "outputId": "e4771809-4253-4dc9-bc16-9e9692c4a8c3",
        "id": "1eOtxaxnQNyr"
      },
      "execution_count": null,
      "outputs": [
        {
          "output_type": "stream",
          "name": "stdout",
          "text": [
            "MAPE from 2019-01-01 to 2019-07-01: 5.5\n",
            "MAPE from 2019-07-01 to 2020-01-01: 3.3\n",
            "MAPE from 2020-01-01 to 2020-07-01: 0.8\n",
            "MAPE from 2020-07-01 to 2021-01-01: 3.7\n",
            "MAPE from 2021-01-01 to 2021-07-01: 6.4\n",
            "MAPE from 2021-07-01 to 2022-01-01: 27.9\n",
            "MAPE from 2022-01-01 to 2022-07-01: 5.6\n",
            "MAPE from 2022-07-01 to 2023-01-01: 9.4\n",
            "MAPE from 2023-01-01 to 2023-07-01: 16.0\n",
            "MAPE from 2023-07-01 to 2024-01-01: 37.8\n"
          ]
        }
      ]
    },
    {
      "cell_type": "code",
      "source": [
        "average_mape = np.mean(mape_values)\n",
        "print(f\"Average MAPE: {average_mape:.1f}\")"
      ],
      "metadata": {
        "colab": {
          "base_uri": "https://localhost:8080/"
        },
        "outputId": "536e77ba-914d-482b-dc0c-5685f26de85f",
        "id": "fvZrZkxkQNyr"
      },
      "execution_count": null,
      "outputs": [
        {
          "output_type": "stream",
          "name": "stdout",
          "text": [
            "Average MAPE: 11.6\n"
          ]
        }
      ]
    },
    {
      "cell_type": "markdown",
      "source": [
        "### 6-month prediction"
      ],
      "metadata": {
        "id": "YRCby4p8QNyr"
      }
    },
    {
      "cell_type": "code",
      "source": [
        "mape_values = []\n",
        "for start, end in test_periods:\n",
        "    mape = calculate_mape_6(start, end, 0.1)\n",
        "    mape_values.append(mape)\n",
        "    print(f\"MAPE from {start} to {end}: {mape:.1f}\")"
      ],
      "metadata": {
        "colab": {
          "base_uri": "https://localhost:8080/"
        },
        "outputId": "23f79ab1-b081-4a8c-80a8-bbb1327028a9",
        "id": "uKkgwYDiQNyr"
      },
      "execution_count": null,
      "outputs": [
        {
          "output_type": "stream",
          "name": "stdout",
          "text": [
            "MAPE from 2019-01-01 to 2019-07-01: 3.4\n",
            "MAPE from 2019-07-01 to 2020-01-01: 3.4\n",
            "MAPE from 2020-01-01 to 2020-07-01: 2.1\n",
            "MAPE from 2020-07-01 to 2021-01-01: 3.8\n",
            "MAPE from 2021-01-01 to 2021-07-01: 8.5\n",
            "MAPE from 2021-07-01 to 2022-01-01: 38.6\n",
            "MAPE from 2022-01-01 to 2022-07-01: 38.8\n",
            "MAPE from 2022-07-01 to 2023-01-01: 12.9\n",
            "MAPE from 2023-01-01 to 2023-07-01: 72.6\n",
            "MAPE from 2023-07-01 to 2024-01-01: 22.6\n"
          ]
        }
      ]
    },
    {
      "cell_type": "code",
      "source": [
        "average_mape = np.mean(mape_values)\n",
        "print(f\"Average MAPE: {average_mape:.1f}\")"
      ],
      "metadata": {
        "colab": {
          "base_uri": "https://localhost:8080/"
        },
        "outputId": "7c4a6dc4-0e57-4c6b-de26-5e47e7771c0e",
        "id": "QEihtQNEQNyr"
      },
      "execution_count": null,
      "outputs": [
        {
          "output_type": "stream",
          "name": "stdout",
          "text": [
            "Average MAPE: 20.7\n"
          ]
        }
      ]
    },
    {
      "cell_type": "markdown",
      "source": [
        "# Fatty acid"
      ],
      "metadata": {
        "id": "12b27c9tEHl6"
      }
    },
    {
      "cell_type": "code",
      "source": [
        "feature_df = pd.read_csv('/content/drive/MyDrive/Colab Notebooks/Thesis/dataframe/fatty acid_feature.csv',index_col=0)\n",
        "feature_df['Time'] = pd.to_datetime(feature_df['Time'])\n",
        "print(feature_df)"
      ],
      "metadata": {
        "colab": {
          "base_uri": "https://localhost:8080/"
        },
        "outputId": "db513c9f-55c9-4fb3-84c4-67c169446a98",
        "id": "Ky-uZLrkEHl6"
      },
      "execution_count": null,
      "outputs": [
        {
          "output_type": "stream",
          "name": "stdout",
          "text": [
            "     RM14/0001  Year  Month       Time Group Description  Average_price  \\\n",
            "14        True  2016      1 2016-01-29        fatty acid       0.650000   \n",
            "15        True  2016      2 2016-02-29        fatty acid       0.749500   \n",
            "16        True  2016      3 2016-03-31        fatty acid       0.904000   \n",
            "17        True  2016      4 2016-04-30        fatty acid       0.980333   \n",
            "18        True  2016      5 2016-05-31        fatty acid       0.939663   \n",
            "..         ...   ...    ...        ...               ...            ...   \n",
            "105       True  2023      8 2023-08-31        fatty acid       1.617296   \n",
            "106       True  2023      9 2023-09-30        fatty acid       1.371400   \n",
            "107       True  2023     10 2023-10-31        fatty acid       1.534868   \n",
            "108       True  2023     11 2023-11-30        fatty acid       1.386338   \n",
            "109       True  2023     12 2023-12-29        fatty acid       1.502477   \n",
            "\n",
            "     PPOILUSDM_1  PPOILUSDM_2  PPOILUSDM_3  PPOILUSDM_4  ...      AR_3  \\\n",
            "14    520.602568   503.163620   530.246640   483.487308  ...  0.846667   \n",
            "15    531.619443   520.602568   503.163620   530.246640  ...  0.650000   \n",
            "16    595.900683   531.619443   520.602568   503.163620  ...  0.650000   \n",
            "17    633.067783   595.900683   531.619443   520.602568  ...  0.650000   \n",
            "18    680.375487   633.067783   595.900683   531.619443  ...  0.749500   \n",
            "..           ...          ...          ...          ...  ...       ...   \n",
            "105   844.977017   769.098477   834.628551   934.809682  ...  1.695752   \n",
            "106   823.608175   844.977017   769.098477   834.628551  ...  1.514747   \n",
            "107   790.712156   823.608175   844.977017   769.098477  ...  1.402889   \n",
            "108   767.481335   790.712156   823.608175   844.977017  ...  1.617296   \n",
            "109   795.987931   767.481335   790.712156   823.608175  ...  1.371400   \n",
            "\n",
            "         AR_4      AR_5      AR_6      AR_7      AR_8      AR_9     AR_10  \\\n",
            "14   0.943333  1.090000  1.140000  1.127500  0.975000  0.910333  0.910333   \n",
            "15   0.846667  0.943333  1.090000  1.140000  1.127500  0.975000  0.910333   \n",
            "16   0.650000  0.846667  0.943333  1.090000  1.140000  1.127500  0.975000   \n",
            "17   0.650000  0.650000  0.846667  0.943333  1.090000  1.140000  1.127500   \n",
            "18   0.650000  0.650000  0.650000  0.846667  0.943333  1.090000  1.140000   \n",
            "..        ...       ...       ...       ...       ...       ...       ...   \n",
            "105  1.738096  1.672948  1.760050  1.922347  2.083766  2.476585  2.387459   \n",
            "106  1.695752  1.738096  1.672948  1.760050  1.922347  2.083766  2.476585   \n",
            "107  1.514747  1.695752  1.738096  1.672948  1.760050  1.922347  2.083766   \n",
            "108  1.402889  1.514747  1.695752  1.738096  1.672948  1.760050  1.922347   \n",
            "109  1.617296  1.402889  1.514747  1.695752  1.738096  1.672948  1.760050   \n",
            "\n",
            "        AR_11     AR_12  \n",
            "14   0.860000  0.917333  \n",
            "15   0.910333  0.860000  \n",
            "16   0.910333  0.910333  \n",
            "17   0.975000  0.910333  \n",
            "18   1.127500  0.975000  \n",
            "..        ...       ...  \n",
            "105  2.363700  2.459529  \n",
            "106  2.387459  2.363700  \n",
            "107  2.476585  2.387459  \n",
            "108  2.083766  2.476585  \n",
            "109  1.922347  2.083766  \n",
            "\n",
            "[96 rows x 30 columns]\n"
          ]
        }
      ]
    },
    {
      "cell_type": "markdown",
      "source": [
        "### 1-month prediction"
      ],
      "metadata": {
        "id": "qDFFInUdEHl7"
      }
    },
    {
      "cell_type": "code",
      "source": [
        "mape_values = []\n",
        "for start, end in test_periods:\n",
        "    mape = calculate_mape_1(start, end, 0.01)\n",
        "    mape_values.append(mape)\n",
        "    print(f\"MAPE from {start} to {end}: {mape:.1f}\")"
      ],
      "metadata": {
        "colab": {
          "base_uri": "https://localhost:8080/"
        },
        "outputId": "8987cf36-d49e-42e6-db2a-1d4d2a9a18a9",
        "id": "_RYM-UNvEHl7"
      },
      "execution_count": null,
      "outputs": [
        {
          "output_type": "stream",
          "name": "stdout",
          "text": [
            "MAPE from 2019-01-01 to 2019-07-01: 17.3\n",
            "MAPE from 2019-07-01 to 2020-01-01: 15.0\n",
            "MAPE from 2020-01-01 to 2020-07-01: 10.5\n",
            "MAPE from 2020-07-01 to 2021-01-01: 15.3\n",
            "MAPE from 2021-01-01 to 2021-07-01: 11.0\n",
            "MAPE from 2021-07-01 to 2022-01-01: 10.4\n",
            "MAPE from 2022-01-01 to 2022-07-01: 14.5\n",
            "MAPE from 2022-07-01 to 2023-01-01: 8.2\n",
            "MAPE from 2023-01-01 to 2023-07-01: 8.0\n",
            "MAPE from 2023-07-01 to 2024-01-01: 9.9\n"
          ]
        }
      ]
    },
    {
      "cell_type": "code",
      "source": [
        "average_mape = np.mean(mape_values)\n",
        "print(f\"Average MAPE: {average_mape:.1f}\")"
      ],
      "metadata": {
        "colab": {
          "base_uri": "https://localhost:8080/"
        },
        "outputId": "0ebe312a-699b-4749-95e4-3525e5c4bcca",
        "id": "Ku2ilRunEHl7"
      },
      "execution_count": null,
      "outputs": [
        {
          "output_type": "stream",
          "name": "stdout",
          "text": [
            "Average MAPE: 12.0\n"
          ]
        }
      ]
    },
    {
      "cell_type": "markdown",
      "source": [
        "### 3-month prediction\n"
      ],
      "metadata": {
        "id": "GI_nLYqhEHl7"
      }
    },
    {
      "cell_type": "code",
      "source": [
        "mape_values = []\n",
        "for start, end in test_periods:\n",
        "    mape = calculate_mape_3(start, end, 0.01)\n",
        "    mape_values.append(mape)\n",
        "    print(f\"MAPE from {start} to {end}: {mape:.1f}\")"
      ],
      "metadata": {
        "colab": {
          "base_uri": "https://localhost:8080/"
        },
        "outputId": "a5fc0bf7-4f82-45f7-879b-e8daa7b59505",
        "id": "7iKgA80SEHl8"
      },
      "execution_count": null,
      "outputs": [
        {
          "output_type": "stream",
          "name": "stdout",
          "text": [
            "MAPE from 2019-01-01 to 2019-07-01: 21.1\n",
            "MAPE from 2019-07-01 to 2020-01-01: 15.0\n",
            "MAPE from 2020-01-01 to 2020-07-01: 20.1\n",
            "MAPE from 2020-07-01 to 2021-01-01: 16.0\n",
            "MAPE from 2021-01-01 to 2021-07-01: 20.1\n",
            "MAPE from 2021-07-01 to 2022-01-01: 11.8\n",
            "MAPE from 2022-01-01 to 2022-07-01: 23.7\n",
            "MAPE from 2022-07-01 to 2023-01-01: 11.0\n",
            "MAPE from 2023-01-01 to 2023-07-01: 18.4\n",
            "MAPE from 2023-07-01 to 2024-01-01: 7.6\n"
          ]
        }
      ]
    },
    {
      "cell_type": "code",
      "source": [
        "average_mape = np.mean(mape_values)\n",
        "print(f\"Average MAPE: {average_mape:.1f}\")"
      ],
      "metadata": {
        "colab": {
          "base_uri": "https://localhost:8080/"
        },
        "outputId": "4889cdd9-8758-44a5-f4aa-030b50751292",
        "id": "8hTIN74zEHl8"
      },
      "execution_count": null,
      "outputs": [
        {
          "output_type": "stream",
          "name": "stdout",
          "text": [
            "Average MAPE: 16.5\n"
          ]
        }
      ]
    },
    {
      "cell_type": "markdown",
      "source": [
        "### 6-month prediction"
      ],
      "metadata": {
        "id": "tl1d2CJeEHl8"
      }
    },
    {
      "cell_type": "code",
      "source": [
        "mape_values = []\n",
        "for start, end in test_periods:\n",
        "    mape = calculate_mape_6(start, end, 0.2)\n",
        "    mape_values.append(mape)\n",
        "    print(f\"MAPE from {start} to {end}: {mape:.1f}\")"
      ],
      "metadata": {
        "colab": {
          "base_uri": "https://localhost:8080/"
        },
        "outputId": "6177b68c-afb4-4acc-ca8b-2c0650e4d556",
        "id": "b0Ubb4TjEHl8"
      },
      "execution_count": null,
      "outputs": [
        {
          "output_type": "stream",
          "name": "stdout",
          "text": [
            "MAPE from 2019-01-01 to 2019-07-01: 35.0\n",
            "MAPE from 2019-07-01 to 2020-01-01: 26.8\n",
            "MAPE from 2020-01-01 to 2020-07-01: 27.0\n",
            "MAPE from 2020-07-01 to 2021-01-01: 23.7\n",
            "MAPE from 2021-01-01 to 2021-07-01: 16.9\n",
            "MAPE from 2021-07-01 to 2022-01-01: 27.1\n",
            "MAPE from 2022-01-01 to 2022-07-01: 35.4\n",
            "MAPE from 2022-07-01 to 2023-01-01: 32.3\n",
            "MAPE from 2023-01-01 to 2023-07-01: 17.4\n",
            "MAPE from 2023-07-01 to 2024-01-01: 7.8\n"
          ]
        }
      ]
    },
    {
      "cell_type": "code",
      "source": [
        "average_mape = np.mean(mape_values)\n",
        "print(f\"Average MAPE: {average_mape:.1f}\")"
      ],
      "metadata": {
        "colab": {
          "base_uri": "https://localhost:8080/"
        },
        "outputId": "d89e6f6a-2769-42cd-a497-03088f142b81",
        "id": "JVjv267BEHl8"
      },
      "execution_count": null,
      "outputs": [
        {
          "output_type": "stream",
          "name": "stdout",
          "text": [
            "Average MAPE: 24.9\n"
          ]
        }
      ]
    }
  ]
}