{
  "cells": [
    {
      "cell_type": "markdown",
      "metadata": {
        "id": "view-in-github",
        "colab_type": "text"
      },
      "source": [
        "<a href=\"https://colab.research.google.com/github/hxm0707/Raw_Material_Price_Prediction/blob/main/LASSO.ipynb\" target=\"_parent\"><img src=\"https://colab.research.google.com/assets/colab-badge.svg\" alt=\"Open In Colab\"/></a>"
      ]
    },
    {
      "cell_type": "code",
      "execution_count": null,
      "metadata": {
        "id": "Hrr6v3TOFN5X"
      },
      "outputs": [],
      "source": [
        "import pandas as pd\n",
        "from sklearn.linear_model import Lasso\n",
        "from sklearn.preprocessing import StandardScaler\n",
        "from sklearn.model_selection import train_test_split, RandomizedSearchCV\n",
        "from sklearn.metrics import mean_absolute_percentage_error\n",
        "import numpy as np"
      ]
    },
    {
      "cell_type": "code",
      "execution_count": null,
      "metadata": {
        "colab": {
          "base_uri": "https://localhost:8080/"
        },
        "id": "-RwR4q52VHCS",
        "outputId": "80ec6150-8d98-48a4-8244-4d8e852eaa15"
      },
      "outputs": [
        {
          "output_type": "stream",
          "name": "stdout",
          "text": [
            "Drive already mounted at /content/drive; to attempt to forcibly remount, call drive.mount(\"/content/drive\", force_remount=True).\n"
          ]
        }
      ],
      "source": [
        "from google.colab import drive\n",
        "drive.mount('/content/drive')"
      ]
    },
    {
      "cell_type": "code",
      "execution_count": null,
      "metadata": {
        "id": "OcLqU5vbL0Qn"
      },
      "outputs": [],
      "source": [
        "test_periods = [\n",
        "    ('2019-01-01', '2019-07-01'),\n",
        "    ('2019-07-01', '2020-01-01'),\n",
        "    ('2020-01-01', '2020-07-01'),\n",
        "    ('2020-07-01', '2021-01-01'),\n",
        "    ('2021-01-01', '2021-07-01'),\n",
        "    ('2021-07-01', '2022-01-01'),\n",
        "    ('2022-01-01', '2022-07-01'),\n",
        "    ('2022-07-01', '2023-01-01'),\n",
        "    ('2023-01-01', '2023-07-01'),\n",
        "    ('2023-07-01', '2024-01-01'),\n",
        "]"
      ]
    },
    {
      "cell_type": "code",
      "execution_count": null,
      "metadata": {
        "id": "vwan5RQtF9o-"
      },
      "outputs": [],
      "source": [
        "def calculate_mape_1(test_start, test_end,alpha_low):\n",
        "  # Split data into train and test sets\n",
        "  train_df = feature_df[(feature_df['Time'] > '2015-12-31') & (feature_df['Time'] < test_start)]\n",
        "  test_df = feature_df[(feature_df['Time'] >= test_start) & (feature_df['Time'] < test_end)]\n",
        "\n",
        "  ## ------ This part needs to be changed for each forecasting horizon\n",
        "  # Create X, y\n",
        "  X_train = train_df.drop(['Time', 'Group Description', 'Year', 'Month', 'Average_price'],axis=1)\n",
        "  X_test = test_df.drop(['Time', 'Group Description', 'Year','Month','Average_price'],axis=1)\n",
        "\n",
        "  y_train = train_df['Average_price'].values\n",
        "  y_test = test_df['Average_price'].values\n",
        "  ## ------ This part needs to be changed for each forecasting horizon\n",
        "\n",
        "  # Standardlisation\n",
        "  scaler_x = StandardScaler()\n",
        "  X_train_scaled = scaler_x.fit_transform(X_train)\n",
        "  X_test_scaled = scaler_x.transform(X_test)\n",
        "  scaler_y = StandardScaler()\n",
        "  y_train_scaled = scaler_y.fit_transform(y_train.reshape(-1,1))\n",
        "  y_test_scaled = scaler_y.transform(y_test.reshape(-1,1))\n",
        "  # Define the parameter grid\n",
        "  param_grid = {'alpha': np.linspace(alpha_low, 1, 3000)}\n",
        "  # Create a Lasso regression model\n",
        "  lasso = Lasso()\n",
        "  # Create RandomizedSearchCV object\n",
        "  random_search = RandomizedSearchCV(estimator=lasso,\n",
        "                                   param_distributions=param_grid,\n",
        "                                   n_iter=300,\n",
        "                                   cv=5,\n",
        "                                   random_state=42)\n",
        "  # Fit the data to perform a grid search\n",
        "  random_search.fit(X_train_scaled, y_train_scaled)\n",
        "  assert random_search.n_features_in_ == len(X_train.columns)\n",
        "  # Get the best Lasso model from RandomizedSearchCV\n",
        "  best_lasso_model = random_search.best_estimator_\n",
        "  # Predict on the test data\n",
        "  y_pred_test = best_lasso_model.predict(X_test_scaled)\n",
        "  y_pred_test_inverse = scaler_y.inverse_transform(y_pred_test.reshape(-1,1)) # the model was trained with log-transformed and standardlised y\n",
        "  mape = round(mean_absolute_percentage_error(y_test,y_pred_test_inverse), 3)\n",
        "  mape = mape * 100\n",
        "  return (mape)"
      ]
    },
    {
      "cell_type": "code",
      "execution_count": null,
      "metadata": {
        "id": "ug7kcJQ7CoXd"
      },
      "outputs": [],
      "source": [
        "def calculate_mape_3(test_start, test_end, alpha_low):\n",
        "  # Split data into train and test sets\n",
        "  train_df = feature_df[(feature_df['Time'] > '2015-12-31') & (feature_df['Time'] < test_start)]\n",
        "  test_df = feature_df[(feature_df['Time'] >= test_start) & (feature_df['Time'] < test_end)]\n",
        "\n",
        "  ## ------ This part needs to be changed for each forecasting horizon\n",
        "  # Create X, y\n",
        "  X_train = train_df.drop(['Time', 'Group Description', 'Year','Month','Average_price'],axis=1)\n",
        "  X_train = X_train[X_train.columns.drop(list(X_train.filter(regex='_1$|_2$')))]\n",
        "  X_test = test_df.drop(['Time', 'Group Description', 'Year','Month','Average_price'],axis=1)\n",
        "  X_test = X_test[X_test.columns.drop(list(X_test.filter(regex='_1$|_2$')))]\n",
        "\n",
        "  y_train = train_df['Average_price'].values\n",
        "  y_test = test_df['Average_price'].values\n",
        "  ## ------ This part needs to be changed for each forecasting horizon\n",
        "\n",
        "  # Standardlisation\n",
        "  scaler_x = StandardScaler()\n",
        "  X_train_scaled = scaler_x.fit_transform(X_train)\n",
        "  X_test_scaled = scaler_x.transform(X_test)\n",
        "  scaler_y = StandardScaler()\n",
        "  y_train_scaled = scaler_y.fit_transform(y_train.reshape(-1,1))\n",
        "  y_test_scaled = scaler_y.transform(y_test.reshape(-1,1))\n",
        "  # Define the parameter grid\n",
        "  param_grid = {'alpha': np.linspace(alpha_low, 1, 3000)}\n",
        "  # Create a Lasso regression model\n",
        "  lasso = Lasso()\n",
        "  # Create RandomizedSearchCV object\n",
        "  random_search = RandomizedSearchCV(estimator=lasso,\n",
        "                                   param_distributions=param_grid,\n",
        "                                   n_iter=300,\n",
        "                                   cv=5,\n",
        "                                   random_state=42)\n",
        "  # Fit the data to perform a grid search\n",
        "  random_search.fit(X_train_scaled, y_train_scaled)\n",
        "  assert random_search.n_features_in_ == len(X_train.columns)\n",
        "  # Get the best Lasso model from RandomizedSearchCV\n",
        "  best_lasso_model = random_search.best_estimator_\n",
        "  # Predict on the test data\n",
        "  y_pred_test = best_lasso_model.predict(X_test_scaled)\n",
        "  y_pred_test_inverse = scaler_y.inverse_transform(y_pred_test.reshape(-1,1)) # the model was trained with log-transformed and standardlised y\n",
        "  mape = round(mean_absolute_percentage_error(y_test,y_pred_test_inverse), 3)\n",
        "  mape = mape * 100\n",
        "  return (mape)"
      ]
    },
    {
      "cell_type": "code",
      "execution_count": null,
      "metadata": {
        "id": "bJSN9-mZb6BC"
      },
      "outputs": [],
      "source": [
        "def calculate_mape_6(test_start, test_end, alpha_low):\n",
        "  # Split data into train and test sets\n",
        "  train_df = feature_df[(feature_df['Time'] > '2015-12-31') & (feature_df['Time'] < test_start)]\n",
        "  test_df = feature_df[(feature_df['Time'] >= test_start) & (feature_df['Time'] < test_end)]\n",
        "\n",
        "  ## ------ This part needs to be changed for each forecasting horizon\n",
        "  # Create X, y\n",
        "  X_train = train_df.drop(['Time', 'Group Description', 'Year','Month','Average_price'],axis=1)\n",
        "  X_train = X_train[X_train.columns.drop(list(X_train.filter(regex='_1$|_2$|_3$|_4$|_5$')))]\n",
        "  X_test = test_df.drop(['Time', 'Group Description', 'Year','Month','Average_price'],axis=1)\n",
        "  X_test = X_test[X_test.columns.drop(list(X_test.filter(regex='_1$|_2$|_3$|_4$|_5$')))]\n",
        "\n",
        "  y_train = train_df['Average_price'].values\n",
        "  y_test = test_df['Average_price'].values\n",
        "  ## ------ This part needs to be changed for each forecasting horizon\n",
        "\n",
        "  # Standardlisation\n",
        "  scaler_x = StandardScaler()\n",
        "  X_train_scaled = scaler_x.fit_transform(X_train)\n",
        "  X_test_scaled = scaler_x.transform(X_test)\n",
        "  scaler_y = StandardScaler()\n",
        "  y_train_scaled = scaler_y.fit_transform(y_train.reshape(-1,1))\n",
        "  y_test_scaled = scaler_y.transform(y_test.reshape(-1,1))\n",
        "  # Define the parameter grid\n",
        "  param_grid = {'alpha': np.linspace(alpha_low, 1, 3000)}\n",
        "  # Create a Lasso regression model\n",
        "  lasso = Lasso()\n",
        "  # Create RandomizedSearchCV object\n",
        "  random_search = RandomizedSearchCV(estimator=lasso,\n",
        "                                   param_distributions=param_grid,\n",
        "                                   n_iter=300,\n",
        "                                   cv=5,\n",
        "                                   random_state=42)\n",
        "  # Fit the data to perform a grid search\n",
        "  random_search.fit(X_train_scaled, y_train_scaled)\n",
        "  assert random_search.n_features_in_ == len(X_train.columns)\n",
        "  # Get the best Lasso model from RandomizedSearchCV\n",
        "  best_lasso_model = random_search.best_estimator_\n",
        "  # Predict on the test data\n",
        "  y_pred_test = best_lasso_model.predict(X_test_scaled)\n",
        "  y_pred_test_inverse = scaler_y.inverse_transform(y_pred_test.reshape(-1,1)) # the model was trained with log-transformed and standardlised y\n",
        "  mape = round(mean_absolute_percentage_error(y_test,y_pred_test_inverse), 3)\n",
        "  mape = mape * 100\n",
        "  return (mape)"
      ]
    },
    {
      "cell_type": "markdown",
      "metadata": {
        "id": "TDXEiWNRBv9R"
      },
      "source": [
        "# Alkalis"
      ]
    },
    {
      "cell_type": "code",
      "execution_count": null,
      "metadata": {
        "colab": {
          "base_uri": "https://localhost:8080/"
        },
        "id": "haTO1095FgC8",
        "outputId": "bc6b77ec-0049-4ce0-fbed-99dd29f10bcd"
      },
      "outputs": [
        {
          "output_type": "stream",
          "name": "stdout",
          "text": [
            "     RM02/0001  RM02/0002  Year  Month       Time Group Description  \\\n",
            "24       False       True  2016      1 2016-01-31           alkalis   \n",
            "25        True      False  2016      1 2016-01-31           alkalis   \n",
            "26       False       True  2016      2 2016-02-29           alkalis   \n",
            "27        True      False  2016      2 2016-02-29           alkalis   \n",
            "28       False       True  2016      3 2016-03-31           alkalis   \n",
            "..         ...        ...   ...    ...        ...               ...   \n",
            "211       True      False  2023     10 2023-10-31           alkalis   \n",
            "212      False       True  2023     11 2023-11-30           alkalis   \n",
            "213       True      False  2023     11 2023-11-30           alkalis   \n",
            "214      False       True  2023     12 2023-12-20           alkalis   \n",
            "215       True      False  2023     12 2023-12-31           alkalis   \n",
            "\n",
            "     Average_price  PNGASEUUSDM_1  Electricity_1  PNGASEUUSDM_2  ...  \\\n",
            "24        0.409500       5.810000          48.38       5.870000  ...   \n",
            "25        0.178381       5.810000          48.38       5.870000  ...   \n",
            "26        0.382000       5.090000          41.42       5.810000  ...   \n",
            "27        0.172634       5.090000          41.42       5.810000  ...   \n",
            "28        0.385000       4.790000          38.14       5.090000  ...   \n",
            "..             ...            ...            ...            ...  ...   \n",
            "211       0.334423      11.427930          89.17      10.717421  ...   \n",
            "212       0.591923      13.388843         101.92      11.427930  ...   \n",
            "213       0.330826      13.388843         101.92      11.427930  ...   \n",
            "214       0.575871      13.714316         115.07      13.388843  ...   \n",
            "215       0.334498      13.714316         115.07      13.388843  ...   \n",
            "\n",
            "         AR_3      AR_4      AR_5      AR_6      AR_7      AR_8      AR_9  \\\n",
            "24   0.463000  0.468750  0.460000  0.466667  0.441667  0.446667  0.446667   \n",
            "25   0.179496  0.180640  0.182136  0.180389  0.183176  0.184364  0.171045   \n",
            "26   0.455333  0.463000  0.468750  0.460000  0.466667  0.441667  0.446667   \n",
            "27   0.178768  0.179496  0.180640  0.182136  0.180389  0.183176  0.184364   \n",
            "28   0.408000  0.455333  0.463000  0.468750  0.460000  0.466667  0.441667   \n",
            "..        ...       ...       ...       ...       ...       ...       ...   \n",
            "211  0.353267  0.357807  0.380117  0.536686  0.627905  0.652717  0.817147   \n",
            "212  0.754010  0.873935  0.903387  0.998419  1.322798  1.478300  1.648967   \n",
            "213  0.353902  0.353267  0.357807  0.380117  0.536686  0.627905  0.652717   \n",
            "214  0.713726  0.754010  0.873935  0.903387  0.998419  1.322798  1.478300   \n",
            "215  0.329119  0.353902  0.353267  0.357807  0.380117  0.536686  0.627905   \n",
            "\n",
            "        AR_10     AR_11     AR_12  \n",
            "24   0.443750  0.446667  0.446667  \n",
            "25   0.169300  0.169500  0.168273  \n",
            "26   0.446667  0.443750  0.446667  \n",
            "27   0.171045  0.169300  0.169500  \n",
            "28   0.446667  0.446667  0.443750  \n",
            "..        ...       ...       ...  \n",
            "211  0.954066  1.127491  1.058680  \n",
            "212  1.664912  1.807359  1.810897  \n",
            "213  0.817147  0.954066  1.127491  \n",
            "214  1.648967  1.664912  1.807359  \n",
            "215  0.652717  0.817147  0.954066  \n",
            "\n",
            "[192 rows x 43 columns]\n"
          ]
        }
      ],
      "source": [
        "feature_df = pd.read_csv('/content/drive/MyDrive/Colab Notebooks/Thesis/dataframe/alkalis_feature.csv',index_col=0)\n",
        "feature_df['Time'] = pd.to_datetime(feature_df['Time'])\n",
        "print(feature_df)"
      ]
    },
    {
      "cell_type": "code",
      "execution_count": null,
      "metadata": {
        "colab": {
          "base_uri": "https://localhost:8080/"
        },
        "id": "yxUjcQdLKJ_U",
        "outputId": "62424ea6-7432-4c4d-e7a9-c3b60e1e6771"
      },
      "outputs": [
        {
          "output_type": "stream",
          "name": "stdout",
          "text": [
            "<class 'pandas.core.frame.DataFrame'>\n",
            "Index: 96 entries, 25 to 215\n",
            "Data columns (total 43 columns):\n",
            " #   Column             Non-Null Count  Dtype         \n",
            "---  ------             --------------  -----         \n",
            " 0   RM02/0001          96 non-null     bool          \n",
            " 1   RM02/0002          96 non-null     bool          \n",
            " 2   Year               96 non-null     int64         \n",
            " 3   Month              96 non-null     int64         \n",
            " 4   Time               96 non-null     datetime64[ns]\n",
            " 5   Group Description  96 non-null     object        \n",
            " 6   Average_price      96 non-null     float64       \n",
            " 7   PNGASEUUSDM_1      96 non-null     float64       \n",
            " 8   Electricity_1      96 non-null     float64       \n",
            " 9   PNGASEUUSDM_2      96 non-null     float64       \n",
            " 10  Electricity_2      96 non-null     float64       \n",
            " 11  PNGASEUUSDM_3      96 non-null     float64       \n",
            " 12  Electricity_3      96 non-null     float64       \n",
            " 13  PNGASEUUSDM_4      96 non-null     float64       \n",
            " 14  Electricity_4      96 non-null     float64       \n",
            " 15  PNGASEUUSDM_5      96 non-null     float64       \n",
            " 16  Electricity_5      96 non-null     float64       \n",
            " 17  PNGASEUUSDM_6      96 non-null     float64       \n",
            " 18  Electricity_6      96 non-null     float64       \n",
            " 19  PNGASEUUSDM_7      96 non-null     float64       \n",
            " 20  Electricity_7      96 non-null     float64       \n",
            " 21  PNGASEUUSDM_8      96 non-null     float64       \n",
            " 22  Electricity_8      96 non-null     float64       \n",
            " 23  PNGASEUUSDM_9      96 non-null     float64       \n",
            " 24  Electricity_9      96 non-null     float64       \n",
            " 25  PNGASEUUSDM_10     96 non-null     float64       \n",
            " 26  Electricity_10     96 non-null     float64       \n",
            " 27  PNGASEUUSDM_11     96 non-null     float64       \n",
            " 28  Electricity_11     96 non-null     float64       \n",
            " 29  PNGASEUUSDM_12     96 non-null     float64       \n",
            " 30  Electricity_12     96 non-null     float64       \n",
            " 31  AR_1               96 non-null     float64       \n",
            " 32  AR_2               96 non-null     float64       \n",
            " 33  AR_3               96 non-null     float64       \n",
            " 34  AR_4               96 non-null     float64       \n",
            " 35  AR_5               96 non-null     float64       \n",
            " 36  AR_6               96 non-null     float64       \n",
            " 37  AR_7               96 non-null     float64       \n",
            " 38  AR_8               96 non-null     float64       \n",
            " 39  AR_9               96 non-null     float64       \n",
            " 40  AR_10              96 non-null     float64       \n",
            " 41  AR_11              96 non-null     float64       \n",
            " 42  AR_12              96 non-null     float64       \n",
            "dtypes: bool(2), datetime64[ns](1), float64(37), int64(2), object(1)\n",
            "memory usage: 31.7+ KB\n",
            "None\n"
          ]
        }
      ],
      "source": [
        "df_0001 = feature_df[feature_df['RM02/0001'] == 1]\n",
        "print(df_0001.info())"
      ]
    },
    {
      "cell_type": "code",
      "execution_count": null,
      "metadata": {
        "colab": {
          "base_uri": "https://localhost:8080/"
        },
        "id": "AW2knezKMSQo",
        "outputId": "83d5368c-f210-478f-8b7d-9fa1a0cd778f"
      },
      "outputs": [
        {
          "output_type": "stream",
          "name": "stdout",
          "text": [
            "<class 'pandas.core.frame.DataFrame'>\n",
            "Index: 96 entries, 24 to 214\n",
            "Data columns (total 43 columns):\n",
            " #   Column             Non-Null Count  Dtype         \n",
            "---  ------             --------------  -----         \n",
            " 0   RM02/0001          96 non-null     bool          \n",
            " 1   RM02/0002          96 non-null     bool          \n",
            " 2   Year               96 non-null     int64         \n",
            " 3   Month              96 non-null     int64         \n",
            " 4   Time               96 non-null     datetime64[ns]\n",
            " 5   Group Description  96 non-null     object        \n",
            " 6   Average_price      96 non-null     float64       \n",
            " 7   PNGASEUUSDM_1      96 non-null     float64       \n",
            " 8   Electricity_1      96 non-null     float64       \n",
            " 9   PNGASEUUSDM_2      96 non-null     float64       \n",
            " 10  Electricity_2      96 non-null     float64       \n",
            " 11  PNGASEUUSDM_3      96 non-null     float64       \n",
            " 12  Electricity_3      96 non-null     float64       \n",
            " 13  PNGASEUUSDM_4      96 non-null     float64       \n",
            " 14  Electricity_4      96 non-null     float64       \n",
            " 15  PNGASEUUSDM_5      96 non-null     float64       \n",
            " 16  Electricity_5      96 non-null     float64       \n",
            " 17  PNGASEUUSDM_6      96 non-null     float64       \n",
            " 18  Electricity_6      96 non-null     float64       \n",
            " 19  PNGASEUUSDM_7      96 non-null     float64       \n",
            " 20  Electricity_7      96 non-null     float64       \n",
            " 21  PNGASEUUSDM_8      96 non-null     float64       \n",
            " 22  Electricity_8      96 non-null     float64       \n",
            " 23  PNGASEUUSDM_9      96 non-null     float64       \n",
            " 24  Electricity_9      96 non-null     float64       \n",
            " 25  PNGASEUUSDM_10     96 non-null     float64       \n",
            " 26  Electricity_10     96 non-null     float64       \n",
            " 27  PNGASEUUSDM_11     96 non-null     float64       \n",
            " 28  Electricity_11     96 non-null     float64       \n",
            " 29  PNGASEUUSDM_12     96 non-null     float64       \n",
            " 30  Electricity_12     96 non-null     float64       \n",
            " 31  AR_1               96 non-null     float64       \n",
            " 32  AR_2               96 non-null     float64       \n",
            " 33  AR_3               96 non-null     float64       \n",
            " 34  AR_4               96 non-null     float64       \n",
            " 35  AR_5               96 non-null     float64       \n",
            " 36  AR_6               96 non-null     float64       \n",
            " 37  AR_7               96 non-null     float64       \n",
            " 38  AR_8               96 non-null     float64       \n",
            " 39  AR_9               96 non-null     float64       \n",
            " 40  AR_10              96 non-null     float64       \n",
            " 41  AR_11              96 non-null     float64       \n",
            " 42  AR_12              96 non-null     float64       \n",
            "dtypes: bool(2), datetime64[ns](1), float64(37), int64(2), object(1)\n",
            "memory usage: 31.7+ KB\n",
            "None\n"
          ]
        }
      ],
      "source": [
        "df_0002 = feature_df[feature_df['RM02/0002'] == 1]\n",
        "print(df_0002.info())"
      ]
    },
    {
      "cell_type": "markdown",
      "metadata": {
        "id": "VKpXeZyRKqvN"
      },
      "source": [
        "## 0001"
      ]
    },
    {
      "cell_type": "code",
      "execution_count": null,
      "metadata": {
        "id": "qDLPmHmLKtDo"
      },
      "outputs": [],
      "source": [
        "feature_df = df_0001"
      ]
    },
    {
      "cell_type": "code",
      "execution_count": null,
      "metadata": {
        "colab": {
          "base_uri": "https://localhost:8080/"
        },
        "id": "FYly_pnXJXIW",
        "outputId": "b197d476-6c0c-4fab-fa4f-d00aad47d031"
      },
      "outputs": [
        {
          "output_type": "stream",
          "name": "stdout",
          "text": [
            "<class 'pandas.core.frame.DataFrame'>\n",
            "Index: 96 entries, 25 to 215\n",
            "Data columns (total 41 columns):\n",
            " #   Column             Non-Null Count  Dtype         \n",
            "---  ------             --------------  -----         \n",
            " 0   Year               96 non-null     int64         \n",
            " 1   Month              96 non-null     int64         \n",
            " 2   Time               96 non-null     datetime64[ns]\n",
            " 3   Group Description  96 non-null     object        \n",
            " 4   Average_price      96 non-null     float64       \n",
            " 5   PNGASEUUSDM_1      96 non-null     float64       \n",
            " 6   Electricity_1      96 non-null     float64       \n",
            " 7   PNGASEUUSDM_2      96 non-null     float64       \n",
            " 8   Electricity_2      96 non-null     float64       \n",
            " 9   PNGASEUUSDM_3      96 non-null     float64       \n",
            " 10  Electricity_3      96 non-null     float64       \n",
            " 11  PNGASEUUSDM_4      96 non-null     float64       \n",
            " 12  Electricity_4      96 non-null     float64       \n",
            " 13  PNGASEUUSDM_5      96 non-null     float64       \n",
            " 14  Electricity_5      96 non-null     float64       \n",
            " 15  PNGASEUUSDM_6      96 non-null     float64       \n",
            " 16  Electricity_6      96 non-null     float64       \n",
            " 17  PNGASEUUSDM_7      96 non-null     float64       \n",
            " 18  Electricity_7      96 non-null     float64       \n",
            " 19  PNGASEUUSDM_8      96 non-null     float64       \n",
            " 20  Electricity_8      96 non-null     float64       \n",
            " 21  PNGASEUUSDM_9      96 non-null     float64       \n",
            " 22  Electricity_9      96 non-null     float64       \n",
            " 23  PNGASEUUSDM_10     96 non-null     float64       \n",
            " 24  Electricity_10     96 non-null     float64       \n",
            " 25  PNGASEUUSDM_11     96 non-null     float64       \n",
            " 26  Electricity_11     96 non-null     float64       \n",
            " 27  PNGASEUUSDM_12     96 non-null     float64       \n",
            " 28  Electricity_12     96 non-null     float64       \n",
            " 29  AR_1               96 non-null     float64       \n",
            " 30  AR_2               96 non-null     float64       \n",
            " 31  AR_3               96 non-null     float64       \n",
            " 32  AR_4               96 non-null     float64       \n",
            " 33  AR_5               96 non-null     float64       \n",
            " 34  AR_6               96 non-null     float64       \n",
            " 35  AR_7               96 non-null     float64       \n",
            " 36  AR_8               96 non-null     float64       \n",
            " 37  AR_9               96 non-null     float64       \n",
            " 38  AR_10              96 non-null     float64       \n",
            " 39  AR_11              96 non-null     float64       \n",
            " 40  AR_12              96 non-null     float64       \n",
            "dtypes: datetime64[ns](1), float64(37), int64(2), object(1)\n",
            "memory usage: 31.5+ KB\n",
            "None\n"
          ]
        }
      ],
      "source": [
        "columns_to_drop = [column for column in feature_df.columns if 'RM' in column]\n",
        "feature_df = feature_df.drop(columns=columns_to_drop)\n",
        "print(feature_df.info())"
      ]
    },
    {
      "cell_type": "markdown",
      "metadata": {
        "id": "hpbYMFy0Ky6_"
      },
      "source": [
        "### 1-month prediction"
      ]
    },
    {
      "cell_type": "code",
      "execution_count": null,
      "metadata": {
        "id": "-W84CREvMPCL",
        "colab": {
          "base_uri": "https://localhost:8080/"
        },
        "outputId": "bb5bb110-0863-4f1e-95b5-5d8fcc285de7"
      },
      "outputs": [
        {
          "output_type": "stream",
          "name": "stdout",
          "text": [
            "MAPE from 2019-01-01 to 2019-07-01: 2.6\n",
            "MAPE from 2019-07-01 to 2020-01-01: 3.8\n",
            "MAPE from 2020-01-01 to 2020-07-01: 6.1\n",
            "MAPE from 2020-07-01 to 2021-01-01: 7.8\n",
            "MAPE from 2021-01-01 to 2021-07-01: 6.5\n",
            "MAPE from 2021-07-01 to 2022-01-01: 7.7\n",
            "MAPE from 2022-01-01 to 2022-07-01: 10.0\n",
            "MAPE from 2022-07-01 to 2023-01-01: 12.8\n",
            "MAPE from 2023-01-01 to 2023-07-01: 39.8\n",
            "MAPE from 2023-07-01 to 2024-01-01: 3.3\n"
          ]
        }
      ],
      "source": [
        "mape_values = []\n",
        "for start, end in test_periods:\n",
        "    mape = calculate_mape_1(start, end, 0.1)\n",
        "    mape_values.append(mape)\n",
        "    print(f\"MAPE from {start} to {end}: {mape:.1f}\")"
      ]
    },
    {
      "cell_type": "code",
      "execution_count": null,
      "metadata": {
        "id": "GDKlZEd_MZO2",
        "colab": {
          "base_uri": "https://localhost:8080/"
        },
        "outputId": "0f0d84f0-cc22-45e6-ba42-1f7e7d7a2846"
      },
      "outputs": [
        {
          "output_type": "stream",
          "name": "stdout",
          "text": [
            "Average MAPE: 10.0\n"
          ]
        }
      ],
      "source": [
        "average_mape = np.mean(mape_values)\n",
        "print(f\"Average MAPE: {average_mape:.1f}\")"
      ]
    },
    {
      "cell_type": "markdown",
      "metadata": {
        "id": "XVVNycP3VlkM"
      },
      "source": [
        "### 3-month prediction\n"
      ]
    },
    {
      "cell_type": "code",
      "execution_count": null,
      "metadata": {
        "id": "Ivd5vIFmaG09",
        "colab": {
          "base_uri": "https://localhost:8080/"
        },
        "outputId": "77ecae38-f69c-4a39-8919-8b3436d3b229"
      },
      "outputs": [
        {
          "output_type": "stream",
          "name": "stdout",
          "text": [
            "MAPE from 2019-01-01 to 2019-07-01: 5.1\n",
            "MAPE from 2019-07-01 to 2020-01-01: 10.6\n",
            "MAPE from 2020-01-01 to 2020-07-01: 12.7\n",
            "MAPE from 2020-07-01 to 2021-01-01: 15.7\n",
            "MAPE from 2021-01-01 to 2021-07-01: 18.2\n",
            "MAPE from 2021-07-01 to 2022-01-01: 12.8\n",
            "MAPE from 2022-01-01 to 2022-07-01: 17.9\n",
            "MAPE from 2022-07-01 to 2023-01-01: 26.2\n",
            "MAPE from 2023-01-01 to 2023-07-01: 59.8\n",
            "MAPE from 2023-07-01 to 2024-01-01: 5.2\n"
          ]
        }
      ],
      "source": [
        "mape_values = []\n",
        "for start, end in test_periods:\n",
        "    mape = calculate_mape_3(start, end, 0.2)\n",
        "    mape_values.append(mape)\n",
        "    print(f\"MAPE from {start} to {end}: {mape:.1f}\")"
      ]
    },
    {
      "cell_type": "code",
      "execution_count": null,
      "metadata": {
        "id": "mItqOB7EaJaT",
        "colab": {
          "base_uri": "https://localhost:8080/"
        },
        "outputId": "6aa76879-a07a-4b55-8220-c9a0f3984f70"
      },
      "outputs": [
        {
          "output_type": "stream",
          "name": "stdout",
          "text": [
            "Average MAPE: 18.4\n"
          ]
        }
      ],
      "source": [
        "average_mape = np.mean(mape_values)\n",
        "print(f\"Average MAPE: {average_mape:.1f}\")"
      ]
    },
    {
      "cell_type": "markdown",
      "metadata": {
        "id": "UCybluNnb4C9"
      },
      "source": [
        "### 6-month prediction"
      ]
    },
    {
      "cell_type": "code",
      "execution_count": null,
      "metadata": {
        "id": "uo3_8_Z4cBUN",
        "colab": {
          "base_uri": "https://localhost:8080/"
        },
        "outputId": "d2bd4ab6-8234-4636-8643-6620fabe53d7"
      },
      "outputs": [
        {
          "output_type": "stream",
          "name": "stdout",
          "text": [
            "MAPE from 2019-01-01 to 2019-07-01: 7.5\n",
            "MAPE from 2019-07-01 to 2020-01-01: 11.9\n",
            "MAPE from 2020-01-01 to 2020-07-01: 17.4\n",
            "MAPE from 2020-07-01 to 2021-01-01: 24.2\n",
            "MAPE from 2021-01-01 to 2021-07-01: 36.2\n",
            "MAPE from 2021-07-01 to 2022-01-01: 14.3\n",
            "MAPE from 2022-01-01 to 2022-07-01: 43.3\n",
            "MAPE from 2022-07-01 to 2023-01-01: 55.3\n",
            "MAPE from 2023-01-01 to 2023-07-01: 27.9\n",
            "MAPE from 2023-07-01 to 2024-01-01: 18.3\n"
          ]
        }
      ],
      "source": [
        "mape_values = []\n",
        "for start, end in test_periods:\n",
        "    mape = calculate_mape_6(start, end, 0.6)\n",
        "    mape_values.append(mape)\n",
        "    print(f\"MAPE from {start} to {end}: {mape:.1f}\")"
      ]
    },
    {
      "cell_type": "code",
      "execution_count": null,
      "metadata": {
        "id": "EPztBxN1cBzA",
        "colab": {
          "base_uri": "https://localhost:8080/"
        },
        "outputId": "fbb15e57-26f7-4a1b-aece-7a38a8d39e55"
      },
      "outputs": [
        {
          "output_type": "stream",
          "name": "stdout",
          "text": [
            "Average MAPE: 25.6\n"
          ]
        }
      ],
      "source": [
        "average_mape = np.mean(mape_values)\n",
        "print(f\"Average MAPE: {average_mape:.1f}\")"
      ]
    },
    {
      "cell_type": "markdown",
      "metadata": {
        "id": "NeslsGCiEOuG"
      },
      "source": [
        "## 0002"
      ]
    },
    {
      "cell_type": "code",
      "execution_count": null,
      "metadata": {
        "id": "RWx16ZDYEOuU"
      },
      "outputs": [],
      "source": [
        "feature_df = df_0002"
      ]
    },
    {
      "cell_type": "code",
      "execution_count": null,
      "metadata": {
        "id": "NQQUbNgjJZWF",
        "colab": {
          "base_uri": "https://localhost:8080/"
        },
        "outputId": "95837094-5bec-4608-e922-d8de16cd868c"
      },
      "outputs": [
        {
          "output_type": "stream",
          "name": "stdout",
          "text": [
            "<class 'pandas.core.frame.DataFrame'>\n",
            "Index: 96 entries, 24 to 214\n",
            "Data columns (total 41 columns):\n",
            " #   Column             Non-Null Count  Dtype         \n",
            "---  ------             --------------  -----         \n",
            " 0   Year               96 non-null     int64         \n",
            " 1   Month              96 non-null     int64         \n",
            " 2   Time               96 non-null     datetime64[ns]\n",
            " 3   Group Description  96 non-null     object        \n",
            " 4   Average_price      96 non-null     float64       \n",
            " 5   PNGASEUUSDM_1      96 non-null     float64       \n",
            " 6   Electricity_1      96 non-null     float64       \n",
            " 7   PNGASEUUSDM_2      96 non-null     float64       \n",
            " 8   Electricity_2      96 non-null     float64       \n",
            " 9   PNGASEUUSDM_3      96 non-null     float64       \n",
            " 10  Electricity_3      96 non-null     float64       \n",
            " 11  PNGASEUUSDM_4      96 non-null     float64       \n",
            " 12  Electricity_4      96 non-null     float64       \n",
            " 13  PNGASEUUSDM_5      96 non-null     float64       \n",
            " 14  Electricity_5      96 non-null     float64       \n",
            " 15  PNGASEUUSDM_6      96 non-null     float64       \n",
            " 16  Electricity_6      96 non-null     float64       \n",
            " 17  PNGASEUUSDM_7      96 non-null     float64       \n",
            " 18  Electricity_7      96 non-null     float64       \n",
            " 19  PNGASEUUSDM_8      96 non-null     float64       \n",
            " 20  Electricity_8      96 non-null     float64       \n",
            " 21  PNGASEUUSDM_9      96 non-null     float64       \n",
            " 22  Electricity_9      96 non-null     float64       \n",
            " 23  PNGASEUUSDM_10     96 non-null     float64       \n",
            " 24  Electricity_10     96 non-null     float64       \n",
            " 25  PNGASEUUSDM_11     96 non-null     float64       \n",
            " 26  Electricity_11     96 non-null     float64       \n",
            " 27  PNGASEUUSDM_12     96 non-null     float64       \n",
            " 28  Electricity_12     96 non-null     float64       \n",
            " 29  AR_1               96 non-null     float64       \n",
            " 30  AR_2               96 non-null     float64       \n",
            " 31  AR_3               96 non-null     float64       \n",
            " 32  AR_4               96 non-null     float64       \n",
            " 33  AR_5               96 non-null     float64       \n",
            " 34  AR_6               96 non-null     float64       \n",
            " 35  AR_7               96 non-null     float64       \n",
            " 36  AR_8               96 non-null     float64       \n",
            " 37  AR_9               96 non-null     float64       \n",
            " 38  AR_10              96 non-null     float64       \n",
            " 39  AR_11              96 non-null     float64       \n",
            " 40  AR_12              96 non-null     float64       \n",
            "dtypes: datetime64[ns](1), float64(37), int64(2), object(1)\n",
            "memory usage: 31.5+ KB\n",
            "None\n"
          ]
        }
      ],
      "source": [
        "columns_to_drop = [column for column in feature_df.columns if 'RM' in column]\n",
        "feature_df = feature_df.drop(columns=columns_to_drop)\n",
        "print(feature_df.info())"
      ]
    },
    {
      "cell_type": "markdown",
      "metadata": {
        "id": "AlWVC4BCEOuV"
      },
      "source": [
        "### 1-month prediction"
      ]
    },
    {
      "cell_type": "code",
      "execution_count": null,
      "metadata": {
        "id": "0hyNlHVpEOuV",
        "colab": {
          "base_uri": "https://localhost:8080/"
        },
        "outputId": "fa951d2d-1bb2-4343-872c-4d2ba3fb9f3c"
      },
      "outputs": [
        {
          "output_type": "stream",
          "name": "stdout",
          "text": [
            "MAPE from 2019-01-01 to 2019-07-01: 4.5\n",
            "MAPE from 2019-07-01 to 2020-01-01: 7.8\n",
            "MAPE from 2020-01-01 to 2020-07-01: 10.9\n",
            "MAPE from 2020-07-01 to 2021-01-01: 3.4\n",
            "MAPE from 2021-01-01 to 2021-07-01: 4.0\n",
            "MAPE from 2021-07-01 to 2022-01-01: 12.1\n",
            "MAPE from 2022-01-01 to 2022-07-01: 17.5\n",
            "MAPE from 2022-07-01 to 2023-01-01: 10.7\n",
            "MAPE from 2023-01-01 to 2023-07-01: 16.0\n",
            "MAPE from 2023-07-01 to 2024-01-01: 6.0\n"
          ]
        }
      ],
      "source": [
        "mape_values = []\n",
        "for start, end in test_periods:\n",
        "    mape = calculate_mape_1(start, end, 0.1)\n",
        "    mape_values.append(mape)\n",
        "    print(f\"MAPE from {start} to {end}: {mape:.1f}\")"
      ]
    },
    {
      "cell_type": "code",
      "execution_count": null,
      "metadata": {
        "id": "wS-U4ofiEOuV",
        "colab": {
          "base_uri": "https://localhost:8080/"
        },
        "outputId": "1915b78a-2a5b-410f-8d85-5934153cb89a"
      },
      "outputs": [
        {
          "output_type": "stream",
          "name": "stdout",
          "text": [
            "Average MAPE: 9.3\n"
          ]
        }
      ],
      "source": [
        "average_mape = np.mean(mape_values)\n",
        "print(f\"Average MAPE: {average_mape:.1f}\")"
      ]
    },
    {
      "cell_type": "markdown",
      "metadata": {
        "id": "mIwJNiUdEOuV"
      },
      "source": [
        "### 3-month prediction\n"
      ]
    },
    {
      "cell_type": "code",
      "execution_count": null,
      "metadata": {
        "id": "hTt-69nMEOuV",
        "colab": {
          "base_uri": "https://localhost:8080/"
        },
        "outputId": "c1cffdd7-e081-49dd-cb00-3c89efb4061d"
      },
      "outputs": [
        {
          "output_type": "stream",
          "name": "stdout",
          "text": [
            "MAPE from 2019-01-01 to 2019-07-01: 7.0\n",
            "MAPE from 2019-07-01 to 2020-01-01: 8.7\n",
            "MAPE from 2020-01-01 to 2020-07-01: 13.4\n",
            "MAPE from 2020-07-01 to 2021-01-01: 4.4\n",
            "MAPE from 2021-01-01 to 2021-07-01: 4.7\n",
            "MAPE from 2021-07-01 to 2022-01-01: 14.9\n",
            "MAPE from 2022-01-01 to 2022-07-01: 40.7\n",
            "MAPE from 2022-07-01 to 2023-01-01: 18.5\n",
            "MAPE from 2023-01-01 to 2023-07-01: 23.1\n",
            "MAPE from 2023-07-01 to 2024-01-01: 6.2\n"
          ]
        }
      ],
      "source": [
        "mape_values = []\n",
        "for start, end in test_periods:\n",
        "    mape = calculate_mape_3(start, end, 0.3)\n",
        "    mape_values.append(mape)\n",
        "    print(f\"MAPE from {start} to {end}: {mape:.1f}\")"
      ]
    },
    {
      "cell_type": "code",
      "execution_count": null,
      "metadata": {
        "id": "tMkLLTL1EOuV",
        "colab": {
          "base_uri": "https://localhost:8080/"
        },
        "outputId": "5b4c4fa6-232e-41db-a7df-9479a173574a"
      },
      "outputs": [
        {
          "output_type": "stream",
          "name": "stdout",
          "text": [
            "Average MAPE: 14.2\n"
          ]
        }
      ],
      "source": [
        "average_mape = np.mean(mape_values)\n",
        "print(f\"Average MAPE: {average_mape:.1f}\")"
      ]
    },
    {
      "cell_type": "markdown",
      "metadata": {
        "id": "pCbHR0V5EOuV"
      },
      "source": [
        "### 6-month prediction"
      ]
    },
    {
      "cell_type": "code",
      "execution_count": null,
      "metadata": {
        "id": "NVN10qG1EOuV",
        "colab": {
          "base_uri": "https://localhost:8080/"
        },
        "outputId": "6fb45753-3afe-4ee4-9b91-109f9d44bf7a"
      },
      "outputs": [
        {
          "output_type": "stream",
          "name": "stdout",
          "text": [
            "MAPE from 2019-01-01 to 2019-07-01: 11.9\n",
            "MAPE from 2019-07-01 to 2020-01-01: 8.3\n",
            "MAPE from 2020-01-01 to 2020-07-01: 15.0\n",
            "MAPE from 2020-07-01 to 2021-01-01: 7.0\n",
            "MAPE from 2021-01-01 to 2021-07-01: 3.9\n",
            "MAPE from 2021-07-01 to 2022-01-01: 15.5\n",
            "MAPE from 2022-01-01 to 2022-07-01: 58.3\n",
            "MAPE from 2022-07-01 to 2023-01-01: 54.5\n",
            "MAPE from 2023-01-01 to 2023-07-01: 14.6\n",
            "MAPE from 2023-07-01 to 2024-01-01: 7.0\n"
          ]
        }
      ],
      "source": [
        "mape_values = []\n",
        "for start, end in test_periods:\n",
        "    mape = calculate_mape_6(start, end, 0.5)\n",
        "    mape_values.append(mape)\n",
        "    print(f\"MAPE from {start} to {end}: {mape:.1f}\")"
      ]
    },
    {
      "cell_type": "code",
      "execution_count": null,
      "metadata": {
        "id": "IZEoT2Y2EOuV",
        "colab": {
          "base_uri": "https://localhost:8080/"
        },
        "outputId": "0b075f2e-3a31-4e5d-c93e-b4d85d773df3"
      },
      "outputs": [
        {
          "output_type": "stream",
          "name": "stdout",
          "text": [
            "Average MAPE: 19.6\n"
          ]
        }
      ],
      "source": [
        "average_mape = np.mean(mape_values)\n",
        "print(f\"Average MAPE: {average_mape:.1f}\")"
      ]
    },
    {
      "cell_type": "markdown",
      "metadata": {
        "id": "P00Y4ydeFOfs"
      },
      "source": [
        "# Bleaching Agent"
      ]
    },
    {
      "cell_type": "code",
      "execution_count": null,
      "metadata": {
        "id": "E6qWtgBmFOft",
        "colab": {
          "base_uri": "https://localhost:8080/"
        },
        "outputId": "be1d813b-cf82-4b06-a190-ec7ef1df4d9f"
      },
      "outputs": [
        {
          "output_type": "stream",
          "name": "stdout",
          "text": [
            "     RM04/0001  RM04/0006  Year  Month       Time Group Description  \\\n",
            "12       False       True  2016      1 2016-01-31   bleaching agent   \n",
            "13       False       True  2016      2 2016-02-29   bleaching agent   \n",
            "14       False       True  2016      3 2016-03-31   bleaching agent   \n",
            "15       False       True  2016      4 2016-04-30   bleaching agent   \n",
            "16       False       True  2016      5 2016-05-31   bleaching agent   \n",
            "..         ...        ...   ...    ...        ...               ...   \n",
            "213       True      False  2023      8 2023-08-31   bleaching agent   \n",
            "214       True      False  2023      9 2023-09-30   bleaching agent   \n",
            "215       True      False  2023     10 2023-10-31   bleaching agent   \n",
            "216       True      False  2023     11 2023-11-30   bleaching agent   \n",
            "217       True      False  2023     12 2023-12-31   bleaching agent   \n",
            "\n",
            "     Average_price  PNGASEUUSDM_1  Electricity_1  PNGASEUUSDM_2  ...  \\\n",
            "12        0.130089       5.810000          48.38       5.870000  ...   \n",
            "13        0.110000       5.090000          41.42       5.810000  ...   \n",
            "14        0.122500       4.790000          38.14       5.090000  ...   \n",
            "15        0.123833       4.090000          28.95       4.790000  ...   \n",
            "16        0.127286       4.020000          25.25       4.090000  ...   \n",
            "..             ...            ...            ...            ...  ...   \n",
            "213       0.387688       9.611719          87.58      10.293732  ...   \n",
            "214       0.372093      10.717421          96.46       9.611719  ...   \n",
            "215       0.386432      11.427930          89.17      10.717421  ...   \n",
            "216       0.377390      13.388843         101.92      11.427930  ...   \n",
            "217       0.388208      13.714316         115.07      13.388843  ...   \n",
            "\n",
            "         AR_3      AR_4      AR_5      AR_6      AR_7      AR_8      AR_9  \\\n",
            "12   0.132500  0.146000  0.122857  0.110000  0.128000  0.132500  0.132500   \n",
            "13   0.122857  0.132500  0.146000  0.122857  0.110000  0.128000  0.132500   \n",
            "14   0.110000  0.122857  0.132500  0.146000  0.122857  0.110000  0.128000   \n",
            "15   0.130089  0.110000  0.122857  0.132500  0.146000  0.122857  0.110000   \n",
            "16   0.110000  0.130089  0.110000  0.122857  0.132500  0.146000  0.122857   \n",
            "..        ...       ...       ...       ...       ...       ...       ...   \n",
            "213  0.423318  0.425217  0.472389  0.503297  0.565345  0.583380  0.503474   \n",
            "214  0.421539  0.423318  0.425217  0.472389  0.503297  0.565345  0.583380   \n",
            "215  0.394300  0.421539  0.423318  0.425217  0.472389  0.503297  0.565345   \n",
            "216  0.387688  0.394300  0.421539  0.423318  0.425217  0.472389  0.503297   \n",
            "217  0.372093  0.387688  0.394300  0.421539  0.423318  0.425217  0.472389   \n",
            "\n",
            "        AR_10     AR_11     AR_12  \n",
            "12   0.132500  0.128000  0.132500  \n",
            "13   0.132500  0.132500  0.128000  \n",
            "14   0.132500  0.132500  0.132500  \n",
            "15   0.128000  0.132500  0.132500  \n",
            "16   0.110000  0.128000  0.132500  \n",
            "..        ...       ...       ...  \n",
            "213  0.725724  0.755028  0.607936  \n",
            "214  0.503474  0.725724  0.755028  \n",
            "215  0.583380  0.503474  0.725724  \n",
            "216  0.565345  0.583380  0.503474  \n",
            "217  0.503297  0.565345  0.583380  \n",
            "\n",
            "[189 rows x 43 columns]\n"
          ]
        }
      ],
      "source": [
        "feature_df = pd.read_csv('/content/drive/MyDrive/Colab Notebooks/Thesis/dataframe/bleaching agent_feature.csv',index_col=0)\n",
        "feature_df['Time'] = pd.to_datetime(feature_df['Time'])\n",
        "print(feature_df)"
      ]
    },
    {
      "cell_type": "code",
      "execution_count": null,
      "metadata": {
        "id": "ifHKajO7FOft",
        "colab": {
          "base_uri": "https://localhost:8080/"
        },
        "outputId": "a480cd50-928d-4ea6-ef51-0286352375e6"
      },
      "outputs": [
        {
          "output_type": "stream",
          "name": "stdout",
          "text": [
            "<class 'pandas.core.frame.DataFrame'>\n",
            "Index: 93 entries, 123 to 217\n",
            "Data columns (total 43 columns):\n",
            " #   Column             Non-Null Count  Dtype         \n",
            "---  ------             --------------  -----         \n",
            " 0   RM04/0001          93 non-null     bool          \n",
            " 1   RM04/0006          93 non-null     bool          \n",
            " 2   Year               93 non-null     int64         \n",
            " 3   Month              93 non-null     int64         \n",
            " 4   Time               93 non-null     datetime64[ns]\n",
            " 5   Group Description  93 non-null     object        \n",
            " 6   Average_price      93 non-null     float64       \n",
            " 7   PNGASEUUSDM_1      93 non-null     float64       \n",
            " 8   Electricity_1      93 non-null     float64       \n",
            " 9   PNGASEUUSDM_2      93 non-null     float64       \n",
            " 10  Electricity_2      93 non-null     float64       \n",
            " 11  PNGASEUUSDM_3      93 non-null     float64       \n",
            " 12  Electricity_3      93 non-null     float64       \n",
            " 13  PNGASEUUSDM_4      93 non-null     float64       \n",
            " 14  Electricity_4      93 non-null     float64       \n",
            " 15  PNGASEUUSDM_5      93 non-null     float64       \n",
            " 16  Electricity_5      93 non-null     float64       \n",
            " 17  PNGASEUUSDM_6      93 non-null     float64       \n",
            " 18  Electricity_6      93 non-null     float64       \n",
            " 19  PNGASEUUSDM_7      93 non-null     float64       \n",
            " 20  Electricity_7      93 non-null     float64       \n",
            " 21  PNGASEUUSDM_8      93 non-null     float64       \n",
            " 22  Electricity_8      93 non-null     float64       \n",
            " 23  PNGASEUUSDM_9      93 non-null     float64       \n",
            " 24  Electricity_9      93 non-null     float64       \n",
            " 25  PNGASEUUSDM_10     93 non-null     float64       \n",
            " 26  Electricity_10     93 non-null     float64       \n",
            " 27  PNGASEUUSDM_11     93 non-null     float64       \n",
            " 28  Electricity_11     93 non-null     float64       \n",
            " 29  PNGASEUUSDM_12     93 non-null     float64       \n",
            " 30  Electricity_12     93 non-null     float64       \n",
            " 31  AR_1               93 non-null     float64       \n",
            " 32  AR_2               93 non-null     float64       \n",
            " 33  AR_3               93 non-null     float64       \n",
            " 34  AR_4               93 non-null     float64       \n",
            " 35  AR_5               93 non-null     float64       \n",
            " 36  AR_6               93 non-null     float64       \n",
            " 37  AR_7               93 non-null     float64       \n",
            " 38  AR_8               93 non-null     float64       \n",
            " 39  AR_9               93 non-null     float64       \n",
            " 40  AR_10              93 non-null     float64       \n",
            " 41  AR_11              93 non-null     float64       \n",
            " 42  AR_12              93 non-null     float64       \n",
            "dtypes: bool(2), datetime64[ns](1), float64(37), int64(2), object(1)\n",
            "memory usage: 30.7+ KB\n",
            "None\n"
          ]
        }
      ],
      "source": [
        "df_0001 = feature_df[feature_df['RM04/0001'] == 1]\n",
        "print(df_0001.info())"
      ]
    },
    {
      "cell_type": "code",
      "execution_count": null,
      "metadata": {
        "id": "zOXkrvN-FOft",
        "colab": {
          "base_uri": "https://localhost:8080/"
        },
        "outputId": "8b945b42-59bd-4174-a04e-d55a1298e217"
      },
      "outputs": [
        {
          "output_type": "stream",
          "name": "stdout",
          "text": [
            "<class 'pandas.core.frame.DataFrame'>\n",
            "Index: 96 entries, 12 to 107\n",
            "Data columns (total 43 columns):\n",
            " #   Column             Non-Null Count  Dtype         \n",
            "---  ------             --------------  -----         \n",
            " 0   RM04/0001          96 non-null     bool          \n",
            " 1   RM04/0006          96 non-null     bool          \n",
            " 2   Year               96 non-null     int64         \n",
            " 3   Month              96 non-null     int64         \n",
            " 4   Time               96 non-null     datetime64[ns]\n",
            " 5   Group Description  96 non-null     object        \n",
            " 6   Average_price      96 non-null     float64       \n",
            " 7   PNGASEUUSDM_1      96 non-null     float64       \n",
            " 8   Electricity_1      96 non-null     float64       \n",
            " 9   PNGASEUUSDM_2      96 non-null     float64       \n",
            " 10  Electricity_2      96 non-null     float64       \n",
            " 11  PNGASEUUSDM_3      96 non-null     float64       \n",
            " 12  Electricity_3      96 non-null     float64       \n",
            " 13  PNGASEUUSDM_4      96 non-null     float64       \n",
            " 14  Electricity_4      96 non-null     float64       \n",
            " 15  PNGASEUUSDM_5      96 non-null     float64       \n",
            " 16  Electricity_5      96 non-null     float64       \n",
            " 17  PNGASEUUSDM_6      96 non-null     float64       \n",
            " 18  Electricity_6      96 non-null     float64       \n",
            " 19  PNGASEUUSDM_7      96 non-null     float64       \n",
            " 20  Electricity_7      96 non-null     float64       \n",
            " 21  PNGASEUUSDM_8      96 non-null     float64       \n",
            " 22  Electricity_8      96 non-null     float64       \n",
            " 23  PNGASEUUSDM_9      96 non-null     float64       \n",
            " 24  Electricity_9      96 non-null     float64       \n",
            " 25  PNGASEUUSDM_10     96 non-null     float64       \n",
            " 26  Electricity_10     96 non-null     float64       \n",
            " 27  PNGASEUUSDM_11     96 non-null     float64       \n",
            " 28  Electricity_11     96 non-null     float64       \n",
            " 29  PNGASEUUSDM_12     96 non-null     float64       \n",
            " 30  Electricity_12     96 non-null     float64       \n",
            " 31  AR_1               96 non-null     float64       \n",
            " 32  AR_2               96 non-null     float64       \n",
            " 33  AR_3               96 non-null     float64       \n",
            " 34  AR_4               96 non-null     float64       \n",
            " 35  AR_5               96 non-null     float64       \n",
            " 36  AR_6               96 non-null     float64       \n",
            " 37  AR_7               96 non-null     float64       \n",
            " 38  AR_8               96 non-null     float64       \n",
            " 39  AR_9               96 non-null     float64       \n",
            " 40  AR_10              96 non-null     float64       \n",
            " 41  AR_11              96 non-null     float64       \n",
            " 42  AR_12              96 non-null     float64       \n",
            "dtypes: bool(2), datetime64[ns](1), float64(37), int64(2), object(1)\n",
            "memory usage: 31.7+ KB\n",
            "None\n"
          ]
        }
      ],
      "source": [
        "df_0006 = feature_df[feature_df['RM04/0006'] == 1]\n",
        "print(df_0006.info())"
      ]
    },
    {
      "cell_type": "markdown",
      "metadata": {
        "id": "W-aphYa9FOft"
      },
      "source": [
        "## 0001"
      ]
    },
    {
      "cell_type": "code",
      "execution_count": null,
      "metadata": {
        "id": "cGauyfGyFOfu"
      },
      "outputs": [],
      "source": [
        "feature_df = df_0001"
      ]
    },
    {
      "cell_type": "code",
      "execution_count": null,
      "metadata": {
        "id": "PNpIJaIoJeBi",
        "colab": {
          "base_uri": "https://localhost:8080/"
        },
        "outputId": "adc8d256-0ee5-43bf-8b9a-36ea321989cb"
      },
      "outputs": [
        {
          "output_type": "stream",
          "name": "stdout",
          "text": [
            "<class 'pandas.core.frame.DataFrame'>\n",
            "Index: 93 entries, 123 to 217\n",
            "Data columns (total 41 columns):\n",
            " #   Column             Non-Null Count  Dtype         \n",
            "---  ------             --------------  -----         \n",
            " 0   Year               93 non-null     int64         \n",
            " 1   Month              93 non-null     int64         \n",
            " 2   Time               93 non-null     datetime64[ns]\n",
            " 3   Group Description  93 non-null     object        \n",
            " 4   Average_price      93 non-null     float64       \n",
            " 5   PNGASEUUSDM_1      93 non-null     float64       \n",
            " 6   Electricity_1      93 non-null     float64       \n",
            " 7   PNGASEUUSDM_2      93 non-null     float64       \n",
            " 8   Electricity_2      93 non-null     float64       \n",
            " 9   PNGASEUUSDM_3      93 non-null     float64       \n",
            " 10  Electricity_3      93 non-null     float64       \n",
            " 11  PNGASEUUSDM_4      93 non-null     float64       \n",
            " 12  Electricity_4      93 non-null     float64       \n",
            " 13  PNGASEUUSDM_5      93 non-null     float64       \n",
            " 14  Electricity_5      93 non-null     float64       \n",
            " 15  PNGASEUUSDM_6      93 non-null     float64       \n",
            " 16  Electricity_6      93 non-null     float64       \n",
            " 17  PNGASEUUSDM_7      93 non-null     float64       \n",
            " 18  Electricity_7      93 non-null     float64       \n",
            " 19  PNGASEUUSDM_8      93 non-null     float64       \n",
            " 20  Electricity_8      93 non-null     float64       \n",
            " 21  PNGASEUUSDM_9      93 non-null     float64       \n",
            " 22  Electricity_9      93 non-null     float64       \n",
            " 23  PNGASEUUSDM_10     93 non-null     float64       \n",
            " 24  Electricity_10     93 non-null     float64       \n",
            " 25  PNGASEUUSDM_11     93 non-null     float64       \n",
            " 26  Electricity_11     93 non-null     float64       \n",
            " 27  PNGASEUUSDM_12     93 non-null     float64       \n",
            " 28  Electricity_12     93 non-null     float64       \n",
            " 29  AR_1               93 non-null     float64       \n",
            " 30  AR_2               93 non-null     float64       \n",
            " 31  AR_3               93 non-null     float64       \n",
            " 32  AR_4               93 non-null     float64       \n",
            " 33  AR_5               93 non-null     float64       \n",
            " 34  AR_6               93 non-null     float64       \n",
            " 35  AR_7               93 non-null     float64       \n",
            " 36  AR_8               93 non-null     float64       \n",
            " 37  AR_9               93 non-null     float64       \n",
            " 38  AR_10              93 non-null     float64       \n",
            " 39  AR_11              93 non-null     float64       \n",
            " 40  AR_12              93 non-null     float64       \n",
            "dtypes: datetime64[ns](1), float64(37), int64(2), object(1)\n",
            "memory usage: 30.5+ KB\n",
            "None\n"
          ]
        }
      ],
      "source": [
        "columns_to_drop = [column for column in feature_df.columns if 'RM' in column]\n",
        "feature_df = feature_df.drop(columns=columns_to_drop)\n",
        "print(feature_df.info())"
      ]
    },
    {
      "cell_type": "markdown",
      "metadata": {
        "id": "9A-OD4GbFOfu"
      },
      "source": [
        "### 1-month prediction"
      ]
    },
    {
      "cell_type": "code",
      "execution_count": null,
      "metadata": {
        "id": "6KxBDwWZFOfu",
        "colab": {
          "base_uri": "https://localhost:8080/"
        },
        "outputId": "dad24c78-2396-4303-dc67-369290a2ebdd"
      },
      "outputs": [
        {
          "output_type": "stream",
          "name": "stdout",
          "text": [
            "MAPE from 2019-01-01 to 2019-07-01: 6.7\n",
            "MAPE from 2019-07-01 to 2020-01-01: 7.2\n",
            "MAPE from 2020-01-01 to 2020-07-01: 7.1\n",
            "MAPE from 2020-07-01 to 2021-01-01: 2.2\n",
            "MAPE from 2021-01-01 to 2021-07-01: 6.0\n",
            "MAPE from 2021-07-01 to 2022-01-01: 8.5\n",
            "MAPE from 2022-01-01 to 2022-07-01: 22.7\n",
            "MAPE from 2022-07-01 to 2023-01-01: 18.5\n",
            "MAPE from 2023-01-01 to 2023-07-01: 15.8\n",
            "MAPE from 2023-07-01 to 2024-01-01: 8.3\n"
          ]
        }
      ],
      "source": [
        "mape_values = []\n",
        "for start, end in test_periods:\n",
        "    mape = calculate_mape_1(start, end, 0.2)\n",
        "    mape_values.append(mape)\n",
        "    print(f\"MAPE from {start} to {end}: {mape:.1f}\")"
      ]
    },
    {
      "cell_type": "code",
      "execution_count": null,
      "metadata": {
        "id": "QxD5F3GJFOfu",
        "colab": {
          "base_uri": "https://localhost:8080/"
        },
        "outputId": "c1d4a1be-f900-48db-ed9b-2a3255434c76"
      },
      "outputs": [
        {
          "output_type": "stream",
          "name": "stdout",
          "text": [
            "Average MAPE: 10.3\n"
          ]
        }
      ],
      "source": [
        "average_mape = np.mean(mape_values)\n",
        "print(f\"Average MAPE: {average_mape:.1f}\")"
      ]
    },
    {
      "cell_type": "markdown",
      "metadata": {
        "id": "DKHbV29JFOfu"
      },
      "source": [
        "### 3-month prediction\n"
      ]
    },
    {
      "cell_type": "code",
      "execution_count": null,
      "metadata": {
        "id": "yQokObfaFOfu",
        "colab": {
          "base_uri": "https://localhost:8080/"
        },
        "outputId": "94789d8b-3378-4166-dd4b-6153af8dd205"
      },
      "outputs": [
        {
          "output_type": "stream",
          "name": "stdout",
          "text": [
            "MAPE from 2019-01-01 to 2019-07-01: 6.7\n",
            "MAPE from 2019-07-01 to 2020-01-01: 7.2\n",
            "MAPE from 2020-01-01 to 2020-07-01: 10.1\n",
            "MAPE from 2020-07-01 to 2021-01-01: 6.0\n",
            "MAPE from 2021-01-01 to 2021-07-01: 8.5\n",
            "MAPE from 2021-07-01 to 2022-01-01: 11.7\n",
            "MAPE from 2022-01-01 to 2022-07-01: 34.5\n",
            "MAPE from 2022-07-01 to 2023-01-01: 28.1\n",
            "MAPE from 2023-01-01 to 2023-07-01: 17.4\n",
            "MAPE from 2023-07-01 to 2024-01-01: 16.2\n"
          ]
        }
      ],
      "source": [
        "mape_values = []\n",
        "for start, end in test_periods:\n",
        "    mape = calculate_mape_3(start, end, 0.5)\n",
        "    mape_values.append(mape)\n",
        "    print(f\"MAPE from {start} to {end}: {mape:.1f}\")"
      ]
    },
    {
      "cell_type": "code",
      "execution_count": null,
      "metadata": {
        "id": "1VF6EuUvFOfu",
        "colab": {
          "base_uri": "https://localhost:8080/"
        },
        "outputId": "659511e2-6e28-4ed2-8e13-fbb2e72a6885"
      },
      "outputs": [
        {
          "output_type": "stream",
          "name": "stdout",
          "text": [
            "Average MAPE: 14.6\n"
          ]
        }
      ],
      "source": [
        "average_mape = np.mean(mape_values)\n",
        "print(f\"Average MAPE: {average_mape:.1f}\")"
      ]
    },
    {
      "cell_type": "markdown",
      "metadata": {
        "id": "Rj-GYr7mFOfv"
      },
      "source": [
        "### 6-month prediction"
      ]
    },
    {
      "cell_type": "code",
      "execution_count": null,
      "metadata": {
        "id": "iFueIUo6FOfv",
        "colab": {
          "base_uri": "https://localhost:8080/"
        },
        "outputId": "9fd9c05d-4d46-42d1-9049-593eb718227b"
      },
      "outputs": [
        {
          "output_type": "stream",
          "name": "stdout",
          "text": [
            "MAPE from 2019-01-01 to 2019-07-01: 6.7\n",
            "MAPE from 2019-07-01 to 2020-01-01: 7.2\n",
            "MAPE from 2020-01-01 to 2020-07-01: 10.1\n",
            "MAPE from 2020-07-01 to 2021-01-01: 3.1\n",
            "MAPE from 2021-01-01 to 2021-07-01: 7.0\n",
            "MAPE from 2021-07-01 to 2022-01-01: 10.0\n",
            "MAPE from 2022-01-01 to 2022-07-01: 32.2\n",
            "MAPE from 2022-07-01 to 2023-01-01: 26.8\n",
            "MAPE from 2023-01-01 to 2023-07-01: 40.0\n",
            "MAPE from 2023-07-01 to 2024-01-01: 10.7\n"
          ]
        }
      ],
      "source": [
        "mape_values = []\n",
        "for start, end in test_periods:\n",
        "    mape = calculate_mape_6(start, end, 0.3)\n",
        "    mape_values.append(mape)\n",
        "    print(f\"MAPE from {start} to {end}: {mape:.1f}\")"
      ]
    },
    {
      "cell_type": "code",
      "execution_count": null,
      "metadata": {
        "id": "n85FHcAHFOfv",
        "colab": {
          "base_uri": "https://localhost:8080/"
        },
        "outputId": "99cdc5e7-74f5-49c9-8ffc-023a04c038c6"
      },
      "outputs": [
        {
          "output_type": "stream",
          "name": "stdout",
          "text": [
            "Average MAPE: 15.4\n"
          ]
        }
      ],
      "source": [
        "average_mape = np.mean(mape_values)\n",
        "print(f\"Average MAPE: {average_mape:.1f}\")"
      ]
    },
    {
      "cell_type": "markdown",
      "metadata": {
        "id": "a2mUNK27FOfv"
      },
      "source": [
        "## 0006"
      ]
    },
    {
      "cell_type": "code",
      "execution_count": null,
      "metadata": {
        "id": "51CwOfjWFOfv"
      },
      "outputs": [],
      "source": [
        "feature_df = df_0006"
      ]
    },
    {
      "cell_type": "code",
      "execution_count": null,
      "metadata": {
        "id": "Sf4iqaMWJfVn",
        "colab": {
          "base_uri": "https://localhost:8080/"
        },
        "outputId": "d0372ec3-de8a-4700-dc48-39120f213778"
      },
      "outputs": [
        {
          "output_type": "stream",
          "name": "stdout",
          "text": [
            "<class 'pandas.core.frame.DataFrame'>\n",
            "Index: 96 entries, 12 to 107\n",
            "Data columns (total 41 columns):\n",
            " #   Column             Non-Null Count  Dtype         \n",
            "---  ------             --------------  -----         \n",
            " 0   Year               96 non-null     int64         \n",
            " 1   Month              96 non-null     int64         \n",
            " 2   Time               96 non-null     datetime64[ns]\n",
            " 3   Group Description  96 non-null     object        \n",
            " 4   Average_price      96 non-null     float64       \n",
            " 5   PNGASEUUSDM_1      96 non-null     float64       \n",
            " 6   Electricity_1      96 non-null     float64       \n",
            " 7   PNGASEUUSDM_2      96 non-null     float64       \n",
            " 8   Electricity_2      96 non-null     float64       \n",
            " 9   PNGASEUUSDM_3      96 non-null     float64       \n",
            " 10  Electricity_3      96 non-null     float64       \n",
            " 11  PNGASEUUSDM_4      96 non-null     float64       \n",
            " 12  Electricity_4      96 non-null     float64       \n",
            " 13  PNGASEUUSDM_5      96 non-null     float64       \n",
            " 14  Electricity_5      96 non-null     float64       \n",
            " 15  PNGASEUUSDM_6      96 non-null     float64       \n",
            " 16  Electricity_6      96 non-null     float64       \n",
            " 17  PNGASEUUSDM_7      96 non-null     float64       \n",
            " 18  Electricity_7      96 non-null     float64       \n",
            " 19  PNGASEUUSDM_8      96 non-null     float64       \n",
            " 20  Electricity_8      96 non-null     float64       \n",
            " 21  PNGASEUUSDM_9      96 non-null     float64       \n",
            " 22  Electricity_9      96 non-null     float64       \n",
            " 23  PNGASEUUSDM_10     96 non-null     float64       \n",
            " 24  Electricity_10     96 non-null     float64       \n",
            " 25  PNGASEUUSDM_11     96 non-null     float64       \n",
            " 26  Electricity_11     96 non-null     float64       \n",
            " 27  PNGASEUUSDM_12     96 non-null     float64       \n",
            " 28  Electricity_12     96 non-null     float64       \n",
            " 29  AR_1               96 non-null     float64       \n",
            " 30  AR_2               96 non-null     float64       \n",
            " 31  AR_3               96 non-null     float64       \n",
            " 32  AR_4               96 non-null     float64       \n",
            " 33  AR_5               96 non-null     float64       \n",
            " 34  AR_6               96 non-null     float64       \n",
            " 35  AR_7               96 non-null     float64       \n",
            " 36  AR_8               96 non-null     float64       \n",
            " 37  AR_9               96 non-null     float64       \n",
            " 38  AR_10              96 non-null     float64       \n",
            " 39  AR_11              96 non-null     float64       \n",
            " 40  AR_12              96 non-null     float64       \n",
            "dtypes: datetime64[ns](1), float64(37), int64(2), object(1)\n",
            "memory usage: 31.5+ KB\n",
            "None\n"
          ]
        }
      ],
      "source": [
        "columns_to_drop = [column for column in feature_df.columns if 'RM' in column]\n",
        "feature_df = feature_df.drop(columns=columns_to_drop)\n",
        "print(feature_df.info())"
      ]
    },
    {
      "cell_type": "markdown",
      "metadata": {
        "id": "qy5itQQsFOfv"
      },
      "source": [
        "### 1-month prediction"
      ]
    },
    {
      "cell_type": "code",
      "execution_count": null,
      "metadata": {
        "id": "xKQOirU2FOfv",
        "colab": {
          "base_uri": "https://localhost:8080/"
        },
        "outputId": "1e6bf92f-e467-4e15-d18a-54b4cf4d3ad1"
      },
      "outputs": [
        {
          "output_type": "stream",
          "name": "stdout",
          "text": [
            "MAPE from 2019-01-01 to 2019-07-01: 11.7\n",
            "MAPE from 2019-07-01 to 2020-01-01: 6.1\n",
            "MAPE from 2020-01-01 to 2020-07-01: 22.7\n",
            "MAPE from 2020-07-01 to 2021-01-01: 10.9\n",
            "MAPE from 2021-01-01 to 2021-07-01: 2.7\n",
            "MAPE from 2021-07-01 to 2022-01-01: 7.7\n",
            "MAPE from 2022-01-01 to 2022-07-01: 18.0\n",
            "MAPE from 2022-07-01 to 2023-01-01: 12.9\n",
            "MAPE from 2023-01-01 to 2023-07-01: 6.4\n",
            "MAPE from 2023-07-01 to 2024-01-01: 8.9\n"
          ]
        }
      ],
      "source": [
        "mape_values = []\n",
        "for start, end in test_periods:\n",
        "    mape = calculate_mape_1(start, end, 0.2)\n",
        "    mape_values.append(mape)\n",
        "    print(f\"MAPE from {start} to {end}: {mape:.1f}\")"
      ]
    },
    {
      "cell_type": "code",
      "execution_count": null,
      "metadata": {
        "id": "SP0hKNRFFOfw",
        "colab": {
          "base_uri": "https://localhost:8080/"
        },
        "outputId": "9eaf8f2e-6da3-4abe-da59-bc18a61a53ff"
      },
      "outputs": [
        {
          "output_type": "stream",
          "name": "stdout",
          "text": [
            "Average MAPE: 10.8\n"
          ]
        }
      ],
      "source": [
        "average_mape = np.mean(mape_values)\n",
        "print(f\"Average MAPE: {average_mape:.1f}\")"
      ]
    },
    {
      "cell_type": "markdown",
      "metadata": {
        "id": "yl4ylTheFOfw"
      },
      "source": [
        "### 3-month prediction\n"
      ]
    },
    {
      "cell_type": "code",
      "execution_count": null,
      "metadata": {
        "id": "uPQHoultFOfw",
        "colab": {
          "base_uri": "https://localhost:8080/"
        },
        "outputId": "eaa16bac-a243-4fc1-db82-dc71fd13ce98"
      },
      "outputs": [
        {
          "output_type": "stream",
          "name": "stdout",
          "text": [
            "MAPE from 2019-01-01 to 2019-07-01: 11.7\n",
            "MAPE from 2019-07-01 to 2020-01-01: 6.2\n",
            "MAPE from 2020-01-01 to 2020-07-01: 23.4\n",
            "MAPE from 2020-07-01 to 2021-01-01: 11.8\n",
            "MAPE from 2021-01-01 to 2021-07-01: 5.3\n",
            "MAPE from 2021-07-01 to 2022-01-01: 7.5\n",
            "MAPE from 2022-01-01 to 2022-07-01: 20.2\n",
            "MAPE from 2022-07-01 to 2023-01-01: 15.0\n",
            "MAPE from 2023-01-01 to 2023-07-01: 34.7\n",
            "MAPE from 2023-07-01 to 2024-01-01: 10.7\n"
          ]
        }
      ],
      "source": [
        "mape_values = []\n",
        "for start, end in test_periods:\n",
        "    mape = calculate_mape_3(start, end, 0.2)\n",
        "    mape_values.append(mape)\n",
        "    print(f\"MAPE from {start} to {end}: {mape:.1f}\")"
      ]
    },
    {
      "cell_type": "code",
      "execution_count": null,
      "metadata": {
        "id": "LB6corsUFOfw",
        "colab": {
          "base_uri": "https://localhost:8080/"
        },
        "outputId": "d890a2d9-5e78-481d-cfb7-7d3be5833012"
      },
      "outputs": [
        {
          "output_type": "stream",
          "name": "stdout",
          "text": [
            "Average MAPE: 14.7\n"
          ]
        }
      ],
      "source": [
        "average_mape = np.mean(mape_values)\n",
        "print(f\"Average MAPE: {average_mape:.1f}\")"
      ]
    },
    {
      "cell_type": "markdown",
      "metadata": {
        "id": "nVCPlsHmFOfw"
      },
      "source": [
        "### 6-month prediction"
      ]
    },
    {
      "cell_type": "code",
      "execution_count": null,
      "metadata": {
        "id": "2_15SjngFOfw",
        "colab": {
          "base_uri": "https://localhost:8080/"
        },
        "outputId": "765cacd5-0d20-459a-84b8-86f87c1305a6"
      },
      "outputs": [
        {
          "output_type": "stream",
          "name": "stdout",
          "text": [
            "MAPE from 2019-01-01 to 2019-07-01: 11.7\n",
            "MAPE from 2019-07-01 to 2020-01-01: 9.7\n",
            "MAPE from 2020-01-01 to 2020-07-01: 25.8\n",
            "MAPE from 2020-07-01 to 2021-01-01: 16.0\n",
            "MAPE from 2021-01-01 to 2021-07-01: 4.6\n",
            "MAPE from 2021-07-01 to 2022-01-01: 9.4\n",
            "MAPE from 2022-01-01 to 2022-07-01: 25.6\n",
            "MAPE from 2022-07-01 to 2023-01-01: 28.5\n",
            "MAPE from 2023-01-01 to 2023-07-01: 30.7\n",
            "MAPE from 2023-07-01 to 2024-01-01: 6.4\n"
          ]
        }
      ],
      "source": [
        "mape_values = []\n",
        "for start, end in test_periods:\n",
        "    mape = calculate_mape_6(start, end, 0.3)\n",
        "    mape_values.append(mape)\n",
        "    print(f\"MAPE from {start} to {end}: {mape:.1f}\")"
      ]
    },
    {
      "cell_type": "code",
      "execution_count": null,
      "metadata": {
        "id": "llbsD9BNFOfw",
        "colab": {
          "base_uri": "https://localhost:8080/"
        },
        "outputId": "db504b1b-ca43-4124-a199-66c9c671aaa1"
      },
      "outputs": [
        {
          "output_type": "stream",
          "name": "stdout",
          "text": [
            "Average MAPE: 16.8\n"
          ]
        }
      ],
      "source": [
        "average_mape = np.mean(mape_values)\n",
        "print(f\"Average MAPE: {average_mape:.1f}\")"
      ]
    },
    {
      "cell_type": "markdown",
      "metadata": {
        "id": "VZtEkUzIEGAC"
      },
      "source": [
        "# Acid"
      ]
    },
    {
      "cell_type": "code",
      "execution_count": null,
      "metadata": {
        "id": "rfvIcBX6EGAD",
        "colab": {
          "base_uri": "https://localhost:8080/"
        },
        "outputId": "741e93ac-f84e-40a0-9977-8385ec7c165c"
      },
      "outputs": [
        {
          "output_type": "stream",
          "name": "stdout",
          "text": [
            "     RM01/0001  RM01/0004  RM01/0006  RM01/0007  Year  Month       Time  \\\n",
            "2        False       True      False      False  2016      1 2016-01-31   \n",
            "3         True      False      False      False  2016      1 2016-01-31   \n",
            "4        False       True      False      False  2016      2 2016-02-29   \n",
            "5         True      False      False      False  2016      2 2016-02-29   \n",
            "6        False       True      False      False  2016      3 2016-03-31   \n",
            "..         ...        ...        ...        ...   ...    ...        ...   \n",
            "400      False      False       True      False  2023      8 2023-08-31   \n",
            "401      False      False       True      False  2023      9 2023-09-28   \n",
            "402      False      False       True      False  2023     10 2023-10-30   \n",
            "403      False      False       True      False  2023     11 2023-11-30   \n",
            "404      False      False       True      False  2023     12 2023-12-22   \n",
            "\n",
            "    Group Description  Average_price  PNGASEUUSDM_1  ...      AR_3      AR_4  \\\n",
            "2                acid       0.404800       5.810000  ...  0.359400  0.475714   \n",
            "3                acid       0.528015       5.810000  ...  0.549394  0.558730   \n",
            "4                acid       0.404800       5.090000  ...  0.358000  0.359400   \n",
            "5                acid       0.532218       5.090000  ...  0.550917  0.549394   \n",
            "6                acid       0.356000       4.790000  ...  0.358000  0.358000   \n",
            "..                ...            ...            ...  ...       ...       ...   \n",
            "400              acid       1.258544       9.611719  ...  1.669344  1.874301   \n",
            "401              acid       1.432129      10.717421  ...  1.641858  1.669344   \n",
            "402              acid       1.327096      11.427930  ...  1.456344  1.641858   \n",
            "403              acid       1.080000      13.388843  ...  1.258544  1.456344   \n",
            "404              acid       1.447941      13.714316  ...  1.432129  1.258544   \n",
            "\n",
            "         AR_5      AR_6      AR_7      AR_8      AR_9     AR_10     AR_11  \\\n",
            "2    0.426000  0.462500  0.451000  0.486000  0.446333  0.477200  0.445000   \n",
            "3    0.559098  0.558889  0.546843  0.550665  0.546185  0.556000  0.558667   \n",
            "4    0.475714  0.426000  0.462500  0.451000  0.486000  0.446333  0.477200   \n",
            "5    0.558730  0.559098  0.558889  0.546843  0.550665  0.546185  0.556000   \n",
            "6    0.359400  0.475714  0.426000  0.462500  0.451000  0.486000  0.446333   \n",
            "..        ...       ...       ...       ...       ...       ...       ...   \n",
            "400  2.073844  2.767510  2.161415  2.386413  2.550000  2.682106  2.588566   \n",
            "401  1.874301  2.073844  2.767510  2.161415  2.386413  2.550000  2.682106   \n",
            "402  1.669344  1.874301  2.073844  2.767510  2.161415  2.386413  2.550000   \n",
            "403  1.641858  1.669344  1.874301  2.073844  2.767510  2.161415  2.386413   \n",
            "404  1.456344  1.641858  1.669344  1.874301  2.073844  2.767510  2.161415   \n",
            "\n",
            "        AR_12  \n",
            "2    0.475333  \n",
            "3    0.560278  \n",
            "4    0.445000  \n",
            "5    0.558667  \n",
            "6    0.477200  \n",
            "..        ...  \n",
            "400  2.544955  \n",
            "401  2.588566  \n",
            "402  2.682106  \n",
            "403  2.550000  \n",
            "404  2.386413  \n",
            "\n",
            "[362 rows x 69 columns]\n"
          ]
        }
      ],
      "source": [
        "feature_df = pd.read_csv('/content/drive/MyDrive/Colab Notebooks/Thesis/dataframe/acid_feature.csv',index_col=0)\n",
        "feature_df['Time'] = pd.to_datetime(feature_df['Time'])\n",
        "print(feature_df)"
      ]
    },
    {
      "cell_type": "code",
      "execution_count": null,
      "metadata": {
        "id": "u-FIZ7LPEGAD",
        "colab": {
          "base_uri": "https://localhost:8080/"
        },
        "outputId": "9d054ae4-3c93-4386-db64-beb37f544060"
      },
      "outputs": [
        {
          "output_type": "stream",
          "name": "stdout",
          "text": [
            "<class 'pandas.core.frame.DataFrame'>\n",
            "Index: 96 entries, 3 to 193\n",
            "Data columns (total 69 columns):\n",
            " #   Column             Non-Null Count  Dtype         \n",
            "---  ------             --------------  -----         \n",
            " 0   RM01/0001          96 non-null     bool          \n",
            " 1   RM01/0004          96 non-null     bool          \n",
            " 2   RM01/0006          96 non-null     bool          \n",
            " 3   RM01/0007          96 non-null     bool          \n",
            " 4   Year               96 non-null     int64         \n",
            " 5   Month              96 non-null     int64         \n",
            " 6   Time               96 non-null     datetime64[ns]\n",
            " 7   Group Description  96 non-null     object        \n",
            " 8   Average_price      96 non-null     float64       \n",
            " 9   PNGASEUUSDM_1      96 non-null     float64       \n",
            " 10  PWHEAMTUSDM_1      96 non-null     float64       \n",
            " 11  WPU0652013A_1      96 non-null     float64       \n",
            " 12  Electricity_1      96 non-null     float64       \n",
            " 13  PNGASEUUSDM_2      96 non-null     float64       \n",
            " 14  PWHEAMTUSDM_2      96 non-null     float64       \n",
            " 15  WPU0652013A_2      96 non-null     float64       \n",
            " 16  Electricity_2      96 non-null     float64       \n",
            " 17  PNGASEUUSDM_3      96 non-null     float64       \n",
            " 18  PWHEAMTUSDM_3      96 non-null     float64       \n",
            " 19  WPU0652013A_3      96 non-null     float64       \n",
            " 20  Electricity_3      96 non-null     float64       \n",
            " 21  PNGASEUUSDM_4      96 non-null     float64       \n",
            " 22  PWHEAMTUSDM_4      96 non-null     float64       \n",
            " 23  WPU0652013A_4      96 non-null     float64       \n",
            " 24  Electricity_4      96 non-null     float64       \n",
            " 25  PNGASEUUSDM_5      96 non-null     float64       \n",
            " 26  PWHEAMTUSDM_5      96 non-null     float64       \n",
            " 27  WPU0652013A_5      96 non-null     float64       \n",
            " 28  Electricity_5      96 non-null     float64       \n",
            " 29  PNGASEUUSDM_6      96 non-null     float64       \n",
            " 30  PWHEAMTUSDM_6      96 non-null     float64       \n",
            " 31  WPU0652013A_6      96 non-null     float64       \n",
            " 32  Electricity_6      96 non-null     float64       \n",
            " 33  PNGASEUUSDM_7      96 non-null     float64       \n",
            " 34  PWHEAMTUSDM_7      96 non-null     float64       \n",
            " 35  WPU0652013A_7      96 non-null     float64       \n",
            " 36  Electricity_7      96 non-null     float64       \n",
            " 37  PNGASEUUSDM_8      96 non-null     float64       \n",
            " 38  PWHEAMTUSDM_8      96 non-null     float64       \n",
            " 39  WPU0652013A_8      96 non-null     float64       \n",
            " 40  Electricity_8      96 non-null     float64       \n",
            " 41  PNGASEUUSDM_9      96 non-null     float64       \n",
            " 42  PWHEAMTUSDM_9      96 non-null     float64       \n",
            " 43  WPU0652013A_9      96 non-null     float64       \n",
            " 44  Electricity_9      96 non-null     float64       \n",
            " 45  PNGASEUUSDM_10     96 non-null     float64       \n",
            " 46  PWHEAMTUSDM_10     96 non-null     float64       \n",
            " 47  WPU0652013A_10     96 non-null     float64       \n",
            " 48  Electricity_10     96 non-null     float64       \n",
            " 49  PNGASEUUSDM_11     96 non-null     float64       \n",
            " 50  PWHEAMTUSDM_11     96 non-null     float64       \n",
            " 51  WPU0652013A_11     96 non-null     float64       \n",
            " 52  Electricity_11     96 non-null     float64       \n",
            " 53  PNGASEUUSDM_12     96 non-null     float64       \n",
            " 54  PWHEAMTUSDM_12     96 non-null     float64       \n",
            " 55  WPU0652013A_12     96 non-null     float64       \n",
            " 56  Electricity_12     96 non-null     float64       \n",
            " 57  AR_1               96 non-null     float64       \n",
            " 58  AR_2               96 non-null     float64       \n",
            " 59  AR_3               96 non-null     float64       \n",
            " 60  AR_4               96 non-null     float64       \n",
            " 61  AR_5               96 non-null     float64       \n",
            " 62  AR_6               96 non-null     float64       \n",
            " 63  AR_7               96 non-null     float64       \n",
            " 64  AR_8               96 non-null     float64       \n",
            " 65  AR_9               96 non-null     float64       \n",
            " 66  AR_10              96 non-null     float64       \n",
            " 67  AR_11              96 non-null     float64       \n",
            " 68  AR_12              96 non-null     float64       \n",
            "dtypes: bool(4), datetime64[ns](1), float64(61), int64(2), object(1)\n",
            "memory usage: 49.9+ KB\n",
            "None\n"
          ]
        }
      ],
      "source": [
        "df_0001 = feature_df[feature_df['RM01/0001'] == 1]\n",
        "print(df_0001.info())"
      ]
    },
    {
      "cell_type": "code",
      "execution_count": null,
      "metadata": {
        "id": "SVxwwLmNEGAD",
        "colab": {
          "base_uri": "https://localhost:8080/"
        },
        "outputId": "bead633c-c832-410c-e5c3-abd41bf47231"
      },
      "outputs": [
        {
          "output_type": "stream",
          "name": "stdout",
          "text": [
            "<class 'pandas.core.frame.DataFrame'>\n",
            "Index: 96 entries, 2 to 192\n",
            "Data columns (total 69 columns):\n",
            " #   Column             Non-Null Count  Dtype         \n",
            "---  ------             --------------  -----         \n",
            " 0   RM01/0001          96 non-null     bool          \n",
            " 1   RM01/0004          96 non-null     bool          \n",
            " 2   RM01/0006          96 non-null     bool          \n",
            " 3   RM01/0007          96 non-null     bool          \n",
            " 4   Year               96 non-null     int64         \n",
            " 5   Month              96 non-null     int64         \n",
            " 6   Time               96 non-null     datetime64[ns]\n",
            " 7   Group Description  96 non-null     object        \n",
            " 8   Average_price      96 non-null     float64       \n",
            " 9   PNGASEUUSDM_1      96 non-null     float64       \n",
            " 10  PWHEAMTUSDM_1      96 non-null     float64       \n",
            " 11  WPU0652013A_1      96 non-null     float64       \n",
            " 12  Electricity_1      96 non-null     float64       \n",
            " 13  PNGASEUUSDM_2      96 non-null     float64       \n",
            " 14  PWHEAMTUSDM_2      96 non-null     float64       \n",
            " 15  WPU0652013A_2      96 non-null     float64       \n",
            " 16  Electricity_2      96 non-null     float64       \n",
            " 17  PNGASEUUSDM_3      96 non-null     float64       \n",
            " 18  PWHEAMTUSDM_3      96 non-null     float64       \n",
            " 19  WPU0652013A_3      96 non-null     float64       \n",
            " 20  Electricity_3      96 non-null     float64       \n",
            " 21  PNGASEUUSDM_4      96 non-null     float64       \n",
            " 22  PWHEAMTUSDM_4      96 non-null     float64       \n",
            " 23  WPU0652013A_4      96 non-null     float64       \n",
            " 24  Electricity_4      96 non-null     float64       \n",
            " 25  PNGASEUUSDM_5      96 non-null     float64       \n",
            " 26  PWHEAMTUSDM_5      96 non-null     float64       \n",
            " 27  WPU0652013A_5      96 non-null     float64       \n",
            " 28  Electricity_5      96 non-null     float64       \n",
            " 29  PNGASEUUSDM_6      96 non-null     float64       \n",
            " 30  PWHEAMTUSDM_6      96 non-null     float64       \n",
            " 31  WPU0652013A_6      96 non-null     float64       \n",
            " 32  Electricity_6      96 non-null     float64       \n",
            " 33  PNGASEUUSDM_7      96 non-null     float64       \n",
            " 34  PWHEAMTUSDM_7      96 non-null     float64       \n",
            " 35  WPU0652013A_7      96 non-null     float64       \n",
            " 36  Electricity_7      96 non-null     float64       \n",
            " 37  PNGASEUUSDM_8      96 non-null     float64       \n",
            " 38  PWHEAMTUSDM_8      96 non-null     float64       \n",
            " 39  WPU0652013A_8      96 non-null     float64       \n",
            " 40  Electricity_8      96 non-null     float64       \n",
            " 41  PNGASEUUSDM_9      96 non-null     float64       \n",
            " 42  PWHEAMTUSDM_9      96 non-null     float64       \n",
            " 43  WPU0652013A_9      96 non-null     float64       \n",
            " 44  Electricity_9      96 non-null     float64       \n",
            " 45  PNGASEUUSDM_10     96 non-null     float64       \n",
            " 46  PWHEAMTUSDM_10     96 non-null     float64       \n",
            " 47  WPU0652013A_10     96 non-null     float64       \n",
            " 48  Electricity_10     96 non-null     float64       \n",
            " 49  PNGASEUUSDM_11     96 non-null     float64       \n",
            " 50  PWHEAMTUSDM_11     96 non-null     float64       \n",
            " 51  WPU0652013A_11     96 non-null     float64       \n",
            " 52  Electricity_11     96 non-null     float64       \n",
            " 53  PNGASEUUSDM_12     96 non-null     float64       \n",
            " 54  PWHEAMTUSDM_12     96 non-null     float64       \n",
            " 55  WPU0652013A_12     96 non-null     float64       \n",
            " 56  Electricity_12     96 non-null     float64       \n",
            " 57  AR_1               96 non-null     float64       \n",
            " 58  AR_2               96 non-null     float64       \n",
            " 59  AR_3               96 non-null     float64       \n",
            " 60  AR_4               96 non-null     float64       \n",
            " 61  AR_5               96 non-null     float64       \n",
            " 62  AR_6               96 non-null     float64       \n",
            " 63  AR_7               96 non-null     float64       \n",
            " 64  AR_8               96 non-null     float64       \n",
            " 65  AR_9               96 non-null     float64       \n",
            " 66  AR_10              96 non-null     float64       \n",
            " 67  AR_11              96 non-null     float64       \n",
            " 68  AR_12              96 non-null     float64       \n",
            "dtypes: bool(4), datetime64[ns](1), float64(61), int64(2), object(1)\n",
            "memory usage: 49.9+ KB\n",
            "None\n"
          ]
        }
      ],
      "source": [
        "df_0004 = feature_df[feature_df['RM01/0004'] == 1]\n",
        "print(df_0004.info())"
      ]
    },
    {
      "cell_type": "code",
      "execution_count": null,
      "metadata": {
        "id": "u7D0LDRlGcj9",
        "colab": {
          "base_uri": "https://localhost:8080/"
        },
        "outputId": "957f7582-a67e-43ec-952a-172e67c9e048"
      },
      "outputs": [
        {
          "output_type": "stream",
          "name": "stdout",
          "text": [
            "<class 'pandas.core.frame.DataFrame'>\n",
            "Index: 95 entries, 309 to 404\n",
            "Data columns (total 69 columns):\n",
            " #   Column             Non-Null Count  Dtype         \n",
            "---  ------             --------------  -----         \n",
            " 0   RM01/0001          95 non-null     bool          \n",
            " 1   RM01/0004          95 non-null     bool          \n",
            " 2   RM01/0006          95 non-null     bool          \n",
            " 3   RM01/0007          95 non-null     bool          \n",
            " 4   Year               95 non-null     int64         \n",
            " 5   Month              95 non-null     int64         \n",
            " 6   Time               95 non-null     datetime64[ns]\n",
            " 7   Group Description  95 non-null     object        \n",
            " 8   Average_price      95 non-null     float64       \n",
            " 9   PNGASEUUSDM_1      95 non-null     float64       \n",
            " 10  PWHEAMTUSDM_1      95 non-null     float64       \n",
            " 11  WPU0652013A_1      95 non-null     float64       \n",
            " 12  Electricity_1      95 non-null     float64       \n",
            " 13  PNGASEUUSDM_2      95 non-null     float64       \n",
            " 14  PWHEAMTUSDM_2      95 non-null     float64       \n",
            " 15  WPU0652013A_2      95 non-null     float64       \n",
            " 16  Electricity_2      95 non-null     float64       \n",
            " 17  PNGASEUUSDM_3      95 non-null     float64       \n",
            " 18  PWHEAMTUSDM_3      95 non-null     float64       \n",
            " 19  WPU0652013A_3      95 non-null     float64       \n",
            " 20  Electricity_3      95 non-null     float64       \n",
            " 21  PNGASEUUSDM_4      95 non-null     float64       \n",
            " 22  PWHEAMTUSDM_4      95 non-null     float64       \n",
            " 23  WPU0652013A_4      95 non-null     float64       \n",
            " 24  Electricity_4      95 non-null     float64       \n",
            " 25  PNGASEUUSDM_5      95 non-null     float64       \n",
            " 26  PWHEAMTUSDM_5      95 non-null     float64       \n",
            " 27  WPU0652013A_5      95 non-null     float64       \n",
            " 28  Electricity_5      95 non-null     float64       \n",
            " 29  PNGASEUUSDM_6      95 non-null     float64       \n",
            " 30  PWHEAMTUSDM_6      95 non-null     float64       \n",
            " 31  WPU0652013A_6      95 non-null     float64       \n",
            " 32  Electricity_6      95 non-null     float64       \n",
            " 33  PNGASEUUSDM_7      95 non-null     float64       \n",
            " 34  PWHEAMTUSDM_7      95 non-null     float64       \n",
            " 35  WPU0652013A_7      95 non-null     float64       \n",
            " 36  Electricity_7      95 non-null     float64       \n",
            " 37  PNGASEUUSDM_8      95 non-null     float64       \n",
            " 38  PWHEAMTUSDM_8      95 non-null     float64       \n",
            " 39  WPU0652013A_8      95 non-null     float64       \n",
            " 40  Electricity_8      95 non-null     float64       \n",
            " 41  PNGASEUUSDM_9      95 non-null     float64       \n",
            " 42  PWHEAMTUSDM_9      95 non-null     float64       \n",
            " 43  WPU0652013A_9      95 non-null     float64       \n",
            " 44  Electricity_9      95 non-null     float64       \n",
            " 45  PNGASEUUSDM_10     95 non-null     float64       \n",
            " 46  PWHEAMTUSDM_10     95 non-null     float64       \n",
            " 47  WPU0652013A_10     95 non-null     float64       \n",
            " 48  Electricity_10     95 non-null     float64       \n",
            " 49  PNGASEUUSDM_11     95 non-null     float64       \n",
            " 50  PWHEAMTUSDM_11     95 non-null     float64       \n",
            " 51  WPU0652013A_11     95 non-null     float64       \n",
            " 52  Electricity_11     95 non-null     float64       \n",
            " 53  PNGASEUUSDM_12     95 non-null     float64       \n",
            " 54  PWHEAMTUSDM_12     95 non-null     float64       \n",
            " 55  WPU0652013A_12     95 non-null     float64       \n",
            " 56  Electricity_12     95 non-null     float64       \n",
            " 57  AR_1               95 non-null     float64       \n",
            " 58  AR_2               95 non-null     float64       \n",
            " 59  AR_3               95 non-null     float64       \n",
            " 60  AR_4               95 non-null     float64       \n",
            " 61  AR_5               95 non-null     float64       \n",
            " 62  AR_6               95 non-null     float64       \n",
            " 63  AR_7               95 non-null     float64       \n",
            " 64  AR_8               95 non-null     float64       \n",
            " 65  AR_9               95 non-null     float64       \n",
            " 66  AR_10              95 non-null     float64       \n",
            " 67  AR_11              95 non-null     float64       \n",
            " 68  AR_12              95 non-null     float64       \n",
            "dtypes: bool(4), datetime64[ns](1), float64(61), int64(2), object(1)\n",
            "memory usage: 49.4+ KB\n",
            "None\n"
          ]
        }
      ],
      "source": [
        "df_0006 = feature_df[feature_df['RM01/0006'] == 1]\n",
        "print(df_0006.info())"
      ]
    },
    {
      "cell_type": "code",
      "execution_count": null,
      "metadata": {
        "id": "dQw-RcA3Ge1R",
        "colab": {
          "base_uri": "https://localhost:8080/"
        },
        "outputId": "ea2bf8e1-57d6-4e52-f463-3c1372070f9f"
      },
      "outputs": [
        {
          "output_type": "stream",
          "name": "stdout",
          "text": [
            "<class 'pandas.core.frame.DataFrame'>\n",
            "Index: 75 entries, 213 to 307\n",
            "Data columns (total 69 columns):\n",
            " #   Column             Non-Null Count  Dtype         \n",
            "---  ------             --------------  -----         \n",
            " 0   RM01/0001          75 non-null     bool          \n",
            " 1   RM01/0004          75 non-null     bool          \n",
            " 2   RM01/0006          75 non-null     bool          \n",
            " 3   RM01/0007          75 non-null     bool          \n",
            " 4   Year               75 non-null     int64         \n",
            " 5   Month              75 non-null     int64         \n",
            " 6   Time               75 non-null     datetime64[ns]\n",
            " 7   Group Description  75 non-null     object        \n",
            " 8   Average_price      75 non-null     float64       \n",
            " 9   PNGASEUUSDM_1      75 non-null     float64       \n",
            " 10  PWHEAMTUSDM_1      75 non-null     float64       \n",
            " 11  WPU0652013A_1      75 non-null     float64       \n",
            " 12  Electricity_1      75 non-null     float64       \n",
            " 13  PNGASEUUSDM_2      75 non-null     float64       \n",
            " 14  PWHEAMTUSDM_2      75 non-null     float64       \n",
            " 15  WPU0652013A_2      75 non-null     float64       \n",
            " 16  Electricity_2      75 non-null     float64       \n",
            " 17  PNGASEUUSDM_3      75 non-null     float64       \n",
            " 18  PWHEAMTUSDM_3      75 non-null     float64       \n",
            " 19  WPU0652013A_3      75 non-null     float64       \n",
            " 20  Electricity_3      75 non-null     float64       \n",
            " 21  PNGASEUUSDM_4      75 non-null     float64       \n",
            " 22  PWHEAMTUSDM_4      75 non-null     float64       \n",
            " 23  WPU0652013A_4      75 non-null     float64       \n",
            " 24  Electricity_4      75 non-null     float64       \n",
            " 25  PNGASEUUSDM_5      75 non-null     float64       \n",
            " 26  PWHEAMTUSDM_5      75 non-null     float64       \n",
            " 27  WPU0652013A_5      75 non-null     float64       \n",
            " 28  Electricity_5      75 non-null     float64       \n",
            " 29  PNGASEUUSDM_6      75 non-null     float64       \n",
            " 30  PWHEAMTUSDM_6      75 non-null     float64       \n",
            " 31  WPU0652013A_6      75 non-null     float64       \n",
            " 32  Electricity_6      75 non-null     float64       \n",
            " 33  PNGASEUUSDM_7      75 non-null     float64       \n",
            " 34  PWHEAMTUSDM_7      75 non-null     float64       \n",
            " 35  WPU0652013A_7      75 non-null     float64       \n",
            " 36  Electricity_7      75 non-null     float64       \n",
            " 37  PNGASEUUSDM_8      75 non-null     float64       \n",
            " 38  PWHEAMTUSDM_8      75 non-null     float64       \n",
            " 39  WPU0652013A_8      75 non-null     float64       \n",
            " 40  Electricity_8      75 non-null     float64       \n",
            " 41  PNGASEUUSDM_9      75 non-null     float64       \n",
            " 42  PWHEAMTUSDM_9      75 non-null     float64       \n",
            " 43  WPU0652013A_9      75 non-null     float64       \n",
            " 44  Electricity_9      75 non-null     float64       \n",
            " 45  PNGASEUUSDM_10     75 non-null     float64       \n",
            " 46  PWHEAMTUSDM_10     75 non-null     float64       \n",
            " 47  WPU0652013A_10     75 non-null     float64       \n",
            " 48  Electricity_10     75 non-null     float64       \n",
            " 49  PNGASEUUSDM_11     75 non-null     float64       \n",
            " 50  PWHEAMTUSDM_11     75 non-null     float64       \n",
            " 51  WPU0652013A_11     75 non-null     float64       \n",
            " 52  Electricity_11     75 non-null     float64       \n",
            " 53  PNGASEUUSDM_12     75 non-null     float64       \n",
            " 54  PWHEAMTUSDM_12     75 non-null     float64       \n",
            " 55  WPU0652013A_12     75 non-null     float64       \n",
            " 56  Electricity_12     75 non-null     float64       \n",
            " 57  AR_1               75 non-null     float64       \n",
            " 58  AR_2               75 non-null     float64       \n",
            " 59  AR_3               75 non-null     float64       \n",
            " 60  AR_4               75 non-null     float64       \n",
            " 61  AR_5               75 non-null     float64       \n",
            " 62  AR_6               75 non-null     float64       \n",
            " 63  AR_7               75 non-null     float64       \n",
            " 64  AR_8               75 non-null     float64       \n",
            " 65  AR_9               75 non-null     float64       \n",
            " 66  AR_10              75 non-null     float64       \n",
            " 67  AR_11              75 non-null     float64       \n",
            " 68  AR_12              75 non-null     float64       \n",
            "dtypes: bool(4), datetime64[ns](1), float64(61), int64(2), object(1)\n",
            "memory usage: 39.0+ KB\n",
            "None\n"
          ]
        }
      ],
      "source": [
        "df_0007 = feature_df[feature_df['RM01/0007'] == 1]\n",
        "print(df_0007.info())"
      ]
    },
    {
      "cell_type": "markdown",
      "metadata": {
        "id": "14QRO2VXEGAE"
      },
      "source": [
        "## 0001"
      ]
    },
    {
      "cell_type": "code",
      "execution_count": null,
      "metadata": {
        "id": "T4eQMklxEGAE"
      },
      "outputs": [],
      "source": [
        "feature_df = df_0001"
      ]
    },
    {
      "cell_type": "code",
      "execution_count": null,
      "metadata": {
        "id": "7CF9xx1GJojO",
        "colab": {
          "base_uri": "https://localhost:8080/"
        },
        "outputId": "91eae1c5-019a-446c-f307-fedbdb8bee15"
      },
      "outputs": [
        {
          "output_type": "stream",
          "name": "stdout",
          "text": [
            "<class 'pandas.core.frame.DataFrame'>\n",
            "Index: 96 entries, 3 to 193\n",
            "Data columns (total 65 columns):\n",
            " #   Column             Non-Null Count  Dtype         \n",
            "---  ------             --------------  -----         \n",
            " 0   Year               96 non-null     int64         \n",
            " 1   Month              96 non-null     int64         \n",
            " 2   Time               96 non-null     datetime64[ns]\n",
            " 3   Group Description  96 non-null     object        \n",
            " 4   Average_price      96 non-null     float64       \n",
            " 5   PNGASEUUSDM_1      96 non-null     float64       \n",
            " 6   PWHEAMTUSDM_1      96 non-null     float64       \n",
            " 7   WPU0652013A_1      96 non-null     float64       \n",
            " 8   Electricity_1      96 non-null     float64       \n",
            " 9   PNGASEUUSDM_2      96 non-null     float64       \n",
            " 10  PWHEAMTUSDM_2      96 non-null     float64       \n",
            " 11  WPU0652013A_2      96 non-null     float64       \n",
            " 12  Electricity_2      96 non-null     float64       \n",
            " 13  PNGASEUUSDM_3      96 non-null     float64       \n",
            " 14  PWHEAMTUSDM_3      96 non-null     float64       \n",
            " 15  WPU0652013A_3      96 non-null     float64       \n",
            " 16  Electricity_3      96 non-null     float64       \n",
            " 17  PNGASEUUSDM_4      96 non-null     float64       \n",
            " 18  PWHEAMTUSDM_4      96 non-null     float64       \n",
            " 19  WPU0652013A_4      96 non-null     float64       \n",
            " 20  Electricity_4      96 non-null     float64       \n",
            " 21  PNGASEUUSDM_5      96 non-null     float64       \n",
            " 22  PWHEAMTUSDM_5      96 non-null     float64       \n",
            " 23  WPU0652013A_5      96 non-null     float64       \n",
            " 24  Electricity_5      96 non-null     float64       \n",
            " 25  PNGASEUUSDM_6      96 non-null     float64       \n",
            " 26  PWHEAMTUSDM_6      96 non-null     float64       \n",
            " 27  WPU0652013A_6      96 non-null     float64       \n",
            " 28  Electricity_6      96 non-null     float64       \n",
            " 29  PNGASEUUSDM_7      96 non-null     float64       \n",
            " 30  PWHEAMTUSDM_7      96 non-null     float64       \n",
            " 31  WPU0652013A_7      96 non-null     float64       \n",
            " 32  Electricity_7      96 non-null     float64       \n",
            " 33  PNGASEUUSDM_8      96 non-null     float64       \n",
            " 34  PWHEAMTUSDM_8      96 non-null     float64       \n",
            " 35  WPU0652013A_8      96 non-null     float64       \n",
            " 36  Electricity_8      96 non-null     float64       \n",
            " 37  PNGASEUUSDM_9      96 non-null     float64       \n",
            " 38  PWHEAMTUSDM_9      96 non-null     float64       \n",
            " 39  WPU0652013A_9      96 non-null     float64       \n",
            " 40  Electricity_9      96 non-null     float64       \n",
            " 41  PNGASEUUSDM_10     96 non-null     float64       \n",
            " 42  PWHEAMTUSDM_10     96 non-null     float64       \n",
            " 43  WPU0652013A_10     96 non-null     float64       \n",
            " 44  Electricity_10     96 non-null     float64       \n",
            " 45  PNGASEUUSDM_11     96 non-null     float64       \n",
            " 46  PWHEAMTUSDM_11     96 non-null     float64       \n",
            " 47  WPU0652013A_11     96 non-null     float64       \n",
            " 48  Electricity_11     96 non-null     float64       \n",
            " 49  PNGASEUUSDM_12     96 non-null     float64       \n",
            " 50  PWHEAMTUSDM_12     96 non-null     float64       \n",
            " 51  WPU0652013A_12     96 non-null     float64       \n",
            " 52  Electricity_12     96 non-null     float64       \n",
            " 53  AR_1               96 non-null     float64       \n",
            " 54  AR_2               96 non-null     float64       \n",
            " 55  AR_3               96 non-null     float64       \n",
            " 56  AR_4               96 non-null     float64       \n",
            " 57  AR_5               96 non-null     float64       \n",
            " 58  AR_6               96 non-null     float64       \n",
            " 59  AR_7               96 non-null     float64       \n",
            " 60  AR_8               96 non-null     float64       \n",
            " 61  AR_9               96 non-null     float64       \n",
            " 62  AR_10              96 non-null     float64       \n",
            " 63  AR_11              96 non-null     float64       \n",
            " 64  AR_12              96 non-null     float64       \n",
            "dtypes: datetime64[ns](1), float64(61), int64(2), object(1)\n",
            "memory usage: 49.5+ KB\n",
            "None\n"
          ]
        }
      ],
      "source": [
        "columns_to_drop = [column for column in feature_df.columns if 'RM' in column]\n",
        "feature_df = feature_df.drop(columns=columns_to_drop)\n",
        "print(feature_df.info())"
      ]
    },
    {
      "cell_type": "markdown",
      "metadata": {
        "id": "WthrrtBLEGAE"
      },
      "source": [
        "### 1-month prediction"
      ]
    },
    {
      "cell_type": "code",
      "execution_count": null,
      "metadata": {
        "id": "kHRtxyIdEGAE",
        "colab": {
          "base_uri": "https://localhost:8080/"
        },
        "outputId": "4f89e6be-5ae5-4908-b7d8-fc974a8ffd74"
      },
      "outputs": [
        {
          "output_type": "stream",
          "name": "stdout",
          "text": [
            "MAPE from 2019-01-01 to 2019-07-01: 6.8\n",
            "MAPE from 2019-07-01 to 2020-01-01: 2.3\n",
            "MAPE from 2020-01-01 to 2020-07-01: 1.4\n",
            "MAPE from 2020-07-01 to 2021-01-01: 1.7\n",
            "MAPE from 2021-01-01 to 2021-07-01: 14.5\n",
            "MAPE from 2021-07-01 to 2022-01-01: 5.9\n",
            "MAPE from 2022-01-01 to 2022-07-01: 3.4\n",
            "MAPE from 2022-07-01 to 2023-01-01: 1.9\n",
            "MAPE from 2023-01-01 to 2023-07-01: 6.3\n",
            "MAPE from 2023-07-01 to 2024-01-01: 7.6\n"
          ]
        }
      ],
      "source": [
        "mape_values = []\n",
        "for start, end in test_periods:\n",
        "    mape = calculate_mape_1(start, end, 0.1)\n",
        "    mape_values.append(mape)\n",
        "    print(f\"MAPE from {start} to {end}: {mape:.1f}\")"
      ]
    },
    {
      "cell_type": "code",
      "execution_count": null,
      "metadata": {
        "id": "d5wrIvLQEGAE",
        "colab": {
          "base_uri": "https://localhost:8080/"
        },
        "outputId": "cf5ceef7-adf2-4b6c-a87a-560906ea8857"
      },
      "outputs": [
        {
          "output_type": "stream",
          "name": "stdout",
          "text": [
            "Average MAPE: 5.2\n"
          ]
        }
      ],
      "source": [
        "average_mape = np.mean(mape_values)\n",
        "print(f\"Average MAPE: {average_mape:.1f}\")"
      ]
    },
    {
      "cell_type": "markdown",
      "metadata": {
        "id": "59eUvQ5_EGAE"
      },
      "source": [
        "### 3-month prediction\n"
      ]
    },
    {
      "cell_type": "code",
      "execution_count": null,
      "metadata": {
        "id": "2UfiZGCXEGAE",
        "colab": {
          "base_uri": "https://localhost:8080/"
        },
        "outputId": "7821d428-2157-4e50-e436-9fef1d3c7799"
      },
      "outputs": [
        {
          "output_type": "stream",
          "name": "stdout",
          "text": [
            "MAPE from 2019-01-01 to 2019-07-01: 15.5\n",
            "MAPE from 2019-07-01 to 2020-01-01: 6.0\n",
            "MAPE from 2020-01-01 to 2020-07-01: 3.1\n",
            "MAPE from 2020-07-01 to 2021-01-01: 3.2\n",
            "MAPE from 2021-01-01 to 2021-07-01: 28.2\n",
            "MAPE from 2021-07-01 to 2022-01-01: 20.6\n",
            "MAPE from 2022-01-01 to 2022-07-01: 13.8\n",
            "MAPE from 2022-07-01 to 2023-01-01: 3.5\n",
            "MAPE from 2023-01-01 to 2023-07-01: 6.4\n",
            "MAPE from 2023-07-01 to 2024-01-01: 12.9\n"
          ]
        }
      ],
      "source": [
        "mape_values = []\n",
        "for start, end in test_periods:\n",
        "    mape = calculate_mape_3(start, end, 0.01)\n",
        "    mape_values.append(mape)\n",
        "    print(f\"MAPE from {start} to {end}: {mape:.1f}\")"
      ]
    },
    {
      "cell_type": "code",
      "execution_count": null,
      "metadata": {
        "id": "vUPd9unTEGAE",
        "colab": {
          "base_uri": "https://localhost:8080/"
        },
        "outputId": "f82364b2-2fcf-4ed3-9b22-2f0bf280ccb4"
      },
      "outputs": [
        {
          "output_type": "stream",
          "name": "stdout",
          "text": [
            "Average MAPE: 11.3\n"
          ]
        }
      ],
      "source": [
        "average_mape = np.mean(mape_values)\n",
        "print(f\"Average MAPE: {average_mape:.1f}\")"
      ]
    },
    {
      "cell_type": "markdown",
      "metadata": {
        "id": "npsKGzMEEGAF"
      },
      "source": [
        "### 6-month prediction"
      ]
    },
    {
      "cell_type": "code",
      "execution_count": null,
      "metadata": {
        "id": "GYMqMCR1EGAF",
        "colab": {
          "base_uri": "https://localhost:8080/"
        },
        "outputId": "e9d03373-124e-45e7-8d57-ccfd610a174d"
      },
      "outputs": [
        {
          "output_type": "stream",
          "name": "stdout",
          "text": [
            "MAPE from 2019-01-01 to 2019-07-01: 12.4\n",
            "MAPE from 2019-07-01 to 2020-01-01: 10.4\n",
            "MAPE from 2020-01-01 to 2020-07-01: 5.6\n",
            "MAPE from 2020-07-01 to 2021-01-01: 5.5\n",
            "MAPE from 2021-01-01 to 2021-07-01: 31.2\n",
            "MAPE from 2021-07-01 to 2022-01-01: 41.3\n",
            "MAPE from 2022-01-01 to 2022-07-01: 12.2\n",
            "MAPE from 2022-07-01 to 2023-01-01: 17.3\n",
            "MAPE from 2023-01-01 to 2023-07-01: 8.1\n",
            "MAPE from 2023-07-01 to 2024-01-01: 18.3\n"
          ]
        }
      ],
      "source": [
        "mape_values = []\n",
        "for start, end in test_periods:\n",
        "    mape = calculate_mape_6(start, end, 0.05)\n",
        "    mape_values.append(mape)\n",
        "    print(f\"MAPE from {start} to {end}: {mape:.1f}\")"
      ]
    },
    {
      "cell_type": "code",
      "execution_count": null,
      "metadata": {
        "id": "RsqpeussEGAF",
        "colab": {
          "base_uri": "https://localhost:8080/"
        },
        "outputId": "a0d81122-3a90-4b3e-a28b-967682d27146"
      },
      "outputs": [
        {
          "output_type": "stream",
          "name": "stdout",
          "text": [
            "Average MAPE: 16.2\n"
          ]
        }
      ],
      "source": [
        "average_mape = np.mean(mape_values)\n",
        "print(f\"Average MAPE: {average_mape:.1f}\")"
      ]
    },
    {
      "cell_type": "markdown",
      "metadata": {
        "id": "h4ao2Z2SGlaq"
      },
      "source": [
        "## 0004"
      ]
    },
    {
      "cell_type": "code",
      "execution_count": null,
      "metadata": {
        "id": "nnyKBORGGlar"
      },
      "outputs": [],
      "source": [
        "feature_df = df_0004"
      ]
    },
    {
      "cell_type": "code",
      "execution_count": null,
      "metadata": {
        "id": "Qnny-h-UJqTd",
        "colab": {
          "base_uri": "https://localhost:8080/"
        },
        "outputId": "d9048682-a97b-48f9-e4f3-4967a418cbe7"
      },
      "outputs": [
        {
          "output_type": "stream",
          "name": "stdout",
          "text": [
            "<class 'pandas.core.frame.DataFrame'>\n",
            "Index: 96 entries, 2 to 192\n",
            "Data columns (total 65 columns):\n",
            " #   Column             Non-Null Count  Dtype         \n",
            "---  ------             --------------  -----         \n",
            " 0   Year               96 non-null     int64         \n",
            " 1   Month              96 non-null     int64         \n",
            " 2   Time               96 non-null     datetime64[ns]\n",
            " 3   Group Description  96 non-null     object        \n",
            " 4   Average_price      96 non-null     float64       \n",
            " 5   PNGASEUUSDM_1      96 non-null     float64       \n",
            " 6   PWHEAMTUSDM_1      96 non-null     float64       \n",
            " 7   WPU0652013A_1      96 non-null     float64       \n",
            " 8   Electricity_1      96 non-null     float64       \n",
            " 9   PNGASEUUSDM_2      96 non-null     float64       \n",
            " 10  PWHEAMTUSDM_2      96 non-null     float64       \n",
            " 11  WPU0652013A_2      96 non-null     float64       \n",
            " 12  Electricity_2      96 non-null     float64       \n",
            " 13  PNGASEUUSDM_3      96 non-null     float64       \n",
            " 14  PWHEAMTUSDM_3      96 non-null     float64       \n",
            " 15  WPU0652013A_3      96 non-null     float64       \n",
            " 16  Electricity_3      96 non-null     float64       \n",
            " 17  PNGASEUUSDM_4      96 non-null     float64       \n",
            " 18  PWHEAMTUSDM_4      96 non-null     float64       \n",
            " 19  WPU0652013A_4      96 non-null     float64       \n",
            " 20  Electricity_4      96 non-null     float64       \n",
            " 21  PNGASEUUSDM_5      96 non-null     float64       \n",
            " 22  PWHEAMTUSDM_5      96 non-null     float64       \n",
            " 23  WPU0652013A_5      96 non-null     float64       \n",
            " 24  Electricity_5      96 non-null     float64       \n",
            " 25  PNGASEUUSDM_6      96 non-null     float64       \n",
            " 26  PWHEAMTUSDM_6      96 non-null     float64       \n",
            " 27  WPU0652013A_6      96 non-null     float64       \n",
            " 28  Electricity_6      96 non-null     float64       \n",
            " 29  PNGASEUUSDM_7      96 non-null     float64       \n",
            " 30  PWHEAMTUSDM_7      96 non-null     float64       \n",
            " 31  WPU0652013A_7      96 non-null     float64       \n",
            " 32  Electricity_7      96 non-null     float64       \n",
            " 33  PNGASEUUSDM_8      96 non-null     float64       \n",
            " 34  PWHEAMTUSDM_8      96 non-null     float64       \n",
            " 35  WPU0652013A_8      96 non-null     float64       \n",
            " 36  Electricity_8      96 non-null     float64       \n",
            " 37  PNGASEUUSDM_9      96 non-null     float64       \n",
            " 38  PWHEAMTUSDM_9      96 non-null     float64       \n",
            " 39  WPU0652013A_9      96 non-null     float64       \n",
            " 40  Electricity_9      96 non-null     float64       \n",
            " 41  PNGASEUUSDM_10     96 non-null     float64       \n",
            " 42  PWHEAMTUSDM_10     96 non-null     float64       \n",
            " 43  WPU0652013A_10     96 non-null     float64       \n",
            " 44  Electricity_10     96 non-null     float64       \n",
            " 45  PNGASEUUSDM_11     96 non-null     float64       \n",
            " 46  PWHEAMTUSDM_11     96 non-null     float64       \n",
            " 47  WPU0652013A_11     96 non-null     float64       \n",
            " 48  Electricity_11     96 non-null     float64       \n",
            " 49  PNGASEUUSDM_12     96 non-null     float64       \n",
            " 50  PWHEAMTUSDM_12     96 non-null     float64       \n",
            " 51  WPU0652013A_12     96 non-null     float64       \n",
            " 52  Electricity_12     96 non-null     float64       \n",
            " 53  AR_1               96 non-null     float64       \n",
            " 54  AR_2               96 non-null     float64       \n",
            " 55  AR_3               96 non-null     float64       \n",
            " 56  AR_4               96 non-null     float64       \n",
            " 57  AR_5               96 non-null     float64       \n",
            " 58  AR_6               96 non-null     float64       \n",
            " 59  AR_7               96 non-null     float64       \n",
            " 60  AR_8               96 non-null     float64       \n",
            " 61  AR_9               96 non-null     float64       \n",
            " 62  AR_10              96 non-null     float64       \n",
            " 63  AR_11              96 non-null     float64       \n",
            " 64  AR_12              96 non-null     float64       \n",
            "dtypes: datetime64[ns](1), float64(61), int64(2), object(1)\n",
            "memory usage: 49.5+ KB\n",
            "None\n"
          ]
        }
      ],
      "source": [
        "columns_to_drop = [column for column in feature_df.columns if 'RM' in column]\n",
        "feature_df = feature_df.drop(columns=columns_to_drop)\n",
        "print(feature_df.info())"
      ]
    },
    {
      "cell_type": "markdown",
      "metadata": {
        "id": "D_R_54meGlar"
      },
      "source": [
        "### 1-month prediction"
      ]
    },
    {
      "cell_type": "code",
      "execution_count": null,
      "metadata": {
        "id": "QiZEINWxGlar",
        "colab": {
          "base_uri": "https://localhost:8080/"
        },
        "outputId": "edba357d-9203-4e15-c41b-efe7b3bfad42"
      },
      "outputs": [
        {
          "output_type": "stream",
          "name": "stdout",
          "text": [
            "MAPE from 2019-01-01 to 2019-07-01: 7.1\n",
            "MAPE from 2019-07-01 to 2020-01-01: 12.0\n",
            "MAPE from 2020-01-01 to 2020-07-01: 12.3\n",
            "MAPE from 2020-07-01 to 2021-01-01: 18.9\n",
            "MAPE from 2021-01-01 to 2021-07-01: 11.6\n",
            "MAPE from 2021-07-01 to 2022-01-01: 8.6\n",
            "MAPE from 2022-01-01 to 2022-07-01: 10.3\n",
            "MAPE from 2022-07-01 to 2023-01-01: 8.5\n",
            "MAPE from 2023-01-01 to 2023-07-01: 7.3\n",
            "MAPE from 2023-07-01 to 2024-01-01: 3.2\n"
          ]
        }
      ],
      "source": [
        "mape_values = []\n",
        "for start, end in test_periods:\n",
        "    mape = calculate_mape_1(start, end, 0.1)\n",
        "    mape_values.append(mape)\n",
        "    print(f\"MAPE from {start} to {end}: {mape:.1f}\")"
      ]
    },
    {
      "cell_type": "code",
      "execution_count": null,
      "metadata": {
        "id": "CmeUMXRUGlar",
        "colab": {
          "base_uri": "https://localhost:8080/"
        },
        "outputId": "8612c9d3-16a7-4dc5-e3e1-244f9628443f"
      },
      "outputs": [
        {
          "output_type": "stream",
          "name": "stdout",
          "text": [
            "Average MAPE: 10.0\n"
          ]
        }
      ],
      "source": [
        "average_mape = np.mean(mape_values)\n",
        "print(f\"Average MAPE: {average_mape:.1f}\")"
      ]
    },
    {
      "cell_type": "markdown",
      "metadata": {
        "id": "nqXJ3gb5Glas"
      },
      "source": [
        "### 3-month prediction\n"
      ]
    },
    {
      "cell_type": "code",
      "execution_count": null,
      "metadata": {
        "id": "hfbvYPScGlas",
        "colab": {
          "base_uri": "https://localhost:8080/"
        },
        "outputId": "0a13f515-76aa-42fa-8188-8c95ef63a1d5"
      },
      "outputs": [
        {
          "output_type": "stream",
          "name": "stdout",
          "text": [
            "MAPE from 2019-01-01 to 2019-07-01: 11.3\n",
            "MAPE from 2019-07-01 to 2020-01-01: 17.6\n",
            "MAPE from 2020-01-01 to 2020-07-01: 23.2\n",
            "MAPE from 2020-07-01 to 2021-01-01: 17.7\n",
            "MAPE from 2021-01-01 to 2021-07-01: 17.0\n",
            "MAPE from 2021-07-01 to 2022-01-01: 23.3\n",
            "MAPE from 2022-01-01 to 2022-07-01: 10.3\n",
            "MAPE from 2022-07-01 to 2023-01-01: 18.5\n",
            "MAPE from 2023-01-01 to 2023-07-01: 15.5\n",
            "MAPE from 2023-07-01 to 2024-01-01: 3.6\n"
          ]
        }
      ],
      "source": [
        "mape_values = []\n",
        "for start, end in test_periods:\n",
        "    mape = calculate_mape_3(start, end, 0.2)\n",
        "    mape_values.append(mape)\n",
        "    print(f\"MAPE from {start} to {end}: {mape:.1f}\")"
      ]
    },
    {
      "cell_type": "code",
      "execution_count": null,
      "metadata": {
        "id": "I46oq81sGlas",
        "colab": {
          "base_uri": "https://localhost:8080/"
        },
        "outputId": "d91e737b-57a6-41b4-a71b-ece20f878e4f"
      },
      "outputs": [
        {
          "output_type": "stream",
          "name": "stdout",
          "text": [
            "Average MAPE: 15.8\n"
          ]
        }
      ],
      "source": [
        "average_mape = np.mean(mape_values)\n",
        "print(f\"Average MAPE: {average_mape:.1f}\")"
      ]
    },
    {
      "cell_type": "markdown",
      "metadata": {
        "id": "4xP8BltnGlas"
      },
      "source": [
        "### 6-month prediction"
      ]
    },
    {
      "cell_type": "code",
      "execution_count": null,
      "metadata": {
        "id": "lIQAwNr3Glas",
        "colab": {
          "base_uri": "https://localhost:8080/"
        },
        "outputId": "a3dac429-935f-467c-cbc0-68ce96940095"
      },
      "outputs": [
        {
          "output_type": "stream",
          "name": "stdout",
          "text": [
            "MAPE from 2019-01-01 to 2019-07-01: 9.7\n",
            "MAPE from 2019-07-01 to 2020-01-01: 26.2\n",
            "MAPE from 2020-01-01 to 2020-07-01: 29.9\n",
            "MAPE from 2020-07-01 to 2021-01-01: 35.2\n",
            "MAPE from 2021-01-01 to 2021-07-01: 19.9\n",
            "MAPE from 2021-07-01 to 2022-01-01: 37.2\n",
            "MAPE from 2022-01-01 to 2022-07-01: 26.7\n",
            "MAPE from 2022-07-01 to 2023-01-01: 9.5\n",
            "MAPE from 2023-01-01 to 2023-07-01: 49.5\n",
            "MAPE from 2023-07-01 to 2024-01-01: 4.5\n"
          ]
        }
      ],
      "source": [
        "mape_values = []\n",
        "for start, end in test_periods:\n",
        "    mape = calculate_mape_6(start, end, 0.3)\n",
        "    mape_values.append(mape)\n",
        "    print(f\"MAPE from {start} to {end}: {mape:.1f}\")"
      ]
    },
    {
      "cell_type": "code",
      "execution_count": null,
      "metadata": {
        "id": "b617sBQeGlas",
        "colab": {
          "base_uri": "https://localhost:8080/"
        },
        "outputId": "7a1d229c-60f4-4aa4-99ee-167fd8be0527"
      },
      "outputs": [
        {
          "output_type": "stream",
          "name": "stdout",
          "text": [
            "Average MAPE: 24.8\n"
          ]
        }
      ],
      "source": [
        "average_mape = np.mean(mape_values)\n",
        "print(f\"Average MAPE: {average_mape:.1f}\")"
      ]
    },
    {
      "cell_type": "markdown",
      "metadata": {
        "id": "4D3qqO67Gl4t"
      },
      "source": [
        "## 0006"
      ]
    },
    {
      "cell_type": "code",
      "execution_count": null,
      "metadata": {
        "id": "BugpFJ6lGl4u"
      },
      "outputs": [],
      "source": [
        "feature_df = df_0006"
      ]
    },
    {
      "cell_type": "code",
      "execution_count": null,
      "metadata": {
        "id": "27XaEdB4JrO3",
        "colab": {
          "base_uri": "https://localhost:8080/"
        },
        "outputId": "6629096b-fd76-45aa-d96a-be9a1f682c66"
      },
      "outputs": [
        {
          "output_type": "stream",
          "name": "stdout",
          "text": [
            "<class 'pandas.core.frame.DataFrame'>\n",
            "Index: 95 entries, 309 to 404\n",
            "Data columns (total 65 columns):\n",
            " #   Column             Non-Null Count  Dtype         \n",
            "---  ------             --------------  -----         \n",
            " 0   Year               95 non-null     int64         \n",
            " 1   Month              95 non-null     int64         \n",
            " 2   Time               95 non-null     datetime64[ns]\n",
            " 3   Group Description  95 non-null     object        \n",
            " 4   Average_price      95 non-null     float64       \n",
            " 5   PNGASEUUSDM_1      95 non-null     float64       \n",
            " 6   PWHEAMTUSDM_1      95 non-null     float64       \n",
            " 7   WPU0652013A_1      95 non-null     float64       \n",
            " 8   Electricity_1      95 non-null     float64       \n",
            " 9   PNGASEUUSDM_2      95 non-null     float64       \n",
            " 10  PWHEAMTUSDM_2      95 non-null     float64       \n",
            " 11  WPU0652013A_2      95 non-null     float64       \n",
            " 12  Electricity_2      95 non-null     float64       \n",
            " 13  PNGASEUUSDM_3      95 non-null     float64       \n",
            " 14  PWHEAMTUSDM_3      95 non-null     float64       \n",
            " 15  WPU0652013A_3      95 non-null     float64       \n",
            " 16  Electricity_3      95 non-null     float64       \n",
            " 17  PNGASEUUSDM_4      95 non-null     float64       \n",
            " 18  PWHEAMTUSDM_4      95 non-null     float64       \n",
            " 19  WPU0652013A_4      95 non-null     float64       \n",
            " 20  Electricity_4      95 non-null     float64       \n",
            " 21  PNGASEUUSDM_5      95 non-null     float64       \n",
            " 22  PWHEAMTUSDM_5      95 non-null     float64       \n",
            " 23  WPU0652013A_5      95 non-null     float64       \n",
            " 24  Electricity_5      95 non-null     float64       \n",
            " 25  PNGASEUUSDM_6      95 non-null     float64       \n",
            " 26  PWHEAMTUSDM_6      95 non-null     float64       \n",
            " 27  WPU0652013A_6      95 non-null     float64       \n",
            " 28  Electricity_6      95 non-null     float64       \n",
            " 29  PNGASEUUSDM_7      95 non-null     float64       \n",
            " 30  PWHEAMTUSDM_7      95 non-null     float64       \n",
            " 31  WPU0652013A_7      95 non-null     float64       \n",
            " 32  Electricity_7      95 non-null     float64       \n",
            " 33  PNGASEUUSDM_8      95 non-null     float64       \n",
            " 34  PWHEAMTUSDM_8      95 non-null     float64       \n",
            " 35  WPU0652013A_8      95 non-null     float64       \n",
            " 36  Electricity_8      95 non-null     float64       \n",
            " 37  PNGASEUUSDM_9      95 non-null     float64       \n",
            " 38  PWHEAMTUSDM_9      95 non-null     float64       \n",
            " 39  WPU0652013A_9      95 non-null     float64       \n",
            " 40  Electricity_9      95 non-null     float64       \n",
            " 41  PNGASEUUSDM_10     95 non-null     float64       \n",
            " 42  PWHEAMTUSDM_10     95 non-null     float64       \n",
            " 43  WPU0652013A_10     95 non-null     float64       \n",
            " 44  Electricity_10     95 non-null     float64       \n",
            " 45  PNGASEUUSDM_11     95 non-null     float64       \n",
            " 46  PWHEAMTUSDM_11     95 non-null     float64       \n",
            " 47  WPU0652013A_11     95 non-null     float64       \n",
            " 48  Electricity_11     95 non-null     float64       \n",
            " 49  PNGASEUUSDM_12     95 non-null     float64       \n",
            " 50  PWHEAMTUSDM_12     95 non-null     float64       \n",
            " 51  WPU0652013A_12     95 non-null     float64       \n",
            " 52  Electricity_12     95 non-null     float64       \n",
            " 53  AR_1               95 non-null     float64       \n",
            " 54  AR_2               95 non-null     float64       \n",
            " 55  AR_3               95 non-null     float64       \n",
            " 56  AR_4               95 non-null     float64       \n",
            " 57  AR_5               95 non-null     float64       \n",
            " 58  AR_6               95 non-null     float64       \n",
            " 59  AR_7               95 non-null     float64       \n",
            " 60  AR_8               95 non-null     float64       \n",
            " 61  AR_9               95 non-null     float64       \n",
            " 62  AR_10              95 non-null     float64       \n",
            " 63  AR_11              95 non-null     float64       \n",
            " 64  AR_12              95 non-null     float64       \n",
            "dtypes: datetime64[ns](1), float64(61), int64(2), object(1)\n",
            "memory usage: 49.0+ KB\n",
            "None\n"
          ]
        }
      ],
      "source": [
        "columns_to_drop = [column for column in feature_df.columns if 'RM' in column]\n",
        "feature_df = feature_df.drop(columns=columns_to_drop)\n",
        "print(feature_df.info())"
      ]
    },
    {
      "cell_type": "markdown",
      "metadata": {
        "id": "IOtYm-4PGl4u"
      },
      "source": [
        "### 1-month prediction"
      ]
    },
    {
      "cell_type": "code",
      "execution_count": null,
      "metadata": {
        "id": "kyTE2D1LGl4u",
        "colab": {
          "base_uri": "https://localhost:8080/"
        },
        "outputId": "1f828389-71d7-414f-bc5c-de9725c7a228"
      },
      "outputs": [
        {
          "output_type": "stream",
          "name": "stdout",
          "text": [
            "MAPE from 2019-01-01 to 2019-07-01: 5.3\n",
            "MAPE from 2019-07-01 to 2020-01-01: 5.2\n",
            "MAPE from 2020-01-01 to 2020-07-01: 7.5\n",
            "MAPE from 2020-07-01 to 2021-01-01: 4.7\n",
            "MAPE from 2021-01-01 to 2021-07-01: 6.5\n",
            "MAPE from 2021-07-01 to 2022-01-01: 15.0\n",
            "MAPE from 2022-01-01 to 2022-07-01: 27.7\n",
            "MAPE from 2022-07-01 to 2023-01-01: 25.5\n",
            "MAPE from 2023-01-01 to 2023-07-01: 6.7\n",
            "MAPE from 2023-07-01 to 2024-01-01: 11.9\n"
          ]
        }
      ],
      "source": [
        "mape_values = []\n",
        "for start, end in test_periods:\n",
        "    mape = calculate_mape_1(start, end, 0.1)\n",
        "    mape_values.append(mape)\n",
        "    print(f\"MAPE from {start} to {end}: {mape:.1f}\")"
      ]
    },
    {
      "cell_type": "code",
      "execution_count": null,
      "metadata": {
        "id": "f6IWeCEqGl4u",
        "colab": {
          "base_uri": "https://localhost:8080/"
        },
        "outputId": "d141d6e4-53fa-449c-dc7a-d4809a429d28"
      },
      "outputs": [
        {
          "output_type": "stream",
          "name": "stdout",
          "text": [
            "Average MAPE: 11.6\n"
          ]
        }
      ],
      "source": [
        "average_mape = np.mean(mape_values)\n",
        "print(f\"Average MAPE: {average_mape:.1f}\")"
      ]
    },
    {
      "cell_type": "markdown",
      "metadata": {
        "id": "Rd1dYc6xGl4u"
      },
      "source": [
        "### 3-month prediction\n"
      ]
    },
    {
      "cell_type": "code",
      "execution_count": null,
      "metadata": {
        "id": "v_657DWxGl4u",
        "colab": {
          "base_uri": "https://localhost:8080/"
        },
        "outputId": "1079673c-3a0a-4724-8892-ca5722168b98"
      },
      "outputs": [
        {
          "output_type": "stream",
          "name": "stdout",
          "text": [
            "MAPE from 2019-01-01 to 2019-07-01: 5.3\n",
            "MAPE from 2019-07-01 to 2020-01-01: 4.8\n",
            "MAPE from 2020-01-01 to 2020-07-01: 6.4\n",
            "MAPE from 2020-07-01 to 2021-01-01: 4.2\n",
            "MAPE from 2021-01-01 to 2021-07-01: 5.5\n",
            "MAPE from 2021-07-01 to 2022-01-01: 16.3\n",
            "MAPE from 2022-01-01 to 2022-07-01: 54.0\n",
            "MAPE from 2022-07-01 to 2023-01-01: 23.6\n",
            "MAPE from 2023-01-01 to 2023-07-01: 6.3\n",
            "MAPE from 2023-07-01 to 2024-01-01: 12.0\n"
          ]
        }
      ],
      "source": [
        "mape_values = []\n",
        "for start, end in test_periods:\n",
        "    mape = calculate_mape_3(start, end, 0.2)\n",
        "    mape_values.append(mape)\n",
        "    print(f\"MAPE from {start} to {end}: {mape:.1f}\")"
      ]
    },
    {
      "cell_type": "code",
      "execution_count": null,
      "metadata": {
        "id": "KcSv06QqGl4v",
        "colab": {
          "base_uri": "https://localhost:8080/"
        },
        "outputId": "a3af3969-1b9d-4cf6-c2b1-df9e3b1089a9"
      },
      "outputs": [
        {
          "output_type": "stream",
          "name": "stdout",
          "text": [
            "Average MAPE: 13.8\n"
          ]
        }
      ],
      "source": [
        "average_mape = np.mean(mape_values)\n",
        "print(f\"Average MAPE: {average_mape:.1f}\")"
      ]
    },
    {
      "cell_type": "markdown",
      "metadata": {
        "id": "IO3R_eilGl4v"
      },
      "source": [
        "### 6-month prediction"
      ]
    },
    {
      "cell_type": "code",
      "execution_count": null,
      "metadata": {
        "id": "BV6NyV59Gl4v",
        "colab": {
          "base_uri": "https://localhost:8080/"
        },
        "outputId": "4f7cc8d0-5529-4aa9-b53e-d8b69880b52e"
      },
      "outputs": [
        {
          "output_type": "stream",
          "name": "stdout",
          "text": [
            "MAPE from 2019-01-01 to 2019-07-01: 3.2\n",
            "MAPE from 2019-07-01 to 2020-01-01: 3.7\n",
            "MAPE from 2020-01-01 to 2020-07-01: 7.7\n",
            "MAPE from 2020-07-01 to 2021-01-01: 4.8\n",
            "MAPE from 2021-01-01 to 2021-07-01: 5.0\n",
            "MAPE from 2021-07-01 to 2022-01-01: 20.4\n",
            "MAPE from 2022-01-01 to 2022-07-01: 57.1\n",
            "MAPE from 2022-07-01 to 2023-01-01: 44.1\n",
            "MAPE from 2023-01-01 to 2023-07-01: 17.0\n",
            "MAPE from 2023-07-01 to 2024-01-01: 12.8\n"
          ]
        }
      ],
      "source": [
        "mape_values = []\n",
        "for start, end in test_periods:\n",
        "    mape = calculate_mape_6(start, end, 0.4)\n",
        "    mape_values.append(mape)\n",
        "    print(f\"MAPE from {start} to {end}: {mape:.1f}\")"
      ]
    },
    {
      "cell_type": "code",
      "execution_count": null,
      "metadata": {
        "id": "gnG9ud4CGl4v",
        "colab": {
          "base_uri": "https://localhost:8080/"
        },
        "outputId": "bbc43908-5c59-45e6-f0b5-17bbf505fc55"
      },
      "outputs": [
        {
          "output_type": "stream",
          "name": "stdout",
          "text": [
            "Average MAPE: 17.6\n"
          ]
        }
      ],
      "source": [
        "average_mape = np.mean(mape_values)\n",
        "print(f\"Average MAPE: {average_mape:.1f}\")"
      ]
    },
    {
      "cell_type": "markdown",
      "metadata": {
        "id": "EkX7WaeeGmW6"
      },
      "source": [
        "## 0007"
      ]
    },
    {
      "cell_type": "code",
      "execution_count": null,
      "metadata": {
        "id": "LF2RXHPwGmW6"
      },
      "outputs": [],
      "source": [
        "feature_df = df_0007"
      ]
    },
    {
      "cell_type": "code",
      "execution_count": null,
      "metadata": {
        "id": "1SDGx08UJsPc",
        "colab": {
          "base_uri": "https://localhost:8080/"
        },
        "outputId": "8cf64c3b-210c-4a78-a4a1-1e5e7ed777d1"
      },
      "outputs": [
        {
          "output_type": "stream",
          "name": "stdout",
          "text": [
            "<class 'pandas.core.frame.DataFrame'>\n",
            "Index: 75 entries, 213 to 307\n",
            "Data columns (total 65 columns):\n",
            " #   Column             Non-Null Count  Dtype         \n",
            "---  ------             --------------  -----         \n",
            " 0   Year               75 non-null     int64         \n",
            " 1   Month              75 non-null     int64         \n",
            " 2   Time               75 non-null     datetime64[ns]\n",
            " 3   Group Description  75 non-null     object        \n",
            " 4   Average_price      75 non-null     float64       \n",
            " 5   PNGASEUUSDM_1      75 non-null     float64       \n",
            " 6   PWHEAMTUSDM_1      75 non-null     float64       \n",
            " 7   WPU0652013A_1      75 non-null     float64       \n",
            " 8   Electricity_1      75 non-null     float64       \n",
            " 9   PNGASEUUSDM_2      75 non-null     float64       \n",
            " 10  PWHEAMTUSDM_2      75 non-null     float64       \n",
            " 11  WPU0652013A_2      75 non-null     float64       \n",
            " 12  Electricity_2      75 non-null     float64       \n",
            " 13  PNGASEUUSDM_3      75 non-null     float64       \n",
            " 14  PWHEAMTUSDM_3      75 non-null     float64       \n",
            " 15  WPU0652013A_3      75 non-null     float64       \n",
            " 16  Electricity_3      75 non-null     float64       \n",
            " 17  PNGASEUUSDM_4      75 non-null     float64       \n",
            " 18  PWHEAMTUSDM_4      75 non-null     float64       \n",
            " 19  WPU0652013A_4      75 non-null     float64       \n",
            " 20  Electricity_4      75 non-null     float64       \n",
            " 21  PNGASEUUSDM_5      75 non-null     float64       \n",
            " 22  PWHEAMTUSDM_5      75 non-null     float64       \n",
            " 23  WPU0652013A_5      75 non-null     float64       \n",
            " 24  Electricity_5      75 non-null     float64       \n",
            " 25  PNGASEUUSDM_6      75 non-null     float64       \n",
            " 26  PWHEAMTUSDM_6      75 non-null     float64       \n",
            " 27  WPU0652013A_6      75 non-null     float64       \n",
            " 28  Electricity_6      75 non-null     float64       \n",
            " 29  PNGASEUUSDM_7      75 non-null     float64       \n",
            " 30  PWHEAMTUSDM_7      75 non-null     float64       \n",
            " 31  WPU0652013A_7      75 non-null     float64       \n",
            " 32  Electricity_7      75 non-null     float64       \n",
            " 33  PNGASEUUSDM_8      75 non-null     float64       \n",
            " 34  PWHEAMTUSDM_8      75 non-null     float64       \n",
            " 35  WPU0652013A_8      75 non-null     float64       \n",
            " 36  Electricity_8      75 non-null     float64       \n",
            " 37  PNGASEUUSDM_9      75 non-null     float64       \n",
            " 38  PWHEAMTUSDM_9      75 non-null     float64       \n",
            " 39  WPU0652013A_9      75 non-null     float64       \n",
            " 40  Electricity_9      75 non-null     float64       \n",
            " 41  PNGASEUUSDM_10     75 non-null     float64       \n",
            " 42  PWHEAMTUSDM_10     75 non-null     float64       \n",
            " 43  WPU0652013A_10     75 non-null     float64       \n",
            " 44  Electricity_10     75 non-null     float64       \n",
            " 45  PNGASEUUSDM_11     75 non-null     float64       \n",
            " 46  PWHEAMTUSDM_11     75 non-null     float64       \n",
            " 47  WPU0652013A_11     75 non-null     float64       \n",
            " 48  Electricity_11     75 non-null     float64       \n",
            " 49  PNGASEUUSDM_12     75 non-null     float64       \n",
            " 50  PWHEAMTUSDM_12     75 non-null     float64       \n",
            " 51  WPU0652013A_12     75 non-null     float64       \n",
            " 52  Electricity_12     75 non-null     float64       \n",
            " 53  AR_1               75 non-null     float64       \n",
            " 54  AR_2               75 non-null     float64       \n",
            " 55  AR_3               75 non-null     float64       \n",
            " 56  AR_4               75 non-null     float64       \n",
            " 57  AR_5               75 non-null     float64       \n",
            " 58  AR_6               75 non-null     float64       \n",
            " 59  AR_7               75 non-null     float64       \n",
            " 60  AR_8               75 non-null     float64       \n",
            " 61  AR_9               75 non-null     float64       \n",
            " 62  AR_10              75 non-null     float64       \n",
            " 63  AR_11              75 non-null     float64       \n",
            " 64  AR_12              75 non-null     float64       \n",
            "dtypes: datetime64[ns](1), float64(61), int64(2), object(1)\n",
            "memory usage: 38.7+ KB\n",
            "None\n"
          ]
        }
      ],
      "source": [
        "columns_to_drop = [column for column in feature_df.columns if 'RM' in column]\n",
        "feature_df = feature_df.drop(columns=columns_to_drop)\n",
        "print(feature_df.info())"
      ]
    },
    {
      "cell_type": "markdown",
      "metadata": {
        "id": "uW_pzmpBGmW6"
      },
      "source": [
        "### 1-month prediction"
      ]
    },
    {
      "cell_type": "code",
      "execution_count": null,
      "metadata": {
        "id": "zsJc1yVNGmW7",
        "colab": {
          "base_uri": "https://localhost:8080/"
        },
        "outputId": "96a45cf4-397b-41ce-9fd2-054587d2c2a3"
      },
      "outputs": [
        {
          "output_type": "stream",
          "name": "stderr",
          "text": [
            "/usr/local/lib/python3.10/dist-packages/sklearn/linear_model/_coordinate_descent.py:631: ConvergenceWarning: Objective did not converge. You might want to increase the number of iterations, check the scale of the features or consider increasing regularisation. Duality gap: 1.470e-03, tolerance: 1.455e-03\n",
            "  model = cd_fast.enet_coordinate_descent(\n"
          ]
        },
        {
          "output_type": "stream",
          "name": "stdout",
          "text": [
            "MAPE from 2019-01-01 to 2019-07-01: 40.4\n",
            "MAPE from 2019-07-01 to 2020-01-01: 13.9\n",
            "MAPE from 2020-01-01 to 2020-07-01: 26.3\n",
            "MAPE from 2020-07-01 to 2021-01-01: 9.1\n",
            "MAPE from 2021-01-01 to 2021-07-01: 17.5\n"
          ]
        },
        {
          "output_type": "stream",
          "name": "stderr",
          "text": [
            "/usr/local/lib/python3.10/dist-packages/sklearn/linear_model/_coordinate_descent.py:631: ConvergenceWarning: Objective did not converge. You might want to increase the number of iterations, check the scale of the features or consider increasing regularisation. Duality gap: 1.303e-02, tolerance: 3.171e-03\n",
            "  model = cd_fast.enet_coordinate_descent(\n"
          ]
        },
        {
          "output_type": "stream",
          "name": "stdout",
          "text": [
            "MAPE from 2021-07-01 to 2022-01-01: 21.8\n",
            "MAPE from 2022-01-01 to 2022-07-01: 51.1\n",
            "MAPE from 2022-07-01 to 2023-01-01: 47.7\n",
            "MAPE from 2023-01-01 to 2023-07-01: 5.1\n",
            "MAPE from 2023-07-01 to 2024-01-01: 6.1\n"
          ]
        }
      ],
      "source": [
        "mape_values = []\n",
        "for start, end in test_periods:\n",
        "    mape = calculate_mape_1(start, end, 0.01)\n",
        "    mape_values.append(mape)\n",
        "    print(f\"MAPE from {start} to {end}: {mape:.1f}\")"
      ]
    },
    {
      "cell_type": "code",
      "execution_count": null,
      "metadata": {
        "id": "7VxdjJPrGmW7",
        "colab": {
          "base_uri": "https://localhost:8080/"
        },
        "outputId": "6d8f2241-2e00-4e66-e8e2-898ddb4d67da"
      },
      "outputs": [
        {
          "output_type": "stream",
          "name": "stdout",
          "text": [
            "Average MAPE: 23.9\n"
          ]
        }
      ],
      "source": [
        "average_mape = np.mean(mape_values)\n",
        "print(f\"Average MAPE: {average_mape:.1f}\")"
      ]
    },
    {
      "cell_type": "markdown",
      "metadata": {
        "id": "DMKWbxbnGmW7"
      },
      "source": [
        "### 3-month prediction\n"
      ]
    },
    {
      "cell_type": "code",
      "execution_count": null,
      "metadata": {
        "id": "p8Y6ha15GmW7",
        "colab": {
          "base_uri": "https://localhost:8080/"
        },
        "outputId": "5f677bfd-7bfd-4b13-8a02-f78ba7070690"
      },
      "outputs": [
        {
          "output_type": "stream",
          "name": "stdout",
          "text": [
            "MAPE from 2019-01-01 to 2019-07-01: 40.4\n",
            "MAPE from 2019-07-01 to 2020-01-01: 13.5\n",
            "MAPE from 2020-01-01 to 2020-07-01: 32.0\n",
            "MAPE from 2020-07-01 to 2021-01-01: 12.3\n",
            "MAPE from 2021-01-01 to 2021-07-01: 20.5\n",
            "MAPE from 2021-07-01 to 2022-01-01: 26.6\n",
            "MAPE from 2022-01-01 to 2022-07-01: 43.9\n",
            "MAPE from 2022-07-01 to 2023-01-01: 44.7\n",
            "MAPE from 2023-01-01 to 2023-07-01: 17.9\n",
            "MAPE from 2023-07-01 to 2024-01-01: 12.4\n"
          ]
        }
      ],
      "source": [
        "mape_values = []\n",
        "for start, end in test_periods:\n",
        "    mape = calculate_mape_3(start, end, 0.1)\n",
        "    mape_values.append(mape)\n",
        "    print(f\"MAPE from {start} to {end}: {mape:.1f}\")"
      ]
    },
    {
      "cell_type": "code",
      "execution_count": null,
      "metadata": {
        "id": "S7zblMXbGmW7",
        "colab": {
          "base_uri": "https://localhost:8080/"
        },
        "outputId": "b90e713a-5064-4bf2-a229-c50fbd27e8ff"
      },
      "outputs": [
        {
          "output_type": "stream",
          "name": "stdout",
          "text": [
            "Average MAPE: 26.4\n"
          ]
        }
      ],
      "source": [
        "average_mape = np.mean(mape_values)\n",
        "print(f\"Average MAPE: {average_mape:.1f}\")"
      ]
    },
    {
      "cell_type": "markdown",
      "metadata": {
        "id": "N6t_iHJLGmW7"
      },
      "source": [
        "### 6-month prediction"
      ]
    },
    {
      "cell_type": "code",
      "execution_count": null,
      "metadata": {
        "id": "7eVZYJtqGmW7",
        "colab": {
          "base_uri": "https://localhost:8080/"
        },
        "outputId": "908223d6-8513-44e4-8827-4cec61329474"
      },
      "outputs": [
        {
          "output_type": "stream",
          "name": "stdout",
          "text": [
            "MAPE from 2019-01-01 to 2019-07-01: 40.4\n",
            "MAPE from 2019-07-01 to 2020-01-01: 18.1\n",
            "MAPE from 2020-01-01 to 2020-07-01: 33.8\n",
            "MAPE from 2020-07-01 to 2021-01-01: 10.1\n",
            "MAPE from 2021-01-01 to 2021-07-01: 12.8\n",
            "MAPE from 2021-07-01 to 2022-01-01: 26.6\n",
            "MAPE from 2022-01-01 to 2022-07-01: 51.1\n",
            "MAPE from 2022-07-01 to 2023-01-01: 57.3\n",
            "MAPE from 2023-01-01 to 2023-07-01: 16.6\n",
            "MAPE from 2023-07-01 to 2024-01-01: 8.5\n"
          ]
        }
      ],
      "source": [
        "mape_values = []\n",
        "for start, end in test_periods:\n",
        "    mape = calculate_mape_6(start, end, 0.4)\n",
        "    mape_values.append(mape)\n",
        "    print(f\"MAPE from {start} to {end}: {mape:.1f}\")"
      ]
    },
    {
      "cell_type": "code",
      "execution_count": null,
      "metadata": {
        "id": "RV-DEUNUGmW8",
        "colab": {
          "base_uri": "https://localhost:8080/"
        },
        "outputId": "f11ec99e-d67b-4577-a502-56625f6b6987"
      },
      "outputs": [
        {
          "output_type": "stream",
          "name": "stdout",
          "text": [
            "Average MAPE: 27.5\n"
          ]
        }
      ],
      "source": [
        "average_mape = np.mean(mape_values)\n",
        "print(f\"Average MAPE: {average_mape:.1f}\")"
      ]
    },
    {
      "cell_type": "markdown",
      "metadata": {
        "id": "Xgzwr5WkEGVa"
      },
      "source": [
        "# Non-ionic Surfactant"
      ]
    },
    {
      "cell_type": "code",
      "execution_count": null,
      "metadata": {
        "id": "HNw_9OgSEGVb",
        "colab": {
          "base_uri": "https://localhost:8080/"
        },
        "outputId": "66bc50a4-ae0e-4bc4-f8c4-7013fb5eee76"
      },
      "outputs": [
        {
          "output_type": "stream",
          "name": "stdout",
          "text": [
            "     RM12/0002  RM12/0003  RM12/0005  RM12/0008  RM12/0012  Year  Month  \\\n",
            "2        False      False       True      False      False  2016      1   \n",
            "3        False       True      False      False      False  2016      1   \n",
            "4        False      False       True      False      False  2016      2   \n",
            "5        False       True      False      False      False  2016      2   \n",
            "6        False      False       True      False      False  2016      3   \n",
            "..         ...        ...        ...        ...        ...   ...    ...   \n",
            "488       True      False      False      False      False  2023      8   \n",
            "489       True      False      False      False      False  2023      9   \n",
            "490       True      False      False      False      False  2023     10   \n",
            "491       True      False      False      False      False  2023     11   \n",
            "492       True      False      False      False      False  2023     12   \n",
            "\n",
            "          Time     Group Description  Average_price  ...      AR_3      AR_4  \\\n",
            "2   2016-01-29  non-ionic surfactant       1.630000  ...  1.650000  1.650000   \n",
            "3   2016-01-31  non-ionic surfactant       1.142000  ...  1.200000  1.272222   \n",
            "4   2016-02-29  non-ionic surfactant       1.630000  ...  1.650000  1.650000   \n",
            "5   2016-02-29  non-ionic surfactant       1.038909  ...  1.085750  1.200000   \n",
            "6   2016-03-31  non-ionic surfactant       1.630000  ...  1.650000  1.650000   \n",
            "..         ...                   ...            ...  ...       ...       ...   \n",
            "488 2023-08-31  non-ionic surfactant       1.750397  ...  2.256034  1.783333   \n",
            "489 2023-09-30  non-ionic surfactant       1.883857  ...  1.955800  2.256034   \n",
            "490 2023-10-30  non-ionic surfactant       1.833500  ...  2.132308  1.955800   \n",
            "491 2023-11-30  non-ionic surfactant       2.385135  ...  1.750397  2.132308   \n",
            "492 2023-12-31  non-ionic surfactant       1.813101  ...  1.883857  1.750397   \n",
            "\n",
            "         AR_5      AR_6      AR_7      AR_8      AR_9     AR_10     AR_11  \\\n",
            "2    1.650000  1.550000  1.450000  1.450000  1.380000  1.420000  1.420000   \n",
            "3    1.200000  1.350000  1.243333  1.275000  1.400000  1.154286  1.224286   \n",
            "4    1.650000  1.650000  1.550000  1.450000  1.450000  1.380000  1.420000   \n",
            "5    1.272222  1.200000  1.350000  1.243333  1.275000  1.400000  1.154286   \n",
            "6    1.650000  1.650000  1.650000  1.550000  1.450000  1.450000  1.380000   \n",
            "..        ...       ...       ...       ...       ...       ...       ...   \n",
            "488  2.411359  1.721000  1.681333  2.178481  2.500268  2.395888  2.316082   \n",
            "489  1.783333  2.411359  1.721000  1.681333  2.178481  2.500268  2.395888   \n",
            "490  2.256034  1.783333  2.411359  1.721000  1.681333  2.178481  2.500268   \n",
            "491  1.955800  2.256034  1.783333  2.411359  1.721000  1.681333  2.178481   \n",
            "492  2.132308  1.955800  2.256034  1.783333  2.411359  1.721000  1.681333   \n",
            "\n",
            "        AR_12  \n",
            "2    1.406667  \n",
            "3    1.151429  \n",
            "4    1.420000  \n",
            "5    1.224286  \n",
            "6    1.420000  \n",
            "..        ...  \n",
            "488  2.227134  \n",
            "489  2.316082  \n",
            "490  2.395888  \n",
            "491  2.500268  \n",
            "492  2.178481  \n",
            "\n",
            "[469 rows x 82 columns]\n"
          ]
        }
      ],
      "source": [
        "feature_df = pd.read_csv('/content/drive/MyDrive/Colab Notebooks/Thesis/dataframe/non-ionic surfactant_feature.csv',index_col=0)\n",
        "feature_df['Time'] = pd.to_datetime(feature_df['Time'])\n",
        "print(feature_df)"
      ]
    },
    {
      "cell_type": "code",
      "execution_count": null,
      "metadata": {
        "id": "OQQ9xFh5EGVb",
        "colab": {
          "base_uri": "https://localhost:8080/"
        },
        "outputId": "f504f312-4422-4998-e630-cb21865a0d98"
      },
      "outputs": [
        {
          "output_type": "stream",
          "name": "stdout",
          "text": [
            "<class 'pandas.core.frame.DataFrame'>\n",
            "Index: 96 entries, 397 to 492\n",
            "Data columns (total 82 columns):\n",
            " #   Column             Non-Null Count  Dtype         \n",
            "---  ------             --------------  -----         \n",
            " 0   RM12/0002          96 non-null     bool          \n",
            " 1   RM12/0003          96 non-null     bool          \n",
            " 2   RM12/0005          96 non-null     bool          \n",
            " 3   RM12/0008          96 non-null     bool          \n",
            " 4   RM12/0012          96 non-null     bool          \n",
            " 5   Year               96 non-null     int64         \n",
            " 6   Month              96 non-null     int64         \n",
            " 7   Time               96 non-null     datetime64[ns]\n",
            " 8   Group Description  96 non-null     object        \n",
            " 9   Average_price      96 non-null     float64       \n",
            " 10  PNGASEUUSDM_1      96 non-null     float64       \n",
            " 11  POILBREUSDM_1      96 non-null     float64       \n",
            " 12  PPOILUSDM_1        96 non-null     float64       \n",
            " 13  WPU0652013A_1      96 non-null     float64       \n",
            " 14  Electricity_1      96 non-null     float64       \n",
            " 15  PNGASEUUSDM_2      96 non-null     float64       \n",
            " 16  POILBREUSDM_2      96 non-null     float64       \n",
            " 17  PPOILUSDM_2        96 non-null     float64       \n",
            " 18  WPU0652013A_2      96 non-null     float64       \n",
            " 19  Electricity_2      96 non-null     float64       \n",
            " 20  PNGASEUUSDM_3      96 non-null     float64       \n",
            " 21  POILBREUSDM_3      96 non-null     float64       \n",
            " 22  PPOILUSDM_3        96 non-null     float64       \n",
            " 23  WPU0652013A_3      96 non-null     float64       \n",
            " 24  Electricity_3      96 non-null     float64       \n",
            " 25  PNGASEUUSDM_4      96 non-null     float64       \n",
            " 26  POILBREUSDM_4      96 non-null     float64       \n",
            " 27  PPOILUSDM_4        96 non-null     float64       \n",
            " 28  WPU0652013A_4      96 non-null     float64       \n",
            " 29  Electricity_4      96 non-null     float64       \n",
            " 30  PNGASEUUSDM_5      96 non-null     float64       \n",
            " 31  POILBREUSDM_5      96 non-null     float64       \n",
            " 32  PPOILUSDM_5        96 non-null     float64       \n",
            " 33  WPU0652013A_5      96 non-null     float64       \n",
            " 34  Electricity_5      96 non-null     float64       \n",
            " 35  PNGASEUUSDM_6      96 non-null     float64       \n",
            " 36  POILBREUSDM_6      96 non-null     float64       \n",
            " 37  PPOILUSDM_6        96 non-null     float64       \n",
            " 38  WPU0652013A_6      96 non-null     float64       \n",
            " 39  Electricity_6      96 non-null     float64       \n",
            " 40  PNGASEUUSDM_7      96 non-null     float64       \n",
            " 41  POILBREUSDM_7      96 non-null     float64       \n",
            " 42  PPOILUSDM_7        96 non-null     float64       \n",
            " 43  WPU0652013A_7      96 non-null     float64       \n",
            " 44  Electricity_7      96 non-null     float64       \n",
            " 45  PNGASEUUSDM_8      96 non-null     float64       \n",
            " 46  POILBREUSDM_8      96 non-null     float64       \n",
            " 47  PPOILUSDM_8        96 non-null     float64       \n",
            " 48  WPU0652013A_8      96 non-null     float64       \n",
            " 49  Electricity_8      96 non-null     float64       \n",
            " 50  PNGASEUUSDM_9      96 non-null     float64       \n",
            " 51  POILBREUSDM_9      96 non-null     float64       \n",
            " 52  PPOILUSDM_9        96 non-null     float64       \n",
            " 53  WPU0652013A_9      96 non-null     float64       \n",
            " 54  Electricity_9      96 non-null     float64       \n",
            " 55  PNGASEUUSDM_10     96 non-null     float64       \n",
            " 56  POILBREUSDM_10     96 non-null     float64       \n",
            " 57  PPOILUSDM_10       96 non-null     float64       \n",
            " 58  WPU0652013A_10     96 non-null     float64       \n",
            " 59  Electricity_10     96 non-null     float64       \n",
            " 60  PNGASEUUSDM_11     96 non-null     float64       \n",
            " 61  POILBREUSDM_11     96 non-null     float64       \n",
            " 62  PPOILUSDM_11       96 non-null     float64       \n",
            " 63  WPU0652013A_11     96 non-null     float64       \n",
            " 64  Electricity_11     96 non-null     float64       \n",
            " 65  PNGASEUUSDM_12     96 non-null     float64       \n",
            " 66  POILBREUSDM_12     96 non-null     float64       \n",
            " 67  PPOILUSDM_12       96 non-null     float64       \n",
            " 68  WPU0652013A_12     96 non-null     float64       \n",
            " 69  Electricity_12     96 non-null     float64       \n",
            " 70  AR_1               96 non-null     float64       \n",
            " 71  AR_2               96 non-null     float64       \n",
            " 72  AR_3               96 non-null     float64       \n",
            " 73  AR_4               96 non-null     float64       \n",
            " 74  AR_5               96 non-null     float64       \n",
            " 75  AR_6               96 non-null     float64       \n",
            " 76  AR_7               96 non-null     float64       \n",
            " 77  AR_8               96 non-null     float64       \n",
            " 78  AR_9               96 non-null     float64       \n",
            " 79  AR_10              96 non-null     float64       \n",
            " 80  AR_11              96 non-null     float64       \n",
            " 81  AR_12              96 non-null     float64       \n",
            "dtypes: bool(5), datetime64[ns](1), float64(73), int64(2), object(1)\n",
            "memory usage: 59.0+ KB\n",
            "None\n"
          ]
        }
      ],
      "source": [
        "df_0002 = feature_df[feature_df['RM12/0002'] == 1]\n",
        "print(df_0002.info())"
      ]
    },
    {
      "cell_type": "code",
      "execution_count": null,
      "metadata": {
        "id": "88LhfjdKEGVb",
        "colab": {
          "base_uri": "https://localhost:8080/"
        },
        "outputId": "638d1cfb-e8b8-428c-ec30-8131f473cc58"
      },
      "outputs": [
        {
          "output_type": "stream",
          "name": "stdout",
          "text": [
            "<class 'pandas.core.frame.DataFrame'>\n",
            "Index: 96 entries, 3 to 193\n",
            "Data columns (total 82 columns):\n",
            " #   Column             Non-Null Count  Dtype         \n",
            "---  ------             --------------  -----         \n",
            " 0   RM12/0002          96 non-null     bool          \n",
            " 1   RM12/0003          96 non-null     bool          \n",
            " 2   RM12/0005          96 non-null     bool          \n",
            " 3   RM12/0008          96 non-null     bool          \n",
            " 4   RM12/0012          96 non-null     bool          \n",
            " 5   Year               96 non-null     int64         \n",
            " 6   Month              96 non-null     int64         \n",
            " 7   Time               96 non-null     datetime64[ns]\n",
            " 8   Group Description  96 non-null     object        \n",
            " 9   Average_price      96 non-null     float64       \n",
            " 10  PNGASEUUSDM_1      96 non-null     float64       \n",
            " 11  POILBREUSDM_1      96 non-null     float64       \n",
            " 12  PPOILUSDM_1        96 non-null     float64       \n",
            " 13  WPU0652013A_1      96 non-null     float64       \n",
            " 14  Electricity_1      96 non-null     float64       \n",
            " 15  PNGASEUUSDM_2      96 non-null     float64       \n",
            " 16  POILBREUSDM_2      96 non-null     float64       \n",
            " 17  PPOILUSDM_2        96 non-null     float64       \n",
            " 18  WPU0652013A_2      96 non-null     float64       \n",
            " 19  Electricity_2      96 non-null     float64       \n",
            " 20  PNGASEUUSDM_3      96 non-null     float64       \n",
            " 21  POILBREUSDM_3      96 non-null     float64       \n",
            " 22  PPOILUSDM_3        96 non-null     float64       \n",
            " 23  WPU0652013A_3      96 non-null     float64       \n",
            " 24  Electricity_3      96 non-null     float64       \n",
            " 25  PNGASEUUSDM_4      96 non-null     float64       \n",
            " 26  POILBREUSDM_4      96 non-null     float64       \n",
            " 27  PPOILUSDM_4        96 non-null     float64       \n",
            " 28  WPU0652013A_4      96 non-null     float64       \n",
            " 29  Electricity_4      96 non-null     float64       \n",
            " 30  PNGASEUUSDM_5      96 non-null     float64       \n",
            " 31  POILBREUSDM_5      96 non-null     float64       \n",
            " 32  PPOILUSDM_5        96 non-null     float64       \n",
            " 33  WPU0652013A_5      96 non-null     float64       \n",
            " 34  Electricity_5      96 non-null     float64       \n",
            " 35  PNGASEUUSDM_6      96 non-null     float64       \n",
            " 36  POILBREUSDM_6      96 non-null     float64       \n",
            " 37  PPOILUSDM_6        96 non-null     float64       \n",
            " 38  WPU0652013A_6      96 non-null     float64       \n",
            " 39  Electricity_6      96 non-null     float64       \n",
            " 40  PNGASEUUSDM_7      96 non-null     float64       \n",
            " 41  POILBREUSDM_7      96 non-null     float64       \n",
            " 42  PPOILUSDM_7        96 non-null     float64       \n",
            " 43  WPU0652013A_7      96 non-null     float64       \n",
            " 44  Electricity_7      96 non-null     float64       \n",
            " 45  PNGASEUUSDM_8      96 non-null     float64       \n",
            " 46  POILBREUSDM_8      96 non-null     float64       \n",
            " 47  PPOILUSDM_8        96 non-null     float64       \n",
            " 48  WPU0652013A_8      96 non-null     float64       \n",
            " 49  Electricity_8      96 non-null     float64       \n",
            " 50  PNGASEUUSDM_9      96 non-null     float64       \n",
            " 51  POILBREUSDM_9      96 non-null     float64       \n",
            " 52  PPOILUSDM_9        96 non-null     float64       \n",
            " 53  WPU0652013A_9      96 non-null     float64       \n",
            " 54  Electricity_9      96 non-null     float64       \n",
            " 55  PNGASEUUSDM_10     96 non-null     float64       \n",
            " 56  POILBREUSDM_10     96 non-null     float64       \n",
            " 57  PPOILUSDM_10       96 non-null     float64       \n",
            " 58  WPU0652013A_10     96 non-null     float64       \n",
            " 59  Electricity_10     96 non-null     float64       \n",
            " 60  PNGASEUUSDM_11     96 non-null     float64       \n",
            " 61  POILBREUSDM_11     96 non-null     float64       \n",
            " 62  PPOILUSDM_11       96 non-null     float64       \n",
            " 63  WPU0652013A_11     96 non-null     float64       \n",
            " 64  Electricity_11     96 non-null     float64       \n",
            " 65  PNGASEUUSDM_12     96 non-null     float64       \n",
            " 66  POILBREUSDM_12     96 non-null     float64       \n",
            " 67  PPOILUSDM_12       96 non-null     float64       \n",
            " 68  WPU0652013A_12     96 non-null     float64       \n",
            " 69  Electricity_12     96 non-null     float64       \n",
            " 70  AR_1               96 non-null     float64       \n",
            " 71  AR_2               96 non-null     float64       \n",
            " 72  AR_3               96 non-null     float64       \n",
            " 73  AR_4               96 non-null     float64       \n",
            " 74  AR_5               96 non-null     float64       \n",
            " 75  AR_6               96 non-null     float64       \n",
            " 76  AR_7               96 non-null     float64       \n",
            " 77  AR_8               96 non-null     float64       \n",
            " 78  AR_9               96 non-null     float64       \n",
            " 79  AR_10              96 non-null     float64       \n",
            " 80  AR_11              96 non-null     float64       \n",
            " 81  AR_12              96 non-null     float64       \n",
            "dtypes: bool(5), datetime64[ns](1), float64(73), int64(2), object(1)\n",
            "memory usage: 59.0+ KB\n",
            "None\n"
          ]
        }
      ],
      "source": [
        "df_0003 = feature_df[feature_df['RM12/0003'] == 1]\n",
        "print(df_0003.info())"
      ]
    },
    {
      "cell_type": "code",
      "execution_count": null,
      "metadata": {
        "id": "bbuEbyz6HmpR",
        "colab": {
          "base_uri": "https://localhost:8080/"
        },
        "outputId": "b149021d-3153-4772-f91a-a17e7f6a6fb0"
      },
      "outputs": [
        {
          "output_type": "stream",
          "name": "stdout",
          "text": [
            "<class 'pandas.core.frame.DataFrame'>\n",
            "Index: 96 entries, 2 to 192\n",
            "Data columns (total 82 columns):\n",
            " #   Column             Non-Null Count  Dtype         \n",
            "---  ------             --------------  -----         \n",
            " 0   RM12/0002          96 non-null     bool          \n",
            " 1   RM12/0003          96 non-null     bool          \n",
            " 2   RM12/0005          96 non-null     bool          \n",
            " 3   RM12/0008          96 non-null     bool          \n",
            " 4   RM12/0012          96 non-null     bool          \n",
            " 5   Year               96 non-null     int64         \n",
            " 6   Month              96 non-null     int64         \n",
            " 7   Time               96 non-null     datetime64[ns]\n",
            " 8   Group Description  96 non-null     object        \n",
            " 9   Average_price      96 non-null     float64       \n",
            " 10  PNGASEUUSDM_1      96 non-null     float64       \n",
            " 11  POILBREUSDM_1      96 non-null     float64       \n",
            " 12  PPOILUSDM_1        96 non-null     float64       \n",
            " 13  WPU0652013A_1      96 non-null     float64       \n",
            " 14  Electricity_1      96 non-null     float64       \n",
            " 15  PNGASEUUSDM_2      96 non-null     float64       \n",
            " 16  POILBREUSDM_2      96 non-null     float64       \n",
            " 17  PPOILUSDM_2        96 non-null     float64       \n",
            " 18  WPU0652013A_2      96 non-null     float64       \n",
            " 19  Electricity_2      96 non-null     float64       \n",
            " 20  PNGASEUUSDM_3      96 non-null     float64       \n",
            " 21  POILBREUSDM_3      96 non-null     float64       \n",
            " 22  PPOILUSDM_3        96 non-null     float64       \n",
            " 23  WPU0652013A_3      96 non-null     float64       \n",
            " 24  Electricity_3      96 non-null     float64       \n",
            " 25  PNGASEUUSDM_4      96 non-null     float64       \n",
            " 26  POILBREUSDM_4      96 non-null     float64       \n",
            " 27  PPOILUSDM_4        96 non-null     float64       \n",
            " 28  WPU0652013A_4      96 non-null     float64       \n",
            " 29  Electricity_4      96 non-null     float64       \n",
            " 30  PNGASEUUSDM_5      96 non-null     float64       \n",
            " 31  POILBREUSDM_5      96 non-null     float64       \n",
            " 32  PPOILUSDM_5        96 non-null     float64       \n",
            " 33  WPU0652013A_5      96 non-null     float64       \n",
            " 34  Electricity_5      96 non-null     float64       \n",
            " 35  PNGASEUUSDM_6      96 non-null     float64       \n",
            " 36  POILBREUSDM_6      96 non-null     float64       \n",
            " 37  PPOILUSDM_6        96 non-null     float64       \n",
            " 38  WPU0652013A_6      96 non-null     float64       \n",
            " 39  Electricity_6      96 non-null     float64       \n",
            " 40  PNGASEUUSDM_7      96 non-null     float64       \n",
            " 41  POILBREUSDM_7      96 non-null     float64       \n",
            " 42  PPOILUSDM_7        96 non-null     float64       \n",
            " 43  WPU0652013A_7      96 non-null     float64       \n",
            " 44  Electricity_7      96 non-null     float64       \n",
            " 45  PNGASEUUSDM_8      96 non-null     float64       \n",
            " 46  POILBREUSDM_8      96 non-null     float64       \n",
            " 47  PPOILUSDM_8        96 non-null     float64       \n",
            " 48  WPU0652013A_8      96 non-null     float64       \n",
            " 49  Electricity_8      96 non-null     float64       \n",
            " 50  PNGASEUUSDM_9      96 non-null     float64       \n",
            " 51  POILBREUSDM_9      96 non-null     float64       \n",
            " 52  PPOILUSDM_9        96 non-null     float64       \n",
            " 53  WPU0652013A_9      96 non-null     float64       \n",
            " 54  Electricity_9      96 non-null     float64       \n",
            " 55  PNGASEUUSDM_10     96 non-null     float64       \n",
            " 56  POILBREUSDM_10     96 non-null     float64       \n",
            " 57  PPOILUSDM_10       96 non-null     float64       \n",
            " 58  WPU0652013A_10     96 non-null     float64       \n",
            " 59  Electricity_10     96 non-null     float64       \n",
            " 60  PNGASEUUSDM_11     96 non-null     float64       \n",
            " 61  POILBREUSDM_11     96 non-null     float64       \n",
            " 62  PPOILUSDM_11       96 non-null     float64       \n",
            " 63  WPU0652013A_11     96 non-null     float64       \n",
            " 64  Electricity_11     96 non-null     float64       \n",
            " 65  PNGASEUUSDM_12     96 non-null     float64       \n",
            " 66  POILBREUSDM_12     96 non-null     float64       \n",
            " 67  PPOILUSDM_12       96 non-null     float64       \n",
            " 68  WPU0652013A_12     96 non-null     float64       \n",
            " 69  Electricity_12     96 non-null     float64       \n",
            " 70  AR_1               96 non-null     float64       \n",
            " 71  AR_2               96 non-null     float64       \n",
            " 72  AR_3               96 non-null     float64       \n",
            " 73  AR_4               96 non-null     float64       \n",
            " 74  AR_5               96 non-null     float64       \n",
            " 75  AR_6               96 non-null     float64       \n",
            " 76  AR_7               96 non-null     float64       \n",
            " 77  AR_8               96 non-null     float64       \n",
            " 78  AR_9               96 non-null     float64       \n",
            " 79  AR_10              96 non-null     float64       \n",
            " 80  AR_11              96 non-null     float64       \n",
            " 81  AR_12              96 non-null     float64       \n",
            "dtypes: bool(5), datetime64[ns](1), float64(73), int64(2), object(1)\n",
            "memory usage: 59.0+ KB\n",
            "None\n"
          ]
        }
      ],
      "source": [
        "df_0005 = feature_df[feature_df['RM12/0005'] == 1]\n",
        "print(df_0005.info())"
      ]
    },
    {
      "cell_type": "code",
      "execution_count": null,
      "metadata": {
        "id": "xGf-9Jw_Hocl",
        "colab": {
          "base_uri": "https://localhost:8080/"
        },
        "outputId": "8818b437-2372-499c-fc27-1d1026464a53"
      },
      "outputs": [
        {
          "output_type": "stream",
          "name": "stdout",
          "text": [
            "<class 'pandas.core.frame.DataFrame'>\n",
            "Index: 94 entries, 299 to 394\n",
            "Data columns (total 82 columns):\n",
            " #   Column             Non-Null Count  Dtype         \n",
            "---  ------             --------------  -----         \n",
            " 0   RM12/0002          94 non-null     bool          \n",
            " 1   RM12/0003          94 non-null     bool          \n",
            " 2   RM12/0005          94 non-null     bool          \n",
            " 3   RM12/0008          94 non-null     bool          \n",
            " 4   RM12/0012          94 non-null     bool          \n",
            " 5   Year               94 non-null     int64         \n",
            " 6   Month              94 non-null     int64         \n",
            " 7   Time               94 non-null     datetime64[ns]\n",
            " 8   Group Description  94 non-null     object        \n",
            " 9   Average_price      94 non-null     float64       \n",
            " 10  PNGASEUUSDM_1      94 non-null     float64       \n",
            " 11  POILBREUSDM_1      94 non-null     float64       \n",
            " 12  PPOILUSDM_1        94 non-null     float64       \n",
            " 13  WPU0652013A_1      94 non-null     float64       \n",
            " 14  Electricity_1      94 non-null     float64       \n",
            " 15  PNGASEUUSDM_2      94 non-null     float64       \n",
            " 16  POILBREUSDM_2      94 non-null     float64       \n",
            " 17  PPOILUSDM_2        94 non-null     float64       \n",
            " 18  WPU0652013A_2      94 non-null     float64       \n",
            " 19  Electricity_2      94 non-null     float64       \n",
            " 20  PNGASEUUSDM_3      94 non-null     float64       \n",
            " 21  POILBREUSDM_3      94 non-null     float64       \n",
            " 22  PPOILUSDM_3        94 non-null     float64       \n",
            " 23  WPU0652013A_3      94 non-null     float64       \n",
            " 24  Electricity_3      94 non-null     float64       \n",
            " 25  PNGASEUUSDM_4      94 non-null     float64       \n",
            " 26  POILBREUSDM_4      94 non-null     float64       \n",
            " 27  PPOILUSDM_4        94 non-null     float64       \n",
            " 28  WPU0652013A_4      94 non-null     float64       \n",
            " 29  Electricity_4      94 non-null     float64       \n",
            " 30  PNGASEUUSDM_5      94 non-null     float64       \n",
            " 31  POILBREUSDM_5      94 non-null     float64       \n",
            " 32  PPOILUSDM_5        94 non-null     float64       \n",
            " 33  WPU0652013A_5      94 non-null     float64       \n",
            " 34  Electricity_5      94 non-null     float64       \n",
            " 35  PNGASEUUSDM_6      94 non-null     float64       \n",
            " 36  POILBREUSDM_6      94 non-null     float64       \n",
            " 37  PPOILUSDM_6        94 non-null     float64       \n",
            " 38  WPU0652013A_6      94 non-null     float64       \n",
            " 39  Electricity_6      94 non-null     float64       \n",
            " 40  PNGASEUUSDM_7      94 non-null     float64       \n",
            " 41  POILBREUSDM_7      94 non-null     float64       \n",
            " 42  PPOILUSDM_7        94 non-null     float64       \n",
            " 43  WPU0652013A_7      94 non-null     float64       \n",
            " 44  Electricity_7      94 non-null     float64       \n",
            " 45  PNGASEUUSDM_8      94 non-null     float64       \n",
            " 46  POILBREUSDM_8      94 non-null     float64       \n",
            " 47  PPOILUSDM_8        94 non-null     float64       \n",
            " 48  WPU0652013A_8      94 non-null     float64       \n",
            " 49  Electricity_8      94 non-null     float64       \n",
            " 50  PNGASEUUSDM_9      94 non-null     float64       \n",
            " 51  POILBREUSDM_9      94 non-null     float64       \n",
            " 52  PPOILUSDM_9        94 non-null     float64       \n",
            " 53  WPU0652013A_9      94 non-null     float64       \n",
            " 54  Electricity_9      94 non-null     float64       \n",
            " 55  PNGASEUUSDM_10     94 non-null     float64       \n",
            " 56  POILBREUSDM_10     94 non-null     float64       \n",
            " 57  PPOILUSDM_10       94 non-null     float64       \n",
            " 58  WPU0652013A_10     94 non-null     float64       \n",
            " 59  Electricity_10     94 non-null     float64       \n",
            " 60  PNGASEUUSDM_11     94 non-null     float64       \n",
            " 61  POILBREUSDM_11     94 non-null     float64       \n",
            " 62  PPOILUSDM_11       94 non-null     float64       \n",
            " 63  WPU0652013A_11     94 non-null     float64       \n",
            " 64  Electricity_11     94 non-null     float64       \n",
            " 65  PNGASEUUSDM_12     94 non-null     float64       \n",
            " 66  POILBREUSDM_12     94 non-null     float64       \n",
            " 67  PPOILUSDM_12       94 non-null     float64       \n",
            " 68  WPU0652013A_12     94 non-null     float64       \n",
            " 69  Electricity_12     94 non-null     float64       \n",
            " 70  AR_1               94 non-null     float64       \n",
            " 71  AR_2               94 non-null     float64       \n",
            " 72  AR_3               94 non-null     float64       \n",
            " 73  AR_4               94 non-null     float64       \n",
            " 74  AR_5               94 non-null     float64       \n",
            " 75  AR_6               94 non-null     float64       \n",
            " 76  AR_7               94 non-null     float64       \n",
            " 77  AR_8               94 non-null     float64       \n",
            " 78  AR_9               94 non-null     float64       \n",
            " 79  AR_10              94 non-null     float64       \n",
            " 80  AR_11              94 non-null     float64       \n",
            " 81  AR_12              94 non-null     float64       \n",
            "dtypes: bool(5), datetime64[ns](1), float64(73), int64(2), object(1)\n",
            "memory usage: 57.7+ KB\n",
            "None\n"
          ]
        }
      ],
      "source": [
        "df_0008 = feature_df[feature_df['RM12/0008'] == 1]\n",
        "print(df_0008.info())"
      ]
    },
    {
      "cell_type": "code",
      "execution_count": null,
      "metadata": {
        "id": "vHK0oE5UHoNx",
        "colab": {
          "base_uri": "https://localhost:8080/"
        },
        "outputId": "d5331478-6f85-4711-a551-1c965ad673db"
      },
      "outputs": [
        {
          "output_type": "stream",
          "name": "stdout",
          "text": [
            "<class 'pandas.core.frame.DataFrame'>\n",
            "Index: 87 entries, 202 to 297\n",
            "Data columns (total 82 columns):\n",
            " #   Column             Non-Null Count  Dtype         \n",
            "---  ------             --------------  -----         \n",
            " 0   RM12/0002          87 non-null     bool          \n",
            " 1   RM12/0003          87 non-null     bool          \n",
            " 2   RM12/0005          87 non-null     bool          \n",
            " 3   RM12/0008          87 non-null     bool          \n",
            " 4   RM12/0012          87 non-null     bool          \n",
            " 5   Year               87 non-null     int64         \n",
            " 6   Month              87 non-null     int64         \n",
            " 7   Time               87 non-null     datetime64[ns]\n",
            " 8   Group Description  87 non-null     object        \n",
            " 9   Average_price      87 non-null     float64       \n",
            " 10  PNGASEUUSDM_1      87 non-null     float64       \n",
            " 11  POILBREUSDM_1      87 non-null     float64       \n",
            " 12  PPOILUSDM_1        87 non-null     float64       \n",
            " 13  WPU0652013A_1      87 non-null     float64       \n",
            " 14  Electricity_1      87 non-null     float64       \n",
            " 15  PNGASEUUSDM_2      87 non-null     float64       \n",
            " 16  POILBREUSDM_2      87 non-null     float64       \n",
            " 17  PPOILUSDM_2        87 non-null     float64       \n",
            " 18  WPU0652013A_2      87 non-null     float64       \n",
            " 19  Electricity_2      87 non-null     float64       \n",
            " 20  PNGASEUUSDM_3      87 non-null     float64       \n",
            " 21  POILBREUSDM_3      87 non-null     float64       \n",
            " 22  PPOILUSDM_3        87 non-null     float64       \n",
            " 23  WPU0652013A_3      87 non-null     float64       \n",
            " 24  Electricity_3      87 non-null     float64       \n",
            " 25  PNGASEUUSDM_4      87 non-null     float64       \n",
            " 26  POILBREUSDM_4      87 non-null     float64       \n",
            " 27  PPOILUSDM_4        87 non-null     float64       \n",
            " 28  WPU0652013A_4      87 non-null     float64       \n",
            " 29  Electricity_4      87 non-null     float64       \n",
            " 30  PNGASEUUSDM_5      87 non-null     float64       \n",
            " 31  POILBREUSDM_5      87 non-null     float64       \n",
            " 32  PPOILUSDM_5        87 non-null     float64       \n",
            " 33  WPU0652013A_5      87 non-null     float64       \n",
            " 34  Electricity_5      87 non-null     float64       \n",
            " 35  PNGASEUUSDM_6      87 non-null     float64       \n",
            " 36  POILBREUSDM_6      87 non-null     float64       \n",
            " 37  PPOILUSDM_6        87 non-null     float64       \n",
            " 38  WPU0652013A_6      87 non-null     float64       \n",
            " 39  Electricity_6      87 non-null     float64       \n",
            " 40  PNGASEUUSDM_7      87 non-null     float64       \n",
            " 41  POILBREUSDM_7      87 non-null     float64       \n",
            " 42  PPOILUSDM_7        87 non-null     float64       \n",
            " 43  WPU0652013A_7      87 non-null     float64       \n",
            " 44  Electricity_7      87 non-null     float64       \n",
            " 45  PNGASEUUSDM_8      87 non-null     float64       \n",
            " 46  POILBREUSDM_8      87 non-null     float64       \n",
            " 47  PPOILUSDM_8        87 non-null     float64       \n",
            " 48  WPU0652013A_8      87 non-null     float64       \n",
            " 49  Electricity_8      87 non-null     float64       \n",
            " 50  PNGASEUUSDM_9      87 non-null     float64       \n",
            " 51  POILBREUSDM_9      87 non-null     float64       \n",
            " 52  PPOILUSDM_9        87 non-null     float64       \n",
            " 53  WPU0652013A_9      87 non-null     float64       \n",
            " 54  Electricity_9      87 non-null     float64       \n",
            " 55  PNGASEUUSDM_10     87 non-null     float64       \n",
            " 56  POILBREUSDM_10     87 non-null     float64       \n",
            " 57  PPOILUSDM_10       87 non-null     float64       \n",
            " 58  WPU0652013A_10     87 non-null     float64       \n",
            " 59  Electricity_10     87 non-null     float64       \n",
            " 60  PNGASEUUSDM_11     87 non-null     float64       \n",
            " 61  POILBREUSDM_11     87 non-null     float64       \n",
            " 62  PPOILUSDM_11       87 non-null     float64       \n",
            " 63  WPU0652013A_11     87 non-null     float64       \n",
            " 64  Electricity_11     87 non-null     float64       \n",
            " 65  PNGASEUUSDM_12     87 non-null     float64       \n",
            " 66  POILBREUSDM_12     87 non-null     float64       \n",
            " 67  PPOILUSDM_12       87 non-null     float64       \n",
            " 68  WPU0652013A_12     87 non-null     float64       \n",
            " 69  Electricity_12     87 non-null     float64       \n",
            " 70  AR_1               87 non-null     float64       \n",
            " 71  AR_2               87 non-null     float64       \n",
            " 72  AR_3               87 non-null     float64       \n",
            " 73  AR_4               87 non-null     float64       \n",
            " 74  AR_5               87 non-null     float64       \n",
            " 75  AR_6               87 non-null     float64       \n",
            " 76  AR_7               87 non-null     float64       \n",
            " 77  AR_8               87 non-null     float64       \n",
            " 78  AR_9               87 non-null     float64       \n",
            " 79  AR_10              87 non-null     float64       \n",
            " 80  AR_11              87 non-null     float64       \n",
            " 81  AR_12              87 non-null     float64       \n",
            "dtypes: bool(5), datetime64[ns](1), float64(73), int64(2), object(1)\n",
            "memory usage: 53.4+ KB\n",
            "None\n"
          ]
        }
      ],
      "source": [
        "df_0012 = feature_df[feature_df['RM12/0012'] == 1]\n",
        "print(df_0012.info())"
      ]
    },
    {
      "cell_type": "markdown",
      "metadata": {
        "id": "BLChrejBEGVc"
      },
      "source": [
        "## 0002"
      ]
    },
    {
      "cell_type": "code",
      "execution_count": null,
      "metadata": {
        "id": "TP20LbHMEGVc"
      },
      "outputs": [],
      "source": [
        "feature_df = df_0002"
      ]
    },
    {
      "cell_type": "code",
      "execution_count": null,
      "metadata": {
        "id": "makOPw0vJuVk",
        "colab": {
          "base_uri": "https://localhost:8080/"
        },
        "outputId": "82bc6d18-6cb5-49f7-a390-e27f981b0481"
      },
      "outputs": [
        {
          "output_type": "stream",
          "name": "stdout",
          "text": [
            "<class 'pandas.core.frame.DataFrame'>\n",
            "Index: 96 entries, 397 to 492\n",
            "Data columns (total 77 columns):\n",
            " #   Column             Non-Null Count  Dtype         \n",
            "---  ------             --------------  -----         \n",
            " 0   Year               96 non-null     int64         \n",
            " 1   Month              96 non-null     int64         \n",
            " 2   Time               96 non-null     datetime64[ns]\n",
            " 3   Group Description  96 non-null     object        \n",
            " 4   Average_price      96 non-null     float64       \n",
            " 5   PNGASEUUSDM_1      96 non-null     float64       \n",
            " 6   POILBREUSDM_1      96 non-null     float64       \n",
            " 7   PPOILUSDM_1        96 non-null     float64       \n",
            " 8   WPU0652013A_1      96 non-null     float64       \n",
            " 9   Electricity_1      96 non-null     float64       \n",
            " 10  PNGASEUUSDM_2      96 non-null     float64       \n",
            " 11  POILBREUSDM_2      96 non-null     float64       \n",
            " 12  PPOILUSDM_2        96 non-null     float64       \n",
            " 13  WPU0652013A_2      96 non-null     float64       \n",
            " 14  Electricity_2      96 non-null     float64       \n",
            " 15  PNGASEUUSDM_3      96 non-null     float64       \n",
            " 16  POILBREUSDM_3      96 non-null     float64       \n",
            " 17  PPOILUSDM_3        96 non-null     float64       \n",
            " 18  WPU0652013A_3      96 non-null     float64       \n",
            " 19  Electricity_3      96 non-null     float64       \n",
            " 20  PNGASEUUSDM_4      96 non-null     float64       \n",
            " 21  POILBREUSDM_4      96 non-null     float64       \n",
            " 22  PPOILUSDM_4        96 non-null     float64       \n",
            " 23  WPU0652013A_4      96 non-null     float64       \n",
            " 24  Electricity_4      96 non-null     float64       \n",
            " 25  PNGASEUUSDM_5      96 non-null     float64       \n",
            " 26  POILBREUSDM_5      96 non-null     float64       \n",
            " 27  PPOILUSDM_5        96 non-null     float64       \n",
            " 28  WPU0652013A_5      96 non-null     float64       \n",
            " 29  Electricity_5      96 non-null     float64       \n",
            " 30  PNGASEUUSDM_6      96 non-null     float64       \n",
            " 31  POILBREUSDM_6      96 non-null     float64       \n",
            " 32  PPOILUSDM_6        96 non-null     float64       \n",
            " 33  WPU0652013A_6      96 non-null     float64       \n",
            " 34  Electricity_6      96 non-null     float64       \n",
            " 35  PNGASEUUSDM_7      96 non-null     float64       \n",
            " 36  POILBREUSDM_7      96 non-null     float64       \n",
            " 37  PPOILUSDM_7        96 non-null     float64       \n",
            " 38  WPU0652013A_7      96 non-null     float64       \n",
            " 39  Electricity_7      96 non-null     float64       \n",
            " 40  PNGASEUUSDM_8      96 non-null     float64       \n",
            " 41  POILBREUSDM_8      96 non-null     float64       \n",
            " 42  PPOILUSDM_8        96 non-null     float64       \n",
            " 43  WPU0652013A_8      96 non-null     float64       \n",
            " 44  Electricity_8      96 non-null     float64       \n",
            " 45  PNGASEUUSDM_9      96 non-null     float64       \n",
            " 46  POILBREUSDM_9      96 non-null     float64       \n",
            " 47  PPOILUSDM_9        96 non-null     float64       \n",
            " 48  WPU0652013A_9      96 non-null     float64       \n",
            " 49  Electricity_9      96 non-null     float64       \n",
            " 50  PNGASEUUSDM_10     96 non-null     float64       \n",
            " 51  POILBREUSDM_10     96 non-null     float64       \n",
            " 52  PPOILUSDM_10       96 non-null     float64       \n",
            " 53  WPU0652013A_10     96 non-null     float64       \n",
            " 54  Electricity_10     96 non-null     float64       \n",
            " 55  PNGASEUUSDM_11     96 non-null     float64       \n",
            " 56  POILBREUSDM_11     96 non-null     float64       \n",
            " 57  PPOILUSDM_11       96 non-null     float64       \n",
            " 58  WPU0652013A_11     96 non-null     float64       \n",
            " 59  Electricity_11     96 non-null     float64       \n",
            " 60  PNGASEUUSDM_12     96 non-null     float64       \n",
            " 61  POILBREUSDM_12     96 non-null     float64       \n",
            " 62  PPOILUSDM_12       96 non-null     float64       \n",
            " 63  WPU0652013A_12     96 non-null     float64       \n",
            " 64  Electricity_12     96 non-null     float64       \n",
            " 65  AR_1               96 non-null     float64       \n",
            " 66  AR_2               96 non-null     float64       \n",
            " 67  AR_3               96 non-null     float64       \n",
            " 68  AR_4               96 non-null     float64       \n",
            " 69  AR_5               96 non-null     float64       \n",
            " 70  AR_6               96 non-null     float64       \n",
            " 71  AR_7               96 non-null     float64       \n",
            " 72  AR_8               96 non-null     float64       \n",
            " 73  AR_9               96 non-null     float64       \n",
            " 74  AR_10              96 non-null     float64       \n",
            " 75  AR_11              96 non-null     float64       \n",
            " 76  AR_12              96 non-null     float64       \n",
            "dtypes: datetime64[ns](1), float64(73), int64(2), object(1)\n",
            "memory usage: 58.5+ KB\n",
            "None\n"
          ]
        }
      ],
      "source": [
        "columns_to_drop = [column for column in feature_df.columns if 'RM' in column]\n",
        "feature_df = feature_df.drop(columns=columns_to_drop)\n",
        "print(feature_df.info())"
      ]
    },
    {
      "cell_type": "markdown",
      "metadata": {
        "id": "1YEGYQ1-EGVc"
      },
      "source": [
        "### 1-month prediction"
      ]
    },
    {
      "cell_type": "code",
      "execution_count": null,
      "metadata": {
        "id": "gQ09-wNCEGVc",
        "colab": {
          "base_uri": "https://localhost:8080/"
        },
        "outputId": "7e935871-0f1a-4e57-a693-aa143815540e"
      },
      "outputs": [
        {
          "output_type": "stream",
          "name": "stdout",
          "text": [
            "MAPE from 2019-01-01 to 2019-07-01: 6.5\n",
            "MAPE from 2019-07-01 to 2020-01-01: 10.6\n",
            "MAPE from 2020-01-01 to 2020-07-01: 9.6\n",
            "MAPE from 2020-07-01 to 2021-01-01: 9.3\n",
            "MAPE from 2021-01-01 to 2021-07-01: 23.4\n",
            "MAPE from 2021-07-01 to 2022-01-01: 20.0\n",
            "MAPE from 2022-01-01 to 2022-07-01: 10.8\n",
            "MAPE from 2022-07-01 to 2023-01-01: 6.6\n",
            "MAPE from 2023-01-01 to 2023-07-01: 14.0\n",
            "MAPE from 2023-07-01 to 2024-01-01: 7.3\n"
          ]
        }
      ],
      "source": [
        "mape_values = []\n",
        "for start, end in test_periods:\n",
        "    mape = calculate_mape_1(start, end, 0.2)\n",
        "    mape_values.append(mape)\n",
        "    print(f\"MAPE from {start} to {end}: {mape:.1f}\")"
      ]
    },
    {
      "cell_type": "code",
      "execution_count": null,
      "metadata": {
        "id": "tbhEkvmmEGVc",
        "colab": {
          "base_uri": "https://localhost:8080/"
        },
        "outputId": "c8abe6d8-aa0c-4f5a-cb8d-c0dacb8c41ef"
      },
      "outputs": [
        {
          "output_type": "stream",
          "name": "stdout",
          "text": [
            "Average MAPE: 11.8\n"
          ]
        }
      ],
      "source": [
        "average_mape = np.mean(mape_values)\n",
        "print(f\"Average MAPE: {average_mape:.1f}\")"
      ]
    },
    {
      "cell_type": "markdown",
      "metadata": {
        "id": "phAkocKAEGVc"
      },
      "source": [
        "### 3-month prediction\n"
      ]
    },
    {
      "cell_type": "code",
      "execution_count": null,
      "metadata": {
        "id": "LPYC2FlKEGVc",
        "colab": {
          "base_uri": "https://localhost:8080/"
        },
        "outputId": "50f26099-2395-4153-c28c-699b46df695a"
      },
      "outputs": [
        {
          "output_type": "stream",
          "name": "stdout",
          "text": [
            "MAPE from 2019-01-01 to 2019-07-01: 6.5\n",
            "MAPE from 2019-07-01 to 2020-01-01: 10.6\n",
            "MAPE from 2020-01-01 to 2020-07-01: 9.8\n",
            "MAPE from 2020-07-01 to 2021-01-01: 9.4\n",
            "MAPE from 2021-01-01 to 2021-07-01: 23.0\n",
            "MAPE from 2021-07-01 to 2022-01-01: 25.7\n",
            "MAPE from 2022-01-01 to 2022-07-01: 11.2\n",
            "MAPE from 2022-07-01 to 2023-01-01: 9.0\n",
            "MAPE from 2023-01-01 to 2023-07-01: 12.7\n",
            "MAPE from 2023-07-01 to 2024-01-01: 8.3\n"
          ]
        }
      ],
      "source": [
        "mape_values = []\n",
        "for start, end in test_periods:\n",
        "    mape = calculate_mape_3(start, end, 0.2)\n",
        "    mape_values.append(mape)\n",
        "    print(f\"MAPE from {start} to {end}: {mape:.1f}\")"
      ]
    },
    {
      "cell_type": "code",
      "execution_count": null,
      "metadata": {
        "id": "Tf8ZY69REGVd",
        "colab": {
          "base_uri": "https://localhost:8080/"
        },
        "outputId": "25261267-c034-4427-ae8c-1f51662915a2"
      },
      "outputs": [
        {
          "output_type": "stream",
          "name": "stdout",
          "text": [
            "Average MAPE: 12.6\n"
          ]
        }
      ],
      "source": [
        "average_mape = np.mean(mape_values)\n",
        "print(f\"Average MAPE: {average_mape:.1f}\")"
      ]
    },
    {
      "cell_type": "markdown",
      "metadata": {
        "id": "mvqpwWJ7EGVd"
      },
      "source": [
        "### 6-month prediction"
      ]
    },
    {
      "cell_type": "code",
      "execution_count": null,
      "metadata": {
        "id": "JqbEUa2kEGVd",
        "colab": {
          "base_uri": "https://localhost:8080/"
        },
        "outputId": "2f6b3318-e8fd-4e06-8c06-af0b5c688af3"
      },
      "outputs": [
        {
          "output_type": "stream",
          "name": "stdout",
          "text": [
            "MAPE from 2019-01-01 to 2019-07-01: 6.1\n",
            "MAPE from 2019-07-01 to 2020-01-01: 10.1\n",
            "MAPE from 2020-01-01 to 2020-07-01: 10.1\n",
            "MAPE from 2020-07-01 to 2021-01-01: 9.8\n",
            "MAPE from 2021-01-01 to 2021-07-01: 23.5\n",
            "MAPE from 2021-07-01 to 2022-01-01: 28.0\n",
            "MAPE from 2022-01-01 to 2022-07-01: 18.9\n",
            "MAPE from 2022-07-01 to 2023-01-01: 4.0\n",
            "MAPE from 2023-01-01 to 2023-07-01: 11.7\n",
            "MAPE from 2023-07-01 to 2024-01-01: 8.7\n"
          ]
        }
      ],
      "source": [
        "mape_values = []\n",
        "for start, end in test_periods:\n",
        "    mape = calculate_mape_6(start, end, 0.3)\n",
        "    mape_values.append(mape)\n",
        "    print(f\"MAPE from {start} to {end}: {mape:.1f}\")"
      ]
    },
    {
      "cell_type": "code",
      "execution_count": null,
      "metadata": {
        "id": "BxmsdqW_EGVd",
        "colab": {
          "base_uri": "https://localhost:8080/"
        },
        "outputId": "e8e451bd-e00d-4739-aaa7-535c01395c35"
      },
      "outputs": [
        {
          "output_type": "stream",
          "name": "stdout",
          "text": [
            "Average MAPE: 13.1\n"
          ]
        }
      ],
      "source": [
        "average_mape = np.mean(mape_values)\n",
        "print(f\"Average MAPE: {average_mape:.1f}\")"
      ]
    },
    {
      "cell_type": "markdown",
      "metadata": {
        "id": "JuYy_DmfH2GO"
      },
      "source": [
        "## 0003"
      ]
    },
    {
      "cell_type": "code",
      "execution_count": null,
      "metadata": {
        "id": "gGalWX2tH2GP"
      },
      "outputs": [],
      "source": [
        "feature_df = df_0003"
      ]
    },
    {
      "cell_type": "code",
      "execution_count": null,
      "metadata": {
        "id": "nLoeWcSSJu-c",
        "colab": {
          "base_uri": "https://localhost:8080/"
        },
        "outputId": "72c5400f-a71c-4484-8989-c2c4b3d757ae"
      },
      "outputs": [
        {
          "output_type": "stream",
          "name": "stdout",
          "text": [
            "<class 'pandas.core.frame.DataFrame'>\n",
            "Index: 96 entries, 3 to 193\n",
            "Data columns (total 77 columns):\n",
            " #   Column             Non-Null Count  Dtype         \n",
            "---  ------             --------------  -----         \n",
            " 0   Year               96 non-null     int64         \n",
            " 1   Month              96 non-null     int64         \n",
            " 2   Time               96 non-null     datetime64[ns]\n",
            " 3   Group Description  96 non-null     object        \n",
            " 4   Average_price      96 non-null     float64       \n",
            " 5   PNGASEUUSDM_1      96 non-null     float64       \n",
            " 6   POILBREUSDM_1      96 non-null     float64       \n",
            " 7   PPOILUSDM_1        96 non-null     float64       \n",
            " 8   WPU0652013A_1      96 non-null     float64       \n",
            " 9   Electricity_1      96 non-null     float64       \n",
            " 10  PNGASEUUSDM_2      96 non-null     float64       \n",
            " 11  POILBREUSDM_2      96 non-null     float64       \n",
            " 12  PPOILUSDM_2        96 non-null     float64       \n",
            " 13  WPU0652013A_2      96 non-null     float64       \n",
            " 14  Electricity_2      96 non-null     float64       \n",
            " 15  PNGASEUUSDM_3      96 non-null     float64       \n",
            " 16  POILBREUSDM_3      96 non-null     float64       \n",
            " 17  PPOILUSDM_3        96 non-null     float64       \n",
            " 18  WPU0652013A_3      96 non-null     float64       \n",
            " 19  Electricity_3      96 non-null     float64       \n",
            " 20  PNGASEUUSDM_4      96 non-null     float64       \n",
            " 21  POILBREUSDM_4      96 non-null     float64       \n",
            " 22  PPOILUSDM_4        96 non-null     float64       \n",
            " 23  WPU0652013A_4      96 non-null     float64       \n",
            " 24  Electricity_4      96 non-null     float64       \n",
            " 25  PNGASEUUSDM_5      96 non-null     float64       \n",
            " 26  POILBREUSDM_5      96 non-null     float64       \n",
            " 27  PPOILUSDM_5        96 non-null     float64       \n",
            " 28  WPU0652013A_5      96 non-null     float64       \n",
            " 29  Electricity_5      96 non-null     float64       \n",
            " 30  PNGASEUUSDM_6      96 non-null     float64       \n",
            " 31  POILBREUSDM_6      96 non-null     float64       \n",
            " 32  PPOILUSDM_6        96 non-null     float64       \n",
            " 33  WPU0652013A_6      96 non-null     float64       \n",
            " 34  Electricity_6      96 non-null     float64       \n",
            " 35  PNGASEUUSDM_7      96 non-null     float64       \n",
            " 36  POILBREUSDM_7      96 non-null     float64       \n",
            " 37  PPOILUSDM_7        96 non-null     float64       \n",
            " 38  WPU0652013A_7      96 non-null     float64       \n",
            " 39  Electricity_7      96 non-null     float64       \n",
            " 40  PNGASEUUSDM_8      96 non-null     float64       \n",
            " 41  POILBREUSDM_8      96 non-null     float64       \n",
            " 42  PPOILUSDM_8        96 non-null     float64       \n",
            " 43  WPU0652013A_8      96 non-null     float64       \n",
            " 44  Electricity_8      96 non-null     float64       \n",
            " 45  PNGASEUUSDM_9      96 non-null     float64       \n",
            " 46  POILBREUSDM_9      96 non-null     float64       \n",
            " 47  PPOILUSDM_9        96 non-null     float64       \n",
            " 48  WPU0652013A_9      96 non-null     float64       \n",
            " 49  Electricity_9      96 non-null     float64       \n",
            " 50  PNGASEUUSDM_10     96 non-null     float64       \n",
            " 51  POILBREUSDM_10     96 non-null     float64       \n",
            " 52  PPOILUSDM_10       96 non-null     float64       \n",
            " 53  WPU0652013A_10     96 non-null     float64       \n",
            " 54  Electricity_10     96 non-null     float64       \n",
            " 55  PNGASEUUSDM_11     96 non-null     float64       \n",
            " 56  POILBREUSDM_11     96 non-null     float64       \n",
            " 57  PPOILUSDM_11       96 non-null     float64       \n",
            " 58  WPU0652013A_11     96 non-null     float64       \n",
            " 59  Electricity_11     96 non-null     float64       \n",
            " 60  PNGASEUUSDM_12     96 non-null     float64       \n",
            " 61  POILBREUSDM_12     96 non-null     float64       \n",
            " 62  PPOILUSDM_12       96 non-null     float64       \n",
            " 63  WPU0652013A_12     96 non-null     float64       \n",
            " 64  Electricity_12     96 non-null     float64       \n",
            " 65  AR_1               96 non-null     float64       \n",
            " 66  AR_2               96 non-null     float64       \n",
            " 67  AR_3               96 non-null     float64       \n",
            " 68  AR_4               96 non-null     float64       \n",
            " 69  AR_5               96 non-null     float64       \n",
            " 70  AR_6               96 non-null     float64       \n",
            " 71  AR_7               96 non-null     float64       \n",
            " 72  AR_8               96 non-null     float64       \n",
            " 73  AR_9               96 non-null     float64       \n",
            " 74  AR_10              96 non-null     float64       \n",
            " 75  AR_11              96 non-null     float64       \n",
            " 76  AR_12              96 non-null     float64       \n",
            "dtypes: datetime64[ns](1), float64(73), int64(2), object(1)\n",
            "memory usage: 58.5+ KB\n",
            "None\n"
          ]
        }
      ],
      "source": [
        "columns_to_drop = [column for column in feature_df.columns if 'RM' in column]\n",
        "feature_df = feature_df.drop(columns=columns_to_drop)\n",
        "print(feature_df.info())"
      ]
    },
    {
      "cell_type": "markdown",
      "metadata": {
        "id": "rzC6I3IUH2GP"
      },
      "source": [
        "### 1-month prediction"
      ]
    },
    {
      "cell_type": "code",
      "execution_count": null,
      "metadata": {
        "id": "YnFApr4yH2GP",
        "colab": {
          "base_uri": "https://localhost:8080/"
        },
        "outputId": "f78556da-9185-41bd-8976-b94f498fb0d5"
      },
      "outputs": [
        {
          "output_type": "stream",
          "name": "stdout",
          "text": [
            "MAPE from 2019-01-01 to 2019-07-01: 8.0\n",
            "MAPE from 2019-07-01 to 2020-01-01: 6.7\n",
            "MAPE from 2020-01-01 to 2020-07-01: 9.4\n",
            "MAPE from 2020-07-01 to 2021-01-01: 11.3\n",
            "MAPE from 2021-01-01 to 2021-07-01: 7.0\n",
            "MAPE from 2021-07-01 to 2022-01-01: 7.2\n",
            "MAPE from 2022-01-01 to 2022-07-01: 26.3\n",
            "MAPE from 2022-07-01 to 2023-01-01: 5.1\n",
            "MAPE from 2023-01-01 to 2023-07-01: 6.0\n",
            "MAPE from 2023-07-01 to 2024-01-01: 5.2\n"
          ]
        }
      ],
      "source": [
        "mape_values = []\n",
        "for start, end in test_periods:\n",
        "    mape = calculate_mape_1(start, end, 0.2)\n",
        "    mape_values.append(mape)\n",
        "    print(f\"MAPE from {start} to {end}: {mape:.1f}\")"
      ]
    },
    {
      "cell_type": "code",
      "execution_count": null,
      "metadata": {
        "id": "AIj1xoWBH2GP",
        "colab": {
          "base_uri": "https://localhost:8080/"
        },
        "outputId": "19e221e0-42d4-44fb-b6e2-2058304fed85"
      },
      "outputs": [
        {
          "output_type": "stream",
          "name": "stdout",
          "text": [
            "Average MAPE: 9.2\n"
          ]
        }
      ],
      "source": [
        "average_mape = np.mean(mape_values)\n",
        "print(f\"Average MAPE: {average_mape:.1f}\")"
      ]
    },
    {
      "cell_type": "markdown",
      "metadata": {
        "id": "8v-4_etqH2GP"
      },
      "source": [
        "### 3-month prediction\n"
      ]
    },
    {
      "cell_type": "code",
      "execution_count": null,
      "metadata": {
        "id": "yLz4P8DSH2GP",
        "colab": {
          "base_uri": "https://localhost:8080/"
        },
        "outputId": "4e43e91d-be7d-4e0a-c03d-32404d14b09b"
      },
      "outputs": [
        {
          "output_type": "stream",
          "name": "stdout",
          "text": [
            "MAPE from 2019-01-01 to 2019-07-01: 7.2\n",
            "MAPE from 2019-07-01 to 2020-01-01: 6.4\n",
            "MAPE from 2020-01-01 to 2020-07-01: 10.8\n",
            "MAPE from 2020-07-01 to 2021-01-01: 10.6\n",
            "MAPE from 2021-01-01 to 2021-07-01: 7.2\n",
            "MAPE from 2021-07-01 to 2022-01-01: 7.3\n",
            "MAPE from 2022-01-01 to 2022-07-01: 27.2\n",
            "MAPE from 2022-07-01 to 2023-01-01: 6.1\n",
            "MAPE from 2023-01-01 to 2023-07-01: 7.4\n",
            "MAPE from 2023-07-01 to 2024-01-01: 6.3\n"
          ]
        }
      ],
      "source": [
        "mape_values = []\n",
        "for start, end in test_periods:\n",
        "    mape = calculate_mape_3(start, end, 0.2)\n",
        "    mape_values.append(mape)\n",
        "    print(f\"MAPE from {start} to {end}: {mape:.1f}\")"
      ]
    },
    {
      "cell_type": "code",
      "execution_count": null,
      "metadata": {
        "id": "6alvYnFtH2GP",
        "colab": {
          "base_uri": "https://localhost:8080/"
        },
        "outputId": "22cfc292-ec5a-423d-9219-c80b7d8043c9"
      },
      "outputs": [
        {
          "output_type": "stream",
          "name": "stdout",
          "text": [
            "Average MAPE: 9.7\n"
          ]
        }
      ],
      "source": [
        "average_mape = np.mean(mape_values)\n",
        "print(f\"Average MAPE: {average_mape:.1f}\")"
      ]
    },
    {
      "cell_type": "markdown",
      "metadata": {
        "id": "fr7CWNw7H2GQ"
      },
      "source": [
        "### 6-month prediction"
      ]
    },
    {
      "cell_type": "code",
      "execution_count": null,
      "metadata": {
        "id": "QzQDNEHaH2GQ",
        "colab": {
          "base_uri": "https://localhost:8080/"
        },
        "outputId": "6cfcec15-aa7f-4ccf-f239-c94360eb75ef"
      },
      "outputs": [
        {
          "output_type": "stream",
          "name": "stdout",
          "text": [
            "MAPE from 2019-01-01 to 2019-07-01: 7.3\n",
            "MAPE from 2019-07-01 to 2020-01-01: 7.4\n",
            "MAPE from 2020-01-01 to 2020-07-01: 10.9\n",
            "MAPE from 2020-07-01 to 2021-01-01: 12.6\n",
            "MAPE from 2021-01-01 to 2021-07-01: 7.5\n",
            "MAPE from 2021-07-01 to 2022-01-01: 7.9\n",
            "MAPE from 2022-01-01 to 2022-07-01: 34.4\n",
            "MAPE from 2022-07-01 to 2023-01-01: 6.2\n",
            "MAPE from 2023-01-01 to 2023-07-01: 11.3\n",
            "MAPE from 2023-07-01 to 2024-01-01: 6.6\n"
          ]
        }
      ],
      "source": [
        "mape_values = []\n",
        "for start, end in test_periods:\n",
        "    mape = calculate_mape_6(start, end, 0.1)\n",
        "    mape_values.append(mape)\n",
        "    print(f\"MAPE from {start} to {end}: {mape:.1f}\")"
      ]
    },
    {
      "cell_type": "code",
      "execution_count": null,
      "metadata": {
        "id": "jcyzWwQVH2GQ",
        "colab": {
          "base_uri": "https://localhost:8080/"
        },
        "outputId": "62c7c6d7-5534-4df2-a85b-fcf5329f09d1"
      },
      "outputs": [
        {
          "output_type": "stream",
          "name": "stdout",
          "text": [
            "Average MAPE: 11.2\n"
          ]
        }
      ],
      "source": [
        "average_mape = np.mean(mape_values)\n",
        "print(f\"Average MAPE: {average_mape:.1f}\")"
      ]
    },
    {
      "cell_type": "markdown",
      "metadata": {
        "id": "MMMugzIyH2qf"
      },
      "source": [
        "## 0005"
      ]
    },
    {
      "cell_type": "code",
      "execution_count": null,
      "metadata": {
        "id": "eybqxFJ9H2qf"
      },
      "outputs": [],
      "source": [
        "feature_df = df_0005"
      ]
    },
    {
      "cell_type": "code",
      "execution_count": null,
      "metadata": {
        "id": "N7IH-9IoJvw_",
        "colab": {
          "base_uri": "https://localhost:8080/"
        },
        "outputId": "33bed0c0-5ef7-4523-f8e1-6815bbc83ecd"
      },
      "outputs": [
        {
          "output_type": "stream",
          "name": "stdout",
          "text": [
            "<class 'pandas.core.frame.DataFrame'>\n",
            "Index: 96 entries, 2 to 192\n",
            "Data columns (total 77 columns):\n",
            " #   Column             Non-Null Count  Dtype         \n",
            "---  ------             --------------  -----         \n",
            " 0   Year               96 non-null     int64         \n",
            " 1   Month              96 non-null     int64         \n",
            " 2   Time               96 non-null     datetime64[ns]\n",
            " 3   Group Description  96 non-null     object        \n",
            " 4   Average_price      96 non-null     float64       \n",
            " 5   PNGASEUUSDM_1      96 non-null     float64       \n",
            " 6   POILBREUSDM_1      96 non-null     float64       \n",
            " 7   PPOILUSDM_1        96 non-null     float64       \n",
            " 8   WPU0652013A_1      96 non-null     float64       \n",
            " 9   Electricity_1      96 non-null     float64       \n",
            " 10  PNGASEUUSDM_2      96 non-null     float64       \n",
            " 11  POILBREUSDM_2      96 non-null     float64       \n",
            " 12  PPOILUSDM_2        96 non-null     float64       \n",
            " 13  WPU0652013A_2      96 non-null     float64       \n",
            " 14  Electricity_2      96 non-null     float64       \n",
            " 15  PNGASEUUSDM_3      96 non-null     float64       \n",
            " 16  POILBREUSDM_3      96 non-null     float64       \n",
            " 17  PPOILUSDM_3        96 non-null     float64       \n",
            " 18  WPU0652013A_3      96 non-null     float64       \n",
            " 19  Electricity_3      96 non-null     float64       \n",
            " 20  PNGASEUUSDM_4      96 non-null     float64       \n",
            " 21  POILBREUSDM_4      96 non-null     float64       \n",
            " 22  PPOILUSDM_4        96 non-null     float64       \n",
            " 23  WPU0652013A_4      96 non-null     float64       \n",
            " 24  Electricity_4      96 non-null     float64       \n",
            " 25  PNGASEUUSDM_5      96 non-null     float64       \n",
            " 26  POILBREUSDM_5      96 non-null     float64       \n",
            " 27  PPOILUSDM_5        96 non-null     float64       \n",
            " 28  WPU0652013A_5      96 non-null     float64       \n",
            " 29  Electricity_5      96 non-null     float64       \n",
            " 30  PNGASEUUSDM_6      96 non-null     float64       \n",
            " 31  POILBREUSDM_6      96 non-null     float64       \n",
            " 32  PPOILUSDM_6        96 non-null     float64       \n",
            " 33  WPU0652013A_6      96 non-null     float64       \n",
            " 34  Electricity_6      96 non-null     float64       \n",
            " 35  PNGASEUUSDM_7      96 non-null     float64       \n",
            " 36  POILBREUSDM_7      96 non-null     float64       \n",
            " 37  PPOILUSDM_7        96 non-null     float64       \n",
            " 38  WPU0652013A_7      96 non-null     float64       \n",
            " 39  Electricity_7      96 non-null     float64       \n",
            " 40  PNGASEUUSDM_8      96 non-null     float64       \n",
            " 41  POILBREUSDM_8      96 non-null     float64       \n",
            " 42  PPOILUSDM_8        96 non-null     float64       \n",
            " 43  WPU0652013A_8      96 non-null     float64       \n",
            " 44  Electricity_8      96 non-null     float64       \n",
            " 45  PNGASEUUSDM_9      96 non-null     float64       \n",
            " 46  POILBREUSDM_9      96 non-null     float64       \n",
            " 47  PPOILUSDM_9        96 non-null     float64       \n",
            " 48  WPU0652013A_9      96 non-null     float64       \n",
            " 49  Electricity_9      96 non-null     float64       \n",
            " 50  PNGASEUUSDM_10     96 non-null     float64       \n",
            " 51  POILBREUSDM_10     96 non-null     float64       \n",
            " 52  PPOILUSDM_10       96 non-null     float64       \n",
            " 53  WPU0652013A_10     96 non-null     float64       \n",
            " 54  Electricity_10     96 non-null     float64       \n",
            " 55  PNGASEUUSDM_11     96 non-null     float64       \n",
            " 56  POILBREUSDM_11     96 non-null     float64       \n",
            " 57  PPOILUSDM_11       96 non-null     float64       \n",
            " 58  WPU0652013A_11     96 non-null     float64       \n",
            " 59  Electricity_11     96 non-null     float64       \n",
            " 60  PNGASEUUSDM_12     96 non-null     float64       \n",
            " 61  POILBREUSDM_12     96 non-null     float64       \n",
            " 62  PPOILUSDM_12       96 non-null     float64       \n",
            " 63  WPU0652013A_12     96 non-null     float64       \n",
            " 64  Electricity_12     96 non-null     float64       \n",
            " 65  AR_1               96 non-null     float64       \n",
            " 66  AR_2               96 non-null     float64       \n",
            " 67  AR_3               96 non-null     float64       \n",
            " 68  AR_4               96 non-null     float64       \n",
            " 69  AR_5               96 non-null     float64       \n",
            " 70  AR_6               96 non-null     float64       \n",
            " 71  AR_7               96 non-null     float64       \n",
            " 72  AR_8               96 non-null     float64       \n",
            " 73  AR_9               96 non-null     float64       \n",
            " 74  AR_10              96 non-null     float64       \n",
            " 75  AR_11              96 non-null     float64       \n",
            " 76  AR_12              96 non-null     float64       \n",
            "dtypes: datetime64[ns](1), float64(73), int64(2), object(1)\n",
            "memory usage: 58.5+ KB\n",
            "None\n"
          ]
        }
      ],
      "source": [
        "columns_to_drop = [column for column in feature_df.columns if 'RM' in column]\n",
        "feature_df = feature_df.drop(columns=columns_to_drop)\n",
        "print(feature_df.info())"
      ]
    },
    {
      "cell_type": "markdown",
      "metadata": {
        "id": "7NRxxwELH2qf"
      },
      "source": [
        "### 1-month prediction"
      ]
    },
    {
      "cell_type": "code",
      "execution_count": null,
      "metadata": {
        "id": "RstSfFzlH2qg",
        "colab": {
          "base_uri": "https://localhost:8080/"
        },
        "outputId": "5f233535-0f8c-4154-8c30-d99325a847aa"
      },
      "outputs": [
        {
          "output_type": "stream",
          "name": "stdout",
          "text": [
            "MAPE from 2019-01-01 to 2019-07-01: 8.4\n",
            "MAPE from 2019-07-01 to 2020-01-01: 9.6\n",
            "MAPE from 2020-01-01 to 2020-07-01: 7.2\n",
            "MAPE from 2020-07-01 to 2021-01-01: 13.2\n",
            "MAPE from 2021-01-01 to 2021-07-01: 8.6\n",
            "MAPE from 2021-07-01 to 2022-01-01: 5.7\n",
            "MAPE from 2022-01-01 to 2022-07-01: 21.9\n",
            "MAPE from 2022-07-01 to 2023-01-01: 6.2\n",
            "MAPE from 2023-01-01 to 2023-07-01: 21.1\n",
            "MAPE from 2023-07-01 to 2024-01-01: 4.3\n"
          ]
        }
      ],
      "source": [
        "mape_values = []\n",
        "for start, end in test_periods:\n",
        "    mape = calculate_mape_1(start, end, 0.2)\n",
        "    mape_values.append(mape)\n",
        "    print(f\"MAPE from {start} to {end}: {mape:.1f}\")"
      ]
    },
    {
      "cell_type": "code",
      "execution_count": null,
      "metadata": {
        "id": "7XCvlBlKH2qg",
        "colab": {
          "base_uri": "https://localhost:8080/"
        },
        "outputId": "3088d064-1483-4285-983e-15edbbcc763b"
      },
      "outputs": [
        {
          "output_type": "stream",
          "name": "stdout",
          "text": [
            "Average MAPE: 10.6\n"
          ]
        }
      ],
      "source": [
        "average_mape = np.mean(mape_values)\n",
        "print(f\"Average MAPE: {average_mape:.1f}\")"
      ]
    },
    {
      "cell_type": "markdown",
      "metadata": {
        "id": "HS0Q6FmyH2qg"
      },
      "source": [
        "### 3-month prediction\n"
      ]
    },
    {
      "cell_type": "code",
      "execution_count": null,
      "metadata": {
        "id": "-213HPnUH2qg",
        "colab": {
          "base_uri": "https://localhost:8080/"
        },
        "outputId": "72a01a3e-52b1-4c57-b130-db40f3de2b27"
      },
      "outputs": [
        {
          "output_type": "stream",
          "name": "stdout",
          "text": [
            "MAPE from 2019-01-01 to 2019-07-01: 8.4\n",
            "MAPE from 2019-07-01 to 2020-01-01: 9.6\n",
            "MAPE from 2020-01-01 to 2020-07-01: 7.2\n",
            "MAPE from 2020-07-01 to 2021-01-01: 13.1\n",
            "MAPE from 2021-01-01 to 2021-07-01: 8.6\n",
            "MAPE from 2021-07-01 to 2022-01-01: 5.9\n",
            "MAPE from 2022-01-01 to 2022-07-01: 21.9\n",
            "MAPE from 2022-07-01 to 2023-01-01: 5.1\n",
            "MAPE from 2023-01-01 to 2023-07-01: 23.2\n",
            "MAPE from 2023-07-01 to 2024-01-01: 4.0\n"
          ]
        }
      ],
      "source": [
        "mape_values = []\n",
        "for start, end in test_periods:\n",
        "    mape = calculate_mape_3(start, end, 0.2)\n",
        "    mape_values.append(mape)\n",
        "    print(f\"MAPE from {start} to {end}: {mape:.1f}\")"
      ]
    },
    {
      "cell_type": "code",
      "execution_count": null,
      "metadata": {
        "id": "gkpzKa5sH2qg",
        "colab": {
          "base_uri": "https://localhost:8080/"
        },
        "outputId": "e85a1c90-6bb1-42c2-b051-bd1e8750aa53"
      },
      "outputs": [
        {
          "output_type": "stream",
          "name": "stdout",
          "text": [
            "Average MAPE: 10.7\n"
          ]
        }
      ],
      "source": [
        "average_mape = np.mean(mape_values)\n",
        "print(f\"Average MAPE: {average_mape:.1f}\")"
      ]
    },
    {
      "cell_type": "markdown",
      "metadata": {
        "id": "nfqxJkeRH2qg"
      },
      "source": [
        "### 6-month prediction"
      ]
    },
    {
      "cell_type": "code",
      "execution_count": null,
      "metadata": {
        "colab": {
          "base_uri": "https://localhost:8080/"
        },
        "id": "uj4ioYACH2qg",
        "outputId": "4021dd6f-96d4-47a3-8365-db0c8107a216"
      },
      "outputs": [
        {
          "output_type": "stream",
          "name": "stdout",
          "text": [
            "MAPE from 2019-01-01 to 2019-07-01: 8.9\n",
            "MAPE from 2019-07-01 to 2020-01-01: 11.7\n",
            "MAPE from 2020-01-01 to 2020-07-01: 7.2\n",
            "MAPE from 2020-07-01 to 2021-01-01: 13.6\n",
            "MAPE from 2021-01-01 to 2021-07-01: 8.6\n",
            "MAPE from 2021-07-01 to 2022-01-01: 5.6\n",
            "MAPE from 2022-01-01 to 2022-07-01: 21.9\n",
            "MAPE from 2022-07-01 to 2023-01-01: 3.7\n",
            "MAPE from 2023-01-01 to 2023-07-01: 25.4\n",
            "MAPE from 2023-07-01 to 2024-01-01: 5.3\n"
          ]
        }
      ],
      "source": [
        "mape_values = []\n",
        "for start, end in test_periods:\n",
        "    mape = calculate_mape_6(start, end, 0.2)\n",
        "    mape_values.append(mape)\n",
        "    print(f\"MAPE from {start} to {end}: {mape:.1f}\")"
      ]
    },
    {
      "cell_type": "code",
      "execution_count": null,
      "metadata": {
        "colab": {
          "base_uri": "https://localhost:8080/"
        },
        "id": "9XEmXQHxH2qg",
        "outputId": "d068a506-185d-4842-d832-ac5855426e77"
      },
      "outputs": [
        {
          "output_type": "stream",
          "name": "stdout",
          "text": [
            "Average MAPE: 11.2\n"
          ]
        }
      ],
      "source": [
        "average_mape = np.mean(mape_values)\n",
        "print(f\"Average MAPE: {average_mape:.1f}\")"
      ]
    },
    {
      "cell_type": "markdown",
      "metadata": {
        "id": "FAsUcnyZH3qq"
      },
      "source": [
        "## 0008"
      ]
    },
    {
      "cell_type": "code",
      "execution_count": null,
      "metadata": {
        "id": "8JdDvlPpH3qq"
      },
      "outputs": [],
      "source": [
        "feature_df = df_0008"
      ]
    },
    {
      "cell_type": "code",
      "execution_count": null,
      "metadata": {
        "colab": {
          "base_uri": "https://localhost:8080/"
        },
        "id": "orcxsqEEJwZU",
        "outputId": "8b12bfd8-0b47-4ded-f421-b21b69aac9dd"
      },
      "outputs": [
        {
          "output_type": "stream",
          "name": "stdout",
          "text": [
            "<class 'pandas.core.frame.DataFrame'>\n",
            "Index: 94 entries, 299 to 394\n",
            "Data columns (total 77 columns):\n",
            " #   Column             Non-Null Count  Dtype         \n",
            "---  ------             --------------  -----         \n",
            " 0   Year               94 non-null     int64         \n",
            " 1   Month              94 non-null     int64         \n",
            " 2   Time               94 non-null     datetime64[ns]\n",
            " 3   Group Description  94 non-null     object        \n",
            " 4   Average_price      94 non-null     float64       \n",
            " 5   PNGASEUUSDM_1      94 non-null     float64       \n",
            " 6   POILBREUSDM_1      94 non-null     float64       \n",
            " 7   PPOILUSDM_1        94 non-null     float64       \n",
            " 8   WPU0652013A_1      94 non-null     float64       \n",
            " 9   Electricity_1      94 non-null     float64       \n",
            " 10  PNGASEUUSDM_2      94 non-null     float64       \n",
            " 11  POILBREUSDM_2      94 non-null     float64       \n",
            " 12  PPOILUSDM_2        94 non-null     float64       \n",
            " 13  WPU0652013A_2      94 non-null     float64       \n",
            " 14  Electricity_2      94 non-null     float64       \n",
            " 15  PNGASEUUSDM_3      94 non-null     float64       \n",
            " 16  POILBREUSDM_3      94 non-null     float64       \n",
            " 17  PPOILUSDM_3        94 non-null     float64       \n",
            " 18  WPU0652013A_3      94 non-null     float64       \n",
            " 19  Electricity_3      94 non-null     float64       \n",
            " 20  PNGASEUUSDM_4      94 non-null     float64       \n",
            " 21  POILBREUSDM_4      94 non-null     float64       \n",
            " 22  PPOILUSDM_4        94 non-null     float64       \n",
            " 23  WPU0652013A_4      94 non-null     float64       \n",
            " 24  Electricity_4      94 non-null     float64       \n",
            " 25  PNGASEUUSDM_5      94 non-null     float64       \n",
            " 26  POILBREUSDM_5      94 non-null     float64       \n",
            " 27  PPOILUSDM_5        94 non-null     float64       \n",
            " 28  WPU0652013A_5      94 non-null     float64       \n",
            " 29  Electricity_5      94 non-null     float64       \n",
            " 30  PNGASEUUSDM_6      94 non-null     float64       \n",
            " 31  POILBREUSDM_6      94 non-null     float64       \n",
            " 32  PPOILUSDM_6        94 non-null     float64       \n",
            " 33  WPU0652013A_6      94 non-null     float64       \n",
            " 34  Electricity_6      94 non-null     float64       \n",
            " 35  PNGASEUUSDM_7      94 non-null     float64       \n",
            " 36  POILBREUSDM_7      94 non-null     float64       \n",
            " 37  PPOILUSDM_7        94 non-null     float64       \n",
            " 38  WPU0652013A_7      94 non-null     float64       \n",
            " 39  Electricity_7      94 non-null     float64       \n",
            " 40  PNGASEUUSDM_8      94 non-null     float64       \n",
            " 41  POILBREUSDM_8      94 non-null     float64       \n",
            " 42  PPOILUSDM_8        94 non-null     float64       \n",
            " 43  WPU0652013A_8      94 non-null     float64       \n",
            " 44  Electricity_8      94 non-null     float64       \n",
            " 45  PNGASEUUSDM_9      94 non-null     float64       \n",
            " 46  POILBREUSDM_9      94 non-null     float64       \n",
            " 47  PPOILUSDM_9        94 non-null     float64       \n",
            " 48  WPU0652013A_9      94 non-null     float64       \n",
            " 49  Electricity_9      94 non-null     float64       \n",
            " 50  PNGASEUUSDM_10     94 non-null     float64       \n",
            " 51  POILBREUSDM_10     94 non-null     float64       \n",
            " 52  PPOILUSDM_10       94 non-null     float64       \n",
            " 53  WPU0652013A_10     94 non-null     float64       \n",
            " 54  Electricity_10     94 non-null     float64       \n",
            " 55  PNGASEUUSDM_11     94 non-null     float64       \n",
            " 56  POILBREUSDM_11     94 non-null     float64       \n",
            " 57  PPOILUSDM_11       94 non-null     float64       \n",
            " 58  WPU0652013A_11     94 non-null     float64       \n",
            " 59  Electricity_11     94 non-null     float64       \n",
            " 60  PNGASEUUSDM_12     94 non-null     float64       \n",
            " 61  POILBREUSDM_12     94 non-null     float64       \n",
            " 62  PPOILUSDM_12       94 non-null     float64       \n",
            " 63  WPU0652013A_12     94 non-null     float64       \n",
            " 64  Electricity_12     94 non-null     float64       \n",
            " 65  AR_1               94 non-null     float64       \n",
            " 66  AR_2               94 non-null     float64       \n",
            " 67  AR_3               94 non-null     float64       \n",
            " 68  AR_4               94 non-null     float64       \n",
            " 69  AR_5               94 non-null     float64       \n",
            " 70  AR_6               94 non-null     float64       \n",
            " 71  AR_7               94 non-null     float64       \n",
            " 72  AR_8               94 non-null     float64       \n",
            " 73  AR_9               94 non-null     float64       \n",
            " 74  AR_10              94 non-null     float64       \n",
            " 75  AR_11              94 non-null     float64       \n",
            " 76  AR_12              94 non-null     float64       \n",
            "dtypes: datetime64[ns](1), float64(73), int64(2), object(1)\n",
            "memory usage: 57.3+ KB\n",
            "None\n"
          ]
        }
      ],
      "source": [
        "columns_to_drop = [column for column in feature_df.columns if 'RM' in column]\n",
        "feature_df = feature_df.drop(columns=columns_to_drop)\n",
        "print(feature_df.info())"
      ]
    },
    {
      "cell_type": "markdown",
      "metadata": {
        "id": "RDpOE6AyH3qr"
      },
      "source": [
        "### 1-month prediction"
      ]
    },
    {
      "cell_type": "code",
      "execution_count": null,
      "metadata": {
        "colab": {
          "base_uri": "https://localhost:8080/"
        },
        "id": "x_RR8EEcH3qr",
        "outputId": "df7c1768-6b2b-4c69-c39f-c3bcaa03c36a"
      },
      "outputs": [
        {
          "output_type": "stream",
          "name": "stdout",
          "text": [
            "MAPE from 2019-01-01 to 2019-07-01: 17.8\n",
            "MAPE from 2019-07-01 to 2020-01-01: 13.7\n",
            "MAPE from 2020-01-01 to 2020-07-01: 15.6\n",
            "MAPE from 2020-07-01 to 2021-01-01: 18.3\n",
            "MAPE from 2021-01-01 to 2021-07-01: 14.9\n",
            "MAPE from 2021-07-01 to 2022-01-01: 12.1\n",
            "MAPE from 2022-01-01 to 2022-07-01: 7.3\n",
            "MAPE from 2022-07-01 to 2023-01-01: 4.8\n",
            "MAPE from 2023-01-01 to 2023-07-01: 3.7\n",
            "MAPE from 2023-07-01 to 2024-01-01: 7.4\n"
          ]
        }
      ],
      "source": [
        "mape_values = []\n",
        "for start, end in test_periods:\n",
        "    mape = calculate_mape_1(start, end, 0.3)\n",
        "    mape_values.append(mape)\n",
        "    print(f\"MAPE from {start} to {end}: {mape:.1f}\")"
      ]
    },
    {
      "cell_type": "code",
      "execution_count": null,
      "metadata": {
        "colab": {
          "base_uri": "https://localhost:8080/"
        },
        "id": "egIOYWs2H3qr",
        "outputId": "5f970981-d0ba-4df6-9e51-5b5683a4e2e7"
      },
      "outputs": [
        {
          "output_type": "stream",
          "name": "stdout",
          "text": [
            "Average MAPE: 11.6\n"
          ]
        }
      ],
      "source": [
        "average_mape = np.mean(mape_values)\n",
        "print(f\"Average MAPE: {average_mape:.1f}\")"
      ]
    },
    {
      "cell_type": "markdown",
      "metadata": {
        "id": "9x-Z2xo3H3qr"
      },
      "source": [
        "### 3-month prediction\n"
      ]
    },
    {
      "cell_type": "code",
      "execution_count": null,
      "metadata": {
        "colab": {
          "base_uri": "https://localhost:8080/"
        },
        "id": "wk-y7XjNH3qr",
        "outputId": "939a1a1b-56cb-4027-ea1a-8091d887c1fe"
      },
      "outputs": [
        {
          "output_type": "stream",
          "name": "stdout",
          "text": [
            "MAPE from 2019-01-01 to 2019-07-01: 17.8\n",
            "MAPE from 2019-07-01 to 2020-01-01: 13.4\n",
            "MAPE from 2020-01-01 to 2020-07-01: 15.6\n",
            "MAPE from 2020-07-01 to 2021-01-01: 18.3\n",
            "MAPE from 2021-01-01 to 2021-07-01: 14.9\n",
            "MAPE from 2021-07-01 to 2022-01-01: 12.1\n",
            "MAPE from 2022-01-01 to 2022-07-01: 7.3\n",
            "MAPE from 2022-07-01 to 2023-01-01: 4.5\n",
            "MAPE from 2023-01-01 to 2023-07-01: 3.8\n",
            "MAPE from 2023-07-01 to 2024-01-01: 7.7\n"
          ]
        }
      ],
      "source": [
        "mape_values = []\n",
        "for start, end in test_periods:\n",
        "    mape = calculate_mape_3(start, end, 0.3)\n",
        "    mape_values.append(mape)\n",
        "    print(f\"MAPE from {start} to {end}: {mape:.1f}\")"
      ]
    },
    {
      "cell_type": "code",
      "execution_count": null,
      "metadata": {
        "colab": {
          "base_uri": "https://localhost:8080/"
        },
        "id": "sNv6dWCMH3qs",
        "outputId": "c9bdbe6e-1585-46f7-e797-386e2f793db5"
      },
      "outputs": [
        {
          "output_type": "stream",
          "name": "stdout",
          "text": [
            "Average MAPE: 11.5\n"
          ]
        }
      ],
      "source": [
        "average_mape = np.mean(mape_values)\n",
        "print(f\"Average MAPE: {average_mape:.1f}\")"
      ]
    },
    {
      "cell_type": "markdown",
      "metadata": {
        "id": "ELoDh_qFH3qs"
      },
      "source": [
        "### 6-month prediction"
      ]
    },
    {
      "cell_type": "code",
      "execution_count": null,
      "metadata": {
        "colab": {
          "base_uri": "https://localhost:8080/"
        },
        "id": "819ayIY8H3qs",
        "outputId": "17936d71-508c-4d30-a647-beba44d9a379"
      },
      "outputs": [
        {
          "output_type": "stream",
          "name": "stdout",
          "text": [
            "MAPE from 2019-01-01 to 2019-07-01: 17.8\n",
            "MAPE from 2019-07-01 to 2020-01-01: 13.9\n",
            "MAPE from 2020-01-01 to 2020-07-01: 15.7\n",
            "MAPE from 2020-07-01 to 2021-01-01: 18.9\n",
            "MAPE from 2021-01-01 to 2021-07-01: 14.9\n",
            "MAPE from 2021-07-01 to 2022-01-01: 12.1\n",
            "MAPE from 2022-01-01 to 2022-07-01: 13.5\n",
            "MAPE from 2022-07-01 to 2023-01-01: 7.0\n",
            "MAPE from 2023-01-01 to 2023-07-01: 4.7\n",
            "MAPE from 2023-07-01 to 2024-01-01: 7.2\n"
          ]
        }
      ],
      "source": [
        "mape_values = []\n",
        "for start, end in test_periods:\n",
        "    mape = calculate_mape_6(start, end, 0.3)\n",
        "    mape_values.append(mape)\n",
        "    print(f\"MAPE from {start} to {end}: {mape:.1f}\")"
      ]
    },
    {
      "cell_type": "code",
      "execution_count": null,
      "metadata": {
        "colab": {
          "base_uri": "https://localhost:8080/"
        },
        "id": "HoIo3aOxH3qs",
        "outputId": "6a6abcbd-988f-43f9-9058-a21c8eb1917c"
      },
      "outputs": [
        {
          "output_type": "stream",
          "name": "stdout",
          "text": [
            "Average MAPE: 12.6\n"
          ]
        }
      ],
      "source": [
        "average_mape = np.mean(mape_values)\n",
        "print(f\"Average MAPE: {average_mape:.1f}\")"
      ]
    },
    {
      "cell_type": "markdown",
      "metadata": {
        "id": "4m7diUL9H4ED"
      },
      "source": [
        "## 0012"
      ]
    },
    {
      "cell_type": "code",
      "execution_count": null,
      "metadata": {
        "id": "jo3Ont6GH4ED"
      },
      "outputs": [],
      "source": [
        "feature_df = df_0012"
      ]
    },
    {
      "cell_type": "code",
      "execution_count": null,
      "metadata": {
        "colab": {
          "base_uri": "https://localhost:8080/"
        },
        "id": "6TpggeofJxCe",
        "outputId": "ccb5f086-e29f-429c-8b26-f9a30c3a6647"
      },
      "outputs": [
        {
          "output_type": "stream",
          "name": "stdout",
          "text": [
            "<class 'pandas.core.frame.DataFrame'>\n",
            "Index: 87 entries, 202 to 297\n",
            "Data columns (total 77 columns):\n",
            " #   Column             Non-Null Count  Dtype         \n",
            "---  ------             --------------  -----         \n",
            " 0   Year               87 non-null     int64         \n",
            " 1   Month              87 non-null     int64         \n",
            " 2   Time               87 non-null     datetime64[ns]\n",
            " 3   Group Description  87 non-null     object        \n",
            " 4   Average_price      87 non-null     float64       \n",
            " 5   PNGASEUUSDM_1      87 non-null     float64       \n",
            " 6   POILBREUSDM_1      87 non-null     float64       \n",
            " 7   PPOILUSDM_1        87 non-null     float64       \n",
            " 8   WPU0652013A_1      87 non-null     float64       \n",
            " 9   Electricity_1      87 non-null     float64       \n",
            " 10  PNGASEUUSDM_2      87 non-null     float64       \n",
            " 11  POILBREUSDM_2      87 non-null     float64       \n",
            " 12  PPOILUSDM_2        87 non-null     float64       \n",
            " 13  WPU0652013A_2      87 non-null     float64       \n",
            " 14  Electricity_2      87 non-null     float64       \n",
            " 15  PNGASEUUSDM_3      87 non-null     float64       \n",
            " 16  POILBREUSDM_3      87 non-null     float64       \n",
            " 17  PPOILUSDM_3        87 non-null     float64       \n",
            " 18  WPU0652013A_3      87 non-null     float64       \n",
            " 19  Electricity_3      87 non-null     float64       \n",
            " 20  PNGASEUUSDM_4      87 non-null     float64       \n",
            " 21  POILBREUSDM_4      87 non-null     float64       \n",
            " 22  PPOILUSDM_4        87 non-null     float64       \n",
            " 23  WPU0652013A_4      87 non-null     float64       \n",
            " 24  Electricity_4      87 non-null     float64       \n",
            " 25  PNGASEUUSDM_5      87 non-null     float64       \n",
            " 26  POILBREUSDM_5      87 non-null     float64       \n",
            " 27  PPOILUSDM_5        87 non-null     float64       \n",
            " 28  WPU0652013A_5      87 non-null     float64       \n",
            " 29  Electricity_5      87 non-null     float64       \n",
            " 30  PNGASEUUSDM_6      87 non-null     float64       \n",
            " 31  POILBREUSDM_6      87 non-null     float64       \n",
            " 32  PPOILUSDM_6        87 non-null     float64       \n",
            " 33  WPU0652013A_6      87 non-null     float64       \n",
            " 34  Electricity_6      87 non-null     float64       \n",
            " 35  PNGASEUUSDM_7      87 non-null     float64       \n",
            " 36  POILBREUSDM_7      87 non-null     float64       \n",
            " 37  PPOILUSDM_7        87 non-null     float64       \n",
            " 38  WPU0652013A_7      87 non-null     float64       \n",
            " 39  Electricity_7      87 non-null     float64       \n",
            " 40  PNGASEUUSDM_8      87 non-null     float64       \n",
            " 41  POILBREUSDM_8      87 non-null     float64       \n",
            " 42  PPOILUSDM_8        87 non-null     float64       \n",
            " 43  WPU0652013A_8      87 non-null     float64       \n",
            " 44  Electricity_8      87 non-null     float64       \n",
            " 45  PNGASEUUSDM_9      87 non-null     float64       \n",
            " 46  POILBREUSDM_9      87 non-null     float64       \n",
            " 47  PPOILUSDM_9        87 non-null     float64       \n",
            " 48  WPU0652013A_9      87 non-null     float64       \n",
            " 49  Electricity_9      87 non-null     float64       \n",
            " 50  PNGASEUUSDM_10     87 non-null     float64       \n",
            " 51  POILBREUSDM_10     87 non-null     float64       \n",
            " 52  PPOILUSDM_10       87 non-null     float64       \n",
            " 53  WPU0652013A_10     87 non-null     float64       \n",
            " 54  Electricity_10     87 non-null     float64       \n",
            " 55  PNGASEUUSDM_11     87 non-null     float64       \n",
            " 56  POILBREUSDM_11     87 non-null     float64       \n",
            " 57  PPOILUSDM_11       87 non-null     float64       \n",
            " 58  WPU0652013A_11     87 non-null     float64       \n",
            " 59  Electricity_11     87 non-null     float64       \n",
            " 60  PNGASEUUSDM_12     87 non-null     float64       \n",
            " 61  POILBREUSDM_12     87 non-null     float64       \n",
            " 62  PPOILUSDM_12       87 non-null     float64       \n",
            " 63  WPU0652013A_12     87 non-null     float64       \n",
            " 64  Electricity_12     87 non-null     float64       \n",
            " 65  AR_1               87 non-null     float64       \n",
            " 66  AR_2               87 non-null     float64       \n",
            " 67  AR_3               87 non-null     float64       \n",
            " 68  AR_4               87 non-null     float64       \n",
            " 69  AR_5               87 non-null     float64       \n",
            " 70  AR_6               87 non-null     float64       \n",
            " 71  AR_7               87 non-null     float64       \n",
            " 72  AR_8               87 non-null     float64       \n",
            " 73  AR_9               87 non-null     float64       \n",
            " 74  AR_10              87 non-null     float64       \n",
            " 75  AR_11              87 non-null     float64       \n",
            " 76  AR_12              87 non-null     float64       \n",
            "dtypes: datetime64[ns](1), float64(73), int64(2), object(1)\n",
            "memory usage: 53.0+ KB\n",
            "None\n"
          ]
        }
      ],
      "source": [
        "columns_to_drop = [column for column in feature_df.columns if 'RM' in column]\n",
        "feature_df = feature_df.drop(columns=columns_to_drop)\n",
        "print(feature_df.info())"
      ]
    },
    {
      "cell_type": "markdown",
      "metadata": {
        "id": "F81FcWhWH4EE"
      },
      "source": [
        "### 1-month prediction"
      ]
    },
    {
      "cell_type": "code",
      "execution_count": null,
      "metadata": {
        "colab": {
          "base_uri": "https://localhost:8080/"
        },
        "id": "KMlhahT9H4EE",
        "outputId": "bc980fae-5b06-41fa-d61f-bfa589bcd432"
      },
      "outputs": [
        {
          "output_type": "stream",
          "name": "stdout",
          "text": [
            "MAPE from 2019-01-01 to 2019-07-01: 4.9\n",
            "MAPE from 2019-07-01 to 2020-01-01: 6.7\n",
            "MAPE from 2020-01-01 to 2020-07-01: 4.6\n",
            "MAPE from 2020-07-01 to 2021-01-01: 11.8\n",
            "MAPE from 2021-01-01 to 2021-07-01: 7.2\n",
            "MAPE from 2021-07-01 to 2022-01-01: 2.8\n",
            "MAPE from 2022-01-01 to 2022-07-01: 33.8\n",
            "MAPE from 2022-07-01 to 2023-01-01: 28.2\n",
            "MAPE from 2023-01-01 to 2023-07-01: 13.4\n",
            "MAPE from 2023-07-01 to 2024-01-01: 15.8\n"
          ]
        }
      ],
      "source": [
        "mape_values = []\n",
        "for start, end in test_periods:\n",
        "    mape = calculate_mape_1(start, end, 0.4)\n",
        "    mape_values.append(mape)\n",
        "    print(f\"MAPE from {start} to {end}: {mape:.1f}\")"
      ]
    },
    {
      "cell_type": "code",
      "execution_count": null,
      "metadata": {
        "colab": {
          "base_uri": "https://localhost:8080/"
        },
        "id": "EZ2vKe6DH4EE",
        "outputId": "2fae53ab-d8b2-42e7-e543-8955c495da60"
      },
      "outputs": [
        {
          "output_type": "stream",
          "name": "stdout",
          "text": [
            "Average MAPE: 12.9\n"
          ]
        }
      ],
      "source": [
        "average_mape = np.mean(mape_values)\n",
        "print(f\"Average MAPE: {average_mape:.1f}\")"
      ]
    },
    {
      "cell_type": "markdown",
      "metadata": {
        "id": "RwXvYGCOH4EE"
      },
      "source": [
        "### 3-month prediction\n"
      ]
    },
    {
      "cell_type": "code",
      "execution_count": null,
      "metadata": {
        "colab": {
          "base_uri": "https://localhost:8080/"
        },
        "id": "BFZTHZbuH4EE",
        "outputId": "5f0ddfa7-53f1-4c04-dcac-05efbb221902"
      },
      "outputs": [
        {
          "output_type": "stream",
          "name": "stdout",
          "text": [
            "MAPE from 2019-01-01 to 2019-07-01: 5.0\n",
            "MAPE from 2019-07-01 to 2020-01-01: 6.6\n",
            "MAPE from 2020-01-01 to 2020-07-01: 4.6\n",
            "MAPE from 2020-07-01 to 2021-01-01: 12.5\n",
            "MAPE from 2021-01-01 to 2021-07-01: 7.5\n",
            "MAPE from 2021-07-01 to 2022-01-01: 2.8\n",
            "MAPE from 2022-01-01 to 2022-07-01: 35.4\n",
            "MAPE from 2022-07-01 to 2023-01-01: 28.2\n",
            "MAPE from 2023-01-01 to 2023-07-01: 13.4\n",
            "MAPE from 2023-07-01 to 2024-01-01: 16.2\n"
          ]
        }
      ],
      "source": [
        "mape_values = []\n",
        "for start, end in test_periods:\n",
        "    mape = calculate_mape_3(start, end, 0.4)\n",
        "    mape_values.append(mape)\n",
        "    print(f\"MAPE from {start} to {end}: {mape:.1f}\")"
      ]
    },
    {
      "cell_type": "code",
      "execution_count": null,
      "metadata": {
        "colab": {
          "base_uri": "https://localhost:8080/"
        },
        "id": "DDGnOl9ZH4EF",
        "outputId": "c4ed69d6-54ef-404b-8045-b530732854a6"
      },
      "outputs": [
        {
          "output_type": "stream",
          "name": "stdout",
          "text": [
            "Average MAPE: 13.2\n"
          ]
        }
      ],
      "source": [
        "average_mape = np.mean(mape_values)\n",
        "print(f\"Average MAPE: {average_mape:.1f}\")"
      ]
    },
    {
      "cell_type": "markdown",
      "metadata": {
        "id": "jVUvhWKHH4EF"
      },
      "source": [
        "### 6-month prediction"
      ]
    },
    {
      "cell_type": "code",
      "execution_count": null,
      "metadata": {
        "colab": {
          "base_uri": "https://localhost:8080/"
        },
        "id": "UJ7mOB2iH4EF",
        "outputId": "43b5092f-c960-4c9a-93f6-d4083ca7f9ea"
      },
      "outputs": [
        {
          "output_type": "stream",
          "name": "stdout",
          "text": [
            "MAPE from 2019-01-01 to 2019-07-01: 5.2\n",
            "MAPE from 2019-07-01 to 2020-01-01: 6.1\n",
            "MAPE from 2020-01-01 to 2020-07-01: 4.6\n",
            "MAPE from 2020-07-01 to 2021-01-01: 12.5\n",
            "MAPE from 2021-01-01 to 2021-07-01: 7.0\n",
            "MAPE from 2021-07-01 to 2022-01-01: 2.8\n",
            "MAPE from 2022-01-01 to 2022-07-01: 35.4\n",
            "MAPE from 2022-07-01 to 2023-01-01: 35.5\n",
            "MAPE from 2023-01-01 to 2023-07-01: 14.1\n",
            "MAPE from 2023-07-01 to 2024-01-01: 12.9\n"
          ]
        }
      ],
      "source": [
        "mape_values = []\n",
        "for start, end in test_periods:\n",
        "    mape = calculate_mape_6(start, end, 0.4)\n",
        "    mape_values.append(mape)\n",
        "    print(f\"MAPE from {start} to {end}: {mape:.1f}\")"
      ]
    },
    {
      "cell_type": "code",
      "execution_count": null,
      "metadata": {
        "colab": {
          "base_uri": "https://localhost:8080/"
        },
        "id": "kjqzz-i9H4EF",
        "outputId": "54c39ca7-0623-413b-b3fd-f9aa735cad5d"
      },
      "outputs": [
        {
          "output_type": "stream",
          "name": "stdout",
          "text": [
            "Average MAPE: 13.6\n"
          ]
        }
      ],
      "source": [
        "average_mape = np.mean(mape_values)\n",
        "print(f\"Average MAPE: {average_mape:.1f}\")"
      ]
    },
    {
      "cell_type": "markdown",
      "metadata": {
        "id": "QRBEty--EGpW"
      },
      "source": [
        "# Builder"
      ]
    },
    {
      "cell_type": "code",
      "execution_count": null,
      "metadata": {
        "colab": {
          "base_uri": "https://localhost:8080/"
        },
        "id": "YdSTU91fEGpX",
        "outputId": "4ee58b47-8759-4eec-bd57-5ce0a5427433"
      },
      "outputs": [
        {
          "output_type": "stream",
          "name": "stdout",
          "text": [
            "     RM20/0001  RM20/0015  RM20/0020  Year  Month       Time  \\\n",
            "14       False      False       True  2016      1 2016-01-31   \n",
            "15       False      False       True  2016      2 2016-02-29   \n",
            "16       False      False       True  2016      3 2016-03-31   \n",
            "17       False      False       True  2016      4 2016-04-30   \n",
            "18       False      False       True  2016      5 2016-05-31   \n",
            "..         ...        ...        ...   ...    ...        ...   \n",
            "323       True      False      False  2023      8 2023-08-25   \n",
            "324       True      False      False  2023      9 2023-09-30   \n",
            "325       True      False      False  2023     10 2023-10-31   \n",
            "326       True      False      False  2023     11 2023-11-30   \n",
            "327       True      False      False  2023     12 2023-12-29   \n",
            "\n",
            "    Group Description  Average_price  WPU01130232_1  PMAIZMTUSDM_1  ...  \\\n",
            "14            builder       0.725000        142.400     164.004402  ...   \n",
            "15            builder       0.806851        150.600     161.098877  ...   \n",
            "16            builder       0.761667        150.600     159.716845  ...   \n",
            "17            builder       0.663333        150.600     159.226532  ...   \n",
            "18            builder       0.640000        150.600     164.465402  ...   \n",
            "..                ...            ...            ...            ...  ...   \n",
            "323           builder       1.844731        122.242     235.271947  ...   \n",
            "324           builder       1.668692        116.042     207.675889  ...   \n",
            "325           builder       1.707587        116.484     223.847666  ...   \n",
            "326           builder       1.789516        128.222     221.902519  ...   \n",
            "327           builder       1.527896        131.765     209.040297  ...   \n",
            "\n",
            "         AR_3      AR_4      AR_5      AR_6      AR_7      AR_8      AR_9  \\\n",
            "14   0.815000  0.767500  0.777500  0.803750  0.735000  0.760000  0.790000   \n",
            "15   0.750000  0.815000  0.767500  0.777500  0.803750  0.735000  0.760000   \n",
            "16   0.880000  0.750000  0.815000  0.767500  0.777500  0.803750  0.735000   \n",
            "17   0.725000  0.880000  0.750000  0.815000  0.767500  0.777500  0.803750   \n",
            "18   0.806851  0.725000  0.880000  0.750000  0.815000  0.767500  0.777500   \n",
            "..        ...       ...       ...       ...       ...       ...       ...   \n",
            "323  1.894310  1.989148  2.567967  2.110606  2.076072  2.865824  2.174664   \n",
            "324  1.827170  1.894310  1.989148  2.567967  2.110606  2.076072  2.865824   \n",
            "325  1.754934  1.827170  1.894310  1.989148  2.567967  2.110606  2.076072   \n",
            "326  1.844731  1.754934  1.827170  1.894310  1.989148  2.567967  2.110606   \n",
            "327  1.668692  1.844731  1.754934  1.827170  1.894310  1.989148  2.567967   \n",
            "\n",
            "        AR_10     AR_11     AR_12  \n",
            "14   0.865000  0.800000  0.830000  \n",
            "15   0.790000  0.865000  0.800000  \n",
            "16   0.760000  0.790000  0.865000  \n",
            "17   0.735000  0.760000  0.790000  \n",
            "18   0.803750  0.735000  0.760000  \n",
            "..        ...       ...       ...  \n",
            "323  2.512190  2.332090  2.747803  \n",
            "324  2.174664  2.512190  2.332090  \n",
            "325  2.865824  2.174664  2.512190  \n",
            "326  2.076072  2.865824  2.174664  \n",
            "327  2.110606  2.076072  2.865824  \n",
            "\n",
            "[282 rows x 68 columns]\n"
          ]
        }
      ],
      "source": [
        "feature_df = pd.read_csv('/content/drive/MyDrive/Colab Notebooks/Thesis/dataframe/builder_feature.csv',index_col=0)\n",
        "feature_df['Time'] = pd.to_datetime(feature_df['Time'])\n",
        "print(feature_df)"
      ]
    },
    {
      "cell_type": "code",
      "execution_count": null,
      "metadata": {
        "colab": {
          "base_uri": "https://localhost:8080/"
        },
        "id": "5lpYLm3bEGpX",
        "outputId": "d6ac634e-7087-44af-ecec-0db6302d4dc6"
      },
      "outputs": [
        {
          "output_type": "stream",
          "name": "stdout",
          "text": [
            "<class 'pandas.core.frame.DataFrame'>\n",
            "Index: 94 entries, 232 to 327\n",
            "Data columns (total 68 columns):\n",
            " #   Column             Non-Null Count  Dtype         \n",
            "---  ------             --------------  -----         \n",
            " 0   RM20/0001          94 non-null     bool          \n",
            " 1   RM20/0015          94 non-null     bool          \n",
            " 2   RM20/0020          94 non-null     bool          \n",
            " 3   Year               94 non-null     int64         \n",
            " 4   Month              94 non-null     int64         \n",
            " 5   Time               94 non-null     datetime64[ns]\n",
            " 6   Group Description  94 non-null     object        \n",
            " 7   Average_price      94 non-null     float64       \n",
            " 8   WPU01130232_1      94 non-null     float64       \n",
            " 9   PMAIZMTUSDM_1      94 non-null     float64       \n",
            " 10  WPU07110224_1      94 non-null     float64       \n",
            " 11  WPU065202_1        94 non-null     float64       \n",
            " 12  WPU01130232_2      94 non-null     float64       \n",
            " 13  PMAIZMTUSDM_2      94 non-null     float64       \n",
            " 14  WPU07110224_2      94 non-null     float64       \n",
            " 15  WPU065202_2        94 non-null     float64       \n",
            " 16  WPU01130232_3      94 non-null     float64       \n",
            " 17  PMAIZMTUSDM_3      94 non-null     float64       \n",
            " 18  WPU07110224_3      94 non-null     float64       \n",
            " 19  WPU065202_3        94 non-null     float64       \n",
            " 20  WPU01130232_4      94 non-null     float64       \n",
            " 21  PMAIZMTUSDM_4      94 non-null     float64       \n",
            " 22  WPU07110224_4      94 non-null     float64       \n",
            " 23  WPU065202_4        94 non-null     float64       \n",
            " 24  WPU01130232_5      94 non-null     float64       \n",
            " 25  PMAIZMTUSDM_5      94 non-null     float64       \n",
            " 26  WPU07110224_5      94 non-null     float64       \n",
            " 27  WPU065202_5        94 non-null     float64       \n",
            " 28  WPU01130232_6      94 non-null     float64       \n",
            " 29  PMAIZMTUSDM_6      94 non-null     float64       \n",
            " 30  WPU07110224_6      94 non-null     float64       \n",
            " 31  WPU065202_6        94 non-null     float64       \n",
            " 32  WPU01130232_7      94 non-null     float64       \n",
            " 33  PMAIZMTUSDM_7      94 non-null     float64       \n",
            " 34  WPU07110224_7      94 non-null     float64       \n",
            " 35  WPU065202_7        94 non-null     float64       \n",
            " 36  WPU01130232_8      94 non-null     float64       \n",
            " 37  PMAIZMTUSDM_8      94 non-null     float64       \n",
            " 38  WPU07110224_8      94 non-null     float64       \n",
            " 39  WPU065202_8        94 non-null     float64       \n",
            " 40  WPU01130232_9      94 non-null     float64       \n",
            " 41  PMAIZMTUSDM_9      94 non-null     float64       \n",
            " 42  WPU07110224_9      94 non-null     float64       \n",
            " 43  WPU065202_9        94 non-null     float64       \n",
            " 44  WPU01130232_10     94 non-null     float64       \n",
            " 45  PMAIZMTUSDM_10     94 non-null     float64       \n",
            " 46  WPU07110224_10     94 non-null     float64       \n",
            " 47  WPU065202_10       94 non-null     float64       \n",
            " 48  WPU01130232_11     94 non-null     float64       \n",
            " 49  PMAIZMTUSDM_11     94 non-null     float64       \n",
            " 50  WPU07110224_11     94 non-null     float64       \n",
            " 51  WPU065202_11       94 non-null     float64       \n",
            " 52  WPU01130232_12     94 non-null     float64       \n",
            " 53  PMAIZMTUSDM_12     94 non-null     float64       \n",
            " 54  WPU07110224_12     94 non-null     float64       \n",
            " 55  WPU065202_12       94 non-null     float64       \n",
            " 56  AR_1               94 non-null     float64       \n",
            " 57  AR_2               94 non-null     float64       \n",
            " 58  AR_3               94 non-null     float64       \n",
            " 59  AR_4               94 non-null     float64       \n",
            " 60  AR_5               94 non-null     float64       \n",
            " 61  AR_6               94 non-null     float64       \n",
            " 62  AR_7               94 non-null     float64       \n",
            " 63  AR_8               94 non-null     float64       \n",
            " 64  AR_9               94 non-null     float64       \n",
            " 65  AR_10              94 non-null     float64       \n",
            " 66  AR_11              94 non-null     float64       \n",
            " 67  AR_12              94 non-null     float64       \n",
            "dtypes: bool(3), datetime64[ns](1), float64(61), int64(2), object(1)\n",
            "memory usage: 48.7+ KB\n",
            "None\n"
          ]
        }
      ],
      "source": [
        "df_0001 = feature_df[feature_df['RM20/0001'] == 1]\n",
        "print(df_0001.info())"
      ]
    },
    {
      "cell_type": "code",
      "execution_count": null,
      "metadata": {
        "colab": {
          "base_uri": "https://localhost:8080/"
        },
        "id": "gbYCq9xGEGpX",
        "outputId": "7d4ab1e0-0664-458b-a21b-8e576f38be85"
      },
      "outputs": [
        {
          "output_type": "stream",
          "name": "stdout",
          "text": [
            "<class 'pandas.core.frame.DataFrame'>\n",
            "Index: 93 entries, 122 to 217\n",
            "Data columns (total 68 columns):\n",
            " #   Column             Non-Null Count  Dtype         \n",
            "---  ------             --------------  -----         \n",
            " 0   RM20/0001          93 non-null     bool          \n",
            " 1   RM20/0015          93 non-null     bool          \n",
            " 2   RM20/0020          93 non-null     bool          \n",
            " 3   Year               93 non-null     int64         \n",
            " 4   Month              93 non-null     int64         \n",
            " 5   Time               93 non-null     datetime64[ns]\n",
            " 6   Group Description  93 non-null     object        \n",
            " 7   Average_price      93 non-null     float64       \n",
            " 8   WPU01130232_1      93 non-null     float64       \n",
            " 9   PMAIZMTUSDM_1      93 non-null     float64       \n",
            " 10  WPU07110224_1      93 non-null     float64       \n",
            " 11  WPU065202_1        93 non-null     float64       \n",
            " 12  WPU01130232_2      93 non-null     float64       \n",
            " 13  PMAIZMTUSDM_2      93 non-null     float64       \n",
            " 14  WPU07110224_2      93 non-null     float64       \n",
            " 15  WPU065202_2        93 non-null     float64       \n",
            " 16  WPU01130232_3      93 non-null     float64       \n",
            " 17  PMAIZMTUSDM_3      93 non-null     float64       \n",
            " 18  WPU07110224_3      93 non-null     float64       \n",
            " 19  WPU065202_3        93 non-null     float64       \n",
            " 20  WPU01130232_4      93 non-null     float64       \n",
            " 21  PMAIZMTUSDM_4      93 non-null     float64       \n",
            " 22  WPU07110224_4      93 non-null     float64       \n",
            " 23  WPU065202_4        93 non-null     float64       \n",
            " 24  WPU01130232_5      93 non-null     float64       \n",
            " 25  PMAIZMTUSDM_5      93 non-null     float64       \n",
            " 26  WPU07110224_5      93 non-null     float64       \n",
            " 27  WPU065202_5        93 non-null     float64       \n",
            " 28  WPU01130232_6      93 non-null     float64       \n",
            " 29  PMAIZMTUSDM_6      93 non-null     float64       \n",
            " 30  WPU07110224_6      93 non-null     float64       \n",
            " 31  WPU065202_6        93 non-null     float64       \n",
            " 32  WPU01130232_7      93 non-null     float64       \n",
            " 33  PMAIZMTUSDM_7      93 non-null     float64       \n",
            " 34  WPU07110224_7      93 non-null     float64       \n",
            " 35  WPU065202_7        93 non-null     float64       \n",
            " 36  WPU01130232_8      93 non-null     float64       \n",
            " 37  PMAIZMTUSDM_8      93 non-null     float64       \n",
            " 38  WPU07110224_8      93 non-null     float64       \n",
            " 39  WPU065202_8        93 non-null     float64       \n",
            " 40  WPU01130232_9      93 non-null     float64       \n",
            " 41  PMAIZMTUSDM_9      93 non-null     float64       \n",
            " 42  WPU07110224_9      93 non-null     float64       \n",
            " 43  WPU065202_9        93 non-null     float64       \n",
            " 44  WPU01130232_10     93 non-null     float64       \n",
            " 45  PMAIZMTUSDM_10     93 non-null     float64       \n",
            " 46  WPU07110224_10     93 non-null     float64       \n",
            " 47  WPU065202_10       93 non-null     float64       \n",
            " 48  WPU01130232_11     93 non-null     float64       \n",
            " 49  PMAIZMTUSDM_11     93 non-null     float64       \n",
            " 50  WPU07110224_11     93 non-null     float64       \n",
            " 51  WPU065202_11       93 non-null     float64       \n",
            " 52  WPU01130232_12     93 non-null     float64       \n",
            " 53  PMAIZMTUSDM_12     93 non-null     float64       \n",
            " 54  WPU07110224_12     93 non-null     float64       \n",
            " 55  WPU065202_12       93 non-null     float64       \n",
            " 56  AR_1               93 non-null     float64       \n",
            " 57  AR_2               93 non-null     float64       \n",
            " 58  AR_3               93 non-null     float64       \n",
            " 59  AR_4               93 non-null     float64       \n",
            " 60  AR_5               93 non-null     float64       \n",
            " 61  AR_6               93 non-null     float64       \n",
            " 62  AR_7               93 non-null     float64       \n",
            " 63  AR_8               93 non-null     float64       \n",
            " 64  AR_9               93 non-null     float64       \n",
            " 65  AR_10              93 non-null     float64       \n",
            " 66  AR_11              93 non-null     float64       \n",
            " 67  AR_12              93 non-null     float64       \n",
            "dtypes: bool(3), datetime64[ns](1), float64(61), int64(2), object(1)\n",
            "memory usage: 48.2+ KB\n",
            "None\n"
          ]
        }
      ],
      "source": [
        "df_0015 = feature_df[feature_df['RM20/0015'] == 1]\n",
        "print(df_0015.info())"
      ]
    },
    {
      "cell_type": "code",
      "execution_count": null,
      "metadata": {
        "colab": {
          "base_uri": "https://localhost:8080/"
        },
        "id": "xT3scmQsKGIA",
        "outputId": "5c403277-9970-4592-ff3d-7bc0fa575390"
      },
      "outputs": [
        {
          "output_type": "stream",
          "name": "stdout",
          "text": [
            "<class 'pandas.core.frame.DataFrame'>\n",
            "Index: 95 entries, 14 to 109\n",
            "Data columns (total 68 columns):\n",
            " #   Column             Non-Null Count  Dtype         \n",
            "---  ------             --------------  -----         \n",
            " 0   RM20/0001          95 non-null     bool          \n",
            " 1   RM20/0015          95 non-null     bool          \n",
            " 2   RM20/0020          95 non-null     bool          \n",
            " 3   Year               95 non-null     int64         \n",
            " 4   Month              95 non-null     int64         \n",
            " 5   Time               95 non-null     datetime64[ns]\n",
            " 6   Group Description  95 non-null     object        \n",
            " 7   Average_price      95 non-null     float64       \n",
            " 8   WPU01130232_1      95 non-null     float64       \n",
            " 9   PMAIZMTUSDM_1      95 non-null     float64       \n",
            " 10  WPU07110224_1      95 non-null     float64       \n",
            " 11  WPU065202_1        95 non-null     float64       \n",
            " 12  WPU01130232_2      95 non-null     float64       \n",
            " 13  PMAIZMTUSDM_2      95 non-null     float64       \n",
            " 14  WPU07110224_2      95 non-null     float64       \n",
            " 15  WPU065202_2        95 non-null     float64       \n",
            " 16  WPU01130232_3      95 non-null     float64       \n",
            " 17  PMAIZMTUSDM_3      95 non-null     float64       \n",
            " 18  WPU07110224_3      95 non-null     float64       \n",
            " 19  WPU065202_3        95 non-null     float64       \n",
            " 20  WPU01130232_4      95 non-null     float64       \n",
            " 21  PMAIZMTUSDM_4      95 non-null     float64       \n",
            " 22  WPU07110224_4      95 non-null     float64       \n",
            " 23  WPU065202_4        95 non-null     float64       \n",
            " 24  WPU01130232_5      95 non-null     float64       \n",
            " 25  PMAIZMTUSDM_5      95 non-null     float64       \n",
            " 26  WPU07110224_5      95 non-null     float64       \n",
            " 27  WPU065202_5        95 non-null     float64       \n",
            " 28  WPU01130232_6      95 non-null     float64       \n",
            " 29  PMAIZMTUSDM_6      95 non-null     float64       \n",
            " 30  WPU07110224_6      95 non-null     float64       \n",
            " 31  WPU065202_6        95 non-null     float64       \n",
            " 32  WPU01130232_7      95 non-null     float64       \n",
            " 33  PMAIZMTUSDM_7      95 non-null     float64       \n",
            " 34  WPU07110224_7      95 non-null     float64       \n",
            " 35  WPU065202_7        95 non-null     float64       \n",
            " 36  WPU01130232_8      95 non-null     float64       \n",
            " 37  PMAIZMTUSDM_8      95 non-null     float64       \n",
            " 38  WPU07110224_8      95 non-null     float64       \n",
            " 39  WPU065202_8        95 non-null     float64       \n",
            " 40  WPU01130232_9      95 non-null     float64       \n",
            " 41  PMAIZMTUSDM_9      95 non-null     float64       \n",
            " 42  WPU07110224_9      95 non-null     float64       \n",
            " 43  WPU065202_9        95 non-null     float64       \n",
            " 44  WPU01130232_10     95 non-null     float64       \n",
            " 45  PMAIZMTUSDM_10     95 non-null     float64       \n",
            " 46  WPU07110224_10     95 non-null     float64       \n",
            " 47  WPU065202_10       95 non-null     float64       \n",
            " 48  WPU01130232_11     95 non-null     float64       \n",
            " 49  PMAIZMTUSDM_11     95 non-null     float64       \n",
            " 50  WPU07110224_11     95 non-null     float64       \n",
            " 51  WPU065202_11       95 non-null     float64       \n",
            " 52  WPU01130232_12     95 non-null     float64       \n",
            " 53  PMAIZMTUSDM_12     95 non-null     float64       \n",
            " 54  WPU07110224_12     95 non-null     float64       \n",
            " 55  WPU065202_12       95 non-null     float64       \n",
            " 56  AR_1               95 non-null     float64       \n",
            " 57  AR_2               95 non-null     float64       \n",
            " 58  AR_3               95 non-null     float64       \n",
            " 59  AR_4               95 non-null     float64       \n",
            " 60  AR_5               95 non-null     float64       \n",
            " 61  AR_6               95 non-null     float64       \n",
            " 62  AR_7               95 non-null     float64       \n",
            " 63  AR_8               95 non-null     float64       \n",
            " 64  AR_9               95 non-null     float64       \n",
            " 65  AR_10              95 non-null     float64       \n",
            " 66  AR_11              95 non-null     float64       \n",
            " 67  AR_12              95 non-null     float64       \n",
            "dtypes: bool(3), datetime64[ns](1), float64(61), int64(2), object(1)\n",
            "memory usage: 49.3+ KB\n",
            "None\n"
          ]
        }
      ],
      "source": [
        "df_0020 = feature_df[feature_df['RM20/0020'] == 1]\n",
        "print(df_0020.info())"
      ]
    },
    {
      "cell_type": "markdown",
      "metadata": {
        "id": "ZnHzKVUeEGpY"
      },
      "source": [
        "## 0001"
      ]
    },
    {
      "cell_type": "code",
      "execution_count": null,
      "metadata": {
        "id": "DjxbgQV3EGpY"
      },
      "outputs": [],
      "source": [
        "feature_df = df_0001"
      ]
    },
    {
      "cell_type": "code",
      "execution_count": null,
      "metadata": {
        "id": "6OJT-2SvJyYJ",
        "colab": {
          "base_uri": "https://localhost:8080/"
        },
        "outputId": "1ca8ce01-6c67-4b79-d243-aa76074aa259"
      },
      "outputs": [
        {
          "output_type": "stream",
          "name": "stdout",
          "text": [
            "<class 'pandas.core.frame.DataFrame'>\n",
            "Index: 94 entries, 232 to 327\n",
            "Data columns (total 65 columns):\n",
            " #   Column             Non-Null Count  Dtype         \n",
            "---  ------             --------------  -----         \n",
            " 0   Year               94 non-null     int64         \n",
            " 1   Month              94 non-null     int64         \n",
            " 2   Time               94 non-null     datetime64[ns]\n",
            " 3   Group Description  94 non-null     object        \n",
            " 4   Average_price      94 non-null     float64       \n",
            " 5   WPU01130232_1      94 non-null     float64       \n",
            " 6   PMAIZMTUSDM_1      94 non-null     float64       \n",
            " 7   WPU07110224_1      94 non-null     float64       \n",
            " 8   WPU065202_1        94 non-null     float64       \n",
            " 9   WPU01130232_2      94 non-null     float64       \n",
            " 10  PMAIZMTUSDM_2      94 non-null     float64       \n",
            " 11  WPU07110224_2      94 non-null     float64       \n",
            " 12  WPU065202_2        94 non-null     float64       \n",
            " 13  WPU01130232_3      94 non-null     float64       \n",
            " 14  PMAIZMTUSDM_3      94 non-null     float64       \n",
            " 15  WPU07110224_3      94 non-null     float64       \n",
            " 16  WPU065202_3        94 non-null     float64       \n",
            " 17  WPU01130232_4      94 non-null     float64       \n",
            " 18  PMAIZMTUSDM_4      94 non-null     float64       \n",
            " 19  WPU07110224_4      94 non-null     float64       \n",
            " 20  WPU065202_4        94 non-null     float64       \n",
            " 21  WPU01130232_5      94 non-null     float64       \n",
            " 22  PMAIZMTUSDM_5      94 non-null     float64       \n",
            " 23  WPU07110224_5      94 non-null     float64       \n",
            " 24  WPU065202_5        94 non-null     float64       \n",
            " 25  WPU01130232_6      94 non-null     float64       \n",
            " 26  PMAIZMTUSDM_6      94 non-null     float64       \n",
            " 27  WPU07110224_6      94 non-null     float64       \n",
            " 28  WPU065202_6        94 non-null     float64       \n",
            " 29  WPU01130232_7      94 non-null     float64       \n",
            " 30  PMAIZMTUSDM_7      94 non-null     float64       \n",
            " 31  WPU07110224_7      94 non-null     float64       \n",
            " 32  WPU065202_7        94 non-null     float64       \n",
            " 33  WPU01130232_8      94 non-null     float64       \n",
            " 34  PMAIZMTUSDM_8      94 non-null     float64       \n",
            " 35  WPU07110224_8      94 non-null     float64       \n",
            " 36  WPU065202_8        94 non-null     float64       \n",
            " 37  WPU01130232_9      94 non-null     float64       \n",
            " 38  PMAIZMTUSDM_9      94 non-null     float64       \n",
            " 39  WPU07110224_9      94 non-null     float64       \n",
            " 40  WPU065202_9        94 non-null     float64       \n",
            " 41  WPU01130232_10     94 non-null     float64       \n",
            " 42  PMAIZMTUSDM_10     94 non-null     float64       \n",
            " 43  WPU07110224_10     94 non-null     float64       \n",
            " 44  WPU065202_10       94 non-null     float64       \n",
            " 45  WPU01130232_11     94 non-null     float64       \n",
            " 46  PMAIZMTUSDM_11     94 non-null     float64       \n",
            " 47  WPU07110224_11     94 non-null     float64       \n",
            " 48  WPU065202_11       94 non-null     float64       \n",
            " 49  WPU01130232_12     94 non-null     float64       \n",
            " 50  PMAIZMTUSDM_12     94 non-null     float64       \n",
            " 51  WPU07110224_12     94 non-null     float64       \n",
            " 52  WPU065202_12       94 non-null     float64       \n",
            " 53  AR_1               94 non-null     float64       \n",
            " 54  AR_2               94 non-null     float64       \n",
            " 55  AR_3               94 non-null     float64       \n",
            " 56  AR_4               94 non-null     float64       \n",
            " 57  AR_5               94 non-null     float64       \n",
            " 58  AR_6               94 non-null     float64       \n",
            " 59  AR_7               94 non-null     float64       \n",
            " 60  AR_8               94 non-null     float64       \n",
            " 61  AR_9               94 non-null     float64       \n",
            " 62  AR_10              94 non-null     float64       \n",
            " 63  AR_11              94 non-null     float64       \n",
            " 64  AR_12              94 non-null     float64       \n",
            "dtypes: datetime64[ns](1), float64(61), int64(2), object(1)\n",
            "memory usage: 48.5+ KB\n",
            "None\n"
          ]
        }
      ],
      "source": [
        "columns_to_drop = [column for column in feature_df.columns if 'RM' in column]\n",
        "feature_df = feature_df.drop(columns=columns_to_drop)\n",
        "print(feature_df.info())"
      ]
    },
    {
      "cell_type": "markdown",
      "metadata": {
        "id": "97vtSBcHEGpY"
      },
      "source": [
        "### 1-month prediction"
      ]
    },
    {
      "cell_type": "code",
      "execution_count": null,
      "metadata": {
        "id": "xrlQmT7-EGpY",
        "colab": {
          "base_uri": "https://localhost:8080/"
        },
        "outputId": "dd2ad6b4-ba86-451f-a2e5-a13cabe1e045"
      },
      "outputs": [
        {
          "output_type": "stream",
          "name": "stdout",
          "text": [
            "MAPE from 2019-01-01 to 2019-07-01: 9.7\n",
            "MAPE from 2019-07-01 to 2020-01-01: 11.0\n",
            "MAPE from 2020-01-01 to 2020-07-01: 7.0\n",
            "MAPE from 2020-07-01 to 2021-01-01: 7.6\n",
            "MAPE from 2021-01-01 to 2021-07-01: 6.4\n",
            "MAPE from 2021-07-01 to 2022-01-01: 19.3\n",
            "MAPE from 2022-01-01 to 2022-07-01: 32.7\n",
            "MAPE from 2022-07-01 to 2023-01-01: 8.8\n",
            "MAPE from 2023-01-01 to 2023-07-01: 30.2\n",
            "MAPE from 2023-07-01 to 2024-01-01: 6.1\n"
          ]
        }
      ],
      "source": [
        "mape_values = []\n",
        "for start, end in test_periods:\n",
        "    mape = calculate_mape_1(start, end, 0.2)\n",
        "    mape_values.append(mape)\n",
        "    print(f\"MAPE from {start} to {end}: {mape:.1f}\")"
      ]
    },
    {
      "cell_type": "code",
      "execution_count": null,
      "metadata": {
        "id": "L4N17GrOEGpY",
        "colab": {
          "base_uri": "https://localhost:8080/"
        },
        "outputId": "850c7c5d-f7f0-4b60-de18-9b953e737fb3"
      },
      "outputs": [
        {
          "output_type": "stream",
          "name": "stdout",
          "text": [
            "Average MAPE: 13.9\n"
          ]
        }
      ],
      "source": [
        "average_mape = np.mean(mape_values)\n",
        "print(f\"Average MAPE: {average_mape:.1f}\")"
      ]
    },
    {
      "cell_type": "markdown",
      "metadata": {
        "id": "wLfuQWemEGpY"
      },
      "source": [
        "### 3-month prediction\n"
      ]
    },
    {
      "cell_type": "code",
      "execution_count": null,
      "metadata": {
        "id": "aDviQjixEGpY",
        "colab": {
          "base_uri": "https://localhost:8080/"
        },
        "outputId": "38b0a328-ae70-4cf0-ec15-c0d59cf5dd9b"
      },
      "outputs": [
        {
          "output_type": "stream",
          "name": "stdout",
          "text": [
            "MAPE from 2019-01-01 to 2019-07-01: 11.8\n",
            "MAPE from 2019-07-01 to 2020-01-01: 13.2\n",
            "MAPE from 2020-01-01 to 2020-07-01: 7.8\n",
            "MAPE from 2020-07-01 to 2021-01-01: 6.8\n",
            "MAPE from 2021-01-01 to 2021-07-01: 4.9\n",
            "MAPE from 2021-07-01 to 2022-01-01: 25.4\n",
            "MAPE from 2022-01-01 to 2022-07-01: 54.7\n",
            "MAPE from 2022-07-01 to 2023-01-01: 13.7\n",
            "MAPE from 2023-01-01 to 2023-07-01: 30.0\n",
            "MAPE from 2023-07-01 to 2024-01-01: 6.8\n"
          ]
        }
      ],
      "source": [
        "mape_values = []\n",
        "for start, end in test_periods:\n",
        "    mape = calculate_mape_3(start, end, 0.4)\n",
        "    mape_values.append(mape)\n",
        "    print(f\"MAPE from {start} to {end}: {mape:.1f}\")"
      ]
    },
    {
      "cell_type": "code",
      "execution_count": null,
      "metadata": {
        "id": "fxJGGgXQEGpY",
        "colab": {
          "base_uri": "https://localhost:8080/"
        },
        "outputId": "a5e9bad9-e6e4-4c5a-eb46-493991d0a320"
      },
      "outputs": [
        {
          "output_type": "stream",
          "name": "stdout",
          "text": [
            "Average MAPE: 17.5\n"
          ]
        }
      ],
      "source": [
        "average_mape = np.mean(mape_values)\n",
        "print(f\"Average MAPE: {average_mape:.1f}\")"
      ]
    },
    {
      "cell_type": "markdown",
      "metadata": {
        "id": "F2zMQr8vEGpZ"
      },
      "source": [
        "### 6-month prediction"
      ]
    },
    {
      "cell_type": "code",
      "execution_count": null,
      "metadata": {
        "id": "j7VZr8xrEGpZ",
        "colab": {
          "base_uri": "https://localhost:8080/"
        },
        "outputId": "833d9a22-2942-410d-efb3-ae62ce306c26"
      },
      "outputs": [
        {
          "output_type": "stream",
          "name": "stdout",
          "text": [
            "MAPE from 2019-01-01 to 2019-07-01: 12.9\n",
            "MAPE from 2019-07-01 to 2020-01-01: 9.6\n",
            "MAPE from 2020-01-01 to 2020-07-01: 11.0\n",
            "MAPE from 2020-07-01 to 2021-01-01: 7.3\n",
            "MAPE from 2021-01-01 to 2021-07-01: 5.6\n",
            "MAPE from 2021-07-01 to 2022-01-01: 27.2\n",
            "MAPE from 2022-01-01 to 2022-07-01: 58.3\n",
            "MAPE from 2022-07-01 to 2023-01-01: 13.8\n",
            "MAPE from 2023-01-01 to 2023-07-01: 37.4\n",
            "MAPE from 2023-07-01 to 2024-01-01: 9.8\n"
          ]
        }
      ],
      "source": [
        "mape_values = []\n",
        "for start, end in test_periods:\n",
        "    mape = calculate_mape_6(start, end, 0.4)\n",
        "    mape_values.append(mape)\n",
        "    print(f\"MAPE from {start} to {end}: {mape:.1f}\")"
      ]
    },
    {
      "cell_type": "code",
      "execution_count": null,
      "metadata": {
        "id": "7AJFCBYkEGpZ",
        "colab": {
          "base_uri": "https://localhost:8080/"
        },
        "outputId": "3cb70f4c-bb6d-44d3-c03f-20cdde7388f5"
      },
      "outputs": [
        {
          "output_type": "stream",
          "name": "stdout",
          "text": [
            "Average MAPE: 19.3\n"
          ]
        }
      ],
      "source": [
        "average_mape = np.mean(mape_values)\n",
        "print(f\"Average MAPE: {average_mape:.1f}\")"
      ]
    },
    {
      "cell_type": "markdown",
      "metadata": {
        "id": "3LArTY0cKNQ9"
      },
      "source": [
        "## 0015"
      ]
    },
    {
      "cell_type": "code",
      "execution_count": null,
      "metadata": {
        "id": "cpS6BkwnKNQ9"
      },
      "outputs": [],
      "source": [
        "feature_df = df_0015"
      ]
    },
    {
      "cell_type": "code",
      "execution_count": null,
      "metadata": {
        "id": "veuK3U27Jy0R",
        "colab": {
          "base_uri": "https://localhost:8080/"
        },
        "outputId": "5a1cb6c8-7451-407c-c8c8-8ce136513ac7"
      },
      "outputs": [
        {
          "output_type": "stream",
          "name": "stdout",
          "text": [
            "<class 'pandas.core.frame.DataFrame'>\n",
            "Index: 93 entries, 122 to 217\n",
            "Data columns (total 65 columns):\n",
            " #   Column             Non-Null Count  Dtype         \n",
            "---  ------             --------------  -----         \n",
            " 0   Year               93 non-null     int64         \n",
            " 1   Month              93 non-null     int64         \n",
            " 2   Time               93 non-null     datetime64[ns]\n",
            " 3   Group Description  93 non-null     object        \n",
            " 4   Average_price      93 non-null     float64       \n",
            " 5   WPU01130232_1      93 non-null     float64       \n",
            " 6   PMAIZMTUSDM_1      93 non-null     float64       \n",
            " 7   WPU07110224_1      93 non-null     float64       \n",
            " 8   WPU065202_1        93 non-null     float64       \n",
            " 9   WPU01130232_2      93 non-null     float64       \n",
            " 10  PMAIZMTUSDM_2      93 non-null     float64       \n",
            " 11  WPU07110224_2      93 non-null     float64       \n",
            " 12  WPU065202_2        93 non-null     float64       \n",
            " 13  WPU01130232_3      93 non-null     float64       \n",
            " 14  PMAIZMTUSDM_3      93 non-null     float64       \n",
            " 15  WPU07110224_3      93 non-null     float64       \n",
            " 16  WPU065202_3        93 non-null     float64       \n",
            " 17  WPU01130232_4      93 non-null     float64       \n",
            " 18  PMAIZMTUSDM_4      93 non-null     float64       \n",
            " 19  WPU07110224_4      93 non-null     float64       \n",
            " 20  WPU065202_4        93 non-null     float64       \n",
            " 21  WPU01130232_5      93 non-null     float64       \n",
            " 22  PMAIZMTUSDM_5      93 non-null     float64       \n",
            " 23  WPU07110224_5      93 non-null     float64       \n",
            " 24  WPU065202_5        93 non-null     float64       \n",
            " 25  WPU01130232_6      93 non-null     float64       \n",
            " 26  PMAIZMTUSDM_6      93 non-null     float64       \n",
            " 27  WPU07110224_6      93 non-null     float64       \n",
            " 28  WPU065202_6        93 non-null     float64       \n",
            " 29  WPU01130232_7      93 non-null     float64       \n",
            " 30  PMAIZMTUSDM_7      93 non-null     float64       \n",
            " 31  WPU07110224_7      93 non-null     float64       \n",
            " 32  WPU065202_7        93 non-null     float64       \n",
            " 33  WPU01130232_8      93 non-null     float64       \n",
            " 34  PMAIZMTUSDM_8      93 non-null     float64       \n",
            " 35  WPU07110224_8      93 non-null     float64       \n",
            " 36  WPU065202_8        93 non-null     float64       \n",
            " 37  WPU01130232_9      93 non-null     float64       \n",
            " 38  PMAIZMTUSDM_9      93 non-null     float64       \n",
            " 39  WPU07110224_9      93 non-null     float64       \n",
            " 40  WPU065202_9        93 non-null     float64       \n",
            " 41  WPU01130232_10     93 non-null     float64       \n",
            " 42  PMAIZMTUSDM_10     93 non-null     float64       \n",
            " 43  WPU07110224_10     93 non-null     float64       \n",
            " 44  WPU065202_10       93 non-null     float64       \n",
            " 45  WPU01130232_11     93 non-null     float64       \n",
            " 46  PMAIZMTUSDM_11     93 non-null     float64       \n",
            " 47  WPU07110224_11     93 non-null     float64       \n",
            " 48  WPU065202_11       93 non-null     float64       \n",
            " 49  WPU01130232_12     93 non-null     float64       \n",
            " 50  PMAIZMTUSDM_12     93 non-null     float64       \n",
            " 51  WPU07110224_12     93 non-null     float64       \n",
            " 52  WPU065202_12       93 non-null     float64       \n",
            " 53  AR_1               93 non-null     float64       \n",
            " 54  AR_2               93 non-null     float64       \n",
            " 55  AR_3               93 non-null     float64       \n",
            " 56  AR_4               93 non-null     float64       \n",
            " 57  AR_5               93 non-null     float64       \n",
            " 58  AR_6               93 non-null     float64       \n",
            " 59  AR_7               93 non-null     float64       \n",
            " 60  AR_8               93 non-null     float64       \n",
            " 61  AR_9               93 non-null     float64       \n",
            " 62  AR_10              93 non-null     float64       \n",
            " 63  AR_11              93 non-null     float64       \n",
            " 64  AR_12              93 non-null     float64       \n",
            "dtypes: datetime64[ns](1), float64(61), int64(2), object(1)\n",
            "memory usage: 48.0+ KB\n",
            "None\n"
          ]
        }
      ],
      "source": [
        "columns_to_drop = [column for column in feature_df.columns if 'RM' in column]\n",
        "feature_df = feature_df.drop(columns=columns_to_drop)\n",
        "print(feature_df.info())"
      ]
    },
    {
      "cell_type": "markdown",
      "metadata": {
        "id": "htgs34KJKNQ9"
      },
      "source": [
        "### 1-month prediction"
      ]
    },
    {
      "cell_type": "code",
      "execution_count": null,
      "metadata": {
        "id": "3viWLfSTKNQ9",
        "colab": {
          "base_uri": "https://localhost:8080/"
        },
        "outputId": "e91af8ae-b7fa-4cac-f05b-8462582b886b"
      },
      "outputs": [
        {
          "output_type": "stream",
          "name": "stdout",
          "text": [
            "MAPE from 2019-01-01 to 2019-07-01: 5.1\n",
            "MAPE from 2019-07-01 to 2020-01-01: 6.0\n",
            "MAPE from 2020-01-01 to 2020-07-01: 15.7\n",
            "MAPE from 2020-07-01 to 2021-01-01: 3.5\n",
            "MAPE from 2021-01-01 to 2021-07-01: 9.1\n",
            "MAPE from 2021-07-01 to 2022-01-01: 10.7\n",
            "MAPE from 2022-01-01 to 2022-07-01: 24.9\n",
            "MAPE from 2022-07-01 to 2023-01-01: 29.6\n",
            "MAPE from 2023-01-01 to 2023-07-01: 10.5\n",
            "MAPE from 2023-07-01 to 2024-01-01: 6.0\n"
          ]
        }
      ],
      "source": [
        "mape_values = []\n",
        "for start, end in test_periods:\n",
        "    mape = calculate_mape_1(start, end, 0.3)\n",
        "    mape_values.append(mape)\n",
        "    print(f\"MAPE from {start} to {end}: {mape:.1f}\")"
      ]
    },
    {
      "cell_type": "code",
      "execution_count": null,
      "metadata": {
        "id": "0Iub4LnmKNQ-",
        "colab": {
          "base_uri": "https://localhost:8080/"
        },
        "outputId": "d73af827-ac02-4cc1-e642-29e16e0dd833"
      },
      "outputs": [
        {
          "output_type": "stream",
          "name": "stdout",
          "text": [
            "Average MAPE: 12.1\n"
          ]
        }
      ],
      "source": [
        "average_mape = np.mean(mape_values)\n",
        "print(f\"Average MAPE: {average_mape:.1f}\")"
      ]
    },
    {
      "cell_type": "markdown",
      "metadata": {
        "id": "sSusZDzWKNQ-"
      },
      "source": [
        "### 3-month prediction\n"
      ]
    },
    {
      "cell_type": "code",
      "execution_count": null,
      "metadata": {
        "id": "1beG57rlKNQ-",
        "colab": {
          "base_uri": "https://localhost:8080/"
        },
        "outputId": "89dbf1fc-42e0-406a-8d04-91f0611638ae"
      },
      "outputs": [
        {
          "output_type": "stream",
          "name": "stdout",
          "text": [
            "MAPE from 2019-01-01 to 2019-07-01: 5.1\n",
            "MAPE from 2019-07-01 to 2020-01-01: 6.0\n",
            "MAPE from 2020-01-01 to 2020-07-01: 15.7\n",
            "MAPE from 2020-07-01 to 2021-01-01: 3.5\n",
            "MAPE from 2021-01-01 to 2021-07-01: 9.1\n",
            "MAPE from 2021-07-01 to 2022-01-01: 10.7\n",
            "MAPE from 2022-01-01 to 2022-07-01: 25.3\n",
            "MAPE from 2022-07-01 to 2023-01-01: 28.4\n",
            "MAPE from 2023-01-01 to 2023-07-01: 8.3\n",
            "MAPE from 2023-07-01 to 2024-01-01: 6.1\n"
          ]
        }
      ],
      "source": [
        "mape_values = []\n",
        "for start, end in test_periods:\n",
        "    mape = calculate_mape_3(start, end, 0.3)\n",
        "    mape_values.append(mape)\n",
        "    print(f\"MAPE from {start} to {end}: {mape:.1f}\")"
      ]
    },
    {
      "cell_type": "code",
      "execution_count": null,
      "metadata": {
        "id": "PqQYDHRVKNQ-",
        "colab": {
          "base_uri": "https://localhost:8080/"
        },
        "outputId": "27661953-23ad-4263-8112-70b8d6c4f25b"
      },
      "outputs": [
        {
          "output_type": "stream",
          "name": "stdout",
          "text": [
            "Average MAPE: 11.8\n"
          ]
        }
      ],
      "source": [
        "average_mape = np.mean(mape_values)\n",
        "print(f\"Average MAPE: {average_mape:.1f}\")"
      ]
    },
    {
      "cell_type": "markdown",
      "metadata": {
        "id": "wAldZYRtKNQ-"
      },
      "source": [
        "### 6-month prediction"
      ]
    },
    {
      "cell_type": "code",
      "execution_count": null,
      "metadata": {
        "id": "ysrzjTF7KNQ-",
        "colab": {
          "base_uri": "https://localhost:8080/"
        },
        "outputId": "415ee5f0-a8ac-4152-b56f-5b7403c79e82"
      },
      "outputs": [
        {
          "output_type": "stream",
          "name": "stdout",
          "text": [
            "MAPE from 2019-01-01 to 2019-07-01: 5.1\n",
            "MAPE from 2019-07-01 to 2020-01-01: 6.0\n",
            "MAPE from 2020-01-01 to 2020-07-01: 15.7\n",
            "MAPE from 2020-07-01 to 2021-01-01: 3.5\n",
            "MAPE from 2021-01-01 to 2021-07-01: 9.1\n",
            "MAPE from 2021-07-01 to 2022-01-01: 10.7\n",
            "MAPE from 2022-01-01 to 2022-07-01: 26.3\n",
            "MAPE from 2022-07-01 to 2023-01-01: 29.1\n",
            "MAPE from 2023-01-01 to 2023-07-01: 7.7\n",
            "MAPE from 2023-07-01 to 2024-01-01: 7.0\n"
          ]
        }
      ],
      "source": [
        "mape_values = []\n",
        "for start, end in test_periods:\n",
        "    mape = calculate_mape_6(start, end, 0.2)\n",
        "    mape_values.append(mape)\n",
        "    print(f\"MAPE from {start} to {end}: {mape:.1f}\")"
      ]
    },
    {
      "cell_type": "code",
      "execution_count": null,
      "metadata": {
        "id": "oJpgg-VoKNQ-",
        "colab": {
          "base_uri": "https://localhost:8080/"
        },
        "outputId": "827057aa-a04f-47fd-e433-7ff9018b32ed"
      },
      "outputs": [
        {
          "output_type": "stream",
          "name": "stdout",
          "text": [
            "Average MAPE: 12.0\n"
          ]
        }
      ],
      "source": [
        "average_mape = np.mean(mape_values)\n",
        "print(f\"Average MAPE: {average_mape:.1f}\")"
      ]
    },
    {
      "cell_type": "markdown",
      "metadata": {
        "id": "ZLyiGPK0KNwx"
      },
      "source": [
        "## 0020"
      ]
    },
    {
      "cell_type": "code",
      "execution_count": null,
      "metadata": {
        "id": "KaCUUqLfKNwy"
      },
      "outputs": [],
      "source": [
        "feature_df = df_0020"
      ]
    },
    {
      "cell_type": "code",
      "execution_count": null,
      "metadata": {
        "id": "En2LL0Y5J2pV",
        "colab": {
          "base_uri": "https://localhost:8080/"
        },
        "outputId": "c41ead9a-df85-442c-cdc2-60d83f1d6b7a"
      },
      "outputs": [
        {
          "output_type": "stream",
          "name": "stdout",
          "text": [
            "<class 'pandas.core.frame.DataFrame'>\n",
            "Index: 95 entries, 14 to 109\n",
            "Data columns (total 65 columns):\n",
            " #   Column             Non-Null Count  Dtype         \n",
            "---  ------             --------------  -----         \n",
            " 0   Year               95 non-null     int64         \n",
            " 1   Month              95 non-null     int64         \n",
            " 2   Time               95 non-null     datetime64[ns]\n",
            " 3   Group Description  95 non-null     object        \n",
            " 4   Average_price      95 non-null     float64       \n",
            " 5   WPU01130232_1      95 non-null     float64       \n",
            " 6   PMAIZMTUSDM_1      95 non-null     float64       \n",
            " 7   WPU07110224_1      95 non-null     float64       \n",
            " 8   WPU065202_1        95 non-null     float64       \n",
            " 9   WPU01130232_2      95 non-null     float64       \n",
            " 10  PMAIZMTUSDM_2      95 non-null     float64       \n",
            " 11  WPU07110224_2      95 non-null     float64       \n",
            " 12  WPU065202_2        95 non-null     float64       \n",
            " 13  WPU01130232_3      95 non-null     float64       \n",
            " 14  PMAIZMTUSDM_3      95 non-null     float64       \n",
            " 15  WPU07110224_3      95 non-null     float64       \n",
            " 16  WPU065202_3        95 non-null     float64       \n",
            " 17  WPU01130232_4      95 non-null     float64       \n",
            " 18  PMAIZMTUSDM_4      95 non-null     float64       \n",
            " 19  WPU07110224_4      95 non-null     float64       \n",
            " 20  WPU065202_4        95 non-null     float64       \n",
            " 21  WPU01130232_5      95 non-null     float64       \n",
            " 22  PMAIZMTUSDM_5      95 non-null     float64       \n",
            " 23  WPU07110224_5      95 non-null     float64       \n",
            " 24  WPU065202_5        95 non-null     float64       \n",
            " 25  WPU01130232_6      95 non-null     float64       \n",
            " 26  PMAIZMTUSDM_6      95 non-null     float64       \n",
            " 27  WPU07110224_6      95 non-null     float64       \n",
            " 28  WPU065202_6        95 non-null     float64       \n",
            " 29  WPU01130232_7      95 non-null     float64       \n",
            " 30  PMAIZMTUSDM_7      95 non-null     float64       \n",
            " 31  WPU07110224_7      95 non-null     float64       \n",
            " 32  WPU065202_7        95 non-null     float64       \n",
            " 33  WPU01130232_8      95 non-null     float64       \n",
            " 34  PMAIZMTUSDM_8      95 non-null     float64       \n",
            " 35  WPU07110224_8      95 non-null     float64       \n",
            " 36  WPU065202_8        95 non-null     float64       \n",
            " 37  WPU01130232_9      95 non-null     float64       \n",
            " 38  PMAIZMTUSDM_9      95 non-null     float64       \n",
            " 39  WPU07110224_9      95 non-null     float64       \n",
            " 40  WPU065202_9        95 non-null     float64       \n",
            " 41  WPU01130232_10     95 non-null     float64       \n",
            " 42  PMAIZMTUSDM_10     95 non-null     float64       \n",
            " 43  WPU07110224_10     95 non-null     float64       \n",
            " 44  WPU065202_10       95 non-null     float64       \n",
            " 45  WPU01130232_11     95 non-null     float64       \n",
            " 46  PMAIZMTUSDM_11     95 non-null     float64       \n",
            " 47  WPU07110224_11     95 non-null     float64       \n",
            " 48  WPU065202_11       95 non-null     float64       \n",
            " 49  WPU01130232_12     95 non-null     float64       \n",
            " 50  PMAIZMTUSDM_12     95 non-null     float64       \n",
            " 51  WPU07110224_12     95 non-null     float64       \n",
            " 52  WPU065202_12       95 non-null     float64       \n",
            " 53  AR_1               95 non-null     float64       \n",
            " 54  AR_2               95 non-null     float64       \n",
            " 55  AR_3               95 non-null     float64       \n",
            " 56  AR_4               95 non-null     float64       \n",
            " 57  AR_5               95 non-null     float64       \n",
            " 58  AR_6               95 non-null     float64       \n",
            " 59  AR_7               95 non-null     float64       \n",
            " 60  AR_8               95 non-null     float64       \n",
            " 61  AR_9               95 non-null     float64       \n",
            " 62  AR_10              95 non-null     float64       \n",
            " 63  AR_11              95 non-null     float64       \n",
            " 64  AR_12              95 non-null     float64       \n",
            "dtypes: datetime64[ns](1), float64(61), int64(2), object(1)\n",
            "memory usage: 49.0+ KB\n",
            "None\n"
          ]
        }
      ],
      "source": [
        "columns_to_drop = [column for column in feature_df.columns if 'RM' in column]\n",
        "feature_df = feature_df.drop(columns=columns_to_drop)\n",
        "print(feature_df.info())"
      ]
    },
    {
      "cell_type": "markdown",
      "metadata": {
        "id": "PBkoTq0wKNwy"
      },
      "source": [
        "### 1-month prediction"
      ]
    },
    {
      "cell_type": "code",
      "execution_count": null,
      "metadata": {
        "id": "LNfT9c0ZKNwy",
        "colab": {
          "base_uri": "https://localhost:8080/"
        },
        "outputId": "f6a84bdd-c72e-496c-b6e9-fed862ae13e6"
      },
      "outputs": [
        {
          "output_type": "stream",
          "name": "stdout",
          "text": [
            "MAPE from 2019-01-01 to 2019-07-01: 9.2\n",
            "MAPE from 2019-07-01 to 2020-01-01: 10.9\n",
            "MAPE from 2020-01-01 to 2020-07-01: 8.6\n",
            "MAPE from 2020-07-01 to 2021-01-01: 10.6\n",
            "MAPE from 2021-01-01 to 2021-07-01: 10.5\n",
            "MAPE from 2021-07-01 to 2022-01-01: 9.4\n",
            "MAPE from 2022-01-01 to 2022-07-01: 16.1\n",
            "MAPE from 2022-07-01 to 2023-01-01: 8.3\n",
            "MAPE from 2023-01-01 to 2023-07-01: 9.8\n",
            "MAPE from 2023-07-01 to 2024-01-01: 13.4\n"
          ]
        }
      ],
      "source": [
        "mape_values = []\n",
        "for start, end in test_periods:\n",
        "    mape = calculate_mape_1(start, end, 0.1)\n",
        "    mape_values.append(mape)\n",
        "    print(f\"MAPE from {start} to {end}: {mape:.1f}\")"
      ]
    },
    {
      "cell_type": "code",
      "execution_count": null,
      "metadata": {
        "id": "9gk7A505KNwy",
        "colab": {
          "base_uri": "https://localhost:8080/"
        },
        "outputId": "c21143c6-bd16-4a48-bc2d-adee94b43ac1"
      },
      "outputs": [
        {
          "output_type": "stream",
          "name": "stdout",
          "text": [
            "Average MAPE: 10.7\n"
          ]
        }
      ],
      "source": [
        "average_mape = np.mean(mape_values)\n",
        "print(f\"Average MAPE: {average_mape:.1f}\")"
      ]
    },
    {
      "cell_type": "markdown",
      "metadata": {
        "id": "e0-vXbH9KNwz"
      },
      "source": [
        "### 3-month prediction\n"
      ]
    },
    {
      "cell_type": "code",
      "execution_count": null,
      "metadata": {
        "id": "s1roIeFnKNwz",
        "colab": {
          "base_uri": "https://localhost:8080/"
        },
        "outputId": "31c05c58-c2eb-45bf-bf90-d4f00a142de8"
      },
      "outputs": [
        {
          "output_type": "stream",
          "name": "stdout",
          "text": [
            "MAPE from 2019-01-01 to 2019-07-01: 8.9\n",
            "MAPE from 2019-07-01 to 2020-01-01: 10.9\n",
            "MAPE from 2020-01-01 to 2020-07-01: 9.1\n",
            "MAPE from 2020-07-01 to 2021-01-01: 11.6\n",
            "MAPE from 2021-01-01 to 2021-07-01: 12.1\n",
            "MAPE from 2021-07-01 to 2022-01-01: 13.6\n",
            "MAPE from 2022-01-01 to 2022-07-01: 18.2\n",
            "MAPE from 2022-07-01 to 2023-01-01: 6.1\n",
            "MAPE from 2023-01-01 to 2023-07-01: 18.5\n",
            "MAPE from 2023-07-01 to 2024-01-01: 23.0\n"
          ]
        }
      ],
      "source": [
        "mape_values = []\n",
        "for start, end in test_periods:\n",
        "    mape = calculate_mape_3(start, end, 0.1)\n",
        "    mape_values.append(mape)\n",
        "    print(f\"MAPE from {start} to {end}: {mape:.1f}\")"
      ]
    },
    {
      "cell_type": "code",
      "execution_count": null,
      "metadata": {
        "id": "8D6zEwvIKNwz",
        "colab": {
          "base_uri": "https://localhost:8080/"
        },
        "outputId": "f2cf1ff7-952c-491f-f8d4-0d1986d7710c"
      },
      "outputs": [
        {
          "output_type": "stream",
          "name": "stdout",
          "text": [
            "Average MAPE: 13.2\n"
          ]
        }
      ],
      "source": [
        "average_mape = np.mean(mape_values)\n",
        "print(f\"Average MAPE: {average_mape:.1f}\")"
      ]
    },
    {
      "cell_type": "markdown",
      "metadata": {
        "id": "a-JKv-H0KNwz"
      },
      "source": [
        "### 6-month prediction"
      ]
    },
    {
      "cell_type": "code",
      "execution_count": null,
      "metadata": {
        "id": "RuqQdowOKNwz",
        "colab": {
          "base_uri": "https://localhost:8080/"
        },
        "outputId": "6e1c14aa-6584-456f-d31a-b4ee55d8463a"
      },
      "outputs": [
        {
          "output_type": "stream",
          "name": "stdout",
          "text": [
            "MAPE from 2019-01-01 to 2019-07-01: 11.1\n",
            "MAPE from 2019-07-01 to 2020-01-01: 7.1\n",
            "MAPE from 2020-01-01 to 2020-07-01: 11.5\n",
            "MAPE from 2020-07-01 to 2021-01-01: 13.2\n",
            "MAPE from 2021-01-01 to 2021-07-01: 15.2\n",
            "MAPE from 2021-07-01 to 2022-01-01: 17.8\n",
            "MAPE from 2022-01-01 to 2022-07-01: 24.6\n",
            "MAPE from 2022-07-01 to 2023-01-01: 14.2\n",
            "MAPE from 2023-01-01 to 2023-07-01: 29.0\n",
            "MAPE from 2023-07-01 to 2024-01-01: 41.8\n"
          ]
        }
      ],
      "source": [
        "mape_values = []\n",
        "for start, end in test_periods:\n",
        "    mape = calculate_mape_6(start, end, 0.1)\n",
        "    mape_values.append(mape)\n",
        "    print(f\"MAPE from {start} to {end}: {mape:.1f}\")"
      ]
    },
    {
      "cell_type": "code",
      "execution_count": null,
      "metadata": {
        "id": "7p5Ev0GoKNwz",
        "colab": {
          "base_uri": "https://localhost:8080/"
        },
        "outputId": "e5908956-6c0d-4449-ea5d-aa158425bfb0"
      },
      "outputs": [
        {
          "output_type": "stream",
          "name": "stdout",
          "text": [
            "Average MAPE: 18.6\n"
          ]
        }
      ],
      "source": [
        "average_mape = np.mean(mape_values)\n",
        "print(f\"Average MAPE: {average_mape:.1f}\")"
      ]
    },
    {
      "cell_type": "markdown",
      "metadata": {
        "id": "zsJiMFMPEG8H"
      },
      "source": [
        "# Anionic Surfactant"
      ]
    },
    {
      "cell_type": "code",
      "execution_count": null,
      "metadata": {
        "id": "uAPZOHTiEG8I",
        "colab": {
          "base_uri": "https://localhost:8080/"
        },
        "outputId": "b18c3c8f-8f74-49b5-8599-ec1d2fde281c"
      },
      "outputs": [
        {
          "output_type": "stream",
          "name": "stdout",
          "text": [
            "     RM10/0001  RM10/0002  Year  Month       Time   Group Description  \\\n",
            "12       False       True  2016      1 2016-01-31  anionic surfactant   \n",
            "13       False       True  2016      2 2016-02-29  anionic surfactant   \n",
            "14       False       True  2016      3 2016-03-31  anionic surfactant   \n",
            "15       False       True  2016      4 2016-04-30  anionic surfactant   \n",
            "16       False       True  2016      5 2016-05-31  anionic surfactant   \n",
            "..         ...        ...   ...    ...        ...                 ...   \n",
            "216       True      False  2023      8 2023-08-31  anionic surfactant   \n",
            "217       True      False  2023      9 2023-09-30  anionic surfactant   \n",
            "218       True      False  2023     10 2023-10-31  anionic surfactant   \n",
            "219       True      False  2023     11 2023-11-30  anionic surfactant   \n",
            "220       True      False  2023     12 2023-12-31  anionic surfactant   \n",
            "\n",
            "     Average_price  PNGASEUUSDM_1  PPOILUSDM_1  Electricity_1  ...      AR_3  \\\n",
            "12        1.235000       5.810000   520.602568          48.38  ...  1.323333   \n",
            "13        1.090000       5.090000   531.619443          41.42  ...  1.090000   \n",
            "14        1.226667       4.790000   595.900683          38.14  ...  1.090000   \n",
            "15        1.306667       4.090000   633.067783          28.95  ...  1.235000   \n",
            "16        1.082150       4.020000   680.375487          25.25  ...  1.090000   \n",
            "..             ...            ...          ...            ...  ...       ...   \n",
            "216       0.579967       9.611719   844.977017          87.58  ...  0.654619   \n",
            "217       0.589850      10.717421   823.608175          96.46  ...  0.674996   \n",
            "218       0.610671      11.427930   790.712156          89.17  ...  0.519568   \n",
            "219       0.582814      13.388843   767.481335         101.92  ...  0.579967   \n",
            "220       0.720601      13.714316   795.987931         115.07  ...  0.589850   \n",
            "\n",
            "         AR_4      AR_5      AR_6      AR_7      AR_8      AR_9     AR_10  \\\n",
            "12   1.395000  1.383333  1.150000  1.500000  1.310000  1.373333  1.340000   \n",
            "13   1.323333  1.395000  1.383333  1.150000  1.500000  1.310000  1.373333   \n",
            "14   1.090000  1.323333  1.395000  1.383333  1.150000  1.500000  1.310000   \n",
            "15   1.090000  1.090000  1.323333  1.395000  1.383333  1.150000  1.500000   \n",
            "16   1.235000  1.090000  1.090000  1.323333  1.395000  1.383333  1.150000   \n",
            "..        ...       ...       ...       ...       ...       ...       ...   \n",
            "216  0.696542  0.710311  0.887833  0.832846  0.863918  0.819181  0.830000   \n",
            "217  0.654619  0.696542  0.710311  0.887833  0.832846  0.863918  0.819181   \n",
            "218  0.674996  0.654619  0.696542  0.710311  0.887833  0.832846  0.863918   \n",
            "219  0.519568  0.674996  0.654619  0.696542  0.710311  0.887833  0.832846   \n",
            "220  0.579967  0.519568  0.674996  0.654619  0.696542  0.710311  0.887833   \n",
            "\n",
            "        AR_11     AR_12  \n",
            "12   1.500000  1.393333  \n",
            "13   1.340000  1.500000  \n",
            "14   1.373333  1.340000  \n",
            "15   1.310000  1.373333  \n",
            "16   1.500000  1.310000  \n",
            "..        ...       ...  \n",
            "216  0.767987  0.868158  \n",
            "217  0.830000  0.767987  \n",
            "218  0.819181  0.830000  \n",
            "219  0.863918  0.819181  \n",
            "220  0.832846  0.863918  \n",
            "\n",
            "[189 rows x 55 columns]\n"
          ]
        }
      ],
      "source": [
        "feature_df = pd.read_csv('/content/drive/MyDrive/Colab Notebooks/Thesis/dataframe/anionic surfactant_feature.csv',index_col=0)\n",
        "feature_df['Time'] = pd.to_datetime(feature_df['Time'])\n",
        "print(feature_df)"
      ]
    },
    {
      "cell_type": "code",
      "execution_count": null,
      "metadata": {
        "id": "oAO50_D_EG8I",
        "colab": {
          "base_uri": "https://localhost:8080/"
        },
        "outputId": "8c1ffec4-3746-46c1-b302-e6ffa1006cf4"
      },
      "outputs": [
        {
          "output_type": "stream",
          "name": "stdout",
          "text": [
            "<class 'pandas.core.frame.DataFrame'>\n",
            "Index: 93 entries, 125 to 220\n",
            "Data columns (total 55 columns):\n",
            " #   Column             Non-Null Count  Dtype         \n",
            "---  ------             --------------  -----         \n",
            " 0   RM10/0001          93 non-null     bool          \n",
            " 1   RM10/0002          93 non-null     bool          \n",
            " 2   Year               93 non-null     int64         \n",
            " 3   Month              93 non-null     int64         \n",
            " 4   Time               93 non-null     datetime64[ns]\n",
            " 5   Group Description  93 non-null     object        \n",
            " 6   Average_price      93 non-null     float64       \n",
            " 7   PNGASEUUSDM_1      93 non-null     float64       \n",
            " 8   PPOILUSDM_1        93 non-null     float64       \n",
            " 9   Electricity_1      93 non-null     float64       \n",
            " 10  PNGASEUUSDM_2      93 non-null     float64       \n",
            " 11  PPOILUSDM_2        93 non-null     float64       \n",
            " 12  Electricity_2      93 non-null     float64       \n",
            " 13  PNGASEUUSDM_3      93 non-null     float64       \n",
            " 14  PPOILUSDM_3        93 non-null     float64       \n",
            " 15  Electricity_3      93 non-null     float64       \n",
            " 16  PNGASEUUSDM_4      93 non-null     float64       \n",
            " 17  PPOILUSDM_4        93 non-null     float64       \n",
            " 18  Electricity_4      93 non-null     float64       \n",
            " 19  PNGASEUUSDM_5      93 non-null     float64       \n",
            " 20  PPOILUSDM_5        93 non-null     float64       \n",
            " 21  Electricity_5      93 non-null     float64       \n",
            " 22  PNGASEUUSDM_6      93 non-null     float64       \n",
            " 23  PPOILUSDM_6        93 non-null     float64       \n",
            " 24  Electricity_6      93 non-null     float64       \n",
            " 25  PNGASEUUSDM_7      93 non-null     float64       \n",
            " 26  PPOILUSDM_7        93 non-null     float64       \n",
            " 27  Electricity_7      93 non-null     float64       \n",
            " 28  PNGASEUUSDM_8      93 non-null     float64       \n",
            " 29  PPOILUSDM_8        93 non-null     float64       \n",
            " 30  Electricity_8      93 non-null     float64       \n",
            " 31  PNGASEUUSDM_9      93 non-null     float64       \n",
            " 32  PPOILUSDM_9        93 non-null     float64       \n",
            " 33  Electricity_9      93 non-null     float64       \n",
            " 34  PNGASEUUSDM_10     93 non-null     float64       \n",
            " 35  PPOILUSDM_10       93 non-null     float64       \n",
            " 36  Electricity_10     93 non-null     float64       \n",
            " 37  PNGASEUUSDM_11     93 non-null     float64       \n",
            " 38  PPOILUSDM_11       93 non-null     float64       \n",
            " 39  Electricity_11     93 non-null     float64       \n",
            " 40  PNGASEUUSDM_12     93 non-null     float64       \n",
            " 41  PPOILUSDM_12       93 non-null     float64       \n",
            " 42  Electricity_12     93 non-null     float64       \n",
            " 43  AR_1               93 non-null     float64       \n",
            " 44  AR_2               93 non-null     float64       \n",
            " 45  AR_3               93 non-null     float64       \n",
            " 46  AR_4               93 non-null     float64       \n",
            " 47  AR_5               93 non-null     float64       \n",
            " 48  AR_6               93 non-null     float64       \n",
            " 49  AR_7               93 non-null     float64       \n",
            " 50  AR_8               93 non-null     float64       \n",
            " 51  AR_9               93 non-null     float64       \n",
            " 52  AR_10              93 non-null     float64       \n",
            " 53  AR_11              93 non-null     float64       \n",
            " 54  AR_12              93 non-null     float64       \n",
            "dtypes: bool(2), datetime64[ns](1), float64(49), int64(2), object(1)\n",
            "memory usage: 39.4+ KB\n",
            "None\n"
          ]
        }
      ],
      "source": [
        "df_0001 = feature_df[feature_df['RM10/0001'] == 1]\n",
        "print(df_0001.info())"
      ]
    },
    {
      "cell_type": "code",
      "execution_count": null,
      "metadata": {
        "id": "ChYwQzi4EG8I",
        "colab": {
          "base_uri": "https://localhost:8080/"
        },
        "outputId": "48b484be-0adc-4d32-b092-62716254221e"
      },
      "outputs": [
        {
          "output_type": "stream",
          "name": "stdout",
          "text": [
            "<class 'pandas.core.frame.DataFrame'>\n",
            "Index: 96 entries, 12 to 107\n",
            "Data columns (total 55 columns):\n",
            " #   Column             Non-Null Count  Dtype         \n",
            "---  ------             --------------  -----         \n",
            " 0   RM10/0001          96 non-null     bool          \n",
            " 1   RM10/0002          96 non-null     bool          \n",
            " 2   Year               96 non-null     int64         \n",
            " 3   Month              96 non-null     int64         \n",
            " 4   Time               96 non-null     datetime64[ns]\n",
            " 5   Group Description  96 non-null     object        \n",
            " 6   Average_price      96 non-null     float64       \n",
            " 7   PNGASEUUSDM_1      96 non-null     float64       \n",
            " 8   PPOILUSDM_1        96 non-null     float64       \n",
            " 9   Electricity_1      96 non-null     float64       \n",
            " 10  PNGASEUUSDM_2      96 non-null     float64       \n",
            " 11  PPOILUSDM_2        96 non-null     float64       \n",
            " 12  Electricity_2      96 non-null     float64       \n",
            " 13  PNGASEUUSDM_3      96 non-null     float64       \n",
            " 14  PPOILUSDM_3        96 non-null     float64       \n",
            " 15  Electricity_3      96 non-null     float64       \n",
            " 16  PNGASEUUSDM_4      96 non-null     float64       \n",
            " 17  PPOILUSDM_4        96 non-null     float64       \n",
            " 18  Electricity_4      96 non-null     float64       \n",
            " 19  PNGASEUUSDM_5      96 non-null     float64       \n",
            " 20  PPOILUSDM_5        96 non-null     float64       \n",
            " 21  Electricity_5      96 non-null     float64       \n",
            " 22  PNGASEUUSDM_6      96 non-null     float64       \n",
            " 23  PPOILUSDM_6        96 non-null     float64       \n",
            " 24  Electricity_6      96 non-null     float64       \n",
            " 25  PNGASEUUSDM_7      96 non-null     float64       \n",
            " 26  PPOILUSDM_7        96 non-null     float64       \n",
            " 27  Electricity_7      96 non-null     float64       \n",
            " 28  PNGASEUUSDM_8      96 non-null     float64       \n",
            " 29  PPOILUSDM_8        96 non-null     float64       \n",
            " 30  Electricity_8      96 non-null     float64       \n",
            " 31  PNGASEUUSDM_9      96 non-null     float64       \n",
            " 32  PPOILUSDM_9        96 non-null     float64       \n",
            " 33  Electricity_9      96 non-null     float64       \n",
            " 34  PNGASEUUSDM_10     96 non-null     float64       \n",
            " 35  PPOILUSDM_10       96 non-null     float64       \n",
            " 36  Electricity_10     96 non-null     float64       \n",
            " 37  PNGASEUUSDM_11     96 non-null     float64       \n",
            " 38  PPOILUSDM_11       96 non-null     float64       \n",
            " 39  Electricity_11     96 non-null     float64       \n",
            " 40  PNGASEUUSDM_12     96 non-null     float64       \n",
            " 41  PPOILUSDM_12       96 non-null     float64       \n",
            " 42  Electricity_12     96 non-null     float64       \n",
            " 43  AR_1               96 non-null     float64       \n",
            " 44  AR_2               96 non-null     float64       \n",
            " 45  AR_3               96 non-null     float64       \n",
            " 46  AR_4               96 non-null     float64       \n",
            " 47  AR_5               96 non-null     float64       \n",
            " 48  AR_6               96 non-null     float64       \n",
            " 49  AR_7               96 non-null     float64       \n",
            " 50  AR_8               96 non-null     float64       \n",
            " 51  AR_9               96 non-null     float64       \n",
            " 52  AR_10              96 non-null     float64       \n",
            " 53  AR_11              96 non-null     float64       \n",
            " 54  AR_12              96 non-null     float64       \n",
            "dtypes: bool(2), datetime64[ns](1), float64(49), int64(2), object(1)\n",
            "memory usage: 40.7+ KB\n",
            "None\n"
          ]
        }
      ],
      "source": [
        "df_0002 = feature_df[feature_df['RM10/0002'] == 1]\n",
        "print(df_0002.info())"
      ]
    },
    {
      "cell_type": "markdown",
      "metadata": {
        "id": "9CP8YvSzEG8J"
      },
      "source": [
        "## 0001"
      ]
    },
    {
      "cell_type": "code",
      "execution_count": null,
      "metadata": {
        "id": "Louke-WTEG8J"
      },
      "outputs": [],
      "source": [
        "feature_df = df_0001"
      ]
    },
    {
      "cell_type": "code",
      "execution_count": null,
      "metadata": {
        "id": "rnlOrQKUJ5Iu",
        "colab": {
          "base_uri": "https://localhost:8080/"
        },
        "outputId": "e94e29b5-ce31-4d5f-c917-6c8ce1d0d190"
      },
      "outputs": [
        {
          "output_type": "stream",
          "name": "stdout",
          "text": [
            "<class 'pandas.core.frame.DataFrame'>\n",
            "Index: 93 entries, 125 to 220\n",
            "Data columns (total 53 columns):\n",
            " #   Column             Non-Null Count  Dtype         \n",
            "---  ------             --------------  -----         \n",
            " 0   Year               93 non-null     int64         \n",
            " 1   Month              93 non-null     int64         \n",
            " 2   Time               93 non-null     datetime64[ns]\n",
            " 3   Group Description  93 non-null     object        \n",
            " 4   Average_price      93 non-null     float64       \n",
            " 5   PNGASEUUSDM_1      93 non-null     float64       \n",
            " 6   PPOILUSDM_1        93 non-null     float64       \n",
            " 7   Electricity_1      93 non-null     float64       \n",
            " 8   PNGASEUUSDM_2      93 non-null     float64       \n",
            " 9   PPOILUSDM_2        93 non-null     float64       \n",
            " 10  Electricity_2      93 non-null     float64       \n",
            " 11  PNGASEUUSDM_3      93 non-null     float64       \n",
            " 12  PPOILUSDM_3        93 non-null     float64       \n",
            " 13  Electricity_3      93 non-null     float64       \n",
            " 14  PNGASEUUSDM_4      93 non-null     float64       \n",
            " 15  PPOILUSDM_4        93 non-null     float64       \n",
            " 16  Electricity_4      93 non-null     float64       \n",
            " 17  PNGASEUUSDM_5      93 non-null     float64       \n",
            " 18  PPOILUSDM_5        93 non-null     float64       \n",
            " 19  Electricity_5      93 non-null     float64       \n",
            " 20  PNGASEUUSDM_6      93 non-null     float64       \n",
            " 21  PPOILUSDM_6        93 non-null     float64       \n",
            " 22  Electricity_6      93 non-null     float64       \n",
            " 23  PNGASEUUSDM_7      93 non-null     float64       \n",
            " 24  PPOILUSDM_7        93 non-null     float64       \n",
            " 25  Electricity_7      93 non-null     float64       \n",
            " 26  PNGASEUUSDM_8      93 non-null     float64       \n",
            " 27  PPOILUSDM_8        93 non-null     float64       \n",
            " 28  Electricity_8      93 non-null     float64       \n",
            " 29  PNGASEUUSDM_9      93 non-null     float64       \n",
            " 30  PPOILUSDM_9        93 non-null     float64       \n",
            " 31  Electricity_9      93 non-null     float64       \n",
            " 32  PNGASEUUSDM_10     93 non-null     float64       \n",
            " 33  PPOILUSDM_10       93 non-null     float64       \n",
            " 34  Electricity_10     93 non-null     float64       \n",
            " 35  PNGASEUUSDM_11     93 non-null     float64       \n",
            " 36  PPOILUSDM_11       93 non-null     float64       \n",
            " 37  Electricity_11     93 non-null     float64       \n",
            " 38  PNGASEUUSDM_12     93 non-null     float64       \n",
            " 39  PPOILUSDM_12       93 non-null     float64       \n",
            " 40  Electricity_12     93 non-null     float64       \n",
            " 41  AR_1               93 non-null     float64       \n",
            " 42  AR_2               93 non-null     float64       \n",
            " 43  AR_3               93 non-null     float64       \n",
            " 44  AR_4               93 non-null     float64       \n",
            " 45  AR_5               93 non-null     float64       \n",
            " 46  AR_6               93 non-null     float64       \n",
            " 47  AR_7               93 non-null     float64       \n",
            " 48  AR_8               93 non-null     float64       \n",
            " 49  AR_9               93 non-null     float64       \n",
            " 50  AR_10              93 non-null     float64       \n",
            " 51  AR_11              93 non-null     float64       \n",
            " 52  AR_12              93 non-null     float64       \n",
            "dtypes: datetime64[ns](1), float64(49), int64(2), object(1)\n",
            "memory usage: 39.2+ KB\n",
            "None\n"
          ]
        }
      ],
      "source": [
        "columns_to_drop = [column for column in feature_df.columns if 'RM' in column]\n",
        "feature_df = feature_df.drop(columns=columns_to_drop)\n",
        "print(feature_df.info())"
      ]
    },
    {
      "cell_type": "markdown",
      "metadata": {
        "id": "mbrCLWViEG8J"
      },
      "source": [
        "### 1-month prediction"
      ]
    },
    {
      "cell_type": "code",
      "execution_count": null,
      "metadata": {
        "id": "-Q7WrpcWEG8J",
        "colab": {
          "base_uri": "https://localhost:8080/"
        },
        "outputId": "f7f8841a-7243-448d-bdde-75d8d1d7aa9d"
      },
      "outputs": [
        {
          "output_type": "stream",
          "name": "stdout",
          "text": [
            "MAPE from 2019-01-01 to 2019-07-01: 15.2\n",
            "MAPE from 2019-07-01 to 2020-01-01: 12.0\n",
            "MAPE from 2020-01-01 to 2020-07-01: 8.5\n",
            "MAPE from 2020-07-01 to 2021-01-01: 16.0\n",
            "MAPE from 2021-01-01 to 2021-07-01: 14.9\n",
            "MAPE from 2021-07-01 to 2022-01-01: 3.6\n",
            "MAPE from 2022-01-01 to 2022-07-01: 15.8\n",
            "MAPE from 2022-07-01 to 2023-01-01: 4.1\n",
            "MAPE from 2023-01-01 to 2023-07-01: 14.8\n",
            "MAPE from 2023-07-01 to 2024-01-01: 8.2\n"
          ]
        }
      ],
      "source": [
        "mape_values = []\n",
        "for start, end in test_periods:\n",
        "    mape = calculate_mape_1(start, end, 0.2)\n",
        "    mape_values.append(mape)\n",
        "    print(f\"MAPE from {start} to {end}: {mape:.1f}\")"
      ]
    },
    {
      "cell_type": "code",
      "execution_count": null,
      "metadata": {
        "id": "JZ0223gpEG8J",
        "colab": {
          "base_uri": "https://localhost:8080/"
        },
        "outputId": "40d57eae-cebe-4af8-ffc4-fd1a4ff93ec4"
      },
      "outputs": [
        {
          "output_type": "stream",
          "name": "stdout",
          "text": [
            "Average MAPE: 11.3\n"
          ]
        }
      ],
      "source": [
        "average_mape = np.mean(mape_values)\n",
        "print(f\"Average MAPE: {average_mape:.1f}\")"
      ]
    },
    {
      "cell_type": "markdown",
      "metadata": {
        "id": "sptaDtsiEG8J"
      },
      "source": [
        "### 3-month prediction\n"
      ]
    },
    {
      "cell_type": "code",
      "execution_count": null,
      "metadata": {
        "id": "ocGmSaasEG8J",
        "colab": {
          "base_uri": "https://localhost:8080/"
        },
        "outputId": "73e79da4-a44e-4867-abb9-bd0a73fc1704"
      },
      "outputs": [
        {
          "output_type": "stream",
          "name": "stdout",
          "text": [
            "MAPE from 2019-01-01 to 2019-07-01: 15.2\n",
            "MAPE from 2019-07-01 to 2020-01-01: 12.0\n",
            "MAPE from 2020-01-01 to 2020-07-01: 10.0\n",
            "MAPE from 2020-07-01 to 2021-01-01: 16.4\n",
            "MAPE from 2021-01-01 to 2021-07-01: 13.3\n",
            "MAPE from 2021-07-01 to 2022-01-01: 3.2\n",
            "MAPE from 2022-01-01 to 2022-07-01: 18.1\n",
            "MAPE from 2022-07-01 to 2023-01-01: 5.0\n",
            "MAPE from 2023-01-01 to 2023-07-01: 18.9\n",
            "MAPE from 2023-07-01 to 2024-01-01: 9.9\n"
          ]
        }
      ],
      "source": [
        "mape_values = []\n",
        "for start, end in test_periods:\n",
        "    mape = calculate_mape_3(start, end, 0.2)\n",
        "    mape_values.append(mape)\n",
        "    print(f\"MAPE from {start} to {end}: {mape:.1f}\")"
      ]
    },
    {
      "cell_type": "code",
      "execution_count": null,
      "metadata": {
        "id": "xQXjE-WPEG8K",
        "colab": {
          "base_uri": "https://localhost:8080/"
        },
        "outputId": "f6458577-95f5-4003-a76d-adb22b90072e"
      },
      "outputs": [
        {
          "output_type": "stream",
          "name": "stdout",
          "text": [
            "Average MAPE: 12.2\n"
          ]
        }
      ],
      "source": [
        "average_mape = np.mean(mape_values)\n",
        "print(f\"Average MAPE: {average_mape:.1f}\")"
      ]
    },
    {
      "cell_type": "markdown",
      "metadata": {
        "id": "5_NMPIK_EG8K"
      },
      "source": [
        "### 6-month prediction"
      ]
    },
    {
      "cell_type": "code",
      "execution_count": null,
      "metadata": {
        "id": "8WGa6MmtEG8K",
        "colab": {
          "base_uri": "https://localhost:8080/"
        },
        "outputId": "430cc2a4-c5df-443b-f02c-aa18813b459e"
      },
      "outputs": [
        {
          "output_type": "stream",
          "name": "stdout",
          "text": [
            "MAPE from 2019-01-01 to 2019-07-01: 15.2\n",
            "MAPE from 2019-07-01 to 2020-01-01: 13.6\n",
            "MAPE from 2020-01-01 to 2020-07-01: 11.1\n",
            "MAPE from 2020-07-01 to 2021-01-01: 16.7\n",
            "MAPE from 2021-01-01 to 2021-07-01: 6.7\n",
            "MAPE from 2021-07-01 to 2022-01-01: 3.8\n",
            "MAPE from 2022-01-01 to 2022-07-01: 21.3\n",
            "MAPE from 2022-07-01 to 2023-01-01: 6.4\n",
            "MAPE from 2023-01-01 to 2023-07-01: 16.6\n",
            "MAPE from 2023-07-01 to 2024-01-01: 9.8\n"
          ]
        }
      ],
      "source": [
        "mape_values = []\n",
        "for start, end in test_periods:\n",
        "    mape = calculate_mape_6(start, end, 0.3)\n",
        "    mape_values.append(mape)\n",
        "    print(f\"MAPE from {start} to {end}: {mape:.1f}\")"
      ]
    },
    {
      "cell_type": "code",
      "execution_count": null,
      "metadata": {
        "id": "BZdJ1MuzEG8K",
        "colab": {
          "base_uri": "https://localhost:8080/"
        },
        "outputId": "e3cb0508-5ff9-460b-eff1-9d9b4800ebd5"
      },
      "outputs": [
        {
          "output_type": "stream",
          "name": "stdout",
          "text": [
            "Average MAPE: 12.1\n"
          ]
        }
      ],
      "source": [
        "average_mape = np.mean(mape_values)\n",
        "print(f\"Average MAPE: {average_mape:.1f}\")"
      ]
    },
    {
      "cell_type": "markdown",
      "metadata": {
        "id": "b2h9uQg4PAg6"
      },
      "source": [
        "## 0002"
      ]
    },
    {
      "cell_type": "code",
      "execution_count": null,
      "metadata": {
        "id": "4Kho1ZDPPAg6"
      },
      "outputs": [],
      "source": [
        "feature_df = df_0002"
      ]
    },
    {
      "cell_type": "code",
      "execution_count": null,
      "metadata": {
        "id": "JiLLAxqFJ8PN",
        "colab": {
          "base_uri": "https://localhost:8080/"
        },
        "outputId": "9c504a67-3a2e-47ca-a16b-fc5983d2845d"
      },
      "outputs": [
        {
          "output_type": "stream",
          "name": "stdout",
          "text": [
            "<class 'pandas.core.frame.DataFrame'>\n",
            "Index: 96 entries, 12 to 107\n",
            "Data columns (total 53 columns):\n",
            " #   Column             Non-Null Count  Dtype         \n",
            "---  ------             --------------  -----         \n",
            " 0   Year               96 non-null     int64         \n",
            " 1   Month              96 non-null     int64         \n",
            " 2   Time               96 non-null     datetime64[ns]\n",
            " 3   Group Description  96 non-null     object        \n",
            " 4   Average_price      96 non-null     float64       \n",
            " 5   PNGASEUUSDM_1      96 non-null     float64       \n",
            " 6   PPOILUSDM_1        96 non-null     float64       \n",
            " 7   Electricity_1      96 non-null     float64       \n",
            " 8   PNGASEUUSDM_2      96 non-null     float64       \n",
            " 9   PPOILUSDM_2        96 non-null     float64       \n",
            " 10  Electricity_2      96 non-null     float64       \n",
            " 11  PNGASEUUSDM_3      96 non-null     float64       \n",
            " 12  PPOILUSDM_3        96 non-null     float64       \n",
            " 13  Electricity_3      96 non-null     float64       \n",
            " 14  PNGASEUUSDM_4      96 non-null     float64       \n",
            " 15  PPOILUSDM_4        96 non-null     float64       \n",
            " 16  Electricity_4      96 non-null     float64       \n",
            " 17  PNGASEUUSDM_5      96 non-null     float64       \n",
            " 18  PPOILUSDM_5        96 non-null     float64       \n",
            " 19  Electricity_5      96 non-null     float64       \n",
            " 20  PNGASEUUSDM_6      96 non-null     float64       \n",
            " 21  PPOILUSDM_6        96 non-null     float64       \n",
            " 22  Electricity_6      96 non-null     float64       \n",
            " 23  PNGASEUUSDM_7      96 non-null     float64       \n",
            " 24  PPOILUSDM_7        96 non-null     float64       \n",
            " 25  Electricity_7      96 non-null     float64       \n",
            " 26  PNGASEUUSDM_8      96 non-null     float64       \n",
            " 27  PPOILUSDM_8        96 non-null     float64       \n",
            " 28  Electricity_8      96 non-null     float64       \n",
            " 29  PNGASEUUSDM_9      96 non-null     float64       \n",
            " 30  PPOILUSDM_9        96 non-null     float64       \n",
            " 31  Electricity_9      96 non-null     float64       \n",
            " 32  PNGASEUUSDM_10     96 non-null     float64       \n",
            " 33  PPOILUSDM_10       96 non-null     float64       \n",
            " 34  Electricity_10     96 non-null     float64       \n",
            " 35  PNGASEUUSDM_11     96 non-null     float64       \n",
            " 36  PPOILUSDM_11       96 non-null     float64       \n",
            " 37  Electricity_11     96 non-null     float64       \n",
            " 38  PNGASEUUSDM_12     96 non-null     float64       \n",
            " 39  PPOILUSDM_12       96 non-null     float64       \n",
            " 40  Electricity_12     96 non-null     float64       \n",
            " 41  AR_1               96 non-null     float64       \n",
            " 42  AR_2               96 non-null     float64       \n",
            " 43  AR_3               96 non-null     float64       \n",
            " 44  AR_4               96 non-null     float64       \n",
            " 45  AR_5               96 non-null     float64       \n",
            " 46  AR_6               96 non-null     float64       \n",
            " 47  AR_7               96 non-null     float64       \n",
            " 48  AR_8               96 non-null     float64       \n",
            " 49  AR_9               96 non-null     float64       \n",
            " 50  AR_10              96 non-null     float64       \n",
            " 51  AR_11              96 non-null     float64       \n",
            " 52  AR_12              96 non-null     float64       \n",
            "dtypes: datetime64[ns](1), float64(49), int64(2), object(1)\n",
            "memory usage: 40.5+ KB\n",
            "None\n"
          ]
        }
      ],
      "source": [
        "columns_to_drop = [column for column in feature_df.columns if 'RM' in column]\n",
        "feature_df = feature_df.drop(columns=columns_to_drop)\n",
        "print(feature_df.info())"
      ]
    },
    {
      "cell_type": "markdown",
      "metadata": {
        "id": "HTCVlDgJPAg7"
      },
      "source": [
        "### 1-month prediction"
      ]
    },
    {
      "cell_type": "code",
      "execution_count": null,
      "metadata": {
        "id": "ZSpuqfzQPAg7",
        "colab": {
          "base_uri": "https://localhost:8080/"
        },
        "outputId": "3aa53a92-e729-4941-a4d3-eb4b0a83a08d"
      },
      "outputs": [
        {
          "output_type": "stream",
          "name": "stdout",
          "text": [
            "MAPE from 2019-01-01 to 2019-07-01: 4.2\n",
            "MAPE from 2019-07-01 to 2020-01-01: 5.1\n",
            "MAPE from 2020-01-01 to 2020-07-01: 6.4\n",
            "MAPE from 2020-07-01 to 2021-01-01: 7.9\n",
            "MAPE from 2021-01-01 to 2021-07-01: 9.5\n",
            "MAPE from 2021-07-01 to 2022-01-01: 5.5\n",
            "MAPE from 2022-01-01 to 2022-07-01: 13.2\n",
            "MAPE from 2022-07-01 to 2023-01-01: 6.5\n",
            "MAPE from 2023-01-01 to 2023-07-01: 15.7\n",
            "MAPE from 2023-07-01 to 2024-01-01: 6.7\n"
          ]
        }
      ],
      "source": [
        "mape_values = []\n",
        "for start, end in test_periods:\n",
        "    mape = calculate_mape_1(start, end, 0.1)\n",
        "    mape_values.append(mape)\n",
        "    print(f\"MAPE from {start} to {end}: {mape:.1f}\")"
      ]
    },
    {
      "cell_type": "code",
      "execution_count": null,
      "metadata": {
        "id": "v3jXSgqtPAg7",
        "colab": {
          "base_uri": "https://localhost:8080/"
        },
        "outputId": "4ca74774-4fc3-4ce2-8c08-444b5118ec52"
      },
      "outputs": [
        {
          "output_type": "stream",
          "name": "stdout",
          "text": [
            "Average MAPE: 8.1\n"
          ]
        }
      ],
      "source": [
        "average_mape = np.mean(mape_values)\n",
        "print(f\"Average MAPE: {average_mape:.1f}\")"
      ]
    },
    {
      "cell_type": "markdown",
      "metadata": {
        "id": "RESYMjhCPAg7"
      },
      "source": [
        "### 3-month prediction\n"
      ]
    },
    {
      "cell_type": "code",
      "execution_count": null,
      "metadata": {
        "id": "eRpu2WkJPAg7",
        "colab": {
          "base_uri": "https://localhost:8080/"
        },
        "outputId": "ca70d71a-c150-4a92-ef49-20d144d7bea3"
      },
      "outputs": [
        {
          "output_type": "stream",
          "name": "stdout",
          "text": [
            "MAPE from 2019-01-01 to 2019-07-01: 3.6\n",
            "MAPE from 2019-07-01 to 2020-01-01: 4.3\n",
            "MAPE from 2020-01-01 to 2020-07-01: 6.3\n",
            "MAPE from 2020-07-01 to 2021-01-01: 8.5\n",
            "MAPE from 2021-01-01 to 2021-07-01: 11.6\n",
            "MAPE from 2021-07-01 to 2022-01-01: 5.7\n",
            "MAPE from 2022-01-01 to 2022-07-01: 13.8\n",
            "MAPE from 2022-07-01 to 2023-01-01: 6.8\n",
            "MAPE from 2023-01-01 to 2023-07-01: 16.2\n",
            "MAPE from 2023-07-01 to 2024-01-01: 7.2\n"
          ]
        }
      ],
      "source": [
        "mape_values = []\n",
        "for start, end in test_periods:\n",
        "    mape = calculate_mape_3(start, end, 0.1)\n",
        "    mape_values.append(mape)\n",
        "    print(f\"MAPE from {start} to {end}: {mape:.1f}\")"
      ]
    },
    {
      "cell_type": "code",
      "execution_count": null,
      "metadata": {
        "id": "Q21lRnaYPAg7",
        "colab": {
          "base_uri": "https://localhost:8080/"
        },
        "outputId": "83f654b8-21d7-4ce1-8d7b-d46cb41ea5c0"
      },
      "outputs": [
        {
          "output_type": "stream",
          "name": "stdout",
          "text": [
            "Average MAPE: 8.4\n"
          ]
        }
      ],
      "source": [
        "average_mape = np.mean(mape_values)\n",
        "print(f\"Average MAPE: {average_mape:.1f}\")"
      ]
    },
    {
      "cell_type": "markdown",
      "metadata": {
        "id": "TNeKeDuXPAg7"
      },
      "source": [
        "### 6-month prediction"
      ]
    },
    {
      "cell_type": "code",
      "execution_count": null,
      "metadata": {
        "id": "0BnJgVSFPAg7",
        "colab": {
          "base_uri": "https://localhost:8080/"
        },
        "outputId": "7b377c1b-fe07-4b0e-edb4-6220146a0fb4"
      },
      "outputs": [
        {
          "output_type": "stream",
          "name": "stdout",
          "text": [
            "MAPE from 2019-01-01 to 2019-07-01: 4.7\n",
            "MAPE from 2019-07-01 to 2020-01-01: 4.6\n",
            "MAPE from 2020-01-01 to 2020-07-01: 6.4\n",
            "MAPE from 2020-07-01 to 2021-01-01: 9.7\n",
            "MAPE from 2021-01-01 to 2021-07-01: 15.8\n",
            "MAPE from 2021-07-01 to 2022-01-01: 10.8\n",
            "MAPE from 2022-01-01 to 2022-07-01: 18.9\n",
            "MAPE from 2022-07-01 to 2023-01-01: 10.9\n",
            "MAPE from 2023-01-01 to 2023-07-01: 13.1\n",
            "MAPE from 2023-07-01 to 2024-01-01: 7.6\n"
          ]
        }
      ],
      "source": [
        "mape_values = []\n",
        "for start, end in test_periods:\n",
        "    mape = calculate_mape_6(start, end, 0.2)\n",
        "    mape_values.append(mape)\n",
        "    print(f\"MAPE from {start} to {end}: {mape:.1f}\")"
      ]
    },
    {
      "cell_type": "code",
      "execution_count": null,
      "metadata": {
        "id": "WK415OXsPAg7",
        "colab": {
          "base_uri": "https://localhost:8080/"
        },
        "outputId": "098566a1-7b0b-4b26-a66c-e28053da3fc9"
      },
      "outputs": [
        {
          "output_type": "stream",
          "name": "stdout",
          "text": [
            "Average MAPE: 10.2\n"
          ]
        }
      ],
      "source": [
        "average_mape = np.mean(mape_values)\n",
        "print(f\"Average MAPE: {average_mape:.1f}\")"
      ]
    },
    {
      "cell_type": "markdown",
      "metadata": {
        "id": "SyliWCoyEHUN"
      },
      "source": [
        "# Solvents"
      ]
    },
    {
      "cell_type": "code",
      "execution_count": null,
      "metadata": {
        "id": "OTXXMtCDEHUN",
        "colab": {
          "base_uri": "https://localhost:8080/"
        },
        "outputId": "179db510-ff8e-4107-d593-0ebd765041d9"
      },
      "outputs": [
        {
          "output_type": "stream",
          "name": "stdout",
          "text": [
            "     RM08/0010  RM08/0017  Year  Month       Time Group Description  \\\n",
            "13       False       True  2016      1 2016-01-31           solvent   \n",
            "14       False       True  2016      2 2016-02-29           solvent   \n",
            "15       False       True  2016      3 2016-03-31           solvent   \n",
            "16       False       True  2016      4 2016-04-30           solvent   \n",
            "17       False       True  2016      5 2016-05-31           solvent   \n",
            "..         ...        ...   ...    ...        ...               ...   \n",
            "215       True      False  2023      8 2023-08-31           solvent   \n",
            "216       True      False  2023      9 2023-09-30           solvent   \n",
            "217       True      False  2023     10 2023-10-24           solvent   \n",
            "218       True      False  2023     11 2023-11-30           solvent   \n",
            "219       True      False  2023     12 2023-12-20           solvent   \n",
            "\n",
            "     Average_price  PPOILUSDM_1  PPOILUSDM_2  PPOILUSDM_3  ...      AR_3  \\\n",
            "13        1.031000   520.602568   503.163620   530.246640  ...  1.070000   \n",
            "14        1.031000   531.619443   520.602568   503.163620  ...  1.057500   \n",
            "15        1.017000   595.900683   531.619443   520.602568  ...  1.053333   \n",
            "16        1.016500   633.067783   595.900683   531.619443  ...  1.031000   \n",
            "17        1.016000   680.375487   633.067783   595.900683  ...  1.031000   \n",
            "..             ...          ...          ...          ...  ...       ...   \n",
            "215       0.707192   844.977017   769.098477   834.628551  ...  1.111484   \n",
            "216       1.307470   823.608175   844.977017   769.098477  ...  0.801200   \n",
            "217       0.565000   790.712156   823.608175   844.977017  ...  0.807500   \n",
            "218       0.660000   767.481335   790.712156   823.608175  ...  0.707192   \n",
            "219       1.836248   795.987931   767.481335   790.712156  ...  1.307470   \n",
            "\n",
            "         AR_4      AR_5      AR_6      AR_7      AR_8      AR_9     AR_10  \\\n",
            "13   1.035000  1.035000  1.152000  1.030000  1.250000  1.220000  1.190000   \n",
            "14   1.070000  1.035000  1.035000  1.152000  1.030000  1.250000  1.220000   \n",
            "15   1.057500  1.070000  1.035000  1.035000  1.152000  1.030000  1.250000   \n",
            "16   1.053333  1.057500  1.070000  1.035000  1.035000  1.152000  1.030000   \n",
            "17   1.031000  1.053333  1.057500  1.070000  1.035000  1.035000  1.152000   \n",
            "..        ...       ...       ...       ...       ...       ...       ...   \n",
            "215  2.141228  1.015000  1.442252  1.223333  1.821984  1.430000  2.979343   \n",
            "216  1.111484  2.141228  1.015000  1.442252  1.223333  1.821984  1.430000   \n",
            "217  0.801200  1.111484  2.141228  1.015000  1.442252  1.223333  1.821984   \n",
            "218  0.807500  0.801200  1.111484  2.141228  1.015000  1.442252  1.223333   \n",
            "219  0.707192  0.807500  0.801200  1.111484  2.141228  1.015000  1.442252   \n",
            "\n",
            "        AR_11     AR_12  \n",
            "13   1.190000  1.250000  \n",
            "14   1.190000  1.190000  \n",
            "15   1.220000  1.190000  \n",
            "16   1.250000  1.220000  \n",
            "17   1.030000  1.250000  \n",
            "..        ...       ...  \n",
            "215  2.665000  2.997037  \n",
            "216  2.979343  2.665000  \n",
            "217  1.430000  2.979343  \n",
            "218  1.821984  1.430000  \n",
            "219  1.223333  1.821984  \n",
            "\n",
            "[186 rows x 31 columns]\n"
          ]
        }
      ],
      "source": [
        "feature_df = pd.read_csv('/content/drive/MyDrive/Colab Notebooks/Thesis/dataframe/solvent_feature.csv',index_col=0)\n",
        "feature_df['Time'] = pd.to_datetime(feature_df['Time'])\n",
        "print(feature_df)"
      ]
    },
    {
      "cell_type": "code",
      "execution_count": null,
      "metadata": {
        "id": "dP0sJEyuEHUO",
        "colab": {
          "base_uri": "https://localhost:8080/"
        },
        "outputId": "5f4540bd-3884-4dcf-93ff-4888daeb40c5"
      },
      "outputs": [
        {
          "output_type": "stream",
          "name": "stdout",
          "text": [
            "<class 'pandas.core.frame.DataFrame'>\n",
            "Index: 91 entries, 124 to 219\n",
            "Data columns (total 31 columns):\n",
            " #   Column             Non-Null Count  Dtype         \n",
            "---  ------             --------------  -----         \n",
            " 0   RM08/0010          91 non-null     bool          \n",
            " 1   RM08/0017          91 non-null     bool          \n",
            " 2   Year               91 non-null     int64         \n",
            " 3   Month              91 non-null     int64         \n",
            " 4   Time               91 non-null     datetime64[ns]\n",
            " 5   Group Description  91 non-null     object        \n",
            " 6   Average_price      91 non-null     float64       \n",
            " 7   PPOILUSDM_1        91 non-null     float64       \n",
            " 8   PPOILUSDM_2        91 non-null     float64       \n",
            " 9   PPOILUSDM_3        91 non-null     float64       \n",
            " 10  PPOILUSDM_4        91 non-null     float64       \n",
            " 11  PPOILUSDM_5        91 non-null     float64       \n",
            " 12  PPOILUSDM_6        91 non-null     float64       \n",
            " 13  PPOILUSDM_7        91 non-null     float64       \n",
            " 14  PPOILUSDM_8        91 non-null     float64       \n",
            " 15  PPOILUSDM_9        91 non-null     float64       \n",
            " 16  PPOILUSDM_10       91 non-null     float64       \n",
            " 17  PPOILUSDM_11       91 non-null     float64       \n",
            " 18  PPOILUSDM_12       91 non-null     float64       \n",
            " 19  AR_1               91 non-null     float64       \n",
            " 20  AR_2               91 non-null     float64       \n",
            " 21  AR_3               91 non-null     float64       \n",
            " 22  AR_4               91 non-null     float64       \n",
            " 23  AR_5               91 non-null     float64       \n",
            " 24  AR_6               91 non-null     float64       \n",
            " 25  AR_7               91 non-null     float64       \n",
            " 26  AR_8               91 non-null     float64       \n",
            " 27  AR_9               91 non-null     float64       \n",
            " 28  AR_10              91 non-null     float64       \n",
            " 29  AR_11              91 non-null     float64       \n",
            " 30  AR_12              91 non-null     float64       \n",
            "dtypes: bool(2), datetime64[ns](1), float64(25), int64(2), object(1)\n",
            "memory usage: 21.5+ KB\n",
            "None\n"
          ]
        }
      ],
      "source": [
        "df_0010 = feature_df[feature_df['RM08/0010'] == 1]\n",
        "print(df_0010.info())"
      ]
    },
    {
      "cell_type": "code",
      "execution_count": null,
      "metadata": {
        "id": "9BsymCYxEHUO",
        "colab": {
          "base_uri": "https://localhost:8080/"
        },
        "outputId": "4bf53ddf-f139-43e4-8db5-38efd623dc67"
      },
      "outputs": [
        {
          "output_type": "stream",
          "name": "stdout",
          "text": [
            "<class 'pandas.core.frame.DataFrame'>\n",
            "Index: 95 entries, 13 to 108\n",
            "Data columns (total 31 columns):\n",
            " #   Column             Non-Null Count  Dtype         \n",
            "---  ------             --------------  -----         \n",
            " 0   RM08/0010          95 non-null     bool          \n",
            " 1   RM08/0017          95 non-null     bool          \n",
            " 2   Year               95 non-null     int64         \n",
            " 3   Month              95 non-null     int64         \n",
            " 4   Time               95 non-null     datetime64[ns]\n",
            " 5   Group Description  95 non-null     object        \n",
            " 6   Average_price      95 non-null     float64       \n",
            " 7   PPOILUSDM_1        95 non-null     float64       \n",
            " 8   PPOILUSDM_2        95 non-null     float64       \n",
            " 9   PPOILUSDM_3        95 non-null     float64       \n",
            " 10  PPOILUSDM_4        95 non-null     float64       \n",
            " 11  PPOILUSDM_5        95 non-null     float64       \n",
            " 12  PPOILUSDM_6        95 non-null     float64       \n",
            " 13  PPOILUSDM_7        95 non-null     float64       \n",
            " 14  PPOILUSDM_8        95 non-null     float64       \n",
            " 15  PPOILUSDM_9        95 non-null     float64       \n",
            " 16  PPOILUSDM_10       95 non-null     float64       \n",
            " 17  PPOILUSDM_11       95 non-null     float64       \n",
            " 18  PPOILUSDM_12       95 non-null     float64       \n",
            " 19  AR_1               95 non-null     float64       \n",
            " 20  AR_2               95 non-null     float64       \n",
            " 21  AR_3               95 non-null     float64       \n",
            " 22  AR_4               95 non-null     float64       \n",
            " 23  AR_5               95 non-null     float64       \n",
            " 24  AR_6               95 non-null     float64       \n",
            " 25  AR_7               95 non-null     float64       \n",
            " 26  AR_8               95 non-null     float64       \n",
            " 27  AR_9               95 non-null     float64       \n",
            " 28  AR_10              95 non-null     float64       \n",
            " 29  AR_11              95 non-null     float64       \n",
            " 30  AR_12              95 non-null     float64       \n",
            "dtypes: bool(2), datetime64[ns](1), float64(25), int64(2), object(1)\n",
            "memory usage: 22.5+ KB\n",
            "None\n"
          ]
        }
      ],
      "source": [
        "df_0017 = feature_df[feature_df['RM08/0017'] == 1]\n",
        "print(df_0017.info())"
      ]
    },
    {
      "cell_type": "markdown",
      "metadata": {
        "id": "EfJfY_P4EHUO"
      },
      "source": [
        "## 0010"
      ]
    },
    {
      "cell_type": "code",
      "execution_count": null,
      "metadata": {
        "id": "ajxXMtDlEHUO"
      },
      "outputs": [],
      "source": [
        "feature_df = df_0010"
      ]
    },
    {
      "cell_type": "code",
      "execution_count": null,
      "metadata": {
        "id": "9D2damL7J-Vz",
        "colab": {
          "base_uri": "https://localhost:8080/"
        },
        "outputId": "4029514f-5f57-4443-e095-232ea5241b79"
      },
      "outputs": [
        {
          "output_type": "stream",
          "name": "stdout",
          "text": [
            "<class 'pandas.core.frame.DataFrame'>\n",
            "Index: 91 entries, 124 to 219\n",
            "Data columns (total 29 columns):\n",
            " #   Column             Non-Null Count  Dtype         \n",
            "---  ------             --------------  -----         \n",
            " 0   Year               91 non-null     int64         \n",
            " 1   Month              91 non-null     int64         \n",
            " 2   Time               91 non-null     datetime64[ns]\n",
            " 3   Group Description  91 non-null     object        \n",
            " 4   Average_price      91 non-null     float64       \n",
            " 5   PPOILUSDM_1        91 non-null     float64       \n",
            " 6   PPOILUSDM_2        91 non-null     float64       \n",
            " 7   PPOILUSDM_3        91 non-null     float64       \n",
            " 8   PPOILUSDM_4        91 non-null     float64       \n",
            " 9   PPOILUSDM_5        91 non-null     float64       \n",
            " 10  PPOILUSDM_6        91 non-null     float64       \n",
            " 11  PPOILUSDM_7        91 non-null     float64       \n",
            " 12  PPOILUSDM_8        91 non-null     float64       \n",
            " 13  PPOILUSDM_9        91 non-null     float64       \n",
            " 14  PPOILUSDM_10       91 non-null     float64       \n",
            " 15  PPOILUSDM_11       91 non-null     float64       \n",
            " 16  PPOILUSDM_12       91 non-null     float64       \n",
            " 17  AR_1               91 non-null     float64       \n",
            " 18  AR_2               91 non-null     float64       \n",
            " 19  AR_3               91 non-null     float64       \n",
            " 20  AR_4               91 non-null     float64       \n",
            " 21  AR_5               91 non-null     float64       \n",
            " 22  AR_6               91 non-null     float64       \n",
            " 23  AR_7               91 non-null     float64       \n",
            " 24  AR_8               91 non-null     float64       \n",
            " 25  AR_9               91 non-null     float64       \n",
            " 26  AR_10              91 non-null     float64       \n",
            " 27  AR_11              91 non-null     float64       \n",
            " 28  AR_12              91 non-null     float64       \n",
            "dtypes: datetime64[ns](1), float64(25), int64(2), object(1)\n",
            "memory usage: 21.3+ KB\n",
            "None\n"
          ]
        }
      ],
      "source": [
        "columns_to_drop = [column for column in feature_df.columns if 'RM' in column]\n",
        "feature_df = feature_df.drop(columns=columns_to_drop)\n",
        "print(feature_df.info())"
      ]
    },
    {
      "cell_type": "markdown",
      "metadata": {
        "id": "gkrV_FHkEHUO"
      },
      "source": [
        "### 1-month prediction"
      ]
    },
    {
      "cell_type": "code",
      "execution_count": null,
      "metadata": {
        "id": "GMvx-5KbEHUO",
        "colab": {
          "base_uri": "https://localhost:8080/"
        },
        "outputId": "245220cd-2bbd-406c-da88-a8398dfc93ca"
      },
      "outputs": [
        {
          "output_type": "stream",
          "name": "stdout",
          "text": [
            "MAPE from 2019-01-01 to 2019-07-01: 13.5\n",
            "MAPE from 2019-07-01 to 2020-01-01: 23.2\n",
            "MAPE from 2020-01-01 to 2020-07-01: 18.6\n",
            "MAPE from 2020-07-01 to 2021-01-01: 14.6\n",
            "MAPE from 2021-01-01 to 2021-07-01: 13.3\n",
            "MAPE from 2021-07-01 to 2022-01-01: 24.8\n",
            "MAPE from 2022-01-01 to 2022-07-01: 31.6\n",
            "MAPE from 2022-07-01 to 2023-01-01: 38.7\n",
            "MAPE from 2023-01-01 to 2023-07-01: 30.8\n",
            "MAPE from 2023-07-01 to 2024-01-01: 61.2\n"
          ]
        }
      ],
      "source": [
        "mape_values = []\n",
        "for start, end in test_periods:\n",
        "    mape = calculate_mape_1(start, end, 0.3)\n",
        "    mape_values.append(mape)\n",
        "    print(f\"MAPE from {start} to {end}: {mape:.1f}\")"
      ]
    },
    {
      "cell_type": "code",
      "execution_count": null,
      "metadata": {
        "id": "Yk5EIb-REHUO",
        "colab": {
          "base_uri": "https://localhost:8080/"
        },
        "outputId": "0474c38b-7f46-421f-f269-3eb99912cdd5"
      },
      "outputs": [
        {
          "output_type": "stream",
          "name": "stdout",
          "text": [
            "Average MAPE: 27.0\n"
          ]
        }
      ],
      "source": [
        "average_mape = np.mean(mape_values)\n",
        "print(f\"Average MAPE: {average_mape:.1f}\")"
      ]
    },
    {
      "cell_type": "markdown",
      "metadata": {
        "id": "lZyMZNGsEHUP"
      },
      "source": [
        "### 3-month prediction\n"
      ]
    },
    {
      "cell_type": "code",
      "execution_count": null,
      "metadata": {
        "id": "IxYpZ3i6EHUP",
        "colab": {
          "base_uri": "https://localhost:8080/"
        },
        "outputId": "0938c2dc-bb62-4de4-e0b7-fd875d742a31"
      },
      "outputs": [
        {
          "output_type": "stream",
          "name": "stdout",
          "text": [
            "MAPE from 2019-01-01 to 2019-07-01: 13.4\n",
            "MAPE from 2019-07-01 to 2020-01-01: 23.2\n",
            "MAPE from 2020-01-01 to 2020-07-01: 19.4\n",
            "MAPE from 2020-07-01 to 2021-01-01: 13.4\n",
            "MAPE from 2021-01-01 to 2021-07-01: 13.9\n",
            "MAPE from 2021-07-01 to 2022-01-01: 24.0\n",
            "MAPE from 2022-01-01 to 2022-07-01: 31.8\n",
            "MAPE from 2022-07-01 to 2023-01-01: 38.9\n",
            "MAPE from 2023-01-01 to 2023-07-01: 37.5\n",
            "MAPE from 2023-07-01 to 2024-01-01: 64.0\n"
          ]
        }
      ],
      "source": [
        "mape_values = []\n",
        "for start, end in test_periods:\n",
        "    mape = calculate_mape_3(start, end, 0.3)\n",
        "    mape_values.append(mape)\n",
        "    print(f\"MAPE from {start} to {end}: {mape:.1f}\")"
      ]
    },
    {
      "cell_type": "code",
      "execution_count": null,
      "metadata": {
        "id": "oJHNl9EPEHUP",
        "colab": {
          "base_uri": "https://localhost:8080/"
        },
        "outputId": "2088fb43-65d7-42a4-98c9-148be674fd79"
      },
      "outputs": [
        {
          "output_type": "stream",
          "name": "stdout",
          "text": [
            "Average MAPE: 27.9\n"
          ]
        }
      ],
      "source": [
        "average_mape = np.mean(mape_values)\n",
        "print(f\"Average MAPE: {average_mape:.1f}\")"
      ]
    },
    {
      "cell_type": "markdown",
      "metadata": {
        "id": "E6jjjGbiEHUP"
      },
      "source": [
        "### 6-month prediction"
      ]
    },
    {
      "cell_type": "code",
      "execution_count": null,
      "metadata": {
        "id": "XsO9CaxTEHUP",
        "colab": {
          "base_uri": "https://localhost:8080/"
        },
        "outputId": "a5f3ea27-3597-44fd-ab68-2d0091e3f021"
      },
      "outputs": [
        {
          "output_type": "stream",
          "name": "stdout",
          "text": [
            "MAPE from 2019-01-01 to 2019-07-01: 15.1\n",
            "MAPE from 2019-07-01 to 2020-01-01: 20.9\n",
            "MAPE from 2020-01-01 to 2020-07-01: 18.6\n",
            "MAPE from 2020-07-01 to 2021-01-01: 13.5\n",
            "MAPE from 2021-01-01 to 2021-07-01: 16.2\n",
            "MAPE from 2021-07-01 to 2022-01-01: 32.6\n",
            "MAPE from 2022-01-01 to 2022-07-01: 41.9\n",
            "MAPE from 2022-07-01 to 2023-01-01: 36.6\n",
            "MAPE from 2023-01-01 to 2023-07-01: 40.6\n",
            "MAPE from 2023-07-01 to 2024-01-01: 65.6\n"
          ]
        }
      ],
      "source": [
        "mape_values = []\n",
        "for start, end in test_periods:\n",
        "    mape = calculate_mape_6(start, end, 0.4)\n",
        "    mape_values.append(mape)\n",
        "    print(f\"MAPE from {start} to {end}: {mape:.1f}\")"
      ]
    },
    {
      "cell_type": "code",
      "execution_count": null,
      "metadata": {
        "id": "JbnOrQ79EHUP",
        "colab": {
          "base_uri": "https://localhost:8080/"
        },
        "outputId": "ceb19ad7-c51b-437b-df36-7d73361e0287"
      },
      "outputs": [
        {
          "output_type": "stream",
          "name": "stdout",
          "text": [
            "Average MAPE: 30.2\n"
          ]
        }
      ],
      "source": [
        "average_mape = np.mean(mape_values)\n",
        "print(f\"Average MAPE: {average_mape:.1f}\")"
      ]
    },
    {
      "cell_type": "markdown",
      "metadata": {
        "id": "jKYrqHofQNyq"
      },
      "source": [
        "## 0017"
      ]
    },
    {
      "cell_type": "code",
      "execution_count": null,
      "metadata": {
        "id": "mOLb8N0jQNyq"
      },
      "outputs": [],
      "source": [
        "feature_df = df_0017"
      ]
    },
    {
      "cell_type": "code",
      "execution_count": null,
      "metadata": {
        "id": "KYkEs8QXKAW9",
        "colab": {
          "base_uri": "https://localhost:8080/"
        },
        "outputId": "cccaed8b-c31c-45e7-a478-2eadb9e97ad2"
      },
      "outputs": [
        {
          "output_type": "stream",
          "name": "stdout",
          "text": [
            "<class 'pandas.core.frame.DataFrame'>\n",
            "Index: 95 entries, 13 to 108\n",
            "Data columns (total 29 columns):\n",
            " #   Column             Non-Null Count  Dtype         \n",
            "---  ------             --------------  -----         \n",
            " 0   Year               95 non-null     int64         \n",
            " 1   Month              95 non-null     int64         \n",
            " 2   Time               95 non-null     datetime64[ns]\n",
            " 3   Group Description  95 non-null     object        \n",
            " 4   Average_price      95 non-null     float64       \n",
            " 5   PPOILUSDM_1        95 non-null     float64       \n",
            " 6   PPOILUSDM_2        95 non-null     float64       \n",
            " 7   PPOILUSDM_3        95 non-null     float64       \n",
            " 8   PPOILUSDM_4        95 non-null     float64       \n",
            " 9   PPOILUSDM_5        95 non-null     float64       \n",
            " 10  PPOILUSDM_6        95 non-null     float64       \n",
            " 11  PPOILUSDM_7        95 non-null     float64       \n",
            " 12  PPOILUSDM_8        95 non-null     float64       \n",
            " 13  PPOILUSDM_9        95 non-null     float64       \n",
            " 14  PPOILUSDM_10       95 non-null     float64       \n",
            " 15  PPOILUSDM_11       95 non-null     float64       \n",
            " 16  PPOILUSDM_12       95 non-null     float64       \n",
            " 17  AR_1               95 non-null     float64       \n",
            " 18  AR_2               95 non-null     float64       \n",
            " 19  AR_3               95 non-null     float64       \n",
            " 20  AR_4               95 non-null     float64       \n",
            " 21  AR_5               95 non-null     float64       \n",
            " 22  AR_6               95 non-null     float64       \n",
            " 23  AR_7               95 non-null     float64       \n",
            " 24  AR_8               95 non-null     float64       \n",
            " 25  AR_9               95 non-null     float64       \n",
            " 26  AR_10              95 non-null     float64       \n",
            " 27  AR_11              95 non-null     float64       \n",
            " 28  AR_12              95 non-null     float64       \n",
            "dtypes: datetime64[ns](1), float64(25), int64(2), object(1)\n",
            "memory usage: 22.3+ KB\n",
            "None\n"
          ]
        }
      ],
      "source": [
        "columns_to_drop = [column for column in feature_df.columns if 'RM' in column]\n",
        "feature_df = feature_df.drop(columns=columns_to_drop)\n",
        "print(feature_df.info())"
      ]
    },
    {
      "cell_type": "markdown",
      "metadata": {
        "id": "LVjWt9bwQNyq"
      },
      "source": [
        "### 1-month prediction"
      ]
    },
    {
      "cell_type": "code",
      "execution_count": null,
      "metadata": {
        "id": "37chElUqQNyq",
        "colab": {
          "base_uri": "https://localhost:8080/"
        },
        "outputId": "6a20467d-b1f4-4895-8463-2110eb2bc250"
      },
      "outputs": [
        {
          "output_type": "stream",
          "name": "stdout",
          "text": [
            "MAPE from 2019-01-01 to 2019-07-01: 3.1\n",
            "MAPE from 2019-07-01 to 2020-01-01: 2.0\n",
            "MAPE from 2020-01-01 to 2020-07-01: 0.5\n",
            "MAPE from 2020-07-01 to 2021-01-01: 2.3\n",
            "MAPE from 2021-01-01 to 2021-07-01: 4.9\n",
            "MAPE from 2021-07-01 to 2022-01-01: 6.0\n",
            "MAPE from 2022-01-01 to 2022-07-01: 8.7\n",
            "MAPE from 2022-07-01 to 2023-01-01: 17.2\n",
            "MAPE from 2023-01-01 to 2023-07-01: 14.0\n",
            "MAPE from 2023-07-01 to 2024-01-01: 4.3\n"
          ]
        }
      ],
      "source": [
        "mape_values = []\n",
        "for start, end in test_periods:\n",
        "    mape = calculate_mape_1(start, end, 0.01)\n",
        "    mape_values.append(mape)\n",
        "    print(f\"MAPE from {start} to {end}: {mape:.1f}\")"
      ]
    },
    {
      "cell_type": "code",
      "execution_count": null,
      "metadata": {
        "id": "fBC-FLe8QNyq",
        "colab": {
          "base_uri": "https://localhost:8080/"
        },
        "outputId": "dfcb0ce6-74e2-427d-caa7-27ca3af890da"
      },
      "outputs": [
        {
          "output_type": "stream",
          "name": "stdout",
          "text": [
            "Average MAPE: 6.3\n"
          ]
        }
      ],
      "source": [
        "average_mape = np.mean(mape_values)\n",
        "print(f\"Average MAPE: {average_mape:.1f}\")"
      ]
    },
    {
      "cell_type": "markdown",
      "metadata": {
        "id": "C_BofCJDQNyr"
      },
      "source": [
        "### 3-month prediction\n"
      ]
    },
    {
      "cell_type": "code",
      "execution_count": null,
      "metadata": {
        "id": "1eOtxaxnQNyr",
        "colab": {
          "base_uri": "https://localhost:8080/"
        },
        "outputId": "6b22b024-685b-4562-daf8-95f589f551ca"
      },
      "outputs": [
        {
          "output_type": "stream",
          "name": "stdout",
          "text": [
            "MAPE from 2019-01-01 to 2019-07-01: 5.6\n",
            "MAPE from 2019-07-01 to 2020-01-01: 5.5\n",
            "MAPE from 2020-01-01 to 2020-07-01: 0.5\n",
            "MAPE from 2020-07-01 to 2021-01-01: 3.7\n",
            "MAPE from 2021-01-01 to 2021-07-01: 6.5\n",
            "MAPE from 2021-07-01 to 2022-01-01: 18.8\n",
            "MAPE from 2022-01-01 to 2022-07-01: 7.5\n",
            "MAPE from 2022-07-01 to 2023-01-01: 28.0\n",
            "MAPE from 2023-01-01 to 2023-07-01: 20.0\n",
            "MAPE from 2023-07-01 to 2024-01-01: 14.4\n"
          ]
        }
      ],
      "source": [
        "mape_values = []\n",
        "for start, end in test_periods:\n",
        "    mape = calculate_mape_3(start, end, 0.01)\n",
        "    mape_values.append(mape)\n",
        "    print(f\"MAPE from {start} to {end}: {mape:.1f}\")"
      ]
    },
    {
      "cell_type": "code",
      "execution_count": null,
      "metadata": {
        "id": "fvZrZkxkQNyr",
        "colab": {
          "base_uri": "https://localhost:8080/"
        },
        "outputId": "99a5080c-9776-4663-b598-0f7261797131"
      },
      "outputs": [
        {
          "output_type": "stream",
          "name": "stdout",
          "text": [
            "Average MAPE: 11.1\n"
          ]
        }
      ],
      "source": [
        "average_mape = np.mean(mape_values)\n",
        "print(f\"Average MAPE: {average_mape:.1f}\")"
      ]
    },
    {
      "cell_type": "markdown",
      "metadata": {
        "id": "YRCby4p8QNyr"
      },
      "source": [
        "### 6-month prediction"
      ]
    },
    {
      "cell_type": "code",
      "execution_count": null,
      "metadata": {
        "id": "uKkgwYDiQNyr",
        "colab": {
          "base_uri": "https://localhost:8080/"
        },
        "outputId": "a3e9f0f6-6801-4d62-c4c0-efc3ab35ed76"
      },
      "outputs": [
        {
          "output_type": "stream",
          "name": "stdout",
          "text": [
            "MAPE from 2019-01-01 to 2019-07-01: 4.2\n",
            "MAPE from 2019-07-01 to 2020-01-01: 7.0\n",
            "MAPE from 2020-01-01 to 2020-07-01: 0.6\n",
            "MAPE from 2020-07-01 to 2021-01-01: 3.6\n",
            "MAPE from 2021-01-01 to 2021-07-01: 8.5\n",
            "MAPE from 2021-07-01 to 2022-01-01: 33.9\n",
            "MAPE from 2022-01-01 to 2022-07-01: 16.8\n",
            "MAPE from 2022-07-01 to 2023-01-01: 31.3\n",
            "MAPE from 2023-01-01 to 2023-07-01: 30.4\n",
            "MAPE from 2023-07-01 to 2024-01-01: 45.1\n"
          ]
        }
      ],
      "source": [
        "mape_values = []\n",
        "for start, end in test_periods:\n",
        "    mape = calculate_mape_6(start, end, 0.01)\n",
        "    mape_values.append(mape)\n",
        "    print(f\"MAPE from {start} to {end}: {mape:.1f}\")"
      ]
    },
    {
      "cell_type": "code",
      "execution_count": null,
      "metadata": {
        "id": "QEihtQNEQNyr",
        "colab": {
          "base_uri": "https://localhost:8080/"
        },
        "outputId": "b7a7fd7e-8993-41dd-d89d-0464145c1f65"
      },
      "outputs": [
        {
          "output_type": "stream",
          "name": "stdout",
          "text": [
            "Average MAPE: 18.1\n"
          ]
        }
      ],
      "source": [
        "average_mape = np.mean(mape_values)\n",
        "print(f\"Average MAPE: {average_mape:.1f}\")"
      ]
    },
    {
      "cell_type": "markdown",
      "metadata": {
        "id": "12b27c9tEHl6"
      },
      "source": [
        "# Fatty acid"
      ]
    },
    {
      "cell_type": "code",
      "execution_count": null,
      "metadata": {
        "id": "Ky-uZLrkEHl6",
        "colab": {
          "base_uri": "https://localhost:8080/"
        },
        "outputId": "e11b38cc-11db-4c31-c1b9-1ec80439942e"
      },
      "outputs": [
        {
          "output_type": "stream",
          "name": "stdout",
          "text": [
            "     RM14/0001  Year  Month       Time Group Description  Average_price  \\\n",
            "14        True  2016      1 2016-01-29        fatty acid       0.650000   \n",
            "15        True  2016      2 2016-02-29        fatty acid       0.749500   \n",
            "16        True  2016      3 2016-03-31        fatty acid       0.904000   \n",
            "17        True  2016      4 2016-04-30        fatty acid       0.980333   \n",
            "18        True  2016      5 2016-05-31        fatty acid       0.939663   \n",
            "..         ...   ...    ...        ...               ...            ...   \n",
            "105       True  2023      8 2023-08-31        fatty acid       1.617296   \n",
            "106       True  2023      9 2023-09-30        fatty acid       1.371400   \n",
            "107       True  2023     10 2023-10-31        fatty acid       1.534868   \n",
            "108       True  2023     11 2023-11-30        fatty acid       1.386338   \n",
            "109       True  2023     12 2023-12-29        fatty acid       1.502477   \n",
            "\n",
            "     PPOILUSDM_1  PPOILUSDM_2  PPOILUSDM_3  PPOILUSDM_4  ...      AR_3  \\\n",
            "14    520.602568   503.163620   530.246640   483.487308  ...  0.846667   \n",
            "15    531.619443   520.602568   503.163620   530.246640  ...  0.650000   \n",
            "16    595.900683   531.619443   520.602568   503.163620  ...  0.650000   \n",
            "17    633.067783   595.900683   531.619443   520.602568  ...  0.650000   \n",
            "18    680.375487   633.067783   595.900683   531.619443  ...  0.749500   \n",
            "..           ...          ...          ...          ...  ...       ...   \n",
            "105   844.977017   769.098477   834.628551   934.809682  ...  1.695752   \n",
            "106   823.608175   844.977017   769.098477   834.628551  ...  1.514747   \n",
            "107   790.712156   823.608175   844.977017   769.098477  ...  1.402889   \n",
            "108   767.481335   790.712156   823.608175   844.977017  ...  1.617296   \n",
            "109   795.987931   767.481335   790.712156   823.608175  ...  1.371400   \n",
            "\n",
            "         AR_4      AR_5      AR_6      AR_7      AR_8      AR_9     AR_10  \\\n",
            "14   0.943333  1.090000  1.140000  1.127500  0.975000  0.910333  0.910333   \n",
            "15   0.846667  0.943333  1.090000  1.140000  1.127500  0.975000  0.910333   \n",
            "16   0.650000  0.846667  0.943333  1.090000  1.140000  1.127500  0.975000   \n",
            "17   0.650000  0.650000  0.846667  0.943333  1.090000  1.140000  1.127500   \n",
            "18   0.650000  0.650000  0.650000  0.846667  0.943333  1.090000  1.140000   \n",
            "..        ...       ...       ...       ...       ...       ...       ...   \n",
            "105  1.738096  1.672948  1.760050  1.922347  2.083766  2.476585  2.387459   \n",
            "106  1.695752  1.738096  1.672948  1.760050  1.922347  2.083766  2.476585   \n",
            "107  1.514747  1.695752  1.738096  1.672948  1.760050  1.922347  2.083766   \n",
            "108  1.402889  1.514747  1.695752  1.738096  1.672948  1.760050  1.922347   \n",
            "109  1.617296  1.402889  1.514747  1.695752  1.738096  1.672948  1.760050   \n",
            "\n",
            "        AR_11     AR_12  \n",
            "14   0.860000  0.917333  \n",
            "15   0.910333  0.860000  \n",
            "16   0.910333  0.910333  \n",
            "17   0.975000  0.910333  \n",
            "18   1.127500  0.975000  \n",
            "..        ...       ...  \n",
            "105  2.363700  2.459529  \n",
            "106  2.387459  2.363700  \n",
            "107  2.476585  2.387459  \n",
            "108  2.083766  2.476585  \n",
            "109  1.922347  2.083766  \n",
            "\n",
            "[96 rows x 30 columns]\n"
          ]
        }
      ],
      "source": [
        "feature_df = pd.read_csv('/content/drive/MyDrive/Colab Notebooks/Thesis/dataframe/fatty acid_feature.csv',index_col=0)\n",
        "feature_df['Time'] = pd.to_datetime(feature_df['Time'])\n",
        "print(feature_df)"
      ]
    },
    {
      "cell_type": "code",
      "execution_count": null,
      "metadata": {
        "id": "Xektv4CpKCjF",
        "colab": {
          "base_uri": "https://localhost:8080/"
        },
        "outputId": "9992096e-1b40-4018-df35-04e3f8287611"
      },
      "outputs": [
        {
          "output_type": "stream",
          "name": "stdout",
          "text": [
            "<class 'pandas.core.frame.DataFrame'>\n",
            "Index: 96 entries, 14 to 109\n",
            "Data columns (total 29 columns):\n",
            " #   Column             Non-Null Count  Dtype         \n",
            "---  ------             --------------  -----         \n",
            " 0   Year               96 non-null     int64         \n",
            " 1   Month              96 non-null     int64         \n",
            " 2   Time               96 non-null     datetime64[ns]\n",
            " 3   Group Description  96 non-null     object        \n",
            " 4   Average_price      96 non-null     float64       \n",
            " 5   PPOILUSDM_1        96 non-null     float64       \n",
            " 6   PPOILUSDM_2        96 non-null     float64       \n",
            " 7   PPOILUSDM_3        96 non-null     float64       \n",
            " 8   PPOILUSDM_4        96 non-null     float64       \n",
            " 9   PPOILUSDM_5        96 non-null     float64       \n",
            " 10  PPOILUSDM_6        96 non-null     float64       \n",
            " 11  PPOILUSDM_7        96 non-null     float64       \n",
            " 12  PPOILUSDM_8        96 non-null     float64       \n",
            " 13  PPOILUSDM_9        96 non-null     float64       \n",
            " 14  PPOILUSDM_10       96 non-null     float64       \n",
            " 15  PPOILUSDM_11       96 non-null     float64       \n",
            " 16  PPOILUSDM_12       96 non-null     float64       \n",
            " 17  AR_1               96 non-null     float64       \n",
            " 18  AR_2               96 non-null     float64       \n",
            " 19  AR_3               96 non-null     float64       \n",
            " 20  AR_4               96 non-null     float64       \n",
            " 21  AR_5               96 non-null     float64       \n",
            " 22  AR_6               96 non-null     float64       \n",
            " 23  AR_7               96 non-null     float64       \n",
            " 24  AR_8               96 non-null     float64       \n",
            " 25  AR_9               96 non-null     float64       \n",
            " 26  AR_10              96 non-null     float64       \n",
            " 27  AR_11              96 non-null     float64       \n",
            " 28  AR_12              96 non-null     float64       \n",
            "dtypes: datetime64[ns](1), float64(25), int64(2), object(1)\n",
            "memory usage: 22.5+ KB\n",
            "None\n"
          ]
        }
      ],
      "source": [
        "columns_to_drop = [column for column in feature_df.columns if 'RM' in column]\n",
        "feature_df = feature_df.drop(columns=columns_to_drop)\n",
        "print(feature_df.info())"
      ]
    },
    {
      "cell_type": "markdown",
      "metadata": {
        "id": "qDFFInUdEHl7"
      },
      "source": [
        "### 1-month prediction"
      ]
    },
    {
      "cell_type": "code",
      "execution_count": null,
      "metadata": {
        "id": "_RYM-UNvEHl7",
        "colab": {
          "base_uri": "https://localhost:8080/"
        },
        "outputId": "96617468-2b75-4a3c-afb5-1eb185d8ae66"
      },
      "outputs": [
        {
          "output_type": "stream",
          "name": "stdout",
          "text": [
            "MAPE from 2019-01-01 to 2019-07-01: 10.3\n",
            "MAPE from 2019-07-01 to 2020-01-01: 14.2\n",
            "MAPE from 2020-01-01 to 2020-07-01: 21.0\n",
            "MAPE from 2020-07-01 to 2021-01-01: 22.6\n",
            "MAPE from 2021-01-01 to 2021-07-01: 7.1\n",
            "MAPE from 2021-07-01 to 2022-01-01: 11.3\n",
            "MAPE from 2022-01-01 to 2022-07-01: 10.3\n",
            "MAPE from 2022-07-01 to 2023-01-01: 8.7\n",
            "MAPE from 2023-01-01 to 2023-07-01: 3.5\n",
            "MAPE from 2023-07-01 to 2024-01-01: 9.2\n"
          ]
        }
      ],
      "source": [
        "mape_values = []\n",
        "for start, end in test_periods:\n",
        "    mape = calculate_mape_1(start, end, 0.1)\n",
        "    mape_values.append(mape)\n",
        "    print(f\"MAPE from {start} to {end}: {mape:.1f}\")"
      ]
    },
    {
      "cell_type": "code",
      "execution_count": null,
      "metadata": {
        "id": "Ku2ilRunEHl7",
        "colab": {
          "base_uri": "https://localhost:8080/"
        },
        "outputId": "6151be3d-bf7a-45e1-a61a-1532dd9a53f9"
      },
      "outputs": [
        {
          "output_type": "stream",
          "name": "stdout",
          "text": [
            "Average MAPE: 11.8\n"
          ]
        }
      ],
      "source": [
        "average_mape = np.mean(mape_values)\n",
        "print(f\"Average MAPE: {average_mape:.1f}\")"
      ]
    },
    {
      "cell_type": "markdown",
      "metadata": {
        "id": "GI_nLYqhEHl7"
      },
      "source": [
        "### 3-month prediction\n"
      ]
    },
    {
      "cell_type": "code",
      "execution_count": null,
      "metadata": {
        "id": "7iKgA80SEHl8",
        "colab": {
          "base_uri": "https://localhost:8080/"
        },
        "outputId": "a5bb34d2-75a6-4398-f8da-af2c2955016e"
      },
      "outputs": [
        {
          "output_type": "stream",
          "name": "stdout",
          "text": [
            "MAPE from 2019-01-01 to 2019-07-01: 11.8\n",
            "MAPE from 2019-07-01 to 2020-01-01: 11.1\n",
            "MAPE from 2020-01-01 to 2020-07-01: 30.1\n",
            "MAPE from 2020-07-01 to 2021-01-01: 23.3\n",
            "MAPE from 2021-01-01 to 2021-07-01: 9.6\n",
            "MAPE from 2021-07-01 to 2022-01-01: 8.5\n",
            "MAPE from 2022-01-01 to 2022-07-01: 15.2\n",
            "MAPE from 2022-07-01 to 2023-01-01: 12.8\n",
            "MAPE from 2023-01-01 to 2023-07-01: 5.3\n",
            "MAPE from 2023-07-01 to 2024-01-01: 7.3\n"
          ]
        }
      ],
      "source": [
        "mape_values = []\n",
        "for start, end in test_periods:\n",
        "    mape = calculate_mape_3(start, end, 0.2)\n",
        "    mape_values.append(mape)\n",
        "    print(f\"MAPE from {start} to {end}: {mape:.1f}\")"
      ]
    },
    {
      "cell_type": "code",
      "execution_count": null,
      "metadata": {
        "id": "8hTIN74zEHl8",
        "colab": {
          "base_uri": "https://localhost:8080/"
        },
        "outputId": "b0e94165-24f9-40da-b135-687a3b3831bd"
      },
      "outputs": [
        {
          "output_type": "stream",
          "name": "stdout",
          "text": [
            "Average MAPE: 13.5\n"
          ]
        }
      ],
      "source": [
        "average_mape = np.mean(mape_values)\n",
        "print(f\"Average MAPE: {average_mape:.1f}\")"
      ]
    },
    {
      "cell_type": "markdown",
      "metadata": {
        "id": "tl1d2CJeEHl8"
      },
      "source": [
        "### 6-month prediction"
      ]
    },
    {
      "cell_type": "code",
      "execution_count": null,
      "metadata": {
        "id": "b0Ubb4TjEHl8",
        "colab": {
          "base_uri": "https://localhost:8080/"
        },
        "outputId": "bff3fcd5-f8eb-428f-fa04-c15180fb7aa3"
      },
      "outputs": [
        {
          "output_type": "stream",
          "name": "stdout",
          "text": [
            "MAPE from 2019-01-01 to 2019-07-01: 19.2\n",
            "MAPE from 2019-07-01 to 2020-01-01: 12.3\n",
            "MAPE from 2020-01-01 to 2020-07-01: 20.5\n",
            "MAPE from 2020-07-01 to 2021-01-01: 29.9\n",
            "MAPE from 2021-01-01 to 2021-07-01: 7.5\n",
            "MAPE from 2021-07-01 to 2022-01-01: 14.5\n",
            "MAPE from 2022-01-01 to 2022-07-01: 13.3\n",
            "MAPE from 2022-07-01 to 2023-01-01: 6.9\n",
            "MAPE from 2023-01-01 to 2023-07-01: 5.5\n",
            "MAPE from 2023-07-01 to 2024-01-01: 8.0\n"
          ]
        }
      ],
      "source": [
        "mape_values = []\n",
        "for start, end in test_periods:\n",
        "    mape = calculate_mape_6(start, end, 0.1)\n",
        "    mape_values.append(mape)\n",
        "    print(f\"MAPE from {start} to {end}: {mape:.1f}\")"
      ]
    },
    {
      "cell_type": "code",
      "execution_count": null,
      "metadata": {
        "id": "JVjv267BEHl8",
        "colab": {
          "base_uri": "https://localhost:8080/"
        },
        "outputId": "9159a098-308a-431a-cbad-3af49d80d9f2"
      },
      "outputs": [
        {
          "output_type": "stream",
          "name": "stdout",
          "text": [
            "Average MAPE: 13.8\n"
          ]
        }
      ],
      "source": [
        "average_mape = np.mean(mape_values)\n",
        "print(f\"Average MAPE: {average_mape:.1f}\")"
      ]
    }
  ],
  "metadata": {
    "colab": {
      "toc_visible": true,
      "provenance": [],
      "authorship_tag": "ABX9TyModCmBRwiYOK6MMdqMkdcu",
      "include_colab_link": true
    },
    "kernelspec": {
      "display_name": "Python 3",
      "name": "python3"
    },
    "language_info": {
      "name": "python"
    }
  },
  "nbformat": 4,
  "nbformat_minor": 0
}